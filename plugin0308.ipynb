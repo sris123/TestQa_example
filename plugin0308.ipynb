{
 "cells": [
  {
   "cell_type": "code",
   "execution_count": 5,
   "id": "b2b8819f-7de8-4cb5-8758-c14cd156bc71",
   "metadata": {
    "tags": [
     "o9_ignore"
    ]
   },
   "outputs": [
    {
     "data": {
      "text/plain": [
       "{'sp1': '2', 'sp2': '3'}"
      ]
     },
     "execution_count": 5,
     "metadata": {},
     "output_type": "execute_result"
    }
   ],
   "source": [
    "from o9_common_utils.O9DataLake import O9DataLake, ResourceType, DataSource, PluginSetting\n",
    "query1 = \"Select ([Version].[Version Name] ) on row, (Product.[Product]) on column LIMIT 20;\"\n",
    "inp1 = O9DataLake.register(\"sales_df\",DataSource.LS,PluginSetting.Inputs, ResourceType.IBPL, query1)\n",
    "O9DataLake.register({\"sp1\":'2'}, DataSource.LS,PluginSetting.ScriptParam)\n",
    "O9DataLake.register({\"sp2\":\"3\"}, DataSource.LS,PluginSetting.ScriptParam)"
   ]
  },
  {
   "cell_type": "code",
   "execution_count": 6,
   "id": "99a12546-ee05-49da-9a27-35354c446a1d",
   "metadata": {},
   "outputs": [],
   "source": [
    "inp3 = O9DataLake.get(\"sales_df\")"
   ]
  },
  {
   "cell_type": "code",
   "execution_count": 7,
   "id": "e1c1399e-97c0-4826-b94b-747c9a6f60d4",
   "metadata": {},
   "outputs": [],
   "source": [
    "#user script\n",
    "import logging\n",
    "out_df1 = None\n",
    "logger = logging.getLogger('o9_logger')\n",
    "logger.info(f'Records count in sales dataframe : {inp1.shape}')"
   ]
  },
  {
   "cell_type": "code",
   "execution_count": 8,
   "id": "ee46ee22-69e1-41f8-9dd9-390ff506d5bc",
   "metadata": {},
   "outputs": [
    {
     "name": "stdout",
     "output_type": "stream",
     "text": [
      "2023-08-03 10:45:05.222539: LiveServer : Failed to parse file. Cannot parse the header row.\n",
      "2023-08-03 10:45:05.222577: LiveServer : Header:[System.String[]]\n",
      "2023-08-03 10:45:05.222587: LiveServer : Index was outside the bounds of the array.\n",
      "2023-08-03 10:45:05.222595: LiveServer :    at o9.GraphCube.olap.procedures.fileupload.FactBaseParser.ExtractFactMetadata(String[] columns, List`1& dimAttrProperties) in D:\\Jenkins\\jobs\\o9AzureLiveServerCompileNet6\\workspaceRelease\\o9.Platform\\LiveServer\\Server\\o9.GraphCube\\olap\\procedures\\fileupload\\FactBaseParser.cs:line 130\n",
      "   at o9.GraphCube.olap.procedures.fileupload.FactDSVParser.Parse() in D:\\Jenkins\\jobs\\o9AzureLiveServerCompileNet6\\workspaceRelease\\o9.Platform\\LiveServer\\Server\\o9.GraphCube\\olap\\procedures\\fileupload\\FactDSVParser.cs:line 51\n"
     ]
    }
   ],
   "source": [
    "#pushing outputs to DataLake\n",
    "O9DataLake.put('out_df1', inp3)\n",
    "logger.info('hw')"
   ]
  },
  {
   "cell_type": "code",
   "execution_count": null,
   "id": "d8445067-621c-4f95-98c1-73c126dc2d29",
   "metadata": {
    "tags": [
     "o9_ignore"
    ]
   },
   "outputs": [],
   "source": []
  }
 ],
 "metadata": {
  "kernelspec": {
   "display_name": "[pyplatformhivetestsrishti] Tenant Conda Environment",
   "language": "python",
   "name": "genieaz_pyplatformhivetestsrishti"
  },
  "language_info": {
   "codemirror_mode": {
    "name": "ipython",
    "version": 3
   },
   "file_extension": ".py",
   "mimetype": "text/x-python",
   "name": "python",
   "nbconvert_exporter": "python",
   "pygments_lexer": "ipython3",
   "version": "3.7.10"
  }
 },
 "nbformat": 4,
 "nbformat_minor": 5
}
