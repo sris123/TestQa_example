{
  "cells": [
    {
      "cell_type": "code",
      "execution_count": 2,
      "id": "e800b8d2-d8b6-414f-96c4-7df0579cc6ea",
      "metadata": {},
      "outputs": [],
      "source": [
        "_sales = \"select ([WalmartTime].[Day] * [Version].[Version Name].[CurrentWorkingView]  * [Department].[Department_ID] * [Store].[Store_ID] * {Measure.[Weekly Sales]}); \"\n",
        "_features = \"select( [WalmartTime].[Day] * [Version].[Version Name].[CurrentWorkingView] * [Store].[Store_ID] * { Measure.[Temperature], Measure.[Fuel Price], Measure.[MarkDown1] , Measure.[MarkDown2], Measure.[MarkDown3], Measure.[MarkDown4] , Measure.[MarkDown5] , Measure.[CPI] , Measure.[Unemployment]});\"\n",
        "_stores = \"select([Store].[Store_ID] *[Store].[Type] *[Store].[Size]);\"\n",
        "\n",
        "\n",
        "# Initialize the O9DataLake with the input parameters and dataframes\n",
        "# Data can be accessed with O9DataLake.get(<Input Name>)\n",
        "# Overwritten values will not be reflected in the O9DataLake after initialization\n",
        "\n",
        "from o9_common_utils.O9DataLake import O9DataLake, ResourceType, DataSource,PluginSetting\n",
        "sales = O9DataLake.register(\"sales\",data_source = DataSource.LS, entity_type = ResourceType.IBPL, query = _sales,plugin_setting = PluginSetting.Inputs)\n",
        "features = O9DataLake.register(\"features\",data_source = DataSource.LS, entity_type = ResourceType.IBPL, query = _features,plugin_setting = PluginSetting.Inputs)\n",
        "stores = O9DataLake.register(\"stores\",data_source = DataSource.LS, entity_type = ResourceType.IBPL, query = _stores,plugin_setting = PluginSetting.Inputs)\n",
        "\n",
        "O9DataLake.register(\"PredictedSales\",data_source = DataSource.LS,entity_type = ResourceType.IBPL,plugin_setting = PluginSetting.Outputs)\n",
        "script_params = O9DataLake.register({}, data_source = DataSource.LS,plugin_setting = PluginSetting.ScriptParam)"
      ]
    },
    {
      "cell_type": "code",
      "execution_count": null,
      "id": "58ce18c3-d387-4991-9201-d3f4d769ff11",
      "metadata": {},
      "outputs": [],
      "source": []
    }
  ],
  "metadata": {
    "kernelspec": {
      "display_name": "[psrtest1] Tenant Conda Environment",
      "language": "python",
      "name": "sandbox_psrtest1"
    },
    "language_info": {
      "codemirror_mode": {
        "name": "ipython",
        "version": 3
      },
      "file_extension": ".py",
      "mimetype": "text/x-python",
      "name": "python",
      "nbconvert_exporter": "python",
      "pygments_lexer": "ipython3",
      "version": "3.10.5"
    },
    "id": "68b60d47-57b2-4dca-a30f-0507e73bd97f"
  },
  "nbformat": 4,
  "nbformat_minor": 5
}