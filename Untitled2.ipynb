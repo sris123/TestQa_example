{
 "cells": [
  {
   "cell_type": "code",
   "execution_count": 4,
   "id": "2ec0884d-15bf-4edc-af8a-2e4364eb794a",
   "metadata": {},
   "outputs": [],
   "source": [
    "_DPBaseInputs = \"select (Version.[Version Name]*Product.[Product].Filter(#.Name in {[196426],[208821]})*Time.FiscalWeek*SalesAccount.[Account]*Location.[Location]*{Measure.[DPSellOutUnitsActuals],Measure.[Mean Pricing Save PCT],Measure.[Placement Count],Measure.[Promotion Count],Measure.[DPSellOutPrice]});\"\n",
    "\n",
    "from o9_common_utils.O9DataLake import O9DataLake, ResourceType, DataSource,PluginSetting\n",
    "\n",
    "DPBaseInputs = O9DataLake.register(\"DPBaseInputs\",data_source = DataSource.LS, entity_type = ResourceType.IBPL, query = _DPBaseInputs,plugin_setting = PluginSetting.Inputs)\n",
    "O9DataLake.register(\"Product.[Product]\", data_source = DataSource.LS, entity_type = ResourceType.IBPL,plugin_setting = PluginSetting.SliceDimension)\n",
    "\n",
    "O9DataLake.register(\"out_df\",data_source = DataSource.LS,entity_type = ResourceType.IBPL,plugin_setting = PluginSetting.Outputs)"
   ]
  },
  {
   "cell_type": "code",
   "execution_count": null,
   "id": "6fa34fb9-3256-46e3-ae07-9452cd14fda1",
   "metadata": {},
   "outputs": [],
   "source": []
  }
 ],
 "metadata": {
  "kernelspec": {
   "display_name": "[pyplatformhivetest] Tenant Conda Environment",
   "language": "python",
   "name": "k8qa_pyplatformhivetest"
  },
  "language_info": {
   "codemirror_mode": {
    "name": "ipython",
    "version": 3
   },
   "file_extension": ".py",
   "mimetype": "text/x-python",
   "name": "python",
   "nbconvert_exporter": "python",
   "pygments_lexer": "ipython3",
   "version": "3.7.10"
  }
 },
 "nbformat": 4,
 "nbformat_minor": 5
}
