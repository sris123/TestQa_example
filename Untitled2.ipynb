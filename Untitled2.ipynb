{
  "cells": [],
  "metadata": {
    "id": "a105000c-dc68-408c-914c-e947584c5502"
  },
  "nbformat": 4,
  "nbformat_minor": 5
}