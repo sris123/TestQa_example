{
 "cells": [
  {
   "cell_type": "code",
   "execution_count": 27,
   "id": "d2d62fd0-8c46-4f3d-b29d-7bf2db155da6",
   "metadata": {},
   "outputs": [],
   "source": [
    "\n",
    "# Initialize the O9DataLake with the input parameters and dataframes\n",
    "# Data can be accessed with O9DataLake.get(<Input Name>)\n",
    "# Overwritten values will not be reflected in the O9DataLake after initialization\n",
    "\n",
    "# In the below statement is an IBPL query to fetch sta from the LS\n",
    "query1 = \"select (Version.[Version Name]);\"\n",
    "query2 = \"select (Version.[Version Name]);\"\n",
    "\n",
    "# Below statement allows you to import the package required to utilize O9DataLake\n",
    "from o9_common_utils.O9DataLake import O9DataLake, ResourceType, DataSource,PluginSetting\n",
    "\n",
    "# Below statement is an example to use the register() function in O9DataLake when you want to fetch data using IBPL from Live Server.\n",
    "input1 = O9DataLake.register(\"input1\",data_source = DataSource.LS, entity_type = ResourceType.IBPL, query = query1, plugin_setting = PluginSetting.Inputs)\n",
    "\n",
    "# Below statement is an example to use the register() function in O9DataLake when you want to fetch data using LiveFrames.\n",
    "input2 = O9DataLake.register(\"input2\",data_source = DataSource.LIVEFRAME, entity_type = ResourceType.LIVEFRAME, query = query2, plugin_setting = PluginSetting.Inputs)\n",
    "\n",
    "# Below statement is an example to use the register() function in O9DataLake and register Slice Dimensions for your plugin\n",
    "O9DataLake.register(\"Version.[Version Name]\", data_source = DataSource.LS, entity_type = ResourceType.IBPL, plugin_setting = PluginSetting.SliceDimension)\n",
    "\n",
    "# Below statement is an example to use the register() function in O9DataLake and register the Output Measure group for your plugin\n",
    "O9DataLake.register(\"output1\",data_source = DataSource.LS,entity_type = ResourceType.IBPL, plugin_setting = PluginSetting.Outputs)\n",
    "O9DataLake.register(\"output2\",data_source = DataSource.LS,entity_type = ResourceType.IBPL, plugin_setting = PluginSetting.Outputs)\n",
    "\n",
    "# Below statement is an example to use the register() function in O9DataLake and register the Script Params for your plugin\n",
    "script_params = O9DataLake.register({\"var1\":\"10\",\"var2\":\"50\"}, data_source = DataSource.LS, plugin_setting = PluginSetting.ScriptParam)\n",
    "    "
   ]
  },
  {
   "cell_type": "code",
   "execution_count": 28,
   "id": "a6c124fc-e222-4ccc-a0d5-19d13c593be9",
   "metadata": {},
   "outputs": [
    {
     "data": {
      "text/plain": [
       "{'var1': '10', 'var2': '50'}"
      ]
     },
     "execution_count": 28,
     "metadata": {},
     "output_type": "execute_result"
    }
   ],
   "source": [
    "O9DataLake.get_script_params()"
   ]
  },
  {
   "cell_type": "code",
   "execution_count": null,
   "id": "d0efaef7-ce48-4ff6-9262-1795fecb807c",
   "metadata": {},
   "outputs": [],
   "source": []
  }
 ],
 "metadata": {
  "id": "64bddf8a-c476-4a3e-ba5b-8c81c20aa3cc",
  "kernelspec": {
   "display_name": "[pyplatformhivetest] Tenant Conda Environment",
   "language": "python",
   "name": "genieaz_pyplatformhivetest"
  },
  "language_info": {
   "codemirror_mode": {
    "name": "ipython",
    "version": 3
   },
   "file_extension": ".py",
   "mimetype": "text/x-python",
   "name": "python",
   "nbconvert_exporter": "python",
   "pygments_lexer": "ipython3",
   "version": "3.10.5"
  }
 },
 "nbformat": 4,
 "nbformat_minor": 5
}
