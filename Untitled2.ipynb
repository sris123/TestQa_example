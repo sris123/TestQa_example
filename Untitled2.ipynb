{
  "cells": [
    {
      "cell_type": "code",
      "execution_count": null,
      "id": "d2d62fd0-8c46-4f3d-b29d-7bf2db155da6",
      "metadata": {},
      "outputs": [],
      "source": [
        "\n",
        "# Initialize the O9DataLake with the input parameters and dataframes\n",
        "# Data can be accessed with O9DataLake.get(<Input Name>)\n",
        "# Overwritten values will not be reflected in the O9DataLake after initialization\n",
        "\n",
        "# In the below statement is an IBPL query to fetch sta from the LS\n",
        "query1 = \"select (Version.[Version Name]);\"\n",
        "query2 = \"select (Version.[Version Name]);\"\n",
        "\n",
        "# Below statement allows you to import the package required to utilize O9DataLake\n",
        "from o9_common_utils.O9DataLake import O9DataLake, ResourceType, DataSource,PluginSetting\n",
        "\n",
        "# Below statement is an example to use the register() function in O9DataLake when you want to fetch data using IBPL from Live Server.\n",
        "input1 = O9DataLake.register(\"input1\",data_source = DataSource.LS, entity_type = ResourceType.IBPL, query = query1, plugin_setting = PluginSetting.Inputs)\n",
        "\n",
        "# Below statement is an example to use the register() function in O9DataLake when you want to fetch data using LiveFrames.\n",
        "input2 = O9DataLake.register(\"input2\",data_source = DataSource.LIVEFRAME, entity_type = ResourceType.LIVEFRAME, query = query2, plugin_setting = PluginSetting.Inputs)\n",
        "\n",
        "# Below statement is an example to use the register() function in O9DataLake and register Slice Dimensions for your plugin\n",
        "O9DataLake.register(\"Version.[Version Name]\", data_source = DataSource.LS, entity_type = ResourceType.IBPL, plugin_setting = PluginSetting.SliceDimension)\n",
        "\n",
        "# Below statement is an example to use the register() function in O9DataLake and register the Output Measure group for your plugin\n",
        "O9DataLake.register(\"output1\",data_source = DataSource.LS,entity_type = ResourceType.IBPL, plugin_setting = PluginSetting.Outputs)\n",
        "O9DataLake.register(\"output2\",data_source = DataSource.LS,entity_type = ResourceType.IBPL, plugin_setting = PluginSetting.Outputs)\n",
        "\n",
        "# Below statement is an example to use the register() function in O9DataLake and register the Script Params for your plugin\n",
        "script_params = O9DataLake.register({\"var1\":\"10\"}, data_source = DataSource.LS, plugin_setting = PluginSetting.ScriptParam)\n",
        "    "
      ]
    },
    {
      "cell_type": "code",
      "execution_count": null,
      "id": "a6c124fc-e222-4ccc-a0d5-19d13c593be9",
      "metadata": {},
      "outputs": [],
      "source": []
    },
    {
      "cell_type": "code",
      "execution_count": 7,
      "id": "83c3e44e-dc7a-4ffc-babd-2d8323fb8812",
      "metadata": {},
      "outputs": [
        {
          "data": {
            "application/vnd.jupyter.widget-view+json": {
              "model_id": "2679fe5814f44558a924f3923dca2e14",
              "version_major": 2,
              "version_minor": 0
            },
            "text/plain": [
              "FloatProgress(value=0.0, bar_style='info', description='Progress:', layout=Layout(height='25px', width='50%'),\u2026"
            ]
          },
          "metadata": {},
          "output_type": "display_data"
        },
        {
          "name": "stdout",
          "output_type": "stream",
          "text": [
            "+-------------+\n",
            "|    namespace|\n",
            "+-------------+\n",
            "|      default|\n",
            "|    nifidelta|\n",
            "|  schema_7348|\n",
            "|  schema_7682|\n",
            "|  schema_7704|\n",
            "|  schema_7705|\n",
            "|  schema_8633|\n",
            "|  schema_8639|\n",
            "|  schema_8787|\n",
            "|  schema_8807|\n",
            "|schemagetnifi|\n",
            "|   schemanifi|\n",
            "+-------------+"
          ]
        }
      ],
      "source": [
        "spark.sql('show databases').show()"
      ]
    },
    {
      "cell_type": "code",
      "execution_count": 12,
      "id": "da7591f3-bdc4-48c8-97de-d18ec606504c",
      "metadata": {},
      "outputs": [
        {
          "data": {
            "application/vnd.jupyter.widget-view+json": {
              "model_id": "01ae787ecf5946278fb44985869941e9",
              "version_major": 2,
              "version_minor": 0
            },
            "text/plain": [
              "FloatProgress(value=0.0, bar_style='info', description='Progress:', layout=Layout(height='25px', width='50%'),\u2026"
            ]
          },
          "metadata": {},
          "output_type": "display_data"
        },
        {
          "name": "stdout",
          "output_type": "stream",
          "text": [
            "+-----------+--------------------+-----------+\n",
            "|  namespace|           tableName|isTemporary|\n",
            "+-----------+--------------------+-----------+\n",
            "|schema_8787|  dimdepartment_hive|      false|\n",
            "|schema_8787|          dimversion|      false|\n",
            "|schema_8787| dimwalmarttime_hive|      false|\n",
            "|schema_8787|     facthiveouputmg|      false|\n",
            "|schema_8787|factplanningmeasu...|      false|\n",
            "|schema_8787|factsalesmeasures...|      false|\n",
            "+-----------+--------------------+-----------+"
          ]
        }
      ],
      "source": [
        "spark.sql('show tables in schema_8787').show()"
      ]
    },
    {
      "cell_type": "code",
      "execution_count": 13,
      "id": "6ed27c0b-f338-46f5-86b5-263514f8d61f",
      "metadata": {},
      "outputs": [
        {
          "data": {
            "application/vnd.jupyter.widget-view+json": {
              "model_id": "ed43c44daff04742b79ed13de250a05d",
              "version_major": 2,
              "version_minor": 0
            },
            "text/plain": [
              "FloatProgress(value=0.0, bar_style='info', description='Progress:', layout=Layout(height='25px', width='50%'),\u2026"
            ]
          },
          "metadata": {},
          "output_type": "display_data"
        },
        {
          "name": "stdout",
          "output_type": "stream",
          "text": [
            "+-------------------+------------------+-------------+----------+\n",
            "|walmarttime_hivekey|department_hivekey|hiveopmeasure|versionkey|\n",
            "+-------------------+------------------+-------------+----------+\n",
            "|2010-12-17 00:00:00|                 1|          3.0|         0|\n",
            "|2012-05-25 00:00:00|                 1|          3.0|         0|\n",
            "+-------------------+------------------+-------------+----------+"
          ]
        }
      ],
      "source": [
        "spark.sql('select * from schema_8807.facthiveouputmg limit 2').show()"
      ]
    },
    {
      "cell_type": "code",
      "execution_count": 14,
      "id": "32e3bef1-8325-4667-aa23-877725bdceb1",
      "metadata": {},
      "outputs": [
        {
          "data": {
            "application/vnd.jupyter.widget-view+json": {
              "model_id": "1d232fda8a854406bbd28297ebbdd76d",
              "version_major": 2,
              "version_minor": 0
            },
            "text/plain": [
              "FloatProgress(value=0.0, bar_style='info', description='Progress:', layout=Layout(height='25px', width='50%'),\u2026"
            ]
          },
          "metadata": {},
          "output_type": "display_data"
        }
      ],
      "source": [
        "dptable = spark.sql('select * from schema_7682.factdpbaseinputs limit 2')"
      ]
    },
    {
      "cell_type": "code",
      "execution_count": 15,
      "id": "ccf20a00-d22e-4d50-afca-cede440e9d46",
      "metadata": {},
      "outputs": [
        {
          "data": {
            "application/vnd.jupyter.widget-view+json": {
              "model_id": "22d57f4f41bc424ca4a2e84979faf6a8",
              "version_major": 2,
              "version_minor": 0
            },
            "text/plain": [
              "FloatProgress(value=0.0, bar_style='info', description='Progress:', layout=Layout(height='25px', width='50%'),\u2026"
            ]
          },
          "metadata": {},
          "output_type": "display_data"
        },
        {
          "name": "stdout",
          "output_type": "stream",
          "text": [
            "2"
          ]
        }
      ],
      "source": [
        "dptable.count()"
      ]
    },
    {
      "cell_type": "code",
      "execution_count": 16,
      "id": "4a40a9dd-d7f5-4f85-9fd4-e919977cacc0",
      "metadata": {},
      "outputs": [
        {
          "data": {
            "application/vnd.jupyter.widget-view+json": {
              "model_id": "45981ea5a57645eaa079e3ed23ce6ce2",
              "version_major": 2,
              "version_minor": 0
            },
            "text/plain": [
              "FloatProgress(value=0.0, bar_style='info', description='Progress:', layout=Layout(height='25px', width='50%'),\u2026"
            ]
          },
          "metadata": {},
          "output_type": "display_data"
        },
        {
          "name": "stdout",
          "output_type": "stream",
          "text": [
            "DataFrame[locationkey: int, productkey: int, salesaccountkey: int, timekey: timestamp, dpselloutunitsfcst: double, meanflyerspaceactualpct: double, commonflyerslotnum: double, commonflyershowind: string, dpsellinunitslyactuals: double, dpselloutunitsfcstr: double, dpsellinunitsfcst: double, dpselloutunitslyactuals: double, inputpicklist: string, placementcount: double, placementflag: double, dpselloutprice: double, commonflyerpagenum: double, dpselloutunitsactuals: double, commonflyerslotprioritynm: string, dpselloutaountactuals: double, meanpricingpromoregularnatlamt: double, promocount: double, meanpricingretailregularnatlamt: double, dpsellinunitslcforecast: double, commonflyerslotprogramnm: string, dpsellinunitsactuals: double, meanpricingsavepct: double, outputpicklist: string, dpselloutunitsfcstpy: double, promotionflag: double, versionkey: int]"
          ]
        }
      ],
      "source": [
        "spark.sql('select * from schema_7682.factdpbaseinputs limit 2')"
      ]
    },
    {
      "cell_type": "code",
      "execution_count": null,
      "id": "b717ed9b-6728-4efc-9d58-8291d3203085",
      "metadata": {},
      "outputs": [],
      "source": []
    }
  ],
  "metadata": {
    "kernelspec": {
      "display_name": "[pyplatformhivetest] Tenant Conda Environment",
      "language": "python",
      "name": "genieaz_pyplatformhivetest"
    },
    "language_info": {
      "codemirror_mode": {
        "name": "ipython",
        "version": 3
      },
      "file_extension": ".py",
      "mimetype": "text/x-python",
      "name": "python",
      "nbconvert_exporter": "python",
      "pygments_lexer": "ipython3",
      "version": "3.10.5"
    },
    "id": "64bddf8a-c476-4a3e-ba5b-8c81c20aa3cc"
  },
  "nbformat": 4,
  "nbformat_minor": 5
}