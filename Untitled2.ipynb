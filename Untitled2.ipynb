{
  "cells": [],
  "metadata": {
    "id": "8715223f-5d5e-448e-84b9-07bcca9de759"
  },
  "nbformat": 4,
  "nbformat_minor": 5
}