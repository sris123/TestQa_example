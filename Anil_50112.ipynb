{
  "cells": [
    {
      "cell_type": "code",
      "execution_count": null,
      "id": "b939ed3c-0ea9-4edc-a16b-d66fae54e544",
      "metadata": {},
      "outputs": [],
      "source": []
    }
  ],
  "metadata": {
    "kernelspec": {
      "display_name": "[AutoDSML2] Tenant Conda Environment",
      "language": "python",
      "name": "qa_autodsml2"
    },
    "language_info": {
      "codemirror_mode": {
        "name": "ipython",
        "version": 3
      },
      "file_extension": ".py",
      "mimetype": "text/x-python",
      "name": "python",
      "nbconvert_exporter": "python",
      "pygments_lexer": "ipython3",
      "version": "3.7.10"
    },
    "id": "0af60d0c-ca7b-4642-a6b2-38d398a450f9"
  },
  "nbformat": 4,
  "nbformat_minor": 5
}