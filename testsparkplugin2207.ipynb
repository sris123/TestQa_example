{
 "cells": [
  {
   "cell_type": "code",
   "execution_count": 2,
   "id": "999125da-26cd-473d-95b9-c6dcceeefb20",
   "metadata": {},
   "outputs": [
    {
     "data": {
      "application/vnd.jupyter.widget-view+json": {
       "model_id": "",
       "version_major": 2,
       "version_minor": 0
      },
      "text/plain": [
       "FloatProgress(value=0.0, bar_style='info', description='Progress:', layout=Layout(height='25px', width='50%'),…"
      ]
     },
     "metadata": {},
     "output_type": "display_data"
    },
    {
     "name": "stdout",
     "output_type": "stream",
     "text": [
      "DataFrame[VersionVersionName: string, ProductProduct: string, TimeFiscalWeek: string, SalesAccountAccount: string, LocationLocation: string, DPSellOutUnitsActuals: float, MeanPricingSavePCT: float, PlacementCount: float, PromotionCount: float, DPSellOutPrice: float]"
     ]
    }
   ],
   "source": [
    "# Slice Dimension Attributes defined in the plugin. Please check all queries and replace <KEY HERE> with a valid name.\n",
    "# For example: If slice is defined by Version.[Version Name] and Time.[Month]\n",
    "# input_df = ibpl Select ([Version].[Version Name].[<KEY HERE>] * [Time].[Month].[<KEY HERE>] * [Item].[Item Number]) on row, ({Measure.[M1], Measure.[M2]}) on column limit 5000;\n",
    "#                             update <KEY HERE> to valid names\n",
    "# input_df = ibpl Select ([Version].[Version Name].[CurrentWorkingView] * [Time].[Month].[January] * [Item].[Item Number]) on row, ({Measure.[M1], Measure.[M2]}) on column limit 5000;\n",
    "\n",
    "_DPBaseInputs = \"select (Version.[Version Name]*Product.[Product].[196426]*Time.FiscalWeek*SalesAccount.[Account]*Location.[Location]*{Measure.[DPSellOutUnitsActuals],Measure.[Mean Pricing Save PCT],Measure.[Placement Count],Measure.[Promotion Count],Measure.[DPSellOutPrice]});\"\n",
    "_sales_df = \"select (Version.[Version Name]*Product.[Product].[196426]*Time.FiscalWeek*SalesAccount.[Account]*Location.[Location]*{Measure.[DPSellOutUnitsActuals],Measure.[Mean Pricing Save PCT],Measure.[Placement Count],Measure.[Promotion Count],Measure.[DPSellOutPrice]});\"\n",
    "\n",
    "\n",
    "# Initialize the O9DataLake with the input parameters and dataframes\n",
    "# Data can be accessed with O9DataLake.get(<Input Name>)\n",
    "# Overwritten values will not be reflected in the O9DataLake after initialization\n",
    "\n",
    "from o9_common_utils.O9DataLake import O9DataLake, ResourceType, DataSource\n",
    "O9DataLake.register(\"DPBaseInputs\",DataSource.LS, ResourceType.IBPL, _DPBaseInputs, sparkInput=True, spark_session=spark)\n",
    "O9DataLake.register(\"sales_df\",DataSource.LS, ResourceType.IBPL, _sales_df, sparkInput=True, spark_session=spark)"
   ]
  },
  {
   "cell_type": "code",
   "execution_count": 3,
   "id": "b3ccf628-3ff9-4f72-bcbb-c03b6cbc086e",
   "metadata": {},
   "outputs": [
    {
     "data": {
      "application/vnd.jupyter.widget-view+json": {
       "model_id": "",
       "version_major": 2,
       "version_minor": 0
      },
      "text/plain": [
       "FloatProgress(value=0.0, bar_style='info', description='Progress:', layout=Layout(height='25px', width='50%'),…"
      ]
     },
     "metadata": {},
     "output_type": "display_data"
    }
   ],
   "source": [
    "#getting inputs from DataLake\n",
    "sales = O9DataLake.get('sales_df')\n",
    "dpbaseinputs = O9DataLake.get('DPBaseInputs')"
   ]
  },
  {
   "cell_type": "code",
   "execution_count": 19,
   "id": "af71e226-4ed9-4965-ad93-3910339143ec",
   "metadata": {},
   "outputs": [
    {
     "name": "stdout",
     "output_type": "stream",
     "text": [
      "Hello\n"
     ]
    }
   ],
   "source": [
    "#user script\n",
    "import logging\n",
    "out_df1 = None\n",
    "logger = logging.getLogger('o9_logger')\n",
    "print(\"Hello\")"
   ]
  },
  {
   "cell_type": "code",
   "execution_count": 5,
   "id": "23644897-eca9-453c-ab04-dc32d63d0596",
   "metadata": {},
   "outputs": [
    {
     "data": {
      "application/vnd.jupyter.widget-view+json": {
       "model_id": "",
       "version_major": 2,
       "version_minor": 0
      },
      "text/plain": [
       "FloatProgress(value=0.0, bar_style='info', description='Progress:', layout=Layout(height='25px', width='50%'),…"
      ]
     },
     "metadata": {},
     "output_type": "display_data"
    },
    {
     "name": "stdout",
     "output_type": "stream",
     "text": [
      "2023-07-22 13:21:36.361415: LiveServer : Failed to parse file. Cannot parse the header row.\n",
      "2023-07-22 13:21:36.361442: LiveServer : Header:[System.String[]]\n",
      "2023-07-22 13:21:36.361447: LiveServer : Measure [DPSellOutUnitsActuals] is not setup for spreading\n",
      "2023-07-22 13:21:36.361451: LiveServer :    at o9.GraphCube.olap.procedures.fileupload.FactBaseParser.ValidateHeader() in D:\\Jenkins\\jobs\\o9AzureLiveServerCompileNet6\\workspaceRelease\\o9.Platform\\LiveServer\\Server\\o9.GraphCube\\olap\\procedures\\fileupload\\FactBaseParser.cs:line 793\n",
      "   at o9.GraphCube.olap.procedures.fileupload.FactDSVParser.Parse() in D:\\Jenkins\\jobs\\o9AzureLiveServerCompileNet6\\workspaceRelease\\o9.Platform\\LiveServer\\Server\\o9.GraphCube\\olap\\procedures\\fileupload\\FactDSVParser.cs:line 54"
     ]
    }
   ],
   "source": [
    "#pushing outputs to DataLake\n",
    "O9DataLake.put('out_df1', sales)"
   ]
  },
  {
   "cell_type": "code",
   "execution_count": null,
   "id": "62cc15fd-7e87-4cf3-a4da-f963386d8b71",
   "metadata": {},
   "outputs": [],
   "source": []
  }
 ],
 "metadata": {
  "kernelspec": {
   "display_name": "[pyplatformhivetestsrishti] Tenant Conda Environment",
   "language": "python",
   "name": "genieaz_pyplatformhivetestsrishti"
  },
  "language_info": {
   "codemirror_mode": {
    "name": "ipython",
    "version": 3
   },
   "file_extension": ".py",
   "mimetype": "text/x-python",
   "name": "python",
   "nbconvert_exporter": "python",
   "pygments_lexer": "ipython3",
   "version": "3.7.10"
  }
 },
 "nbformat": 4,
 "nbformat_minor": 5
}
