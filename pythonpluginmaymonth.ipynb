{
 "cells": [
  {
   "cell_type": "code",
   "execution_count": 8,
   "id": "87934232-7903-42cb-bbdc-31a90ce2fe10",
   "metadata": {},
   "outputs": [],
   "source": [
    "_predict_df = \"select (Version.[Version Name]*Product.[Product].[196426]*Time.FiscalWeek*SalesAccount.[Account]*Location.[Location]*{Measure.[DPSellOutUnitsActuals],Measure.[Mean Pricing Save PCT],Measure.[Placement Count],Measure.[Promotion Count],Measure.[DPSellOutPrice]});\"\n",
    "\n",
    "from o9_common_utils.O9DataLake import O9DataLake, ResourceType, DataSource,PluginSetting\n",
    "\n",
    "# register inputs\n",
    "predict_df = O9DataLake.register(\"predict_df\",data_source = DataSource.LS, entity_type = ResourceType.IBPL, query = _predict_df,plugin_setting = PluginSetting.Inputs)\n",
    "systemreport = O9DataLake.register(\"sysreport\",data_source = DataSource.LIVEFRAME,entity_type = ResourceType.LIVEFRAME,plugin_setting = PluginSetting.Inputs)\n",
    "\n",
    "# register slice dimension\n",
    "O9DataLake.register(\"Product.[Product]\", data_source = DataSource.LS, entity_type = ResourceType.IBPL, plugin_setting = PluginSetting.SliceDimension)\n",
    "\n",
    "# register outputs\n",
    "O9DataLake.register(\"output1\",data_source = DataSource.LS,entity_type = ResourceType.IBPL, plugin_setting = PluginSetting.Outputs)\n",
    "\n",
    "# register script params\n",
    "script_params = O9DataLake.register({\"var1\":\"10\",\"var2\":\"Test1\"}, data_source = DataSource.LS, plugin_setting = PluginSetting.ScriptParam)"
   ]
  },
  {
   "cell_type": "code",
   "execution_count": 9,
   "id": "c878c373-4b9e-4db1-877a-faa9d7643a47",
   "metadata": {
    "tags": [
     "o9_ignore"
    ]
   },
   "outputs": [
    {
     "data": {
      "text/plain": [
       "{'predict_df': {'name': 'predict_df',\n",
       "  'resource_type': <ResourceType.IBPL: 'ibpl_query'>,\n",
       "  'data_source': <DataSource.LS: 'liveserver'>,\n",
       "  'query': 'select (Version.[Version Name]*Product.[Product].[196426]*Time.FiscalWeek*SalesAccount.[Account]*Location.[Location]*{Measure.[DPSellOutUnitsActuals],Measure.[Mean Pricing Save PCT],Measure.[Placement Count],Measure.[Promotion Count],Measure.[DPSellOutPrice]});',\n",
       "  'std_count_limit': '200000',\n",
       "  'df':    Version.[Version Name]  Product.[Product] Time.[FiscalWeek]  \\\n",
       "  0                      S1             196426          W03-2016   \n",
       "  1      CurrentWorkingView             196426          W03-2016   \n",
       "  2                      S1             196426          W05-2016   \n",
       "  3      CurrentWorkingView             196426          W05-2016   \n",
       "  4                      S1             196426          W08-2016   \n",
       "  5      CurrentWorkingView             196426          W08-2016   \n",
       "  6                      S1             196426          W13-2016   \n",
       "  7      CurrentWorkingView             196426          W13-2016   \n",
       "  8                      S1             196426          W48-2016   \n",
       "  9      CurrentWorkingView             196426          W48-2016   \n",
       "  10                     S1             196426          W42-2017   \n",
       "  11     CurrentWorkingView             196426          W42-2017   \n",
       "  12                     S1             196426          W44-2017   \n",
       "  13     CurrentWorkingView             196426          W44-2017   \n",
       "  \n",
       "     SalesAccount.[Account] Location.[Location]  DPSellOutUnitsActuals  \\\n",
       "  0                     ALL                 ALL                      1   \n",
       "  1                     ALL                 ALL                      1   \n",
       "  2                     ALL                 ALL                      2   \n",
       "  3                     ALL                 ALL                      2   \n",
       "  4                     ALL                 ALL                      1   \n",
       "  5                     ALL                 ALL                      1   \n",
       "  6                     ALL                 ALL                      1   \n",
       "  7                     ALL                 ALL                      1   \n",
       "  8                     ALL                 ALL                      1   \n",
       "  9                     ALL                 ALL                      1   \n",
       "  10                    ALL                 ALL                      1   \n",
       "  11                    ALL                 ALL                      1   \n",
       "  12                    ALL                 ALL                      1   \n",
       "  13                    ALL                 ALL                      1   \n",
       "  \n",
       "      Mean Pricing Save PCT  Placement Count  Promotion Count  DPSellOutPrice  \n",
       "  0                     NaN              NaN              NaN             6.0  \n",
       "  1                     NaN              NaN              NaN             6.0  \n",
       "  2                     NaN              NaN              NaN             9.5  \n",
       "  3                     NaN              NaN              NaN             9.5  \n",
       "  4                     NaN              NaN              NaN             6.0  \n",
       "  5                     NaN              NaN              NaN             6.0  \n",
       "  6                     NaN              NaN              NaN            13.0  \n",
       "  7                     NaN              NaN              NaN            13.0  \n",
       "  8                     NaN              NaN              NaN            13.0  \n",
       "  9                     NaN              NaN              NaN            13.0  \n",
       "  10                    NaN              NaN              NaN            13.0  \n",
       "  11                    NaN              NaN              NaN            13.0  \n",
       "  12                    NaN              NaN              NaN            13.0  \n",
       "  13                    NaN              NaN              NaN            13.0  },\n",
       " 'sysreport': {'name': 'sysreport',\n",
       "  'resource_type': <ResourceType.LIVEFRAME: 'liveframe'>,\n",
       "  'data_source': <DataSource.LIVEFRAME: 'liveframe'>,\n",
       "  'query': 'SELECT ([WalmartTime].[Day].filter(#.[Day$InActive] in { false }) * [Store].[Store_ID].filter(#.[Store_ID$InActive] in { false }) * [Version].[Version Name].filter(#.[Version Name$InActive] in { false }) * {Measure.[DSML dsmldim]}) on row, () on column include lcid 1033, cellproperties {LOCK, BG_COLOR, FG_COLOR} ORDERBY [WalmartTime].[Day].[Key] ASC ;',\n",
       "  'SystemReportId': 5421397,\n",
       "  'std_count_limit': '200000',\n",
       "  'df':      WalmartTime.[Day]  Store.[Store_ID] Version.[Version Name]  DSML dsmldim\n",
       "  0           02-05-2010                 1     CurrentWorkingView         2.572\n",
       "  1           02-05-2010                10     CurrentWorkingView         3.963\n",
       "  2           02-05-2010                11     CurrentWorkingView         2.653\n",
       "  3           02-05-2010                12     CurrentWorkingView         4.121\n",
       "  4           02-05-2010                13     CurrentWorkingView         2.797\n",
       "  ...                ...               ...                    ...           ...\n",
       "  8185        07-26-2013                 5     CurrentWorkingView         3.261\n",
       "  8186        07-26-2013                 6     CurrentWorkingView         2.780\n",
       "  8187        07-26-2013                 7     CurrentWorkingView         3.103\n",
       "  8188        07-26-2013                 8     CurrentWorkingView         2.759\n",
       "  8189        07-26-2013                 9     CurrentWorkingView         3.669\n",
       "  \n",
       "  [8190 rows x 4 columns]}}"
      ]
     },
     "execution_count": 9,
     "metadata": {},
     "output_type": "execute_result"
    }
   ],
   "source": [
    "O9DataLake.inputs"
   ]
  },
  {
   "cell_type": "code",
   "execution_count": 10,
   "id": "f9c6b0c7-3c1a-453d-8fc1-2b9c9ce245fb",
   "metadata": {},
   "outputs": [],
   "source": [
    "# fetching inputs\n",
    "predict_df = O9DataLake.get('predict_df')\n",
    "systemreport = O9DataLake.get('sysreport')\n",
    "\n",
    "# fetching script params\n",
    "value1 = O9DataLake.get_script_param(\"var1\")\n",
    "value2 = O9DataLake.get_script_param(\"var2\")"
   ]
  },
  {
   "cell_type": "code",
   "execution_count": 11,
   "id": "a32a7ad3-8e75-44d8-bebe-27245d42b07c",
   "metadata": {},
   "outputs": [
    {
     "name": "stdout",
     "output_type": "stream",
     "text": [
      "2024-05-02 12:38:47,638 - o9_logger - DEBUG  - predict_df dataframe:  (14, 10)\n",
      "2024-05-02 12:38:47,639 - o9_logger - DEBUG  - systemreport dataframe:  (8190, 4)\n",
      "2024-05-02 12:38:47,640 - o9_logger - DEBUG  - script param var1 value: 10\n",
      "2024-05-02 12:38:47,641 - o9_logger - DEBUG  - script param var2 value: Test1\n"
     ]
    }
   ],
   "source": [
    "#user script\n",
    "\n",
    "# package imports\n",
    "import logging\n",
    "from sklearn import tree\n",
    "\n",
    "# initialize output variables\n",
    "output1 = None\n",
    "\n",
    "\n",
    "# initialize logger\n",
    "logger = logging.getLogger('o9_logger')\n",
    "\n",
    "logger.debug(f'predict_df dataframe:  {predict_df.shape}')\n",
    "logger.debug(f'systemreport dataframe:  {systemreport.shape}')\n",
    "logger.debug(f'script param var1 value: {value1}')\n",
    "logger.debug(f'script param var2 value: {value2}')"
   ]
  },
  {
   "cell_type": "code",
   "execution_count": 12,
   "id": "b1d475e0-50bf-42bd-82fd-1031dbc67027",
   "metadata": {},
   "outputs": [
    {
     "name": "stdout",
     "output_type": "stream",
     "text": [
      "2024-05-02 12:38:47,653 - o9_logger - DEBUG  - systemreport dataframe:    WalmartTime.[Day]  Store.[Store_ID] Version.[Version Name]  DSML dsmldim\n",
      "0        02-05-2010                 1     CurrentWorkingView         2.572\n",
      "1        02-05-2010                10     CurrentWorkingView         3.963\n",
      "2        02-05-2010                11     CurrentWorkingView         2.653\n",
      "3        02-05-2010                12     CurrentWorkingView         4.121\n",
      "4        02-05-2010                13     CurrentWorkingView         2.797\n"
     ]
    }
   ],
   "source": [
    "output1 = systemreport\n",
    "logger.debug(f'systemreport dataframe:  {systemreport.head()}')"
   ]
  },
  {
   "cell_type": "code",
   "execution_count": 13,
   "id": "40e7ce1d-b90c-453a-8278-2a07a39c79ba",
   "metadata": {},
   "outputs": [],
   "source": [
    "#pushing outputs to Live Server(make sure all dimensions,measures present in LiveServer)\n",
    "O9DataLake.put('output1', output1)"
   ]
  }
 ],
 "metadata": {
  "id": "2885c214-4610-42ac-b5ed-738c1a5b4523",
  "kernelspec": {
   "display_name": "[pyplatformhivetest] Tenant Conda Environment",
   "language": "python",
   "name": "genieaz_pyplatformhivetest"
  },
  "language_info": {
   "codemirror_mode": {
    "name": "ipython",
    "version": 3
   },
   "file_extension": ".py",
   "mimetype": "text/x-python",
   "name": "python",
   "nbconvert_exporter": "python",
   "pygments_lexer": "ipython3",
   "version": "3.7.10"
  }
 },
 "nbformat": 4,
 "nbformat_minor": 5
}
