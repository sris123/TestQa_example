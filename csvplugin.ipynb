{
  "cells": [
    {
      "cell_type": "code",
      "id": "79f89c5d-e989-415d-959e-464e7af2d517",
      "source": [
        "# This cell is NOT editable. Overwrite variables on your own discretion.\n# Any changes other than the script code will NOT BE SAVED!\n# All cells are assumed to be script code cells, unless explictly tagged as 'o9_ignore'"
      ],
      "metadata": {
        "editable": false
      },
      "tags": [
        "o9_ignore"
      ]
    },
    {
      "cell_type": "code",
      "id": "15da3d8e-9000-462e-8522-d0d7a5840b47",
      "source": [
        "_predict_df = \"select (Version.[Version Name]*Product.[Product].[208821]*Time.FiscalWeek*SalesAccount.[Account]*Location.[Location]*{Measure.[DPSellOutUnitsActuals],Measure.[Mean Pricing Save PCT],Measure.[Placement Count],Measure.[Promotion Count],Measure.[DPSellOutPrice]});\"\n_input_df = \"select (Version.[Version Name]*Product.[Product].[196426]*Time.Day*SalesAccount.[Account]*Location.[Location]*{Measure.[DPSellOutUnitsActuals],Measure.[Mean Pricing Save PCT],Measure.[Placement Count],Measure.[Promotion Count],Measure.[DPSellOutPrice]});\"\n\n\n# Initialize the O9DataLake with the input parameters and dataframes\n# Data can be accessed with O9DataLake.get(<Input Name>)\n# Overwritten values will not be reflected in the O9DataLake after initialization\n\nfrom o9_common_utils.O9DataLake import O9DataLake, ResourceType, DataSource,PluginSetting\npredict_df = O9DataLake.register(\"predict_df\",data_source = DataSource.LS, entity_type = ResourceType.IBPL, query = _predict_df,plugin_setting = PluginSetting.Inputs)\ninput_df = O9DataLake.register(\"input_df\",data_source = DataSource.LS, entity_type = ResourceType.IBPL, query = _input_df,plugin_setting = PluginSetting.Inputs)\n\nO9DataLake.register(\"out_df\",data_source = DataSource.LS,entity_type = ResourceType.IBPL,plugin_setting = PluginSetting.Outputs)\nscript_params = O9DataLake.register({}, data_source = DataSource.LS,plugin_setting = PluginSetting.ScriptParam)"
      ],
      "metadata": {
        "tags": [
          "o9_ignore"
        ]
      },
      "tags": [
        "o9_ignore"
      ]
    },
    {
      "cell_type": "code",
      "id": "6b5e4c02-a87d-4479-a7f3-b070f1b0e21b",
      "source": [
        "\"\"\"\nexec plugin instance [CsvMGIP1_CsvMGIP2_CsvMGPrimDf_CsvMGOP1_Slice] for measures {[DPSellOutUnitsActuals]} using scope ([Product].[Product].Filter(#.Name in {[196426],[208821]}) * [Time].[Day] * [Version].[Version Name].[CurrentWorkingView]);\n\n\"\"\"\nfrom sklearn import tree\nlogger = logging.getLogger('o9_logger')\n\nlogger.warning(\"#########TEST MSG#################\")\nprint('>>>>>>input_df', input_df.head(2))\nimport time\nlogger.warn(os.environ['EXECUTION_MODE'])\n#time.sleep(60)\nout_df = None\n\nif predict_df is not None and len(predict_df.index) > 0:\n    x = input_df[['Mean Pricing Save PCT', 'Placement Count', 'Promotion Count', 'DPSellOutPrice']]\n    y = input_df[['DPSellOutUnitsActuals']]\n    x = x.fillna(0).values\n    y = y.fillna(0).values\n\n    clf = tree.DecisionTreeRegressor()\n    clf = clf.fit(x, y)\n\n    predict = predict_df[['Mean Pricing Save PCT', 'Placement Count', 'Promotion Count', 'DPSellOutPrice']].fillna(0).values\n    predict_values = clf.predict(predict)\n    predict_df[\"DPSellOutUnitsFcst\"] = predict_values\n    #out_df = pd.concat([predict_keys, out_df_part], axis=1)\n    out_df=predict_df[['Time.[FiscalWeek]', 'Product.[Product]', 'Version.[Version Name]', 'SalesAccount.[Account]','Location.[Location]','DPSellOutUnitsFcst']]\n\nelse:\n    out_df = None\n\n"
      ],
      "metadata": {}
    }
  ],
  "metadata": {
    "kernelspec": {
      "display_name": "o9DSML",
      "language": "python",
      "name": "o9DSML"
    },
    "language_info": {
      "codemirror_mode": {
        "name": "ipython",
        "version": 3
      },
      "file_extension": ".py",
      "mimetype": "text/x-python",
      "name": "python",
      "nbconvert_exporter": "python",
      "pygments_lexer": "ipython3",
      "version": "3.7.10"
    },
    "id": "33de194e-ef23-4e34-8c7e-771c8026a882"
  },
  "nbformat": 4,
  "nbformat_minor": 5
}