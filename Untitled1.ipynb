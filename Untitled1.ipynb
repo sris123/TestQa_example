{
  "cells": [],
  "metadata": {
    "id": "e9f43fdb-c492-4c1d-8448-cffa4309daa6"
  },
  "nbformat": 4,
  "nbformat_minor": 5
}