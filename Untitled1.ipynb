{
  "cells": [],
  "metadata": {
    "id": "29fd8bba-fa16-432d-8612-a1db67631fda"
  },
  "nbformat": 4,
  "nbformat_minor": 5
}