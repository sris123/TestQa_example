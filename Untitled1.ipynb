{
 "cells": [],
 "metadata": {
  "id": "d1629d1e-f9e2-4ea3-9fd1-1f608d62c8fa"
 },
 "nbformat": 4,
 "nbformat_minor": 5
}
