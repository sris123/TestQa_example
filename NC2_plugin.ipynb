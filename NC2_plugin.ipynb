{
 "cells": [
  {
   "cell_type": "code",
   "execution_count": 1,
   "id": "e6d51cb2-9810-4fff-8cc5-3e856ed982a3",
   "metadata": {
    "tags": [
     "o9_ignore"
    ]
   },
   "outputs": [],
   "source": [
    "#This cells needs to be ignored\n",
    "#Here we are validating the create plugin functionality in Jhub\n",
    "#All cells are Assumed to be script cells, unless explicitly marked as o9_ignore"
   ]
  },
  {
   "cell_type": "code",
   "execution_count": 10,
   "id": "cc22075b-2273-404c-9cc0-186ae3dc5069",
   "metadata": {},
   "outputs": [],
   "source": [
    "from o9_common_utils.O9DataLake import O9DataLake, ResourceType, DataSource\n",
    "query1 = \"select (Version.[Version Name]*Product.[Product].[196426]*Time.FiscalWeek*SalesAccount.[Account]*Location.[Location]*{Measure.[DPSellOutUnitsActuals],Measure.[Mean Pricing Save PCT],Measure.[Placement Count],Measure.[Promotion Count],Measure.[DPSellOutPrice]});\"\n",
    "query2 = \"select (Version.[Version Name]*Product.[Product].[196426]*Time.FiscalWeek*SalesAccount.[Account]*Location.[Location]*{Measure.[DPSellOutUnitsActuals],Measure.[Mean Pricing Save PCT],Measure.[Placement Count],Measure.[Promotion Count],Measure.[DPSellOutPrice]});\"\n",
    "O9DataLake.register(\"sales_df\",DataSource.LS, ResourceType.IBPL, query1) \n",
    "O9DataLake.register(\"DPBaseInputs\",DataSource.LS, ResourceType.IBPL, query2)"
   ]
  },
  {
   "cell_type": "code",
   "execution_count": 15,
   "id": "506662e1-07ed-49d3-abf1-f96502deb626",
   "metadata": {
    "tags": []
   },
   "outputs": [
    {
     "name": "stdout",
     "output_type": "stream",
     "text": [
      "2022-10-07 09:24:11,567 : srishtisingh_5502 :IbplClient: WebApi Request Url = [https://mygenieazure.o9solutions.com/api/ibplquery/5502/ExecuteCompactJsonQuery]\n",
      "2022-10-07 09:24:11,732 : srishtisingh_5502 :IbplClient: WebApi Request Url = [https://mygenieazure.o9solutions.com/api/ibplquery/5502/ExecuteCompactJsonQuery]\n",
      "2022-10-07 09:24:11,884 : srishtisingh_5502 :Hello warning\n",
      "2022-10-07 09:24:11,885 : srishtisingh_5502 :Hello error\n",
      "2022-10-07 09:24:11,886 : srishtisingh_5502 :Hello warning\n"
     ]
    }
   ],
   "source": [
    "#getting input from dataLake\n",
    "\n",
    "sales = O9DataLake.get('sales_df')\n",
    "dpbaseinputs = O9DataLake.get('DPBaseInputs')\n",
    "\n",
    "#User Script\n",
    "import logging\n",
    "out_df1 = None\n",
    "logger = logging.getLogger('o9_logger')\n",
    "#logger.info(f'Records count in sales dataframe : {sales.shape}')\n",
    "#logger.info(f'Records count in DPBaseInputs dataframe : {dpbaseinputs.shape}')\n",
    "logger.warning(\"Hello warning\")\n",
    "logger.error(\"Hello error\")\n",
    "logger.warning(\"Hello warning\")\n",
    "\n",
    "#pushing output to the DataLake\n",
    "O9DataLake.put('out_df1',sales)\n",
    "\n"
   ]
  },
  {
   "cell_type": "code",
   "execution_count": 12,
   "id": "8164f43a-4a63-44c5-800a-57f90ef65b07",
   "metadata": {},
   "outputs": [
    {
     "data": {
      "text/html": [
       "<div>\n",
       "<style scoped>\n",
       "    .dataframe tbody tr th:only-of-type {\n",
       "        vertical-align: middle;\n",
       "    }\n",
       "\n",
       "    .dataframe tbody tr th {\n",
       "        vertical-align: top;\n",
       "    }\n",
       "\n",
       "    .dataframe thead th {\n",
       "        text-align: right;\n",
       "    }\n",
       "</style>\n",
       "<table border=\"1\" class=\"dataframe\">\n",
       "  <thead>\n",
       "    <tr style=\"text-align: right;\">\n",
       "      <th></th>\n",
       "      <th>Version.[Version Name]</th>\n",
       "      <th>Product.[Product]</th>\n",
       "      <th>Time.[FiscalWeek]</th>\n",
       "      <th>SalesAccount.[Account]</th>\n",
       "      <th>Location.[Location]</th>\n",
       "      <th>DPSellOutUnitsActuals</th>\n",
       "      <th>Mean Pricing Save PCT</th>\n",
       "      <th>Placement Count</th>\n",
       "      <th>Promotion Count</th>\n",
       "      <th>DPSellOutPrice</th>\n",
       "    </tr>\n",
       "  </thead>\n",
       "  <tbody>\n",
       "    <tr>\n",
       "      <th>0</th>\n",
       "      <td>CurrentWorkingView</td>\n",
       "      <td>196426</td>\n",
       "      <td>W03-2016</td>\n",
       "      <td>ALL</td>\n",
       "      <td>ALL</td>\n",
       "      <td>1.0</td>\n",
       "      <td>NaN</td>\n",
       "      <td>NaN</td>\n",
       "      <td>NaN</td>\n",
       "      <td>6.0</td>\n",
       "    </tr>\n",
       "    <tr>\n",
       "      <th>1</th>\n",
       "      <td>CurrentWorkingView</td>\n",
       "      <td>196426</td>\n",
       "      <td>W05-2016</td>\n",
       "      <td>ALL</td>\n",
       "      <td>ALL</td>\n",
       "      <td>2.0</td>\n",
       "      <td>NaN</td>\n",
       "      <td>NaN</td>\n",
       "      <td>NaN</td>\n",
       "      <td>9.5</td>\n",
       "    </tr>\n",
       "    <tr>\n",
       "      <th>2</th>\n",
       "      <td>CurrentWorkingView</td>\n",
       "      <td>196426</td>\n",
       "      <td>W08-2016</td>\n",
       "      <td>ALL</td>\n",
       "      <td>ALL</td>\n",
       "      <td>1.0</td>\n",
       "      <td>NaN</td>\n",
       "      <td>NaN</td>\n",
       "      <td>NaN</td>\n",
       "      <td>6.0</td>\n",
       "    </tr>\n",
       "    <tr>\n",
       "      <th>3</th>\n",
       "      <td>CurrentWorkingView</td>\n",
       "      <td>196426</td>\n",
       "      <td>W13-2016</td>\n",
       "      <td>ALL</td>\n",
       "      <td>ALL</td>\n",
       "      <td>1.0</td>\n",
       "      <td>NaN</td>\n",
       "      <td>NaN</td>\n",
       "      <td>NaN</td>\n",
       "      <td>13.0</td>\n",
       "    </tr>\n",
       "    <tr>\n",
       "      <th>4</th>\n",
       "      <td>CurrentWorkingView</td>\n",
       "      <td>196426</td>\n",
       "      <td>W48-2016</td>\n",
       "      <td>ALL</td>\n",
       "      <td>ALL</td>\n",
       "      <td>1.0</td>\n",
       "      <td>NaN</td>\n",
       "      <td>NaN</td>\n",
       "      <td>NaN</td>\n",
       "      <td>13.0</td>\n",
       "    </tr>\n",
       "    <tr>\n",
       "      <th>5</th>\n",
       "      <td>CurrentWorkingView</td>\n",
       "      <td>196426</td>\n",
       "      <td>W42-2017</td>\n",
       "      <td>ALL</td>\n",
       "      <td>ALL</td>\n",
       "      <td>1.0</td>\n",
       "      <td>NaN</td>\n",
       "      <td>NaN</td>\n",
       "      <td>NaN</td>\n",
       "      <td>13.0</td>\n",
       "    </tr>\n",
       "    <tr>\n",
       "      <th>6</th>\n",
       "      <td>CurrentWorkingView</td>\n",
       "      <td>196426</td>\n",
       "      <td>W44-2017</td>\n",
       "      <td>ALL</td>\n",
       "      <td>ALL</td>\n",
       "      <td>1.0</td>\n",
       "      <td>NaN</td>\n",
       "      <td>NaN</td>\n",
       "      <td>NaN</td>\n",
       "      <td>13.0</td>\n",
       "    </tr>\n",
       "  </tbody>\n",
       "</table>\n",
       "</div>"
      ],
      "text/plain": [
       "  Version.[Version Name] Product.[Product] Time.[FiscalWeek]  \\\n",
       "0     CurrentWorkingView            196426          W03-2016   \n",
       "1     CurrentWorkingView            196426          W05-2016   \n",
       "2     CurrentWorkingView            196426          W08-2016   \n",
       "3     CurrentWorkingView            196426          W13-2016   \n",
       "4     CurrentWorkingView            196426          W48-2016   \n",
       "5     CurrentWorkingView            196426          W42-2017   \n",
       "6     CurrentWorkingView            196426          W44-2017   \n",
       "\n",
       "  SalesAccount.[Account] Location.[Location]  DPSellOutUnitsActuals  \\\n",
       "0                    ALL                 ALL                    1.0   \n",
       "1                    ALL                 ALL                    2.0   \n",
       "2                    ALL                 ALL                    1.0   \n",
       "3                    ALL                 ALL                    1.0   \n",
       "4                    ALL                 ALL                    1.0   \n",
       "5                    ALL                 ALL                    1.0   \n",
       "6                    ALL                 ALL                    1.0   \n",
       "\n",
       "   Mean Pricing Save PCT  Placement Count  Promotion Count  DPSellOutPrice  \n",
       "0                    NaN              NaN              NaN             6.0  \n",
       "1                    NaN              NaN              NaN             9.5  \n",
       "2                    NaN              NaN              NaN             6.0  \n",
       "3                    NaN              NaN              NaN            13.0  \n",
       "4                    NaN              NaN              NaN            13.0  \n",
       "5                    NaN              NaN              NaN            13.0  \n",
       "6                    NaN              NaN              NaN            13.0  "
      ]
     },
     "execution_count": 12,
     "metadata": {},
     "output_type": "execute_result"
    }
   ],
   "source": [
    "sales"
   ]
  },
  {
   "cell_type": "code",
   "execution_count": null,
   "id": "c557b1c5-6bd2-4ac9-8bc1-eb1800cf4f42",
   "metadata": {},
   "outputs": [],
   "source": []
  }
 ],
 "metadata": {
  "kernelspec": {
   "display_name": "[pyplatformhivetest] Tenant Conda Environment",
   "language": "python",
   "name": "genieaz_pyplatformhivetest"
  },
  "language_info": {
   "codemirror_mode": {
    "name": "ipython",
    "version": 3
   },
   "file_extension": ".py",
   "mimetype": "text/x-python",
   "name": "python",
   "nbconvert_exporter": "python",
   "pygments_lexer": "ipython3",
   "version": "3.7.10"
  },
  "notebook_dict": {
   "ClassName": "o9.GraphCube.Plugins.Python.PythonScript",
   "InstanceName": "NC2_plugin",
   "SliceKeys": [
    {
     "AttributeName": "Version Name",
     "DimensionName": "Version"
    }
   ],
   "file_path": "loaded_notebooks/NC2_plugin.ipynb",
   "o9_selected_plugin_id": 205165
  }
 },
 "nbformat": 4,
 "nbformat_minor": 5
}
