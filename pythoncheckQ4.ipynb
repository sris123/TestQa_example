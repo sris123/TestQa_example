{
 "cells": [
  {
   "cell_type": "code",
   "execution_count": null,
   "id": "486ced11-1d05-4bbc-89b6-b3ada6f7822c",
   "metadata": {},
   "outputs": [],
   "source": [
    "_predict_df1 = \"select (Version.[Version Name]*Product.[Product]*Time.FiscalWeek*SalesAccount.[Account]*Location.[Location]*{Measure.[DPSellOutUnitsActuals],Measure.[Mean Pricing Save PCT],Measure.[Placement Count],Measure.[Promotion Count],Measure.[DPSellOutPrice]});\"\n",
    "\n",
    "from o9_common_utils.O9DataLake import O9DataLake, ResourceType, DataSource,PluginSetting\n",
    "\n",
    "# register inputs\n",
    "predict_df1 = O9DataLake.register(\"predict_df1\",data_source = DataSource.LS, entity_type = ResourceType.IBPL, query = _predict_df1,plugin_setting = PluginSetting.Inputs)\n",
    "newsysreportq = O9DataLake.register(\"newsysreportq4\",data_source = DataSource.LIVEFRAME,entity_type = ResourceType.LIVEFRAME,plugin_setting = PluginSetting.Inputs)\n",
    "\n",
    "\n",
    "# register slice dimension\n",
    "O9DataLake.register(\"Product.[Product]\", data_source = DataSource.LS, entity_type = ResourceType.IBPL, plugin_setting = PluginSetting.SliceDimension)\n",
    "\n",
    "# register outputs\n",
    "O9DataLake.register(\"output\",data_source = DataSource.LS,entity_type = ResourceType.IBPL, plugin_setting = PluginSetting.Outputs)\n",
    "\n",
    "\n",
    "# register script params\n",
    "script_params = O9DataLake.register({\"var1\":\"20\",\"var2\":\"Test1\",\"var3\":\"newparam\"}, data_source = DataSource.LS, plugin_setting = PluginSetting.ScriptParam)"
   ]
  },
  {
   "cell_type": "code",
   "execution_count": null,
   "id": "0e8831c7-bce1-45a6-b41b-eab6c8177edc",
   "metadata": {
    "tags": [
     "o9_ignore"
    ]
   },
   "outputs": [],
   "source": [
    "O9DataLake.inputs"
   ]
  },
  {
   "cell_type": "code",
   "execution_count": null,
   "id": "8200e227-f848-4551-b01d-a08cfad6b88f",
   "metadata": {
    "tags": [
     "o9_ignore"
    ]
   },
   "outputs": [],
   "source": [
    "predict_df1.count()"
   ]
  },
  {
   "cell_type": "code",
   "execution_count": null,
   "id": "57f74844-963d-485f-8ebd-62d2e7347bbc",
   "metadata": {},
   "outputs": [],
   "source": [
    "# fetching inputs\n",
    "predict_df1 = O9DataLake.get('predict_df1')\n",
    "newsysreportq = O9DataLake.get('newsysreportq4')\n",
    "# fetching script params\n",
    "value1 = O9DataLake.get_script_param(\"var1\")\n",
    "value2 = O9DataLake.get_script_param(\"var2\")"
   ]
  },
  {
   "cell_type": "code",
   "execution_count": null,
   "id": "991998ea-b8cc-492b-ae5b-ce4a600f95be",
   "metadata": {},
   "outputs": [],
   "source": [
    "# package imports\n",
    "import logging\n",
    "from sklearn import tree\n",
    "\n",
    "# initialize output variables\n",
    "output = None\n",
    "\n",
    "# initialize logger\n",
    "logger = logging.getLogger('o9_logger')\n",
    "\n",
    "logger.debug(f'predict_df1 dataframe:  {predict_df1.count()}')\n",
    "logger.debug(f'liveinput dataframe:  {newsysreportq.count()}')\n",
    "logger.debug(f'script param var1 value: {value1}')\n",
    "logger.debug(f'script param var2 value: {value2}')"
   ]
  },
  {
   "cell_type": "code",
   "execution_count": null,
   "id": "1b428489-3de9-4de4-9e25-b19f82181479",
   "metadata": {},
   "outputs": [],
   "source": [
    "output = newsysreportq\n",
    "logger.debug(f'systemreport dataframe:  {newsysreportq.head()}')"
   ]
  },
  {
   "cell_type": "code",
   "execution_count": null,
   "id": "a3265370-8aaa-48bb-8ed4-cc7ddfa408d9",
   "metadata": {},
   "outputs": [],
   "source": [
    "O9DataLake.put('output', output)"
   ]
  },
  {
   "cell_type": "code",
   "execution_count": null,
   "id": "9e81bcb9-b849-43cf-92a1-2ecff704f2a9",
   "metadata": {},
   "outputs": [],
   "source": [
    "print(\"Plugin Execution completed\")"
   ]
  }
 ],
 "metadata": {
  "kernelspec": {
   "display_name": "[SparkK8Org1Tenant12] Tenant Conda Environment",
   "language": "python",
   "name": "genieaz_sparkk8org1tenant12"
  },
  "language_info": {
   "codemirror_mode": {
    "name": "ipython",
    "version": 3
   },
   "file_extension": ".py",
   "mimetype": "text/x-python",
   "name": "python",
   "nbconvert_exporter": "python",
   "pygments_lexer": "ipython3",
   "version": "3.10.5"
  }
 },
 "nbformat": 4,
 "nbformat_minor": 5
}
