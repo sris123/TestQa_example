{
  "cells": [
    {
      "cell_type": "code",
      "execution_count": null,
      "id": "ece4b714-1d05-48d9-9ad7-ce76d50c08b1",
      "metadata": {},
      "outputs": [],
      "source": [
        "\n",
        "_predict_df = \"select (Version.[Version Name]*Product.[Product].[196426]*Time.FiscalWeek*SalesAccount.[Account]*Location.[Location]*{Measure.[DPSellOutUnitsActuals],Measure.[Mean Pricing Save PCT],Measure.[Placement Count],Measure.[Promotion Count],Measure.[DPSellOutPrice]});\"\n",
        "_input_df = \"select (Version.[Version Name]*Product.[Product].[208821]*Time.FiscalWeek*SalesAccount.[Account]*Location.[Location]*{Measure.[DPSellOutUnitsActuals],Measure.[Mean Pricing Save PCT],Measure.[Placement Count],Measure.[Promotion Count],Measure.[DPSellOutPrice]});\"\n",
        "\n",
        "from o9_common_utils.O9DataLake import O9DataLake, ResourceType, DataSource,PluginSetting\n",
        "\n",
        "# register inputs\n",
        "predict_df = O9DataLake.register(\"predict_df\",data_source = DataSource.LS, entity_type = ResourceType.IBPL, query = _predict_df,plugin_setting = PluginSetting.Inputs, spark = spark)\n",
        "input_df = O9DataLake.register(\"input_df\",data_source = DataSource.LS, entity_type = ResourceType.IBPL, query = _input_df,plugin_setting = PluginSetting.Inputs, spark = spark)\n",
        "\n",
        "#DPSelloutPrediction = O9DataLake.register(\"DPSelloutPrediction\",data_source = DataSource.LIVEFRAME,entity_type = ResourceType.LIVEFRAME,plugin_setting = PluginSetting.Inputs)\n",
        "# register slice dimension\n",
        "O9DataLake.register(\"Product.[Product]\", data_source = DataSource.LS, entity_type = ResourceType.IBPL, plugin_setting = PluginSetting.SliceDimension)\n",
        "\n",
        "# register outputs\n",
        "O9DataLake.register(\"output1\",data_source = DataSource.LS,entity_type = ResourceType.IBPL, plugin_setting = PluginSetting.Outputs)\n",
        "#O9DataLake.register(\"output2\",data_source = DataSource.LS,entity_type = ResourceType.IBPL, plugin_setting = PluginSetting.Outputs)\n",
        "\n",
        "# register script params\n",
        "script_params = O9DataLake.register({\"var1\":\"10\",\"var2\":\"Test1\"}, data_source = DataSource.LS, plugin_setting = PluginSetting.ScriptParam)\n"
      ]
    },
    {
      "cell_type": "code",
      "execution_count": null,
      "id": "501f7a2b-dd16-4664-9aa4-c1e66721b7a4",
      "metadata": {},
      "outputs": [],
      "source": [
        "type(predict_df)"
      ]
    },
    {
      "cell_type": "code",
      "execution_count": null,
      "id": "4133d65d-5911-4e4b-95aa-2b0c256ca438",
      "metadata": {},
      "outputs": [],
      "source": [
        "predict_df.show()"
      ]
    },
    {
      "cell_type": "code",
      "execution_count": null,
      "id": "84ca0d12-7b71-420b-aa24-0ab7514c3cfa",
      "metadata": {},
      "outputs": [],
      "source": [
        "# fetching inputs\n",
        "predict_df = O9DataLake.get('predict_df')\n",
        "input_df = O9DataLake.get('input_df')\n",
        "\n",
        "# fetching script params\n",
        "value1 = O9DataLake.get_script_param(\"var1\")\n",
        "value2 = O9DataLake.get_script_param(\"var2\")"
      ]
    },
    {
      "cell_type": "code",
      "execution_count": null,
      "id": "21d97e94-a8b5-4d50-a4c5-9ebd662633a8",
      "metadata": {},
      "outputs": [],
      "source": [
        "#pushing outputs to Live Server(make sure all dimensions,measures present in LiveServer)\n",
        "O9DataLake.put('output1', predict_df)"
      ]
    }
  ],
  "metadata": {
    "kernelspec": {
      "display_name": "[pyplatformhivetest] Tenant Conda Environment",
      "language": "python",
      "name": "qa_pyplatformhivetest"
    },
    "language_info": {
      "codemirror_mode": {
        "name": "ipython",
        "version": 3
      },
      "file_extension": ".py",
      "mimetype": "text/x-python",
      "name": "python",
      "nbconvert_exporter": "python",
      "pygments_lexer": "ipython3",
      "version": "3.7.10"
    },
    "id": "154b99da-9d04-434f-9a3c-e8c737d6cd4f"
  },
  "nbformat": 4,
  "nbformat_minor": 5
}