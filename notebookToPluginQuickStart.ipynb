{
 "cells": [
  {
   "cell_type": "markdown",
   "id": "1ca97f5a-bcd2-413f-8dcd-f511f3870d27",
   "metadata": {
    "tags": [
     "o9_ignore"
    ]
   },
   "source": [
    "Register inputs, outputs, slice dimension and script params"
   ]
  },
  {
   "cell_type": "code",
   "execution_count": 4,
   "id": "af06e3f8-bd38-4eb0-996a-a6ef5a732a7d",
   "metadata": {},
   "outputs": [],
   "source": [
    "query1 = \"select (Version.[Version Name]);\"\n",
    "query2 = \"select (Version.[Version Name]);\"\n",
    "\n",
    "from o9_common_utils.O9DataLake import O9DataLake, ResourceType, DataSource,PluginSetting\n",
    "\n",
    "# register inputs\n",
    "input1 = O9DataLake.register(\"input1\",data_source = DataSource.LS, entity_type = ResourceType.IBPL, query = query1, plugin_setting = PluginSetting.Inputs)\n",
    "input2 = O9DataLake.register(\"input2\",data_source = DataSource.LS, entity_type = ResourceType.IBPL, query = query2, plugin_setting = PluginSetting.Inputs)\n",
    "\n",
    "# register slice dimension\n",
    "O9DataLake.register(\"Version.[Version Name]\", data_source = DataSource.LS, entity_type = ResourceType.IBPL, plugin_setting = PluginSetting.SliceDimension)\n",
    "\n",
    "# register outputs\n",
    "O9DataLake.register(\"output1\",data_source = DataSource.LS,entity_type = ResourceType.IBPL, plugin_setting = PluginSetting.Outputs)\n",
    "O9DataLake.register(\"output2\",data_source = DataSource.LS,entity_type = ResourceType.IBPL, plugin_setting = PluginSetting.Outputs)\n",
    "\n",
    "# register script params\n",
    "script_params = O9DataLake.register({\"var1\":\"10\"}, data_source = DataSource.LS, plugin_setting = PluginSetting.ScriptParam)"
   ]
  },
  {
   "cell_type": "markdown",
   "id": "bf543032-fca3-4f34-8cd5-92226e147b5e",
   "metadata": {},
   "source": [
    "User script "
   ]
  },
  {
   "cell_type": "code",
   "execution_count": 5,
   "id": "ced410e3-e25d-44a2-a4b5-e86949fd5128",
   "metadata": {},
   "outputs": [
    {
     "name": "stdout",
     "output_type": "stream",
     "text": [
      "2023-10-12 11:24:31,191 - o9_logger - INFO  - sample plugin template\n",
      "2023-10-12 11:24:31,194 - o9_logger - DEBUG  - input1 dataframe:    Version.[Version Name]\n",
      "0     CurrentWorkingView\n",
      "1                     S1\n",
      "2023-10-12 11:24:31,195 - o9_logger - DEBUG  - input1 dataframe:    Version.[Version Name]\n",
      "0     CurrentWorkingView\n",
      "1                     S1\n",
      "2023-10-12 11:24:31,196 - o9_logger - DEBUG  - script param var1 value: 10\n"
     ]
    }
   ],
   "source": [
    "#user script\n",
    "\n",
    "# package imports\n",
    "import logging\n",
    "\n",
    "# initialize output variables\n",
    "output1 = None\n",
    "output2 = None\n",
    "\n",
    "# initialize logger\n",
    "logger = logging.getLogger('o9_logger')\n",
    "\n",
    "try: \n",
    "    logger.info(\"sample plugin template\")\n",
    "    \n",
    "    # fetching inputs\n",
    "    input1 = O9DataLake.get('input1')\n",
    "    input2 = O9DataLake.get('input2')\n",
    "    \n",
    "    # fetching script params\n",
    "    value1 = O9DataLake.get_script_param(\"var1\")\n",
    "    \n",
    "    logger.debug(f'input1 dataframe:  {input1.head()}')\n",
    "    logger.debug(f'input1 dataframe:  {input1.head()}')\n",
    "    logger.debug(f'script param var1 value: {value1}')\n",
    "    \n",
    "    input1['dummyMeasure'] = value1 \n",
    "    output1 = input1\n",
    "    \n",
    "    input2['dummyMeasure'] = value1 \n",
    "    output2 = input2\n",
    "except Exception as e:\n",
    "    logger.error('Exception occured while fetching inputs')"
   ]
  },
  {
   "cell_type": "markdown",
   "id": "63ed56ba-0b2b-44b7-bc8d-355040444b5e",
   "metadata": {},
   "source": [
    "Push outputs to Live Server"
   ]
  },
  {
   "cell_type": "code",
   "execution_count": 6,
   "id": "6eeaa47f-49a1-4dda-a74e-3a7892486c6d",
   "metadata": {},
   "outputs": [
    {
     "name": "stdout",
     "output_type": "stream",
     "text": [
      "2023-10-12 16:54:47.526723: LiveServer : Failed to parse file. Cannot parse the header row.\n",
      "2023-10-12 16:54:47.526744: LiveServer : Header:[System.String[]]\n",
      "2023-10-12 16:54:47.526748: LiveServer : Couldn't find any valid measure names\n",
      "2023-10-12 16:54:47.526752: LiveServer :    at o9.GraphCube.olap.procedures.fileupload.FactBaseParser.ExtractFactMetadata(String[] columns, List`1& dimAttrProperties) in D:\\Jenkins\\jobs\\o9AzLiveServerGrpcCompileNet6\\workspaceDev\\o9.Platform\\LiveServer\\Server\\o9.GraphCube\\olap\\procedures\\fileupload\\FactBaseParser.cs:line 133\n",
      "   at o9.GraphCube.olap.procedures.fileupload.FactDSVParser.Parse() in D:\\Jenkins\\jobs\\o9AzLiveServerGrpcCompileNet6\\workspaceDev\\o9.Platform\\LiveServer\\Server\\o9.GraphCube\\olap\\procedures\\fileupload\\FactDSVParser.cs:line 51\n",
      "2023-10-12 16:55:00.519035: LiveServer : Failed to parse file. Cannot parse the header row.\n",
      "2023-10-12 16:55:00.519056: LiveServer : Header:[System.String[]]\n",
      "2023-10-12 16:55:00.519061: LiveServer : Couldn't find any valid measure names\n",
      "2023-10-12 16:55:00.519076: LiveServer :    at o9.GraphCube.olap.procedures.fileupload.FactBaseParser.ExtractFactMetadata(String[] columns, List`1& dimAttrProperties) in D:\\Jenkins\\jobs\\o9AzLiveServerGrpcCompileNet6\\workspaceDev\\o9.Platform\\LiveServer\\Server\\o9.GraphCube\\olap\\procedures\\fileupload\\FactBaseParser.cs:line 133\n",
      "   at o9.GraphCube.olap.procedures.fileupload.FactDSVParser.Parse() in D:\\Jenkins\\jobs\\o9AzLiveServerGrpcCompileNet6\\workspaceDev\\o9.Platform\\LiveServer\\Server\\o9.GraphCube\\olap\\procedures\\fileupload\\FactDSVParser.cs:line 51\n",
      "2023-10-12 16:55:00.519080: LiveServer : Failed to parse file. Cannot parse the header row.\n",
      "2023-10-12 16:55:00.519083: LiveServer : Header:[System.String[]]\n",
      "2023-10-12 16:55:00.519086: LiveServer : Couldn't find any valid measure names\n",
      "2023-10-12 16:55:00.519089: LiveServer :    at o9.GraphCube.olap.procedures.fileupload.FactBaseParser.ExtractFactMetadata(String[] columns, List`1& dimAttrProperties) in D:\\Jenkins\\jobs\\o9AzLiveServerGrpcCompileNet6\\workspaceDev\\o9.Platform\\LiveServer\\Server\\o9.GraphCube\\olap\\procedures\\fileupload\\FactBaseParser.cs:line 133\n",
      "   at o9.GraphCube.olap.procedures.fileupload.FactDSVParser.Parse() in D:\\Jenkins\\jobs\\o9AzLiveServerGrpcCompileNet6\\workspaceDev\\o9.Platform\\LiveServer\\Server\\o9.GraphCube\\olap\\procedures\\fileupload\\FactDSVParser.cs:line 51\n"
     ]
    }
   ],
   "source": [
    "#pushing outputs to Live Server(make sure all dimensions,measures present in LiveServer)\n",
    "O9DataLake.put('output1', output1)\n",
    "O9DataLake.put('output2', output2)"
   ]
  },
  {
   "cell_type": "code",
   "execution_count": null,
   "id": "8739b9a5-d233-4fe4-a34e-53f2149a9042",
   "metadata": {},
   "outputs": [],
   "source": []
  }
 ],
 "metadata": {
  "id": "25d0fad1-e2f5-48ca-aee7-42a280e597e9",
  "kernelspec": {
   "display_name": "[pyplatformhivetest] Tenant Conda Environment",
   "language": "python",
   "name": "k8qa_pyplatformhivetest"
  },
  "language_info": {
   "codemirror_mode": {
    "name": "ipython",
    "version": 3
   },
   "file_extension": ".py",
   "mimetype": "text/x-python",
   "name": "python",
   "nbconvert_exporter": "python",
   "pygments_lexer": "ipython3",
   "version": "3.7.10"
  }
 },
 "nbformat": 4,
 "nbformat_minor": 5
}
