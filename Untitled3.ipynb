{
 "cells": [
  {
   "cell_type": "code",
   "execution_count": 1,
   "id": "11b83a31-06b6-4991-8998-d976b36fc638",
   "metadata": {},
   "outputs": [],
   "source": [
    "_predict_df = \"select (Version.[Version Name]*Product.[Product].[208821]*Time.FiscalWeek*SalesAccount.[Account]*Location.[Location]*{Measure.[DPSellOutUnitsActuals],Measure.[Mean Pricing Save PCT],Measure.[Placement Count],Measure.[Promotion Count],Measure.[DPSellOutPrice]});\""
   ]
  },
  {
   "cell_type": "code",
   "execution_count": 5,
   "id": "a7861d08-b28c-4320-a31f-37bc5e2b38d9",
   "metadata": {},
   "outputs": [],
   "source": [
    "from o9_common_utils.O9DataLake import O9DataLake, ResourceType, DataSource,PluginSetting"
   ]
  },
  {
   "cell_type": "code",
   "execution_count": 6,
   "id": "6649acd6-fca8-4bb4-94c8-203a4308a04d",
   "metadata": {},
   "outputs": [],
   "source": [
    "predict_df = O9DataLake.register(\"predict_df\",data_source = DataSource.LS, entity_type = ResourceType.IBPL, query = _predict_df,plugin_setting = PluginSetting.Inputs)"
   ]
  },
  {
   "cell_type": "code",
   "execution_count": 7,
   "id": "156f65c9-5854-4411-bc93-ada5d9b0edf0",
   "metadata": {},
   "outputs": [],
   "source": [
    "O9DataLake.register(\"Product.[Product]\", data_source = DataSource.LS, entity_type = ResourceType.IBPL, plugin_setting = PluginSetting.SliceDimension)"
   ]
  },
  {
   "cell_type": "code",
   "execution_count": 8,
   "id": "499acb18-5d65-4ae6-8e1f-060b4e59c858",
   "metadata": {},
   "outputs": [],
   "source": [
    "O9DataLake.register(\"output1\",data_source = DataSource.LS,entity_type = ResourceType.IBPL, plugin_setting = PluginSetting.Outputs)"
   ]
  },
  {
   "cell_type": "code",
   "execution_count": 9,
   "id": "da424563-f218-4b44-a2b6-363fd57a816d",
   "metadata": {},
   "outputs": [],
   "source": [
    "script_params = O9DataLake.register({\"var1\":\"20\",\"var2\":\"Test1\",\"var3\":\"newparam\"}, data_source = DataSource.LS, plugin_setting = PluginSetting.ScriptParam)"
   ]
  },
  {
   "cell_type": "code",
   "execution_count": null,
   "id": "9132c8e6-6e70-49ee-88a8-6bd934644581",
   "metadata": {},
   "outputs": [],
   "source": []
  }
 ],
 "metadata": {
  "kernelspec": {
   "display_name": "[AutoDSML2] Tenant Conda Environment",
   "language": "python",
   "name": "qa_autodsml2"
  },
  "language_info": {
   "codemirror_mode": {
    "name": "ipython",
    "version": 3
   },
   "file_extension": ".py",
   "mimetype": "text/x-python",
   "name": "python",
   "nbconvert_exporter": "python",
   "pygments_lexer": "ipython3",
   "version": "3.7.10"
  }
 },
 "nbformat": 4,
 "nbformat_minor": 5
}
