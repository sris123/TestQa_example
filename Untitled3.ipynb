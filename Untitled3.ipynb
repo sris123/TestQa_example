{
  "cells": [],
  "metadata": {
    "id": "97fae954-81c1-4983-a768-3ed1175de5d5"
  },
  "nbformat": 4,
  "nbformat_minor": 5
}