{
 "cells": [
  {
   "cell_type": "code",
   "execution_count": null,
   "id": "95285cc4-9e44-476b-945c-c4fbc4d7858e",
   "metadata": {
    "editable": false
   },
   "outputs": [],
   "source": [
    "# This cell is NOT editable. Overwrite variables on your own discretion.\n",
    "# Any changes other than the script code will NOT BE SAVED!\n",
    "# All cells are assumed to be script code cells, unless explictly tagged as 'o9_ignore'"
   ]
  },
  {
   "cell_type": "code",
   "execution_count": null,
   "id": "6a7a6032-8a7f-42c9-a4e4-c1a11b9b3ac6",
   "metadata": {
    "tags": [
     "o9_ignore"
    ]
   },
   "outputs": [],
   "source": [
    "_sales = \"select ([WalmartTime_Python].[Day_Python] * [Version].[Version Name].[CurrentWorkingView] * [Department_Python].[Department_ID] * [Store_Python].[Store_ID] * {Measure.[Weekly Sales_Python]});\"\n",
    "_features = \"select( [WalmartTime_Python].[Day_Python] * [Version].[Version Name].[CurrentWorkingView] * [Store_Python].[Store_ID] * { Measure.[Temperature_Python], Measure.[Fuel Price_Python], Measure.[MarkDown1_Python] , Measure.[MarkDown2_Python], Measure.[MarkDown3_Python], Measure.[MarkDown4_Python] , Measure.[MarkDown5_Python] , Measure.[CPI_Python] , Measure.[Unemployment_Python]});\"\n",
    "_stores = \"select([Store_Python].[Store_ID] *[Store_Python].[Type] *[Store_Python].[Size]);\"\n",
    "\n",
    "\n",
    "# Initialize the O9DataLake with the input parameters and dataframes\n",
    "# Data can be accessed with O9DataLake.get(<Input Name>)\n",
    "# Overwritten values will not be reflected in the O9DataLake after initialization\n",
    "\n",
    "from o9_common_utils.O9DataLake import O9DataLake, ResourceType, DataSource,PluginSetting\n",
    "sales = O9DataLake.register(\"sales\",data_source = DataSource.LS, entity_type = ResourceType.IBPL, query = _sales,plugin_setting = PluginSetting.Inputs)\n",
    "features = O9DataLake.register(\"features\",data_source = DataSource.LS, entity_type = ResourceType.IBPL, query = _features,plugin_setting = PluginSetting.Inputs)\n",
    "stores = O9DataLake.register(\"stores\",data_source = DataSource.LS, entity_type = ResourceType.IBPL, query = _stores,plugin_setting = PluginSetting.Inputs)\n",
    "\n",
    "O9DataLake.register(\"PredictedSales_Walmart\",data_source = DataSource.LS,entity_type = ResourceType.IBPL,plugin_setting = PluginSetting.Outputs)\n",
    "script_params = O9DataLake.register({}, data_source = DataSource.LS,plugin_setting = PluginSetting.ScriptParam)"
   ]
  },
  {
   "cell_type": "code",
   "execution_count": null,
   "id": "103411b5-b789-4a28-97f4-65c53b3c5e6b",
   "metadata": {},
   "outputs": [],
   "source": [
    "\"\"\"\n",
    "EXEC plugin instance [Python_MediumWeight_Plugin]\n",
    "for measures {[Python_MW_Output]}\n",
    "using scope (Version.[Version Name].[CurrentWorkingView] * \n",
    "[Department_Python].[Department_ID].[1]) \n",
    "using arguments {(NumExecutors, 2), (executorMemory,\"1G\"),\n",
    "(driverMemory,\"1G\"),(DataTransferMode, \"parquet\")};\n",
    "\n",
    "\"\"\"\n",
    "\n",
    "# Import packages\n",
    "import os\n",
    "import numpy as np\n",
    "import pandas as pd \n",
    "import logging\n",
    "\n",
    "# Initializing logger\n",
    "\n",
    "logger = logging.getLogger('o9_logger')\n",
    "logger.info(\"WMLogger: Reading Input Dataframes\")\n",
    "\n",
    "sales_df = sales[['WalmartTime_Python.[Day_Python]',\n",
    "'Department_Python.[Department_ID]','Store_Python.[Store_ID]','Weekly Sales_Python']]\n",
    "features_df = features[['Store_Python.[Store_ID]','WalmartTime_Python.[Day_Python]',\n",
    "'Temperature_Python','Fuel Price_Python','MarkDown1_Python','MarkDown2_Python',\n",
    "'MarkDown3_Python', 'MarkDown4_Python','MarkDown5_Python', 'CPI_Python', 'Unemployment_Python']]\n",
    "stores_df = stores[['Store_Python.[Store_ID]', 'Store_Python.[Type]', 'Store_Python.[Size]']]\n",
    "\n",
    "dataset = sales_df.merge(stores_df, how='left').merge(features_df, how='left')\n",
    "logger.info(\"Dataset\")\n",
    "logger.info(dataset.columns)\n",
    "\n",
    "\n",
    "# Input dataframe\n",
    "\n",
    "input_df = dataset\n",
    "logger.info(\"WMLogger: INPUT DATAFRAME:\")\n",
    "logger.info(input_df.head())\n",
    "#print(input_df.head())\n",
    "#input_df.fillna(0, inplace=True)\n",
    "print(input_df.head())\n",
    "print(input_df.dtypes)\n",
    "input_df.replace(np.nan, 0, inplace=True)\n",
    "print(input_df.head())\n",
    "input_df = pd.get_dummies(input_df, columns=[\"Store_Python.[Type]\"])\n",
    "\n",
    "\n",
    "logger.info(\"WMLogger: Before normalization\")\n",
    "\n",
    "\n",
    "PredictedSales_Walmart = sales[['Version.[Version Name]', 'WalmartTime_Python.[Day_Python]', 'Department_Python.[Department_ID]','Store_Python.[Store_ID]']]\n",
    "\n",
    "logging.info(\"WMLogger: Writing output\")\n",
    "\n",
    "PredictedSales_Walmart[\"Python_MW_Output\"] = np.arange(sales.shape[0])\n",
    "\n",
    "#PredictedSales[\"Python_MW_Output\"] = 0\n",
    "\n",
    "PredictedSales_Walmart = PredictedSales_Walmart.astype({'Python_MW_Output':'float64'})\n",
    "\n",
    "logging.info(\"WMLogger: Finishing Plugin Execution\")"
   ]
  }
 ],
 "metadata": {
  "kernelspec": {
   "display_name": "[SmokeTestOps22029] Tenant Conda Environment",
   "language": "python",
   "name": "genieaz_smoketestops22029"
  },
  "language_info": {
   "codemirror_mode": {
    "name": "ipython",
    "version": 3
   },
   "file_extension": ".py",
   "mimetype": "text/x-python",
   "name": "python",
   "nbconvert_exporter": "python",
   "pygments_lexer": "ipython3",
   "version": "3.7.10"
  }
 },
 "nbformat": 4,
 "nbformat_minor": 5
}
