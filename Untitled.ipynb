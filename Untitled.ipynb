{
 "cells": [
  {
   "cell_type": "code",
   "execution_count": 1,
   "id": "73c25b0d-e4c9-4dde-9f01-b726a4834167",
   "metadata": {},
   "outputs": [],
   "source": [
    "_sales_df = \"select (Version.[Version Name]*Product.[Product]*Time.FiscalWeek*SalesAccount.[Account]*Location.[Location]*{Measure.[DPSellOutUnitsActuals],Measure.[Mean Pricing Save PCT],Measure.[Placement Count],Measure.[Promotion Count],Measure.[DPSellOutPrice]});\"\n",
    "_DPBaseInputs = \"select (Version.[Version Name]*Product.[Product]*Time.FiscalWeek*SalesAccount.[Account]*Location.[Location]*{Measure.[DPSellOutUnitsActuals],Measure.[Mean Pricing Save PCT],Measure.[Placement Count],Measure.[Promotion Count],Measure.[DPSellOutPrice]});\"\n",
    "\n",
    "\n",
    "# Initialize the O9DataLake with the input parameters and dataframes\n",
    "# Data can be accessed with O9DataLake.get(<Input Name>)\n",
    "# Overwritten values will not be reflected in the O9DataLake after initialization\n",
    "\n",
    "from o9_common_utils.O9DataLake import O9DataLake, ResourceType, DataSource\n",
    "O9DataLake.register(\"sales_df\",DataSource.LS, ResourceType.IBPL, _sales_df)\n",
    "O9DataLake.register(\"DPBaseInputs\",DataSource.LS, ResourceType.IBPL, _DPBaseInputs)"
   ]
  },
  {
   "cell_type": "code",
   "execution_count": 5,
   "id": "9cb64d34-81f8-4f7a-8afa-05bf9851313b",
   "metadata": {},
   "outputs": [
    {
     "name": "stdout",
     "output_type": "stream",
     "text": [
      "2022-10-06 15:24:03,173 : srishtisingh_5502 :IbplClient: WebApi Request Url = [https://mygenieazure.o9solutions.com/api/ibplquery/5502/ExecuteCompactJsonQuery]\n",
      "2022-10-06 15:24:03,377 : srishtisingh_5502 :IbplClient: WebApi Request Url = [https://mygenieazure.o9solutions.com/api/ibplquery/5502/ExecuteCompactJsonQuery]\n",
      "2022-10-06 15:24:03,594 : srishtisingh_5502 :    Time.[FiscalWeek] Product.[Product] Version.[Version Name]  \\\n",
      "0            W03-2016            196426     CurrentWorkingView   \n",
      "1            W05-2016            196426     CurrentWorkingView   \n",
      "2            W08-2016            196426     CurrentWorkingView   \n",
      "3            W13-2016            196426     CurrentWorkingView   \n",
      "4            W48-2016            196426     CurrentWorkingView   \n",
      "..                ...               ...                    ...   \n",
      "162          W48-2018            208821     CurrentWorkingView   \n",
      "163          W49-2018            208821     CurrentWorkingView   \n",
      "164          W50-2018            208821     CurrentWorkingView   \n",
      "165          W51-2018            208821     CurrentWorkingView   \n",
      "166          W52-2018            208821     CurrentWorkingView   \n",
      "\n",
      "    SalesAccount.[Account] Location.[Location]  DPSellOutUnitsFcst  \n",
      "0                      ALL                 ALL                 1.0  \n",
      "1                      ALL                 ALL                 2.0  \n",
      "2                      ALL                 ALL                 1.0  \n",
      "3                      ALL                 ALL                 1.0  \n",
      "4                      ALL                 ALL                 1.0  \n",
      "..                     ...                 ...                 ...  \n",
      "162                    ALL                 ALL                 0.0  \n",
      "163                    ALL                 ALL                 0.0  \n",
      "164                    ALL                 ALL                 0.0  \n",
      "165                    ALL                 ALL                 0.0  \n",
      "166                    ALL                 ALL                 0.0  \n",
      "\n",
      "[167 rows x 6 columns]\n",
      "*************Execution completed****************\n"
     ]
    }
   ],
   "source": [
    "import logging\n",
    "from sklearn import tree\n",
    "\n",
    "logger = logging.getLogger('o9_logger')\n",
    "\n",
    "out_df = None\n",
    "input_df = O9DataLake.get('sales_df')\n",
    "predict_df = O9DataLake.get('DPBaseInputs')\n",
    "if predict_df is not None and len(predict_df.index) > 0:\n",
    "    x = input_df[['Mean Pricing Save PCT', 'Placement Count', 'Promotion Count', 'DPSellOutPrice']]\n",
    "    y = input_df[['DPSellOutUnitsActuals']]\n",
    "    x = x.fillna(0).values\n",
    "    y = y.fillna(0).values\n",
    "\n",
    "    clf = tree.DecisionTreeRegressor()\n",
    "    clf = clf.fit(x, y)\n",
    "\n",
    "    predict = predict_df[['Mean Pricing Save PCT', 'Placement Count', 'Promotion Count', 'DPSellOutPrice']].fillna(0).values\n",
    "    # predict_keys = predict_df[['Time.[FiscalWeek]', 'Product.[Product]', 'Version.[Version Name]', 'SalesAccount.[Account]',                               'Location.[Location]']]\n",
    "    # predict_keys[\"Product.[Product]\"] = pd.to_numeric(predict_keys[\"Product.[Product]\"], downcast='integer')\n",
    "    predict_values = clf.predict(predict)\n",
    "    predict_df[\"DPSellOutUnitsFcst\"] = predict_values\n",
    "    #out_df = pd.concat([predict_keys, out_df_part], axis=1)\n",
    "    out_df=predict_df[['Time.[FiscalWeek]', 'Product.[Product]', 'Version.[Version Name]', 'SalesAccount.[Account]','Location.[Location]','DPSellOutUnitsFcst']]\n",
    "    logger.info(out_df)\n",
    "\n",
    "else:\n",
    "    out_df = None\n",
    "\n",
    "O9DataLake.put('DPBaseOutput1',out_df)\n",
    "\n",
    "O9DataLake.put('DPBaseOutput2',out_df)\n",
    "print('*************Execution completed****************')"
   ]
  },
  {
   "cell_type": "code",
   "execution_count": null,
   "id": "e86be4e2-bf94-439a-9520-680065cce913",
   "metadata": {},
   "outputs": [],
   "source": []
  }
 ],
 "metadata": {
  "kernelspec": {
   "display_name": "[pyplatformhivetest] Tenant Conda Environment",
   "language": "python",
   "name": "genieaz_pyplatformhivetest"
  },
  "language_info": {
   "codemirror_mode": {
    "name": "ipython",
    "version": 3
   },
   "file_extension": ".py",
   "mimetype": "text/x-python",
   "name": "python",
   "nbconvert_exporter": "python",
   "pygments_lexer": "ipython3",
   "version": "3.7.10"
  }
 },
 "nbformat": 4,
 "nbformat_minor": 5
}
