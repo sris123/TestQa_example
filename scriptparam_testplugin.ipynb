{
 "cells": [
  {
   "cell_type": "code",
   "execution_count": 5,
   "id": "55b9afee-e85b-41f8-813c-c1c5f0359b55",
   "metadata": {
    "editable": false
   },
   "outputs": [],
   "source": [
    "# This cell is NOT editable. Overwrite variables on your own discretion.\n",
    "# Any changes other than the script code will NOT BE SAVED!\n",
    "# All cells are assumed to be script code cells, unless explictly tagged as 'o9_ignore'\n",
    "\n",
    "sp1 = \"val1\"\n",
    "sp2 = \"10\"\n",
    "sp3 = \"test\""
   ]
  },
  {
   "cell_type": "code",
   "execution_count": 6,
   "id": "93e7cc85-968f-4978-a127-00fd16d86262",
   "metadata": {
    "tags": [
     "o9_ignore"
    ]
   },
   "outputs": [],
   "source": [
    "# Slice Dimension Attributes defined in the plugin. Please check all queries and replace <KEY HERE> with a valid name.\n",
    "# For example: If slice is defined by Version.[Version Name] and Time.[Month]\n",
    "# input_df = ibpl Select ([Version].[Version Name].[<KEY HERE>] * [Time].[Month].[<KEY HERE>] * [Item].[Item Number]) on row, ({Measure.[M1], Measure.[M2]}) on column limit 5000;\n",
    "#                             update <KEY HERE> to valid names\n",
    "# input_df = ibpl Select ([Version].[Version Name].[CurrentWorkingView] * [Time].[Month].[January] * [Item].[Item Number]) on row, ({Measure.[M1], Measure.[M2]}) on column limit 5000;\n",
    "\n",
    "_DPBaseInputs = \"select (Version.[Version Name]*Product.[Product].Filter(#.Name in {[196426],[208821]})*Time.FiscalWeek*SalesAccount.[Account]*Location.[Location]*{Measure.[DPSellOutUnitsActuals],Measure.[Mean Pricing Save PCT],Measure.[Placement Count],Measure.[Promotion Count],Measure.[DPSellOutPrice]});\"\n",
    "\n",
    "\n",
    "# Initialize the O9DataLake with the input parameters and dataframes\n",
    "# Data can be accessed with O9DataLake.get(<Input Name>)\n",
    "# Overwritten values will not be reflected in the O9DataLake after initialization\n",
    "\n",
    "from o9_common_utils.O9DataLake import O9DataLake, ResourceType, DataSource,PluginSetting\n",
    "DPBaseInputs = O9DataLake.register(\"DPBaseInputs\",data_source = DataSource.LS, entity_type = ResourceType.IBPL, query = _DPBaseInputs,plugin_setting = PluginSetting.Inputs)\n",
    "O9DataLake.register(\"Version.[Version Name]\", data_source = DataSource.LS, entity_type = ResourceType.IBPL,plugin_setting = PluginSetting.SliceDimension)\n",
    "\n",
    "O9DataLake.register(\"out_df\",data_source = DataSource.LS,entity_type = ResourceType.IBPL,plugin_setting = PluginSetting.Outputs)\n",
    "script_params = O9DataLake.register({\"var1\":\"25\"}, data_source = DataSource.LS,plugin_setting = PluginSetting.ScriptParam)"
   ]
  },
  {
   "cell_type": "code",
   "execution_count": 7,
   "id": "ebd8df30-c7c2-413c-9464-9250cad4de79",
   "metadata": {},
   "outputs": [],
   "source": [
    "\n",
    "\n",
    "from o9_common_utils.O9DataLake import O9DataLake, ResourceType, DataSource,PluginSetting\n",
    "#getting inputs from DataLake\n",
    "dpbaseinputs = O9DataLake.get('DPBaseInputs')\n",
    "\n"
   ]
  },
  {
   "cell_type": "code",
   "execution_count": 8,
   "id": "74e4cc84-21b0-45cf-88f9-05ee2e8ab30a",
   "metadata": {},
   "outputs": [
    {
     "name": "stdout",
     "output_type": "stream",
     "text": [
      "2023-09-28 14:59:22,331 - o9_logger - INFO  - python Session\n",
      "2023-09-28 14:59:22,332 - o9_logger - ERROR  - DPBaseInputs (334, 10)\n",
      "2023-09-28 14:59:22,332 - o9_logger - DEBUG  - Debug logs\n"
     ]
    }
   ],
   "source": [
    "#user script\n",
    "import logging\n",
    "out_df = None\n",
    "logger = logging.getLogger('o9_logger')\n",
    "logger.info(\"python Session\")\n",
    "logger.error(f'DPBaseInputs {DPBaseInputs.shape}')\n",
    "logger.debug('Debug logs')\n"
   ]
  },
  {
   "cell_type": "code",
   "execution_count": 9,
   "id": "b45a5119-f5ad-4c61-9156-701ca8470bcf",
   "metadata": {},
   "outputs": [
    {
     "name": "stdout",
     "output_type": "stream",
     "text": [
      "2023-09-28 14:59:25,521 - o9_logger - INFO  - Varvalue =  25...\n"
     ]
    }
   ],
   "source": [
    "Var = O9DataLake.get_script_param(\"var1\")\n",
    "logger.info(\"Varvalue =  {}...\".format(Var))\n"
   ]
  },
  {
   "cell_type": "code",
   "execution_count": 10,
   "id": "2e9bf5f1-fd31-472f-867c-13ecba5a7938",
   "metadata": {},
   "outputs": [
    {
     "data": {
      "text/plain": [
       "'val1'"
      ]
     },
     "execution_count": 10,
     "metadata": {},
     "output_type": "execute_result"
    }
   ],
   "source": [
    "logger.info(\"Varvalue =  {}...\".format(Var))\n",
    "logger.info(\"Varvalue =  {}...\".format(Var))\n",
    "logger.info(\"Varvalue =  {}...\".format(Var))"
   ]
  },
  {
   "cell_type": "code",
   "execution_count": null,
   "id": "aee3b545-041e-4744-8dc1-b17c980134b6",
   "metadata": {},
   "outputs": [],
   "source": [
    "#pushing outputs to DataLake\n",
    "O9DataLake.put('out_df', dpbaseinputs)"
   ]
  }
 ],
 "metadata": {
  "kernelspec": {
   "display_name": "[pyplatformhivetest] Tenant Conda Environment",
   "language": "python",
   "name": "k8qa_pyplatformhivetest"
  },
  "language_info": {
   "codemirror_mode": {
    "name": "ipython",
    "version": 3
   },
   "file_extension": ".py",
   "mimetype": "text/x-python",
   "name": "python",
   "nbconvert_exporter": "python",
   "pygments_lexer": "ipython3",
   "version": "3.7.10"
  }
 },
 "nbformat": 4,
 "nbformat_minor": 5
}
