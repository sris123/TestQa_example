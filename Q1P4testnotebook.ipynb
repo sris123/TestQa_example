{
 "cells": [
  {
   "cell_type": "code",
   "execution_count": 4,
   "id": "dc26b019-f24e-4d3f-9981-0c87b113cff8",
   "metadata": {},
   "outputs": [],
   "source": [
    "_sales = \" select ([WalmartTime_Python].[Day_Python] * [Version].[Version Name].[CurrentWorkingView] * [Department_Python].[Department_ID] * [Store_Python].[Store_ID] * {Measure.[Weekly Sales_Python]});\"\n",
    "\n",
    "\n",
    "# Initialize the O9DataLake with the input parameters and dataframes\n",
    "# Data can be accessed with O9DataLake.get(<Input Name>)\n",
    "# Overwritten values will not be reflected in the O9DataLake after initialization\n",
    "\n",
    "from o9_common_utils.O9DataLake import O9DataLake, ResourceType, DataSource,PluginSetting\n",
    "sales = O9DataLake.register(\"sales\",data_source = DataSource.LS, entity_type = ResourceType.IBPL, query = _sales,plugin_setting = PluginSetting.Inputs)\n",
    "\n",
    "O9DataLake.register(\"out\",data_source = DataSource.LS,entity_type = ResourceType.IBPL,plugin_setting = PluginSetting.Outputs)\n",
    "script_params = O9DataLake.register({\"var1\":10}, data_source = DataSource.LS,plugin_setting = PluginSetting.ScriptParam)"
   ]
  },
  {
   "cell_type": "code",
   "execution_count": 5,
   "id": "bbc4712f-c614-4924-abec-58dcfb7506de",
   "metadata": {},
   "outputs": [
    {
     "data": {
      "text/plain": [
       "\"{'var1': 10}\""
      ]
     },
     "execution_count": 5,
     "metadata": {},
     "output_type": "execute_result"
    }
   ],
   "source": [
    "os.environ['script_params']"
   ]
  },
  {
   "cell_type": "code",
   "execution_count": 6,
   "id": "8ea94c68-6be4-419a-bcbc-5253fe9a6982",
   "metadata": {},
   "outputs": [
    {
     "data": {
      "text/plain": [
       "{'sales': {'name': 'sales',\n",
       "  'resource_type': <ResourceType.IBPL: 'ibpl_query'>,\n",
       "  'data_source': <DataSource.LS: 'liveserver'>,\n",
       "  'query': ' select ([WalmartTime_Python].[Day_Python] * [Version].[Version Name].[CurrentWorkingView] * [Department_Python].[Department_ID] * [Store_Python].[Store_ID] * {Measure.[Weekly Sales_Python]});',\n",
       "  'std_count_limit': '200000',\n",
       "  'df':        WalmartTime_Python.[Day_Python] Version.[Version Name]  \\\n",
       "  0                           02-05-2010     CurrentWorkingView   \n",
       "  1                           02-05-2010     CurrentWorkingView   \n",
       "  2                           02-05-2010     CurrentWorkingView   \n",
       "  3                           02-05-2010     CurrentWorkingView   \n",
       "  4                           02-05-2010     CurrentWorkingView   \n",
       "  ...                                ...                    ...   \n",
       "  421565                      10-26-2012     CurrentWorkingView   \n",
       "  421566                      10-26-2012     CurrentWorkingView   \n",
       "  421567                      10-26-2012     CurrentWorkingView   \n",
       "  421568                      10-26-2012     CurrentWorkingView   \n",
       "  421569                      10-26-2012     CurrentWorkingView   \n",
       "  \n",
       "          Department_Python.[Department_ID]  Store_Python.[Store_ID]  \\\n",
       "  0                                       1                        1   \n",
       "  1                                       2                        1   \n",
       "  2                                       3                        1   \n",
       "  3                                       4                        1   \n",
       "  4                                       5                        1   \n",
       "  ...                                   ...                      ...   \n",
       "  421565                                 91                        9   \n",
       "  421566                                 92                        9   \n",
       "  421567                                 94                        9   \n",
       "  421568                                 95                        9   \n",
       "  421569                                 96                        9   \n",
       "  \n",
       "          Weekly Sales_Python  \n",
       "  0                  24924.50  \n",
       "  1                  50605.27  \n",
       "  2                  13740.12  \n",
       "  3                  39954.04  \n",
       "  4                  32229.38  \n",
       "  ...                     ...  \n",
       "  421565               914.84  \n",
       "  421566             18310.28  \n",
       "  421567               233.02  \n",
       "  421568             32382.05  \n",
       "  421569              4752.25  \n",
       "  \n",
       "  [421570 rows x 5 columns]}}"
      ]
     },
     "execution_count": 6,
     "metadata": {},
     "output_type": "execute_result"
    }
   ],
   "source": [
    "O9DataLake.inputs"
   ]
  },
  {
   "cell_type": "code",
   "execution_count": 7,
   "id": "1a060767-cafe-409e-8fb2-2d673167a494",
   "metadata": {},
   "outputs": [
    {
     "name": "stdout",
     "output_type": "stream",
     "text": [
      "2024-04-23 22:58:47,708 - o9_logger - INFO  - WMLogger: Reading Input Dataframes\n"
     ]
    }
   ],
   "source": [
    "import logging\n",
    "logger = logging.getLogger('o9_logger')\n",
    "logger.info(\"WMLogger: Reading Input Dataframes\")\n",
    "from o9_common_utils.O9DataLake import O9DataLake\n",
    "sales = O9DataLake.get(\"sales\")"
   ]
  },
  {
   "cell_type": "code",
   "execution_count": 8,
   "id": "ab0af396-8d4e-4013-91fe-36e0098093f3",
   "metadata": {},
   "outputs": [],
   "source": [
    "O9DataLake.put(\"out\",sales)"
   ]
  }
 ],
 "metadata": {
  "id": "21d9bec0-f816-4260-9ba8-b8b0c1f59951",
  "kernelspec": {
   "display_name": "[SmokeTestAATenant] Tenant Conda Environment",
   "language": "python",
   "name": "genieaz_smoketestaatenant"
  },
  "language_info": {
   "codemirror_mode": {
    "name": "ipython",
    "version": 3
   },
   "file_extension": ".py",
   "mimetype": "text/x-python",
   "name": "python",
   "nbconvert_exporter": "python",
   "pygments_lexer": "ipython3",
   "version": "3.10.5"
  }
 },
 "nbformat": 4,
 "nbformat_minor": 5
}
