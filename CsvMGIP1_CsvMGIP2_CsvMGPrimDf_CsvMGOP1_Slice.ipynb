{
 "cells": [
  {
   "cell_type": "code",
   "execution_count": 1,
   "id": "91e68519-2b20-4a21-804f-61a959f5e68b",
   "metadata": {
    "editable": false
   },
   "outputs": [],
   "source": [
    "# This cell is NOT editable. Overwrite variables on your own discretion.\n",
    "# Any changes other than the script code will NOT BE SAVED!\n",
    "# All cells are assumed to be script code cells, unless explictly tagged as 'o9_ignore'"
   ]
  },
  {
   "cell_type": "code",
   "execution_count": 2,
   "id": "edf3a644-d02f-4952-bc86-db7cb1032f91",
   "metadata": {},
   "outputs": [
    {
     "name": "stdout",
     "output_type": "stream",
     "text": [
      "2023-01-30 05:48:36,165 : srishtisingh_5502 :IbplClient: WebApi Request Url = [https://myazureqatest.o9solutions.com/api/ibplquery/5502/ExecuteCompactJsonQuery]\n",
      "2023-01-30 05:48:36,169 : srishtisingh_5502 :Starting new HTTPS connection (1): myazureqatest.o9solutions.com:443\n",
      "2023-01-30 05:48:36,655 : srishtisingh_5502 :https://myazureqatest.o9solutions.com:443 \"POST /api/ibplquery/5502/ExecuteCompactJsonQuery HTTP/1.1\" 200 None\n",
      "2023-01-30 05:48:41,665 : srishtisingh_5502 :IbplClient: WebApi Request Url = [https://myazureqatest.o9solutions.com/api/ibplquery/5502/ExecuteCompactJsonQuery]\n",
      "2023-01-30 05:48:41,668 : srishtisingh_5502 :Starting new HTTPS connection (1): myazureqatest.o9solutions.com:443\n",
      "2023-01-30 05:48:41,893 : srishtisingh_5502 :https://myazureqatest.o9solutions.com:443 \"POST /api/ibplquery/5502/ExecuteCompactJsonQuery HTTP/1.1\" 200 None\n",
      "2023-01-30 05:48:46,921 : srishtisingh_5502 :IbplClient: WebApi Request Url = [https://myazureqatest.o9solutions.com/api/ibplquery/5502/ExecuteCompactJsonQuery]\n",
      "2023-01-30 05:48:46,924 : srishtisingh_5502 :Starting new HTTPS connection (1): myazureqatest.o9solutions.com:443\n",
      "2023-01-30 05:48:47,053 : srishtisingh_5502 :https://myazureqatest.o9solutions.com:443 \"POST /api/ibplquery/5502/ExecuteCompactJsonQuery HTTP/1.1\" 200 None\n",
      "2023-01-30 05:48:52,062 : srishtisingh_5502 :IbplClient: WebApi Request Url = [https://myazureqatest.o9solutions.com/api/ibplquery/5502/ExecuteCompactJsonQuery]\n",
      "2023-01-30 05:48:52,065 : srishtisingh_5502 :Starting new HTTPS connection (1): myazureqatest.o9solutions.com:443\n",
      "2023-01-30 05:48:52,242 : srishtisingh_5502 :https://myazureqatest.o9solutions.com:443 \"POST /api/ibplquery/5502/ExecuteCompactJsonQuery HTTP/1.1\" 200 None\n"
     ]
    }
   ],
   "source": [
    "# Slice Dimension Attributes defined in the plugin. Please check all queries and replace <KEY HERE> with a valid name.\n",
    "# For example: If slice is defined by Version.[Version Name] and Time.[Month]\n",
    "# input_df = ibpl Select ([Version].[Version Name].[<KEY HERE>] * [Time].[Month].[<KEY HERE>] * [Item].[Item Number]) on row, ({Measure.[M1], Measure.[M2]}) on column limit 5000;\n",
    "#                             update <KEY HERE> to valid names\n",
    "# input_df = ibpl Select ([Version].[Version Name].[CurrentWorkingView] * [Time].[Month].[January] * [Item].[Item Number]) on row, ({Measure.[M1], Measure.[M2]}) on column limit 5000;\n",
    "\n",
    "_input_df = \"select (Version.[Version Name]*Product.[Product]*Time.FiscalWeek*SalesAccount.[Account]*Location.[Location]*{Measure.[DPSellOutUnitsActuals],Measure.[Mean Pricing Save PCT],Measure.[Placement Count],Measure.[Promotion Count],Measure.[DPSellOutPrice]});\"\n",
    "_predict_df = \"select (Version.[Version Name]*Product.[Product]*Time.FiscalWeek*SalesAccount.[Account]*Location.[Location]*{Measure.[DPSellOutUnitsActuals],Measure.[Mean Pricing Save PCT],Measure.[Placement Count],Measure.[Promotion Count],Measure.[DPSellOutPrice]});\"\n",
    "\n",
    "\n",
    "# Initialize the O9DataLake with the input parameters and dataframes\n",
    "# Data can be accessed with O9DataLake.get(<Input Name>)\n",
    "# Overwritten values will not be reflected in the O9DataLake after initialization\n",
    "\n",
    "from o9_common_utils.O9DataLake import O9DataLake, ResourceType, DataSource\n",
    "input_df = O9DataLake.register(\"input_df\",DataSource.LS, ResourceType.IBPL, _input_df)\n",
    "predict_df = O9DataLake.register(\"predict_df\",DataSource.LS, ResourceType.IBPL, _predict_df)"
   ]
  },
  {
   "cell_type": "code",
   "execution_count": 3,
   "id": "7715dd9e-69a0-4150-8d6a-f156c990def4",
   "metadata": {},
   "outputs": [
    {
     "name": "stdout",
     "output_type": "stream",
     "text": [
      "2023-01-30 05:48:57,646 : srishtisingh_5502 :######################################\n",
      "2023-01-30 05:48:57,647 : srishtisingh_5502 :Ritu Predict df (167, 10)\n",
      "2023-01-30 05:48:57,648 : srishtisingh_5502 :Ritu input df (167, 10)\n",
      "2023-01-30 05:48:57,653 : srishtisingh_5502 :Ritu Predict df count Version.[Version Name]    167\n",
      "Product.[Product]         167\n",
      "Time.[FiscalWeek]         167\n",
      "SalesAccount.[Account]    167\n",
      "Location.[Location]       167\n",
      "DPSellOutUnitsActuals      75\n",
      "Mean Pricing Save PCT      21\n",
      "Placement Count           160\n",
      "Promotion Count            21\n",
      "DPSellOutPrice             72\n",
      "dtype: int64\n",
      "2023-01-30 05:48:57,655 : srishtisingh_5502 :Ritu input df count Version.[Version Name]    167\n",
      "Product.[Product]         167\n",
      "Time.[FiscalWeek]         167\n",
      "SalesAccount.[Account]    167\n",
      "Location.[Location]       167\n",
      "DPSellOutUnitsActuals      75\n",
      "Mean Pricing Save PCT      21\n",
      "Placement Count           160\n",
      "Promotion Count            21\n",
      "DPSellOutPrice             72\n",
      "dtype: int64\n",
      "2023-01-30 05:48:57,657 : srishtisingh_5502 :Ritu Predict df columns Index(['Version.[Version Name]', 'Product.[Product]', 'Time.[FiscalWeek]',\n",
      "       'SalesAccount.[Account]', 'Location.[Location]',\n",
      "       'DPSellOutUnitsActuals', 'Mean Pricing Save PCT', 'Placement Count',\n",
      "       'Promotion Count', 'DPSellOutPrice'],\n",
      "      dtype='object')\n",
      "2023-01-30 05:48:57,658 : srishtisingh_5502 :Ritu input df columns Index(['Version.[Version Name]', 'Product.[Product]', 'Time.[FiscalWeek]',\n",
      "       'SalesAccount.[Account]', 'Location.[Location]',\n",
      "       'DPSellOutUnitsActuals', 'Mean Pricing Save PCT', 'Placement Count',\n",
      "       'Promotion Count', 'DPSellOutPrice'],\n",
      "      dtype='object')\n",
      "2023-01-30 05:48:57,658 : srishtisingh_5502 :######################################\n",
      "2023-01-30 05:48:57,668 : srishtisingh_5502 :    Time.[FiscalWeek] Product.[Product] Version.[Version Name]  \\\n",
      "0            W03-2016            196426     CurrentWorkingView   \n",
      "1            W05-2016            196426     CurrentWorkingView   \n",
      "2            W08-2016            196426     CurrentWorkingView   \n",
      "3            W13-2016            196426     CurrentWorkingView   \n",
      "4            W48-2016            196426     CurrentWorkingView   \n",
      "..                ...               ...                    ...   \n",
      "162          W48-2018            208821     CurrentWorkingView   \n",
      "163          W49-2018            208821     CurrentWorkingView   \n",
      "164          W50-2018            208821     CurrentWorkingView   \n",
      "165          W51-2018            208821     CurrentWorkingView   \n",
      "166          W52-2018            208821     CurrentWorkingView   \n",
      "\n",
      "    SalesAccount.[Account] Location.[Location]  DPSellOutUnitsFcst  \n",
      "0                      ALL                 ALL                11.0  \n",
      "1                      ALL                 ALL                11.0  \n",
      "2                      ALL                 ALL                11.0  \n",
      "3                      ALL                 ALL                11.0  \n",
      "4                      ALL                 ALL                11.0  \n",
      "..                     ...                 ...                 ...  \n",
      "162                    ALL                 ALL                 0.0  \n",
      "163                    ALL                 ALL                 0.0  \n",
      "164                    ALL                 ALL                 0.0  \n",
      "165                    ALL                 ALL                 0.0  \n",
      "166                    ALL                 ALL                 0.0  \n",
      "\n",
      "[167 rows x 6 columns]\n"
     ]
    }
   ],
   "source": [
    "\"\"\"\n",
    "exec plugin instance [CsvMGIP1_CsvMGIP2_CsvMGPrimDf_CsvMGOP1_Slice] for measures {[DPSellOutUnitsActuals]} using scope ([Product].[Product].Filter(#.Name in {[196426],[208821]}) * [Time].[Day] * [Version].[Version Name].[CurrentWorkingView]);\n",
    "\n",
    "\"\"\"\n",
    "import logging\n",
    "from sklearn import tree\n",
    "import logging\n",
    "logger = logging.getLogger('o9_logger')\n",
    "logger.info(\"######################################\")\n",
    "logger.error(f'Ritu Predict df {predict_df.shape}')\n",
    "logger.error(f'Ritu input df {input_df.shape}')\n",
    "logger.error(f'Ritu Predict df count {predict_df.count()}')\n",
    "logger.error(f'Ritu input df count {input_df.count()}')\n",
    "logger.error(f'Ritu Predict df columns {predict_df.columns}')\n",
    "logger.error(f'Ritu input df columns {input_df.columns}')\n",
    "logger.info(\"######################################\")\n",
    "\n",
    "out_df = None\n",
    "\n",
    "if predict_df is not None and len(predict_df.index) > 0:\n",
    "    x = input_df[['Mean Pricing Save PCT', 'Placement Count', 'Promotion Count', 'DPSellOutPrice']]\n",
    "    y = input_df[['DPSellOutUnitsActuals']]\n",
    "    x = x.fillna(0).values\n",
    "    y = y.fillna(0).values\n",
    "\n",
    "    clf = tree.DecisionTreeRegressor()\n",
    "    clf = clf.fit(x, y)\n",
    "\n",
    "    predict = predict_df[['Mean Pricing Save PCT', 'Placement Count', 'Promotion Count', 'DPSellOutPrice']].fillna(0).values\n",
    "    # predict_keys = predict_df[['Time.[FiscalWeek]', 'Product.[Product]', 'Version.[Version Name]', 'SalesAccount.[Account]',                               'Location.[Location]']]\n",
    "    # predict_keys[\"Product.[Product]\"] = pd.to_numeric(predict_keys[\"Product.[Product]\"], downcast='integer')\n",
    "    predict_values = clf.predict(predict)\n",
    "    predict_df[\"DPSellOutUnitsFcst\"] = predict_values\n",
    "    #out_df = pd.concat([predict_keys, out_df_part], axis=1)\n",
    "    out_df=predict_df[['Time.[FiscalWeek]', 'Product.[Product]', 'Version.[Version Name]', 'SalesAccount.[Account]','Location.[Location]','DPSellOutUnitsFcst']]\n",
    "    logger.info(out_df)\n",
    "\n",
    "else:\n",
    "    out_df = None\n"
   ]
  }
 ],
 "metadata": {
  "kernelspec": {
   "display_name": "[pyplatformhivetest] Tenant Conda Environment",
   "language": "python",
   "name": "genieaz_pyplatformhivetest"
  },
  "language_info": {
   "codemirror_mode": {
    "name": "ipython",
    "version": 3
   },
   "file_extension": ".py",
   "mimetype": "text/x-python",
   "name": "python",
   "nbconvert_exporter": "python",
   "pygments_lexer": "ipython3",
   "version": "3.7.10"
  },
  "notebook_dict": {
   "ClassName": "o9.GraphCube.Plugins.Python.PythonScript",
   "InstanceName": "CsvMGIP1_CsvMGIP2_CsvMGPrimDf_CsvMGOP1_Slice",
   "SliceKeys": [
    {
     "AttributeName": "Product",
     "DimensionName": "Product"
    }
   ],
   "file_path": "loaded_notebooks/CsvMGIP1_CsvMGIP2_CsvMGPrimDf_CsvMGOP1_Slice.ipynb",
   "o9_selected_plugin_id": 239149
  }
 },
 "nbformat": 4,
 "nbformat_minor": 5
}
