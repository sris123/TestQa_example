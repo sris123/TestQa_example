{
 "cells": [
  {
   "cell_type": "code",
   "execution_count": null,
   "id": "83fffedb-8997-433c-b7dd-1e6296c9677e",
   "metadata": {
    "editable": false
   },
   "outputs": [],
   "source": [
    "# This cell is NOT editable. Overwrite variables on your own discretion.\n",
    "# Any changes other than the script code will NOT BE SAVED!\n",
    "# All cells are assumed to be script code cells, unless explictly tagged as 'o9_ignore'"
   ]
  },
  {
   "cell_type": "code",
   "execution_count": 9,
   "id": "e0d9ac86-834c-40de-9a82-ceb0ef04ae77",
   "metadata": {},
   "outputs": [],
   "source": [
    "# Slice Dimension Attributes defined in the plugin. Please check all queries and replace <KEY HERE> with a valid name.\n",
    "# For example: If slice is defined by Version.[Version Name] and Time.[Month]\n",
    "# input_df = ibpl Select ([Version].[Version Name].[<KEY HERE>] * [Time].[Month].[<KEY HERE>] * [Item].[Item Number]) on row, ({Measure.[M1], Measure.[M2]}) on column limit 5000;\n",
    "#                             update <KEY HERE> to valid names\n",
    "# input_df = ibpl Select ([Version].[Version Name].[CurrentWorkingView] * [Time].[Month].[January] * [Item].[Item Number]) on row, ({Measure.[M1], Measure.[M2]}) on column limit 5000;\n",
    "\n",
    "_DPBaseInputs = \"select (Version.[Version Name]);\"\n",
    "_sales_df = \"select (Version.[Version Name]);\"\n",
    "\n",
    "\n",
    "# Initialize the O9DataLake with the input parameters and dataframes\n",
    "# Data can be accessed with O9DataLake.get(<Input Name>)\n",
    "# Overwritten values will not be reflected in the O9DataLake after initialization\n",
    "\n",
    "from o9_common_utils.O9DataLake import O9DataLake, ResourceType, DataSource\n",
    "O9DataLake.register(\"DPBaseInputs\",DataSource.LS, ResourceType.IBPL, _DPBaseInputs)\n",
    "O9DataLake.register(\"sales_df\",DataSource.LS, ResourceType.IBPL, _sales_df)"
   ]
  },
  {
   "cell_type": "code",
   "execution_count": 12,
   "id": "32c9fa5d-ea47-40ea-99a3-557c4787726c",
   "metadata": {},
   "outputs": [
    {
     "name": "stdout",
     "output_type": "stream",
     "text": [
      "2022-09-29 07:18:58,705 : srishtisingh_5502 :IbplClient: WebApi Request Url = [https://mygenieazure.o9solutions.com/api/ibplquery/5502/ExecuteCompactJsonQuery]\n",
      "2022-09-29 07:18:58,912 : srishtisingh_5502 :IbplClient: WebApi Request Url = [https://mygenieazure.o9solutions.com/api/ibplquery/5502/ExecuteCompactJsonQuery]\n",
      "2022-09-29 07:18:59,050 : srishtisingh_5502 :Records count in sales dataframe : (2, 1)\n",
      "2022-09-29 07:18:59,051 : srishtisingh_5502 :Records count in DPBaseInputs dataframe : (2, 1)\n",
      "2022-09-29 07:18:59,052 : srishtisingh_5502 :Hello warning\n",
      "2022-09-29 07:18:59,053 : srishtisingh_5502 :Hello error\n"
     ]
    }
   ],
   "source": [
    "# This cell is NOT editable. Overwrite variables on your own discretion.\n",
    "# Any changes other than the script code will NOT BE SAVED!\n",
    "# All cells are assumed to be script code cells, unless explictly tagged as 'o9_ignore'\n",
    "# Slice Dimension Attributes defined in the plugin. Please check all queries and replace <KEY HERE> with a valid name.\n",
    "# For example: If slice is defined by Version.[Version Name] and Time.[Month]\n",
    "# input_df = ibpl Select ([Version].[Version Name].[<KEY HERE>] * [Time].[Month].[<KEY HERE>] * [Item].[Item Number]) on row, ({Measure.[M1], Measure.[M2]}) on column limit 5000;\n",
    "#                             update <KEY HERE> to valid names\n",
    "# input_df = ibpl Select ([Version].[Version Name].[CurrentWorkingView] * [Time].[Month].[January] * [Item].[Item Number]) on row, ({Measure.[M1], Measure.[M2]}) on column limit 5000;\n",
    "\n",
    "_DPBaseInputs = \"select (Version.[Version Name]);\"\n",
    "_sales_df = \"select (Version.[Version Name]);\"\n",
    "\n",
    "\n",
    "# Initialize the O9DataLake with the input parameters and dataframes\n",
    "# Data can be accessed with O9DataLake.get(<Input Name>)\n",
    "# Overwritten values will not be reflected in the O9DataLake after initialization\n",
    "\n",
    "from o9_common_utils.O9DataLake import O9DataLake, ResourceType, DataSource\n",
    "O9DataLake.register(\"DPBaseInputs\",DataSource.LS, ResourceType.IBPL, _DPBaseInputs)\n",
    "O9DataLake.register(\"sales_df\",DataSource.LS, ResourceType.IBPL, _sales_df)\n",
    "\n",
    "\n",
    "#from o9_common_utils.O9DataLake import O9DataLake, ResourceType, DataSource\n",
    "#query1 = \"select (Version.[Version Name]);\"\n",
    "#query2 = \"select (Version.[Version Name]);\"\n",
    "#O9DataLake.register(\"sales_df\",DataSource.LS, ResourceType.IBPL, query1) \n",
    "#O9DataLake.register(\"DPBaseInputs\",DataSource.LS, ResourceType.IBPL, query2)\n",
    "#getting input from dataLake\n",
    "\n",
    "sales = O9DataLake.get('sales_df')\n",
    "dpbaseinputs = O9DataLake.get('DPBaseInputs')\n",
    "\n",
    "#User Script\n",
    "import logging\n",
    "out_df1 = None\n",
    "logger = logging.getLogger('o9_logger')\n",
    "logger.info(f'Records count in sales dataframe : {sales.shape}')\n",
    "logger.info(f'Records count in DPBaseInputs dataframe : {dpbaseinputs.shape}')\n",
    "\n",
    "logger.warning(\"Hello warning\")\n",
    "logger.error(\"Hello error\")\n",
    "\n",
    "#pushing output to the DataLake\n",
    "O9DataLake.put('out_df1',sales)"
   ]
  },
  {
   "cell_type": "code",
   "execution_count": null,
   "id": "469aba76-dedd-4194-ba65-121b92c0ca5e",
   "metadata": {},
   "outputs": [],
   "source": []
  }
 ],
 "metadata": {
  "kernelspec": {
   "display_name": "[pyplatformhivetest] Tenant Conda Environment",
   "language": "python",
   "name": "genieaz_pyplatformhivetest"
  },
  "language_info": {
   "codemirror_mode": {
    "name": "ipython",
    "version": 3
   },
   "file_extension": ".py",
   "mimetype": "text/x-python",
   "name": "python",
   "nbconvert_exporter": "python",
   "pygments_lexer": "ipython3",
   "version": "3.7.10"
  },
  "notebook_dict": {
   "ClassName": "o9.GraphCube.Plugins.Python.PythonScript",
   "InstanceName": "createplugin_ex1",
   "SliceKeys": [
    {
     "AttributeName": "Version Name",
     "DimensionName": "Version"
    }
   ],
   "file_path": "loaded_notebooks/createplugin_ex1.ipynb",
   "o9_selected_plugin_id": 199407
  }
 },
 "nbformat": 4,
 "nbformat_minor": 5
}
