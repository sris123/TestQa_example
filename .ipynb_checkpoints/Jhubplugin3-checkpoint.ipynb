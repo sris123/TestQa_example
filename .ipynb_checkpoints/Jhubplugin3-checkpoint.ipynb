{
 "cells": [
  {
   "cell_type": "code",
   "execution_count": null,
   "id": "910b2239-47f8-49f8-b4bf-b19b7c26ae93",
   "metadata": {
    "editable": false
   },
   "outputs": [],
   "source": [
    "# This cell is NOT editable. Overwrite variables on your own discretion.\n",
    "# Any changes other than the script code will NOT BE SAVED!\n",
    "# All cells are assumed to be script code cells, unless explictly tagged as 'o9_ignore'"
   ]
  },
  {
   "cell_type": "code",
   "execution_count": 1,
   "id": "10a2f39b-ace4-4152-bc3e-b2638afcaccc",
   "metadata": {},
   "outputs": [],
   "source": [
    "# Slice Dimension Attributes defined in the plugin. Please check all queries and replace <KEY HERE> with a valid name.\n",
    "# For example: If slice is defined by Version.[Version Name] and Time.[Month]\n",
    "# input_df = ibpl Select ([Version].[Version Name].[<KEY HERE>] * [Time].[Month].[<KEY HERE>] * [Item].[Item Number]) on row, ({Measure.[M1], Measure.[M2]}) on column limit 5000;\n",
    "#                             update <KEY HERE> to valid names\n",
    "# input_df = ibpl Select ([Version].[Version Name].[CurrentWorkingView] * [Time].[Month].[January] * [Item].[Item Number]) on row, ({Measure.[M1], Measure.[M2]}) on column limit 5000;\n",
    "\n",
    "_sales_df = \"select (Version.[Version Name]);\"\n",
    "_DPBaseInputs = \"select (Version.[Version Name]);\"\n",
    "\n",
    "\n",
    "# Initialize the O9DataLake with the input parameters and dataframes\n",
    "# Data can be accessed with O9DataLake.get(<Input Name>)\n",
    "# Overwritten values will not be reflected in the O9DataLake after initialization\n",
    "\n",
    "from o9_common_utils.O9DataLake import O9DataLake, ResourceType, DataSource\n",
    "O9DataLake.register(\"sales_df\",DataSource.LS, ResourceType.IBPL, _sales_df)\n",
    "O9DataLake.register(\"DPBaseInputs\",DataSource.LS, ResourceType.IBPL, _DPBaseInputs)"
   ]
  },
  {
   "cell_type": "code",
   "execution_count": null,
   "id": "8736148f-5e98-42c1-a217-848fe934ae50",
   "metadata": {},
   "outputs": [],
   "source": [
    "\n",
    "\n",
    "#This cells needs to be ignored\n",
    "#Here we are validating the create plugin functionality in Jhub\n",
    "#All cells are Assumed to be script cells, unless explicitly marked as o9_ignore\n",
    "from o9_common_utils.O9DataLake import O9DataLake, ResourceType, DataSource\n",
    "query1 = \"select (Version.[Version Name]);\"\n",
    "query2 = \"select (Version.[Version Name]);\"\n",
    "O9DataLake.register(\"sales_df\",DataSource.LS, ResourceType.IBPL, query1) \n",
    "O9DataLake.register(\"DPBaseInputs\",DataSource.LS, ResourceType.IBPL, query2)\n",
    "#getting input from dataLake\n",
    "\n",
    "sales = O9DataLake.get('sales_df')\n",
    "dpbaseinputs = O9DataLake.get('DPBaseInputs')\n",
    "\n",
    "#User Script\n",
    "import logging\n",
    "out_df1 = None\n",
    "logger = logging.getLogger('o9_logger')\n",
    "logger.info(f'Records count in sales dataframe : {sales.shape}')\n",
    "logger.info(f'Records count in DPBaseInputs dataframe : {dpbaseinputs.shape}')\n",
    "logger.warning(\"Hello warning\")\n",
    "logger.error(\"Hello error\")\n",
    "\n",
    "#pushing output to the DataLake\n",
    "O9DataLake.put('out_df1',sales)\n",
    "\n"
   ]
  },
  {
   "cell_type": "code",
   "execution_count": null,
   "id": "ed82a5ec-662b-4914-845a-c2ec99c20d55",
   "metadata": {
    "tags": [
     "o9_ignore"
    ]
   },
   "outputs": [],
   "source": [
    "print(\"o9 hello\")"
   ]
  }
 ],
 "metadata": {
  "kernelspec": {
   "display_name": "[pyplatformhivetest] Tenant Conda Environment",
   "language": "python",
   "name": "genieaz_pyplatformhivetest"
  },
  "language_info": {
   "codemirror_mode": {
    "name": "ipython",
    "version": 3
   },
   "file_extension": ".py",
   "mimetype": "text/x-python",
   "name": "python",
   "nbconvert_exporter": "python",
   "pygments_lexer": "ipython3",
   "version": "3.7.10"
  },
  "notebook_dict": {
   "ClassName": "o9.GraphCube.Plugins.Python.PythonScript",
   "InstanceName": "Jhubplugin3",
   "SliceKeys": [
    {
     "AttributeName": "Version Name",
     "DimensionName": "Version"
    }
   ],
   "file_path": "loaded_notebooks/Jhubplugin3.ipynb",
   "o9_selected_plugin_id": 196906
  }
 },
 "nbformat": 4,
 "nbformat_minor": 5
}
