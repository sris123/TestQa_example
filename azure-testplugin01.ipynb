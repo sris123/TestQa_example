{
  "cells": [
    {
      "cell_type": "code",
      "execution_count": 5,
      "id": "52cd04c2-bf62-4e45-ab31-89ab9f68ca55",
      "metadata": {},
      "outputs": [],
      "source": [
        "_predict_df = \"select (Version.[Version Name]*Product.[Product].[196426]*Time.FiscalWeek*SalesAccount.[Account]*Location.[Location]*{Measure.[DPSellOutUnitsActuals],Measure.[Mean Pricing Save PCT],Measure.[Placement Count],Measure.[Promotion Count],Measure.[DPSellOutPrice]});\"\n",
        "_input_df = \"select (Version.[Version Name]*Product.[Product].[208821]*Time.FiscalWeek*SalesAccount.[Account]*Location.[Location]*{Measure.[DPSellOutUnitsActuals],Measure.[Mean Pricing Save PCT],Measure.[Placement Count],Measure.[Promotion Count],Measure.[DPSellOutPrice]});\"\n",
        "\n",
        "from o9_common_utils.O9DataLake import O9DataLake, ResourceType, DataSource,PluginSetting\n",
        "\n",
        "# register inputs\n",
        "predict_df = O9DataLake.register(\"predict_df\",data_source = DataSource.LS, entity_type = ResourceType.IBPL, query = _predict_df,plugin_setting = PluginSetting.Inputs)\n",
        "input_df = O9DataLake.register(\"input_df\",data_source = DataSource.LS, entity_type = ResourceType.IBPL, query = _input_df,plugin_setting = PluginSetting.Inputs)\n",
        "\n",
        "O9DataLake.register(\"Product.[Product]\", data_source = DataSource.LS, entity_type = ResourceType.IBPL, plugin_setting = PluginSetting.SliceDimension)\n",
        "\n",
        "# register outputs\n",
        "O9DataLake.register(\"output1\",data_source = DataSource.LS,entity_type = ResourceType.IBPL, plugin_setting = PluginSetting.Outputs)\n",
        "\n",
        "# register script params\n",
        "script_params = O9DataLake.register({\"var1\":\"10\",\"var2\":\"Test1\"}, data_source = DataSource.LS, plugin_setting = PluginSetting.ScriptParam)\n"
      ]
    },
    {
      "cell_type": "code",
      "execution_count": 6,
      "id": "4a070ac3-79ad-4ef8-8030-59ff5ec37094",
      "metadata": {},
      "outputs": [],
      "source": [
        "# fetching inputs\n",
        "predict_df = O9DataLake.get('predict_df')\n",
        "input_df = O9DataLake.get('input_df')"
      ]
    },
    {
      "cell_type": "code",
      "execution_count": 7,
      "id": "a8bfec1f-0930-4c37-953d-dfa63fbdab71",
      "metadata": {},
      "outputs": [
        {
          "name": "stdout",
          "output_type": "stream",
          "text": [
            "DOne\n"
          ]
        }
      ],
      "source": [
        "print('DOne')"
      ]
    }
  ],
  "metadata": {
    "id": "bf2803ad-210b-4e68-9951-8d141e6786d4",
    "kernelspec": {
      "display_name": "[pyplatformhivetest] Tenant Conda Environment",
      "language": "python",
      "name": "genieaz_pyplatformhivetest"
    },
    "language_info": {
      "codemirror_mode": {
        "name": "ipython",
        "version": 3
      },
      "file_extension": ".py",
      "mimetype": "text/x-python",
      "name": "python",
      "nbconvert_exporter": "python",
      "pygments_lexer": "ipython3",
      "version": "3.7.10"
    }
  },
  "nbformat": 4,
  "nbformat_minor": 5
}