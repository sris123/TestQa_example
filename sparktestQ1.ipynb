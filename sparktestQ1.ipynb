{
 "cells": [
  {
   "cell_type": "code",
   "execution_count": null,
   "id": "5af7890c-b9f9-418f-a158-703f760ed122",
   "metadata": {},
   "outputs": [],
   "source": [
    "_predict_df = \"select (Version.[Version Name]*Product.[Product]*Time.FiscalWeek*SalesAccount.[Account]*Location.[Location]*{Measure.[DPSellOutUnitsActuals],Measure.[Mean Pricing Save PCT],Measure.[Placement Count],Measure.[Promotion Count],Measure.[DPSellOutPrice]});\"\n",
    "\n",
    "from o9_common_utils.O9DataLake import O9DataLake, ResourceType, DataSource,PluginSetting\n",
    "\n",
    "# register inputs\n",
    "predict_df = O9DataLake.register(\"predict_df\",data_source = DataSource.LS, entity_type = ResourceType.IBPL, query = _predict_df,plugin_setting = PluginSetting.Inputs, spark = spark)\n",
    "#systemreport = O9DataLake.register(\"newsysreportq4\",data_source = DataSource.LIVEFRAME,entity_type = ResourceType.LIVEFRAME,plugin_setting = PluginSetting.Inputs)\n",
    "\n",
    "\n",
    "# register slice dimension\n",
    "#O9DataLake.register(\"Product.[Product]\", data_source = DataSource.LS, entity_type = ResourceType.IBPL, plugin_setting = PluginSetting.SliceDimension)\n",
    "\n",
    "# register outputs\n",
    "O9DataLake.register(\"output1\",data_source = DataSource.LS,entity_type = ResourceType.IBPL, plugin_setting = PluginSetting.Outputs, spark = spark)\n",
    "\n",
    "\n",
    "# register script params\n",
    "script_params = O9DataLake.register({\"var1\":\"50\",\"var2\":\"Test1\",\"var3\":\"newparam\",\"var4\":\"80\"}, data_source = DataSource.LS, plugin_setting = PluginSetting.ScriptParam)"
   ]
  }
 ],
 "metadata": {
  "id": "b1b17e93-370f-4ca9-a6eb-c87c9e19796d",
  "kernelspec": {
   "display_name": "[SparkK8Org1Tenant2] Tenant Conda Environment",
   "language": "python",
   "name": "qa_sparkk8org1tenant2"
  },
  "language_info": {
   "codemirror_mode": {
    "name": "ipython",
    "version": 3
   },
   "file_extension": ".py",
   "mimetype": "text/x-python",
   "name": "python",
   "nbconvert_exporter": "python",
   "pygments_lexer": "ipython3",
   "version": "3.10.5"
  }
 },
 "nbformat": 4,
 "nbformat_minor": 5
}
