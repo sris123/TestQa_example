{
 "cells": [
  {
   "cell_type": "code",
   "execution_count": 5,
   "id": "db4f1ff3-dfe3-4430-882a-4cd666e39937",
   "metadata": {},
   "outputs": [
    {
     "data": {
      "application/vnd.jupyter.widget-view+json": {
       "model_id": "",
       "version_major": 2,
       "version_minor": 0
      },
      "text/plain": [
       "FloatProgress(value=0.0, bar_style='info', description='Progress:', layout=Layout(height='25px', width='50%'),…"
      ]
     },
     "metadata": {},
     "output_type": "display_data"
    }
   ],
   "source": [
    "_predict_df = \"select (Version.[Version Name]*Product.[Product].[208821]*Time.FiscalWeek*SalesAccount.[Account]*Location.[Location]*{Measure.[DPSellOutUnitsActuals],Measure.[Mean Pricing Save PCT],Measure.[Placement Count],Measure.[Promotion Count],Measure.[DPSellOutPrice]});\"\n",
    "\n",
    "from o9_common_utils.O9DataLake import O9DataLake, ResourceType, DataSource,PluginSetting\n",
    "\n",
    "# register inputs\n",
    "predict_df = O9DataLake.register(\"predict_df\",data_source = DataSource.LS, entity_type = ResourceType.IBPL, query = _predict_df,plugin_setting = PluginSetting.Inputs,spark = spark)\n",
    "\n",
    "\n",
    "# register slice dimension\n",
    "O9DataLake.register(\"Product.[Product]\", data_source = DataSource.LS, entity_type = ResourceType.IBPL, plugin_setting = PluginSetting.SliceDimension)\n",
    "\n",
    "# register outputs\n",
    "O9DataLake.register(\"output1\",data_source = DataSource.LS,entity_type = ResourceType.IBPL, plugin_setting = PluginSetting.Outputs)\n",
    "\n",
    "# register script params\n",
    "script_params = O9DataLake.register({\"var1\":\"20\",\"var2\":\"Test1\",\"newparam\":\"new\"}, data_source = DataSource.LS, plugin_setting = PluginSetting.ScriptParam)"
   ]
  },
  {
   "cell_type": "code",
   "execution_count": 7,
   "id": "0cceda46-1bb8-453a-ac73-75616d521db9",
   "metadata": {},
   "outputs": [
    {
     "data": {
      "application/vnd.jupyter.widget-view+json": {
       "model_id": "",
       "version_major": 2,
       "version_minor": 0
      },
      "text/plain": [
       "FloatProgress(value=0.0, bar_style='info', description='Progress:', layout=Layout(height='25px', width='50%'),…"
      ]
     },
     "metadata": {},
     "output_type": "display_data"
    }
   ],
   "source": [
    "ReportName = O9DataLake.register(\"WeeklySales\",data_source = DataSource.LIVEFRAME,entity_type = ResourceType.LIVEFRAME,plugin_setting = PluginSetting.Inputs,spark = spark)"
   ]
  },
  {
   "cell_type": "code",
   "execution_count": 8,
   "id": "3635b803-1063-4044-a8b7-9d8ed4444847",
   "metadata": {},
   "outputs": [
    {
     "data": {
      "application/vnd.jupyter.widget-view+json": {
       "model_id": "",
       "version_major": 2,
       "version_minor": 0
      },
      "text/plain": [
       "FloatProgress(value=0.0, bar_style='info', description='Progress:', layout=Layout(height='25px', width='50%'),…"
      ]
     },
     "metadata": {},
     "output_type": "display_data"
    },
    {
     "name": "stdout",
     "output_type": "stream",
     "text": [
      "421570"
     ]
    }
   ],
   "source": [
    "type(ReportName)\n",
    "ReportName.count()"
   ]
  },
  {
   "cell_type": "code",
   "execution_count": 9,
   "id": "28cfd2ac-5fc0-496f-8596-136f849e0135",
   "metadata": {},
   "outputs": [
    {
     "data": {
      "application/vnd.jupyter.widget-view+json": {
       "model_id": "",
       "version_major": 2,
       "version_minor": 0
      },
      "text/plain": [
       "FloatProgress(value=0.0, bar_style='info', description='Progress:', layout=Layout(height='25px', width='50%'),…"
      ]
     },
     "metadata": {},
     "output_type": "display_data"
    },
    {
     "name": "stdout",
     "output_type": "stream",
     "text": [
      "<class 'pyspark.sql.dataframe.DataFrame'>"
     ]
    }
   ],
   "source": [
    "type(predict_df)"
   ]
  },
  {
   "cell_type": "code",
   "execution_count": 10,
   "id": "c6010554-5387-4978-9c6e-f9b76ae6357b",
   "metadata": {},
   "outputs": [
    {
     "data": {
      "application/vnd.jupyter.widget-view+json": {
       "model_id": "",
       "version_major": 2,
       "version_minor": 0
      },
      "text/plain": [
       "FloatProgress(value=0.0, bar_style='info', description='Progress:', layout=Layout(height='25px', width='50%'),…"
      ]
     },
     "metadata": {},
     "output_type": "display_data"
    },
    {
     "name": "stdout",
     "output_type": "stream",
     "text": [
      "320"
     ]
    }
   ],
   "source": [
    "predict_df.count()"
   ]
  },
  {
   "cell_type": "code",
   "execution_count": 11,
   "id": "72bb7da7-b9d4-4312-a9c4-04bcb0c9f2e0",
   "metadata": {},
   "outputs": [
    {
     "data": {
      "application/vnd.jupyter.widget-view+json": {
       "model_id": "",
       "version_major": 2,
       "version_minor": 0
      },
      "text/plain": [
       "FloatProgress(value=0.0, bar_style='info', description='Progress:', layout=Layout(height='25px', width='50%'),…"
      ]
     },
     "metadata": {},
     "output_type": "display_data"
    }
   ],
   "source": [
    "# fetching inputs\n",
    "predict_df = O9DataLake.get('predict_df')\n",
    "\n",
    "ReportName = O9DataLake.get('WeeklySales')\n",
    "# fetching script params\n",
    "value1 = O9DataLake.get_script_param(\"var1\")\n",
    "value2 = O9DataLake.get_script_param(\"var2\")"
   ]
  },
  {
   "cell_type": "code",
   "execution_count": 12,
   "id": "20e95550-5663-4d17-90ba-64e07a29f084",
   "metadata": {},
   "outputs": [
    {
     "data": {
      "application/vnd.jupyter.widget-view+json": {
       "model_id": "",
       "version_major": 2,
       "version_minor": 0
      },
      "text/plain": [
       "FloatProgress(value=0.0, bar_style='info', description='Progress:', layout=Layout(height='25px', width='50%'),…"
      ]
     },
     "metadata": {},
     "output_type": "display_data"
    },
    {
     "name": "stdout",
     "output_type": "stream",
     "text": [
      "+------------------+--------------+--------------+-------------------+----------------+---------------------+------------------+--------------+--------------+--------------+\n",
      "|VersionVersionName|ProductProduct|TimeFiscalWeek|SalesAccountAccount|LocationLocation|DPSellOutUnitsActuals|MeanPricingSavePCT|PlacementCount|PromotionCount|DPSellOutPrice|\n",
      "+------------------+--------------+--------------+-------------------+----------------+---------------------+------------------+--------------+--------------+--------------+\n",
      "|                S1|        208821|      W49-2015|                ALL|             ALL|                  NaN|               NaN|           2.0|           NaN|           NaN|\n",
      "|CurrentWorkingView|        208821|      W49-2015|                ALL|             ALL|                  NaN|               NaN|           2.0|           NaN|           NaN|\n",
      "|                S1|        208821|      W50-2015|                ALL|             ALL|                  NaN|               NaN|           2.0|           NaN|           NaN|\n",
      "|CurrentWorkingView|        208821|      W50-2015|                ALL|             ALL|                  NaN|               NaN|           2.0|           NaN|           NaN|\n",
      "|                S1|        208821|      W51-2015|                ALL|             ALL|                  NaN|               NaN|           2.0|           NaN|           NaN|\n",
      "|CurrentWorkingView|        208821|      W51-2015|                ALL|             ALL|                  NaN|               NaN|           2.0|           NaN|           NaN|\n",
      "|                S1|        208821|      W52-2015|                ALL|             ALL|                  NaN|               NaN|           2.0|           NaN|           NaN|\n",
      "|CurrentWorkingView|        208821|      W52-2015|                ALL|             ALL|                  NaN|               NaN|           2.0|           NaN|           NaN|\n",
      "|                S1|        208821|      W01-2016|                ALL|             ALL|                  NaN|               NaN|           2.0|           NaN|           NaN|\n",
      "|CurrentWorkingView|        208821|      W01-2016|                ALL|             ALL|                  NaN|               NaN|           2.0|           NaN|           NaN|\n",
      "|                S1|        208821|      W02-2016|                ALL|             ALL|                  NaN|               NaN|           2.0|           NaN|           NaN|\n",
      "|CurrentWorkingView|        208821|      W02-2016|                ALL|             ALL|                  NaN|               NaN|           2.0|           NaN|           NaN|\n",
      "|                S1|        208821|      W03-2016|                ALL|             ALL|                 58.0|               NaN|           2.0|           NaN|     37.206898|\n",
      "|CurrentWorkingView|        208821|      W03-2016|                ALL|             ALL|                 58.0|               NaN|           2.0|           NaN|     37.206898|\n",
      "|                S1|        208821|      W04-2016|                ALL|             ALL|                 45.0|               NaN|           2.0|           NaN|      39.11111|\n",
      "|CurrentWorkingView|        208821|      W04-2016|                ALL|             ALL|                 45.0|               NaN|           2.0|           NaN|      39.11111|\n",
      "|                S1|        208821|      W05-2016|                ALL|             ALL|                 51.0|               NaN|           2.0|           NaN|      40.54902|\n",
      "|CurrentWorkingView|        208821|      W05-2016|                ALL|             ALL|                 51.0|               NaN|           2.0|           NaN|      40.54902|\n",
      "|                S1|        208821|      W06-2016|                ALL|             ALL|                  NaN|               NaN|           2.0|           NaN|           NaN|\n",
      "|CurrentWorkingView|        208821|      W06-2016|                ALL|             ALL|                  NaN|               NaN|           2.0|           NaN|           NaN|\n",
      "+------------------+--------------+--------------+-------------------+----------------+---------------------+------------------+--------------+--------------+--------------+\n",
      "only showing top 20 rows"
     ]
    }
   ],
   "source": [
    "predict_df.show()"
   ]
  },
  {
   "cell_type": "code",
   "execution_count": 13,
   "id": "bd6d0df1-6014-45f1-a15d-a00cd34628db",
   "metadata": {},
   "outputs": [
    {
     "data": {
      "application/vnd.jupyter.widget-view+json": {
       "model_id": "",
       "version_major": 2,
       "version_minor": 0
      },
      "text/plain": [
       "FloatProgress(value=0.0, bar_style='info', description='Progress:', layout=Layout(height='25px', width='50%'),…"
      ]
     },
     "metadata": {},
     "output_type": "display_data"
    },
    {
     "name": "stdout",
     "output_type": "stream",
     "text": [
      "2024-07-30 06:56:13,744 - o9_logger - DEBUG - predict_df dataframe:  320\n",
      "2024-07-30 06:56:14,491 - o9_logger - DEBUG - liveinput dataframe:  421570\n",
      "2024-07-30 06:56:14,491 - o9_logger - DEBUG - script param var1 value: 20\n",
      "2024-07-30 06:56:14,492 - o9_logger - DEBUG - script param var2 value: Test1"
     ]
    }
   ],
   "source": [
    "#user script\n",
    "\n",
    "# package imports\n",
    "import logging\n",
    "from sklearn import tree\n",
    "\n",
    "# initialize output variables\n",
    "output1 = None\n",
    "output2 = None\n",
    "\n",
    "\n",
    "# initialize logger\n",
    "logger = logging.getLogger('o9_logger')\n",
    "\n",
    "logger.debug(f'predict_df dataframe:  {predict_df.count()}')\n",
    "\n",
    "logger.debug(f'liveinput dataframe:  {ReportName.count()}')\n",
    "logger.debug(f'script param var1 value: {value1}')\n",
    "logger.debug(f'script param var2 value: {value2}')"
   ]
  },
  {
   "cell_type": "code",
   "execution_count": 14,
   "id": "23c99e6f-52d1-489c-93aa-a0506cb10eef",
   "metadata": {},
   "outputs": [
    {
     "data": {
      "application/vnd.jupyter.widget-view+json": {
       "model_id": "",
       "version_major": 2,
       "version_minor": 0
      },
      "text/plain": [
       "FloatProgress(value=0.0, bar_style='info', description='Progress:', layout=Layout(height='25px', width='50%'),…"
      ]
     },
     "metadata": {},
     "output_type": "display_data"
    },
    {
     "name": "stdout",
     "output_type": "stream",
     "text": [
      "2024-07-30 06:56:24,380 - o9_logger - DEBUG - systemreport dataframe:  Row(WalmartTimeDay='02-05-2010', StoreStoreID='1', DepartmentDepartmentID='1', VersionVersionName='CurrentWorkingView', CPI=211.0963592529297, FuelPrice=2.572000026702881, MarkDown1=nan, MarkDown2=nan, MarkDown3=nan, MarkDown4=nan, MarkDown5=nan, Temperature=42.310001373291016, Unemployment=8.105999946594238, WeeklySales=24924.5)"
     ]
    }
   ],
   "source": [
    "output1 = ReportName\n",
    "logger.debug(f'systemreport dataframe:  {ReportName.head()}')"
   ]
  },
  {
   "cell_type": "code",
   "execution_count": 15,
   "id": "9780addc-fe0c-49b8-8e9f-f45e9b680a32",
   "metadata": {},
   "outputs": [
    {
     "data": {
      "application/vnd.jupyter.widget-view+json": {
       "model_id": "",
       "version_major": 2,
       "version_minor": 0
      },
      "text/plain": [
       "FloatProgress(value=0.0, bar_style='info', description='Progress:', layout=Layout(height='25px', width='50%'),…"
      ]
     },
     "metadata": {},
     "output_type": "display_data"
    },
    {
     "name": "stdout",
     "output_type": "stream",
     "text": [
      "2024-07-30 06:56:34,611 - o9_logger - DEBUG - HDFS enabled: False\n",
      "Failed to save output to Live Server\n",
      "[Errno 13] Permission denied: '/mnt/resource'"
     ]
    }
   ],
   "source": [
    "#pushing outputs to Live Server(make sure all dimensions,measures present in LiveServer)\n",
    "O9DataLake.put('output1', output1)"
   ]
  },
  {
   "cell_type": "code",
   "execution_count": null,
   "id": "28c2913c-6bf3-4ffd-8a2e-50d449757b7a",
   "metadata": {},
   "outputs": [],
   "source": []
  }
 ],
 "metadata": {
  "kernelspec": {
   "display_name": "[pyplatformhivetest] Tenant Conda Environment",
   "language": "python",
   "name": "genieaz_pyplatformhivetest"
  },
  "language_info": {
   "codemirror_mode": {
    "name": "ipython",
    "version": 3
   },
   "file_extension": ".py",
   "mimetype": "text/x-python",
   "name": "python",
   "nbconvert_exporter": "python",
   "pygments_lexer": "ipython3",
   "version": "3.7.10"
  }
 },
 "nbformat": 4,
 "nbformat_minor": 5
}
