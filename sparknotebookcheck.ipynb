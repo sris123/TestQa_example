{
 "cells": [
  {
   "cell_type": "code",
   "execution_count": 6,
   "id": "0d04a4de-8019-4281-9959-eca48cbd4ede",
   "metadata": {},
   "outputs": [
    {
     "data": {
      "application/vnd.jupyter.widget-view+json": {
       "model_id": "",
       "version_major": 2,
       "version_minor": 0
      },
      "text/plain": [
       "FloatProgress(value=0.0, bar_style='info', description='Progress:', layout=Layout(height='25px', width='50%'),…"
      ]
     },
     "metadata": {},
     "output_type": "display_data"
    }
   ],
   "source": [
    "_DPBaseInputs = \"select (Version.[Version Name]*Product.[Product].[196426]*Time.FiscalWeek*SalesAccount.[Account]*Location.[Location]*{Measure.[DPSellOutUnitsActuals],Measure.[Mean Pricing Save PCT],Measure.[Placement Count],Measure.[Promotion Count],Measure.[DPSellOutPrice]});\"\n",
    "_sales_df = \"select (Version.[Version Name]*Product.[Product].[196426]*Time.FiscalWeek*SalesAccount.[Account]*Location.[Location]*{Measure.[DPSellOutUnitsActuals],Measure.[Mean Pricing Save PCT],Measure.[Placement Count],Measure.[Promotion Count],Measure.[DPSellOutPrice]});\"\n",
    "\n",
    "\n",
    "# Initialize the O9DataLake with the input parameters and dataframes\n",
    "# Data can be accessed with O9DataLake.get(<Input Name>)\n",
    "# Overwritten values will not be reflected in the O9DataLake after initialization\n",
    "\n",
    "from o9_common_utils.O9DataLake import O9DataLake, ResourceType, DataSource,PluginSetting\n",
    "DPBaseInputs = O9DataLake.register(\"DPBaseInputs\",data_source = DataSource.LS, entity_type = ResourceType.IBPL, query = _DPBaseInputs,plugin_setting = PluginSetting.Inputs, spark = spark)\n",
    "sales_df = O9DataLake.register(\"sales_df\",data_source = DataSource.LS, entity_type = ResourceType.IBPL, query = _sales_df,plugin_setting = PluginSetting.Inputs, spark = spark)\n",
    "\n",
    "O9DataLake.register(\"PredictedSales\",data_source = DataSource.LS,entity_type = ResourceType.IBPL,plugin_setting = PluginSetting.Outputs)\n",
    "script_params = O9DataLake.register({\"var1\":10}, data_source = DataSource.LS,plugin_setting = PluginSetting.ScriptParam)"
   ]
  },
  {
   "cell_type": "code",
   "execution_count": 7,
   "id": "f7cdc2c1-3cd9-4f2b-9101-b6a00696f7f1",
   "metadata": {},
   "outputs": [
    {
     "data": {
      "application/vnd.jupyter.widget-view+json": {
       "model_id": "",
       "version_major": 2,
       "version_minor": 0
      },
      "text/plain": [
       "FloatProgress(value=0.0, bar_style='info', description='Progress:', layout=Layout(height='25px', width='50%'),…"
      ]
     },
     "metadata": {},
     "output_type": "display_data"
    },
    {
     "name": "stdout",
     "output_type": "stream",
     "text": [
      "<class 'pyspark.sql.dataframe.DataFrame'>"
     ]
    }
   ],
   "source": [
    "type(DPBaseInputs)"
   ]
  },
  {
   "cell_type": "code",
   "execution_count": 8,
   "id": "de61c8ae-9c28-4ca4-b492-57417bac0c22",
   "metadata": {},
   "outputs": [
    {
     "data": {
      "application/vnd.jupyter.widget-view+json": {
       "model_id": "",
       "version_major": 2,
       "version_minor": 0
      },
      "text/plain": [
       "FloatProgress(value=0.0, bar_style='info', description='Progress:', layout=Layout(height='25px', width='50%'),…"
      ]
     },
     "metadata": {},
     "output_type": "display_data"
    },
    {
     "name": "stdout",
     "output_type": "stream",
     "text": [
      "+------------------+--------------+--------------+-------------------+----------------+---------------------+------------------+--------------+--------------+--------------+\n",
      "|VersionVersionName|ProductProduct|TimeFiscalWeek|SalesAccountAccount|LocationLocation|DPSellOutUnitsActuals|MeanPricingSavePCT|PlacementCount|PromotionCount|DPSellOutPrice|\n",
      "+------------------+--------------+--------------+-------------------+----------------+---------------------+------------------+--------------+--------------+--------------+\n",
      "|CurrentWorkingView|        196426|      W01-2015|         Customer_1|         Store_1|                102.9|             103.9|         103.8|         104.8|         102.2|\n",
      "|CurrentWorkingView|        196426|      W02-2015|         Customer_1|         Store_1|                103.8|             103.8|         101.3|         101.4|         100.7|\n",
      "|CurrentWorkingView|        196426|      W03-2015|         Customer_1|         Store_1|               100.75|             101.2|        100.75|         102.3|        100.94|\n",
      "|CurrentWorkingView|        196426|      W04-2015|         Customer_1|         Store_1|               102.44|            106.56|         102.3|         101.9|         105.0|\n",
      "|CurrentWorkingView|        196426|      W05-2015|         Customer_1|         Store_1|                100.5|             106.0|         103.1|        100.06|        105.06|\n",
      "|CurrentWorkingView|        196426|      W06-2015|         Customer_1|         Store_1|                106.0|            100.44|         102.3|         104.8|         103.7|\n",
      "|CurrentWorkingView|        196426|      W07-2015|         Customer_1|         Store_1|                102.7|             101.5|         103.6|         104.0|        104.06|\n",
      "|CurrentWorkingView|        196426|      W08-2015|         Customer_1|         Store_1|                102.6|            106.06|        104.44|        102.44|        102.06|\n",
      "|CurrentWorkingView|        196426|      W09-2015|         Customer_1|         Store_1|                100.5|             103.5|         105.6|         100.6|         103.2|\n",
      "|CurrentWorkingView|        196426|      W10-2015|         Customer_1|         Store_1|               101.25|             102.5|        100.25|         102.8|        104.56|\n",
      "|CurrentWorkingView|        196426|      W11-2015|         Customer_1|         Store_1|                103.2|             101.9|         104.0|        104.75|         105.1|\n",
      "|CurrentWorkingView|        196426|      W12-2015|         Customer_1|         Store_1|                101.4|            100.75|         102.1|         101.0|         101.6|\n",
      "|CurrentWorkingView|        196426|      W13-2015|         Customer_1|         Store_1|               102.94|            103.75|         100.6|         101.8|        100.75|\n",
      "|CurrentWorkingView|        196426|      W14-2015|         Customer_1|         Store_1|               100.44|             102.9|         101.3|        101.06|         102.4|\n",
      "|CurrentWorkingView|        196426|      W15-2015|         Customer_1|         Store_1|                107.0|             103.5|         101.4|         103.6|         103.4|\n",
      "|CurrentWorkingView|        196426|      W16-2015|         Customer_1|         Store_1|                101.2|             104.9|        100.56|        104.56|         102.0|\n",
      "|CurrentWorkingView|        196426|      W17-2015|         Customer_1|         Store_1|                100.2|            100.94|        100.94|         100.5|        101.94|\n",
      "|CurrentWorkingView|        196426|      W18-2015|         Customer_1|         Store_1|                100.2|             100.0|         101.7|         102.4|        102.94|\n",
      "|CurrentWorkingView|        196426|      W19-2015|         Customer_1|         Store_1|                103.3|             103.1|        102.56|         104.8|        101.94|\n",
      "|CurrentWorkingView|        196426|      W20-2015|         Customer_1|         Store_1|               101.56|             100.0|         106.4|         102.6|         104.1|\n",
      "+------------------+--------------+--------------+-------------------+----------------+---------------------+------------------+--------------+--------------+--------------+\n",
      "only showing top 20 rows"
     ]
    }
   ],
   "source": [
    "DPBaseInputs.show()"
   ]
  },
  {
   "cell_type": "code",
   "execution_count": 9,
   "id": "3c98ca6a-a032-4cb3-be6e-b8eb8cb54e79",
   "metadata": {},
   "outputs": [
    {
     "data": {
      "application/vnd.jupyter.widget-view+json": {
       "model_id": "",
       "version_major": 2,
       "version_minor": 0
      },
      "text/plain": [
       "FloatProgress(value=0.0, bar_style='info', description='Progress:', layout=Layout(height='25px', width='50%'),…"
      ]
     },
     "metadata": {},
     "output_type": "display_data"
    }
   ],
   "source": [
    "#getting inputs from DataLake\n",
    "sales = O9DataLake.get('sales_df')\n",
    "dpbaseinputs = O9DataLake.get('DPBaseInputs')"
   ]
  },
  {
   "cell_type": "code",
   "execution_count": 10,
   "id": "c4bf40b6-b147-4e73-9202-a74dc29b54fa",
   "metadata": {},
   "outputs": [
    {
     "data": {
      "application/vnd.jupyter.widget-view+json": {
       "model_id": "",
       "version_major": 2,
       "version_minor": 0
      },
      "text/plain": [
       "FloatProgress(value=0.0, bar_style='info', description='Progress:', layout=Layout(height='25px', width='50%'),…"
      ]
     },
     "metadata": {},
     "output_type": "display_data"
    },
    {
     "name": "stdout",
     "output_type": "stream",
     "text": [
      "2024-09-30 08:13:41,345 - o9_logger - INFO - pyspark plugin"
     ]
    }
   ],
   "source": [
    "#user script\n",
    "import logging\n",
    "out_df1 = None\n",
    "logger = logging.getLogger('o9_logger')\n",
    "logger.info(\"pyspark plugin\")"
   ]
  }
 ],
 "metadata": {
  "kernelspec": {
   "display_name": "[SparkK8Org1Tenant1] Tenant Conda Environment",
   "language": "python",
   "name": "qabambi_sparkk8org1tenant1"
  },
  "language_info": {
   "codemirror_mode": {
    "name": "ipython",
    "version": 3
   },
   "file_extension": ".py",
   "mimetype": "text/x-python",
   "name": "python",
   "nbconvert_exporter": "python",
   "pygments_lexer": "ipython3",
   "version": "3.10.5"
  }
 },
 "nbformat": 4,
 "nbformat_minor": 5
}
