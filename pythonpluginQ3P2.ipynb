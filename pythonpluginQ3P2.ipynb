{
 "cells": [
  {
   "cell_type": "code",
   "execution_count": 8,
   "id": "15e66c64-47e3-4709-a407-c9a27aacec02",
   "metadata": {},
   "outputs": [],
   "source": [
    "_predict_df = \"select (Version.[Version Name]*Product.[Product].[196426]*Time.FiscalWeek*SalesAccount.[Account]*Location.[Location]*{Measure.[DPSellOutUnitsActuals],Measure.[Mean Pricing Save PCT],Measure.[Placement Count],Measure.[Promotion Count],Measure.[DPSellOutPrice]});\"\n",
    "#_input_df = \"select (Version.[Version Name]*Product.[Product].[208821]*Time.FiscalWeek*SalesAccount.[Account]*Location.[Location]*{Measure.[DPSellOutUnitsActuals],Measure.[Mean Pricing Save PCT],Measure.[Placement Count],Measure.[Promotion Count],Measure.[DPSellOutPrice]});\"\n",
    "\n",
    "from o9_common_utils.O9DataLake import O9DataLake, ResourceType, DataSource,PluginSetting\n",
    "\n",
    "# register inputs\n",
    "predict_df = O9DataLake.register(\"predict_df\",data_source = DataSource.LS, entity_type = ResourceType.IBPL, query = _predict_df,plugin_setting = PluginSetting.Inputs)\n",
    "#input_df = O9DataLake.register(\"input_df\",data_source = DataSource.LS, entity_type = ResourceType.IBPL, query = _input_df,plugin_setting = PluginSetting.Inputs)\n",
    "\n",
    "#DPSelloutPrediction = O9DataLake.register(\"DPSelloutPrediction\",data_source = DataSource.LIVEFRAME,entity_type = ResourceType.LIVEFRAME,plugin_setting = PluginSetting.Inputs)\n",
    "# register slice dimension\n",
    "O9DataLake.register(\"Product.[Product]\", data_source = DataSource.LS, entity_type = ResourceType.IBPL, plugin_setting = PluginSetting.SliceDimension)\n",
    "\n",
    "# register outputs\n",
    "O9DataLake.register(\"output1\",data_source = DataSource.LS,entity_type = ResourceType.IBPL, plugin_setting = PluginSetting.Outputs)\n",
    "#O9DataLake.register(\"output2\",data_source = DataSource.LS,entity_type = ResourceType.IBPL, plugin_setting = PluginSetting.Outputs)\n",
    "\n",
    "# register script params\n",
    "script_params = O9DataLake.register({\"var1\":\"10\",\"var2\":\"Test1\"}, data_source = DataSource.LS, plugin_setting = PluginSetting.ScriptParam)"
   ]
  },
  {
   "cell_type": "code",
   "execution_count": 9,
   "id": "ed8d2418-299b-4f7a-b06a-18fe329b0ab3",
   "metadata": {},
   "outputs": [
    {
     "data": {
      "text/plain": [
       "{'predict_df': {'name': 'predict_df',\n",
       "  'resource_type': <ResourceType.IBPL: 'ibpl_query'>,\n",
       "  'data_source': <DataSource.LS: 'liveserver'>,\n",
       "  'query': 'select (Version.[Version Name]*Product.[Product].[196426]*Time.FiscalWeek*SalesAccount.[Account]*Location.[Location]*{Measure.[DPSellOutUnitsActuals],Measure.[Mean Pricing Save PCT],Measure.[Placement Count],Measure.[Promotion Count],Measure.[DPSellOutPrice]});',\n",
       "  'std_count_limit': '200000',\n",
       "  'df':    Version.[Version Name]  Product.[Product] Time.[FiscalWeek]  \\\n",
       "  0                      S1             196426          W03-2016   \n",
       "  1      CurrentWorkingView             196426          W03-2016   \n",
       "  2                      S1             196426          W05-2016   \n",
       "  3      CurrentWorkingView             196426          W05-2016   \n",
       "  4                      S1             196426          W08-2016   \n",
       "  5      CurrentWorkingView             196426          W08-2016   \n",
       "  6                      S1             196426          W13-2016   \n",
       "  7      CurrentWorkingView             196426          W13-2016   \n",
       "  8                      S1             196426          W48-2016   \n",
       "  9      CurrentWorkingView             196426          W48-2016   \n",
       "  10                     S1             196426          W42-2017   \n",
       "  11     CurrentWorkingView             196426          W42-2017   \n",
       "  12                     S1             196426          W44-2017   \n",
       "  13     CurrentWorkingView             196426          W44-2017   \n",
       "  \n",
       "     SalesAccount.[Account] Location.[Location]  DPSellOutUnitsActuals  \\\n",
       "  0                     ALL                 ALL                      1   \n",
       "  1                     ALL                 ALL                      1   \n",
       "  2                     ALL                 ALL                      2   \n",
       "  3                     ALL                 ALL                      2   \n",
       "  4                     ALL                 ALL                      1   \n",
       "  5                     ALL                 ALL                      1   \n",
       "  6                     ALL                 ALL                      1   \n",
       "  7                     ALL                 ALL                      1   \n",
       "  8                     ALL                 ALL                      1   \n",
       "  9                     ALL                 ALL                      1   \n",
       "  10                    ALL                 ALL                      1   \n",
       "  11                    ALL                 ALL                      1   \n",
       "  12                    ALL                 ALL                      1   \n",
       "  13                    ALL                 ALL                      1   \n",
       "  \n",
       "      Mean Pricing Save PCT  Placement Count  Promotion Count  DPSellOutPrice  \n",
       "  0                     NaN              NaN              NaN             6.0  \n",
       "  1                     NaN              NaN              NaN             6.0  \n",
       "  2                     NaN              NaN              NaN             9.5  \n",
       "  3                     NaN              NaN              NaN             9.5  \n",
       "  4                     NaN              NaN              NaN             6.0  \n",
       "  5                     NaN              NaN              NaN             6.0  \n",
       "  6                     NaN              NaN              NaN            13.0  \n",
       "  7                     NaN              NaN              NaN            13.0  \n",
       "  8                     NaN              NaN              NaN            13.0  \n",
       "  9                     NaN              NaN              NaN            13.0  \n",
       "  10                    NaN              NaN              NaN            13.0  \n",
       "  11                    NaN              NaN              NaN            13.0  \n",
       "  12                    NaN              NaN              NaN            13.0  \n",
       "  13                    NaN              NaN              NaN            13.0  }}"
      ]
     },
     "execution_count": 9,
     "metadata": {},
     "output_type": "execute_result"
    }
   ],
   "source": [
    "O9DataLake.inputs"
   ]
  },
  {
   "cell_type": "code",
   "execution_count": 12,
   "id": "1a039c1d-8048-4b97-b8d8-78e3b3aa9c67",
   "metadata": {},
   "outputs": [],
   "source": [
    " #fetching inputs\n",
    "predict_df = O9DataLake.get('predict_df')\n",
    "\n",
    "\n",
    "# fetching script params\n",
    "value1 = O9DataLake.get_script_param(\"var1\")\n",
    "value2 = O9DataLake.get_script_param(\"var2\")"
   ]
  },
  {
   "cell_type": "code",
   "execution_count": 13,
   "id": "80c9b559-1c4c-4373-a5f8-b4958141ff72",
   "metadata": {},
   "outputs": [],
   "source": [
    "#pushing outputs to Live Server(make sure all dimensions,measures present in LiveServer)\n",
    "O9DataLake.put('output1', predict_df)"
   ]
  }
 ],
 "metadata": {
  "id": "b25b8fe1-192a-4c3d-a6bb-5c01005d6aa1",
  "kernelspec": {
   "display_name": "[srishtiautospark] Tenant Conda Environment",
   "language": "python",
   "name": "genieaz_srishtiautospark"
  },
  "language_info": {
   "codemirror_mode": {
    "name": "ipython",
    "version": 3
   },
   "file_extension": ".py",
   "mimetype": "text/x-python",
   "name": "python",
   "nbconvert_exporter": "python",
   "pygments_lexer": "ipython3",
   "version": "3.10.5"
  }
 },
 "nbformat": 4,
 "nbformat_minor": 5
}
