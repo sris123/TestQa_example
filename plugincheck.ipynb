{
  "cells": [
    {
      "cell_type": "code",
      "execution_count": 4,
      "id": "98ec8406-e990-4377-8c63-011fd54fd821",
      "metadata": {},
      "outputs": [
        {
          "ename": "NameError",
          "evalue": "name 'PluginSetting' is not defined",
          "output_type": "error",
          "traceback": [
            "\u001b[0;31m---------------------------------------------------------------------------\u001b[0m",
            "\u001b[0;31mNameError\u001b[0m                                 Traceback (most recent call last)",
            "\u001b[0;32m/tmp/ipykernel_3006/898719148.py\u001b[0m in \u001b[0;36m<module>\u001b[0;34m\u001b[0m\n\u001b[1;32m      8\u001b[0m \u001b[0;34m\u001b[0m\u001b[0m\n\u001b[1;32m      9\u001b[0m \u001b[0;32mfrom\u001b[0m \u001b[0mo9_common_utils\u001b[0m\u001b[0;34m.\u001b[0m\u001b[0mO9DataLake\u001b[0m \u001b[0;32mimport\u001b[0m \u001b[0mO9DataLake\u001b[0m\u001b[0;34m,\u001b[0m \u001b[0mResourceType\u001b[0m\u001b[0;34m,\u001b[0m \u001b[0mDataSource\u001b[0m\u001b[0;34m\u001b[0m\u001b[0;34m\u001b[0m\u001b[0m\n\u001b[0;32m---> 10\u001b[0;31m \u001b[0mDPBaseInputs\u001b[0m \u001b[0;34m=\u001b[0m \u001b[0mO9DataLake\u001b[0m\u001b[0;34m.\u001b[0m\u001b[0mregister\u001b[0m\u001b[0;34m(\u001b[0m\u001b[0;34m\"DPBaseInputs\"\u001b[0m\u001b[0;34m,\u001b[0m\u001b[0mdata_source\u001b[0m \u001b[0;34m=\u001b[0m \u001b[0mDataSource\u001b[0m\u001b[0;34m.\u001b[0m\u001b[0mLS\u001b[0m\u001b[0;34m,\u001b[0m \u001b[0mentity_type\u001b[0m \u001b[0;34m=\u001b[0m \u001b[0mResourceType\u001b[0m\u001b[0;34m.\u001b[0m\u001b[0mIBPL\u001b[0m\u001b[0;34m,\u001b[0m \u001b[0mquery\u001b[0m \u001b[0;34m=\u001b[0m \u001b[0m_DPBaseInputs\u001b[0m\u001b[0;34m,\u001b[0m\u001b[0mplugin_setting\u001b[0m \u001b[0;34m=\u001b[0m \u001b[0mPluginSetting\u001b[0m\u001b[0;34m.\u001b[0m\u001b[0mInputs\u001b[0m\u001b[0;34m)\u001b[0m\u001b[0;34m\u001b[0m\u001b[0;34m\u001b[0m\u001b[0m\n\u001b[0m\u001b[1;32m     11\u001b[0m \u001b[0msales_df\u001b[0m \u001b[0;34m=\u001b[0m \u001b[0mO9DataLake\u001b[0m\u001b[0;34m.\u001b[0m\u001b[0mregister\u001b[0m\u001b[0;34m(\u001b[0m\u001b[0;34m\"sales_df\"\u001b[0m\u001b[0;34m,\u001b[0m\u001b[0mdata_source\u001b[0m \u001b[0;34m=\u001b[0m \u001b[0mDataSource\u001b[0m\u001b[0;34m.\u001b[0m\u001b[0mLS\u001b[0m\u001b[0;34m,\u001b[0m \u001b[0mentity_type\u001b[0m \u001b[0;34m=\u001b[0m \u001b[0mResourceType\u001b[0m\u001b[0;34m.\u001b[0m\u001b[0mIBPL\u001b[0m\u001b[0;34m,\u001b[0m \u001b[0mquery\u001b[0m \u001b[0;34m=\u001b[0m \u001b[0m_sales_df\u001b[0m\u001b[0;34m,\u001b[0m\u001b[0mplugin_setting\u001b[0m \u001b[0;34m=\u001b[0m \u001b[0mPluginSetting\u001b[0m\u001b[0;34m.\u001b[0m\u001b[0mInputs\u001b[0m\u001b[0;34m)\u001b[0m\u001b[0;34m\u001b[0m\u001b[0;34m\u001b[0m\u001b[0m\n\u001b[1;32m     12\u001b[0m \u001b[0;34m\u001b[0m\u001b[0m\n",
            "\u001b[0;31mNameError\u001b[0m: name 'PluginSetting' is not defined"
          ]
        }
      ],
      "source": [
        "_DPBaseInputs = \"select (Version.[Version Name]*Product.[Product].[196426]*Time.FiscalWeek*SalesAccount.[Account]*Location.[Location]*{Measure.[DPSellOutUnitsActuals],Measure.[Mean Pricing Save PCT],Measure.[Placement Count],Measure.[Promotion Count],Measure.[DPSellOutPrice]});\"\n",
        "_sales_df = \"select (Version.[Version Name]*Product.[Product].[196426]*Time.FiscalWeek*SalesAccount.[Account]*Location.[Location]*{Measure.[DPSellOutUnitsActuals],Measure.[Mean Pricing Save PCT],Measure.[Placement Count],Measure.[Promotion Count],Measure.[DPSellOutPrice]});\"\n",
        "\n",
        "\n",
        "# Initialize the O9DataLake with the input parameters and dataframes\n",
        "# Data can be accessed with O9DataLake.get(<Input Name>)\n",
        "# Overwritten values will not be reflected in the O9DataLake after initialization\n",
        "\n",
        "from o9_common_utils.O9DataLake import O9DataLake, ResourceType, DataSource,PluginSetting\n",
        "DPBaseInputs = O9DataLake.register(\"DPBaseInputs\",data_source = DataSource.LS, entity_type = ResourceType.IBPL, query = _DPBaseInputs,plugin_setting = PluginSetting.Inputs)\n",
        "sales_df = O9DataLake.register(\"sales_df\",data_source = DataSource.LS, entity_type = ResourceType.IBPL, query = _sales_df,plugin_setting = PluginSetting.Inputs)\n",
        "\n",
        "O9DataLake.register(\"PredictedSales\",data_source = DataSource.LS,entity_type = ResourceType.IBPL,plugin_setting = PluginSetting.Outputs)\n",
        "script_params = O9DataLake.register({\"var1\":10}, data_source = DataSource.LS,plugin_setting = PluginSetting.ScriptParam)"
      ]
    },
    {
      "cell_type": "code",
      "execution_count": null,
      "id": "77b55a86-ada1-4b75-a583-c9fcb7be038d",
      "metadata": {},
      "outputs": [],
      "source": [
        "#getting inputs from DataLake\n",
        "sales = O9DataLake.get('sales_df')\n",
        "dpbaseinputs = O9DataLake.get('DPBaseInputs')\n",
        "\n"
      ]
    },
    {
      "cell_type": "code",
      "execution_count": null,
      "id": "5647c38f-8981-4845-a853-bc6683117fb1",
      "metadata": {
        "tags": [
          "o9_ignore"
        ]
      },
      "outputs": [],
      "source": [
        "O9DataLake.inputs"
      ]
    },
    {
      "cell_type": "code",
      "execution_count": null,
      "id": "47dfe07e-ca5c-4955-8fd7-983dd73e4449",
      "metadata": {},
      "outputs": [],
      "source": [
        "#user script\n",
        "import logging\n",
        "out_df1 = None\n",
        "logger = logging.getLogger('o9_logger')\n",
        "logger.info(\"python plugin\")"
      ]
    },
    {
      "cell_type": "code",
      "execution_count": null,
      "id": "a3cd4864-e458-4a12-8383-f6d5fb8df4d5",
      "metadata": {},
      "outputs": [],
      "source": [
        "#pushing outputs to DataLake\n",
        "O9DataLake.put('out_df1', sales)"
      ]
    }
  ],
  "metadata": {
    "kernelspec": {
      "display_name": "[pyplatformhivetest] Tenant Conda Environment",
      "language": "python",
      "name": "k8qa_pyplatformhivetest"
    },
    "language_info": {
      "codemirror_mode": {
        "name": "ipython",
        "version": 3
      },
      "file_extension": ".py",
      "mimetype": "text/x-python",
      "name": "python",
      "nbconvert_exporter": "python",
      "pygments_lexer": "ipython3",
      "version": "3.7.10"
    },
    "id": "1644b190-8866-4ec9-a634-2493b813ad85"
  },
  "nbformat": 4,
  "nbformat_minor": 5
}