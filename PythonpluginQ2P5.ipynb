{
 "cells": [
  {
   "cell_type": "code",
   "execution_count": null,
   "id": "440f5b5f-8168-4b51-aa4e-ad402c5a6a19",
   "metadata": {},
   "outputs": [],
   "source": [
    "\n",
    "_predict_df = \"select (Version.[Version Name]*Product.[Product].[196426]*Time.FiscalWeek*SalesAccount.[Account]*Location.[Location]*{Measure.[DPSellOutUnitsActuals],Measure.[Mean Pricing Save PCT],Measure.[Placement Count],Measure.[Promotion Count],Measure.[DPSellOutPrice]});\"\n",
    "_input_df = \"select (Version.[Version Name]*Product.[Product].[208821]*Time.FiscalWeek*SalesAccount.[Account]*Location.[Location]*{Measure.[DPSellOutUnitsActuals],Measure.[Mean Pricing Save PCT],Measure.[Placement Count],Measure.[Promotion Count],Measure.[DPSellOutPrice]});\"\n",
    "\n",
    "from o9_common_utils.O9DataLake import O9DataLake, ResourceType, DataSource,PluginSetting\n",
    "\n",
    "# register inputs\n",
    "predict_df = O9DataLake.register(\"predict_df\",data_source = DataSource.LS, entity_type = ResourceType.IBPL, query = _predict_df,plugin_setting = PluginSetting.Inputs)\n",
    "input_df = O9DataLake.register(\"input_df\",data_source = DataSource.LS, entity_type = ResourceType.IBPL, query = _input_df,plugin_setting = PluginSetting.Inputs)\n",
    "\n",
    "#DPSelloutPrediction = O9DataLake.register(\"DPSelloutPrediction\",data_source = DataSource.LIVEFRAME,entity_type = ResourceType.LIVEFRAME,plugin_setting = PluginSetting.Inputs)\n",
    "# register slice dimension\n",
    "O9DataLake.register(\"Product.[Product]\", data_source = DataSource.LS, entity_type = ResourceType.IBPL, plugin_setting = PluginSetting.SliceDimension)\n",
    "\n",
    "# register outputs\n",
    "O9DataLake.register(\"output1\",data_source = DataSource.LS,entity_type = ResourceType.IBPL, plugin_setting = PluginSetting.Outputs)\n",
    "#O9DataLake.register(\"output2\",data_source = DataSource.LS,entity_type = ResourceType.IBPL, plugin_setting = PluginSetting.Outputs)\n",
    "\n",
    "# register script params\n",
    "script_params = O9DataLake.register({\"var1\":\"10\",\"var2\":\"Test1\"}, data_source = DataSource.LS, plugin_setting = PluginSetting.ScriptParam)\n"
   ]
  },
  {
   "cell_type": "code",
   "execution_count": null,
   "id": "37a62a89-533c-4d92-a5f2-97bc2f0ccbba",
   "metadata": {},
   "outputs": [],
   "source": [
    "O9DataLake.inputs"
   ]
  },
  {
   "cell_type": "code",
   "execution_count": null,
   "id": "01d440a9-c295-46c1-9489-3b6b266c08ca",
   "metadata": {},
   "outputs": [],
   "source": [
    "# fetching inputs\n",
    "predict_df = O9DataLake.get('predict_df')\n",
    "input_df = O9DataLake.get('input_df')\n",
    "\n",
    "# fetching script params\n",
    "value1 = O9DataLake.get_script_param(\"var1\")\n",
    "value2 = O9DataLake.get_script_param(\"var2\")"
   ]
  },
  {
   "cell_type": "code",
   "execution_count": null,
   "id": "115014f1-8459-4236-8b21-adbc985a84ac",
   "metadata": {},
   "outputs": [],
   "source": [
    "#pushing outputs to Live Server(make sure all dimensions,measures present in LiveServer)\n",
    "O9DataLake.put('output1', predict_df)"
   ]
  }
 ],
 "metadata": {
  "id": "f38b675e-1899-4434-8fca-525f320808ec",
  "kernelspec": {
   "display_name": "[pyplatformhivetest] Tenant Conda Environment",
   "language": "python",
   "name": "qa_pyplatformhivetest"
  },
  "language_info": {
   "codemirror_mode": {
    "name": "ipython",
    "version": 3
   },
   "file_extension": ".py",
   "mimetype": "text/x-python",
   "name": "python",
   "nbconvert_exporter": "python",
   "pygments_lexer": "ipython3",
   "version": "3.7.10"
  }
 },
 "nbformat": 4,
 "nbformat_minor": 5
}
