{
 "cells": [
  {
   "cell_type": "code",
   "execution_count": 5,
   "id": "45a4ef63-3d8c-40cb-8d80-06d24a87159d",
   "metadata": {},
   "outputs": [
    {
     "data": {
      "application/vnd.jupyter.widget-view+json": {
       "model_id": "",
       "version_major": 2,
       "version_minor": 0
      },
      "text/plain": [
       "FloatProgress(value=0.0, bar_style='info', description='Progress:', layout=Layout(height='25px', width='50%'),…"
      ]
     },
     "metadata": {},
     "output_type": "display_data"
    }
   ],
   "source": [
    "# Slice Dimension Attributes defined in the plugin. Please check all queries and replace <KEY HERE> with a valid name.\n",
    "# For example: If slice is defined by Version.[Version Name] and Time.[Month]\n",
    "# input_df = ibpl Select ([Version].[Version Name].[<KEY HERE>] * [Time].[Month].[<KEY HERE>] * [Item].[Item Number]) on row, ({Measure.[M1], Measure.[M2]}) on column limit 5000;\n",
    "#                             update <KEY HERE> to valid names\n",
    "# input_df = ibpl Select ([Version].[Version Name].[CurrentWorkingView] * [Time].[Month].[January] * [Item].[Item Number]) on row, ({Measure.[M1], Measure.[M2]}) on column limit 5000;\n",
    "\n",
    "_DPBaseInputs = \"select (Version.[Version Name]*Product.[Product].[196426]*Time.FiscalWeek*SalesAccount.[Account]*Location.[Location]*{Measure.[DPSellOutUnitsActuals],Measure.[Mean Pricing Save PCT],Measure.[Placement Count],Measure.[Promotion Count],Measure.[DPSellOutPrice]});\"\n",
    "_sales_df = \"select (Version.[Version Name]*Product.[Product].[196426]*Time.FiscalWeek*SalesAccount.[Account]*Location.[Location]*{Measure.[DPSellOutUnitsActuals],Measure.[Mean Pricing Save PCT],Measure.[Placement Count],Measure.[Promotion Count],Measure.[DPSellOutPrice]});\"\n",
    "\n",
    "\n",
    "# Initialize the O9DataLake with the input parameters and dataframes\n",
    "# Data can be accessed with O9DataLake.get(<Input Name>)\n",
    "# Overwritten values will not be reflected in the O9DataLake after initialization\n",
    "\n",
    "from o9_common_utils.O9DataLake import O9DataLake, ResourceType, DataSource,PluginSetting\n",
    "DPBaseInputs = O9DataLake.register(\"DPBaseInputs\",data_source = DataSource.LS, entity_type = ResourceType.IBPL, query = _DPBaseInputs,plugin_setting = PluginSetting.Inputs,spark=spark)\n",
    "sales_df = O9DataLake.register(\"sales_df\",data_source = DataSource.LS, entity_type = ResourceType.IBPL, query = _sales_df,plugin_setting = PluginSetting.Inputs,spark=spark)\n",
    "O9DataLake.register(\"Version.[Version Name]\", data_source = DataSource.LS, entity_type = ResourceType.IBPL,plugin_setting = PluginSetting.SliceDimension)\n",
    "\n",
    "O9DataLake.register(\"out_df1\",data_source = DataSource.LS,entity_type = ResourceType.IBPL,plugin_setting = PluginSetting.Outputs)\n",
    "script_params = O9DataLake.register({}, data_source = DataSource.LS,plugin_setting = PluginSetting.ScriptParam)"
   ]
  },
  {
   "cell_type": "code",
   "execution_count": 6,
   "id": "e2c519da-1794-40b6-8a0b-5bf808f9ab44",
   "metadata": {},
   "outputs": [
    {
     "data": {
      "application/vnd.jupyter.widget-view+json": {
       "model_id": "",
       "version_major": 2,
       "version_minor": 0
      },
      "text/plain": [
       "FloatProgress(value=0.0, bar_style='info', description='Progress:', layout=Layout(height='25px', width='50%'),…"
      ]
     },
     "metadata": {},
     "output_type": "display_data"
    },
    {
     "name": "stdout",
     "output_type": "stream",
     "text": [
      "{'DPBaseInputs': {'name': 'DPBaseInputs', 'resource_type': <ResourceType.IBPL: 'ibpl_query'>, 'data_source': <DataSource.LS: 'liveserver'>, 'query': 'select (Version.[Version Name]*Product.[Product].[196426]*Time.FiscalWeek*SalesAccount.[Account]*Location.[Location]*{Measure.[DPSellOutUnitsActuals],Measure.[Mean Pricing Save PCT],Measure.[Placement Count],Measure.[Promotion Count],Measure.[DPSellOutPrice]});', 'std_count_limit': '200000', 'df': DataFrame[VersionVersionName: string, ProductProduct: string, TimeFiscalWeek: string, SalesAccountAccount: string, LocationLocation: string, DPSellOutUnitsActuals: float, MeanPricingSavePCT: float, PlacementCount: float, PromotionCount: float, DPSellOutPrice: float]}, 'sales_df': {'name': 'sales_df', 'resource_type': <ResourceType.IBPL: 'ibpl_query'>, 'data_source': <DataSource.LS: 'liveserver'>, 'query': 'select (Version.[Version Name]*Product.[Product].[196426]*Time.FiscalWeek*SalesAccount.[Account]*Location.[Location]*{Measure.[DPSellOutUnitsActuals],Measure.[Mean Pricing Save PCT],Measure.[Placement Count],Measure.[Promotion Count],Measure.[DPSellOutPrice]});', 'std_count_limit': '200000', 'df': DataFrame[VersionVersionName: string, ProductProduct: string, TimeFiscalWeek: string, SalesAccountAccount: string, LocationLocation: string, DPSellOutUnitsActuals: float, MeanPricingSavePCT: float, PlacementCount: float, PromotionCount: float, DPSellOutPrice: float]}}"
     ]
    }
   ],
   "source": [
    "O9DataLake.inputs"
   ]
  },
  {
   "cell_type": "code",
   "execution_count": 7,
   "id": "293d5cf7-cb71-4fc0-bc98-0b65f3674551",
   "metadata": {
    "tags": [
     "o9_ignore"
    ]
   },
   "outputs": [
    {
     "data": {
      "application/vnd.jupyter.widget-view+json": {
       "model_id": "",
       "version_major": 2,
       "version_minor": 0
      },
      "text/plain": [
       "FloatProgress(value=0.0, bar_style='info', description='Progress:', layout=Layout(height='25px', width='50%'),…"
      ]
     },
     "metadata": {},
     "output_type": "display_data"
    },
    {
     "name": "stdout",
     "output_type": "stream",
     "text": [
      "DataFrame[VersionVersionName: string, ProductProduct: string, TimeFiscalWeek: string, SalesAccountAccount: string, LocationLocation: string, DPSellOutUnitsActuals: float, MeanPricingSavePCT: float, PlacementCount: float, PromotionCount: float, DPSellOutPrice: float]"
     ]
    }
   ],
   "source": [
    "DPBaseInputs"
   ]
  },
  {
   "cell_type": "code",
   "execution_count": 8,
   "id": "9d91a027-0088-46a8-ad6d-9416921759b9",
   "metadata": {
    "tags": [
     "o9_ignore"
    ]
   },
   "outputs": [
    {
     "data": {
      "application/vnd.jupyter.widget-view+json": {
       "model_id": "",
       "version_major": 2,
       "version_minor": 0
      },
      "text/plain": [
       "FloatProgress(value=0.0, bar_style='info', description='Progress:', layout=Layout(height='25px', width='50%'),…"
      ]
     },
     "metadata": {},
     "output_type": "display_data"
    },
    {
     "name": "stdout",
     "output_type": "stream",
     "text": [
      "<class 'pyspark.sql.dataframe.DataFrame'>"
     ]
    }
   ],
   "source": [
    "type(sales_df)"
   ]
  },
  {
   "cell_type": "code",
   "execution_count": 9,
   "id": "5822581f-1f1d-49b3-bead-dca028389abe",
   "metadata": {},
   "outputs": [
    {
     "data": {
      "application/vnd.jupyter.widget-view+json": {
       "model_id": "",
       "version_major": 2,
       "version_minor": 0
      },
      "text/plain": [
       "FloatProgress(value=0.0, bar_style='info', description='Progress:', layout=Layout(height='25px', width='50%'),…"
      ]
     },
     "metadata": {},
     "output_type": "display_data"
    },
    {
     "name": "stdout",
     "output_type": "stream",
     "text": [
      "+------------------+--------------+--------------+-------------------+----------------+---------------------+------------------+--------------+--------------+--------------+\n",
      "|VersionVersionName|ProductProduct|TimeFiscalWeek|SalesAccountAccount|LocationLocation|DPSellOutUnitsActuals|MeanPricingSavePCT|PlacementCount|PromotionCount|DPSellOutPrice|\n",
      "+------------------+--------------+--------------+-------------------+----------------+---------------------+------------------+--------------+--------------+--------------+\n",
      "|                S1|        196426|      W03-2016|                ALL|             ALL|                  1.0|              null|          null|          null|           6.0|\n",
      "|CurrentWorkingView|        196426|      W03-2016|                ALL|             ALL|                  1.0|              null|          null|          null|           6.0|\n",
      "|                S1|        196426|      W05-2016|                ALL|             ALL|                  2.0|              null|          null|          null|           9.5|\n",
      "|CurrentWorkingView|        196426|      W05-2016|                ALL|             ALL|                  2.0|              null|          null|          null|           9.5|\n",
      "|                S1|        196426|      W08-2016|                ALL|             ALL|                  1.0|              null|          null|          null|           6.0|\n",
      "|CurrentWorkingView|        196426|      W08-2016|                ALL|             ALL|                  1.0|              null|          null|          null|           6.0|\n",
      "|                S1|        196426|      W13-2016|                ALL|             ALL|                  1.0|              null|          null|          null|          13.0|\n",
      "|CurrentWorkingView|        196426|      W13-2016|                ALL|             ALL|                  1.0|              null|          null|          null|          13.0|\n",
      "|                S1|        196426|      W48-2016|                ALL|             ALL|                  1.0|              null|          null|          null|          13.0|\n",
      "|CurrentWorkingView|        196426|      W48-2016|                ALL|             ALL|                  1.0|              null|          null|          null|          13.0|\n",
      "|                S1|        196426|      W42-2017|                ALL|             ALL|                  1.0|              null|          null|          null|          13.0|\n",
      "|CurrentWorkingView|        196426|      W42-2017|                ALL|             ALL|                  1.0|              null|          null|          null|          13.0|\n",
      "|                S1|        196426|      W44-2017|                ALL|             ALL|                  1.0|              null|          null|          null|          13.0|\n",
      "|CurrentWorkingView|        196426|      W44-2017|                ALL|             ALL|                  1.0|              null|          null|          null|          13.0|\n",
      "+------------------+--------------+--------------+-------------------+----------------+---------------------+------------------+--------------+--------------+--------------+"
     ]
    }
   ],
   "source": [
    "DPBaseInputs.show()"
   ]
  },
  {
   "cell_type": "code",
   "execution_count": null,
   "id": "31c1ea67-a8ad-45ab-8aab-0db0def0e33e",
   "metadata": {
    "tags": [
     "o9_ignore"
    ]
   },
   "outputs": [
    {
     "data": {
      "application/vnd.jupyter.widget-view+json": {
       "model_id": "d2e1ede1d4b24abc9148abfef96f9a2e",
       "version_major": 2,
       "version_minor": 0
      },
      "text/plain": [
       "FloatProgress(value=0.0, bar_style='info', description='Progress:', layout=Layout(height='25px', width='50%'),…"
      ]
     },
     "metadata": {},
     "output_type": "display_data"
    }
   ],
   "source": [
    "import time\n",
    "\n",
    "def main():\n",
    "    duration_hours = 1.5\n",
    "    duration_seconds = int(duration_hours * 3600)\n",
    "\n",
    "    start_time = time.time()\n",
    "    end_time = start_time + duration_seconds\n",
    "\n",
    "    while time.time() < end_time:\n",
    "        # Your main script logic goes here\n",
    "        # This loop will run for 1.5 hours\n",
    "\n",
    "        # For example, print a message every second\n",
    "        print(\"Script is running...\")\n",
    "\n",
    "        # Sleep for a short interval to avoid consuming too much CPU\n",
    "        time.sleep(1)\n",
    "\n",
    "main()"
   ]
  },
  {
   "cell_type": "code",
   "execution_count": null,
   "id": "563d496c-f9e2-4857-b79a-7d28d83eb280",
   "metadata": {},
   "outputs": [],
   "source": []
  }
 ],
 "metadata": {
  "kernelspec": {
   "display_name": "[pyplatformhivetest] Tenant Conda Environment",
   "language": "python",
   "name": "k8qa_pyplatformhivetest"
  },
  "language_info": {
   "codemirror_mode": {
    "name": "ipython",
    "version": 3
   },
   "file_extension": ".py",
   "mimetype": "text/x-python",
   "name": "python",
   "nbconvert_exporter": "python",
   "pygments_lexer": "ipython3",
   "version": "3.7.10"
  }
 },
 "nbformat": 4,
 "nbformat_minor": 5
}
