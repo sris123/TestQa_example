{
 "cells": [
  {
   "cell_type": "code",
   "execution_count": null,
   "id": "e3dc334f-fe46-4cc0-8cba-391ea3ecf59e",
   "metadata": {},
   "outputs": [],
   "source": [
    "_productCsvDim = \"Select ([Product].[Product]*[Product].[ProductAttribute1]*[Product].[ProductAttribute10]*[Product].[ProductAttribute11]*[Product].[ProductAttribute12]*[Product].[ProductAttribute13]*[Product].[ProductAttribute2]*[Product].[ProductAttribute3]*[Product].[ProductAttribute4]*[Product].[ProductAttribute5]*[Product].[ProductAttribute6]*[Product].[ProductAttribute7]*[Product].[ProductAttribute8]*[Product].[ProductAttribute9]*[Product].[ProductGroup1]*[Product].[ProductGroup2]*[Product].[ProductGroup3]*[Product].[ProductGroup4]*[Product].[ProductGroup5]*[Product].[ProductGroup6]);\"\n",
    "_predict_df = \"select (Version.[Version Name]*Product.[Product]*Time.FiscalWeek*SalesAccount.[Account]*Location.[Location]*{Measure.[DPSellOutUnitsActuals],Measure.[Mean Pricing Save PCT],Measure.[Placement Count],Measure.[Promotion Count],Measure.[DPSellOutPrice]});\"\n",
    "\n",
    "\n",
    "# Initialize the O9DataLake with the input parameters and dataframes\n",
    "# Data can be accessed with O9DataLake.get(<Input Name>)\n",
    "# Overwritten values will not be reflected in the O9DataLake after initialization\n",
    "\n",
    "from o9_common_utils.O9DataLake import O9DataLake, ResourceType, DataSource,PluginSetting\n",
    "productCsvDim = O9DataLake.register(\"productCsvDim\",data_source = DataSource.LS, entity_type = ResourceType.IBPL, query = _productCsvDim,plugin_setting = PluginSetting.Inputs)\n",
    "predict_df = O9DataLake.register(\"predict_df\",data_source = DataSource.LS, entity_type = ResourceType.IBPL, query = _predict_df,plugin_setting = PluginSetting.Inputs)\n",
    "\n",
    "O9DataLake.register(\"out_df\",data_source = DataSource.LS,entity_type = ResourceType.IBPL,plugin_setting = PluginSetting.Outputs)\n",
    "script_params = O9DataLake.register({}, data_source = DataSource.LS,plugin_setting = PluginSetting.ScriptParam)"
   ]
  }
 ],
 "metadata": {
  "kernelspec": {
   "display_name": "[autodsml2] Tenant Conda Environment",
   "language": "python",
   "name": "k8qa_autodsml2"
  },
  "language_info": {
   "codemirror_mode": {
    "name": "ipython",
    "version": 3
   },
   "file_extension": ".py",
   "mimetype": "text/x-python",
   "name": "python",
   "nbconvert_exporter": "python",
   "pygments_lexer": "ipython3",
   "version": "3.7.10"
  }
 },
 "nbformat": 4,
 "nbformat_minor": 5
}
