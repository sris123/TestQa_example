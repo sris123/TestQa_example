{
 "cells": [
  {
   "cell_type": "code",
   "execution_count": 23,
   "id": "ada2041d-5189-4442-b90a-c4e7c5dd964e",
   "metadata": {},
   "outputs": [
    {
     "data": {
      "application/vnd.jupyter.widget-view+json": {
       "model_id": "",
       "version_major": 2,
       "version_minor": 0
      },
      "text/plain": [
       "FloatProgress(value=0.0, bar_style='info', description='Progress:', layout=Layout(height='25px', width='50%'),…"
      ]
     },
     "metadata": {},
     "output_type": "display_data"
    },
    {
     "name": "stdout",
     "output_type": "stream",
     "text": [
      "2024-09-25 11:46:50,042 - o9_logger - ERROR - Output variable already exists."
     ]
    }
   ],
   "source": [
    "_DPBaseInputs = \"select (Version.[Version Name]*Product.[Product].[196426]*Time.FiscalWeek*SalesAccount.[Account]*Location.[Location]*{Measure.[DPSellOutUnitsActuals],Measure.[Mean Pricing Save PCT],Measure.[Placement Count],Measure.[Promotion Count],Measure.[DPSellOutPrice]});\"\n",
    "_sales_df = \"select (Version.[Version Name]*Product.[Product].[196426]*Time.FiscalWeek*SalesAccount.[Account]*Location.[Location]*{Measure.[DPSellOutUnitsActuals],Measure.[Mean Pricing Save PCT],Measure.[Placement Count],Measure.[Promotion Count],Measure.[DPSellOutPrice]});\"\n",
    "\n",
    "\n",
    "# Initialize the O9DataLake with the input parameters and dataframes\n",
    "# Data can be accessed with O9DataLake.get(<Input Name>)\n",
    "# Overwritten values will not be reflected in the O9DataLake after initialization\n",
    "\n",
    "from o9_common_utils.O9DataLake import O9DataLake, ResourceType, DataSource,PluginSetting\n",
    "DPBaseInputs = O9DataLake.register(\"DPBaseInputs\",data_source = DataSource.LS, entity_type = ResourceType.IBPL, query = _DPBaseInputs,plugin_setting = PluginSetting.Inputs, spark = spark)\n",
    "sales_df = O9DataLake.register(\"sales_df\",data_source = DataSource.LS, entity_type = ResourceType.IBPL, query = _sales_df,plugin_setting = PluginSetting.Inputs, spark = spark)\n",
    "\n",
    "O9DataLake.register(\"PredictedSales\",data_source = DataSource.LS,entity_type = ResourceType.IBPL,plugin_setting = PluginSetting.Outputs)\n",
    "script_params = O9DataLake.register({\"var1\":10}, data_source = DataSource.LS,plugin_setting = PluginSetting.ScriptParam)"
   ]
  },
  {
   "cell_type": "code",
   "execution_count": 5,
   "id": "477fc534-7e34-4520-8cb2-1f26b84e7a0d",
   "metadata": {},
   "outputs": [
    {
     "data": {
      "application/vnd.jupyter.widget-view+json": {
       "model_id": "",
       "version_major": 2,
       "version_minor": 0
      },
      "text/plain": [
       "FloatProgress(value=0.0, bar_style='info', description='Progress:', layout=Layout(height='25px', width='50%'),…"
      ]
     },
     "metadata": {},
     "output_type": "display_data"
    },
    {
     "name": "stdout",
     "output_type": "stream",
     "text": [
      "<class 'pyspark.sql.dataframe.DataFrame'>"
     ]
    }
   ],
   "source": [
    "type(DPBaseInputs)"
   ]
  },
  {
   "cell_type": "code",
   "execution_count": 6,
   "id": "064e7106-67c0-45c7-a046-832089befa14",
   "metadata": {},
   "outputs": [
    {
     "data": {
      "application/vnd.jupyter.widget-view+json": {
       "model_id": "",
       "version_major": 2,
       "version_minor": 0
      },
      "text/plain": [
       "FloatProgress(value=0.0, bar_style='info', description='Progress:', layout=Layout(height='25px', width='50%'),…"
      ]
     },
     "metadata": {},
     "output_type": "display_data"
    },
    {
     "name": "stdout",
     "output_type": "stream",
     "text": [
      "+------------------+--------------+--------------+-------------------+----------------+---------------------+------------------+--------------+--------------+--------------+\n",
      "|VersionVersionName|ProductProduct|TimeFiscalWeek|SalesAccountAccount|LocationLocation|DPSellOutUnitsActuals|MeanPricingSavePCT|PlacementCount|PromotionCount|DPSellOutPrice|\n",
      "+------------------+--------------+--------------+-------------------+----------------+---------------------+------------------+--------------+--------------+--------------+\n",
      "|                S1|        196426|      W03-2016|                ALL|             ALL|                  1.0|               NaN|          10.0|          20.0|          10.0|\n",
      "|CurrentWorkingView|        196426|      W03-2016|                ALL|             ALL|                 10.0|               NaN|          10.0|          20.0|          10.0|\n",
      "|                S1|        196426|      W05-2016|                ALL|             ALL|                  2.0|               NaN|          10.0|          20.0|          10.0|\n",
      "|CurrentWorkingView|        196426|      W05-2016|                ALL|             ALL|                 10.0|               NaN|          10.0|          20.0|          10.0|\n",
      "|                S1|        196426|      W08-2016|                ALL|             ALL|                  1.0|               NaN|          10.0|          20.0|          10.0|\n",
      "|CurrentWorkingView|        196426|      W08-2016|                ALL|             ALL|                 10.0|               NaN|          10.0|          20.0|          10.0|\n",
      "|                S1|        196426|      W13-2016|                ALL|             ALL|                  1.0|               NaN|          10.0|          20.0|          10.0|\n",
      "|CurrentWorkingView|        196426|      W13-2016|                ALL|             ALL|                 10.0|               NaN|          10.0|          20.0|          10.0|\n",
      "|                S1|        196426|      W48-2016|                ALL|             ALL|                  1.0|               NaN|          10.0|          20.0|          10.0|\n",
      "|CurrentWorkingView|        196426|      W48-2016|                ALL|             ALL|                 10.0|               NaN|          10.0|          20.0|          10.0|\n",
      "|                S1|        196426|      W42-2017|                ALL|             ALL|                  1.0|               NaN|          10.0|          20.0|          10.0|\n",
      "|CurrentWorkingView|        196426|      W42-2017|                ALL|             ALL|                 10.0|               NaN|          10.0|          20.0|          10.0|\n",
      "|                S1|        196426|      W44-2017|                ALL|             ALL|                  1.0|               NaN|          10.0|          20.0|          10.0|\n",
      "|CurrentWorkingView|        196426|      W44-2017|                ALL|             ALL|                 10.0|               NaN|          10.0|          20.0|          10.0|\n",
      "+------------------+--------------+--------------+-------------------+----------------+---------------------+------------------+--------------+--------------+--------------+"
     ]
    }
   ],
   "source": [
    "DPBaseInputs.show()"
   ]
  },
  {
   "cell_type": "code",
   "execution_count": 7,
   "id": "d53a120c-b0c8-4544-8b54-51a94d00068c",
   "metadata": {},
   "outputs": [
    {
     "data": {
      "application/vnd.jupyter.widget-view+json": {
       "model_id": "",
       "version_major": 2,
       "version_minor": 0
      },
      "text/plain": [
       "FloatProgress(value=0.0, bar_style='info', description='Progress:', layout=Layout(height='25px', width='50%'),…"
      ]
     },
     "metadata": {},
     "output_type": "display_data"
    }
   ],
   "source": [
    "#getting inputs from DataLake\n",
    "sales = O9DataLake.get('sales_df')\n",
    "dpbaseinputs = O9DataLake.get('DPBaseInputs')"
   ]
  },
  {
   "cell_type": "code",
   "execution_count": 8,
   "id": "638eeb72-9506-4885-be9e-a8e937d7e6c0",
   "metadata": {},
   "outputs": [
    {
     "data": {
      "application/vnd.jupyter.widget-view+json": {
       "model_id": "",
       "version_major": 2,
       "version_minor": 0
      },
      "text/plain": [
       "FloatProgress(value=0.0, bar_style='info', description='Progress:', layout=Layout(height='25px', width='50%'),…"
      ]
     },
     "metadata": {},
     "output_type": "display_data"
    },
    {
     "name": "stdout",
     "output_type": "stream",
     "text": [
      "2024-09-25 11:44:17,719 - o9_logger - INFO - pyspark plugin"
     ]
    }
   ],
   "source": [
    "#user script\n",
    "import logging\n",
    "out_df1 = None\n",
    "logger = logging.getLogger('o9_logger')\n",
    "logger.info(\"pyspark plugin\")"
   ]
  },
  {
   "cell_type": "code",
   "execution_count": null,
   "id": "dd39183d-4c81-4df2-b562-03dd95dfa6ba",
   "metadata": {},
   "outputs": [],
   "source": []
  }
 ],
 "metadata": {
  "kernelspec": {
   "display_name": "[autodsml2] Tenant Conda Environment",
   "language": "python",
   "name": "k8qa_autodsml2"
  },
  "language_info": {
   "codemirror_mode": {
    "name": "ipython",
    "version": 3
   },
   "file_extension": ".py",
   "mimetype": "text/x-python",
   "name": "python",
   "nbconvert_exporter": "python",
   "pygments_lexer": "ipython3",
   "version": "3.10.5"
  }
 },
 "nbformat": 4,
 "nbformat_minor": 5
}
