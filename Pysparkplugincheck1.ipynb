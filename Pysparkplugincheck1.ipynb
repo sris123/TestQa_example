{
  "cells": [],
  "metadata": {
    "id": "d5358b01-966c-4097-a385-0952e810ad9d"
  },
  "nbformat": 4,
  "nbformat_minor": 5
}