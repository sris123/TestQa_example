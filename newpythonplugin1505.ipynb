{
 "cells": [
  {
   "cell_type": "code",
   "execution_count": 1,
   "id": "953015a0-7f18-4967-9185-bf4a063f295c",
   "metadata": {
    "editable": false
   },
   "outputs": [],
   "source": [
    "# This cell is NOT editable. Overwrite variables on your own discretion.\n",
    "# Any changes other than the script code will NOT BE SAVED!\n",
    "# All cells are assumed to be script code cells, unless explictly tagged as 'o9_ignore'"
   ]
  },
  {
   "cell_type": "code",
   "execution_count": 1,
   "id": "c8770881-66a6-4125-8884-ada9d8a15c5b",
   "metadata": {
    "tags": [
     "o9_ignore"
    ]
   },
   "outputs": [],
   "source": [
    "# Slice Dimension Attributes defined in the plugin. Please check all queries and replace <KEY HERE> with a valid name.\n",
    "# For example: If slice is defined by Version.[Version Name] and Time.[Month]\n",
    "# input_df = ibpl Select ([Version].[Version Name].[<KEY HERE>] * [Time].[Month].[<KEY HERE>] * [Item].[Item Number]) on row, ({Measure.[M1], Measure.[M2]}) on column limit 5000;\n",
    "#                             update <KEY HERE> to valid names\n",
    "# input_df = ibpl Select ([Version].[Version Name].[CurrentWorkingView] * [Time].[Month].[January] * [Item].[Item Number]) on row, ({Measure.[M1], Measure.[M2]}) on column limit 5000;\n",
    "\n",
    "_DPBaseInputs = \"select (Version.[Version Name]*Product.[Product].[196426]*Time.FiscalWeek*SalesAccount.[Account]*Location.[Location]*{Measure.[DPSellOutUnitsActuals],Measure.[Mean Pricing Save PCT],Measure.[Placement Count],Measure.[Promotion Count],Measure.[DPSellOutPrice]});\"\n",
    "_sales_df = \"select (Version.[Version Name]*Product.[Product].[196426]*Time.FiscalWeek*SalesAccount.[Account]*Location.[Location]*{Measure.[DPSellOutUnitsActuals],Measure.[Mean Pricing Save PCT],Measure.[Placement Count],Measure.[Promotion Count],Measure.[DPSellOutPrice]});\"\n",
    "\n",
    "\n",
    "# Initialize the O9DataLake with the input parameters and dataframes\n",
    "# Data can be accessed with O9DataLake.get(<Input Name>)\n",
    "# Overwritten values will not be reflected in the O9DataLake after initialization\n",
    "\n",
    "from o9_common_utils.O9DataLake import O9DataLake, ResourceType, DataSource\n",
    "DPBaseInputs = O9DataLake.register(\"DPBaseInputs\",DataSource.LS, ResourceType.IBPL, _DPBaseInputs)\n",
    "sales_df = O9DataLake.register(\"sales_df\",DataSource.LS, ResourceType.IBPL, _sales_df)"
   ]
  },
  {
   "cell_type": "code",
   "execution_count": 2,
   "id": "da729906-d393-44db-a924-5beb2c517138",
   "metadata": {},
   "outputs": [
    {
     "name": "stdout",
     "output_type": "stream",
     "text": [
      "INFO : python plugin\n"
     ]
    }
   ],
   "source": [
    "\n",
    "#getting inputs from DataLake\n",
    "sales = O9DataLake.get('sales_df')\n",
    "dpbaseinputs = O9DataLake.get('DPBaseInputs')\n",
    "\n",
    "\n",
    "#user script\n",
    "import logging\n",
    "out_df1 = None\n",
    "logger = logging.getLogger('o9_logger')\n",
    "logger.info(\"python plugin\")\n",
    "\n",
    "#pushing outputs to DataLake\n",
    "O9DataLake.put('out_df1', sales)"
   ]
  },
  {
   "cell_type": "code",
   "execution_count": null,
   "id": "4719a555-5c73-4dc3-bbd9-43669bff285f",
   "metadata": {},
   "outputs": [],
   "source": []
  }
 ],
 "metadata": {
  "kernelspec": {
   "display_name": "[pyplatformhivetestsrishti] Tenant Conda Environment",
   "language": "python",
   "name": "genieaz_pyplatformhivetestsrishti"
  },
  "language_info": {
   "codemirror_mode": {
    "name": "ipython",
    "version": 3
   },
   "file_extension": ".py",
   "mimetype": "text/x-python",
   "name": "python",
   "nbconvert_exporter": "python",
   "pygments_lexer": "ipython3",
   "version": "3.7.10"
  },
  "notebook_dict": {
   "ClassName": "o9.GraphCube.Plugins.Python.PythonScript",
   "InstanceName": "march_plugin_3003",
   "SliceKeys": [
    {
     "AttributeName": "Version Name",
     "DimensionName": "Version"
    }
   ],
   "file_path": "loaded_notebooks/march_plugin_3003.ipynb",
   "o9_selected_plugin_id": 297333
  }
 },
 "nbformat": 4,
 "nbformat_minor": 5
}
