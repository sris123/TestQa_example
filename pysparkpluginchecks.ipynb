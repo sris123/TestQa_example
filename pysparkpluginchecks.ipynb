{
 "cells": [
  {
   "cell_type": "code",
   "execution_count": 5,
   "id": "b2b0d5eb-5d93-45d4-9304-aced5eea37a5",
   "metadata": {},
   "outputs": [
    {
     "data": {
      "application/vnd.jupyter.widget-view+json": {
       "model_id": "",
       "version_major": 2,
       "version_minor": 0
      },
      "text/plain": [
       "FloatProgress(value=0.0, bar_style='info', description='Progress:', layout=Layout(height='25px', width='50%'),…"
      ]
     },
     "metadata": {},
     "output_type": "display_data"
    }
   ],
   "source": [
    "_predict_df = \"select (Version.[Version Name]*Product.[Product].[196426]*Time.FiscalWeek*SalesAccount.[Account]*Location.[Location]*{Measure.[DPSellOutUnitsActuals],Measure.[Mean Pricing Save PCT],Measure.[Placement Count],Measure.[Promotion Count],Measure.[DPSellOutPrice]});\"\n",
    "_input_df = \"select (Version.[Version Name]*Product.[Product].[208821]*Time.FiscalWeek*SalesAccount.[Account]*Location.[Location]*{Measure.[DPSellOutUnitsActuals],Measure.[Mean Pricing Save PCT],Measure.[Placement Count],Measure.[Promotion Count],Measure.[DPSellOutPrice]});\"\n",
    "\n",
    "from o9_common_utils.O9DataLake import O9DataLake, ResourceType, DataSource,PluginSetting\n",
    "\n",
    "# register inputs\n",
    "predict_df = O9DataLake.register(\"predict_df\",data_source = DataSource.LS, entity_type = ResourceType.IBPL, query = _predict_df,plugin_setting = PluginSetting.Inputs)\n",
    "input_df = O9DataLake.register(\"input_df\",data_source = DataSource.LS, entity_type = ResourceType.IBPL, query = _input_df,plugin_setting = PluginSetting.Inputs)\n",
    "liveinput = O9DataLake.register(\"WeeklySales\",data_source = DataSource.LIVEFRAME,entity_type = ResourceType.LIVEFRAME,plugin_setting = PluginSetting.Inputs)\n",
    "# register slice dimension\n",
    "O9DataLake.register(\"Product.[Product]\", data_source = DataSource.LS, entity_type = ResourceType.IBPL, plugin_setting = PluginSetting.SliceDimension)\n",
    "\n",
    "# register outputs\n",
    "O9DataLake.register(\"output1\",data_source = DataSource.LS,entity_type = ResourceType.IBPL, plugin_setting = PluginSetting.Outputs)\n",
    "\n",
    "# register script params\n",
    "script_params = O9DataLake.register({\"var1\":\"10\",\"var2\":\"Test\"}, data_source = DataSource.LS, plugin_setting = PluginSetting.ScriptParam)"
   ]
  },
  {
   "cell_type": "code",
   "execution_count": 6,
   "id": "73aee393-ba40-48fa-851f-dd62cc6fec87",
   "metadata": {
    "tags": [
     "o9_ignore"
    ]
   },
   "outputs": [
    {
     "data": {
      "application/vnd.jupyter.widget-view+json": {
       "model_id": "",
       "version_major": 2,
       "version_minor": 0
      },
      "text/plain": [
       "FloatProgress(value=0.0, bar_style='info', description='Progress:', layout=Layout(height='25px', width='50%'),…"
      ]
     },
     "metadata": {},
     "output_type": "display_data"
    },
    {
     "name": "stdout",
     "output_type": "stream",
     "text": [
      "{'predict_df': {'name': 'predict_df', 'resource_type': <ResourceType.IBPL: 'ibpl_query'>, 'data_source': <DataSource.LS: 'liveserver'>, 'query': 'select (Version.[Version Name]*Product.[Product].[196426]*Time.FiscalWeek*SalesAccount.[Account]*Location.[Location]*{Measure.[DPSellOutUnitsActuals],Measure.[Mean Pricing Save PCT],Measure.[Placement Count],Measure.[Promotion Count],Measure.[DPSellOutPrice]});', 'std_count_limit': '200000', 'df':    Version.[Version Name]  Product.[Product]  ... Promotion Count DPSellOutPrice\n",
      "0                      S1             196426  ...             NaN            6.0\n",
      "1      CurrentWorkingView             196426  ...             NaN            6.0\n",
      "2                      S1             196426  ...             NaN            9.5\n",
      "3      CurrentWorkingView             196426  ...             NaN            9.5\n",
      "4                      S1             196426  ...             NaN            6.0\n",
      "5      CurrentWorkingView             196426  ...             NaN            6.0\n",
      "6                      S1             196426  ...             NaN           13.0\n",
      "7      CurrentWorkingView             196426  ...             NaN           13.0\n",
      "8                      S1             196426  ...             NaN           13.0\n",
      "9      CurrentWorkingView             196426  ...             NaN           13.0\n",
      "10                     S1             196426  ...             NaN           13.0\n",
      "11     CurrentWorkingView             196426  ...             NaN           13.0\n",
      "12                     S1             196426  ...             NaN           13.0\n",
      "13     CurrentWorkingView             196426  ...             NaN           13.0\n",
      "\n",
      "[14 rows x 10 columns]}, 'input_df': {'name': 'input_df', 'resource_type': <ResourceType.IBPL: 'ibpl_query'>, 'data_source': <DataSource.LS: 'liveserver'>, 'query': 'select (Version.[Version Name]*Product.[Product].[208821]*Time.FiscalWeek*SalesAccount.[Account]*Location.[Location]*{Measure.[DPSellOutUnitsActuals],Measure.[Mean Pricing Save PCT],Measure.[Placement Count],Measure.[Promotion Count],Measure.[DPSellOutPrice]});', 'std_count_limit': '200000', 'df':     Version.[Version Name]  Product.[Product]  ... Promotion Count DPSellOutPrice\n",
      "0                       S1             208821  ...             NaN            NaN\n",
      "1       CurrentWorkingView             208821  ...             NaN            NaN\n",
      "2                       S1             208821  ...             NaN            NaN\n",
      "3       CurrentWorkingView             208821  ...             NaN            NaN\n",
      "4                       S1             208821  ...             NaN            NaN\n",
      "..                     ...                ...  ...             ...            ...\n",
      "315     CurrentWorkingView             208821  ...             NaN            NaN\n",
      "316                     S1             208821  ...             NaN            NaN\n",
      "317     CurrentWorkingView             208821  ...             NaN            NaN\n",
      "318                     S1             208821  ...             NaN            NaN\n",
      "319     CurrentWorkingView             208821  ...             NaN            NaN\n",
      "\n",
      "[320 rows x 10 columns]}, 'WeeklySales': {'name': 'WeeklySales', 'resource_type': <ResourceType.LIVEFRAME: 'liveframe'>, 'data_source': <DataSource.LIVEFRAME: 'liveframe'>, 'query': 'SELECT ([WalmartTime].[Day].filter(#.[Day$InActive] in { false }) * {Measure.[Fuel Price] , Measure.[MarkDown1] , Measure.[MarkDown2] , Measure.[MarkDown3] , Measure.[MarkDown4] , Measure.[MarkDown5] , Measure.[Temperature] , Measure.[Weekly Sales]} * [Store].[Store_ID].filter(#.[Store_ID$InActive] in { false }) * [Department].[Department_ID].filter(#.[Department_ID$InActive] in { false }) * [Version].[Version Name].filter(#.Name in { \"CurrentWorkingView\" }).relatedmembers([Version Name]).filter(#.[Version Name$InActive] in { false })) on row, () on column include lcid 1033, cellproperties {LOCK, BG_COLOR, FG_COLOR} ORDERBY [WalmartTime].[Day].[Key] ASC ;', 'LiveFrameReportId': 'e057ab8b-08de-4848-a77d-eff1a272ca2b', 'std_count_limit': '200000', 'df':        WalmartTime.[Day]  Store.[Store_ID]  ...  Temperature Weekly Sales\n",
      "0             02-05-2010                 1  ...        42.31     24924.50\n",
      "1             02-05-2010                 1  ...        42.31     50605.27\n",
      "2             02-05-2010                 1  ...        42.31     13740.12\n",
      "3             02-05-2010                 1  ...        42.31     39954.04\n",
      "4             02-05-2010                 1  ...        42.31     32229.38\n",
      "...                  ...               ...  ...          ...          ...\n",
      "199995        05-27-2011                15  ...        73.47      8103.15\n",
      "199996        05-27-2011                15  ...        73.47     22966.48\n",
      "199997        05-27-2011                15  ...        73.47      4451.62\n",
      "199998        05-27-2011                15  ...        73.47     11478.37\n",
      "199999        05-27-2011                15  ...        73.47      4896.41\n",
      "\n",
      "[200000 rows x 12 columns]}}"
     ]
    }
   ],
   "source": [
    "O9DataLake.inputs"
   ]
  },
  {
   "cell_type": "code",
   "execution_count": 7,
   "id": "2909c760-6e50-460a-9fa9-78a7fdcb2dce",
   "metadata": {},
   "outputs": [
    {
     "data": {
      "application/vnd.jupyter.widget-view+json": {
       "model_id": "",
       "version_major": 2,
       "version_minor": 0
      },
      "text/plain": [
       "FloatProgress(value=0.0, bar_style='info', description='Progress:', layout=Layout(height='25px', width='50%'),…"
      ]
     },
     "metadata": {},
     "output_type": "display_data"
    }
   ],
   "source": [
    "# fetching inputs\n",
    "predict_df = O9DataLake.get('predict_df')\n",
    "input_df = O9DataLake.get('input_df')\n",
    "liveinput = O9DataLake.get('WeeklySales')\n",
    "\n",
    "# fetching script params\n",
    "value1 = O9DataLake.get_script_param(\"var1\")\n",
    "value2 = O9DataLake.get_script_param(\"var2\")"
   ]
  },
  {
   "cell_type": "code",
   "execution_count": 8,
   "id": "d2641d8c-6abb-49bb-9149-51f7e582a4e5",
   "metadata": {},
   "outputs": [
    {
     "data": {
      "application/vnd.jupyter.widget-view+json": {
       "model_id": "",
       "version_major": 2,
       "version_minor": 0
      },
      "text/plain": [
       "FloatProgress(value=0.0, bar_style='info', description='Progress:', layout=Layout(height='25px', width='50%'),…"
      ]
     },
     "metadata": {},
     "output_type": "display_data"
    },
    {
     "name": "stdout",
     "output_type": "stream",
     "text": [
      "2023-10-18 11:11:23,442 - o9_logger - DEBUG - predict_df dataframe:  Version.[Version Name]    14\n",
      "Product.[Product]         14\n",
      "Time.[FiscalWeek]         14\n",
      "SalesAccount.[Account]    14\n",
      "Location.[Location]       14\n",
      "DPSellOutUnitsActuals     14\n",
      "Mean Pricing Save PCT      0\n",
      "Placement Count            0\n",
      "Promotion Count            0\n",
      "DPSellOutPrice            14\n",
      "dtype: int64\n",
      "2023-10-18 11:11:23,444 - o9_logger - DEBUG - input_df dataframe:  Version.[Version Name]    320\n",
      "Product.[Product]         320\n",
      "Time.[FiscalWeek]         320\n",
      "SalesAccount.[Account]    320\n",
      "Location.[Location]       320\n",
      "DPSellOutUnitsActuals     130\n",
      "Mean Pricing Save PCT      42\n",
      "Placement Count           320\n",
      "Promotion Count            42\n",
      "DPSellOutPrice            130\n",
      "dtype: int64\n",
      "2023-10-18 11:11:23,477 - o9_logger - DEBUG - liveinput dataframe:  WalmartTime.[Day]             200000\n",
      "Store.[Store_ID]              200000\n",
      "Department.[Department_ID]    200000\n",
      "Version.[Version Name]        200000\n",
      "Fuel Price                    200000\n",
      "MarkDown1                      97435\n",
      "MarkDown2                      74597\n",
      "MarkDown3                      89399\n",
      "MarkDown4                      87299\n",
      "MarkDown5                      97773\n",
      "Temperature                   200000\n",
      "Weekly Sales                  200000\n",
      "dtype: int64\n",
      "2023-10-18 11:11:23,477 - o9_logger - DEBUG - script param var1 value: 10\n",
      "2023-10-18 11:11:23,477 - o9_logger - DEBUG - script param var2 value: Test\n",
      "2023-10-18 11:11:23,486 - o9_logger - INFO -    Time.[FiscalWeek]  Product.[Product]  ... Location.[Location] DPSellOutUnitsFcst\n",
      "0           W03-2016             196426  ...                 ALL                0.0\n",
      "1           W03-2016             196426  ...                 ALL                0.0\n",
      "2           W05-2016             196426  ...                 ALL                0.0\n",
      "3           W05-2016             196426  ...                 ALL                0.0\n",
      "4           W08-2016             196426  ...                 ALL                0.0\n",
      "5           W08-2016             196426  ...                 ALL                0.0\n",
      "6           W13-2016             196426  ...                 ALL             1049.0\n",
      "7           W13-2016             196426  ...                 ALL             1049.0\n",
      "8           W48-2016             196426  ...                 ALL             1049.0\n",
      "9           W48-2016             196426  ...                 ALL             1049.0\n",
      "10          W42-2017             196426  ...                 ALL             1049.0\n",
      "11          W42-2017             196426  ...                 ALL             1049.0\n",
      "12          W44-2017             196426  ...                 ALL             1049.0\n",
      "13          W44-2017             196426  ...                 ALL             1049.0\n",
      "\n",
      "[14 rows x 6 columns]\n",
      "Plugin Execution Finished"
     ]
    }
   ],
   "source": [
    "#user script\n",
    "\n",
    "# package imports\n",
    "import logging\n",
    "from sklearn import tree\n",
    "\n",
    "# initialize output variables\n",
    "output1 = None\n",
    "output2 = None\n",
    "\n",
    "# initialize logger\n",
    "logger = logging.getLogger('o9_logger')\n",
    "\n",
    "logger.debug(f'predict_df dataframe:  {predict_df.count()}')\n",
    "logger.debug(f'input_df dataframe:  {input_df.count()}')\n",
    "logger.debug(f'liveinput dataframe:  {liveinput.count()}')\n",
    "logger.debug(f'script param var1 value: {value1}')\n",
    "logger.debug(f'script param var2 value: {value2}')\n",
    "\n",
    "if predict_df is not None and len(predict_df.index) > 0:\n",
    "    x = input_df[['Mean Pricing Save PCT', 'Placement Count', 'Promotion Count', 'DPSellOutPrice']]\n",
    "    y = input_df[['DPSellOutUnitsActuals']]\n",
    "    x = x.fillna(0).values\n",
    "    y = y.fillna(0).values\n",
    "\n",
    "    clf = tree.DecisionTreeRegressor()\n",
    "    clf = clf.fit(x, y)\n",
    "\n",
    "    predict = predict_df[['Mean Pricing Save PCT', 'Placement Count', 'Promotion Count', 'DPSellOutPrice']].fillna(0).values\n",
    "    # predict_keys = predict_df[['Time.[FiscalWeek]', 'Product.[Product]', 'Version.[Version Name]', 'SalesAccount.[Account]','Location.[Location]']]\n",
    "    # predict_keys[\"Product.[Product]\"] = pd.to_numeric(predict_keys[\"Product.[Product]\"], downcast='integer')\n",
    "    predict_values = clf.predict(predict)\n",
    "    predict_df[\"DPSellOutUnitsFcst\"] = predict_values\n",
    "    #out_df = pd.concat([predict_keys, out_df_part], axis=1)\n",
    "    output1 = predict_df[['Time.[FiscalWeek]', 'Product.[Product]', 'Version.[Version Name]', 'SalesAccount.[Account]','Location.[Location]','DPSellOutUnitsFcst']]\n",
    "    logger.info(output1)\n",
    "   \n",
    "else:\n",
    "    output1 = None\n",
    "\n",
    "\n",
    "print(\"Plugin Execution Finished\")"
   ]
  },
  {
   "cell_type": "code",
   "execution_count": 9,
   "id": "7988da3e-1a36-4db7-b630-cd45afb84e1e",
   "metadata": {},
   "outputs": [
    {
     "data": {
      "application/vnd.jupyter.widget-view+json": {
       "model_id": "",
       "version_major": 2,
       "version_minor": 0
      },
      "text/plain": [
       "FloatProgress(value=0.0, bar_style='info', description='Progress:', layout=Layout(height='25px', width='50%'),…"
      ]
     },
     "metadata": {},
     "output_type": "display_data"
    }
   ],
   "source": [
    "#pushing outputs to Live Server(make sure all dimensions,measures present in LiveServer)\n",
    "O9DataLake.put('output1', output1)"
   ]
  },
  {
   "cell_type": "code",
   "execution_count": 6,
   "id": "a9c1f82f-539a-4485-a085-5c5845e42b53",
   "metadata": {
    "tags": [
     "o9_ignore"
    ]
   },
   "outputs": [
    {
     "data": {
      "application/vnd.jupyter.widget-view+json": {
       "model_id": "",
       "version_major": 2,
       "version_minor": 0
      },
      "text/plain": [
       "FloatProgress(value=0.0, bar_style='info', description='Progress:', layout=Layout(height='25px', width='50%'),…"
      ]
     },
     "metadata": {},
     "output_type": "display_data"
    },
    {
     "name": "stdout",
     "output_type": "stream",
     "text": [
      "+-------------+\n",
      "|    namespace|\n",
      "+-------------+\n",
      "|      default|\n",
      "|    nifidelta|\n",
      "|  schema_7348|\n",
      "|  schema_7682|\n",
      "|  schema_7704|\n",
      "|  schema_7705|\n",
      "|  schema_8633|\n",
      "|  schema_8639|\n",
      "|  schema_8787|\n",
      "|  schema_8807|\n",
      "|schemagetnifi|\n",
      "|   schemanifi|\n",
      "+-------------+"
     ]
    }
   ],
   "source": [
    "spark.sql('show databases').show()"
   ]
  },
  {
   "cell_type": "code",
   "execution_count": 7,
   "id": "546d8095-09bb-43c1-ad9c-906c4c83ad42",
   "metadata": {
    "tags": [
     "o9_ignore"
    ]
   },
   "outputs": [
    {
     "data": {
      "application/vnd.jupyter.widget-view+json": {
       "model_id": "",
       "version_major": 2,
       "version_minor": 0
      },
      "text/plain": [
       "FloatProgress(value=0.0, bar_style='info', description='Progress:', layout=Layout(height='25px', width='50%'),…"
      ]
     },
     "metadata": {},
     "output_type": "display_data"
    },
    {
     "name": "stdout",
     "output_type": "stream",
     "text": [
      "+-----------+--------------------+-----------+\n",
      "|  namespace|           tableName|isTemporary|\n",
      "+-----------+--------------------+-----------+\n",
      "|schema_7682|         dimlocation|      false|\n",
      "|schema_7682|          dimproduct|      false|\n",
      "|schema_7682|     dimsalesaccount|      false|\n",
      "|schema_7682|             dimtime|      false|\n",
      "|schema_7682|          dimversion|      false|\n",
      "|schema_7682|factcompetitorrel...|      false|\n",
      "|schema_7682|    factdpbaseinputs|      false|\n",
      "+-----------+--------------------+-----------+"
     ]
    }
   ],
   "source": [
    "spark.sql('show tables in schema_7682').show()"
   ]
  },
  {
   "cell_type": "code",
   "execution_count": 8,
   "id": "e1873502-9978-4563-a119-504275e985dd",
   "metadata": {
    "tags": [
     "o9_ignore"
    ]
   },
   "outputs": [
    {
     "data": {
      "application/vnd.jupyter.widget-view+json": {
       "model_id": "",
       "version_major": 2,
       "version_minor": 0
      },
      "text/plain": [
       "FloatProgress(value=0.0, bar_style='info', description='Progress:', layout=Layout(height='25px', width='50%'),…"
      ]
     },
     "metadata": {},
     "output_type": "display_data"
    },
    {
     "name": "stdout",
     "output_type": "stream",
     "text": [
      "+-----------+----------+---------------+-------------------+------------------+-----------------------+------------------+------------------+----------------------+-------------------+-----------------+-----------------------+-------------+--------------+-------------+--------------+------------------+---------------------+-------------------------+---------------------+------------------------------+----------+-------------------------------+-----------------------+------------------------+--------------------+------------------+--------------+--------------------+-------------+----------+\n",
      "|locationkey|productkey|salesaccountkey|            timekey|dpselloutunitsfcst|meanflyerspaceactualpct|commonflyerslotnum|commonflyershowind|dpsellinunitslyactuals|dpselloutunitsfcstr|dpsellinunitsfcst|dpselloutunitslyactuals|inputpicklist|placementcount|placementflag|dpselloutprice|commonflyerpagenum|dpselloutunitsactuals|commonflyerslotprioritynm|dpselloutaountactuals|meanpricingpromoregularnatlamt|promocount|meanpricingretailregularnatlamt|dpsellinunitslcforecast|commonflyerslotprogramnm|dpsellinunitsactuals|meanpricingsavepct|outputpicklist|dpselloutunitsfcstpy|promotionflag|versionkey|\n",
      "+-----------+----------+---------------+-------------------+------------------+-----------------------+------------------+------------------+----------------------+-------------------+-----------------+-----------------------+-------------+--------------+-------------+--------------+------------------+---------------------+-------------------------+---------------------+------------------------------+----------+-------------------------------+-----------------------+------------------------+--------------------+------------------+--------------+--------------------+-------------+----------+\n",
      "|          2|    109859|              2|2016-03-27 00:00:00|101.04166666666667|                   null|              null|              null|                  null|               null|             null|                   null|         null|           3.0|          1.0|          10.0|              null|                 91.0|                     null|                910.0|                          null|      null|                           null|                   null|                    null|                78.0|              null|          null|                null|         null|         0|\n",
      "|          2|    109859|              2|2016-04-03 00:00:00|               0.0|                   null|              null|              null|                  null|               null|             null|                   null|         null|           3.0|          1.0|          null|              null|                 null|                     null|                 null|                          null|      null|                           null|                   null|                    null|                null|              null|          null|                null|         null|         0|\n",
      "+-----------+----------+---------------+-------------------+------------------+-----------------------+------------------+------------------+----------------------+-------------------+-----------------+-----------------------+-------------+--------------+-------------+--------------+------------------+---------------------+-------------------------+---------------------+------------------------------+----------+-------------------------------+-----------------------+------------------------+--------------------+------------------+--------------+--------------------+-------------+----------+"
     ]
    }
   ],
   "source": [
    "spark.sql('select * from schema_7682.factdpbaseinputs limit 2').show()"
   ]
  },
  {
   "cell_type": "code",
   "execution_count": 9,
   "id": "b3eae41a-6c5d-4aea-a1c2-14aeb94356c3",
   "metadata": {
    "tags": [
     "o9_ignore"
    ]
   },
   "outputs": [
    {
     "data": {
      "application/vnd.jupyter.widget-view+json": {
       "model_id": "",
       "version_major": 2,
       "version_minor": 0
      },
      "text/plain": [
       "FloatProgress(value=0.0, bar_style='info', description='Progress:', layout=Layout(height='25px', width='50%'),…"
      ]
     },
     "metadata": {},
     "output_type": "display_data"
    }
   ],
   "source": [
    "dptable = spark.sql('select * from schema_7682.factdpbaseinputs limit 2')"
   ]
  },
  {
   "cell_type": "code",
   "execution_count": 10,
   "id": "41d3ea5e-b4a1-4dfc-ad9f-74a50f8a4ac9",
   "metadata": {
    "tags": [
     "o9_ignore"
    ]
   },
   "outputs": [
    {
     "data": {
      "application/vnd.jupyter.widget-view+json": {
       "model_id": "",
       "version_major": 2,
       "version_minor": 0
      },
      "text/plain": [
       "FloatProgress(value=0.0, bar_style='info', description='Progress:', layout=Layout(height='25px', width='50%'),…"
      ]
     },
     "metadata": {},
     "output_type": "display_data"
    },
    {
     "name": "stdout",
     "output_type": "stream",
     "text": [
      "2"
     ]
    }
   ],
   "source": [
    "dptable.count()"
   ]
  },
  {
   "cell_type": "code",
   "execution_count": null,
   "id": "e57564b8-23e4-4b86-beb2-647540630df7",
   "metadata": {},
   "outputs": [],
   "source": []
  }
 ],
 "metadata": {
  "id": "9fa64baf-b6cd-44b5-b0f4-a2bc9ac83e93",
  "kernelspec": {
   "display_name": "[pyplatformhivetest] Tenant Conda Environment",
   "language": "python",
   "name": "genieaz_pyplatformhivetest"
  },
  "language_info": {
   "codemirror_mode": {
    "name": "ipython",
    "version": 3
   },
   "file_extension": ".py",
   "mimetype": "text/x-python",
   "name": "python",
   "nbconvert_exporter": "python",
   "pygments_lexer": "ipython3",
   "version": "3.7.10"
  }
 },
 "nbformat": 4,
 "nbformat_minor": 5
}
