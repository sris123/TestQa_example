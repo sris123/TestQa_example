{
 "cells": [
  {
   "cell_type": "code",
   "execution_count": 4,
   "id": "b0d3678d-9343-4fd8-a676-22c6843f9c1a",
   "metadata": {},
   "outputs": [],
   "source": [
    "_predict_df = \"select (Version.[Version Name]*Product.[Product].[208821]*Time.FiscalWeek*SalesAccount.[Account]*Location.[Location]*{Measure.[DPSellOutUnitsActuals],Measure.[Mean Pricing Save PCT],Measure.[Placement Count],Measure.[Promotion Count],Measure.[DPSellOutPrice]});\""
   ]
  },
  {
   "cell_type": "code",
   "execution_count": 5,
   "id": "8745a3f4-cc73-41a1-ad31-d06f924549c7",
   "metadata": {},
   "outputs": [],
   "source": [
    "from o9_common_utils.O9DataLake import O9DataLake, ResourceType, DataSource,PluginSetting"
   ]
  },
  {
   "cell_type": "code",
   "execution_count": 6,
   "id": "d05b2c16-dccf-4849-94d4-9617d828af19",
   "metadata": {},
   "outputs": [],
   "source": [
    "predict_df = O9DataLake.register(\"predict_df\",data_source = DataSource.LS, entity_type = ResourceType.IBPL, query = _predict_df,plugin_setting = PluginSetting.Inputs)"
   ]
  },
  {
   "cell_type": "code",
   "execution_count": 7,
   "id": "3faa7985-c763-4114-b86f-6f60d1f91567",
   "metadata": {},
   "outputs": [],
   "source": [
    "O9DataLake.register(\"Product.[Product]\", data_source = DataSource.LS, entity_type = ResourceType.IBPL, plugin_setting = PluginSetting.SliceDimension)"
   ]
  },
  {
   "cell_type": "code",
   "execution_count": 8,
   "id": "331dcb68-966e-4885-9b58-01856bfe2053",
   "metadata": {},
   "outputs": [],
   "source": [
    "O9DataLake.register(\"output1\",data_source = DataSource.LS,entity_type = ResourceType.IBPL, plugin_setting = PluginSetting.Outputs)"
   ]
  },
  {
   "cell_type": "code",
   "execution_count": 9,
   "id": "15877031-f7c4-4bdc-b094-1f2520ba4ab3",
   "metadata": {},
   "outputs": [],
   "source": [
    "script_params = O9DataLake.register({\"var1\":\"20\",\"var2\":\"Test1\",\"var3\":\"newparam\"}, data_source = DataSource.LS, plugin_setting = PluginSetting.ScriptParam)"
   ]
  },
  {
   "cell_type": "code",
   "execution_count": null,
   "id": "3b2e8cf4-fe5f-4e8f-90cc-9f97914eec45",
   "metadata": {},
   "outputs": [],
   "source": []
  }
 ],
 "metadata": {
  "kernelspec": {
   "display_name": "[AutoDSML2] Tenant Conda Environment",
   "language": "python",
   "name": "qa_autodsml2"
  },
  "language_info": {
   "codemirror_mode": {
    "name": "ipython",
    "version": 3
   },
   "file_extension": ".py",
   "mimetype": "text/x-python",
   "name": "python",
   "nbconvert_exporter": "python",
   "pygments_lexer": "ipython3",
   "version": "3.7.10"
  }
 },
 "nbformat": 4,
 "nbformat_minor": 5
}
