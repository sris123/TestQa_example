{
 "cells": [
  {
   "cell_type": "code",
   "execution_count": null,
   "id": "5084c6fc-90d3-457e-a5a0-8bbcd9ad922f",
   "metadata": {},
   "outputs": [],
   "source": [
    "from o9_common_utils.O9DataLake import O9DataLake, ResourceType, DataSource,PluginSetting"
   ]
  },
  {
   "cell_type": "code",
   "execution_count": null,
   "id": "d74c20b7-aa46-42e3-a694-16f86177cab5",
   "metadata": {},
   "outputs": [],
   "source": []
  },
  {
   "cell_type": "code",
   "execution_count": 4,
   "id": "22a3d591-67ff-43d8-afcc-fd9ae8801ddc",
   "metadata": {},
   "outputs": [
    {
     "ename": "NameError",
     "evalue": "name 'DataSource' is not defined",
     "output_type": "error",
     "traceback": [
      "\u001b[0;31m---------------------------------------------------------------------------\u001b[0m",
      "\u001b[0;31mNameError\u001b[0m                                 Traceback (most recent call last)",
      "\u001b[0;32m/tmp/ipykernel_2618/2907654868.py\u001b[0m in \u001b[0;36m<module>\u001b[0;34m\u001b[0m\n\u001b[0;32m----> 1\u001b[0;31m \u001b[0mpredict_df\u001b[0m \u001b[0;34m=\u001b[0m \u001b[0mO9DataLake\u001b[0m\u001b[0;34m.\u001b[0m\u001b[0mregister\u001b[0m\u001b[0;34m(\u001b[0m\u001b[0;34m\"predict_df\"\u001b[0m\u001b[0;34m,\u001b[0m\u001b[0mdata_source\u001b[0m \u001b[0;34m=\u001b[0m \u001b[0mDataSource\u001b[0m\u001b[0;34m.\u001b[0m\u001b[0mLS\u001b[0m\u001b[0;34m,\u001b[0m \u001b[0mentity_type\u001b[0m \u001b[0;34m=\u001b[0m \u001b[0mResourceType\u001b[0m\u001b[0;34m.\u001b[0m\u001b[0mIBPL\u001b[0m\u001b[0;34m,\u001b[0m \u001b[0mquery\u001b[0m \u001b[0;34m=\u001b[0m \u001b[0m_predict_df\u001b[0m\u001b[0;34m,\u001b[0m\u001b[0mplugin_setting\u001b[0m \u001b[0;34m=\u001b[0m \u001b[0mPluginSetting\u001b[0m\u001b[0;34m.\u001b[0m\u001b[0mInputs\u001b[0m\u001b[0;34m)\u001b[0m\u001b[0;34m\u001b[0m\u001b[0;34m\u001b[0m\u001b[0m\n\u001b[0m",
      "\u001b[0;31mNameError\u001b[0m: name 'DataSource' is not defined"
     ]
    }
   ],
   "source": [
    "predict_df = O9DataLake.register(\"predict_df\",data_source = DataSource.LS, entity_type = ResourceType.IBPL, query = _predict_df,plugin_setting = PluginSetting.Inputs)"
   ]
  },
  {
   "cell_type": "code",
   "execution_count": null,
   "id": "2c4f906a-0c38-4b2a-bb61-cd6342d3863c",
   "metadata": {},
   "outputs": [],
   "source": []
  },
  {
   "cell_type": "code",
   "execution_count": null,
   "id": "d07b0d12-9157-4142-9691-2e820ef803f6",
   "metadata": {},
   "outputs": [],
   "source": []
  },
  {
   "cell_type": "code",
   "execution_count": 5,
   "id": "7a5a8405-356c-4069-b8a5-b2c5a5ad7334",
   "metadata": {},
   "outputs": [
    {
     "ename": "NameError",
     "evalue": "name 'DataSource' is not defined",
     "output_type": "error",
     "traceback": [
      "\u001b[0;31m---------------------------------------------------------------------------\u001b[0m",
      "\u001b[0;31mNameError\u001b[0m                                 Traceback (most recent call last)",
      "\u001b[0;32m/tmp/ipykernel_2618/2921869391.py\u001b[0m in \u001b[0;36m<module>\u001b[0;34m\u001b[0m\n\u001b[0;32m----> 1\u001b[0;31m \u001b[0mscript_params\u001b[0m \u001b[0;34m=\u001b[0m \u001b[0mO9DataLake\u001b[0m\u001b[0;34m.\u001b[0m\u001b[0mregister\u001b[0m\u001b[0;34m(\u001b[0m\u001b[0;34m{\u001b[0m\u001b[0;34m\"var1\"\u001b[0m\u001b[0;34m:\u001b[0m\u001b[0;34m\"20\"\u001b[0m\u001b[0;34m,\u001b[0m\u001b[0;34m\"var2\"\u001b[0m\u001b[0;34m:\u001b[0m\u001b[0;34m\"Test1\"\u001b[0m\u001b[0;34m,\u001b[0m\u001b[0;34m\"var3\"\u001b[0m\u001b[0;34m:\u001b[0m\u001b[0;34m\"newparam\"\u001b[0m\u001b[0;34m}\u001b[0m\u001b[0;34m,\u001b[0m \u001b[0mdata_source\u001b[0m \u001b[0;34m=\u001b[0m \u001b[0mDataSource\u001b[0m\u001b[0;34m.\u001b[0m\u001b[0mLS\u001b[0m\u001b[0;34m,\u001b[0m \u001b[0mplugin_setting\u001b[0m \u001b[0;34m=\u001b[0m \u001b[0mPluginSetting\u001b[0m\u001b[0;34m.\u001b[0m\u001b[0mScriptParam\u001b[0m\u001b[0;34m)\u001b[0m\u001b[0;34m\u001b[0m\u001b[0;34m\u001b[0m\u001b[0m\n\u001b[0m",
      "\u001b[0;31mNameError\u001b[0m: name 'DataSource' is not defined"
     ]
    }
   ],
   "source": [
    "script_params = O9DataLake.register({\"var1\":\"20\",\"var2\":\"Test1\",\"var3\":\"newparam\"}, data_source = DataSource.LS, plugin_setting = PluginSetting.ScriptParam)"
   ]
  },
  {
   "cell_type": "code",
   "execution_count": null,
   "id": "96d8c904-430e-46a5-9c1a-97752eb590e1",
   "metadata": {},
   "outputs": [],
   "source": []
  }
 ],
 "metadata": {
  "kernelspec": {
   "display_name": "[autodsml2] Tenant Conda Environment",
   "language": "python",
   "name": "k8qa_autodsml2"
  },
  "language_info": {
   "codemirror_mode": {
    "name": "ipython",
    "version": 3
   },
   "file_extension": ".py",
   "mimetype": "text/x-python",
   "name": "python",
   "nbconvert_exporter": "python",
   "pygments_lexer": "ipython3",
   "version": "3.7.10"
  }
 },
 "nbformat": 4,
 "nbformat_minor": 5
}
