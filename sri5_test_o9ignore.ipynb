{
 "cells": [
  {
   "cell_type": "code",
   "execution_count": 2,
   "id": "0de59cbc-d82d-4250-a03b-1f06e9e1dbf9",
   "metadata": {},
   "outputs": [
    {
     "name": "stdout",
     "output_type": "stream",
     "text": [
      "2023-01-22 14:03:13,682 : srishtisingh_5502 :IbplClient: WebApi Request Url = [https://myazureqatest.o9solutions.com/api/ibplquery/5502/ExecuteCompactJsonQuery]\n",
      "2023-01-22 14:03:13,687 : srishtisingh_5502 :Starting new HTTPS connection (1): myazureqatest.o9solutions.com:443\n",
      "2023-01-22 14:03:13,810 : srishtisingh_5502 :https://myazureqatest.o9solutions.com:443 \"POST /api/ibplquery/5502/ExecuteCompactJsonQuery HTTP/1.1\" 200 None\n",
      "2023-01-22 14:03:18,818 : srishtisingh_5502 :IbplClient: WebApi Request Url = [https://myazureqatest.o9solutions.com/api/ibplquery/5502/ExecuteCompactJsonQuery]\n",
      "2023-01-22 14:03:18,821 : srishtisingh_5502 :Starting new HTTPS connection (1): myazureqatest.o9solutions.com:443\n",
      "2023-01-22 14:03:18,937 : srishtisingh_5502 :https://myazureqatest.o9solutions.com:443 \"POST /api/ibplquery/5502/ExecuteCompactJsonQuery HTTP/1.1\" 200 None\n",
      "2023-01-22 14:03:23,963 : srishtisingh_5502 :IbplClient: WebApi Request Url = [https://myazureqatest.o9solutions.com/api/ibplquery/5502/ExecuteCompactJsonQuery]\n",
      "2023-01-22 14:03:23,968 : srishtisingh_5502 :Starting new HTTPS connection (1): myazureqatest.o9solutions.com:443\n",
      "2023-01-22 14:03:24,084 : srishtisingh_5502 :https://myazureqatest.o9solutions.com:443 \"POST /api/ibplquery/5502/ExecuteCompactJsonQuery HTTP/1.1\" 200 None\n",
      "2023-01-22 14:03:29,092 : srishtisingh_5502 :IbplClient: WebApi Request Url = [https://myazureqatest.o9solutions.com/api/ibplquery/5502/ExecuteCompactJsonQuery]\n",
      "2023-01-22 14:03:29,095 : srishtisingh_5502 :Starting new HTTPS connection (1): myazureqatest.o9solutions.com:443\n",
      "2023-01-22 14:03:29,204 : srishtisingh_5502 :https://myazureqatest.o9solutions.com:443 \"POST /api/ibplquery/5502/ExecuteCompactJsonQuery HTTP/1.1\" 200 None\n"
     ]
    },
    {
     "data": {
      "text/html": [
       "<div>\n",
       "<style scoped>\n",
       "    .dataframe tbody tr th:only-of-type {\n",
       "        vertical-align: middle;\n",
       "    }\n",
       "\n",
       "    .dataframe tbody tr th {\n",
       "        vertical-align: top;\n",
       "    }\n",
       "\n",
       "    .dataframe thead th {\n",
       "        text-align: right;\n",
       "    }\n",
       "</style>\n",
       "<table border=\"1\" class=\"dataframe\">\n",
       "  <thead>\n",
       "    <tr style=\"text-align: right;\">\n",
       "      <th></th>\n",
       "      <th>Version.[Version Name]</th>\n",
       "      <th>Product.[Product]</th>\n",
       "      <th>Time.[FiscalWeek]</th>\n",
       "      <th>SalesAccount.[Account]</th>\n",
       "      <th>Location.[Location]</th>\n",
       "      <th>DPSellOutUnitsActuals</th>\n",
       "      <th>Mean Pricing Save PCT</th>\n",
       "      <th>Placement Count</th>\n",
       "      <th>Promotion Count</th>\n",
       "      <th>DPSellOutPrice</th>\n",
       "    </tr>\n",
       "  </thead>\n",
       "  <tbody>\n",
       "    <tr>\n",
       "      <th>0</th>\n",
       "      <td>CurrentWorkingView</td>\n",
       "      <td>196426</td>\n",
       "      <td>W03-2016</td>\n",
       "      <td>ALL</td>\n",
       "      <td>ALL</td>\n",
       "      <td>11.0</td>\n",
       "      <td>NaN</td>\n",
       "      <td>NaN</td>\n",
       "      <td>NaN</td>\n",
       "      <td>10.0</td>\n",
       "    </tr>\n",
       "    <tr>\n",
       "      <th>1</th>\n",
       "      <td>CurrentWorkingView</td>\n",
       "      <td>196426</td>\n",
       "      <td>W05-2016</td>\n",
       "      <td>ALL</td>\n",
       "      <td>ALL</td>\n",
       "      <td>11.0</td>\n",
       "      <td>NaN</td>\n",
       "      <td>NaN</td>\n",
       "      <td>NaN</td>\n",
       "      <td>10.0</td>\n",
       "    </tr>\n",
       "    <tr>\n",
       "      <th>2</th>\n",
       "      <td>CurrentWorkingView</td>\n",
       "      <td>196426</td>\n",
       "      <td>W08-2016</td>\n",
       "      <td>ALL</td>\n",
       "      <td>ALL</td>\n",
       "      <td>11.0</td>\n",
       "      <td>NaN</td>\n",
       "      <td>NaN</td>\n",
       "      <td>NaN</td>\n",
       "      <td>10.0</td>\n",
       "    </tr>\n",
       "    <tr>\n",
       "      <th>3</th>\n",
       "      <td>CurrentWorkingView</td>\n",
       "      <td>196426</td>\n",
       "      <td>W13-2016</td>\n",
       "      <td>ALL</td>\n",
       "      <td>ALL</td>\n",
       "      <td>11.0</td>\n",
       "      <td>NaN</td>\n",
       "      <td>NaN</td>\n",
       "      <td>NaN</td>\n",
       "      <td>10.0</td>\n",
       "    </tr>\n",
       "    <tr>\n",
       "      <th>4</th>\n",
       "      <td>CurrentWorkingView</td>\n",
       "      <td>196426</td>\n",
       "      <td>W48-2016</td>\n",
       "      <td>ALL</td>\n",
       "      <td>ALL</td>\n",
       "      <td>11.0</td>\n",
       "      <td>NaN</td>\n",
       "      <td>NaN</td>\n",
       "      <td>NaN</td>\n",
       "      <td>10.0</td>\n",
       "    </tr>\n",
       "    <tr>\n",
       "      <th>5</th>\n",
       "      <td>CurrentWorkingView</td>\n",
       "      <td>196426</td>\n",
       "      <td>W42-2017</td>\n",
       "      <td>ALL</td>\n",
       "      <td>ALL</td>\n",
       "      <td>11.0</td>\n",
       "      <td>NaN</td>\n",
       "      <td>NaN</td>\n",
       "      <td>NaN</td>\n",
       "      <td>10.0</td>\n",
       "    </tr>\n",
       "    <tr>\n",
       "      <th>6</th>\n",
       "      <td>CurrentWorkingView</td>\n",
       "      <td>196426</td>\n",
       "      <td>W44-2017</td>\n",
       "      <td>ALL</td>\n",
       "      <td>ALL</td>\n",
       "      <td>11.0</td>\n",
       "      <td>NaN</td>\n",
       "      <td>NaN</td>\n",
       "      <td>NaN</td>\n",
       "      <td>10.0</td>\n",
       "    </tr>\n",
       "  </tbody>\n",
       "</table>\n",
       "</div>"
      ],
      "text/plain": [
       "  Version.[Version Name] Product.[Product] Time.[FiscalWeek]  \\\n",
       "0     CurrentWorkingView            196426          W03-2016   \n",
       "1     CurrentWorkingView            196426          W05-2016   \n",
       "2     CurrentWorkingView            196426          W08-2016   \n",
       "3     CurrentWorkingView            196426          W13-2016   \n",
       "4     CurrentWorkingView            196426          W48-2016   \n",
       "5     CurrentWorkingView            196426          W42-2017   \n",
       "6     CurrentWorkingView            196426          W44-2017   \n",
       "\n",
       "  SalesAccount.[Account] Location.[Location]  DPSellOutUnitsActuals  \\\n",
       "0                    ALL                 ALL                   11.0   \n",
       "1                    ALL                 ALL                   11.0   \n",
       "2                    ALL                 ALL                   11.0   \n",
       "3                    ALL                 ALL                   11.0   \n",
       "4                    ALL                 ALL                   11.0   \n",
       "5                    ALL                 ALL                   11.0   \n",
       "6                    ALL                 ALL                   11.0   \n",
       "\n",
       "   Mean Pricing Save PCT  Placement Count  Promotion Count  DPSellOutPrice  \n",
       "0                    NaN              NaN              NaN            10.0  \n",
       "1                    NaN              NaN              NaN            10.0  \n",
       "2                    NaN              NaN              NaN            10.0  \n",
       "3                    NaN              NaN              NaN            10.0  \n",
       "4                    NaN              NaN              NaN            10.0  \n",
       "5                    NaN              NaN              NaN            10.0  \n",
       "6                    NaN              NaN              NaN            10.0  "
      ]
     },
     "execution_count": 2,
     "metadata": {},
     "output_type": "execute_result"
    }
   ],
   "source": [
    "from o9_common_utils.O9DataLake import O9DataLake, ResourceType, DataSource\n",
    "query1 = \"select (Version.[Version Name]*Product.[Product].[196426]*Time.FiscalWeek*SalesAccount.[Account]*Location.[Location]*{Measure.[DPSellOutUnitsActuals],Measure.[Mean Pricing Save PCT],Measure.[Placement Count],Measure.[Promotion Count],Measure.[DPSellOutPrice]});\"\n",
    "query2 = \"select (Version.[Version Name]*Product.[Product].[196426]*Time.FiscalWeek*SalesAccount.[Account]*Location.[Location]*{Measure.[DPSellOutUnitsActuals],Measure.[Mean Pricing Save PCT],Measure.[Placement Count],Measure.[Promotion Count],Measure.[DPSellOutPrice]});\"\n",
    "O9DataLake.register(\"sales_df\",DataSource.LS, ResourceType.IBPL, query1) \n",
    "O9DataLake.register(\"DPBaseInputs\",DataSource.LS, ResourceType.IBPL, query2)"
   ]
  },
  {
   "cell_type": "code",
   "execution_count": 3,
   "id": "fbe9f101-2c83-45c5-9f70-bec188198e3a",
   "metadata": {
    "tags": [
     "o9_ignore"
    ]
   },
   "outputs": [
    {
     "name": "stdout",
     "output_type": "stream",
     "text": [
      "Hello\n"
     ]
    }
   ],
   "source": [
    "print(\"Hello\")"
   ]
  },
  {
   "cell_type": "code",
   "execution_count": 4,
   "id": "5adfe5a0-8835-4ff0-98b1-372919d807f2",
   "metadata": {},
   "outputs": [
    {
     "name": "stdout",
     "output_type": "stream",
     "text": [
      "2023-01-22 14:03:34,255 : srishtisingh_5502 :IbplClient: WebApi Request Url = [https://myazureqatest.o9solutions.com/api/ibplquery/5502/ExecuteCompactJsonQuery]\n",
      "2023-01-22 14:03:34,257 : srishtisingh_5502 :Starting new HTTPS connection (1): myazureqatest.o9solutions.com:443\n",
      "2023-01-22 14:03:34,373 : srishtisingh_5502 :https://myazureqatest.o9solutions.com:443 \"POST /api/ibplquery/5502/ExecuteCompactJsonQuery HTTP/1.1\" 200 None\n",
      "2023-01-22 14:03:39,381 : srishtisingh_5502 :IbplClient: WebApi Request Url = [https://myazureqatest.o9solutions.com/api/ibplquery/5502/ExecuteCompactJsonQuery]\n",
      "2023-01-22 14:03:39,384 : srishtisingh_5502 :Starting new HTTPS connection (1): myazureqatest.o9solutions.com:443\n",
      "2023-01-22 14:03:39,506 : srishtisingh_5502 :https://myazureqatest.o9solutions.com:443 \"POST /api/ibplquery/5502/ExecuteCompactJsonQuery HTTP/1.1\" 200 None\n",
      "2023-01-22 14:03:44,525 : srishtisingh_5502 :IbplClient: WebApi Request Url = [https://myazureqatest.o9solutions.com/api/ibplquery/5502/ExecuteCompactJsonQuery]\n",
      "2023-01-22 14:03:44,528 : srishtisingh_5502 :Starting new HTTPS connection (1): myazureqatest.o9solutions.com:443\n",
      "2023-01-22 14:03:44,615 : srishtisingh_5502 :https://myazureqatest.o9solutions.com:443 \"POST /api/ibplquery/5502/ExecuteCompactJsonQuery HTTP/1.1\" 200 None\n",
      "2023-01-22 14:03:49,623 : srishtisingh_5502 :IbplClient: WebApi Request Url = [https://myazureqatest.o9solutions.com/api/ibplquery/5502/ExecuteCompactJsonQuery]\n",
      "2023-01-22 14:03:49,626 : srishtisingh_5502 :Starting new HTTPS connection (1): myazureqatest.o9solutions.com:443\n",
      "2023-01-22 14:03:49,740 : srishtisingh_5502 :https://myazureqatest.o9solutions.com:443 \"POST /api/ibplquery/5502/ExecuteCompactJsonQuery HTTP/1.1\" 200 None\n",
      "2023-01-22 14:03:54,759 : srishtisingh_5502 :Hello warning\n",
      "2023-01-22 14:03:54,760 : srishtisingh_5502 :Hello error\n",
      "2023-01-22 14:03:54,761 : srishtisingh_5502 :Hello warning\n",
      "2023-01-22 14:03:54,769 : srishtisingh_5502 :Starting new HTTPS connection (1): myazureqatest.o9solutions.com:443\n",
      "2023-01-22 14:03:54,889 : srishtisingh_5502 :https://myazureqatest.o9solutions.com:443 \"GET /api/framework/sessions/session/authToken?authToken=eexuho1hze1htbac2sq2kv4u HTTP/1.1\" 200 None\n",
      "2023-01-22 14:03:54,891 : srishtisingh_5502 :Uploading LOCAL file: /tmp/tmp6ashs16p/Fact.out_df1.csv\n",
      "2023-01-22 14:03:54,892 : srishtisingh_5502 :Is the file parquet: False\n",
      "2023-01-22 14:03:54,893 : srishtisingh_5502 :Uploading /tmp/tmp6ashs16p/Fact.out_df1.csv to Live Server cloud\n",
      "2023-01-22 14:03:54,894 : srishtisingh_5502 :File size less than 256 MB\n",
      "2023-01-22 14:03:54,895 : srishtisingh_5502 :Uploading to /fileUpload endpoint\n",
      "2023-01-22 14:03:54,896 : srishtisingh_5502 :Uploading /tmp/tmp6ashs16p/Fact.out_df1.csv to Live Server cloud\n",
      "2023-01-22 14:03:54,899 : srishtisingh_5502 :Starting new HTTPS connection (1): myazureqatest.o9solutions.com:443\n",
      "2023-01-22 14:03:57,268 : srishtisingh_5502 :https://myazureqatest.o9solutions.com:443 \"POST /api/upload/fileUpload HTTP/1.1\" 200 None\n",
      "2023-01-22 14:03:57,272 : srishtisingh_5502 :Uploaded the file successfully\n",
      "2023-01-22 14:03:57,273 : srishtisingh_5502 :Uploading cloud files at: \"azure://IvrkBaeWLfmAdgA63s0q-YQjS9rnxeYLls4-lXy8ZCBb7W5Pos9YT7xPNvmWLQcstpUHxf3FCrS49exMY-SvVw2\"\n",
      "2023-01-22 14:03:57,274 : srishtisingh_5502 :IbplClient: WebApi Request Url = [https://myazureqatest.o9solutions.com/api/framework/sessions/session]\n",
      "2023-01-22 14:03:57,277 : srishtisingh_5502 :Starting new HTTPS connection (1): myazureqatest.o9solutions.com:443\n",
      "2023-01-22 14:03:57,364 : srishtisingh_5502 :https://myazureqatest.o9solutions.com:443 \"GET /api/framework/sessions/session HTTP/1.1\" 200 None\n",
      "2023-01-22 14:03:57,366 : srishtisingh_5502 :logged into tenant pyplatformhivetest successfully\n",
      "2023-01-22 14:03:57,367 : srishtisingh_5502 :IbplClient: WebApi Request Url = [https://myazureqatest.o9solutions.com/api/user]\n",
      "2023-01-22 14:03:57,370 : srishtisingh_5502 :Starting new HTTPS connection (1): myazureqatest.o9solutions.com:443\n",
      "2023-01-22 14:03:57,623 : srishtisingh_5502 :https://myazureqatest.o9solutions.com:443 \"GET /api/user HTTP/1.1\" 200 None\n",
      "2023-01-22 14:03:57,629 : srishtisingh_5502 :Starting new HTTPS connection (1): myazureqatest.o9solutions.com:443\n",
      "2023-01-22 14:03:57,715 : srishtisingh_5502 :https://myazureqatest.o9solutions.com:443 \"GET /api/framework/sessions/session/authToken?authToken=eexuho1hze1htbac2sq2kv4u HTTP/1.1\" 200 None\n",
      "2023-01-22 14:03:57,718 : srishtisingh_5502 :Starting new HTTPS connection (1): myazureqatest.o9solutions.com:443\n",
      "2023-01-22 14:04:00,431 : srishtisingh_5502 :https://myazureqatest.o9solutions.com:443 \"POST /api/ibplquery/5502/ExecuteQuery HTTP/1.1\" 200 None\n",
      "2023-01-22 14:04:00,434 : srishtisingh_5502 :200, OK\n",
      "2023-01-22 14:04:00,436 : srishtisingh_5502 :Response json:\n",
      "{\"Result\":\"[{\\\"FileName\\\":\\\"Fact.out_df1.csv\\\",\\\"SheetName\\\":\\\"Fact.out_df1.csv\\\",\\\"TotalRows\\\":7,\\\"ProcessedRows\\\":7,\\\"Status\\\":\\\"Success\\\",\\\"Messages\\\":[\\\"Total Rows: [7]. Successfully Processed Rows: [7].\\\"],\\\"FileId\\\":\\\"azure://IvrkBaeWLfmAdgA63s0q-YQjS9rnxeYLls4-lXy8ZCBb7W5Pos9YT7xPNvmWLQcstpUHxf3FCrS49exMY-SvVw2\\\"}]\",\"QueryGuid\":\"6a3ac845-8898-414c-84ff-dc4954199df0\",\"ImpactHeader\":{\"TenantId\":5502,\"TransactionId\":\"00000000-0000-0000-0000-000000000000\",\"UpdatedMembers\":null,\"CreatedMembers\":null,\"DeletedMembers\":null,\"ModelImpact\":{\"DemandPlanning.Core.Inputs\":{\"DPBaseInputs\":[\"DPSellOutUnitsActuals\",\"Mean Pricing Save PCT\",\"Placement Count\",\"Promotion Count\",\"DPSellOutPrice\"]}}}}\n",
      "2023-01-22 14:04:00,436 : srishtisingh_5502 :{'FileName': 'Fact.out_df1.csv', 'SheetName': 'Fact.out_df1.csv', 'TotalRows': 7, 'ProcessedRows': 7, 'Status': 'Success', 'Messages': ['Total Rows: [7]. Successfully Processed Rows: [7].'], 'FileId': 'azure://IvrkBaeWLfmAdgA63s0q-YQjS9rnxeYLls4-lXy8ZCBb7W5Pos9YT7xPNvmWLQcstpUHxf3FCrS49exMY-SvVw2'}\n"
     ]
    }
   ],
   "source": [
    "#getting input from dataLake\n",
    "\n",
    "sales = O9DataLake.get('sales_df')\n",
    "dpbaseinputs = O9DataLake.get('DPBaseInputs')\n",
    "\n",
    "#User Script\n",
    "import logging\n",
    "out_df1 = None\n",
    "logger = logging.getLogger('o9_logger')\n",
    "#logger.info(f'Records count in sales dataframe : {sales.shape}')\n",
    "#logger.info(f'Records count in DPBaseInputs dataframe : {dpbaseinputs.shape}')\n",
    "logger.warning(\"Hello warning\")\n",
    "logger.error(\"Hello error\")\n",
    "logger.warning(\"Hello warning\")\n",
    "\n",
    "#pushing output to the DataLake\n",
    "O9DataLake.put('out_df1',sales)"
   ]
  },
  {
   "cell_type": "code",
   "execution_count": null,
   "id": "c1b14836-e2f3-4165-9d67-298fb62bf875",
   "metadata": {
    "tags": [
     "o9_ignore"
    ]
   },
   "outputs": [],
   "source": []
  },
  {
   "cell_type": "code",
   "execution_count": null,
   "id": "9d3ca2f6-f59b-4138-8eac-7a724e97ef6b",
   "metadata": {},
   "outputs": [],
   "source": []
  }
 ],
 "metadata": {
  "kernelspec": {
   "display_name": "[pyplatformhivetest] Tenant Conda Environment",
   "language": "python",
   "name": "genieaz_pyplatformhivetest"
  },
  "language_info": {
   "codemirror_mode": {
    "name": "ipython",
    "version": 3
   },
   "file_extension": ".py",
   "mimetype": "text/x-python",
   "name": "python",
   "nbconvert_exporter": "python",
   "pygments_lexer": "ipython3",
   "version": "3.7.10"
  },
  "notebook_dict": {
   "ClassName": "o9.GraphCube.Plugins.Python.PythonScript",
   "InstanceName": "sri5_test_o9ignore",
   "SliceKeys": [
    {
     "AttributeName": "Version Name",
     "DimensionName": "Version"
    }
   ],
   "file_path": "loaded_notebooks/sri5_test_o9ignore.ipynb",
   "o9_selected_plugin_id": 250889
  }
 },
 "nbformat": 4,
 "nbformat_minor": 5
}
