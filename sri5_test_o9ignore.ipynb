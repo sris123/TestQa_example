{
 "cells": [
  {
   "cell_type": "code",
   "execution_count": 1,
   "id": "0de59cbc-d82d-4250-a03b-1f06e9e1dbf9",
   "metadata": {},
   "outputs": [
    {
     "name": "stdout",
     "output_type": "stream",
     "text": [
      "2023-01-17 14:23:55,826 : srishtisingh_5502 :IbplClient: WebApi Request Url = [https://myazureqatest.o9solutions.com/api/ibplquery/5502/ExecuteCompactJsonQuery]\n",
      "2023-01-17 14:23:55,830 : srishtisingh_5502 :Starting new HTTPS connection (1): myazureqatest.o9solutions.com:443\n",
      "2023-01-17 14:23:55,954 : srishtisingh_5502 :https://myazureqatest.o9solutions.com:443 \"POST /api/ibplquery/5502/ExecuteCompactJsonQuery HTTP/1.1\" 200 None\n",
      "2023-01-17 14:24:00,962 : srishtisingh_5502 :IbplClient: WebApi Request Url = [https://myazureqatest.o9solutions.com/api/ibplquery/5502/ExecuteCompactJsonQuery]\n",
      "2023-01-17 14:24:00,966 : srishtisingh_5502 :Starting new HTTPS connection (1): myazureqatest.o9solutions.com:443\n",
      "2023-01-17 14:24:01,100 : srishtisingh_5502 :https://myazureqatest.o9solutions.com:443 \"POST /api/ibplquery/5502/ExecuteCompactJsonQuery HTTP/1.1\" 200 None\n",
      "2023-01-17 14:24:06,122 : srishtisingh_5502 :IbplClient: WebApi Request Url = [https://myazureqatest.o9solutions.com/api/ibplquery/5502/ExecuteCompactJsonQuery]\n",
      "2023-01-17 14:24:06,125 : srishtisingh_5502 :Starting new HTTPS connection (1): myazureqatest.o9solutions.com:443\n",
      "2023-01-17 14:24:06,235 : srishtisingh_5502 :https://myazureqatest.o9solutions.com:443 \"POST /api/ibplquery/5502/ExecuteCompactJsonQuery HTTP/1.1\" 200 None\n",
      "2023-01-17 14:24:11,243 : srishtisingh_5502 :IbplClient: WebApi Request Url = [https://myazureqatest.o9solutions.com/api/ibplquery/5502/ExecuteCompactJsonQuery]\n",
      "2023-01-17 14:24:11,247 : srishtisingh_5502 :Starting new HTTPS connection (1): myazureqatest.o9solutions.com:443\n",
      "2023-01-17 14:24:11,381 : srishtisingh_5502 :https://myazureqatest.o9solutions.com:443 \"POST /api/ibplquery/5502/ExecuteCompactJsonQuery HTTP/1.1\" 200 None\n"
     ]
    },
    {
     "data": {
      "text/html": [
       "<div>\n",
       "<style scoped>\n",
       "    .dataframe tbody tr th:only-of-type {\n",
       "        vertical-align: middle;\n",
       "    }\n",
       "\n",
       "    .dataframe tbody tr th {\n",
       "        vertical-align: top;\n",
       "    }\n",
       "\n",
       "    .dataframe thead th {\n",
       "        text-align: right;\n",
       "    }\n",
       "</style>\n",
       "<table border=\"1\" class=\"dataframe\">\n",
       "  <thead>\n",
       "    <tr style=\"text-align: right;\">\n",
       "      <th></th>\n",
       "      <th>Version.[Version Name]</th>\n",
       "      <th>Product.[Product]</th>\n",
       "      <th>Time.[FiscalWeek]</th>\n",
       "      <th>SalesAccount.[Account]</th>\n",
       "      <th>Location.[Location]</th>\n",
       "      <th>DPSellOutUnitsActuals</th>\n",
       "      <th>Mean Pricing Save PCT</th>\n",
       "      <th>Placement Count</th>\n",
       "      <th>Promotion Count</th>\n",
       "      <th>DPSellOutPrice</th>\n",
       "    </tr>\n",
       "  </thead>\n",
       "  <tbody>\n",
       "    <tr>\n",
       "      <th>0</th>\n",
       "      <td>CurrentWorkingView</td>\n",
       "      <td>196426</td>\n",
       "      <td>W03-2016</td>\n",
       "      <td>ALL</td>\n",
       "      <td>ALL</td>\n",
       "      <td>11.0</td>\n",
       "      <td>NaN</td>\n",
       "      <td>NaN</td>\n",
       "      <td>NaN</td>\n",
       "      <td>10.0</td>\n",
       "    </tr>\n",
       "    <tr>\n",
       "      <th>1</th>\n",
       "      <td>CurrentWorkingView</td>\n",
       "      <td>196426</td>\n",
       "      <td>W05-2016</td>\n",
       "      <td>ALL</td>\n",
       "      <td>ALL</td>\n",
       "      <td>11.0</td>\n",
       "      <td>NaN</td>\n",
       "      <td>NaN</td>\n",
       "      <td>NaN</td>\n",
       "      <td>10.0</td>\n",
       "    </tr>\n",
       "    <tr>\n",
       "      <th>2</th>\n",
       "      <td>CurrentWorkingView</td>\n",
       "      <td>196426</td>\n",
       "      <td>W08-2016</td>\n",
       "      <td>ALL</td>\n",
       "      <td>ALL</td>\n",
       "      <td>11.0</td>\n",
       "      <td>NaN</td>\n",
       "      <td>NaN</td>\n",
       "      <td>NaN</td>\n",
       "      <td>10.0</td>\n",
       "    </tr>\n",
       "    <tr>\n",
       "      <th>3</th>\n",
       "      <td>CurrentWorkingView</td>\n",
       "      <td>196426</td>\n",
       "      <td>W13-2016</td>\n",
       "      <td>ALL</td>\n",
       "      <td>ALL</td>\n",
       "      <td>11.0</td>\n",
       "      <td>NaN</td>\n",
       "      <td>NaN</td>\n",
       "      <td>NaN</td>\n",
       "      <td>10.0</td>\n",
       "    </tr>\n",
       "    <tr>\n",
       "      <th>4</th>\n",
       "      <td>CurrentWorkingView</td>\n",
       "      <td>196426</td>\n",
       "      <td>W48-2016</td>\n",
       "      <td>ALL</td>\n",
       "      <td>ALL</td>\n",
       "      <td>11.0</td>\n",
       "      <td>NaN</td>\n",
       "      <td>NaN</td>\n",
       "      <td>NaN</td>\n",
       "      <td>10.0</td>\n",
       "    </tr>\n",
       "    <tr>\n",
       "      <th>5</th>\n",
       "      <td>CurrentWorkingView</td>\n",
       "      <td>196426</td>\n",
       "      <td>W42-2017</td>\n",
       "      <td>ALL</td>\n",
       "      <td>ALL</td>\n",
       "      <td>11.0</td>\n",
       "      <td>NaN</td>\n",
       "      <td>NaN</td>\n",
       "      <td>NaN</td>\n",
       "      <td>10.0</td>\n",
       "    </tr>\n",
       "    <tr>\n",
       "      <th>6</th>\n",
       "      <td>CurrentWorkingView</td>\n",
       "      <td>196426</td>\n",
       "      <td>W44-2017</td>\n",
       "      <td>ALL</td>\n",
       "      <td>ALL</td>\n",
       "      <td>11.0</td>\n",
       "      <td>NaN</td>\n",
       "      <td>NaN</td>\n",
       "      <td>NaN</td>\n",
       "      <td>10.0</td>\n",
       "    </tr>\n",
       "  </tbody>\n",
       "</table>\n",
       "</div>"
      ],
      "text/plain": [
       "  Version.[Version Name] Product.[Product] Time.[FiscalWeek]  \\\n",
       "0     CurrentWorkingView            196426          W03-2016   \n",
       "1     CurrentWorkingView            196426          W05-2016   \n",
       "2     CurrentWorkingView            196426          W08-2016   \n",
       "3     CurrentWorkingView            196426          W13-2016   \n",
       "4     CurrentWorkingView            196426          W48-2016   \n",
       "5     CurrentWorkingView            196426          W42-2017   \n",
       "6     CurrentWorkingView            196426          W44-2017   \n",
       "\n",
       "  SalesAccount.[Account] Location.[Location]  DPSellOutUnitsActuals  \\\n",
       "0                    ALL                 ALL                   11.0   \n",
       "1                    ALL                 ALL                   11.0   \n",
       "2                    ALL                 ALL                   11.0   \n",
       "3                    ALL                 ALL                   11.0   \n",
       "4                    ALL                 ALL                   11.0   \n",
       "5                    ALL                 ALL                   11.0   \n",
       "6                    ALL                 ALL                   11.0   \n",
       "\n",
       "   Mean Pricing Save PCT  Placement Count  Promotion Count  DPSellOutPrice  \n",
       "0                    NaN              NaN              NaN            10.0  \n",
       "1                    NaN              NaN              NaN            10.0  \n",
       "2                    NaN              NaN              NaN            10.0  \n",
       "3                    NaN              NaN              NaN            10.0  \n",
       "4                    NaN              NaN              NaN            10.0  \n",
       "5                    NaN              NaN              NaN            10.0  \n",
       "6                    NaN              NaN              NaN            10.0  "
      ]
     },
     "execution_count": 1,
     "metadata": {},
     "output_type": "execute_result"
    }
   ],
   "source": [
    "from o9_common_utils.O9DataLake import O9DataLake, ResourceType, DataSource\n",
    "query1 = \"select (Version.[Version Name]*Product.[Product].[196426]*Time.FiscalWeek*SalesAccount.[Account]*Location.[Location]*{Measure.[DPSellOutUnitsActuals],Measure.[Mean Pricing Save PCT],Measure.[Placement Count],Measure.[Promotion Count],Measure.[DPSellOutPrice]});\"\n",
    "query2 = \"select (Version.[Version Name]*Product.[Product].[196426]*Time.FiscalWeek*SalesAccount.[Account]*Location.[Location]*{Measure.[DPSellOutUnitsActuals],Measure.[Mean Pricing Save PCT],Measure.[Placement Count],Measure.[Promotion Count],Measure.[DPSellOutPrice]});\"\n",
    "O9DataLake.register(\"sales_df\",DataSource.LS, ResourceType.IBPL, query1) \n",
    "O9DataLake.register(\"DPBaseInputs\",DataSource.LS, ResourceType.IBPL, query2)"
   ]
  },
  {
   "cell_type": "code",
   "execution_count": 2,
   "id": "fbe9f101-2c83-45c5-9f70-bec188198e3a",
   "metadata": {
    "tags": [
     "o9_ignore"
    ]
   },
   "outputs": [
    {
     "name": "stdout",
     "output_type": "stream",
     "text": [
      "Hello\n"
     ]
    }
   ],
   "source": [
    "print(\"Hello\")"
   ]
  },
  {
   "cell_type": "code",
   "execution_count": 3,
   "id": "5adfe5a0-8835-4ff0-98b1-372919d807f2",
   "metadata": {},
   "outputs": [
    {
     "name": "stdout",
     "output_type": "stream",
     "text": [
      "2023-01-17 14:24:16,448 : srishtisingh_5502 :IbplClient: WebApi Request Url = [https://myazureqatest.o9solutions.com/api/ibplquery/5502/ExecuteCompactJsonQuery]\n",
      "2023-01-17 14:24:16,451 : srishtisingh_5502 :Starting new HTTPS connection (1): myazureqatest.o9solutions.com:443\n",
      "2023-01-17 14:24:16,568 : srishtisingh_5502 :https://myazureqatest.o9solutions.com:443 \"POST /api/ibplquery/5502/ExecuteCompactJsonQuery HTTP/1.1\" 200 None\n",
      "2023-01-17 14:24:21,577 : srishtisingh_5502 :IbplClient: WebApi Request Url = [https://myazureqatest.o9solutions.com/api/ibplquery/5502/ExecuteCompactJsonQuery]\n",
      "2023-01-17 14:24:21,580 : srishtisingh_5502 :Starting new HTTPS connection (1): myazureqatest.o9solutions.com:443\n",
      "2023-01-17 14:24:21,682 : srishtisingh_5502 :https://myazureqatest.o9solutions.com:443 \"POST /api/ibplquery/5502/ExecuteCompactJsonQuery HTTP/1.1\" 200 None\n",
      "2023-01-17 14:24:26,701 : srishtisingh_5502 :IbplClient: WebApi Request Url = [https://myazureqatest.o9solutions.com/api/ibplquery/5502/ExecuteCompactJsonQuery]\n",
      "2023-01-17 14:24:26,704 : srishtisingh_5502 :Starting new HTTPS connection (1): myazureqatest.o9solutions.com:443\n",
      "2023-01-17 14:24:26,803 : srishtisingh_5502 :https://myazureqatest.o9solutions.com:443 \"POST /api/ibplquery/5502/ExecuteCompactJsonQuery HTTP/1.1\" 200 None\n",
      "2023-01-17 14:24:31,812 : srishtisingh_5502 :IbplClient: WebApi Request Url = [https://myazureqatest.o9solutions.com/api/ibplquery/5502/ExecuteCompactJsonQuery]\n",
      "2023-01-17 14:24:31,815 : srishtisingh_5502 :Starting new HTTPS connection (1): myazureqatest.o9solutions.com:443\n",
      "2023-01-17 14:24:31,923 : srishtisingh_5502 :https://myazureqatest.o9solutions.com:443 \"POST /api/ibplquery/5502/ExecuteCompactJsonQuery HTTP/1.1\" 200 None\n",
      "2023-01-17 14:24:36,942 : srishtisingh_5502 :Hello warning\n",
      "2023-01-17 14:24:36,943 : srishtisingh_5502 :Hello error\n",
      "2023-01-17 14:24:36,944 : srishtisingh_5502 :Hello warning\n",
      "2023-01-17 14:24:36,950 : srishtisingh_5502 :Starting new HTTPS connection (1): myazureqatest.o9solutions.com:443\n",
      "2023-01-17 14:24:37,058 : srishtisingh_5502 :https://myazureqatest.o9solutions.com:443 \"GET /api/framework/sessions/session/authToken?authToken=nno5ctzzbcv2bbf1bcoi11ht HTTP/1.1\" 200 None\n",
      "2023-01-17 14:24:37,064 : srishtisingh_5502 :Uploading LOCAL file: /tmp/tmpm87t3iwa/Fact.out_df1.csv\n",
      "2023-01-17 14:24:37,065 : srishtisingh_5502 :Is the file parquet: False\n",
      "2023-01-17 14:24:37,066 : srishtisingh_5502 :Uploading /tmp/tmpm87t3iwa/Fact.out_df1.csv to Live Server cloud\n",
      "2023-01-17 14:24:37,067 : srishtisingh_5502 :File size less than 256 MB\n",
      "2023-01-17 14:24:37,068 : srishtisingh_5502 :Uploading to /fileUpload endpoint\n",
      "2023-01-17 14:24:37,069 : srishtisingh_5502 :Uploading /tmp/tmpm87t3iwa/Fact.out_df1.csv to Live Server cloud\n",
      "2023-01-17 14:24:37,073 : srishtisingh_5502 :Starting new HTTPS connection (1): myazureqatest.o9solutions.com:443\n",
      "2023-01-17 14:24:39,396 : srishtisingh_5502 :https://myazureqatest.o9solutions.com:443 \"POST /api/upload/fileUpload HTTP/1.1\" 200 None\n",
      "2023-01-17 14:24:39,399 : srishtisingh_5502 :Uploaded the file successfully\n",
      "2023-01-17 14:24:39,400 : srishtisingh_5502 :Uploading cloud files at: \"azure://IvrkBaeWLfmAdgA63s0q-YQjS9rnxeYLls4-lXy8ZCBb7W5Pos9YT7xPNvmWLQcstpUHxf3FCrS49exMY-SvVw2\"\n",
      "2023-01-17 14:24:39,401 : srishtisingh_5502 :IbplClient: WebApi Request Url = [https://myazureqatest.o9solutions.com/api/framework/sessions/session]\n",
      "2023-01-17 14:24:39,404 : srishtisingh_5502 :Starting new HTTPS connection (1): myazureqatest.o9solutions.com:443\n",
      "2023-01-17 14:24:39,488 : srishtisingh_5502 :https://myazureqatest.o9solutions.com:443 \"GET /api/framework/sessions/session HTTP/1.1\" 200 None\n",
      "2023-01-17 14:24:39,491 : srishtisingh_5502 :logged into tenant pyplatformhivetest successfully\n",
      "2023-01-17 14:24:39,492 : srishtisingh_5502 :IbplClient: WebApi Request Url = [https://myazureqatest.o9solutions.com/api/user]\n",
      "2023-01-17 14:24:39,494 : srishtisingh_5502 :Starting new HTTPS connection (1): myazureqatest.o9solutions.com:443\n",
      "2023-01-17 14:24:39,761 : srishtisingh_5502 :https://myazureqatest.o9solutions.com:443 \"GET /api/user HTTP/1.1\" 200 None\n",
      "2023-01-17 14:24:39,767 : srishtisingh_5502 :Starting new HTTPS connection (1): myazureqatest.o9solutions.com:443\n",
      "2023-01-17 14:24:39,845 : srishtisingh_5502 :https://myazureqatest.o9solutions.com:443 \"GET /api/framework/sessions/session/authToken?authToken=nno5ctzzbcv2bbf1bcoi11ht HTTP/1.1\" 200 None\n",
      "2023-01-17 14:24:39,850 : srishtisingh_5502 :Starting new HTTPS connection (1): myazureqatest.o9solutions.com:443\n",
      "2023-01-17 14:24:42,337 : srishtisingh_5502 :https://myazureqatest.o9solutions.com:443 \"POST /api/ibplquery/5502/ExecuteQuery HTTP/1.1\" 200 None\n",
      "2023-01-17 14:24:42,340 : srishtisingh_5502 :200, OK\n",
      "2023-01-17 14:24:42,342 : srishtisingh_5502 :Response json:\n",
      "{\"Result\":\"[{\\\"FileName\\\":\\\"Fact.out_df1.csv\\\",\\\"SheetName\\\":\\\"Fact.out_df1.csv\\\",\\\"TotalRows\\\":7,\\\"ProcessedRows\\\":7,\\\"Status\\\":\\\"Success\\\",\\\"Messages\\\":[\\\"Total Rows: [7]. Successfully Processed Rows: [7].\\\"],\\\"FileId\\\":\\\"azure://IvrkBaeWLfmAdgA63s0q-YQjS9rnxeYLls4-lXy8ZCBb7W5Pos9YT7xPNvmWLQcstpUHxf3FCrS49exMY-SvVw2\\\"}]\",\"QueryGuid\":\"79bc688b-1107-4faf-a10e-fb7e5db157dd\",\"ImpactHeader\":{\"TenantId\":5502,\"TransactionId\":\"00000000-0000-0000-0000-000000000000\",\"UpdatedMembers\":null,\"CreatedMembers\":null,\"DeletedMembers\":null,\"ModelImpact\":{\"DemandPlanning.Core.Inputs\":{\"DPBaseInputs\":[\"DPSellOutUnitsActuals\",\"Mean Pricing Save PCT\",\"Placement Count\",\"Promotion Count\",\"DPSellOutPrice\"]}}}}\n",
      "2023-01-17 14:24:42,342 : srishtisingh_5502 :{'FileName': 'Fact.out_df1.csv', 'SheetName': 'Fact.out_df1.csv', 'TotalRows': 7, 'ProcessedRows': 7, 'Status': 'Success', 'Messages': ['Total Rows: [7]. Successfully Processed Rows: [7].'], 'FileId': 'azure://IvrkBaeWLfmAdgA63s0q-YQjS9rnxeYLls4-lXy8ZCBb7W5Pos9YT7xPNvmWLQcstpUHxf3FCrS49exMY-SvVw2'}\n"
     ]
    }
   ],
   "source": [
    "#getting input from dataLake\n",
    "\n",
    "sales = O9DataLake.get('sales_df')\n",
    "dpbaseinputs = O9DataLake.get('DPBaseInputs')\n",
    "\n",
    "#User Script\n",
    "import logging\n",
    "out_df1 = None\n",
    "logger = logging.getLogger('o9_logger')\n",
    "#logger.info(f'Records count in sales dataframe : {sales.shape}')\n",
    "#logger.info(f'Records count in DPBaseInputs dataframe : {dpbaseinputs.shape}')\n",
    "logger.warning(\"Hello warning\")\n",
    "logger.error(\"Hello error\")\n",
    "logger.warning(\"Hello warning\")\n",
    "\n",
    "#pushing output to the DataLake\n",
    "O9DataLake.put('out_df1',sales)"
   ]
  },
  {
   "cell_type": "code",
   "execution_count": null,
   "id": "c1b14836-e2f3-4165-9d67-298fb62bf875",
   "metadata": {
    "tags": [
     "o9_ignore"
    ]
   },
   "outputs": [],
   "source": []
  },
  {
   "cell_type": "code",
   "execution_count": null,
   "id": "9d3ca2f6-f59b-4138-8eac-7a724e97ef6b",
   "metadata": {},
   "outputs": [],
   "source": []
  }
 ],
 "metadata": {
  "kernelspec": {
   "display_name": "[pyplatformhivetest] Tenant Conda Environment",
   "language": "python",
   "name": "genieaz_pyplatformhivetest"
  },
  "language_info": {
   "codemirror_mode": {
    "name": "ipython",
    "version": 3
   },
   "file_extension": ".py",
   "mimetype": "text/x-python",
   "name": "python",
   "nbconvert_exporter": "python",
   "pygments_lexer": "ipython3",
   "version": "3.7.10"
  },
  "notebook_dict": {
   "ClassName": "o9.GraphCube.Plugins.Python.PythonScript",
   "InstanceName": "sri5_test_o9ignore",
   "SliceKeys": [
    {
     "AttributeName": "Version Name",
     "DimensionName": "Version"
    }
   ],
   "file_path": "loaded_notebooks/sri5_test_o9ignore.ipynb",
   "o9_selected_plugin_id": 250889
  }
 },
 "nbformat": 4,
 "nbformat_minor": 5
}
