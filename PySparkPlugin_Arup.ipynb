{
 "cells": [
  {
   "cell_type": "code",
   "execution_count": null,
   "id": "98d593d7-2949-4760-9ae9-692b57ebba72",
   "metadata": {
    "editable": false
   },
   "outputs": [],
   "source": [
    "# This cell is NOT editable. Overwrite variables on your own discretion.\n",
    "# Any changes other than the script code will NOT BE SAVED!\n",
    "# All cells are assumed to be script code cells, unless explictly tagged as 'o9_ignore'\n",
    "\n",
    "myscriptparam = \"This is from script param\""
   ]
  },
  {
   "cell_type": "code",
   "execution_count": null,
   "id": "6870234c-6bbf-4881-87ce-4eb7ccf72b7a",
   "metadata": {},
   "outputs": [],
   "source": [
    "%%spark\n",
    "\n",
    "from o9_ibpl_magics import spark_ibpl\n",
    "input_df = spark_ibpl('Select (Location.[Location]) on row, () on column;',spark)\n",
    "\n",
    "\n",
    "# Initialize the O9DataLake with the input parameters and dataframes\n",
    "# Data can be accessed with O9DataLake.get(<Input Name>)\n",
    "# Overwritten values will not be reflected in the O9DataLake after initialization\n",
    "\n",
    "from o9_common_utils.O9DataLake import O9DataLake, ResourceType, DataSource\n"
   ]
  },
  {
   "cell_type": "code",
   "execution_count": null,
   "id": "9364145a-39b1-4585-bfbc-23b815486642",
   "metadata": {},
   "outputs": [],
   "source": [
    "%%spark\n",
    "\n",
    "\"\"\"\n",
    "exec plugin instance [PySparkPlugin_Arup] for measures {[DPSellOutUnitsActuals]} using scope ([Product].[Product].Filter(#.Name in {[196426],[208821]}) * [Time].[Day] * [Version].[Version Name].[CurrentWorkingView]) using arguments {(NumExecutors, 1), (ExecutorMemory, \"1G\"), (DriverMemory, \"1G\") ,(PythonPath, \"/opt/conda/envs/sandbox_pyplatformtest/bin/python\")};\n",
    "\n",
    "\"\"\"\n",
    "\n",
    "import logging\n",
    "from o9_common_utils.O9DataLake import O9DataLake\n",
    "logger = logging.getLogger('o9_logger')\n",
    "input = O9DataLake.get('input_df')\n",
    "paramval = O9DataLake.get_script_param(\"myscriptparam\")\n",
    "logger.error(input)\n",
    "logger.info(paramval)\n",
    "logger.error(paramval1)\n",
    "output_df = None\n"
   ]
  }
 ],
 "metadata": {
  "kernelspec": {
   "display_name": "[pyplatformhivetest] Tenant Conda Environment",
   "language": "python",
   "name": "qapsr_pyplatformhivetest"
  },
  "language_info": {
   "codemirror_mode": {
    "name": "ipython",
    "version": 3
   },
   "file_extension": ".py",
   "mimetype": "text/x-python",
   "name": "python",
   "nbconvert_exporter": "python",
   "pygments_lexer": "ipython3",
   "version": "3.7.10"
  },
  "notebook_dict": {
   "ClassName": "o9.GraphCube.Plugins.Python.PySparkScript",
   "InstanceName": "PySparkPlugin_Arup",
   "SliceKeys": [],
   "file_path": "loaded_notebooks/PySparkPlugin_Arup.ipynb",
   "o9_selected_plugin_id": 149286
  }
 },
 "nbformat": 4,
 "nbformat_minor": 5
}
