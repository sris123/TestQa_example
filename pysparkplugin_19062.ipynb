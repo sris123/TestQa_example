{
 "cells": [
  {
   "cell_type": "code",
   "execution_count": 27,
   "id": "23ecc6fb-aec9-41da-8bce-cd1fdbf89ba0",
   "metadata": {
    "editable": false
   },
   "outputs": [],
   "source": [
    "# This cell is NOT editable. Overwrite variables on your own discretion.\n",
    "# Any changes other than the script code will NOT BE SAVED!\n",
    "# All cells are assumed to be script code cells, unless explictly tagged as 'o9_ignore'"
   ]
  },
  {
   "cell_type": "code",
   "execution_count": 28,
   "id": "52eb68ab-0a81-46cc-9664-8d299ff623ff",
   "metadata": {
    "tags": []
   },
   "outputs": [
    {
     "data": {
      "application/vnd.jupyter.widget-view+json": {
       "model_id": "",
       "version_major": 2,
       "version_minor": 0
      },
      "text/plain": [
       "FloatProgress(value=0.0, bar_style='info', description='Progress:', layout=Layout(height='25px', width='50%'),…"
      ]
     },
     "metadata": {},
     "output_type": "display_data"
    },
    {
     "name": "stdout",
     "output_type": "stream",
     "text": [
      "HDFS enabled: True"
     ]
    }
   ],
   "source": [
    "%%spark\n",
    "\n",
    "# Slice Dimension Attributes defined in the plugin. Please check all queries and replace <KEY HERE> with a valid name.\n",
    "# For example: If slice is defined by Version.[Version Name] and Time.[Month]\n",
    "# input_df = ibpl Select ([Version].[Version Name].[<KEY HERE>] * [Time].[Month].[<KEY HERE>] * [Item].[Item Number]) on row, ({Measure.[M1], Measure.[M2]}) on column limit 5000;\n",
    "#                             update <KEY HERE> to valid names\n",
    "# input_df = ibpl Select ([Version].[Version Name].[CurrentWorkingView] * [Time].[Month].[January] * [Item].[Item Number]) on row, ({Measure.[M1], Measure.[M2]}) on column limit 5000;\n",
    "\n",
    "_DPBaseInputs = \"select (Version.[Version Name]*Product.[Product].[196426]*Time.FiscalWeek*SalesAccount.[Account]*Location.[Location]*{Measure.[DPSellOutUnitsActuals],Measure.[Mean Pricing Save PCT],Measure.[Placement Count],Measure.[Promotion Count],Measure.[DPSellOutPrice]});\"\n",
    "_sales_df = \"select (Version.[Version Name]*Product.[Product].[196426]*Time.FiscalWeek*SalesAccount.[Account]*Location.[Location]*{Measure.[DPSellOutUnitsActuals],Measure.[Mean Pricing Save PCT],Measure.[Placement Count],Measure.[Promotion Count],Measure.[DPSellOutPrice]});\"\n",
    "\n",
    "\n",
    "# Initialize the O9DataLake with the input parameters and dataframes\n",
    "# Data can be accessed with O9DataLake.get(<Input Name>)\n",
    "# Overwritten values will not be reflected in the O9DataLake after initialization\n",
    "\n",
    "from o9_common_utils.O9DataLake import O9DataLake, ResourceType, DataSource\n",
    "DPBaseInputs = O9DataLake.register(\"DPBaseInputs\",DataSource.LS, ResourceType.IBPL, _DPBaseInputs, sparkInput=True, spark_session=spark)\n",
    "sales_df = O9DataLake.register(\"sales_df\",DataSource.LS, ResourceType.IBPL, _sales_df, sparkInput=True, spark_session=spark)"
   ]
  },
  {
   "cell_type": "code",
   "execution_count": 29,
   "id": "713639b4-11b5-4dcf-9546-6242f2f0b79b",
   "metadata": {},
   "outputs": [
    {
     "data": {
      "application/vnd.jupyter.widget-view+json": {
       "model_id": "",
       "version_major": 2,
       "version_minor": 0
      },
      "text/plain": [
       "FloatProgress(value=0.0, bar_style='info', description='Progress:', layout=Layout(height='25px', width='50%'),…"
      ]
     },
     "metadata": {},
     "output_type": "display_data"
    }
   ],
   "source": [
    "%%spark\n",
    "sales = O9DataLake.get('sales_df')\n",
    "dpbaseinputs = O9DataLake.get('DPBaseInputs')"
   ]
  },
  {
   "cell_type": "code",
   "execution_count": 30,
   "id": "90c42403-9306-4eed-9095-b239e2be0e2d",
   "metadata": {},
   "outputs": [
    {
     "data": {
      "application/vnd.jupyter.widget-view+json": {
       "model_id": "",
       "version_major": 2,
       "version_minor": 0
      },
      "text/plain": [
       "FloatProgress(value=0.0, bar_style='info', description='Progress:', layout=Layout(height='25px', width='50%'),…"
      ]
     },
     "metadata": {},
     "output_type": "display_data"
    },
    {
     "name": "stdout",
     "output_type": "stream",
     "text": [
      "Spark Session"
     ]
    }
   ],
   "source": [
    "%%spark\n",
    "#user script\n",
    "import logging\n",
    "out_df1 = None\n",
    "logger = logging.getLogger('o9_logger')\n",
    "logger.info(\"Spark Session\")"
   ]
  },
  {
   "cell_type": "code",
   "execution_count": 31,
   "id": "0a65a8d7-6a2b-433b-8d74-ee32a882b10f",
   "metadata": {},
   "outputs": [
    {
     "data": {
      "application/vnd.jupyter.widget-view+json": {
       "model_id": "",
       "version_major": 2,
       "version_minor": 0
      },
      "text/plain": [
       "FloatProgress(value=0.0, bar_style='info', description='Progress:', layout=Layout(height='25px', width='50%'),…"
      ]
     },
     "metadata": {},
     "output_type": "display_data"
    },
    {
     "name": "stdout",
     "output_type": "stream",
     "text": [
      "2023-08-08 18:14:00.744723: LiveServer : Failed to parse file. Cannot parse the header row.\n",
      "2023-08-08 18:14:00.744753: LiveServer : Header:[System.String[]]\n",
      "2023-08-08 18:14:00.744758: LiveServer : Measure [DPSellOutUnitsActuals] is not setup for spreading\n",
      "2023-08-08 18:14:00.744762: LiveServer :    at o9.GraphCube.olap.procedures.fileupload.FactBaseParser.ValidateHeader() in D:\\Jenkins\\jobs\\o9AzureLiveServerCompileNet6\\workspaceQrtly\\o9.Platform\\LiveServer\\Server\\o9.GraphCube\\olap\\procedures\\fileupload\\FactBaseParser.cs:line 793\n",
      "   at o9.GraphCube.olap.procedures.fileupload.FactDSVParser.Parse() in D:\\Jenkins\\jobs\\o9AzureLiveServerCompileNet6\\workspaceQrtly\\o9.Platform\\LiveServer\\Server\\o9.GraphCube\\olap\\procedures\\fileupload\\FactDSVParser.cs:line 54"
     ]
    }
   ],
   "source": [
    "%%spark\n",
    "#pushing outputs to DataLake\n",
    "O9DataLake.put('out_df1', sales)"
   ]
  },
  {
   "cell_type": "code",
   "execution_count": 32,
   "id": "e65d5958-d70d-4738-be63-5b8bbb04622c",
   "metadata": {},
   "outputs": [
    {
     "name": "stdout",
     "output_type": "stream",
     "text": [
      "Spark session\n"
     ]
    }
   ],
   "source": [
    "print(\"Spark session\")"
   ]
  },
  {
   "cell_type": "code",
   "execution_count": null,
   "id": "c38c3f5c-87de-4fe4-9777-b0c93ba3c820",
   "metadata": {},
   "outputs": [],
   "source": []
  }
 ],
 "metadata": {
  "kernelspec": {
   "display_name": "[pyplatformhivetestsrishti] Tenant Conda Environment",
   "language": "python",
   "name": "genieaz_pyplatformhivetestsrishti"
  },
  "language_info": {
   "codemirror_mode": {
    "name": "ipython",
    "version": 3
   },
   "file_extension": ".py",
   "mimetype": "text/x-python",
   "name": "python",
   "nbconvert_exporter": "python",
   "pygments_lexer": "ipython3",
   "version": "3.7.10"
  },
  "notebook_dict": {
   "ClassName": "o9.GraphCube.Plugins.Python.PySparkScript",
   "InstanceName": "pysparkplugin_19062",
   "SliceKeys": [
    {
     "AttributeName": "Version Name",
     "DimensionName": "Version"
    }
   ],
   "file_path": "loaded_notebooks/pysparkplugin_19062.ipynb",
   "o9_selected_plugin_id": 349783
  }
 },
 "nbformat": 4,
 "nbformat_minor": 5
}
