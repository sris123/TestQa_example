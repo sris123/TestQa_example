{
 "cells": [
  {
   "cell_type": "code",
   "execution_count": null,
   "id": "f0b67c10-341b-4a74-a713-f7ea632a2539",
   "metadata": {},
   "outputs": [],
   "source": []
  }
 ],
 "metadata": {
  "kernelspec": {
   "display_name": "[autodsml2] Tenant Conda Environment",
   "language": "python",
   "name": "genieaz_autodsml2"
  },
  "language_info": {
   "codemirror_mode": {
    "name": "ipython",
    "version": 3
   },
   "file_extension": ".py",
   "mimetype": "text/x-python",
   "name": "python",
   "nbconvert_exporter": "python",
   "pygments_lexer": "ipython3",
   "version": "3.10.5"
  }
 },
 "nbformat": 4,
 "nbformat_minor": 5
}
