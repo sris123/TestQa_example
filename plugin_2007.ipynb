{
 "cells": [
  {
   "cell_type": "code",
   "execution_count": 2,
   "id": "27bfce46-55a6-430d-8ec5-8037f50736f3",
   "metadata": {},
   "outputs": [
    {
     "data": {
      "text/plain": [
       "{'DimensionName': 'Product', 'AttributeName': 'Product'}"
      ]
     },
     "execution_count": 2,
     "metadata": {},
     "output_type": "execute_result"
    }
   ],
   "source": [
    "# Slice Dimension Attributes defined in the plugin. Please check all queries and replace <KEY HERE> with a valid name.\n",
    "# For example: If slice is defined by Version.[Version Name] and Time.[Month]\n",
    "# input_df = ibpl Select ([Version].[Version Name].[<KEY HERE>] * [Time].[Month].[<KEY HERE>] * [Item].[Item Number]) on row, ({Measure.[M1], Measure.[M2]}) on column limit 5000;\n",
    "#                             update <KEY HERE> to valid names\n",
    "# input_df = ibpl Select ([Version].[Version Name].[CurrentWorkingView] * [Time].[Month].[January] * [Item].[Item Number]) on row, ({Measure.[M1], Measure.[M2]}) on column limit 5000;\n",
    "\n",
    "_DPBaseInputs = \"select (Version.[Version Name]*Product.[Product].[196426]*Time.FiscalWeek*SalesAccount.[Account]*Location.[Location]*{Measure.[DPSellOutUnitsActuals],Measure.[Mean Pricing Save PCT],Measure.[Placement Count],Measure.[Promotion Count],Measure.[DPSellOutPrice]});\"\n",
    "_sales_df = \"select (Version.[Version Name]*Product.[Product].[196426]*Time.FiscalWeek*SalesAccount.[Account]*Location.[Location]*{Measure.[DPSellOutUnitsActuals],Measure.[Mean Pricing Save PCT],Measure.[Placement Count],Measure.[Promotion Count],Measure.[DPSellOutPrice]});\"\n",
    "\n",
    "\n",
    "# Initialize the O9DataLake with the input parameters and dataframes\n",
    "# Data can be accessed with O9DataLake.get(<Input Name>)\n",
    "# Overwritten values will not be reflected in the O9DataLake after initialization\n",
    "\n",
    "from o9_common_utils.O9DataLake import O9DataLake, ResourceType, DataSource\n",
    "DPBaseInputs = O9DataLake.register(\"DPBaseInputs\",DataSource.LS, ResourceType.IBPL, _DPBaseInputs)\n",
    "sales_df = O9DataLake.register(\"sales_df\",DataSource.LS, ResourceType.IBPL, _sales_df)\n",
    "O9DataLake.register_slice_dimensions(dimension_name = 'Product', attribute_name = 'Product')                               "
   ]
  },
  {
   "cell_type": "code",
   "execution_count": 6,
   "id": "5ee6da7e-f899-4e64-afc4-bf33da4ddabb",
   "metadata": {},
   "outputs": [
    {
     "data": {
      "text/plain": [
       "{'DPBaseInputs': {'name': 'DPBaseInputs',\n",
       "  'resource_type': <ResourceType.IBPL: 'ibpl_query'>,\n",
       "  'data_source': <DataSource.LS: 'liveserver'>,\n",
       "  'query': 'select (Version.[Version Name]*Product.[Product].[196426]*Time.FiscalWeek*SalesAccount.[Account]*Location.[Location]*{Measure.[DPSellOutUnitsActuals],Measure.[Mean Pricing Save PCT],Measure.[Placement Count],Measure.[Promotion Count],Measure.[DPSellOutPrice]});',\n",
       "  'std_count_limit': '200000',\n",
       "  'df':    Version.[Version Name] Product.[Product] Time.[FiscalWeek]  \\\n",
       "  0                      S1            196426          W03-2016   \n",
       "  1      CurrentWorkingView            196426          W03-2016   \n",
       "  2                      S1            196426          W05-2016   \n",
       "  3      CurrentWorkingView            196426          W05-2016   \n",
       "  4                      S1            196426          W08-2016   \n",
       "  5      CurrentWorkingView            196426          W08-2016   \n",
       "  6                      S1            196426          W13-2016   \n",
       "  7      CurrentWorkingView            196426          W13-2016   \n",
       "  8                      S1            196426          W48-2016   \n",
       "  9      CurrentWorkingView            196426          W48-2016   \n",
       "  10                     S1            196426          W42-2017   \n",
       "  11     CurrentWorkingView            196426          W42-2017   \n",
       "  12                     S1            196426          W44-2017   \n",
       "  13     CurrentWorkingView            196426          W44-2017   \n",
       "  \n",
       "     SalesAccount.[Account] Location.[Location]  DPSellOutUnitsActuals  \\\n",
       "  0                     ALL                 ALL                    1.0   \n",
       "  1                     ALL                 ALL                    1.0   \n",
       "  2                     ALL                 ALL                    2.0   \n",
       "  3                     ALL                 ALL                    2.0   \n",
       "  4                     ALL                 ALL                    1.0   \n",
       "  5                     ALL                 ALL                    1.0   \n",
       "  6                     ALL                 ALL                    1.0   \n",
       "  7                     ALL                 ALL                    1.0   \n",
       "  8                     ALL                 ALL                    1.0   \n",
       "  9                     ALL                 ALL                    1.0   \n",
       "  10                    ALL                 ALL                    1.0   \n",
       "  11                    ALL                 ALL                    1.0   \n",
       "  12                    ALL                 ALL                    1.0   \n",
       "  13                    ALL                 ALL                    1.0   \n",
       "  \n",
       "      Mean Pricing Save PCT  Placement Count  Promotion Count  DPSellOutPrice  \n",
       "  0                     NaN              NaN              NaN             6.0  \n",
       "  1                     NaN              NaN              NaN             6.0  \n",
       "  2                     NaN              NaN              NaN             9.5  \n",
       "  3                     NaN              NaN              NaN             9.5  \n",
       "  4                     NaN              NaN              NaN             6.0  \n",
       "  5                     NaN              NaN              NaN             6.0  \n",
       "  6                     NaN              NaN              NaN            13.0  \n",
       "  7                     NaN              NaN              NaN            13.0  \n",
       "  8                     NaN              NaN              NaN            13.0  \n",
       "  9                     NaN              NaN              NaN            13.0  \n",
       "  10                    NaN              NaN              NaN            13.0  \n",
       "  11                    NaN              NaN              NaN            13.0  \n",
       "  12                    NaN              NaN              NaN            13.0  \n",
       "  13                    NaN              NaN              NaN            13.0  },\n",
       " 'sales_df': {'name': 'sales_df',\n",
       "  'resource_type': <ResourceType.IBPL: 'ibpl_query'>,\n",
       "  'data_source': <DataSource.LS: 'liveserver'>,\n",
       "  'query': 'select (Version.[Version Name]*Product.[Product].[196426]*Time.FiscalWeek*SalesAccount.[Account]*Location.[Location]*{Measure.[DPSellOutUnitsActuals],Measure.[Mean Pricing Save PCT],Measure.[Placement Count],Measure.[Promotion Count],Measure.[DPSellOutPrice]});',\n",
       "  'std_count_limit': '200000',\n",
       "  'df':    Version.[Version Name] Product.[Product] Time.[FiscalWeek]  \\\n",
       "  0                      S1            196426          W03-2016   \n",
       "  1      CurrentWorkingView            196426          W03-2016   \n",
       "  2                      S1            196426          W05-2016   \n",
       "  3      CurrentWorkingView            196426          W05-2016   \n",
       "  4                      S1            196426          W08-2016   \n",
       "  5      CurrentWorkingView            196426          W08-2016   \n",
       "  6                      S1            196426          W13-2016   \n",
       "  7      CurrentWorkingView            196426          W13-2016   \n",
       "  8                      S1            196426          W48-2016   \n",
       "  9      CurrentWorkingView            196426          W48-2016   \n",
       "  10                     S1            196426          W42-2017   \n",
       "  11     CurrentWorkingView            196426          W42-2017   \n",
       "  12                     S1            196426          W44-2017   \n",
       "  13     CurrentWorkingView            196426          W44-2017   \n",
       "  \n",
       "     SalesAccount.[Account] Location.[Location]  DPSellOutUnitsActuals  \\\n",
       "  0                     ALL                 ALL                    1.0   \n",
       "  1                     ALL                 ALL                    1.0   \n",
       "  2                     ALL                 ALL                    2.0   \n",
       "  3                     ALL                 ALL                    2.0   \n",
       "  4                     ALL                 ALL                    1.0   \n",
       "  5                     ALL                 ALL                    1.0   \n",
       "  6                     ALL                 ALL                    1.0   \n",
       "  7                     ALL                 ALL                    1.0   \n",
       "  8                     ALL                 ALL                    1.0   \n",
       "  9                     ALL                 ALL                    1.0   \n",
       "  10                    ALL                 ALL                    1.0   \n",
       "  11                    ALL                 ALL                    1.0   \n",
       "  12                    ALL                 ALL                    1.0   \n",
       "  13                    ALL                 ALL                    1.0   \n",
       "  \n",
       "      Mean Pricing Save PCT  Placement Count  Promotion Count  DPSellOutPrice  \n",
       "  0                     NaN              NaN              NaN             6.0  \n",
       "  1                     NaN              NaN              NaN             6.0  \n",
       "  2                     NaN              NaN              NaN             9.5  \n",
       "  3                     NaN              NaN              NaN             9.5  \n",
       "  4                     NaN              NaN              NaN             6.0  \n",
       "  5                     NaN              NaN              NaN             6.0  \n",
       "  6                     NaN              NaN              NaN            13.0  \n",
       "  7                     NaN              NaN              NaN            13.0  \n",
       "  8                     NaN              NaN              NaN            13.0  \n",
       "  9                     NaN              NaN              NaN            13.0  \n",
       "  10                    NaN              NaN              NaN            13.0  \n",
       "  11                    NaN              NaN              NaN            13.0  \n",
       "  12                    NaN              NaN              NaN            13.0  \n",
       "  13                    NaN              NaN              NaN            13.0  }}"
      ]
     },
     "execution_count": 6,
     "metadata": {},
     "output_type": "execute_result"
    }
   ],
   "source": [
    "O9DataLake.inputs"
   ]
  },
  {
   "cell_type": "code",
   "execution_count": 7,
   "id": "6f002118-0e99-4160-b3bf-86a799765037",
   "metadata": {},
   "outputs": [],
   "source": [
    "#getting inputs from DataLake\n",
    "sales = O9DataLake.get('sales_df')\n",
    "dpbaseinputs = O9DataLake.get('DPBaseInputs')"
   ]
  },
  {
   "cell_type": "code",
   "execution_count": 4,
   "id": "94298efe-7e20-4556-b51b-8e139572d255",
   "metadata": {},
   "outputs": [],
   "source": [
    "#user script\n",
    "import logging\n",
    "out_df1 = None\n",
    "logger = logging.getLogger('o9_logger')\n",
    "logger.info(\"python plugin\")\n"
   ]
  },
  {
   "cell_type": "code",
   "execution_count": 11,
   "id": "5d0015f4-21ee-4946-a07f-17cf9c664e5a",
   "metadata": {},
   "outputs": [
    {
     "data": {
      "text/plain": [
       "{'var1': '5'}"
      ]
     },
     "execution_count": 11,
     "metadata": {},
     "output_type": "execute_result"
    }
   ],
   "source": [
    "O9DataLake.get_script_params()"
   ]
  },
  {
   "cell_type": "code",
   "execution_count": 12,
   "id": "b60e9879-3ed3-4902-84a9-2e1b6c16d104",
   "metadata": {},
   "outputs": [],
   "source": [
    "#pushing outputs to DataLake\n",
    "O9DataLake.put('out_df1', sales)"
   ]
  },
  {
   "cell_type": "code",
   "execution_count": 13,
   "id": "a9910c10-1616-40be-b291-c3d5bac6dbb0",
   "metadata": {},
   "outputs": [
    {
     "data": {
      "text/plain": [
       "{'Fact.out_df1.csv':    Version.[Version Name] Product.[Product] Time.[FiscalWeek]  \\\n",
       " 0                      S1            196426          W03-2016   \n",
       " 1      CurrentWorkingView            196426          W03-2016   \n",
       " 2                      S1            196426          W05-2016   \n",
       " 3      CurrentWorkingView            196426          W05-2016   \n",
       " 4                      S1            196426          W08-2016   \n",
       " 5      CurrentWorkingView            196426          W08-2016   \n",
       " 6                      S1            196426          W13-2016   \n",
       " 7      CurrentWorkingView            196426          W13-2016   \n",
       " 8                      S1            196426          W48-2016   \n",
       " 9      CurrentWorkingView            196426          W48-2016   \n",
       " 10                     S1            196426          W42-2017   \n",
       " 11     CurrentWorkingView            196426          W42-2017   \n",
       " 12                     S1            196426          W44-2017   \n",
       " 13     CurrentWorkingView            196426          W44-2017   \n",
       " \n",
       "    SalesAccount.[Account] Location.[Location]  DPSellOutUnitsActuals  \\\n",
       " 0                     ALL                 ALL                    1.0   \n",
       " 1                     ALL                 ALL                    1.0   \n",
       " 2                     ALL                 ALL                    2.0   \n",
       " 3                     ALL                 ALL                    2.0   \n",
       " 4                     ALL                 ALL                    1.0   \n",
       " 5                     ALL                 ALL                    1.0   \n",
       " 6                     ALL                 ALL                    1.0   \n",
       " 7                     ALL                 ALL                    1.0   \n",
       " 8                     ALL                 ALL                    1.0   \n",
       " 9                     ALL                 ALL                    1.0   \n",
       " 10                    ALL                 ALL                    1.0   \n",
       " 11                    ALL                 ALL                    1.0   \n",
       " 12                    ALL                 ALL                    1.0   \n",
       " 13                    ALL                 ALL                    1.0   \n",
       " \n",
       "     Mean Pricing Save PCT  Placement Count  Promotion Count  DPSellOutPrice  \n",
       " 0                     NaN              NaN              NaN             6.0  \n",
       " 1                     NaN              NaN              NaN             6.0  \n",
       " 2                     NaN              NaN              NaN             9.5  \n",
       " 3                     NaN              NaN              NaN             9.5  \n",
       " 4                     NaN              NaN              NaN             6.0  \n",
       " 5                     NaN              NaN              NaN             6.0  \n",
       " 6                     NaN              NaN              NaN            13.0  \n",
       " 7                     NaN              NaN              NaN            13.0  \n",
       " 8                     NaN              NaN              NaN            13.0  \n",
       " 9                     NaN              NaN              NaN            13.0  \n",
       " 10                    NaN              NaN              NaN            13.0  \n",
       " 11                    NaN              NaN              NaN            13.0  \n",
       " 12                    NaN              NaN              NaN            13.0  \n",
       " 13                    NaN              NaN              NaN            13.0  }"
      ]
     },
     "execution_count": 13,
     "metadata": {},
     "output_type": "execute_result"
    }
   ],
   "source": [
    "O9DataLake.outputs"
   ]
  },
  {
   "cell_type": "code",
   "execution_count": 1,
   "id": "84dab8ad-217e-48f0-ad1d-0d2850809885",
   "metadata": {},
   "outputs": [
    {
     "data": {
      "text/plain": [
       "{'var1': 5}"
      ]
     },
     "execution_count": 1,
     "metadata": {},
     "output_type": "execute_result"
    }
   ],
   "source": [
    "sp = {'var1' :5}\n",
    "O9DataLake.register_script_params(notebook_script_params = sp)"
   ]
  },
  {
   "cell_type": "code",
   "execution_count": 15,
   "id": "a37b21d4-bbb0-4f0c-893b-a01bb487d8d9",
   "metadata": {},
   "outputs": [],
   "source": [
    "O9DataLake.init_script_params(sp)"
   ]
  },
  {
   "cell_type": "code",
   "execution_count": 3,
   "id": "7c9e5e54-709d-4b8a-9854-567c647b2d8d",
   "metadata": {},
   "outputs": [
    {
     "name": "stdout",
     "output_type": "stream",
     "text": [
      "10\n"
     ]
    }
   ],
   "source": [
    "print(2*sp['var1'])"
   ]
  },
  {
   "cell_type": "code",
   "execution_count": null,
   "id": "a710473d-3f65-4ac6-9126-d7d6a696f8fa",
   "metadata": {},
   "outputs": [],
   "source": []
  }
 ],
 "metadata": {
  "kernelspec": {
   "display_name": "[pyplatformhivetestsrishti] Tenant Conda Environment",
   "language": "python",
   "name": "genieaz_pyplatformhivetestsrishti"
  },
  "language_info": {
   "codemirror_mode": {
    "name": "ipython",
    "version": 3
   },
   "file_extension": ".py",
   "mimetype": "text/x-python",
   "name": "python",
   "nbconvert_exporter": "python",
   "pygments_lexer": "ipython3",
   "version": "3.7.10"
  }
 },
 "nbformat": 4,
 "nbformat_minor": 5
}
