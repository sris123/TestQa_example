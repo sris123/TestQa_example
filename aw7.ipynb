{
 "cells": [
  {
   "cell_type": "code",
   "execution_count": 1,
   "id": "decb0015-cee5-4da8-8aa2-d1c115f6a13f",
   "metadata": {},
   "outputs": [],
   "source": [
    "from o9_common_utils.O9DataLake import O9DataLake, ResourceType, DataSource\n",
    "query1 = \"select (Version.[Version Name]*Product.[Product].[196426]*Time.FiscalWeek*SalesAccount.[Account]*Location.[Location]*{Measure.[DPSellOutUnitsActuals],Measure.[Mean Pricing Save PCT],Measure.[Placement Count],Measure.[Promotion Count],Measure.[DPSellOutPrice]});\"\n",
    "query2 = \"select (Version.[Version Name]*Product.[Product].[196426]*Time.FiscalWeek*SalesAccount.[Account]*Location.[Location]*{Measure.[DPSellOutUnitsActuals],Measure.[Mean Pricing Save PCT],Measure.[Placement Count],Measure.[Promotion Count],Measure.[DPSellOutPrice]});\"\n",
    "O9DataLake.register(\"sales_df\",DataSource.LS, ResourceType.IBPL, query1) \n",
    "O9DataLake.register(\"DPBaseInputs\",DataSource.LS, ResourceType.IBPL, query2)"
   ]
  },
  {
   "cell_type": "code",
   "execution_count": 11,
   "id": "4c908bf4-914f-4cad-913b-08a5eb61562f",
   "metadata": {},
   "outputs": [
    {
     "name": "stdout",
     "output_type": "stream",
     "text": [
      "2022-10-11 05:37:37,052 : srishtisingh_5210 :IbplClient: WebApi Request Url = [https://myawsqapsr02.o9solutions.com/api/ibplquery/5210/ExecuteCompactJsonQuery]\n",
      "2022-10-11 05:37:37,142 : srishtisingh_5210 :IbplClient: WebApi Request Url = [https://myawsqapsr02.o9solutions.com/api/ibplquery/5210/ExecuteCompactJsonQuery]\n",
      "2022-10-11 05:37:37,225 : srishtisingh_5210 :Records count in sales dataframe : (7, 10)\n",
      "2022-10-11 05:37:37,225 : srishtisingh_5210 :Records count in DPBaseInputs dataframe : (7, 10)\n",
      "2022-10-11 05:37:37,226 : srishtisingh_5210 :Hello warning\n",
      "2022-10-11 05:37:37,227 : srishtisingh_5210 :Hello error\n",
      "2022-10-11 05:37:37,228 : srishtisingh_5210 :Hello warning\n"
     ]
    }
   ],
   "source": [
    "#getting input from dataLake\n",
    "\n",
    "sales = O9DataLake.get('sales_df')\n",
    "dpbaseinputs = O9DataLake.get('DPBaseInputs')\n",
    "\n",
    "#User Script\n",
    "import logging\n",
    "out_df1 = None\n",
    "logger = logging.getLogger('o9_logger')\n",
    "logger.info(f'Records count in sales dataframe : {sales.shape}')\n",
    "logger.info(f'Records count in DPBaseInputs dataframe : {dpbaseinputs.shape}')\n",
    "logger.warning(\"Hello warning\")\n",
    "logger.error(\"Hello error\")\n",
    "logger.warning(\"Hello warning\")\n",
    "\n",
    "#pushing output to the DataLake\n",
    "O9DataLake.put('out_df1',sales)"
   ]
  },
  {
   "cell_type": "code",
   "execution_count": null,
   "id": "c87cf313-1aaa-4fc2-9241-8a5ae28d1342",
   "metadata": {},
   "outputs": [],
   "source": []
  }
 ],
 "metadata": {
  "kernelspec": {
   "display_name": "[pyplatformhivetest] Tenant Conda Environment",
   "language": "python",
   "name": "qapsr_pyplatformhivetest"
  },
  "language_info": {
   "codemirror_mode": {
    "name": "ipython",
    "version": 3
   },
   "file_extension": ".py",
   "mimetype": "text/x-python",
   "name": "python",
   "nbconvert_exporter": "python",
   "pygments_lexer": "ipython3",
   "version": "3.7.10"
  }
 },
 "nbformat": 4,
 "nbformat_minor": 5
}
