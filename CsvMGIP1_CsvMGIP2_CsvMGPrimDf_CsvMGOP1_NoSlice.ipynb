{
  "cells": [
    {
      "cell_type": "code",
      "execution_count": null,
      "id": "a53bd6b7-0bf5-4804-ab21-ac16cce72159",
      "metadata": {
        "editable": false
      },
      "outputs": [],
      "source": [
        "# This cell is NOT editable. Overwrite variables on your own discretion.\n",
        "# Any changes other than the script code will NOT BE SAVED!\n",
        "# All cells are assumed to be script code cells, unless explictly tagged as 'o9_ignore'"
      ]
    },
    {
      "cell_type": "code",
      "execution_count": null,
      "id": "f23f6c9a-8232-4fab-8e37-6de1fa862c62",
      "metadata": {},
      "outputs": [],
      "source": [
        "_input_df = \"select (Version.[Version Name]*Product.[Product]*Time.FiscalWeek*SalesAccount.[Account]*Location.[Location]*{Measure.[DPSellOutUnitsActuals],Measure.[Mean Pricing Save PCT],Measure.[Placement Count],Measure.[Promotion Count],Measure.[DPSellOutPrice]});\"\n",
        "_predict_df = \"select (Version.[Version Name]*Product.[Product]*Time.FiscalWeek*SalesAccount.[Account]*Location.[Location]*{Measure.[DPSellOutUnitsActuals],Measure.[Mean Pricing Save PCT],Measure.[Placement Count],Measure.[Promotion Count],Measure.[DPSellOutPrice]});\"\n",
        "\n",
        "\n",
        "# Initialize the O9DataLake with the input parameters and dataframes\n",
        "# Data can be accessed with O9DataLake.get(<Input Name>)\n",
        "# Overwritten values will not be reflected in the O9DataLake after initialization\n",
        "\n",
        "from o9_common_utils.O9DataLake import O9DataLake, ResourceType, DataSource,PluginSetting\n",
        "predict_df = O9DataLake.register(\"predict_df\",data_source = DataSource.LS, entity_type = ResourceType.IBPL, query = _predict_df,plugin_setting = PluginSetting.Inputs)\n",
        "input_df = O9DataLake.register(\"input_df\",data_source = DataSource.LS, entity_type = ResourceType.IBPL, query = _input_df,plugin_setting = PluginSetting.Inputs)\n"
      ]
    },
    {
      "cell_type": "code",
      "execution_count": null,
      "id": "c94fd2c8-691c-488d-b62c-facd701e2b6f",
      "metadata": {},
      "outputs": [],
      "source": [
        "predict_df = O9DataLake.get('predict_df')\n",
        "input_df = O9DataLake.get('input_df')"
      ]
    },
    {
      "cell_type": "code",
      "execution_count": null,
      "id": "000dee1a-abf7-4455-9b35-08f65238c4d7",
      "metadata": {},
      "outputs": [],
      "source": [
        "\"\"\"\n",
        "exec plugin instance [CsvMGIP1_CsvMGIP2_CsvMGPrimDf_CsvMGOP1_NoSlice] for measures {[DPSellOutUnitsActuals]} using scope ([Product].[Product].Filter(#.Name in {[196426],[208821]}) * [Time].[Day] * [Version].[Version Name].[CurrentWorkingView]);\n",
        "\n",
        "\"\"\"\n",
        "\n",
        "from sklearn import tree\n",
        "from o9_flow.O9Flow import O9Flow\n",
        "o9flow = O9Flow()\n",
        "\n",
        "print('>>>>>>input_df', input_df.head(2))\n",
        "\n",
        "out_df = None\n",
        "o9flow.log_param(key='plugin_param', value=7)\n",
        "o9flow.log_params(params= {'param_A':8, 'param_B':1.5, 'param_C':'Testing'})\n",
        "o9flow.log_metric(key='plugin_feature', value= 6.0, step=2) # metric can be stored as a float value\n",
        "o9flow.log_metrics(metrics={'plugin_feature_A': 4.99, 'plugin_feature_B': 3.00}, step=11)\n",
        "\n",
        "o9flow.end_run()\n",
        "\n",
        "if predict_df is not None and len(predict_df.index) > 0:\n",
        "    x = input_df[['Mean Pricing Save PCT', 'Placement Count', 'Promotion Count', 'DPSellOutPrice']]\n",
        "    y = input_df[['DPSellOutUnitsActuals']]\n",
        "    x = x.fillna(0).values\n",
        "    y = y.fillna(0).values\n",
        "\n",
        "    clf = tree.DecisionTreeRegressor()\n",
        "    clf = clf.fit(x, y)\n",
        "\n",
        "    predict = predict_df[['Mean Pricing Save PCT', 'Placement Count', 'Promotion Count', 'DPSellOutPrice']].fillna(0).values\n",
        "    predict_values = clf.predict(predict)\n",
        "    predict_df[\"DPSellOutUnitsFcst\"] = predict_values\n",
        "    #out_df = pd.concat([predict_keys, out_df_part], axis=1)\n",
        "    out_df=predict_df[['Time.[FiscalWeek]', 'Product.[Product]', 'Version.[Version Name]', 'SalesAccount.[Account]','Location.[Location]','DPSellOutUnitsFcst']]\n",
        "\n",
        "else:\n",
        "    out_df = None\n",
        "    \n",
        "print(\"Plugin Done\")    \n"
      ]
    }
  ],
  "metadata": {
    "kernelspec": {
      "display_name": "[pyplatformhivetest] Tenant Conda Environment",
      "language": "python",
      "name": "genieaz_pyplatformhivetest"
    },
    "language_info": {
      "codemirror_mode": {
        "name": "ipython",
        "version": 3
      },
      "file_extension": ".py",
      "mimetype": "text/x-python",
      "name": "python",
      "nbconvert_exporter": "python",
      "pygments_lexer": "ipython3",
      "version": "3.7.10"
    },
    "notebook_dict": {
      "ClassName": "o9.GraphCube.Plugins.Python.PythonScript",
      "InstanceName": "CsvMGIP1_CsvMGIP2_CsvMGPrimDf_CsvMGOP1_NoSlice",
      "SliceKeys": [],
      "file_path": "loaded_notebooks/CsvMGIP1_CsvMGIP2_CsvMGPrimDf_CsvMGOP1_NoSlice.ipynb",
      "o9_selected_plugin_id": 239148
    },
    "id": "fda5db4d-fab2-4a87-bf8d-0b045b554fdd"
  },
  "nbformat": 4,
  "nbformat_minor": 5
}