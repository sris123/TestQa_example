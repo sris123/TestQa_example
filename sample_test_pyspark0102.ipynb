{
 "cells": [
  {
   "cell_type": "code",
   "execution_count": 7,
   "id": "30efc5b2-6905-4d43-9bc4-76f99d4d46f6",
   "metadata": {
    "editable": false,
    "tags": [
     "o9_ignore"
    ]
   },
   "outputs": [],
   "source": [
    "# This cell is NOT editable. Overwrite variables on your own discretion.\n",
    "# Any changes other than the script code will NOT BE SAVED!\n",
    "# All cells are assumed to be script code cells, unless explictly tagged as 'o9_ignore'\n",
    "\n",
    "myscriptparam = \"This is from script param\""
   ]
  },
  {
   "cell_type": "code",
   "execution_count": 8,
   "id": "a4cbc909-d934-41c0-9b35-091dd4b11c11",
   "metadata": {},
   "outputs": [
    {
     "data": {
      "application/vnd.jupyter.widget-view+json": {
       "model_id": "",
       "version_major": 2,
       "version_minor": 0
      },
      "text/plain": [
       "FloatProgress(value=0.0, bar_style='info', description='Progress:', layout=Layout(height='25px', width='50%'),…"
      ]
     },
     "metadata": {},
     "output_type": "display_data"
    },
    {
     "name": "stdout",
     "output_type": "stream",
     "text": [
      "HDFS enabled: True"
     ]
    }
   ],
   "source": [
    "%%spark\n",
    "\n",
    "_input_df = \"select (Version.[Version Name]*Product.[Product].[196426]*Time.FiscalWeek*SalesAccount.[Account]*Location.[Location]*{Measure.[DPSellOutUnitsActuals],Measure.[Mean Pricing Save PCT],Measure.[Placement Count],Measure.[Promotion Count],Measure.[DPSellOutPrice]});\"\n",
    "_predict_df = \"select (Version.[Version Name]*Product.[Product].[196426]*Time.FiscalWeek*SalesAccount.[Account]*Location.[Location]*{Measure.[DPSellOutUnitsActuals],Measure.[Mean Pricing Save PCT],Measure.[Placement Count],Measure.[Promotion Count],Measure.[DPSellOutPrice]});\"\n",
    "\n",
    "\n",
    "# Initialize the O9DataLake with the input parameters and dataframes\n",
    "# Data can be accessed with O9DataLake.get(<Input Name>)\n",
    "# Overwritten values will not be reflected in the O9DataLake after initialization\n",
    "\n",
    "from o9_common_utils.O9DataLake import O9DataLake, ResourceType, DataSource\n",
    "input_df = O9DataLake.register(\"input_df\",DataSource.LS, ResourceType.IBPL, _input_df, sparkInput=True, spark_session=spark)\n",
    "predict_df = O9DataLake.register(\"predict_df\",DataSource.LS, ResourceType.IBPL, _predict_df, sparkInput=True, spark_session=spark)"
   ]
  },
  {
   "cell_type": "code",
   "execution_count": 9,
   "id": "a13a42e0-cf32-442e-b4a4-76618d47474f",
   "metadata": {},
   "outputs": [
    {
     "data": {
      "application/vnd.jupyter.widget-view+json": {
       "model_id": "",
       "version_major": 2,
       "version_minor": 0
      },
      "text/plain": [
       "FloatProgress(value=0.0, bar_style='info', description='Progress:', layout=Layout(height='25px', width='50%'),…"
      ]
     },
     "metadata": {},
     "output_type": "display_data"
    },
    {
     "name": "stdout",
     "output_type": "stream",
     "text": [
      "+------------------+--------------+--------------+-------------------+----------------+---------------------+------------------+--------------+--------------+--------------+\n",
      "|VersionVersionName|ProductProduct|TimeFiscalWeek|SalesAccountAccount|LocationLocation|DPSellOutUnitsActuals|MeanPricingSavePCT|PlacementCount|PromotionCount|DPSellOutPrice|\n",
      "+------------------+--------------+--------------+-------------------+----------------+---------------------+------------------+--------------+--------------+--------------+\n",
      "|CurrentWorkingView|        196426|      W03-2016|                ALL|             ALL|                 11.0|              null|          null|          null|          10.0|\n",
      "|CurrentWorkingView|        196426|      W05-2016|                ALL|             ALL|                 11.0|              null|          null|          null|          10.0|\n",
      "|CurrentWorkingView|        196426|      W08-2016|                ALL|             ALL|                 11.0|              null|          null|          null|          10.0|\n",
      "|CurrentWorkingView|        196426|      W13-2016|                ALL|             ALL|                 11.0|              null|          null|          null|          10.0|\n",
      "|CurrentWorkingView|        196426|      W48-2016|                ALL|             ALL|                 11.0|              null|          null|          null|          10.0|\n",
      "|CurrentWorkingView|        196426|      W42-2017|                ALL|             ALL|                 11.0|              null|          null|          null|          10.0|\n",
      "|CurrentWorkingView|        196426|      W44-2017|                ALL|             ALL|                 11.0|              null|          null|          null|          10.0|\n",
      "+------------------+--------------+--------------+-------------------+----------------+---------------------+------------------+--------------+--------------+--------------+\n",
      "\n",
      "None\n",
      "Failed to save output to Live Server\n",
      "\n",
      "test on 24/11/21\n",
      "test on 01/12/21"
     ]
    }
   ],
   "source": [
    "%%spark\n",
    "\n",
    "\n",
    "\n",
    "\n",
    "\n",
    "\"\"\"\n",
    "exec plugin instance [PySparkPlugin_Arup] for measures {[DPSellOutUnitsActuals]} using scope ([Product].[Product].Filter(#.Name in {[196426],[208821]}) * [Time].[Day] * [Version].[Version Name].[CurrentWorkingView]) using arguments {(NumExecutors, 1), (ExecutorMemory, \"1G\"), (DriverMemory, \"1G\") ,(PythonPath, \"/opt/conda/envs/sandbox_pyplatformtest/bin/python\")};\n",
    "\n",
    "\"\"\"\n",
    "import pandas as pd\n",
    "import logging\n",
    "logger = logging.getLogger('o9_logger')\n",
    "from o9_common_utils.O9DataLake import O9DataLake\n",
    "input = O9DataLake.get(\"input_df\")\n",
    "print(input.show())\n",
    "O9DataLake.put('out_df',input)\n",
    "print(\"test on 24/11/21\")\n",
    "print(\"test on 01/12/21\")"
   ]
  },
  {
   "cell_type": "code",
   "execution_count": null,
   "id": "57395e00-be0e-4c87-bdb0-d4378072c970",
   "metadata": {},
   "outputs": [],
   "source": []
  }
 ],
 "metadata": {
  "kernelspec": {
   "display_name": "[pyplatformhivetest] Tenant Conda Environment",
   "language": "python",
   "name": "genieaz_pyplatformhivetest"
  },
  "language_info": {
   "codemirror_mode": {
    "name": "ipython",
    "version": 3
   },
   "file_extension": ".py",
   "mimetype": "text/x-python",
   "name": "python",
   "nbconvert_exporter": "python",
   "pygments_lexer": "ipython3",
   "version": "3.7.10"
  },
  "notebook_dict": {
   "ClassName": "o9.GraphCube.Plugins.Python.PySparkScript",
   "InstanceName": "sample_test_pyspark0102",
   "SliceKeys": [
    {
     "AttributeName": "Version Name",
     "DimensionName": "Version"
    }
   ],
   "file_path": "loaded_notebooks/sample_test_pyspark0102.ipynb",
   "o9_selected_plugin_id": 260576
  }
 },
 "nbformat": 4,
 "nbformat_minor": 5
}
