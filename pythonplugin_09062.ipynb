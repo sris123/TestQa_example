{
 "cells": [
  {
   "cell_type": "code",
   "execution_count": 3,
   "id": "ec04365e-93eb-4853-8ad3-bedbf10d626b",
   "metadata": {},
   "outputs": [],
   "source": [
    "# Slice Dimension Attributes defined in the plugin. Please check all queries and replace <KEY HERE> with a valid name.\n",
    "# For example: If slice is defined by Version.[Version Name] and Time.[Month]\n",
    "# input_df = ibpl Select ([Version].[Version Name].[<KEY HERE>] * [Time].[Month].[<KEY HERE>] * [Item].[Item Number]) on row, ({Measure.[M1], Measure.[M2]}) on column limit 5000;\n",
    "#                             update <KEY HERE> to valid names\n",
    "# input_df = ibpl Select ([Version].[Version Name].[CurrentWorkingView] * [Time].[Month].[January] * [Item].[Item Number]) on row, ({Measure.[M1], Measure.[M2]}) on column limit 5000;\n",
    "\n",
    "_DPBaseInputs = \"select (Version.[Version Name]*Product.[Product].[196426]*Time.FiscalWeek*SalesAccount.[Account]*Location.[Location]*{Measure.[DPSellOutUnitsActuals],Measure.[Mean Pricing Save PCT],Measure.[Placement Count],Measure.[Promotion Count],Measure.[DPSellOutPrice]});\"\n",
    "_sales_df = \"select (Version.[Version Name]*Product.[Product].[196426]*Time.FiscalWeek*SalesAccount.[Account]*Location.[Location]*{Measure.[DPSellOutUnitsActuals],Measure.[Mean Pricing Save PCT],Measure.[Placement Count],Measure.[Promotion Count],Measure.[DPSellOutPrice]});\"\n",
    "\n",
    "\n",
    "# Initialize the O9DataLake with the input parameters and dataframes\n",
    "# Data can be accessed with O9DataLake.get(<Input Name>)\n",
    "# Overwritten values will not be reflected in the O9DataLake after initialization\n",
    "\n",
    "from o9_common_utils.O9DataLake import O9DataLake, ResourceType, DataSource\n",
    "DPBaseInputs = O9DataLake.register(\"DPBaseInputs\",DataSource.LS, ResourceType.IBPL, _DPBaseInputs)\n",
    "sales_df = O9DataLake.register(\"sales_df\",DataSource.LS, ResourceType.IBPL, _sales_df)"
   ]
  },
  {
   "cell_type": "code",
   "execution_count": 4,
   "id": "4ca14800-d800-428e-8d29-cd2cda952cf5",
   "metadata": {},
   "outputs": [],
   "source": [
    "#getting inputs from DataLake\n",
    "sales = O9DataLake.get('sales_df')\n",
    "dpbaseinputs = O9DataLake.get('DPBaseInputs')"
   ]
  },
  {
   "cell_type": "code",
   "execution_count": 5,
   "id": "2a78292c-6acc-4b74-89c3-eedb7daa6ade",
   "metadata": {},
   "outputs": [
    {
     "name": "stdout",
     "output_type": "stream",
     "text": [
      "INFO : python plugin\n"
     ]
    }
   ],
   "source": [
    "#user script\n",
    "import logging\n",
    "out_df1 = None\n",
    "logger = logging.getLogger('o9_logger')\n",
    "logger.info(\"python plugin\")"
   ]
  },
  {
   "cell_type": "code",
   "execution_count": 6,
   "id": "0855d9e4-6c1f-40f8-a125-7296bdb0f75f",
   "metadata": {},
   "outputs": [
    {
     "name": "stdout",
     "output_type": "stream",
     "text": [
      "   Version.[Version Name] Product.[Product] Time.[FiscalWeek]  \\\n",
      "0                      S1            196426          W03-2016   \n",
      "1      CurrentWorkingView            196426          W03-2016   \n",
      "2                      S1            196426          W05-2016   \n",
      "3      CurrentWorkingView            196426          W05-2016   \n",
      "4                      S1            196426          W08-2016   \n",
      "5      CurrentWorkingView            196426          W08-2016   \n",
      "6                      S1            196426          W13-2016   \n",
      "7      CurrentWorkingView            196426          W13-2016   \n",
      "8                      S1            196426          W48-2016   \n",
      "9      CurrentWorkingView            196426          W48-2016   \n",
      "10                     S1            196426          W42-2017   \n",
      "11     CurrentWorkingView            196426          W42-2017   \n",
      "12                     S1            196426          W44-2017   \n",
      "13     CurrentWorkingView            196426          W44-2017   \n",
      "\n",
      "   SalesAccount.[Account] Location.[Location]  DPSellOutUnitsActuals  \\\n",
      "0                     ALL                 ALL                    1.0   \n",
      "1                     ALL                 ALL                    1.0   \n",
      "2                     ALL                 ALL                    2.0   \n",
      "3                     ALL                 ALL                    2.0   \n",
      "4                     ALL                 ALL                    1.0   \n",
      "5                     ALL                 ALL                    1.0   \n",
      "6                     ALL                 ALL                    1.0   \n",
      "7                     ALL                 ALL                    1.0   \n",
      "8                     ALL                 ALL                    1.0   \n",
      "9                     ALL                 ALL                    1.0   \n",
      "10                    ALL                 ALL                    1.0   \n",
      "11                    ALL                 ALL                    1.0   \n",
      "12                    ALL                 ALL                    1.0   \n",
      "13                    ALL                 ALL                    1.0   \n",
      "\n",
      "    Mean Pricing Save PCT  Placement Count  Promotion Count  DPSellOutPrice  \n",
      "0                     NaN              NaN              NaN             6.0  \n",
      "1                     NaN              NaN              NaN             6.0  \n",
      "2                     NaN              NaN              NaN             9.5  \n",
      "3                     NaN              NaN              NaN             9.5  \n",
      "4                     NaN              NaN              NaN             6.0  \n",
      "5                     NaN              NaN              NaN             6.0  \n",
      "6                     NaN              NaN              NaN            13.0  \n",
      "7                     NaN              NaN              NaN            13.0  \n",
      "8                     NaN              NaN              NaN            13.0  \n",
      "9                     NaN              NaN              NaN            13.0  \n",
      "10                    NaN              NaN              NaN            13.0  \n",
      "11                    NaN              NaN              NaN            13.0  \n",
      "12                    NaN              NaN              NaN            13.0  \n",
      "13                    NaN              NaN              NaN            13.0  \n"
     ]
    }
   ],
   "source": [
    "#pushing outputs to DataLake\n",
    "O9DataLake.put('out_df1', sales)\n",
    "print(sales)"
   ]
  },
  {
   "cell_type": "code",
   "execution_count": null,
   "id": "45d38093-7d01-4695-919f-4a9d9308aae8",
   "metadata": {},
   "outputs": [],
   "source": [
    "print(\"different cell\")"
   ]
  }
 ],
 "metadata": {
  "kernelspec": {
   "display_name": "[pyplatformhivetestsrishti] Tenant Conda Environment",
   "language": "python",
   "name": "genieaz_pyplatformhivetestsrishti"
  },
  "language_info": {
   "codemirror_mode": {
    "name": "ipython",
    "version": 3
   },
   "file_extension": ".py",
   "mimetype": "text/x-python",
   "name": "python",
   "nbconvert_exporter": "python",
   "pygments_lexer": "ipython3",
   "version": "3.7.10"
  },
  "notebook_dict": {
   "ClassName": "o9.GraphCube.Plugins.Python.PythonScript",
   "InstanceName": "pythonplugin_09062",
   "SliceKeys": [
    {
     "AttributeName": "Version Name",
     "DimensionName": "Version"
    }
   ],
   "file_path": "loaded_notebooks/pythonplugin_09062.ipynb",
   "o9_selected_plugin_id": 345634
  }
 },
 "nbformat": 4,
 "nbformat_minor": 5
}
