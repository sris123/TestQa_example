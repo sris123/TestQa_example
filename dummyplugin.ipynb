{
 "cells": [
  {
   "cell_type": "code",
   "execution_count": 5,
   "id": "6ef8af69-d163-430e-a1db-9454d8c241b8",
   "metadata": {},
   "outputs": [
    {
     "data": {
      "text/plain": [
       "'1.12.0'"
      ]
     },
     "execution_count": 5,
     "metadata": {},
     "output_type": "execute_result"
    }
   ],
   "source": [
    "import openai as ai\n",
    "ai.__version__"
   ]
  },
  {
   "cell_type": "code",
   "execution_count": null,
   "id": "f391ad32-a664-460e-a7e0-f59b1ac7b7f3",
   "metadata": {},
   "outputs": [],
   "source": []
  }
 ],
 "metadata": {
  "kernelspec": {
   "display_name": "[SmokeTestOps22029] Tenant Conda Environment",
   "language": "python",
   "name": "genieaz_smoketestops22029"
  },
  "language_info": {
   "codemirror_mode": {
    "name": "ipython",
    "version": 3
   },
   "file_extension": ".py",
   "mimetype": "text/x-python",
   "name": "python",
   "nbconvert_exporter": "python",
   "pygments_lexer": "ipython3",
   "version": "3.7.10"
  }
 },
 "nbformat": 4,
 "nbformat_minor": 5
}
