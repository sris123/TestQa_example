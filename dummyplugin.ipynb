{
 "cells": [
  {
   "cell_type": "code",
   "execution_count": 5,
   "id": "6ef8af69-d163-430e-a1db-9454d8c241b8",
   "metadata": {
    "tags": [
     "o9_ignore"
    ]
   },
   "outputs": [
    {
     "data": {
      "text/plain": [
       "'1.12.0'"
      ]
     },
     "execution_count": 5,
     "metadata": {},
     "output_type": "execute_result"
    }
   ],
   "source": [
    "import openai as ai\n",
    "ai.__version__"
   ]
  },
  {
   "cell_type": "code",
   "execution_count": 6,
   "id": "f391ad32-a664-460e-a7e0-f59b1ac7b7f3",
   "metadata": {},
   "outputs": [],
   "source": [
    "_sales = \"select ([WalmartTime_Python].[Day_Python] * [Version].[Version Name].[CurrentWorkingView] * [Department_Python].[Department_ID] * [Store_Python].[Store_ID] * {Measure.[Weekly Sales_Python]});\"\n",
    "_features = \"select( [WalmartTime_Python].[Day_Python] * [Version].[Version Name].[CurrentWorkingView] * [Store_Python].[Store_ID] * { Measure.[Temperature_Python], Measure.[Fuel Price_Python], Measure.[MarkDown1_Python] , Measure.[MarkDown2_Python], Measure.[MarkDown3_Python], Measure.[MarkDown4_Python] , Measure.[MarkDown5_Python] , Measure.[CPI_Python] , Measure.[Unemployment_Python]});\"\n",
    "_stores = \"select([Store_Python].[Store_ID] *[Store_Python].[Type] *[Store_Python].[Size]);\"\n",
    "\n",
    "\n",
    "# Initialize the O9DataLake with the input parameters and dataframes\n",
    "# Data can be accessed with O9DataLake.get(<Input Name>)\n",
    "# Overwritten values will not be reflected in the O9DataLake after initialization\n",
    "\n",
    "from o9_common_utils.O9DataLake import O9DataLake, ResourceType, DataSource,PluginSetting\n",
    "sales = O9DataLake.register(\"sales\",data_source = DataSource.LS, entity_type = ResourceType.IBPL, query = _sales,plugin_setting = PluginSetting.Inputs)\n",
    "features = O9DataLake.register(\"features\",data_source = DataSource.LS, entity_type = ResourceType.IBPL, query = _features,plugin_setting = PluginSetting.Inputs)\n",
    "stores = O9DataLake.register(\"stores\",data_source = DataSource.LS, entity_type = ResourceType.IBPL, query = _stores,plugin_setting = PluginSetting.Inputs)\n",
    "\n",
    "O9DataLake.register(\"PredictedSales_Walmart\",data_source = DataSource.LS,entity_type = ResourceType.IBPL,plugin_setting = PluginSetting.Outputs)\n",
    "script_params = O9DataLake.register({}, data_source = DataSource.LS,plugin_setting = PluginSetting.ScriptParam)"
   ]
  }
 ],
 "metadata": {
  "id": "fe0b165b-e0fe-473d-ba4c-27668f689ef2",
  "kernelspec": {
   "display_name": "[SmokeTestOps22029] Tenant Conda Environment",
   "language": "python",
   "name": "genieaz_smoketestops22029"
  },
  "language_info": {
   "codemirror_mode": {
    "name": "ipython",
    "version": 3
   },
   "file_extension": ".py",
   "mimetype": "text/x-python",
   "name": "python",
   "nbconvert_exporter": "python",
   "pygments_lexer": "ipython3",
   "version": "3.7.10"
  }
 },
 "nbformat": 4,
 "nbformat_minor": 5
}
