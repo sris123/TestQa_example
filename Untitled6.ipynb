{
  "cells": [],
  "metadata": {
    "id": "25205699-0e54-48ca-b7ce-df42e3b89de5"
  },
  "nbformat": 4,
  "nbformat_minor": 5
}