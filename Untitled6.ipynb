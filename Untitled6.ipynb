{
  "cells": [
    {
      "cell_type": "code",
      "execution_count": null,
      "id": "1d454308-c022-429d-a3be-fc30509ab4f0",
      "metadata": {},
      "outputs": [],
      "source": []
    }
  ],
  "metadata": {
    "kernelspec": {
      "display_name": "[autodsml2] Tenant Conda Environment",
      "language": "python",
      "name": "k8qa_autodsml2"
    },
    "language_info": {
      "codemirror_mode": {
        "name": "ipython",
        "version": 3
      },
      "file_extension": ".py",
      "mimetype": "text/x-python",
      "name": "python",
      "nbconvert_exporter": "python",
      "pygments_lexer": "ipython3",
      "version": "3.7.10"
    },
    "id": "23abd6db-8f58-4b1f-88cd-d17d30e39378"
  },
  "nbformat": 4,
  "nbformat_minor": 5
}