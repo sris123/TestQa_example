{
 "cells": [
  {
   "cell_type": "code",
   "execution_count": 3,
   "id": "17265d7c-5261-4cae-b1b3-8097250f53fe",
   "metadata": {
    "editable": false
   },
   "outputs": [],
   "source": [
    "# This cell is NOT editable. Overwrite variables on your own discretion.\n",
    "# Any changes other than the script code will NOT BE SAVED!\n",
    "# All cells are assumed to be script code cells, unless explictly tagged as 'o9_ignore'"
   ]
  },
  {
   "cell_type": "code",
   "execution_count": 24,
   "id": "82cc6584-722a-46eb-a699-6f6daf399707",
   "metadata": {
    "tags": [
     "o9_ignore"
    ]
   },
   "outputs": [
    {
     "name": "stderr",
     "output_type": "stream",
     "text": [
      "INFO:o9_sys_logger:key obj: {'name': 'features', 'resource_type': <ResourceType.IBPL: 'ibpl_query'>, 'data_source': <DataSource.LS: 'liveserver'>, 'query': 'select( [Time].[Day] * [Version].[Version Name].[CurrentWorkingView] * [Store].[Store_ID].[1] * { Measure.[Temperature], Measure.[Fuel Price], Measure.[MarkDown1] , Measure.[MarkDown2], Measure.[MarkDown3], Measure.[MarkDown4] , Measure.[MarkDown5] , Measure.[CPI] , Measure.[Unemployment] } ) on row, () on column;', 'std_count_limit': '200000'}\n",
      "INFO:o9_sys_logger:IbplClient: WebApi Request Url = [https://mygcpdevaa.o9solutions.com/api/ibplquery/6364/ExecuteCompactJsonQuery]\n",
      "INFO:o9_sys_logger:IbplClient: WebApi Request Url = [https://mygcpdevaa.o9solutions.com/api/ibplquery/6364/ExecuteCompactJsonQuery]\n"
     ]
    }
   ],
   "source": [
    "_features = \"select( [Time].[Day] * [Version].[Version Name].[CurrentWorkingView] * [Store].[Store_ID].[1] * { Measure.[Temperature], Measure.[Fuel Price], Measure.[MarkDown1] , Measure.[MarkDown2], Measure.[MarkDown3], Measure.[MarkDown4] , Measure.[MarkDown5] , Measure.[CPI] , Measure.[Unemployment] } ) on row, () on column;\"\n",
    "\n",
    "from o9_common_utils.O9DataLake import O9DataLake, ResourceType, DataSource,PluginSetting\n",
    "features = O9DataLake.register(\"features\",DataSource.LS, ResourceType.IBPL, _features,PluginSetting.Inputs)\n",
    "O9DataLake.register(\"Output\",DataSource.LS,ResourceType.IBPL,None,PluginSetting.Outputs)"
   ]
  },
  {
   "cell_type": "code",
   "execution_count": 5,
   "id": "cd939942-6c5b-477f-a4c2-cafe4edcd708",
   "metadata": {},
   "outputs": [
    {
     "name": "stdout",
     "output_type": "stream",
     "text": [
      "INFO : Records count in sales dataframe : (182, 12)\n",
      "INFO : Plugin Execution Done\n"
     ]
    }
   ],
   "source": [
    "#getting inputs from DataLake\n",
    "features = O9DataLake.get('features')\n",
    "#user script\n",
    "import logging\n",
    "Output = None\n",
    "logger = logging.getLogger('o9_logger')\n",
    "logger.info(f'Records count in sales dataframe : {features.shape}')\n",
    "\n",
    "logger.info('Plugin Execution Done')\n"
   ]
  },
  {
   "cell_type": "code",
   "execution_count": 6,
   "id": "8d2258fd-3de8-46e1-82d0-9290258334bf",
   "metadata": {},
   "outputs": [
    {
     "name": "stderr",
     "output_type": "stream",
     "text": [
      "INFO:o9_sys_logger:{'FileName': 'Fact.Output.csv', 'SheetName': 'Fact.Output.csv', 'TotalRows': 182, 'ProcessedRows': 182, 'Status': 'Success', 'Messages': ['Total Rows: [182]. Successfully Processed Rows: [182].'], 'FileId': 'gcp://MMc4ee9dJS9MHdpILVnSjpoFvO0UQ6hlngU90WVB6tPH_tmev97EN0bgRuFY1JHMpBa0F5t7fqeccQlFBcuZzTSPgaCf7GSwjLPCftaWjqY1'}\n"
     ]
    }
   ],
   "source": [
    "O9DataLake.put(\"Output\", features)"
   ]
  },
  {
   "cell_type": "code",
   "execution_count": null,
   "id": "366ea7e7-7cd7-44b4-869e-17747e0ac0a4",
   "metadata": {},
   "outputs": [],
   "source": []
  }
 ],
 "metadata": {
  "kernelspec": {
   "display_name": "[KaggleWalmartTest] Tenant Conda Environment",
   "language": "python",
   "name": "qarelease_kagglewalmarttest_srishti.singh"
  },
  "language_info": {
   "codemirror_mode": {
    "name": "ipython",
    "version": 3
   },
   "file_extension": ".py",
   "mimetype": "text/x-python",
   "name": "python",
   "nbconvert_exporter": "python",
   "pygments_lexer": "ipython3",
   "version": "3.7.10"
  }
 },
 "nbformat": 4,
 "nbformat_minor": 5
}
