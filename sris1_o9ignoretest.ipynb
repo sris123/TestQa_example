{
 "cells": [
  {
   "cell_type": "code",
   "execution_count": 1,
   "id": "c2c246f5-873e-4e28-915a-c2258c7967b2",
   "metadata": {
    "tags": [
     "o9_ignore"
    ]
   },
   "outputs": [
    {
     "name": "stdout",
     "output_type": "stream",
     "text": [
      "Hello\n"
     ]
    }
   ],
   "source": [
    "# This cell is NOT editable. Overwrite variables on your own discretion.\n",
    "# Any changes other than the script code will NOT BE SAVED!\n",
    "# All cells are assumed to be script code cells, unless explictly tagged as 'o9_ignore'\n",
    "print(\"Hello\")"
   ]
  },
  {
   "cell_type": "code",
   "execution_count": 4,
   "id": "09aec0c2-647d-442f-bd72-1ae959adcfa6",
   "metadata": {},
   "outputs": [
    {
     "data": {
      "application/vnd.jupyter.widget-view+json": {
       "model_id": "",
       "version_major": 2,
       "version_minor": 0
      },
      "text/plain": [
       "FloatProgress(value=0.0, bar_style='info', description='Progress:', layout=Layout(height='25px', width='50%'),…"
      ]
     },
     "metadata": {},
     "output_type": "display_data"
    },
    {
     "name": "stdout",
     "output_type": "stream",
     "text": [
      "HDFS enabled: True\n",
      "DataFrame[VersionVersionName: string, ProductProduct: string, TimeFiscalWeek: string, SalesAccountAccount: string, LocationLocation: string, DPSellOutUnitsActuals: float, MeanPricingSavePCT: float, PlacementCount: float, PromotionCount: float, DPSellOutPrice: float]"
     ]
    }
   ],
   "source": [
    "%%spark\n",
    "\n",
    "# Slice Dimension Attributes defined in the plugin. Please check all queries and replace <KEY HERE> with a valid name.\n",
    "# For example: If slice is defined by Version.[Version Name] and Time.[Month]\n",
    "# input_df = ibpl Select ([Version].[Version Name].[<KEY HERE>] * [Time].[Month].[<KEY HERE>] * [Item].[Item Number]) on row, ({Measure.[M1], Measure.[M2]}) on column limit 5000;\n",
    "#                             update <KEY HERE> to valid names\n",
    "# input_df = ibpl Select ([Version].[Version Name].[CurrentWorkingView] * [Time].[Month].[January] * [Item].[Item Number]) on row, ({Measure.[M1], Measure.[M2]}) on column limit 5000;\n",
    "\n",
    "_DPBaseInputs = \"select (Version.[Version Name]*Product.[Product]*Time.FiscalWeek*SalesAccount.[Account]*Location.[Location]*{Measure.[DPSellOutUnitsActuals],Measure.[Mean Pricing Save PCT],Measure.[Placement Count],Measure.[Promotion Count],Measure.[DPSellOutPrice]});\"\n",
    "_sales_df = \"select (Version.[Version Name]*Product.[Product]*Time.FiscalWeek*SalesAccount.[Account]*Location.[Location]*{Measure.[DPSellOutUnitsActuals],Measure.[Mean Pricing Save PCT],Measure.[Placement Count],Measure.[Promotion Count],Measure.[DPSellOutPrice]});\"\n",
    "\n",
    "\n",
    "# Initialize the O9DataLake with the input parameters and dataframes\n",
    "# Data can be accessed with O9DataLake.get(<Input Name>)\n",
    "# Overwritten values will not be reflected in the O9DataLake after initialization\n",
    "\n",
    "from o9_common_utils.O9DataLake import O9DataLake, ResourceType, DataSource\n",
    "O9DataLake.register(\"DPBaseInputs\",DataSource.LS, ResourceType.IBPL, _DPBaseInputs, sparkInput=True, spark_session=spark)\n",
    "O9DataLake.register(\"sales_df\",DataSource.LS, ResourceType.IBPL, _sales_df, sparkInput=True, spark_session=spark)"
   ]
  },
  {
   "cell_type": "code",
   "execution_count": null,
   "id": "8edbeff3-4032-48b6-bb16-3ee0f6f15034",
   "metadata": {},
   "outputs": [],
   "source": [
    "%%spark\n",
    "\n",
    "\n",
    "#getting inputs from DataLake\n",
    "sales = O9DataLake.get('sales_df')\n",
    "dpbaseinputs = O9DataLake.get('DPBaseInputs')\n",
    "\n",
    "#user script\n",
    "import logging\n",
    "out_df1 = None\n",
    "logger = logging.getLogger('o9_logger')\n",
    "logger.info(f'Records count in sales dataframe : {sales.count()}')\n",
    "logger.info(f'Records count in DPBaseInputs dataframe : {dpbaseinputs.count()}')\n",
    "print(\"SalesSparkSumanth\")\n",
    "#pushing outputs to DataLake\n",
    "O9DataLake.put('out_df1', sales)"
   ]
  }
 ],
 "metadata": {
  "kernelspec": {
   "display_name": "[pyplatformhivetest] Tenant Conda Environment",
   "language": "python",
   "name": "genieaz_pyplatformhivetest"
  },
  "language_info": {
   "codemirror_mode": {
    "name": "ipython",
    "version": 3
   },
   "file_extension": ".py",
   "mimetype": "text/x-python",
   "name": "python",
   "nbconvert_exporter": "python",
   "pygments_lexer": "ipython3",
   "version": "3.7.10"
  }
 },
 "nbformat": 4,
 "nbformat_minor": 5
}
