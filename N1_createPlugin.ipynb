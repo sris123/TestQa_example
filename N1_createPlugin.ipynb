{
 "cells": [
  {
   "cell_type": "code",
   "execution_count": 1,
   "id": "fc3e8b7d-a7a4-4963-b238-fc70ef65a8c1",
   "metadata": {
    "editable": false
   },
   "outputs": [],
   "source": [
    "# This cell is NOT editable. Overwrite variables on your own discretion.\n",
    "# Any changes other than the script code will NOT BE SAVED!\n",
    "# All cells are assumed to be script code cells, unless explictly tagged as 'o9_ignore'"
   ]
  },
  {
   "cell_type": "code",
   "execution_count": 2,
   "id": "50191648-1b76-4216-9e0c-bbdb73c1867d",
   "metadata": {},
   "outputs": [
    {
     "name": "stdout",
     "output_type": "stream",
     "text": [
      "2023-01-30 08:37:17,544 : srishtisingh_5502 :IbplClient: WebApi Request Url = [https://myazureqatest.o9solutions.com/api/ibplquery/5502/ExecuteCompactJsonQuery]\n",
      "2023-01-30 08:37:17,548 : srishtisingh_5502 :Starting new HTTPS connection (1): myazureqatest.o9solutions.com:443\n",
      "2023-01-30 08:37:17,664 : srishtisingh_5502 :https://myazureqatest.o9solutions.com:443 \"POST /api/ibplquery/5502/ExecuteCompactJsonQuery HTTP/1.1\" 200 None\n",
      "2023-01-30 08:37:22,674 : srishtisingh_5502 :IbplClient: WebApi Request Url = [https://myazureqatest.o9solutions.com/api/ibplquery/5502/ExecuteCompactJsonQuery]\n",
      "2023-01-30 08:37:22,677 : srishtisingh_5502 :Starting new HTTPS connection (1): myazureqatest.o9solutions.com:443\n",
      "2023-01-30 08:37:22,794 : srishtisingh_5502 :https://myazureqatest.o9solutions.com:443 \"POST /api/ibplquery/5502/ExecuteCompactJsonQuery HTTP/1.1\" 200 None\n",
      "2023-01-30 08:37:27,806 : srishtisingh_5502 :IbplClient: WebApi Request Url = [https://myazureqatest.o9solutions.com/api/ibplquery/5502/ExecuteCompactJsonQuery]\n",
      "2023-01-30 08:37:27,809 : srishtisingh_5502 :Starting new HTTPS connection (1): myazureqatest.o9solutions.com:443\n",
      "2023-01-30 08:37:27,919 : srishtisingh_5502 :https://myazureqatest.o9solutions.com:443 \"POST /api/ibplquery/5502/ExecuteCompactJsonQuery HTTP/1.1\" 200 None\n",
      "2023-01-30 08:37:32,928 : srishtisingh_5502 :IbplClient: WebApi Request Url = [https://myazureqatest.o9solutions.com/api/ibplquery/5502/ExecuteCompactJsonQuery]\n",
      "2023-01-30 08:37:32,931 : srishtisingh_5502 :Starting new HTTPS connection (1): myazureqatest.o9solutions.com:443\n",
      "2023-01-30 08:37:33,047 : srishtisingh_5502 :https://myazureqatest.o9solutions.com:443 \"POST /api/ibplquery/5502/ExecuteCompactJsonQuery HTTP/1.1\" 200 None\n"
     ]
    }
   ],
   "source": [
    "# Slice Dimension Attributes defined in the plugin. Please check all queries and replace <KEY HERE> with a valid name.\n",
    "# For example: If slice is defined by Version.[Version Name] and Time.[Month]\n",
    "# input_df = ibpl Select ([Version].[Version Name].[<KEY HERE>] * [Time].[Month].[<KEY HERE>] * [Item].[Item Number]) on row, ({Measure.[M1], Measure.[M2]}) on column limit 5000;\n",
    "#                             update <KEY HERE> to valid names\n",
    "# input_df = ibpl Select ([Version].[Version Name].[CurrentWorkingView] * [Time].[Month].[January] * [Item].[Item Number]) on row, ({Measure.[M1], Measure.[M2]}) on column limit 5000;\n",
    "\n",
    "_sales_df = \"select (Version.[Version Name].[<KEY HERE>]*Product.[Product]*Time.FiscalWeek*SalesAccount.[Account]*Location.[Location]*{Measure.[DPSellOutUnitsActuals],Measure.[Mean Pricing Save PCT],Measure.[Placement Count],Measure.[Promotion Count],Measure.[DPSellOutPrice]});\"\n",
    "_DPBaseInputs = \"select (Version.[Version Name].[<KEY HERE>]*Product.[Product]*Time.FiscalWeek*SalesAccount.[Account]*Location.[Location]*{Measure.[DPSellOutUnitsActuals],Measure.[Mean Pricing Save PCT],Measure.[Placement Count],Measure.[Promotion Count],Measure.[DPSellOutPrice]});\"\n",
    "\n",
    "\n",
    "# Initialize the O9DataLake with the input parameters and dataframes\n",
    "# Data can be accessed with O9DataLake.get(<Input Name>)\n",
    "# Overwritten values will not be reflected in the O9DataLake after initialization\n",
    "\n",
    "from o9_common_utils.O9DataLake import O9DataLake, ResourceType, DataSource\n",
    "sales_df = O9DataLake.register(\"sales_df\",DataSource.LS, ResourceType.IBPL, _sales_df)\n",
    "DPBaseInputs = O9DataLake.register(\"DPBaseInputs\",DataSource.LS, ResourceType.IBPL, _DPBaseInputs)"
   ]
  },
  {
   "cell_type": "code",
   "execution_count": 3,
   "id": "433dd9fe-233e-491a-ab59-3cc596c95e72",
   "metadata": {},
   "outputs": [
    {
     "name": "stdout",
     "output_type": "stream",
     "text": [
      "2023-01-30 08:37:38,070 : srishtisingh_5502 :IbplClient: WebApi Request Url = [https://myazureqatest.o9solutions.com/api/ibplquery/5502/ExecuteCompactJsonQuery]\n",
      "2023-01-30 08:37:38,073 : srishtisingh_5502 :Starting new HTTPS connection (1): myazureqatest.o9solutions.com:443\n",
      "2023-01-30 08:37:38,153 : srishtisingh_5502 :https://myazureqatest.o9solutions.com:443 \"POST /api/ibplquery/5502/ExecuteCompactJsonQuery HTTP/1.1\" 200 None\n",
      "2023-01-30 08:37:43,161 : srishtisingh_5502 :IbplClient: WebApi Request Url = [https://myazureqatest.o9solutions.com/api/ibplquery/5502/ExecuteCompactJsonQuery]\n",
      "2023-01-30 08:37:43,165 : srishtisingh_5502 :Starting new HTTPS connection (1): myazureqatest.o9solutions.com:443\n",
      "2023-01-30 08:37:43,247 : srishtisingh_5502 :https://myazureqatest.o9solutions.com:443 \"POST /api/ibplquery/5502/ExecuteCompactJsonQuery HTTP/1.1\" 200 None\n",
      "2023-01-30 08:37:48,258 : srishtisingh_5502 :IbplClient: WebApi Request Url = [https://myazureqatest.o9solutions.com/api/ibplquery/5502/ExecuteCompactJsonQuery]\n",
      "2023-01-30 08:37:48,262 : srishtisingh_5502 :Starting new HTTPS connection (1): myazureqatest.o9solutions.com:443\n",
      "2023-01-30 08:37:48,345 : srishtisingh_5502 :https://myazureqatest.o9solutions.com:443 \"POST /api/ibplquery/5502/ExecuteCompactJsonQuery HTTP/1.1\" 200 None\n",
      "2023-01-30 08:37:53,353 : srishtisingh_5502 :IbplClient: WebApi Request Url = [https://myazureqatest.o9solutions.com/api/ibplquery/5502/ExecuteCompactJsonQuery]\n",
      "2023-01-30 08:37:53,356 : srishtisingh_5502 :Starting new HTTPS connection (1): myazureqatest.o9solutions.com:443\n",
      "2023-01-30 08:37:53,462 : srishtisingh_5502 :https://myazureqatest.o9solutions.com:443 \"POST /api/ibplquery/5502/ExecuteCompactJsonQuery HTTP/1.1\" 200 None\n",
      "2023-01-30 08:37:58,848 : srishtisingh_5502 :Plugin Starts\n",
      "2023-01-30 08:37:58,850 : srishtisingh_5502 :IbplClient: WebApi Request Url = [https://myazureqatest.o9solutions.com/api/ibplquery/5502/ExecuteCompactJsonQuery]\n",
      "2023-01-30 08:37:58,853 : srishtisingh_5502 :Starting new HTTPS connection (1): myazureqatest.o9solutions.com:443\n",
      "2023-01-30 08:37:58,928 : srishtisingh_5502 :https://myazureqatest.o9solutions.com:443 \"POST /api/ibplquery/5502/ExecuteCompactJsonQuery HTTP/1.1\" 200 None\n",
      "2023-01-30 08:38:03,936 : srishtisingh_5502 :IbplClient: WebApi Request Url = [https://myazureqatest.o9solutions.com/api/ibplquery/5502/ExecuteCompactJsonQuery]\n",
      "2023-01-30 08:38:03,940 : srishtisingh_5502 :Starting new HTTPS connection (1): myazureqatest.o9solutions.com:443\n",
      "2023-01-30 08:38:04,042 : srishtisingh_5502 :https://myazureqatest.o9solutions.com:443 \"POST /api/ibplquery/5502/ExecuteCompactJsonQuery HTTP/1.1\" 200 None\n",
      "2023-01-30 08:38:09,053 : srishtisingh_5502 :IbplClient: WebApi Request Url = [https://myazureqatest.o9solutions.com/api/ibplquery/5502/ExecuteCompactJsonQuery]\n",
      "2023-01-30 08:38:09,057 : srishtisingh_5502 :Starting new HTTPS connection (1): myazureqatest.o9solutions.com:443\n",
      "2023-01-30 08:38:09,171 : srishtisingh_5502 :https://myazureqatest.o9solutions.com:443 \"POST /api/ibplquery/5502/ExecuteCompactJsonQuery HTTP/1.1\" 200 None\n",
      "2023-01-30 08:38:14,180 : srishtisingh_5502 :IbplClient: WebApi Request Url = [https://myazureqatest.o9solutions.com/api/ibplquery/5502/ExecuteCompactJsonQuery]\n",
      "2023-01-30 08:38:14,184 : srishtisingh_5502 :Starting new HTTPS connection (1): myazureqatest.o9solutions.com:443\n",
      "2023-01-30 08:38:14,267 : srishtisingh_5502 :https://myazureqatest.o9solutions.com:443 \"POST /api/ibplquery/5502/ExecuteCompactJsonQuery HTTP/1.1\" 200 None\n",
      "2023-01-30 08:38:21,299 : srishtisingh_5502 :attempt[2] command ['hdfs', 'dfs', '-ls', '/mnt/resource/settings.json'] failed\n",
      "2023-01-30 08:38:21,301 : srishtisingh_5502 :[Errno 2] No such file or directory: 'hdfs': 'hdfs'\n",
      "Traceback (most recent call last):\n",
      "  File \"/opt/conda/envs/genieaz_pyplatformhivetest/lib/python3.7/site-packages/o9_hdfs_utils/O9HdfsUtils.py\", line 40, in _exec_hdfs_command\n",
      "    output = subprocess.check_output(command_arr, shell=self.shell, stderr=subprocess.STDOUT)\n",
      "  File \"/opt/conda/envs/genieaz_pyplatformhivetest/lib/python3.7/subprocess.py\", line 411, in check_output\n",
      "    **kwargs).stdout\n",
      "  File \"/opt/conda/envs/genieaz_pyplatformhivetest/lib/python3.7/subprocess.py\", line 488, in run\n",
      "    with Popen(*popenargs, **kwargs) as process:\n",
      "  File \"/opt/conda/envs/genieaz_pyplatformhivetest/lib/python3.7/subprocess.py\", line 800, in __init__\n",
      "    restore_signals, start_new_session)\n",
      "  File \"/opt/conda/envs/genieaz_pyplatformhivetest/lib/python3.7/subprocess.py\", line 1551, in _execute_child\n",
      "    raise child_exception_type(errno_num, err_msg, err_filename)\n",
      "FileNotFoundError: [Errno 2] No such file or directory: 'hdfs': 'hdfs'\n",
      "2023-01-30 08:38:21,304 : srishtisingh_5502 :exhausted 2 retries\n",
      "2023-01-30 08:38:21,304 : srishtisingh_5502 :HDFS enabled: False\n",
      "Failed to save output to Live Server\n",
      "'NoneType' object has no attribute 'columns'\n",
      "Failed to save output to Live Server\n",
      "'NoneType' object has no attribute 'columns'\n",
      "2023-01-30 08:38:21,308 : srishtisingh_5502 :Plugin Ends\n"
     ]
    }
   ],
   "source": [
    "\n",
    "\n",
    "# This cell is NOT editable. Overwrite variables on your own discretion.\n",
    "# Any changes other than the script code will NOT BE SAVED!\n",
    "# All cells are assumed to be script code cells, unless explictly tagged as 'o9_ignore'\n",
    "# Slice Dimension Attributes defined in the plugin. Please check all queries and replace <KEY HERE> with a valid name.\n",
    "# For example: If slice is defined by Version.[Version Name] and Time.[Month]\n",
    "# input_df = ibpl Select ([Version].[Version Name].[<KEY HERE>] * [Time].[Month].[<KEY HERE>] * [Item].[Item Number]) on row, ({Measure.[M1], Measure.[M2]}) on column limit 5000;\n",
    "#                             update <KEY HERE> to valid names\n",
    "# input_df = ibpl Select ([Version].[Version Name].[CurrentWorkingView] * [Time].[Month].[January] * [Item].[Item Number]) on row, ({Measure.[M1], Measure.[M2]}) on column limit 5000;\n",
    "\n",
    "_sales_df = \"select (Version.[Version Name].[<KEY HERE>]*Product.[Product]*Time.FiscalWeek*SalesAccount.[Account]*Location.[Location]*{Measure.[DPSellOutUnitsActuals],Measure.[Mean Pricing Save PCT],Measure.[Placement Count],Measure.[Promotion Count],Measure.[DPSellOutPrice]});\"\n",
    "_DPBaseInputs = \"select (Version.[Version Name].[<KEY HERE>]*Product.[Product]*Time.FiscalWeek*SalesAccount.[Account]*Location.[Location]*{Measure.[DPSellOutUnitsActuals],Measure.[Mean Pricing Save PCT],Measure.[Placement Count],Measure.[Promotion Count],Measure.[DPSellOutPrice]});\"\n",
    "\n",
    "\n",
    "# Initialize the O9DataLake with the input parameters and dataframes\n",
    "# Data can be accessed with O9DataLake.get(<Input Name>)\n",
    "# Overwritten values will not be reflected in the O9DataLake after initialization\n",
    "\n",
    "from o9_common_utils.O9DataLake import O9DataLake, ResourceType, DataSource\n",
    "sales_df = O9DataLake.register(\"sales_df\",DataSource.LS, ResourceType.IBPL, _sales_df)\n",
    "DPBaseInputs = O9DataLake.register(\"DPBaseInputs\",DataSource.LS, ResourceType.IBPL, _DPBaseInputs)\n",
    "import logging\n",
    "from sklearn import tree\n",
    "\n",
    "logger = logging.getLogger('o9_logger')\n",
    "logger.info(\"Plugin Starts\")\n",
    "\n",
    "out_df = None\n",
    "input_df = O9DataLake.get('sales_df')\n",
    "predict_df = O9DataLake.get('DPBaseInputs')\n",
    "if predict_df is not None and len(predict_df.index) > 0:\n",
    "    x = input_df[['Mean Pricing Save PCT', 'Placement Count', 'Promotion Count', 'DPSellOutPrice']]\n",
    "    y = input_df[['DPSellOutUnitsActuals']]\n",
    "    x = x.fillna(0).values\n",
    "    y = y.fillna(0).values\n",
    "\n",
    "    clf = tree.DecisionTreeRegressor()\n",
    "    clf = clf.fit(x, y)\n",
    "\n",
    "    predict = predict_df[['Mean Pricing Save PCT', 'Placement Count', 'Promotion Count', 'DPSellOutPrice']].fillna(0).values\n",
    "    # predict_keys = predict_df[['Time.[FiscalWeek]', 'Product.[Product]', 'Version.[Version Name]', 'SalesAccount.[Account]',                               'Location.[Location]']]\n",
    "    # predict_keys[\"Product.[Product]\"] = pd.to_numeric(predict_keys[\"Product.[Product]\"], downcast='integer')\n",
    "    predict_values = clf.predict(predict)\n",
    "    predict_df[\"DPSellOutUnitsFcst\"] = predict_values\n",
    "    #out_df = pd.concat([predict_keys, out_df_part], axis=1)\n",
    "    out_df=predict_df[['Time.[FiscalWeek]', 'Product.[Product]', 'Version.[Version Name]', 'SalesAccount.[Account]','Location.[Location]','DPSellOutUnitsFcst']]\n",
    "    logger.info(out_df)\n",
    "\n",
    "else:\n",
    "    out_df = None\n",
    "\n",
    "O9DataLake.put('DPBaseOutput1',out_df)\n",
    "\n",
    "O9DataLake.put('DPBaseOutput2',out_df)\n",
    "logger.info(\"Plugin Ends\")\n"
   ]
  }
 ],
 "metadata": {
  "kernelspec": {
   "display_name": "[pyplatformhivetest] Tenant Conda Environment",
   "language": "python",
   "name": "genieaz_pyplatformhivetest"
  },
  "language_info": {
   "codemirror_mode": {
    "name": "ipython",
    "version": 3
   },
   "file_extension": ".py",
   "mimetype": "text/x-python",
   "name": "python",
   "nbconvert_exporter": "python",
   "pygments_lexer": "ipython3",
   "version": "3.7.10"
  },
  "notebook_dict": {
   "ClassName": "o9.GraphCube.Plugins.Python.PythonScript",
   "InstanceName": "N1_createPlugin",
   "SliceKeys": [
    {
     "AttributeName": "Version Name",
     "DimensionName": "Version"
    }
   ],
   "file_path": "loaded_notebooks/N1_createPlugin.ipynb",
   "o9_selected_plugin_id": 257979
  }
 },
 "nbformat": 4,
 "nbformat_minor": 5
}
