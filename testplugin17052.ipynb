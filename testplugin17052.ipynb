{
 "cells": [
  {
   "cell_type": "code",
   "execution_count": 18,
   "id": "2837b28f-298a-45b2-a0ad-547341ec54a2",
   "metadata": {
    "tags": [
     "o9_ignore"
    ]
   },
   "outputs": [],
   "source": [
    "# Slice Dimension Attributes defined in the plugin. Please check all queries and replace <KEY HERE> with a valid name.\n",
    "# For example: If slice is defined by Version.[Version Name] and Time.[Month]\n",
    "# input_df = ibpl Select ([Version].[Version Name].[<KEY HERE>] * [Time].[Month].[<KEY HERE>] * [Item].[Item Number]) on row, ({Measure.[M1], Measure.[M2]}) on column limit 5000;\n",
    "#                             update <KEY HERE> to valid names\n",
    "# input_df = ibpl Select ([Version].[Version Name].[CurrentWorkingView] * [Time].[Month].[January] * [Item].[Item Number]) on row, ({Measure.[M1], Measure.[M2]}) on column limit 5000;\n",
    "\n",
    "_DPBaseInputs = \"select (Version.[Version Name]*Product.[Product].[196426]*Time.FiscalWeek*SalesAccount.[Account]*Location.[Location]*{Measure.[DPSellOutUnitsActuals],Measure.[Mean Pricing Save PCT],Measure.[Placement Count],Measure.[Promotion Count],Measure.[DPSellOutPrice]});\"\n",
    "_sales_df1 = \"select (Version.[Version Name]*Product.[Product].[196426]*Time.FiscalWeek*SalesAccount.[Account]*Location.[Location]*{Measure.[DPSellOutUnitsActuals],Measure.[Mean Pricing Save PCT],Measure.[Placement Count],Measure.[Promotion Count],Measure.[DPSellOutPrice]});\"\n",
    "\n",
    "\n",
    "# Initialize the O9DataLake with the input parameters and dataframes\n",
    "# Data can be accessed with O9DataLake.get(<Input Name>)\n",
    "# Overwritten values will not be reflected in the O9DataLake after initialization\n",
    "\n",
    "from o9_common_utils.O9DataLake import O9DataLake, ResourceType, DataSource\n",
    "DPBaseInputs = O9DataLake.register(\"DPBaseInputs\",DataSource.LS, ResourceType.IBPL, _DPBaseInputs)\n",
    "sales_df = O9DataLake.register(\"sales_df\",DataSource.LS, ResourceType.IBPL, _sales_df1)"
   ]
  },
  {
   "cell_type": "code",
   "execution_count": 19,
   "id": "6578325b-7fbd-491e-979e-47a9fff8ece9",
   "metadata": {},
   "outputs": [
    {
     "name": "stdout",
     "output_type": "stream",
     "text": [
      "INFO : python plugin\n"
     ]
    }
   ],
   "source": [
    "#getting inputs from DataLake\n",
    "sales = O9DataLake.get('sales_df')\n",
    "dpbaseinputs = O9DataLake.get('DPBaseInputs')\n",
    "\n",
    "\n",
    "#user script\n",
    "import logging\n",
    "out_df1 = None\n",
    "logger = logging.getLogger('o9_logger')\n",
    "logger.info(\"python plugin\")\n",
    "\n",
    "#pushing outputs to DataLake\n",
    "O9DataLake.put('out_df1', sales)"
   ]
  },
  {
   "cell_type": "code",
   "execution_count": 20,
   "id": "afc0509e-5c89-4d75-8956-08892960abf2",
   "metadata": {
    "tags": [
     "o9_ignore"
    ]
   },
   "outputs": [
    {
     "name": "stdout",
     "output_type": "stream",
     "text": [
      "   Version.[Version Name] Product.[Product] Time.[FiscalWeek]  \\\n",
      "0                      S1            196426          W03-2016   \n",
      "1      CurrentWorkingView            196426          W03-2016   \n",
      "2                      S1            196426          W05-2016   \n",
      "3      CurrentWorkingView            196426          W05-2016   \n",
      "4                      S1            196426          W08-2016   \n",
      "5      CurrentWorkingView            196426          W08-2016   \n",
      "6                      S1            196426          W13-2016   \n",
      "7      CurrentWorkingView            196426          W13-2016   \n",
      "8                      S1            196426          W48-2016   \n",
      "9      CurrentWorkingView            196426          W48-2016   \n",
      "10                     S1            196426          W42-2017   \n",
      "11     CurrentWorkingView            196426          W42-2017   \n",
      "12                     S1            196426          W44-2017   \n",
      "13     CurrentWorkingView            196426          W44-2017   \n",
      "\n",
      "   SalesAccount.[Account] Location.[Location]  DPSellOutUnitsActuals  \\\n",
      "0                     ALL                 ALL                    1.0   \n",
      "1                     ALL                 ALL                    1.0   \n",
      "2                     ALL                 ALL                    2.0   \n",
      "3                     ALL                 ALL                    2.0   \n",
      "4                     ALL                 ALL                    1.0   \n",
      "5                     ALL                 ALL                    1.0   \n",
      "6                     ALL                 ALL                    1.0   \n",
      "7                     ALL                 ALL                    1.0   \n",
      "8                     ALL                 ALL                    1.0   \n",
      "9                     ALL                 ALL                    1.0   \n",
      "10                    ALL                 ALL                    1.0   \n",
      "11                    ALL                 ALL                    1.0   \n",
      "12                    ALL                 ALL                    1.0   \n",
      "13                    ALL                 ALL                    1.0   \n",
      "\n",
      "    Mean Pricing Save PCT  Placement Count  Promotion Count  DPSellOutPrice  \n",
      "0                     NaN              NaN              NaN             6.0  \n",
      "1                     NaN              NaN              NaN             6.0  \n",
      "2                     NaN              NaN              NaN             9.5  \n",
      "3                     NaN              NaN              NaN             9.5  \n",
      "4                     NaN              NaN              NaN             6.0  \n",
      "5                     NaN              NaN              NaN             6.0  \n",
      "6                     NaN              NaN              NaN            13.0  \n",
      "7                     NaN              NaN              NaN            13.0  \n",
      "8                     NaN              NaN              NaN            13.0  \n",
      "9                     NaN              NaN              NaN            13.0  \n",
      "10                    NaN              NaN              NaN            13.0  \n",
      "11                    NaN              NaN              NaN            13.0  \n",
      "12                    NaN              NaN              NaN            13.0  \n",
      "13                    NaN              NaN              NaN            13.0  \n"
     ]
    }
   ],
   "source": [
    "print(sales)"
   ]
  },
  {
   "cell_type": "code",
   "execution_count": null,
   "id": "8a3b4c4c-8c0a-4e35-bb98-4e65ff76feeb",
   "metadata": {},
   "outputs": [],
   "source": []
  }
 ],
 "metadata": {
  "kernelspec": {
   "display_name": "[pyplatformhivetestsrishti] Tenant Conda Environment",
   "language": "python",
   "name": "genieaz_pyplatformhivetestsrishti"
  },
  "language_info": {
   "codemirror_mode": {
    "name": "ipython",
    "version": 3
   },
   "file_extension": ".py",
   "mimetype": "text/x-python",
   "name": "python",
   "nbconvert_exporter": "python",
   "pygments_lexer": "ipython3",
   "version": "3.7.10"
  }
 },
 "nbformat": 4,
 "nbformat_minor": 5
}
