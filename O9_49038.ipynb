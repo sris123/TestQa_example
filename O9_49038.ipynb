{
 "cells": [
  {
   "cell_type": "code",
   "execution_count": 4,
   "id": "6cf83d62-53cd-4378-9edf-bcd23cede0d1",
   "metadata": {},
   "outputs": [],
   "source": [
    "_predict_df = \"select (Version.[Version Name]*Product.[Product].[208821]*Time.FiscalWeek*SalesAccount.[Account]*Location.[Location]*{Measure.[DPSellOutUnitsActuals],Measure.[Mean Pricing Save PCT],Measure.[Placement Count],Measure.[Promotion Count],Measure.[DPSellOutPrice]});\""
   ]
  },
  {
   "cell_type": "code",
   "execution_count": 5,
   "id": "260b20d6-3df9-4e37-b88d-9b24e69dc845",
   "metadata": {},
   "outputs": [],
   "source": [
    "from o9_common_utils.O9DataLake import O9DataLake, ResourceType, DataSource,PluginSetting"
   ]
  },
  {
   "cell_type": "code",
   "execution_count": 6,
   "id": "e9a572b8-f941-4bb3-9c81-36f9195c029a",
   "metadata": {},
   "outputs": [],
   "source": [
    "predict_df = O9DataLake.register(\"predict_df\",data_source = DataSource.LS, entity_type = ResourceType.IBPL, query = _predict_df,plugin_setting = PluginSetting.Inputs)"
   ]
  },
  {
   "cell_type": "code",
   "execution_count": 7,
   "id": "ccdf7e95-d5b4-4e40-9dee-9f42db406547",
   "metadata": {},
   "outputs": [],
   "source": [
    "O9DataLake.register(\"Product.[Product]\", data_source = DataSource.LS, entity_type = ResourceType.IBPL, plugin_setting = PluginSetting.SliceDimension)"
   ]
  },
  {
   "cell_type": "code",
   "execution_count": 8,
   "id": "637d2867-3e2f-446a-a4e4-1ae5f27e4397",
   "metadata": {},
   "outputs": [],
   "source": [
    "O9DataLake.register(\"output1\",data_source = DataSource.LS,entity_type = ResourceType.IBPL, plugin_setting = PluginSetting.Outputs)"
   ]
  },
  {
   "cell_type": "code",
   "execution_count": 9,
   "id": "11f842c8-0c98-4ddb-adbe-4f105a7928c6",
   "metadata": {},
   "outputs": [],
   "source": [
    "script_params = O9DataLake.register({\"var1\":\"20\",\"var2\":\"Test1\",\"var3\":\"newparam\"}, data_source = DataSource.LS, plugin_setting = PluginSetting.ScriptParam)"
   ]
  },
  {
   "cell_type": "code",
   "execution_count": null,
   "id": "75416fb4-2ace-484b-8dd5-62e6a23537e0",
   "metadata": {},
   "outputs": [],
   "source": []
  }
 ],
 "metadata": {
  "kernelspec": {
   "display_name": "[autodsml2] Tenant Conda Environment",
   "language": "python",
   "name": "genieaz_autodsml2"
  },
  "language_info": {
   "codemirror_mode": {
    "name": "ipython",
    "version": 3
   },
   "file_extension": ".py",
   "mimetype": "text/x-python",
   "name": "python",
   "nbconvert_exporter": "python",
   "pygments_lexer": "ipython3",
   "version": "3.10.5"
  }
 },
 "nbformat": 4,
 "nbformat_minor": 5
}
