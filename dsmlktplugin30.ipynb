{
 "cells": [
  {
   "cell_type": "code",
   "execution_count": 3,
   "id": "08e14741-3c7b-4408-b0b6-f2184b6b9335",
   "metadata": {
    "tags": [
     "o9_ignore"
    ]
   },
   "outputs": [
    {
     "data": {
      "text/plain": [
       "'1.54.1'"
      ]
     },
     "execution_count": 3,
     "metadata": {},
     "output_type": "execute_result"
    }
   ],
   "source": [
    "import openai as ai\n",
    "ai .__version__"
   ]
  },
  {
   "cell_type": "code",
   "execution_count": 4,
   "id": "f117de31-28aa-4da6-85b3-fb39c7acd257",
   "metadata": {},
   "outputs": [],
   "source": [
    "_predict_df = \"select (Version.[Version Name]*Product.[Product].[196426]*Time.FiscalWeek*SalesAccount.[Account]*Location.[Location]*{Measure.[DPSellOutUnitsActuals],Measure.[Mean Pricing Save PCT],Measure.[Placement Count],Measure.[Promotion Count],Measure.[DPSellOutPrice]});\"\n",
    "\n",
    "\n",
    "from o9_common_utils.O9DataLake import O9DataLake, ResourceType, DataSource,PluginSetting\n",
    "\n",
    "# register inputs\n",
    "predict_df = O9DataLake.register(\"predict_df\",data_source = DataSource.LS, entity_type = ResourceType.IBPL, query = _predict_df,plugin_setting = PluginSetting.Inputs)\n",
    "\n",
    "#input_df = O9DataLake.register(\"input_df\",data_source = DataSource.LS, entity_type = ResourceType.IBPL, query = _input_df,plugin_setting = PluginSetting.Inputs)\n",
    "#liveinput = O9DataLake.register(\"WeeklySales\",data_source = DataSource.LIVEFRAME,entity_type = ResourceType.LIVEFRAME,plugin_setting = PluginSetting.Inputs)\n",
    "#DPSelloutPrediction = O9DataLake.register(\"DPSelloutPrediction\",data_source = DataSource.LIVEFRAME,entity_type = ResourceType.LIVEFRAME,plugin_setting = PluginSetting.Inputs)\n",
    "# register slice dimension\n",
    "O9DataLake.register(\"Product.[Product]\", data_source = DataSource.LS, entity_type = ResourceType.IBPL, plugin_setting = PluginSetting.SliceDimension)\n",
    "\n",
    "# register outputs\n",
    "O9DataLake.register(\"output1\",data_source = DataSource.LS,entity_type = ResourceType.IBPL, plugin_setting = PluginSetting.Outputs)\n",
    "#O9DataLake.register(\"output2\",data_source = DataSource.LS,entity_type = ResourceType.IBPL, plugin_setting = PluginSetting.Outputs)\n",
    "\n",
    "# register script params\n",
    "script_params = O9DataLake.register({\"var1\":\"10\",\"var2\":\"Test1\"}, data_source = DataSource.LS, plugin_setting = PluginSetting.ScriptParam)"
   ]
  },
  {
   "cell_type": "code",
   "execution_count": 5,
   "id": "228d97d4-6c3d-4984-9a55-46b348867821",
   "metadata": {
    "tags": [
     "o9_ignore"
    ]
   },
   "outputs": [
    {
     "data": {
      "text/plain": [
       "{'predict_df': {'name': 'predict_df',\n",
       "  'resource_type': <ResourceType.IBPL: 'ibpl_query'>,\n",
       "  'data_source': <DataSource.LS: 'liveserver'>,\n",
       "  'query': 'select (Version.[Version Name]*Product.[Product].[196426]*Time.FiscalWeek*SalesAccount.[Account]*Location.[Location]*{Measure.[DPSellOutUnitsActuals],Measure.[Mean Pricing Save PCT],Measure.[Placement Count],Measure.[Promotion Count],Measure.[DPSellOutPrice]});',\n",
       "  'std_count_limit': '200000',\n",
       "  'df':      Version.[Version Name]  Product.[Product] Time.[FiscalWeek]  \\\n",
       "  0        CurrentWorkingView             196426          W02-2015   \n",
       "  1        CurrentWorkingView             196426          W04-2015   \n",
       "  2        CurrentWorkingView             196426          W05-2015   \n",
       "  3        CurrentWorkingView             196426          W06-2015   \n",
       "  4        CurrentWorkingView             196426          W07-2015   \n",
       "  ...                     ...                ...               ...   \n",
       "  4482     CurrentWorkingView             196426          W47-2021   \n",
       "  4483     CurrentWorkingView             196426          W48-2021   \n",
       "  4484     CurrentWorkingView             196426          W49-2021   \n",
       "  4485     CurrentWorkingView             196426          W50-2021   \n",
       "  4486     CurrentWorkingView             196426          W51-2021   \n",
       "  \n",
       "       SalesAccount.[Account] Location.[Location]  DPSellOutUnitsActuals  \\\n",
       "  0                Customer_1             Store_1                 101.94   \n",
       "  1                Customer_1             Store_1                 101.60   \n",
       "  2                Customer_1             Store_1                 100.50   \n",
       "  3                Customer_1             Store_1                 105.25   \n",
       "  4                Customer_1             Store_1                 103.75   \n",
       "  ...                     ...                 ...                    ...   \n",
       "  4482                    ALL             Store_9                 100.80   \n",
       "  4483                    ALL             Store_9                 100.60   \n",
       "  4484                    ALL             Store_9                 100.75   \n",
       "  4485                    ALL             Store_9                 103.50   \n",
       "  4486                    ALL             Store_9                 101.00   \n",
       "  \n",
       "        Mean Pricing Save PCT  Placement Count  Promotion Count  DPSellOutPrice  \n",
       "  0                    101.56           105.56           102.44          105.00  \n",
       "  1                    101.10           104.00           100.40          102.30  \n",
       "  2                    104.90           102.00           101.30          100.80  \n",
       "  3                    104.20           102.90           102.30          100.06  \n",
       "  4                    101.56           101.50           101.00          102.56  \n",
       "  ...                     ...              ...              ...             ...  \n",
       "  4482                 101.56           101.90           100.30          101.10  \n",
       "  4483                 101.30           103.94           102.75          103.00  \n",
       "  4484                 100.80           104.25           102.94          100.10  \n",
       "  4485                 104.80           102.80           100.20          100.80  \n",
       "  4486                 102.80           100.60           104.50          103.50  \n",
       "  \n",
       "  [4487 rows x 10 columns]}}"
      ]
     },
     "execution_count": 5,
     "metadata": {},
     "output_type": "execute_result"
    }
   ],
   "source": [
    "O9DataLake.inputs"
   ]
  },
  {
   "cell_type": "code",
   "execution_count": 6,
   "id": "152696e8-575b-4257-b96f-05135c7e03c9",
   "metadata": {},
   "outputs": [],
   "source": [
    "predict_df = O9DataLake.get('predict_df')\n",
    "\n",
    "\n",
    "# fetching script params\n",
    "value1 = O9DataLake.get_script_param(\"var1\")\n",
    "value2 = O9DataLake.get_script_param(\"var2\")"
   ]
  },
  {
   "cell_type": "code",
   "execution_count": 7,
   "id": "55a72fc1-195c-4166-a0e0-ebb063184543",
   "metadata": {},
   "outputs": [
    {
     "name": "stdout",
     "output_type": "stream",
     "text": [
      "2024-12-30 16:25:06,966 - o9_logger - DEBUG  - predict_df dataframe:  (4487, 10)\n",
      "2024-12-30 16:25:06,966 - o9_logger - DEBUG  - script param var1 value: 10\n",
      "2024-12-30 16:25:06,967 - o9_logger - DEBUG  - script param var2 value: Test1\n"
     ]
    }
   ],
   "source": [
    "#user script\n",
    "\n",
    "# package imports\n",
    "import logging\n",
    "from sklearn import tree\n",
    "\n",
    "# initialize output variables\n",
    "output1 = None\n",
    "\n",
    "\n",
    "# initialize logger\n",
    "logger = logging.getLogger('o9_logger')\n",
    "\n",
    "logger.debug(f'predict_df dataframe:  {predict_df.shape}')\n",
    "logger.debug(f'script param var1 value: {value1}')\n",
    "logger.debug(f'script param var2 value: {value2}')\n",
    "\n",
    "\n"
   ]
  },
  {
   "cell_type": "code",
   "execution_count": 8,
   "id": "b6ef259e-b4df-4b10-9da0-ad48be55403c",
   "metadata": {},
   "outputs": [],
   "source": [
    "#pushing outputs to Live Server(make sure all dimensions,measures present in LiveServer)\n",
    "O9DataLake.put('output1', predict_df)"
   ]
  },
  {
   "cell_type": "code",
   "execution_count": null,
   "id": "55189733-7f49-4e7e-8c74-62dfa8f1e339",
   "metadata": {},
   "outputs": [],
   "source": []
  }
 ],
 "metadata": {
  "kernelspec": {
   "display_name": "[SparkK8Org1Tenant1] Tenant Conda Environment",
   "language": "python",
   "name": "k8qa_sparkk8org1tenant1"
  },
  "language_info": {
   "codemirror_mode": {
    "name": "ipython",
    "version": 3
   },
   "file_extension": ".py",
   "mimetype": "text/x-python",
   "name": "python",
   "nbconvert_exporter": "python",
   "pygments_lexer": "ipython3",
   "version": "3.10.5"
  }
 },
 "nbformat": 4,
 "nbformat_minor": 5
}
