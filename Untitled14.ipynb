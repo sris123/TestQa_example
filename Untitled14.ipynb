{
  "cells": [],
  "metadata": {
    "id": "2beb5a6a-f3fe-44c9-8128-01f0516818a1"
  },
  "nbformat": 4,
  "nbformat_minor": 5
}