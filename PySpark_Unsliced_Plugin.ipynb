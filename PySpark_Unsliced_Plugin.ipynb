{
 "cells": [
  {
   "cell_type": "code",
   "execution_count": null,
   "id": "fd990d49-1c09-435e-88a4-7b98f5430d68",
   "metadata": {
    "editable": false
   },
   "outputs": [],
   "source": [
    "# This cell is NOT editable. Overwrite variables on your own discretion.\n",
    "# Any changes other than the script code will NOT BE SAVED!\n",
    "# All cells are assumed to be script code cells, unless explictly tagged as 'o9_ignore'"
   ]
  },
  {
   "cell_type": "code",
   "execution_count": 5,
   "id": "84195c0d-cc71-4d4e-8c2d-a3656f9a4ead",
   "metadata": {
    "tags": [
     "o9_ignore"
    ]
   },
   "outputs": [
    {
     "data": {
      "application/vnd.jupyter.widget-view+json": {
       "model_id": "",
       "version_major": 2,
       "version_minor": 0
      },
      "text/plain": [
       "FloatProgress(value=0.0, bar_style='info', description='Progress:', layout=Layout(height='25px', width='50%'),…"
      ]
     },
     "metadata": {},
     "output_type": "display_data"
    }
   ],
   "source": [
    "_sales = \" select ([WalmartTime_Python].[Day_Python] * [Version].[Version Name].[CurrentWorkingView] * [Department_Python].[Department_ID] * [Store_Python].[Store_ID] * {Measure.[Weekly Sales_Python]});\"\n",
    "\n",
    "\n",
    "# Initialize the O9DataLake with the input parameters and dataframes\n",
    "# Data can be accessed with O9DataLake.get(<Input Name>)\n",
    "# Overwritten values will not be reflected in the O9DataLake after initialization\n",
    "\n",
    "from o9_common_utils.O9DataLake import O9DataLake, ResourceType, DataSource,PluginSetting\n",
    "sales = O9DataLake.register(\"sales\",data_source = DataSource.LS, entity_type = ResourceType.IBPL, query = _sales,plugin_setting = PluginSetting.Inputs)\n",
    "\n",
    "O9DataLake.register(\"out\",data_source = DataSource.LS,entity_type = ResourceType.IBPL,plugin_setting = PluginSetting.Outputs)\n",
    "script_params = O9DataLake.register({\"var1\":10}, data_source = DataSource.LS,plugin_setting = PluginSetting.ScriptParam)"
   ]
  },
  {
   "cell_type": "code",
   "execution_count": 6,
   "id": "1806dc4f-91d2-4072-b760-589a7b4d56c2",
   "metadata": {},
   "outputs": [
    {
     "data": {
      "application/vnd.jupyter.widget-view+json": {
       "model_id": "",
       "version_major": 2,
       "version_minor": 0
      },
      "text/plain": [
       "FloatProgress(value=0.0, bar_style='info', description='Progress:', layout=Layout(height='25px', width='50%'),…"
      ]
     },
     "metadata": {},
     "output_type": "display_data"
    },
    {
     "name": "stdout",
     "output_type": "stream",
     "text": [
      "\"{'var1': 10}\""
     ]
    }
   ],
   "source": [
    "os.environ['script_params']"
   ]
  },
  {
   "cell_type": "code",
   "execution_count": 8,
   "id": "e597c3de-81dc-4cde-8317-303ff0fb6055",
   "metadata": {},
   "outputs": [
    {
     "data": {
      "application/vnd.jupyter.widget-view+json": {
       "model_id": "",
       "version_major": 2,
       "version_minor": 0
      },
      "text/plain": [
       "FloatProgress(value=0.0, bar_style='info', description='Progress:', layout=Layout(height='25px', width='50%'),…"
      ]
     },
     "metadata": {},
     "output_type": "display_data"
    },
    {
     "name": "stdout",
     "output_type": "stream",
     "text": [
      "{'sales': {'name': 'sales', 'resource_type': <ResourceType.IBPL: 'ibpl_query'>, 'data_source': <DataSource.LS: 'liveserver'>, 'query': ' select ([WalmartTime_Python].[Day_Python] * [Version].[Version Name].[CurrentWorkingView] * [Department_Python].[Department_ID] * [Store_Python].[Store_ID] * {Measure.[Weekly Sales_Python]});', 'std_count_limit': '200000', 'df':        WalmartTime_Python.[Day_Python]  ... Weekly Sales_Python\n",
      "0                           02-05-2010  ...            24924.50\n",
      "1                           02-05-2010  ...            50605.27\n",
      "2                           02-05-2010  ...            13740.12\n",
      "3                           02-05-2010  ...            39954.04\n",
      "4                           02-05-2010  ...            32229.38\n",
      "...                                ...  ...                 ...\n",
      "199995                      05-27-2011  ...             8103.15\n",
      "199996                      05-27-2011  ...            22966.48\n",
      "199997                      05-27-2011  ...             4451.62\n",
      "199998                      05-27-2011  ...            11478.37\n",
      "199999                      05-27-2011  ...             4896.41\n",
      "\n",
      "[200000 rows x 5 columns]}}"
     ]
    }
   ],
   "source": [
    "O9DataLake.inputs"
   ]
  },
  {
   "cell_type": "code",
   "execution_count": 9,
   "id": "aef0af88-d88c-443c-91b3-ae9288f47099",
   "metadata": {},
   "outputs": [
    {
     "data": {
      "application/vnd.jupyter.widget-view+json": {
       "model_id": "",
       "version_major": 2,
       "version_minor": 0
      },
      "text/plain": [
       "FloatProgress(value=0.0, bar_style='info', description='Progress:', layout=Layout(height='25px', width='50%'),…"
      ]
     },
     "metadata": {},
     "output_type": "display_data"
    },
    {
     "name": "stderr",
     "output_type": "stream",
     "text": [
      "An error was encountered:\n",
      "AttributeError\n",
      "[Traceback (most recent call last):\n",
      ",   File \"/tmp/spark-cc84eabe-5cb8-40d2-945f-15cdf21ef8fb/shell_wrapper.py\", line 113, in exec\n",
      "    self._exec_then_eval(code)\n",
      ",   File \"/tmp/spark-cc84eabe-5cb8-40d2-945f-15cdf21ef8fb/shell_wrapper.py\", line 105, in _exec_then_eval\n",
      "    exec(compile(block, '<string>', 'exec'), self.globals)\n",
      ",   File \"<string>\", line 14, in <module>\n",
      ",   File \"/opt/conda/envs/genieaz_smoketestops22029/lib/python3.7/site-packages/pandas/core/generic.py\", line 5141, in __getattr__\n",
      "    return object.__getattribute__(self, name)\n",
      ", AttributeError: 'DataFrame' object has no attribute 'withColumnRenamed'\n",
      "]\n"
     ]
    }
   ],
   "source": [
    "\"\"\"\n",
    "EXEC plugin instance [PySpark_Unsliced_Plugin];\n",
    "\n",
    "Output Measure Group : SalesMeasure_Walmart\n",
    "Output Measure       : Spark_Output_Measure\n",
    "\n",
    "\"\"\"\n",
    "import logging\n",
    "logger = logging.getLogger('o9_logger')\n",
    "logger.info(\"WMLogger: Reading Input Dataframes\")\n",
    "from o9_common_utils.O9DataLake import O9DataLake\n",
    "sales = O9DataLake.get(\"sales\")\n",
    "\n",
    "out = sales.withColumnRenamed(\"Weekly Sales_Python\",\"Spark_Output_Measure\")\n",
    "logger.info(out.columns)\n",
    "\n",
    "O9DataLake.put(\"out\",out)\n"
   ]
  },
  {
   "cell_type": "code",
   "execution_count": null,
   "id": "53bea00d-bd1c-4315-8eb0-9d5aea3ed373",
   "metadata": {},
   "outputs": [],
   "source": []
  }
 ],
 "metadata": {
  "kernelspec": {
   "display_name": "[SmokeTestOps22029] Tenant Conda Environment",
   "language": "python",
   "name": "genieaz_smoketestops22029"
  },
  "language_info": {
   "codemirror_mode": {
    "name": "ipython",
    "version": 3
   },
   "file_extension": ".py",
   "mimetype": "text/x-python",
   "name": "python",
   "nbconvert_exporter": "python",
   "pygments_lexer": "ipython3",
   "version": "3.7.10"
  }
 },
 "nbformat": 4,
 "nbformat_minor": 5
}
