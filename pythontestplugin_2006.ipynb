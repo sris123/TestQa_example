{
 "cells": [
  {
   "cell_type": "code",
   "execution_count": 1,
   "id": "c00f1963-6805-4b23-82f5-5e27804ae6a6",
   "metadata": {
    "editable": false
   },
   "outputs": [],
   "source": [
    "# This cell is NOT editable. Overwrite variables on your own discretion.\n",
    "# Any changes other than the script code will NOT BE SAVED!\n",
    "# All cells are assumed to be script code cells, unless explictly tagged as 'o9_ignore'"
   ]
  },
  {
   "cell_type": "code",
   "execution_count": 2,
   "id": "6976e849-e18f-4faa-9a78-11f0b7922aea",
   "metadata": {
    "tags": [
     "o9_ignore"
    ]
   },
   "outputs": [],
   "source": [
    "# Slice Dimension Attributes defined in the plugin. Please check all queries and replace <KEY HERE> with a valid name.\n",
    "# For example: If slice is defined by Version.[Version Name] and Time.[Month]\n",
    "# input_df = ibpl Select ([Version].[Version Name].[<KEY HERE>] * [Time].[Month].[<KEY HERE>] * [Item].[Item Number]) on row, ({Measure.[M1], Measure.[M2]}) on column limit 5000;\n",
    "#                             update <KEY HERE> to valid names\n",
    "# input_df = ibpl Select ([Version].[Version Name].[CurrentWorkingView] * [Time].[Month].[January] * [Item].[Item Number]) on row, ({Measure.[M1], Measure.[M2]}) on column limit 5000;\n",
    "\n",
    "_sales = \"Select ([Version].[Version Name]);\"\n",
    "_features = \"Select ([Version].[Version Name]);\"\n",
    "\n",
    "\n",
    "# Initialize the O9DataLake with the input parameters and dataframes\n",
    "# Data can be accessed with O9DataLake.get(<Input Name>)\n",
    "# Overwritten values will not be reflected in the O9DataLake after initialization\n",
    "\n",
    "from o9_common_utils.O9DataLake import O9DataLake, ResourceType, DataSource\n",
    "sales = O9DataLake.register(\"sales\",DataSource.LS, ResourceType.IBPL, _sales)\n",
    "features = O9DataLake.register(\"features\",DataSource.LS, ResourceType.IBPL, _features)"
   ]
  },
  {
   "cell_type": "code",
   "execution_count": 3,
   "id": "0df710cb-1b28-421c-8943-83d8d9e36240",
   "metadata": {},
   "outputs": [],
   "source": [
    "#getting inputs from DataLake\n",
    "sales = O9DataLake.get('sales')\n",
    "features = O9DataLake.get('features')\n",
    "\n",
    "\n"
   ]
  },
  {
   "cell_type": "code",
   "execution_count": 4,
   "id": "7555fca3-d552-4352-99f4-acc0903a3b9b",
   "metadata": {},
   "outputs": [
    {
     "name": "stdout",
     "output_type": "stream",
     "text": [
      "INFO : Records count in sales dataframe : (2, 1)\n",
      "INFO : Records count in DPBaseInputs dataframe : (2, 1)\n",
      "ERROR: Please check the logs on Debugging workspace for more information\n"
     ]
    }
   ],
   "source": [
    "#user script\n",
    "import logging\n",
    "out_df1 = None\n",
    "logger = logging.getLogger('o9_logger')\n",
    "logger.info(f'Records count in sales dataframe : {sales.shape}')\n",
    "logger.info(f'Records count in DPBaseInputs dataframe : {features.shape}')\n",
    "\n",
    "#pushing outputs to DataLake o9\n",
    "O9DataLake.put('out_df1', sales)"
   ]
  }
 ],
 "metadata": {
  "kernelspec": {
   "display_name": "[ComcastXMDataSciDev] Tenant Conda Environment",
   "language": "python",
   "name": "preprod_comcastxmdatascidev"
  },
  "language_info": {
   "codemirror_mode": {
    "name": "ipython",
    "version": 3
   },
   "file_extension": ".py",
   "mimetype": "text/x-python",
   "name": "python",
   "nbconvert_exporter": "python",
   "pygments_lexer": "ipython3",
   "version": "3.7.10"
  },
  "notebook_dict": {
   "ClassName": "o9.GraphCube.Plugins.Python.PythonScript",
   "InstanceName": "dsmltestplugin2",
   "SliceKeys": [
    {
     "AttributeName": "Version Name",
     "DimensionName": "Version"
    }
   ],
   "file_path": "loaded_notebooks/dsmltestplugin2.ipynb",
   "o9_selected_plugin_id": 15248
  }
 },
 "nbformat": 4,
 "nbformat_minor": 5
}
