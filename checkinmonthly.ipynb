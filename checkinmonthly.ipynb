{
 "cells": [
  {
   "cell_type": "code",
   "execution_count": 4,
   "id": "8204bb2c-bc2d-496d-86bc-051cdb0b2e28",
   "metadata": {},
   "outputs": [],
   "source": [
    "_DPBaseInputs = \"select (Version.[Version Name]*Product.[Product].[196426]*Time.FiscalWeek*SalesAccount.[Account]*Location.[Location]*{Measure.[DPSellOutUnitsActuals],Measure.[Mean Pricing Save PCT],Measure.[Placement Count],Measure.[Promotion Count],Measure.[DPSellOutPrice]});\"\n",
    "_sales_df = \"select (Version.[Version Name]*Product.[Product].[196426]*Time.FiscalWeek*SalesAccount.[Account]*Location.[Location]*{Measure.[DPSellOutUnitsActuals],Measure.[Mean Pricing Save PCT],Measure.[Placement Count],Measure.[Promotion Count],Measure.[DPSellOutPrice]});\"\n",
    "\n",
    "\n",
    "# Initialize the O9DataLake with the input parameters and dataframes\n",
    "# Data can be accessed with O9DataLake.get(<Input Name>)\n",
    "# Overwritten values will not be reflected in the O9DataLake after initialization\n",
    "\n",
    "from o9_common_utils.O9DataLake import O9DataLake, ResourceType, DataSource,PluginSetting\n",
    "DPBaseInputs = O9DataLake.register(\"DPBaseInputs\",data_source = DataSource.LS, entity_type = ResourceType.IBPL, query = _DPBaseInputs,plugin_setting = PluginSetting.Inputs)\n",
    "sales_df = O9DataLake.register(\"sales_df\",data_source = DataSource.LS, entity_type = ResourceType.IBPL, query = _sales_df,plugin_setting = PluginSetting.Inputs)\n",
    "\n",
    "O9DataLake.register(\"PredictedSales\",data_source = DataSource.LS,entity_type = ResourceType.IBPL,plugin_setting = PluginSetting.Outputs)\n",
    "script_params = O9DataLake.register({\"var1\":10}, data_source = DataSource.LS,plugin_setting = PluginSetting.ScriptParam)"
   ]
  },
  {
   "cell_type": "code",
   "execution_count": 5,
   "id": "c239c19c-cd9c-4014-89aa-b0355aa34ba7",
   "metadata": {},
   "outputs": [],
   "source": [
    "#getting inputs from DataLake\n",
    "sales = O9DataLake.get('sales_df')\n",
    "dpbaseinputs = O9DataLake.get('DPBaseInputs')"
   ]
  },
  {
   "cell_type": "code",
   "execution_count": 6,
   "id": "8619fc1f-b136-4dd5-8167-2fd5d850deb9",
   "metadata": {},
   "outputs": [
    {
     "data": {
      "text/plain": [
       "{'DPBaseInputs': {'name': 'DPBaseInputs',\n",
       "  'resource_type': <ResourceType.IBPL: 'ibpl_query'>,\n",
       "  'data_source': <DataSource.LS: 'liveserver'>,\n",
       "  'query': 'select (Version.[Version Name]*Product.[Product].[196426]*Time.FiscalWeek*SalesAccount.[Account]*Location.[Location]*{Measure.[DPSellOutUnitsActuals],Measure.[Mean Pricing Save PCT],Measure.[Placement Count],Measure.[Promotion Count],Measure.[DPSellOutPrice]});',\n",
       "  'std_count_limit': '200000',\n",
       "  'df':      Version.[Version Name]  Product.[Product] Time.[FiscalWeek]  \\\n",
       "  0        CurrentWorkingView             196426          W01-2015   \n",
       "  1        CurrentWorkingView             196426          W02-2015   \n",
       "  2        CurrentWorkingView             196426          W03-2015   \n",
       "  3        CurrentWorkingView             196426          W04-2015   \n",
       "  4        CurrentWorkingView             196426          W05-2015   \n",
       "  ...                     ...                ...               ...   \n",
       "  1458     CurrentWorkingView             196426          W48-2021   \n",
       "  1459     CurrentWorkingView             196426          W49-2021   \n",
       "  1460     CurrentWorkingView             196426          W50-2021   \n",
       "  1461     CurrentWorkingView             196426          W51-2021   \n",
       "  1462     CurrentWorkingView             196426          W52-2021   \n",
       "  \n",
       "       SalesAccount.[Account] Location.[Location]  DPSellOutUnitsActuals  \\\n",
       "  0                Customer_1             Store_1                 102.90   \n",
       "  1                Customer_1             Store_1                 103.80   \n",
       "  2                Customer_1             Store_1                 100.75   \n",
       "  3                Customer_1             Store_1                 102.44   \n",
       "  4                Customer_1             Store_1                 100.50   \n",
       "  ...                     ...                 ...                    ...   \n",
       "  1458                    ALL                 ALL                 101.60   \n",
       "  1459                    ALL                 ALL                 102.94   \n",
       "  1460                    ALL                 ALL                 100.50   \n",
       "  1461                    ALL                 ALL                 104.56   \n",
       "  1462                    ALL                 ALL                 100.10   \n",
       "  \n",
       "        Mean Pricing Save PCT  Placement Count  Promotion Count  DPSellOutPrice  \n",
       "  0                    103.90           103.80           104.80          102.20  \n",
       "  1                    103.80           101.30           101.40          100.70  \n",
       "  2                    101.20           100.75           102.30          100.94  \n",
       "  3                    106.56           102.30           101.90          105.00  \n",
       "  4                    106.00           103.10           100.06          105.06  \n",
       "  ...                     ...              ...              ...             ...  \n",
       "  1458                 101.56           101.10           102.60          100.44  \n",
       "  1459                 103.30           104.20           105.30          101.75  \n",
       "  1460                 102.40           102.00           100.44          101.40  \n",
       "  1461                 103.50           100.94           100.20          102.75  \n",
       "  1462                 105.75           103.00           100.56          104.06  \n",
       "  \n",
       "  [1463 rows x 10 columns]},\n",
       " 'sales_df': {'name': 'sales_df',\n",
       "  'resource_type': <ResourceType.IBPL: 'ibpl_query'>,\n",
       "  'data_source': <DataSource.LS: 'liveserver'>,\n",
       "  'query': 'select (Version.[Version Name]*Product.[Product].[196426]*Time.FiscalWeek*SalesAccount.[Account]*Location.[Location]*{Measure.[DPSellOutUnitsActuals],Measure.[Mean Pricing Save PCT],Measure.[Placement Count],Measure.[Promotion Count],Measure.[DPSellOutPrice]});',\n",
       "  'std_count_limit': '200000',\n",
       "  'df':      Version.[Version Name]  Product.[Product] Time.[FiscalWeek]  \\\n",
       "  0        CurrentWorkingView             196426          W01-2015   \n",
       "  1        CurrentWorkingView             196426          W02-2015   \n",
       "  2        CurrentWorkingView             196426          W03-2015   \n",
       "  3        CurrentWorkingView             196426          W04-2015   \n",
       "  4        CurrentWorkingView             196426          W05-2015   \n",
       "  ...                     ...                ...               ...   \n",
       "  1458     CurrentWorkingView             196426          W48-2021   \n",
       "  1459     CurrentWorkingView             196426          W49-2021   \n",
       "  1460     CurrentWorkingView             196426          W50-2021   \n",
       "  1461     CurrentWorkingView             196426          W51-2021   \n",
       "  1462     CurrentWorkingView             196426          W52-2021   \n",
       "  \n",
       "       SalesAccount.[Account] Location.[Location]  DPSellOutUnitsActuals  \\\n",
       "  0                Customer_1             Store_1                 102.90   \n",
       "  1                Customer_1             Store_1                 103.80   \n",
       "  2                Customer_1             Store_1                 100.75   \n",
       "  3                Customer_1             Store_1                 102.44   \n",
       "  4                Customer_1             Store_1                 100.50   \n",
       "  ...                     ...                 ...                    ...   \n",
       "  1458                    ALL                 ALL                 101.60   \n",
       "  1459                    ALL                 ALL                 102.94   \n",
       "  1460                    ALL                 ALL                 100.50   \n",
       "  1461                    ALL                 ALL                 104.56   \n",
       "  1462                    ALL                 ALL                 100.10   \n",
       "  \n",
       "        Mean Pricing Save PCT  Placement Count  Promotion Count  DPSellOutPrice  \n",
       "  0                    103.90           103.80           104.80          102.20  \n",
       "  1                    103.80           101.30           101.40          100.70  \n",
       "  2                    101.20           100.75           102.30          100.94  \n",
       "  3                    106.56           102.30           101.90          105.00  \n",
       "  4                    106.00           103.10           100.06          105.06  \n",
       "  ...                     ...              ...              ...             ...  \n",
       "  1458                 101.56           101.10           102.60          100.44  \n",
       "  1459                 103.30           104.20           105.30          101.75  \n",
       "  1460                 102.40           102.00           100.44          101.40  \n",
       "  1461                 103.50           100.94           100.20          102.75  \n",
       "  1462                 105.75           103.00           100.56          104.06  \n",
       "  \n",
       "  [1463 rows x 10 columns]}}"
      ]
     },
     "execution_count": 6,
     "metadata": {},
     "output_type": "execute_result"
    }
   ],
   "source": [
    "O9DataLake.inputs"
   ]
  },
  {
   "cell_type": "code",
   "execution_count": 7,
   "id": "31fa8c46-cab9-437e-9f46-42f649dbd190",
   "metadata": {},
   "outputs": [
    {
     "name": "stdout",
     "output_type": "stream",
     "text": [
      "2024-09-30 13:37:43,341 - o9_logger - INFO  - python plugin\n"
     ]
    }
   ],
   "source": [
    "#user script\n",
    "import logging\n",
    "out_df1 = None\n",
    "logger = logging.getLogger('o9_logger')\n",
    "logger.info(\"python plugin\")"
   ]
  },
  {
   "cell_type": "code",
   "execution_count": 8,
   "id": "f314f880-ce1f-48cc-a05b-306d896e42e7",
   "metadata": {},
   "outputs": [],
   "source": [
    "#pushing outputs to DataLake\n",
    "O9DataLake.put('out_df1', sales)"
   ]
  }
 ],
 "metadata": {
  "kernelspec": {
   "display_name": "[SparkK8Org1Tenant1] Tenant Conda Environment",
   "language": "python",
   "name": "qabambi_sparkk8org1tenant1"
  },
  "language_info": {
   "codemirror_mode": {
    "name": "ipython",
    "version": 3
   },
   "file_extension": ".py",
   "mimetype": "text/x-python",
   "name": "python",
   "nbconvert_exporter": "python",
   "pygments_lexer": "ipython3",
   "version": "3.10.5"
  }
 },
 "nbformat": 4,
 "nbformat_minor": 5
}
