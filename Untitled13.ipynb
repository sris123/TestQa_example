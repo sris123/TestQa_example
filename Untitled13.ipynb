{
  "cells": [
    {
      "cell_type": "code",
      "execution_count": null,
      "id": "76ee3689-f8f3-4034-90a0-cb7a59704a8a",
      "metadata": {},
      "outputs": [],
      "source": []
    }
  ],
  "metadata": {
    "id": "ef7c7af4-44bc-4db5-b673-4e43a85e9247",
    "kernelspec": {
      "display_name": "[AutoDSML2] Tenant Conda Environment",
      "language": "python",
      "name": "qa_autodsml2"
    },
    "language_info": {
      "codemirror_mode": {
        "name": "ipython",
        "version": 3
      },
      "file_extension": ".py",
      "mimetype": "text/x-python",
      "name": "python",
      "nbconvert_exporter": "python",
      "pygments_lexer": "ipython3",
      "version": "3.7.10"
    }
  },
  "nbformat": 4,
  "nbformat_minor": 5
}