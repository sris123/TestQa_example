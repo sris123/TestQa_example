{
 "cells": [
  {
   "cell_type": "code",
   "execution_count": 79,
   "id": "e5f8cddd-5027-41a9-8f05-a42b835c60ac",
   "metadata": {
    "tags": [
     "o9_ignore"
    ]
   },
   "outputs": [
    {
     "data": {
      "application/vnd.jupyter.widget-view+json": {
       "model_id": "",
       "version_major": 2,
       "version_minor": 0
      },
      "text/plain": [
       "FloatProgress(value=0.0, bar_style='info', description='Progress:', layout=Layout(height='25px', width='50%'),…"
      ]
     },
     "metadata": {},
     "output_type": "display_data"
    }
   ],
   "source": [
    "# Slice Dimension Attributes defined in the plugin. Please check all queries and replace <KEY HERE> with a valid name.\n",
    "# For example: If slice is defined by Version.[Version Name] and Time.[Month]\n",
    "# input_df = ibpl Select ([Version].[Version Name].[<KEY HERE>] * [Time].[Month].[<KEY HERE>] * [Item].[Item Number]) on row, ({Measure.[M1], Measure.[M2]}) on column limit 5000;\n",
    "#                             update <KEY HERE> to valid names\n",
    "# input_df = ibpl Select ([Version].[Version Name].[CurrentWorkingView] * [Time].[Month].[January] * [Item].[Item Number]) on row, ({Measure.[M1], Measure.[M2]}) on column limit 5000;\n",
    "\n",
    "_sales = \"select ([WalmartTime].[Day] * [Version].[Version Name].[CurrentWorkingView]  * [Department].[Department_ID].[<KEY HERE>] * [Store].[Store_ID] * {Measure.[Weekly Sales]}  );\"\n",
    "_stores = \"select([Store].[Store_ID] * [Store].[Type]  * [Store].[Size]);\"\n",
    "_features = \"select( [WalmartTime].[Day] * [Version].[Version Name].[CurrentWorkingView] * [Store].[Store_ID] * { Measure.[Temperature], Measure.[Fuel Price], Measure.[MarkDown1] , Measure.[MarkDown2], Measure.[MarkDown3], Measure.[MarkDown4] , Measure.[MarkDown5] , Measure.[CPI] , Measure.[Unemployment] } );\"\n",
    "\n",
    "# Initialize the O9DataLake with the input parameters and dataframes\n",
    "# Data can be accessed with O9DataLake.get(<Input Name>)\n",
    "# Overwritten values will not be reflected in the O9DataLake after initialization\n",
    "\n",
    "from o9_common_utils.O9DataLake import O9DataLake, ResourceType, DataSource,PluginSetting\n",
    "sales = O9DataLake.register(\"sales\",data_source = DataSource.LS, entity_type = ResourceType.IBPL, query = _sales,plugin_setting = PluginSetting.Inputs)\n",
    "stores = O9DataLake.register(\"stores\",data_source = DataSource.LS, entity_type = ResourceType.IBPL, query = _stores,plugin_setting = PluginSetting.Inputs)\n",
    "features = O9DataLake.register(\"features\",data_source = DataSource.LS, entity_type = ResourceType.IBPL, query = _features,plugin_setting = PluginSetting.Inputs)\n",
    "liveinput = O9DataLake.register(\"WeeklySales\",data_source = DataSource.LIVEFRAME,entity_type = ResourceType.LIVEFRAME,plugin_setting = PluginSetting.Inputs)\n",
    "\n",
    "O9DataLake.register(\"Department.[Department_ID]\", data_source = DataSource.LS, entity_type = ResourceType.IBPL,plugin_setting = PluginSetting.SliceDimension)\n",
    "\n",
    "O9DataLake.register(\"PredictedSales\",data_source = DataSource.LS,entity_type = ResourceType.IBPL,plugin_setting = PluginSetting.Outputs)\n",
    "O9DataLake.register(\"output1\",data_source = DataSource.LS,entity_type = ResourceType.IBPL, plugin_setting = PluginSetting.Outputs)\n",
    "\n",
    "script_params = O9DataLake.register({\"var1\":10}, data_source = DataSource.LS,plugin_setting = PluginSetting.ScriptParam)"
   ]
  },
  {
   "cell_type": "code",
   "execution_count": 80,
   "id": "086a3c93-2c3c-461d-9d0f-44a37497b147",
   "metadata": {
    "tags": [
     "o9_ignore"
    ]
   },
   "outputs": [
    {
     "data": {
      "application/vnd.jupyter.widget-view+json": {
       "model_id": "",
       "version_major": 2,
       "version_minor": 0
      },
      "text/plain": [
       "FloatProgress(value=0.0, bar_style='info', description='Progress:', layout=Layout(height='25px', width='50%'),…"
      ]
     },
     "metadata": {},
     "output_type": "display_data"
    },
    {
     "name": "stdout",
     "output_type": "stream",
     "text": [
      "{'var1': 10}"
     ]
    }
   ],
   "source": [
    "O9DataLake.get_script_params()"
   ]
  },
  {
   "cell_type": "code",
   "execution_count": 7,
   "id": "dc7eb5cf-dcd1-42c3-a1ee-fd7775b4e449",
   "metadata": {
    "tags": [
     "o9_ignore"
    ]
   },
   "outputs": [
    {
     "data": {
      "application/vnd.jupyter.widget-view+json": {
       "model_id": "",
       "version_major": 2,
       "version_minor": 0
      },
      "text/plain": [
       "FloatProgress(value=0.0, bar_style='info', description='Progress:', layout=Layout(height='25px', width='50%'),…"
      ]
     },
     "metadata": {},
     "output_type": "display_data"
    },
    {
     "name": "stdout",
     "output_type": "stream",
     "text": [
      "{'sales': {'name': 'sales', 'resource_type': <ResourceType.IBPL: 'ibpl_query'>, 'data_source': <DataSource.LS: 'liveserver'>, 'query': 'select ([WalmartTime].[Day] * [Version].[Version Name].[CurrentWorkingView]  * [Department].[Department_ID].[<KEY HERE>] * [Store].[Store_ID] * {Measure.[Weekly Sales]}  );', 'std_count_limit': '200000', 'df': Empty DataFrame\n",
      "Columns: [WalmartTime.[Day], Version.[Version Name], Department.[Department_ID], Store.[Store_ID], Weekly Sales]\n",
      "Index: []}, 'stores': {'name': 'stores', 'resource_type': <ResourceType.IBPL: 'ibpl_query'>, 'data_source': <DataSource.LS: 'liveserver'>, 'query': 'select([Store].[Store_ID] * [Store].[Type]  * [Store].[Size]);', 'std_count_limit': '200000', 'df':     Store.[Store_ID] Store.[Type]  Store.[Size]\n",
      "0                  1            A        151315\n",
      "1                 10            B        126512\n",
      "2                 11            A        207499\n",
      "3                 12            B        112238\n",
      "4                 13            A        219622\n",
      "5                 14            A        200898\n",
      "6                 15            B        123737\n",
      "7                 16            B         57197\n",
      "8                 17            B         93188\n",
      "9                 18            B        120653\n",
      "10                19            A        203819\n",
      "11                 2            A        202307\n",
      "12                20            A        203742\n",
      "13                21            B        140167\n",
      "14                22            B        119557\n",
      "15                23            B        114533\n",
      "16                24            A        203819\n",
      "17                25            B        128107\n",
      "18                26            A        152513\n",
      "19                27            A        204184\n",
      "20                28            A        206302\n",
      "21                29            B         93638\n",
      "22                 3            B         37392\n",
      "23                30            C         42988\n",
      "24                31            A        203750\n",
      "25                32            A        203007\n",
      "26                33            A         39690\n",
      "27                34            A        158114\n",
      "28                35            B        103681\n",
      "29                36            A         39910\n",
      "30                37            C         39910\n",
      "31                38            C         39690\n",
      "32                39            A        184109\n",
      "33                 4            A        205863\n",
      "34                40            A        155083\n",
      "35                41            A        196321\n",
      "36                42            C         39690\n",
      "37                43            C         41062\n",
      "38                44            C         39910\n",
      "39                45            B        118221\n",
      "40                 5            B         34875\n",
      "41                 6            A        202505\n",
      "42                 7            B         70713\n",
      "43                 8            A        155078\n",
      "44                 9            B        125833}, 'features': {'name': 'features', 'resource_type': <ResourceType.IBPL: 'ibpl_query'>, 'data_source': <DataSource.LS: 'liveserver'>, 'query': 'select( [WalmartTime].[Day] * [Version].[Version Name].[CurrentWorkingView] * [Store].[Store_ID] * { Measure.[Temperature], Measure.[Fuel Price], Measure.[MarkDown1] , Measure.[MarkDown2], Measure.[MarkDown3], Measure.[MarkDown4] , Measure.[MarkDown5] , Measure.[CPI] , Measure.[Unemployment] } );', 'std_count_limit': '200000', 'df':      WalmartTime.[Day] Version.[Version Name]  ...         CPI  Unemployment\n",
      "0           02-05-2010     CurrentWorkingView  ...  211.096358         8.106\n",
      "1           02-05-2010     CurrentWorkingView  ...  130.741379         7.545\n",
      "2           02-05-2010     CurrentWorkingView  ...  214.666074         7.343\n",
      "3           02-05-2010     CurrentWorkingView  ...  131.037548        11.627\n",
      "4           02-05-2010     CurrentWorkingView  ...  126.128355         7.951\n",
      "...                ...                    ...  ...         ...           ...\n",
      "8185        07-26-2013     CurrentWorkingView  ...  220.476019         5.943\n",
      "8186        07-26-2013     CurrentWorkingView  ...  211.894272         7.092\n",
      "8187        07-26-2013     CurrentWorkingView  ...  196.919506         8.256\n",
      "8188        07-26-2013     CurrentWorkingView  ...  214.250032         6.290\n",
      "8189        07-26-2013     CurrentWorkingView  ...  224.804683         5.667\n",
      "\n",
      "[8190 rows x 12 columns]}, 'WeeklySales': {'name': 'WeeklySales', 'resource_type': <ResourceType.LIVEFRAME: 'liveframe'>, 'data_source': <DataSource.LIVEFRAME: 'liveframe'>, 'query': 'SELECT ([WalmartTime].[Day].filter(#.[Day$InActive] in { false }) * {Measure.[Weekly Sales] , Measure.[CPI] , Measure.[Fuel Price] , Measure.[MarkDown1] , Measure.[MarkDown2] , Measure.[MarkDown3] , Measure.[MarkDown4] , Measure.[MarkDown5] , Measure.[Temperature] , Measure.[Unemployment]} * [Department].[Department_ID].filter(#.[Department_ID$InActive] in { false }) * [Store].[Store_ID].filter(#.[Store_ID$InActive] in { false })) on row, () on column include lcid 1033, cellproperties {LOCK, BG_COLOR, FG_COLOR} where {[Version].[Version Name].filter(#.Name in { \"CurrentWorkingView\" }).filter(#.[Version Name$InActive] in { false })} ORDERBY [WalmartTime].[Day].[Key] ASC ;', 'LiveFrameReportId': '6eebe290-2eac-40e6-b1b5-f7b1fd5813c2', 'std_count_limit': '200000', 'df':        WalmartTime.[Day]  Department.[Department_ID]  ...  Temperature  Unemployment\n",
      "0             02-05-2010                           1  ...        42.31         8.106\n",
      "1             02-05-2010                           1  ...        57.65         7.545\n",
      "2             02-05-2010                           1  ...        84.50         7.343\n",
      "3             02-05-2010                           1  ...        64.05        11.627\n",
      "4             02-05-2010                           1  ...        82.27         7.951\n",
      "...                  ...                         ...  ...          ...           ...\n",
      "199995        05-27-2011                          10  ...        33.68         5.124\n",
      "199996        05-27-2011                          10  ...        71.90         6.380\n",
      "199997        05-27-2011                          11  ...        52.33         7.838\n",
      "199998        05-27-2011                          11  ...        59.76         6.897\n",
      "199999        05-27-2011                          11  ...        80.93         7.574\n",
      "\n",
      "[200000 rows x 13 columns]}}"
     ]
    }
   ],
   "source": [
    "O9DataLake.inputs"
   ]
  },
  {
   "cell_type": "code",
   "execution_count": 8,
   "id": "8c8d13f0-c9de-4a80-81d1-95e2096407b5",
   "metadata": {},
   "outputs": [
    {
     "data": {
      "application/vnd.jupyter.widget-view+json": {
       "model_id": "",
       "version_major": 2,
       "version_minor": 0
      },
      "text/plain": [
       "FloatProgress(value=0.0, bar_style='info', description='Progress:', layout=Layout(height='25px', width='50%'),…"
      ]
     },
     "metadata": {},
     "output_type": "display_data"
    }
   ],
   "source": [
    "liveinput = O9DataLake.get('WeeklySales')\n"
   ]
  },
  {
   "cell_type": "code",
   "execution_count": 9,
   "id": "d177e414-aadf-423a-a6f1-0b63c44641fd",
   "metadata": {},
   "outputs": [
    {
     "data": {
      "application/vnd.jupyter.widget-view+json": {
       "model_id": "",
       "version_major": 2,
       "version_minor": 0
      },
      "text/plain": [
       "FloatProgress(value=0.0, bar_style='info', description='Progress:', layout=Layout(height='25px', width='50%'),…"
      ]
     },
     "metadata": {},
     "output_type": "display_data"
    },
    {
     "name": "stdout",
     "output_type": "stream",
     "text": [
      "2023-11-08 07:58:09,173 - o9_logger - INFO - Liveframe use\n",
      "2023-11-08 07:58:09,174 - o9_logger - DEBUG - liveinput dataframe:  (200000, 13)\n",
      "2023-11-08 07:58:09,174 - o9_logger - DEBUG - script param var1 value: 10"
     ]
    }
   ],
   "source": [
    "#user script\n",
    "import logging\n",
    "output1 = None\n",
    "logger = logging.getLogger('o9_logger')\n",
    "value1 = O9DataLake.get_script_param(\"var1\")\n",
    "\n",
    "logger.info(\"Liveframe use\")\n",
    "logger.debug(f'liveinput dataframe:  {liveinput.shape}')\n",
    "logger.debug(f'script param var1 value: {value1}')"
   ]
  },
  {
   "cell_type": "code",
   "execution_count": 10,
   "id": "13f42664-4fd5-40f2-a615-50397412ad96",
   "metadata": {},
   "outputs": [
    {
     "data": {
      "application/vnd.jupyter.widget-view+json": {
       "model_id": "",
       "version_major": 2,
       "version_minor": 0
      },
      "text/plain": [
       "FloatProgress(value=0.0, bar_style='info', description='Progress:', layout=Layout(height='25px', width='50%'),…"
      ]
     },
     "metadata": {},
     "output_type": "display_data"
    }
   ],
   "source": [
    "output1 = liveinput"
   ]
  },
  {
   "cell_type": "code",
   "execution_count": 11,
   "id": "940fdd41-ce06-4817-ab24-b762e7a33595",
   "metadata": {},
   "outputs": [
    {
     "data": {
      "application/vnd.jupyter.widget-view+json": {
       "model_id": "",
       "version_major": 2,
       "version_minor": 0
      },
      "text/plain": [
       "FloatProgress(value=0.0, bar_style='info', description='Progress:', layout=Layout(height='25px', width='50%'),…"
      ]
     },
     "metadata": {},
     "output_type": "display_data"
    },
    {
     "name": "stdout",
     "output_type": "stream",
     "text": [
      "2023-11-08 13:29:05.778543: LiveServer : Failed to parse file. Cannot parse the header row.\n",
      "2023-11-08 13:29:05.778565: LiveServer : Header:[System.String[]]\n",
      "2023-11-08 13:29:05.778569: LiveServer : Measure [Weekly Sales] is not setup for spreading\n",
      "2023-11-08 13:29:05.778573: LiveServer :    at o9.GraphCube.olap.procedures.fileupload.FactBaseParser.ValidateHeader() in D:\\Jenkins\\jobs\\o9AzLiveServerGrpcCompileNet6\\workspaceQrtly\\o9.Platform\\LiveServer\\Server\\o9.GraphCube\\olap\\procedures\\fileupload\\FactBaseParser.cs:line 792\n",
      "   at o9.GraphCube.olap.procedures.fileupload.FactDSVParser.Parse() in D:\\Jenkins\\jobs\\o9AzLiveServerGrpcCompileNet6\\workspaceQrtly\\o9.Platform\\LiveServer\\Server\\o9.GraphCube\\olap\\procedures\\fileupload\\FactDSVParser.cs:line 54"
     ]
    }
   ],
   "source": [
    "O9DataLake.put('output1', output1)"
   ]
  },
  {
   "cell_type": "code",
   "execution_count": 53,
   "id": "2afa65fb-287c-457c-af27-2267669c79a8",
   "metadata": {},
   "outputs": [
    {
     "data": {
      "application/vnd.jupyter.widget-view+json": {
       "model_id": "",
       "version_major": 2,
       "version_minor": 0
      },
      "text/plain": [
       "FloatProgress(value=0.0, bar_style='info', description='Progress:', layout=Layout(height='25px', width='50%'),…"
      ]
     },
     "metadata": {},
     "output_type": "display_data"
    }
   ],
   "source": [
    "data = [('James','','Smith','1991-04-01','M',3000),\n",
    "  ('Michael','Rose','','2000-05-19','M',4000),\n",
    "  ('Robert','','Williams','1978-09-05','M',4000),\n",
    "  ('Maria','Anne','Jones','1967-12-01','F',4000),\n",
    "  ('Jen','Mary','Brown','1980-02-17','F',-1)\n",
    "]\n",
    "columns = [\"firstname\",\"middlename\",\"lastname\",\"dob\",\"gender\",\"salary\"]\n",
    "df = spark.createDataFrame(data=data, schema = columns)\n"
   ]
  },
  {
   "cell_type": "code",
   "execution_count": 54,
   "id": "401166ed-dfbf-44d0-9af4-81f372e2f9b0",
   "metadata": {},
   "outputs": [
    {
     "data": {
      "application/vnd.jupyter.widget-view+json": {
       "model_id": "",
       "version_major": 2,
       "version_minor": 0
      },
      "text/plain": [
       "FloatProgress(value=0.0, bar_style='info', description='Progress:', layout=Layout(height='25px', width='50%'),…"
      ]
     },
     "metadata": {},
     "output_type": "display_data"
    },
    {
     "name": "stdout",
     "output_type": "stream",
     "text": [
      "+---------+----------+--------+----------+------+------+\n",
      "|firstname|middlename|lastname|       dob|gender|salary|\n",
      "+---------+----------+--------+----------+------+------+\n",
      "|    James|          |   Smith|1991-04-01|     M|  3000|\n",
      "|  Michael|      Rose|        |2000-05-19|     M|  4000|\n",
      "|   Robert|          |Williams|1978-09-05|     M|  4000|\n",
      "|    Maria|      Anne|   Jones|1967-12-01|     F|  4000|\n",
      "|      Jen|      Mary|   Brown|1980-02-17|     F|    -1|\n",
      "+---------+----------+--------+----------+------+------+"
     ]
    }
   ],
   "source": [
    "df.show()"
   ]
  },
  {
   "cell_type": "code",
   "execution_count": null,
   "id": "3f6b7a39-1d87-4ad3-97fc-6fe473f4f1ee",
   "metadata": {},
   "outputs": [],
   "source": []
  }
 ],
 "metadata": {
  "id": "c85ad25b-95c9-4b93-948e-06989e356e14",
  "kernelspec": {
   "display_name": "[pyplatformhivetest] Tenant Conda Environment",
   "language": "python",
   "name": "genieaz_pyplatformhivetest"
  },
  "language_info": {
   "codemirror_mode": {
    "name": "ipython",
    "version": 3
   },
   "file_extension": ".py",
   "mimetype": "text/x-python",
   "name": "python",
   "nbconvert_exporter": "python",
   "pygments_lexer": "ipython3",
   "version": "3.7.10"
  }
 },
 "nbformat": 4,
 "nbformat_minor": 5
}
