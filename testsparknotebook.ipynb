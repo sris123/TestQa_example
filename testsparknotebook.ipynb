{
 "cells": [
  {
   "cell_type": "code",
   "execution_count": 3,
   "id": "142b2e96-2207-433d-a719-b98997739e63",
   "metadata": {
    "tags": [
     "o9_ignore"
    ]
   },
   "outputs": [
    {
     "data": {
      "application/vnd.jupyter.widget-view+json": {
       "model_id": "",
       "version_major": 2,
       "version_minor": 0
      },
      "text/plain": [
       "FloatProgress(value=0.0, bar_style='info', description='Progress:', layout=Layout(height='25px', width='50%'),…"
      ]
     },
     "metadata": {},
     "output_type": "display_data"
    },
    {
     "name": "stdout",
     "output_type": "stream",
     "text": [
      "2023-10-09 12:00:09,890 - o9_logger - ERROR - Error in setting logs. [Errno 2] No such file or directory: '/var/log/jupyterhub/startup.log'"
     ]
    }
   ],
   "source": [
    "_DPBaseInputs = \"select (Version.[Version Name]*Product.[Product].Filter(#.Name in {[196426],[208821]})*Time.FiscalWeek*SalesAccount.[Account]*Location.[Location]*{Measure.[DPSellOutUnitsActuals],Measure.[Mean Pricing Save PCT],Measure.[Placement Count],Measure.[Promotion Count],Measure.[DPSellOutPrice]});\"\n",
    "\n",
    "\n",
    "# Initialize the O9DataLake with the input parameters and dataframes\n",
    "# Data can be accessed with O9DataLake.get(<Input Name>)\n",
    "# Overwritten values will not be reflected in the O9DataLake after initialization\n",
    "\n",
    "from o9_common_utils.O9DataLake import O9DataLake, ResourceType, DataSource,PluginSetting\n",
    "DPBaseInputs = O9DataLake.register(\"DPBaseInputs\",data_source = DataSource.LS, entity_type = ResourceType.IBPL, query = _DPBaseInputs,plugin_setting = PluginSetting.Inputs)\n",
    "O9DataLake.register(\"Product.[Product]\", data_source = DataSource.LS, entity_type = ResourceType.IBPL,plugin_setting = PluginSetting.SliceDimension)\n",
    "\n",
    "O9DataLake.register(\"out_df\",data_source = DataSource.LS,entity_type = ResourceType.IBPL,plugin_setting = PluginSetting.Outputs)\n",
    "script_params = O9DataLake.register({\"var1\":\"10\"}, data_source = DataSource.LS,plugin_setting = PluginSetting.ScriptParam)"
   ]
  },
  {
   "cell_type": "code",
   "execution_count": 8,
   "id": "2ac2f71b-ec44-42ca-a082-2dc9916d7df8",
   "metadata": {
    "tags": [
     "o9_ignore"
    ]
   },
   "outputs": [
    {
     "data": {
      "application/vnd.jupyter.widget-view+json": {
       "model_id": "",
       "version_major": 2,
       "version_minor": 0
      },
      "text/plain": [
       "FloatProgress(value=0.0, bar_style='info', description='Progress:', layout=Layout(height='25px', width='50%'),…"
      ]
     },
     "metadata": {},
     "output_type": "display_data"
    },
    {
     "name": "stdout",
     "output_type": "stream",
     "text": [
      "{'DPBaseInputs': {'name': 'DPBaseInputs', 'resource_type': <ResourceType.IBPL: 'ibpl_query'>, 'data_source': <DataSource.LS: 'liveserver'>, 'query': 'select (Version.[Version Name]*Product.[Product].Filter(#.Name in {[196426],[208821]})*Time.FiscalWeek*SalesAccount.[Account]*Location.[Location]*{Measure.[DPSellOutUnitsActuals],Measure.[Mean Pricing Save PCT],Measure.[Placement Count],Measure.[Promotion Count],Measure.[DPSellOutPrice]});', 'std_count_limit': '200000', 'df': None}}"
     ]
    }
   ],
   "source": [
    "O9DataLake.inputs"
   ]
  },
  {
   "cell_type": "code",
   "execution_count": 5,
   "id": "5885316b-965e-40a7-9903-e112b3110852",
   "metadata": {},
   "outputs": [],
   "source": [
    "#getting inputs from DataLake\n",
    "dpbaseinputs = O9DataLake.get('DPBaseInputs')"
   ]
  },
  {
   "cell_type": "code",
   "execution_count": 6,
   "id": "7800644a-e5f1-4a11-b2b1-52a5543e7ac6",
   "metadata": {
    "tags": [
     "o9_ignore"
    ]
   },
   "outputs": [
    {
     "data": {
      "text/html": [
       "<div>\n",
       "<style scoped>\n",
       "    .dataframe tbody tr th:only-of-type {\n",
       "        vertical-align: middle;\n",
       "    }\n",
       "\n",
       "    .dataframe tbody tr th {\n",
       "        vertical-align: top;\n",
       "    }\n",
       "\n",
       "    .dataframe thead th {\n",
       "        text-align: right;\n",
       "    }\n",
       "</style>\n",
       "<table border=\"1\" class=\"dataframe\">\n",
       "  <thead>\n",
       "    <tr style=\"text-align: right;\">\n",
       "      <th></th>\n",
       "      <th>Version.[Version Name]</th>\n",
       "      <th>Product.[Product]</th>\n",
       "      <th>Time.[FiscalWeek]</th>\n",
       "      <th>SalesAccount.[Account]</th>\n",
       "      <th>Location.[Location]</th>\n",
       "      <th>DPSellOutUnitsActuals</th>\n",
       "      <th>Mean Pricing Save PCT</th>\n",
       "      <th>Placement Count</th>\n",
       "      <th>Promotion Count</th>\n",
       "      <th>DPSellOutPrice</th>\n",
       "    </tr>\n",
       "  </thead>\n",
       "  <tbody>\n",
       "    <tr>\n",
       "      <th>0</th>\n",
       "      <td>S1</td>\n",
       "      <td>196426</td>\n",
       "      <td>W03-2016</td>\n",
       "      <td>ALL</td>\n",
       "      <td>ALL</td>\n",
       "      <td>1.0</td>\n",
       "      <td>NaN</td>\n",
       "      <td>NaN</td>\n",
       "      <td>NaN</td>\n",
       "      <td>6.0</td>\n",
       "    </tr>\n",
       "    <tr>\n",
       "      <th>1</th>\n",
       "      <td>CurrentWorkingView</td>\n",
       "      <td>196426</td>\n",
       "      <td>W03-2016</td>\n",
       "      <td>ALL</td>\n",
       "      <td>ALL</td>\n",
       "      <td>1.0</td>\n",
       "      <td>NaN</td>\n",
       "      <td>NaN</td>\n",
       "      <td>NaN</td>\n",
       "      <td>6.0</td>\n",
       "    </tr>\n",
       "    <tr>\n",
       "      <th>2</th>\n",
       "      <td>S1</td>\n",
       "      <td>196426</td>\n",
       "      <td>W05-2016</td>\n",
       "      <td>ALL</td>\n",
       "      <td>ALL</td>\n",
       "      <td>2.0</td>\n",
       "      <td>NaN</td>\n",
       "      <td>NaN</td>\n",
       "      <td>NaN</td>\n",
       "      <td>9.5</td>\n",
       "    </tr>\n",
       "    <tr>\n",
       "      <th>3</th>\n",
       "      <td>CurrentWorkingView</td>\n",
       "      <td>196426</td>\n",
       "      <td>W05-2016</td>\n",
       "      <td>ALL</td>\n",
       "      <td>ALL</td>\n",
       "      <td>2.0</td>\n",
       "      <td>NaN</td>\n",
       "      <td>NaN</td>\n",
       "      <td>NaN</td>\n",
       "      <td>9.5</td>\n",
       "    </tr>\n",
       "    <tr>\n",
       "      <th>4</th>\n",
       "      <td>S1</td>\n",
       "      <td>196426</td>\n",
       "      <td>W08-2016</td>\n",
       "      <td>ALL</td>\n",
       "      <td>ALL</td>\n",
       "      <td>1.0</td>\n",
       "      <td>NaN</td>\n",
       "      <td>NaN</td>\n",
       "      <td>NaN</td>\n",
       "      <td>6.0</td>\n",
       "    </tr>\n",
       "    <tr>\n",
       "      <th>...</th>\n",
       "      <td>...</td>\n",
       "      <td>...</td>\n",
       "      <td>...</td>\n",
       "      <td>...</td>\n",
       "      <td>...</td>\n",
       "      <td>...</td>\n",
       "      <td>...</td>\n",
       "      <td>...</td>\n",
       "      <td>...</td>\n",
       "      <td>...</td>\n",
       "    </tr>\n",
       "    <tr>\n",
       "      <th>329</th>\n",
       "      <td>CurrentWorkingView</td>\n",
       "      <td>208821</td>\n",
       "      <td>W50-2018</td>\n",
       "      <td>ALL</td>\n",
       "      <td>ALL</td>\n",
       "      <td>NaN</td>\n",
       "      <td>NaN</td>\n",
       "      <td>1.0</td>\n",
       "      <td>NaN</td>\n",
       "      <td>NaN</td>\n",
       "    </tr>\n",
       "    <tr>\n",
       "      <th>330</th>\n",
       "      <td>S1</td>\n",
       "      <td>208821</td>\n",
       "      <td>W51-2018</td>\n",
       "      <td>ALL</td>\n",
       "      <td>ALL</td>\n",
       "      <td>NaN</td>\n",
       "      <td>NaN</td>\n",
       "      <td>1.0</td>\n",
       "      <td>NaN</td>\n",
       "      <td>NaN</td>\n",
       "    </tr>\n",
       "    <tr>\n",
       "      <th>331</th>\n",
       "      <td>CurrentWorkingView</td>\n",
       "      <td>208821</td>\n",
       "      <td>W51-2018</td>\n",
       "      <td>ALL</td>\n",
       "      <td>ALL</td>\n",
       "      <td>NaN</td>\n",
       "      <td>NaN</td>\n",
       "      <td>1.0</td>\n",
       "      <td>NaN</td>\n",
       "      <td>NaN</td>\n",
       "    </tr>\n",
       "    <tr>\n",
       "      <th>332</th>\n",
       "      <td>S1</td>\n",
       "      <td>208821</td>\n",
       "      <td>W52-2018</td>\n",
       "      <td>ALL</td>\n",
       "      <td>ALL</td>\n",
       "      <td>NaN</td>\n",
       "      <td>NaN</td>\n",
       "      <td>1.0</td>\n",
       "      <td>NaN</td>\n",
       "      <td>NaN</td>\n",
       "    </tr>\n",
       "    <tr>\n",
       "      <th>333</th>\n",
       "      <td>CurrentWorkingView</td>\n",
       "      <td>208821</td>\n",
       "      <td>W52-2018</td>\n",
       "      <td>ALL</td>\n",
       "      <td>ALL</td>\n",
       "      <td>NaN</td>\n",
       "      <td>NaN</td>\n",
       "      <td>1.0</td>\n",
       "      <td>NaN</td>\n",
       "      <td>NaN</td>\n",
       "    </tr>\n",
       "  </tbody>\n",
       "</table>\n",
       "<p>334 rows × 10 columns</p>\n",
       "</div>"
      ],
      "text/plain": [
       "    Version.[Version Name]  Product.[Product] Time.[FiscalWeek]  \\\n",
       "0                       S1             196426          W03-2016   \n",
       "1       CurrentWorkingView             196426          W03-2016   \n",
       "2                       S1             196426          W05-2016   \n",
       "3       CurrentWorkingView             196426          W05-2016   \n",
       "4                       S1             196426          W08-2016   \n",
       "..                     ...                ...               ...   \n",
       "329     CurrentWorkingView             208821          W50-2018   \n",
       "330                     S1             208821          W51-2018   \n",
       "331     CurrentWorkingView             208821          W51-2018   \n",
       "332                     S1             208821          W52-2018   \n",
       "333     CurrentWorkingView             208821          W52-2018   \n",
       "\n",
       "    SalesAccount.[Account] Location.[Location]  DPSellOutUnitsActuals  \\\n",
       "0                      ALL                 ALL                    1.0   \n",
       "1                      ALL                 ALL                    1.0   \n",
       "2                      ALL                 ALL                    2.0   \n",
       "3                      ALL                 ALL                    2.0   \n",
       "4                      ALL                 ALL                    1.0   \n",
       "..                     ...                 ...                    ...   \n",
       "329                    ALL                 ALL                    NaN   \n",
       "330                    ALL                 ALL                    NaN   \n",
       "331                    ALL                 ALL                    NaN   \n",
       "332                    ALL                 ALL                    NaN   \n",
       "333                    ALL                 ALL                    NaN   \n",
       "\n",
       "     Mean Pricing Save PCT  Placement Count  Promotion Count  DPSellOutPrice  \n",
       "0                      NaN              NaN              NaN             6.0  \n",
       "1                      NaN              NaN              NaN             6.0  \n",
       "2                      NaN              NaN              NaN             9.5  \n",
       "3                      NaN              NaN              NaN             9.5  \n",
       "4                      NaN              NaN              NaN             6.0  \n",
       "..                     ...              ...              ...             ...  \n",
       "329                    NaN              1.0              NaN             NaN  \n",
       "330                    NaN              1.0              NaN             NaN  \n",
       "331                    NaN              1.0              NaN             NaN  \n",
       "332                    NaN              1.0              NaN             NaN  \n",
       "333                    NaN              1.0              NaN             NaN  \n",
       "\n",
       "[334 rows x 10 columns]"
      ]
     },
     "execution_count": 6,
     "metadata": {},
     "output_type": "execute_result"
    }
   ],
   "source": [
    "dpbaseinputs"
   ]
  },
  {
   "cell_type": "code",
   "execution_count": 18,
   "id": "ced410e3-e25d-44a2-a4b5-e86949fd5128",
   "metadata": {},
   "outputs": [
    {
     "data": {
      "application/vnd.jupyter.widget-view+json": {
       "model_id": "",
       "version_major": 2,
       "version_minor": 0
      },
      "text/plain": [
       "FloatProgress(value=0.0, bar_style='info', description='Progress:', layout=Layout(height='25px', width='50%'),…"
      ]
     },
     "metadata": {},
     "output_type": "display_data"
    },
    {
     "name": "stderr",
     "output_type": "stream",
     "text": [
      "An error was encountered:\n",
      "AttributeError\n",
      "[Traceback (most recent call last):\n",
      ",   File \"/tmp/spark-9bc66490-d5ba-49c3-b00f-4f443f4d663a/shell_wrapper.py\", line 113, in exec\n",
      "    self._exec_then_eval(code)\n",
      ",   File \"/tmp/spark-9bc66490-d5ba-49c3-b00f-4f443f4d663a/shell_wrapper.py\", line 105, in _exec_then_eval\n",
      "    exec(compile(block, '<string>', 'exec'), self.globals)\n",
      ",   File \"<string>\", line 6, in <module>\n",
      ", AttributeError: 'NoneType' object has no attribute 'count'\n",
      "]\n"
     ]
    }
   ],
   "source": [
    "#user script\n",
    "import logging\n",
    "out_df = None\n",
    "logger = logging.getLogger('o9_logger')\n",
    "logger.info(\"python Session\")\n",
    "logger.error(f'DPBaseInputs {DPBaseInputs.count()}')\n",
    "logger.debug('Debug logs')"
   ]
  },
  {
   "cell_type": "code",
   "execution_count": 19,
   "id": "100d2381-5d23-4b3b-8f73-6f8c1a01db9c",
   "metadata": {},
   "outputs": [
    {
     "data": {
      "application/vnd.jupyter.widget-view+json": {
       "model_id": "",
       "version_major": 2,
       "version_minor": 0
      },
      "text/plain": [
       "FloatProgress(value=0.0, bar_style='info', description='Progress:', layout=Layout(height='25px', width='50%'),…"
      ]
     },
     "metadata": {},
     "output_type": "display_data"
    },
    {
     "name": "stdout",
     "output_type": "stream",
     "text": [
      "2023-10-09 11:37:14,599 - o9_logger - INFO - Varvalue =  10..."
     ]
    }
   ],
   "source": [
    "Var = O9DataLake.get_script_param(\"var1\")\n",
    "logger.info(\"Varvalue =  {}...\".format(Var))"
   ]
  },
  {
   "cell_type": "code",
   "execution_count": 9,
   "id": "6eeaa47f-49a1-4dda-a74e-3a7892486c6d",
   "metadata": {},
   "outputs": [],
   "source": [
    "#pushing outputs to DataLake\n",
    "O9DataLake.put('out_df', dpbaseinputs)"
   ]
  },
  {
   "cell_type": "code",
   "execution_count": null,
   "id": "8739b9a5-d233-4fe4-a34e-53f2149a9042",
   "metadata": {},
   "outputs": [],
   "source": []
  }
 ],
 "metadata": {
  "id": "25d0fad1-e2f5-48ca-aee7-42a280e597e9",
  "kernelspec": {
   "display_name": "[pyplatformhivetest] Tenant Conda Environment",
   "language": "python",
   "name": "k8qa_pyplatformhivetest"
  },
  "language_info": {
   "codemirror_mode": {
    "name": "ipython",
    "version": 3
   },
   "file_extension": ".py",
   "mimetype": "text/x-python",
   "name": "python",
   "nbconvert_exporter": "python",
   "pygments_lexer": "ipython3",
   "version": "3.7.10"
  }
 },
 "nbformat": 4,
 "nbformat_minor": 5
}
