{
 "cells": [
  {
   "cell_type": "code",
   "execution_count": 17,
   "id": "665f72d5-362f-4214-aeea-1e06779dc328",
   "metadata": {
    "editable": false
   },
   "outputs": [],
   "source": [
    "# This cell is NOT editable. Overwrite variables on your own discretion.\n",
    "# Any changes other than the script code will NOT BE SAVED!\n",
    "# All cells are assumed to be script code cells, unless explictly tagged as 'o9_ignore'"
   ]
  },
  {
   "cell_type": "code",
   "execution_count": 18,
   "id": "45a0cb6b-e372-49db-8b1d-eda95a762d30",
   "metadata": {
    "tags": [
     "o9_ignore"
    ]
   },
   "outputs": [],
   "source": [
    "_factTable = \"Select ([Supplier].[Supplier Location] * [Activity2].[Activity2] * [Location].[Location] * [Documents].[OrderlineID] * [Item].[Item] * [Version].[Version Name] * [Time].[Day] ) on row,  ({Measure.[AL PO % of Total Goods Receipt TG], Measure.[AL PO % of Total Purchase Value TG], Measure.[AL PO % of Total Unique Goods Purchased TG], Measure.[AL PO Commit Creation Date TG], Measure.[AL PO Commit Delivery Date TG], Measure.[AL PO Commit Delivery Qty TG], Measure.[AL PO Goods Receipt Date TG], Measure.[AL PO Goods Receipt Purchase Value TG], Measure.[AL PO Goods Receipt Quantity TG], Measure.[AL PO Header Creation Date TG], Measure.[AL PO Net Price Per Unit TG], Measure.[AL PO Unique Goods Purchased TG]}) on column;\"\n",
    "\n",
    "\n",
    "# Initialize the O9DataLake with the input parameters and dataframes\n",
    "# Data can be accessed with O9DataLake.get(<Input Name>)\n",
    "# Overwritten values will not be reflected in the O9DataLake after initialization\n",
    "\n",
    "from o9_common_utils.O9DataLake import O9DataLake, ResourceType, DataSource\n",
    "factTable = O9DataLake.register(\"factTable\",DataSource.LS, ResourceType.IBPL, _factTable)"
   ]
  },
  {
   "cell_type": "code",
   "execution_count": 19,
   "id": "ea5b8223-bb9d-453e-b55e-69c626f7c8cd",
   "metadata": {},
   "outputs": [
    {
     "ename": "ImportError",
     "evalue": "cannot import name 'cloud_storage_utils' from 'o9storage' (/opt/conda/envs/preprod_comcastxmdatascidev/lib/python3.7/site-packages/o9storage/__init__.py)",
     "output_type": "error",
     "traceback": [
      "\u001b[0;31m---------------------------------------------------------------------------\u001b[0m",
      "\u001b[0;31mImportError\u001b[0m                               Traceback (most recent call last)",
      "\u001b[0;32m/tmp/ipykernel_2045109/937214559.py\u001b[0m in \u001b[0;36m<module>\u001b[0;34m\u001b[0m\n\u001b[1;32m      8\u001b[0m \u001b[0;32mfrom\u001b[0m \u001b[0msklearn\u001b[0m\u001b[0;34m.\u001b[0m\u001b[0mtree\u001b[0m \u001b[0;32mimport\u001b[0m \u001b[0mExtraTreeRegressor\u001b[0m\u001b[0;34m\u001b[0m\u001b[0;34m\u001b[0m\u001b[0m\n\u001b[1;32m      9\u001b[0m \u001b[0;32mfrom\u001b[0m \u001b[0mo9helpers\u001b[0m \u001b[0;32mimport\u001b[0m \u001b[0muser_storage_path\u001b[0m\u001b[0;34m\u001b[0m\u001b[0;34m\u001b[0m\u001b[0m\n\u001b[0;32m---> 10\u001b[0;31m \u001b[0;32mfrom\u001b[0m \u001b[0mo9storage\u001b[0m \u001b[0;32mimport\u001b[0m \u001b[0mcloud_storage_utils\u001b[0m\u001b[0;34m,\u001b[0m \u001b[0mstorage_utils\u001b[0m\u001b[0;34m\u001b[0m\u001b[0;34m\u001b[0m\u001b[0m\n\u001b[0m\u001b[1;32m     11\u001b[0m \u001b[0;32mimport\u001b[0m \u001b[0mpickle\u001b[0m\u001b[0;34m\u001b[0m\u001b[0;34m\u001b[0m\u001b[0m\n\u001b[1;32m     12\u001b[0m \u001b[0;32mimport\u001b[0m \u001b[0mos\u001b[0m\u001b[0;34m\u001b[0m\u001b[0;34m\u001b[0m\u001b[0m\n",
      "\u001b[0;31mImportError\u001b[0m: cannot import name 'cloud_storage_utils' from 'o9storage' (/opt/conda/envs/preprod_comcastxmdatascidev/lib/python3.7/site-packages/o9storage/__init__.py)"
     ]
    }
   ],
   "source": [
    "import pandas as pd\n",
    "import logging\n",
    "import random\n",
    "import numpy as np\n",
    "from sklearn.cluster import KMeans\n",
    "from sklearn.cluster import KMeans\n",
    "from sklearn.ensemble import BaggingRegressor\n",
    "from sklearn.tree import ExtraTreeRegressor\n",
    "from o9helpers import user_storage_path\n",
    "from o9storage import cloud_storage_utils, storage_utils\n",
    "import pickle\n",
    "import os\n",
    "import shutil\n",
    "\n",
    "\n",
    "logger = logging.getLogger('o9_logger')\n",
    "logger.info('===== ITEM CLUSTERING SCRIPT ======')\n",
    "\n",
    "\n",
    "def is_outlier(s):\n",
    "    list_ = np.array(s)\n",
    "    std_ = np.std(list_)\n",
    "    if(np.isnan(std_)==True):\n",
    "        lower_limit = s.mean()\n",
    "        upper_limit = s.mean()\n",
    "    else:\n",
    "        lower_limit = s.mean() - (std_ * 2)\n",
    "        upper_limit = s.mean() + (std_ * 2)\n",
    "    return ~s.between(lower_limit, upper_limit)\n",
    "\n",
    "\n",
    "versionName = factTable['Version.[Version Name]'].iloc[0]\n",
    "\n",
    "logger.info('===== VERSION NAME ======')\n",
    "logger.info(versionName)\n",
    "\n",
    "factTable = factTable[[\"Supplier.[Supplier Location]\",\"Activity2.[Activity2]\",\n",
    "                       \"Location.[Location]\",\"Item.[Item]\",\"Time.[Day]\",\n",
    "                      \"AL PO Header Creation Date TG\",\"AL PO Goods Receipt Date TG\",\"AL PO Net Price Per Unit TG\"]]\n",
    "\n",
    "\n",
    "logger.info(factTable.head())\n",
    "logger.info(factTable.dtypes)\n",
    "\n",
    "factTable['AL PO Goods Receipt Date TG'] = pd.to_datetime(factTable['AL PO Goods Receipt Date TG'])\n",
    "factTable['AL PO Header Creation Date TG'] = pd.to_datetime(factTable['AL PO Header Creation Date TG'])\n",
    "factTable['LeadTime'] = (factTable['AL PO Goods Receipt Date TG'] - factTable['AL PO Header Creation Date TG']).dt.days\n",
    "\n",
    "factTable['Supplier.[Supplier]'] = factTable['Supplier.[Supplier Location]']\n",
    "factTable = factTable.drop(['Supplier.[Supplier Location]'],axis=1)\n",
    "factTable['year'] = factTable['AL PO Header Creation Date TG'].dt.year\n",
    "\n",
    "factTable = factTable.drop(['AL PO Header Creation Date TG','AL PO Goods Receipt Date TG'],axis=1)\n",
    "factTable['Time.[Day]'] = pd.to_datetime(factTable['Time.[Day]'])\n",
    "factTable['Month'] = factTable['Time.[Day]'].apply(lambda x: x.strftime(\"%b\"))\n",
    "\n",
    "factTable = factTable.drop([\"Time.[Day]\"],axis=1)\n",
    "\n",
    "####### Removing Outliers ##############\n",
    "\n",
    "factTable = factTable[~factTable.groupby('Item.[Item]')['LeadTime'].apply(is_outlier)]\n",
    "\n",
    "##### Clustering  ######\n",
    "\n",
    "newForCluster = factTable.groupby(\"Item.[Item]\").agg({\"LeadTime\":\"mean\",\"AL PO Net Price Per Unit TG\":\"mean\"}).reset_index()\n",
    "\n",
    "kmeanModel = KMeans(n_clusters=60)\n",
    "kmeanModel.fit(newForCluster.drop([\"Item.[Item]\"],axis=1))\n",
    "newForCluster['Cluster']=kmeanModel.predict(newForCluster.drop([\"Item.[Item]\"],axis=1))\n",
    "\n",
    "ItemCluster = newForCluster[[\"Item.[Item]\",\"Cluster\"]]\n",
    "\n",
    "logger.info(\"*** Clusters *****\")\n",
    "logger.info(ItemCluster)\n",
    "\n",
    "ItemCluster[\"Version.[Version Name]\"] = versionName\n",
    "\n",
    "ItemCluster = ItemCluster[[\"Version.[Version Name]\",\"Item.[Item]\",\"Cluster\"]]\n",
    "\n",
    "\n"
   ]
  },
  {
   "cell_type": "code",
   "execution_count": 20,
   "id": "cb826751-1a85-418e-9860-7faa5955f750",
   "metadata": {},
   "outputs": [
    {
     "ename": "NameError",
     "evalue": "name 'ItemCluster' is not defined",
     "output_type": "error",
     "traceback": [
      "\u001b[0;31m---------------------------------------------------------------------------\u001b[0m",
      "\u001b[0;31mNameError\u001b[0m                                 Traceback (most recent call last)",
      "\u001b[0;32m/tmp/ipykernel_2045109/2224452379.py\u001b[0m in \u001b[0;36m<module>\u001b[0;34m\u001b[0m\n\u001b[1;32m      1\u001b[0m \u001b[0mlogger\u001b[0m\u001b[0;34m.\u001b[0m\u001b[0minfo\u001b[0m\u001b[0;34m(\u001b[0m\u001b[0;34m\"============ Clusters Calculated ============\"\u001b[0m\u001b[0;34m)\u001b[0m\u001b[0;34m\u001b[0m\u001b[0;34m\u001b[0m\u001b[0m\n\u001b[0;32m----> 2\u001b[0;31m \u001b[0mlogger\u001b[0m\u001b[0;34m.\u001b[0m\u001b[0minfo\u001b[0m\u001b[0;34m(\u001b[0m\u001b[0mItemCluster\u001b[0m\u001b[0;34m[\u001b[0m\u001b[0;34m\"Cluster\"\u001b[0m\u001b[0;34m]\u001b[0m\u001b[0;34m.\u001b[0m\u001b[0munique\u001b[0m\u001b[0;34m(\u001b[0m\u001b[0;34m)\u001b[0m\u001b[0;34m)\u001b[0m\u001b[0;34m\u001b[0m\u001b[0;34m\u001b[0m\u001b[0m\n\u001b[0m\u001b[1;32m      3\u001b[0m \u001b[0mlogger\u001b[0m\u001b[0;34m.\u001b[0m\u001b[0minfo\u001b[0m\u001b[0;34m(\u001b[0m\u001b[0mItemCluster\u001b[0m\u001b[0;34m.\u001b[0m\u001b[0mhead\u001b[0m\u001b[0;34m(\u001b[0m\u001b[0;36m12\u001b[0m\u001b[0;34m)\u001b[0m\u001b[0;34m)\u001b[0m\u001b[0;34m\u001b[0m\u001b[0;34m\u001b[0m\u001b[0m\n\u001b[1;32m      4\u001b[0m \u001b[0;34m\u001b[0m\u001b[0m\n\u001b[1;32m      5\u001b[0m \u001b[0;34m\u001b[0m\u001b[0m\n",
      "\u001b[0;31mNameError\u001b[0m: name 'ItemCluster' is not defined"
     ]
    }
   ],
   "source": [
    "logger.info(\"============ Clusters Calculated ============\")\n",
    "logger.info(ItemCluster[\"Cluster\"].unique())\n",
    "logger.info(ItemCluster.head(12))\n",
    "\n",
    "\n",
    "logger.info(\"=========== Clustering Completed ==========\")"
   ]
  },
  {
   "cell_type": "code",
   "execution_count": null,
   "id": "35dd8a80-b56d-45dc-b2ae-7ff2088bba19",
   "metadata": {},
   "outputs": [],
   "source": []
  }
 ],
 "metadata": {
  "kernelspec": {
   "display_name": "[ComcastXMDataSciDev] Tenant Conda Environment",
   "language": "python",
   "name": "preprod_comcastxmdatascidev"
  },
  "language_info": {
   "codemirror_mode": {
    "name": "ipython",
    "version": 3
   },
   "file_extension": ".py",
   "mimetype": "text/x-python",
   "name": "python",
   "nbconvert_exporter": "python",
   "pygments_lexer": "ipython3",
   "version": "3.7.10"
  },
  "notebook_dict": {
   "ClassName": "o9.GraphCube.Plugins.Python.PythonScript",
   "InstanceName": "AnalyticsPO001ItemClustering",
   "SliceKeys": [],
   "file_path": "loaded_notebooks/AnalyticsPO001ItemClustering.ipynb",
   "o9_selected_plugin_id": 14832
  }
 },
 "nbformat": 4,
 "nbformat_minor": 5
}
