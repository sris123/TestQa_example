{
  "cells": [
    {
      "cell_type": "code",
      "execution_count": 4,
      "id": "bb5e4546-49dd-4be5-a0ea-306de93a4a5d",
      "metadata": {},
      "outputs": [],
      "source": [
        "_predict_df = \"select (Version.[Version Name]*Product.[Product].[208821]*Time.FiscalWeek*SalesAccount.[Account]*Location.[Location]*{Measure.[DPSellOutUnitsActuals],Measure.[Mean Pricing Save PCT],Measure.[Placement Count],Measure.[Promotion Count],Measure.[DPSellOutPrice]});\"\n",
        "\n",
        "from o9_common_utils.O9DataLake import O9DataLake, ResourceType, DataSource,PluginSetting\n",
        "\n",
        "# register inputs\n",
        "predict_df = O9DataLake.register(\"predict_df\",data_source = DataSource.LS, entity_type = ResourceType.IBPL, query = _predict_df,plugin_setting = PluginSetting.Inputs)\n",
        "systemreport = O9DataLake.register(\"newsysreportq4\",data_source = DataSource.LIVEFRAME,entity_type = ResourceType.LIVEFRAME,plugin_setting = PluginSetting.Inputs)\n",
        "\n",
        "\n",
        "# register slice dimension\n",
        "O9DataLake.register(\"Product.[Product]\", data_source = DataSource.LS, entity_type = ResourceType.IBPL, plugin_setting = PluginSetting.SliceDimension)\n",
        "\n",
        "# register outputs\n",
        "O9DataLake.register(\"output1\",data_source = DataSource.LS,entity_type = ResourceType.IBPL, plugin_setting = PluginSetting.Outputs)\n",
        "\n",
        "\n",
        "# register script params\n",
        "script_params = O9DataLake.register({\"var1\":\"50\",\"var2\":\"Test1\",\"var3\":\"newparam\",\"var4\":\"80\"}, data_source = DataSource.LS, plugin_setting = PluginSetting.ScriptParam)"
      ]
    },
    {
      "cell_type": "code",
      "execution_count": 5,
      "id": "effd693a-458f-4dce-8db6-030e3bbfddc8",
      "metadata": {},
      "outputs": [
        {
          "data": {
            "text/plain": [
              "{'predict_df': {'name': 'predict_df',\n",
              "  'resource_type': <ResourceType.IBPL: 'ibpl_query'>,\n",
              "  'data_source': <DataSource.LS: 'liveserver'>,\n",
              "  'query': 'select (Version.[Version Name]*Product.[Product].[208821]*Time.FiscalWeek*SalesAccount.[Account]*Location.[Location]*{Measure.[DPSellOutUnitsActuals],Measure.[Mean Pricing Save PCT],Measure.[Placement Count],Measure.[Promotion Count],Measure.[DPSellOutPrice]});',\n",
              "  'std_count_limit': '200000',\n",
              "  'df':     Version.[Version Name]  Product.[Product] Time.[FiscalWeek]  \\\n",
              "  0                       S1             208821          W49-2015   \n",
              "  1       CurrentWorkingView             208821          W49-2015   \n",
              "  2                       S1             208821          W50-2015   \n",
              "  3       CurrentWorkingView             208821          W50-2015   \n",
              "  4                       S1             208821          W51-2015   \n",
              "  ..                     ...                ...               ...   \n",
              "  315     CurrentWorkingView             208821          W50-2018   \n",
              "  316                     S1             208821          W51-2018   \n",
              "  317     CurrentWorkingView             208821          W51-2018   \n",
              "  318                     S1             208821          W52-2018   \n",
              "  319     CurrentWorkingView             208821          W52-2018   \n",
              "  \n",
              "      SalesAccount.[Account] Location.[Location]  DPSellOutUnitsActuals  \\\n",
              "  0                      ALL                 ALL                    NaN   \n",
              "  1                      ALL                 ALL                    NaN   \n",
              "  2                      ALL                 ALL                    NaN   \n",
              "  3                      ALL                 ALL                    NaN   \n",
              "  4                      ALL                 ALL                    NaN   \n",
              "  ..                     ...                 ...                    ...   \n",
              "  315                    ALL                 ALL                    NaN   \n",
              "  316                    ALL                 ALL                    NaN   \n",
              "  317                    ALL                 ALL                    NaN   \n",
              "  318                    ALL                 ALL                    NaN   \n",
              "  319                    ALL                 ALL                    NaN   \n",
              "  \n",
              "       Mean Pricing Save PCT  Placement Count  Promotion Count  DPSellOutPrice  \n",
              "  0                      NaN                2              NaN             NaN  \n",
              "  1                      NaN                2              NaN             NaN  \n",
              "  2                      NaN                2              NaN             NaN  \n",
              "  3                      NaN                2              NaN             NaN  \n",
              "  4                      NaN                2              NaN             NaN  \n",
              "  ..                     ...              ...              ...             ...  \n",
              "  315                    NaN                1              NaN             NaN  \n",
              "  316                    NaN                1              NaN             NaN  \n",
              "  317                    NaN                1              NaN             NaN  \n",
              "  318                    NaN                1              NaN             NaN  \n",
              "  319                    NaN                1              NaN             NaN  \n",
              "  \n",
              "  [320 rows x 10 columns]},\n",
              " 'newsysreportq4': {'name': 'newsysreportq4',\n",
              "  'resource_type': <ResourceType.LIVEFRAME: 'liveframe'>,\n",
              "  'data_source': <DataSource.LIVEFRAME: 'liveframe'>,\n",
              "  'query': 'SELECT ([WalmartTime].[Day].filter(#.[Day$InActive] in { false }) * {Measure.[Weekly Sales]} * [Department].[Department_ID].filter(#.[Department_ID$InActive] in { false }) * [Store].[Store_ID].filter(#.[Store_ID$InActive] in { false })) on row, () on column include lcid 1033, cellproperties {LOCK, BG_COLOR, FG_COLOR} where {[Version].[Version Name].filter(#.Name in { \"CurrentWorkingView\" }).filter(#.[Version Name$InActive] in { false })} ORDERBY [WalmartTime].[Day].[Key] ASC ;',\n",
              "  'LiveFrameReportId': 'ac7e2bcf-c9dc-4d9a-80e8-db712efcbdf2',\n",
              "  'std_count_limit': '200000',\n",
              "  'df':        WalmartTime.[Day]  Department.[Department_ID]  Store.[Store_ID]  \\\n",
              "  0             02-05-2010                           1                 1   \n",
              "  1             02-05-2010                           1                10   \n",
              "  2             02-05-2010                           1                11   \n",
              "  3             02-05-2010                           1                12   \n",
              "  4             02-05-2010                           1                13   \n",
              "  ...                  ...                         ...               ...   \n",
              "  421565        10-26-2012                          50                23   \n",
              "  421566        10-26-2012                          50                24   \n",
              "  421567        10-26-2012                          50                25   \n",
              "  421568        10-26-2012                          50                27   \n",
              "  421569        10-26-2012                          65                34   \n",
              "  \n",
              "          Weekly Sales  \n",
              "  0           24924.50  \n",
              "  1           40212.84  \n",
              "  2           19611.13  \n",
              "  3           17426.75  \n",
              "  4           46761.90  \n",
              "  ...              ...  \n",
              "  421565       7723.00  \n",
              "  421566        595.00  \n",
              "  421567       2317.00  \n",
              "  421568       2540.50  \n",
              "  421569      41457.76  \n",
              "  \n",
              "  [421570 rows x 4 columns]}}"
            ]
          },
          "execution_count": 5,
          "metadata": {},
          "output_type": "execute_result"
        }
      ],
      "source": [
        "O9DataLake.inputs"
      ]
    },
    {
      "cell_type": "code",
      "execution_count": null,
      "id": "16e71652-9bc2-4bb9-9880-575bca073939",
      "metadata": {},
      "outputs": [],
      "source": []
    }
  ],
  "metadata": {
    "kernelspec": {
      "display_name": "[SparkK8Org1Tenant12] Tenant Conda Environment",
      "language": "python",
      "name": "genieaz_sparkk8org1tenant12"
    },
    "language_info": {
      "codemirror_mode": {
        "name": "ipython",
        "version": 3
      },
      "file_extension": ".py",
      "mimetype": "text/x-python",
      "name": "python",
      "nbconvert_exporter": "python",
      "pygments_lexer": "ipython3",
      "version": "3.10.5"
    },
    "id": "faff8c4d-5826-4452-b531-b229c7780cb7"
  },
  "nbformat": 4,
  "nbformat_minor": 5
}