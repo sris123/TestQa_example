{
 "cells": [
  {
   "cell_type": "code",
   "execution_count": 29,
   "id": "005759f9-bb05-446b-8fd6-acc688396378",
   "metadata": {
    "editable": false
   },
   "outputs": [],
   "source": [
    "# This cell is NOT editable. Overwrite variables on your own discretion.\n",
    "# Any changes other than the script code will NOT BE SAVED!\n",
    "# All cells are assumed to be script code cells, unless explictly tagged as 'o9_ignore'"
   ]
  },
  {
   "cell_type": "code",
   "execution_count": 3,
   "id": "58f98f63-c78a-45f0-a3aa-a9e01baf84ba",
   "metadata": {
    "tags": [
     "o9_ignore"
    ]
   },
   "outputs": [
    {
     "data": {
      "application/vnd.jupyter.widget-view+json": {
       "model_id": "",
       "version_major": 2,
       "version_minor": 0
      },
      "text/plain": [
       "FloatProgress(value=0.0, bar_style='info', description='Progress:', layout=Layout(height='25px', width='50%'),…"
      ]
     },
     "metadata": {},
     "output_type": "display_data"
    }
   ],
   "source": [
    "_sales = \" select ([WalmartTime_Python].[Day_Python] * [Version].[Version Name].[CurrentWorkingView] * [Department_Python].[Department_ID] * [Store_Python].[Store_ID] * {Measure.[Weekly Sales_Python]});\"\n",
    "\n",
    "\n",
    "# Initialize the O9DataLake with the input parameters and dataframes\n",
    "# Data can be accessed with O9DataLake.get(<Input Name>)\n",
    "# Overwritten values will not be reflected in the O9DataLake after initialization\n",
    "\n",
    "from o9_common_utils.O9DataLake import O9DataLake, ResourceType, DataSource,PluginSetting\n",
    "sales = O9DataLake.register(\"sales\",data_source = DataSource.LS, entity_type = ResourceType.IBPL, query = _sales,plugin_setting = PluginSetting.Inputs, spark = spark)\n",
    "\n",
    "O9DataLake.register(\"out\",data_source = DataSource.LS,entity_type = ResourceType.IBPL,plugin_setting = PluginSetting.Outputs, spark = spark )\n",
    "script_params = O9DataLake.register({}, data_source = DataSource.LS,plugin_setting = PluginSetting.ScriptParam, spark = spark)"
   ]
  },
  {
   "cell_type": "code",
   "execution_count": 4,
   "id": "e78fef91-1440-49d5-a2c1-9b0b76cadad7",
   "metadata": {},
   "outputs": [
    {
     "data": {
      "application/vnd.jupyter.widget-view+json": {
       "model_id": "",
       "version_major": 2,
       "version_minor": 0
      },
      "text/plain": [
       "FloatProgress(value=0.0, bar_style='info', description='Progress:', layout=Layout(height='25px', width='50%'),…"
      ]
     },
     "metadata": {},
     "output_type": "display_data"
    },
    {
     "name": "stdout",
     "output_type": "stream",
     "text": [
      "<class 'pyspark.sql.dataframe.DataFrame'>"
     ]
    }
   ],
   "source": [
    "type(sales)"
   ]
  },
  {
   "cell_type": "code",
   "execution_count": 5,
   "id": "c1c25669-23f1-4560-9ba1-b7611df4bf3b",
   "metadata": {},
   "outputs": [
    {
     "data": {
      "application/vnd.jupyter.widget-view+json": {
       "model_id": "",
       "version_major": 2,
       "version_minor": 0
      },
      "text/plain": [
       "FloatProgress(value=0.0, bar_style='info', description='Progress:', layout=Layout(height='25px', width='50%'),…"
      ]
     },
     "metadata": {},
     "output_type": "display_data"
    },
    {
     "name": "stdout",
     "output_type": "stream",
     "text": [
      "2024-04-19 09:18:53,003 - o9_logger - INFO - WMLogger: Reading Input Dataframes\n",
      "2024-04-19 09:18:53,006 - o9_logger - INFO - ['WalmartTimePythonDayPython', 'VersionVersionName', 'DepartmentPythonDepartmentID', 'StorePythonStoreID', 'WeeklySalesPython']"
     ]
    }
   ],
   "source": [
    "\"\"\"\n",
    "EXEC plugin instance [PySpark_Unsliced_Plugin];\n",
    "\n",
    "Output Measure Group : SalesMeasure_Walmart\n",
    "Output Measure       : Spark_Output_Measure\n",
    "\n",
    "\"\"\"\n",
    "import logging\n",
    "logger = logging.getLogger('o9_logger')\n",
    "logger.info(\"WMLogger: Reading Input Dataframes\")\n",
    "from o9_common_utils.O9DataLake import O9DataLake\n",
    "sales = O9DataLake.get(\"sales\")\n",
    "\n",
    "out = sales.withColumnRenamed(\"Weekly Sales_Python\",\"Spark_Output_Measure\")\n",
    "logger.info(out.columns)\n",
    "\n",
    "\n"
   ]
  },
  {
   "cell_type": "code",
   "execution_count": 6,
   "id": "39e7e8d5-8ce4-4a76-929b-cb99d593444e",
   "metadata": {},
   "outputs": [
    {
     "data": {
      "application/vnd.jupyter.widget-view+json": {
       "model_id": "",
       "version_major": 2,
       "version_minor": 0
      },
      "text/plain": [
       "FloatProgress(value=0.0, bar_style='info', description='Progress:', layout=Layout(height='25px', width='50%'),…"
      ]
     },
     "metadata": {},
     "output_type": "display_data"
    },
    {
     "name": "stdout",
     "output_type": "stream",
     "text": [
      "2024-04-19 14:49:51.064119: LiveServer : Failed to parse file. Cannot parse the header row.\n",
      "2024-04-19 14:49:51.064133: LiveServer : Header:[System.String[]]\n",
      "2024-04-19 14:49:51.064136: LiveServer : Couldn't find any valid measure names\n",
      "2024-04-19 14:49:51.064138: LiveServer :    at o9.GraphCube.olap.procedures.fileupload.FactBaseParser.ExtractFactMetadata(String[] columns, List`1& dimAttrProperties) in D:\\Jenkins\\jobs\\o9AzDevLSGrpcCompileNet6\\workspaceDev\\o9.Platform\\LiveServer\\Server\\o9.GraphCube\\olap\\procedures\\fileupload\\FactBaseParser.cs:line 359\n",
      "   at o9.GraphCube.olap.procedures.fileupload.FactDSVParser.Parse() in D:\\Jenkins\\jobs\\o9AzDevLSGrpcCompileNet6\\workspaceDev\\o9.Platform\\LiveServer\\Server\\o9.GraphCube\\olap\\procedures\\fileupload\\FactDSVParser.cs:line 37"
     ]
    }
   ],
   "source": [
    "O9DataLake.put('out',out.toPandas())"
   ]
  },
  {
   "cell_type": "code",
   "execution_count": null,
   "id": "9a4360e8-8833-4708-b047-c7bade2d6d6a",
   "metadata": {},
   "outputs": [],
   "source": []
  }
 ],
 "metadata": {
  "kernelspec": {
   "display_name": "[SmokeTestOps05011] Tenant Conda Environment",
   "language": "python",
   "name": "k8qa_smoketestops05011"
  },
  "language_info": {
   "codemirror_mode": {
    "name": "ipython",
    "version": 3
   },
   "file_extension": ".py",
   "mimetype": "text/x-python",
   "name": "python",
   "nbconvert_exporter": "python",
   "pygments_lexer": "ipython3",
   "version": "3.7.10"
  }
 },
 "nbformat": 4,
 "nbformat_minor": 5
}
