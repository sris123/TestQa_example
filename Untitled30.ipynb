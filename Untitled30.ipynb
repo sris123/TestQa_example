{
  "cells": [],
  "metadata": {
    "id": "fc3be86e-d6fc-4c7c-b744-3ec9b5412f5e"
  },
  "nbformat": 4,
  "nbformat_minor": 5
}