{
 "cells": [
  {
   "cell_type": "code",
   "execution_count": 2,
   "id": "7c516f1b-fa78-40aa-987d-34a2dc11da89",
   "metadata": {},
   "outputs": [],
   "source": [
    "_predict_df = \"select (Version.[Version Name]*Product.[Product].[208821]*Time.FiscalWeek*SalesAccount.[Account]*Location.[Location]*{Measure.[DPSellOutUnitsActuals],Measure.[Mean Pricing Save PCT],Measure.[Placement Count],Measure.[Promotion Count],Measure.[DPSellOutPrice]});\"\n",
    "\n",
    "from o9_common_utils.O9DataLake import O9DataLake, ResourceType, DataSource,PluginSetting\n",
    "\n",
    "# register inputs\n",
    "predict_df = O9DataLake.register(\"predict_df\",data_source = DataSource.LS, entity_type = ResourceType.IBPL, query = _predict_df,plugin_setting = PluginSetting.Inputs)\n",
    "systemreport = O9DataLake.register(\"sysreport\",data_source = DataSource.LIVEFRAME,entity_type = ResourceType.LIVEFRAME,plugin_setting = PluginSetting.Inputs)\n",
    "liveinput = O9DataLake.register(\"ReportName\",data_source = DataSource.LIVEFRAME,entity_type = ResourceType.LIVEFRAME,plugin_setting = PluginSetting.Inputs)\n",
    "\n",
    "# register slice dimension\n",
    "O9DataLake.register(\"Product.[Product]\", data_source = DataSource.LS, entity_type = ResourceType.IBPL, plugin_setting = PluginSetting.SliceDimension)\n",
    "\n",
    "# register outputs\n",
    "O9DataLake.register(\"output1\",data_source = DataSource.LS,entity_type = ResourceType.IBPL, plugin_setting = PluginSetting.Outputs)\n",
    "O9DataLake.register(\"output2\",data_source = DataSource.LS,entity_type = ResourceType.IBPL, plugin_setting = PluginSetting.Outputs)\n",
    "\n",
    "# register script params\n",
    "script_params = O9DataLake.register({\"var1\":\"20\",\"var2\":\"Test1\",\"var3\":\"newparam\"}, data_source = DataSource.LS, plugin_setting = PluginSetting.ScriptParam)"
   ]
  },
  {
   "cell_type": "code",
   "execution_count": 3,
   "id": "d2dc71e4-86bd-4b47-8b15-31ff587d6d4a",
   "metadata": {},
   "outputs": [],
   "source": [
    "O9DataLake.register(\"Version.[Version Name]\", data_source = DataSource.LS, entity_type = ResourceType.IBPL, plugin_setting = PluginSetting.SliceDimension)"
   ]
  },
  {
   "cell_type": "code",
   "execution_count": 4,
   "id": "db751b97-8550-4792-89af-be37b0119251",
   "metadata": {
    "tags": [
     "o9_ignore"
    ]
   },
   "outputs": [
    {
     "data": {
      "text/plain": [
       "{'predict_df': {'name': 'predict_df',\n",
       "  'resource_type': <ResourceType.IBPL: 'ibpl_query'>,\n",
       "  'data_source': <DataSource.LS: 'liveserver'>,\n",
       "  'query': 'select (Version.[Version Name]*Product.[Product].[208821]*Time.FiscalWeek*SalesAccount.[Account]*Location.[Location]*{Measure.[DPSellOutUnitsActuals],Measure.[Mean Pricing Save PCT],Measure.[Placement Count],Measure.[Promotion Count],Measure.[DPSellOutPrice]});',\n",
       "  'std_count_limit': '200000',\n",
       "  'df':     Version.[Version Name]  Product.[Product] Time.[FiscalWeek]  \\\n",
       "  0                       S1             208821          W49-2015   \n",
       "  1       CurrentWorkingView             208821          W49-2015   \n",
       "  2                       S1             208821          W50-2015   \n",
       "  3       CurrentWorkingView             208821          W50-2015   \n",
       "  4                       S1             208821          W51-2015   \n",
       "  ..                     ...                ...               ...   \n",
       "  315     CurrentWorkingView             208821          W50-2018   \n",
       "  316                     S1             208821          W51-2018   \n",
       "  317     CurrentWorkingView             208821          W51-2018   \n",
       "  318                     S1             208821          W52-2018   \n",
       "  319     CurrentWorkingView             208821          W52-2018   \n",
       "  \n",
       "      SalesAccount.[Account] Location.[Location]  DPSellOutUnitsActuals  \\\n",
       "  0                      ALL                 ALL                    NaN   \n",
       "  1                      ALL                 ALL                    NaN   \n",
       "  2                      ALL                 ALL                    NaN   \n",
       "  3                      ALL                 ALL                    NaN   \n",
       "  4                      ALL                 ALL                    NaN   \n",
       "  ..                     ...                 ...                    ...   \n",
       "  315                    ALL                 ALL                    NaN   \n",
       "  316                    ALL                 ALL                    NaN   \n",
       "  317                    ALL                 ALL                    NaN   \n",
       "  318                    ALL                 ALL                    NaN   \n",
       "  319                    ALL                 ALL                    NaN   \n",
       "  \n",
       "       Mean Pricing Save PCT  Placement Count  Promotion Count  DPSellOutPrice  \n",
       "  0                      NaN                2              NaN             NaN  \n",
       "  1                      NaN                2              NaN             NaN  \n",
       "  2                      NaN                2              NaN             NaN  \n",
       "  3                      NaN                2              NaN             NaN  \n",
       "  4                      NaN                2              NaN             NaN  \n",
       "  ..                     ...              ...              ...             ...  \n",
       "  315                    NaN                1              NaN             NaN  \n",
       "  316                    NaN                1              NaN             NaN  \n",
       "  317                    NaN                1              NaN             NaN  \n",
       "  318                    NaN                1              NaN             NaN  \n",
       "  319                    NaN                1              NaN             NaN  \n",
       "  \n",
       "  [320 rows x 10 columns]},\n",
       " 'sysreport': {'name': 'sysreport',\n",
       "  'resource_type': <ResourceType.LIVEFRAME: 'liveframe'>,\n",
       "  'data_source': <DataSource.LIVEFRAME: 'liveframe'>,\n",
       "  'query': 'SELECT ([WalmartTime].[Day].filter(#.[Day$InActive] in { false }) * [Store].[Store_ID].filter(#.[Store_ID$InActive] in { false }) * {Measure.[DSML dsmldim] , Measure.[CPI] , Measure.[Unemployment] , Measure.[Fuel Price] , Measure.[Weekly Sales] , Measure.[Predicted Sales]} * [Department].[Department_ID].filter(#.[Department_ID$InActive] in { false })) on row, () on column include lcid 1033, cellproperties {LOCK, BG_COLOR, FG_COLOR} where {[Version].[Version Name].filter(#.Name in { \"CurrentWorkingView\" }).filter(#.[Version Name$InActive] in { false })} ORDERBY [WalmartTime].[Day].[Key] ASC ;',\n",
       "  'LiveFrameReportId': 'c019da78-f7b4-4da3-aa9e-84abc834dd5a',\n",
       "  'std_count_limit': '200000',\n",
       "  'df':        WalmartTime.[Day]  Store.[Store_ID]  Department.[Department_ID]  \\\n",
       "  0             02-05-2010                 1                           1   \n",
       "  1             02-05-2010                 1                           2   \n",
       "  2             02-05-2010                 1                           3   \n",
       "  3             02-05-2010                 1                           4   \n",
       "  4             02-05-2010                 1                           5   \n",
       "  ...                  ...               ...                         ...   \n",
       "  421565        10-26-2012                 9                          91   \n",
       "  421566        10-26-2012                 9                          92   \n",
       "  421567        10-26-2012                 9                          94   \n",
       "  421568        10-26-2012                 9                          95   \n",
       "  421569        10-26-2012                 9                          96   \n",
       "  \n",
       "          DSML dsmldim         CPI  Unemployment  Fuel Price  Weekly Sales  \\\n",
       "  0                NaN  211.096358         8.106       2.572      24924.50   \n",
       "  1                NaN  211.096358         8.106       2.572      50605.27   \n",
       "  2                NaN  211.096358         8.106       2.572      13740.12   \n",
       "  3                NaN  211.096358         8.106       2.572      39954.04   \n",
       "  4                NaN  211.096358         8.106       2.572      32229.38   \n",
       "  ...              ...         ...           ...         ...           ...   \n",
       "  421565           NaN  222.656120         6.054       3.158        914.84   \n",
       "  421566           NaN  222.656120         6.054       3.158      18310.28   \n",
       "  421567           NaN  222.656120         6.054       3.158        233.02   \n",
       "  421568           NaN  222.656120         6.054       3.158      32382.05   \n",
       "  421569           NaN  222.656120         6.054       3.158       4752.25   \n",
       "  \n",
       "          Predicted Sales  \n",
       "  0          18810.473617  \n",
       "  1          37932.229054  \n",
       "  2          14496.019182  \n",
       "  3          36541.889394  \n",
       "  4          21114.618629  \n",
       "  ...                 ...  \n",
       "  421565      2133.354326  \n",
       "  421566     13364.705408  \n",
       "  421567       889.542000  \n",
       "  421568     37428.930707  \n",
       "  421569      2961.450731  \n",
       "  \n",
       "  [421570 rows x 9 columns]},\n",
       " 'ReportName': {'name': 'ReportName',\n",
       "  'resource_type': <ResourceType.LIVEFRAME: 'liveframe'>,\n",
       "  'data_source': <DataSource.LIVEFRAME: 'liveframe'>,\n",
       "  'query': 'SELECT ([WalmartTime].[Day].filter(#.[Day$InActive] in { false }) * {Measure.[Weekly Sales]} * [Department].[Department_ID].filter(#.[Department_ID$InActive] in { false }) * [Store].[Store_ID].filter(#.[Store_ID$InActive] in { false })) on row, () on column include lcid 1033, cellproperties {LOCK, BG_COLOR, FG_COLOR} where {[Version].[Version Name].filter(#.Name in { \"CurrentWorkingView\" }).filter(#.[Version Name$InActive] in { false })} ORDERBY [WalmartTime].[Day].[Key] ASC ;',\n",
       "  'LiveFrameReportId': '7fb96eac-8357-4b0b-aa43-416750b91053',\n",
       "  'std_count_limit': '200000',\n",
       "  'df':        WalmartTime.[Day]  Department.[Department_ID]  Store.[Store_ID]  \\\n",
       "  0             02-05-2010                           1                 1   \n",
       "  1             02-05-2010                           1                10   \n",
       "  2             02-05-2010                           1                11   \n",
       "  3             02-05-2010                           1                12   \n",
       "  4             02-05-2010                           1                13   \n",
       "  ...                  ...                         ...               ...   \n",
       "  421565        10-26-2012                          50                23   \n",
       "  421566        10-26-2012                          50                24   \n",
       "  421567        10-26-2012                          50                25   \n",
       "  421568        10-26-2012                          50                27   \n",
       "  421569        10-26-2012                          65                34   \n",
       "  \n",
       "          Weekly Sales  \n",
       "  0           24924.50  \n",
       "  1           40212.84  \n",
       "  2           19611.13  \n",
       "  3           17426.75  \n",
       "  4           46761.90  \n",
       "  ...              ...  \n",
       "  421565       7723.00  \n",
       "  421566        595.00  \n",
       "  421567       2317.00  \n",
       "  421568       2540.50  \n",
       "  421569      41457.76  \n",
       "  \n",
       "  [421570 rows x 4 columns]}}"
      ]
     },
     "execution_count": 4,
     "metadata": {},
     "output_type": "execute_result"
    }
   ],
   "source": [
    "O9DataLake.inputs"
   ]
  },
  {
   "cell_type": "code",
   "execution_count": 5,
   "id": "e90b4a07-fc49-4271-a052-afd56df7b3bb",
   "metadata": {},
   "outputs": [],
   "source": [
    "# fetching inputs\n",
    "predict_df = O9DataLake.get('predict_df')\n",
    "systemreport = O9DataLake.get('sysreport')\n",
    "liveinput = O9DataLake.get('ReportName')\n",
    "# fetching script params\n",
    "value1 = O9DataLake.get_script_param(\"var1\")\n",
    "value2 = O9DataLake.get_script_param(\"var2\")"
   ]
  },
  {
   "cell_type": "code",
   "execution_count": 6,
   "id": "b12d6a7a-73f7-49c2-bc8d-c3e763e5405e",
   "metadata": {},
   "outputs": [
    {
     "name": "stdout",
     "output_type": "stream",
     "text": [
      "2024-06-26 13:40:44,192 - o9_logger - DEBUG  - predict_df dataframe:  (320, 10)\n",
      "2024-06-26 13:40:44,193 - o9_logger - DEBUG  - systemreport dataframe:  (421570, 9)\n",
      "2024-06-26 13:40:44,193 - o9_logger - DEBUG  - liveinput dataframe:  (421570, 4)\n",
      "2024-06-26 13:40:44,194 - o9_logger - DEBUG  - script param var1 value: 20\n",
      "2024-06-26 13:40:44,195 - o9_logger - DEBUG  - script param var2 value: Test1\n"
     ]
    }
   ],
   "source": [
    "#user script\n",
    "\n",
    "# package imports\n",
    "import logging\n",
    "from sklearn import tree\n",
    "\n",
    "# initialize output variables\n",
    "output1 = None\n",
    "output2 = None\n",
    "\n",
    "\n",
    "# initialize logger\n",
    "logger = logging.getLogger('o9_logger')\n",
    "\n",
    "logger.debug(f'predict_df dataframe:  {predict_df.shape}')\n",
    "logger.debug(f'systemreport dataframe:  {systemreport.shape}')\n",
    "logger.debug(f'liveinput dataframe:  {liveinput.shape}')\n",
    "logger.debug(f'script param var1 value: {value1}')\n",
    "logger.debug(f'script param var2 value: {value2}')"
   ]
  },
  {
   "cell_type": "code",
   "execution_count": 11,
   "id": "0baa4955-3d3f-4888-8d64-623301c73918",
   "metadata": {},
   "outputs": [
    {
     "name": "stdout",
     "output_type": "stream",
     "text": [
      "2024-06-26 13:43:21,488 - o9_logger - DEBUG  - systemreport dataframe:    WalmartTime.[Day]  Store.[Store_ID]  Department.[Department_ID]  \\\n",
      "0        02-05-2010                 1                           1   \n",
      "1        02-05-2010                 1                           2   \n",
      "2        02-05-2010                 1                           3   \n",
      "3        02-05-2010                 1                           4   \n",
      "4        02-05-2010                 1                           5   \n",
      "\n",
      "   DSML dsmldim         CPI  Unemployment  Fuel Price  Weekly Sales  \\\n",
      "0           NaN  211.096358         8.106       2.572      24924.50   \n",
      "1           NaN  211.096358         8.106       2.572      50605.27   \n",
      "2           NaN  211.096358         8.106       2.572      13740.12   \n",
      "3           NaN  211.096358         8.106       2.572      39954.04   \n",
      "4           NaN  211.096358         8.106       2.572      32229.38   \n",
      "\n",
      "   Predicted Sales  \n",
      "0     18810.473617  \n",
      "1     37932.229054  \n",
      "2     14496.019182  \n",
      "3     36541.889394  \n",
      "4     21114.618629  \n"
     ]
    }
   ],
   "source": [
    "output1 = predict_df\n",
    "logger.debug(f'systemreport dataframe:  {systemreport.head()}')"
   ]
  },
  {
   "cell_type": "code",
   "execution_count": 8,
   "id": "02f3e035-77ef-463e-b717-62224312d271",
   "metadata": {},
   "outputs": [
    {
     "name": "stdout",
     "output_type": "stream",
     "text": [
      "2024-06-26 13:40:52,131 - o9_logger - DEBUG  - systemreport dataframe:    WalmartTime.[Day]  Department.[Department_ID]  Store.[Store_ID]  \\\n",
      "0        02-05-2010                           1                 1   \n",
      "1        02-05-2010                           1                10   \n",
      "2        02-05-2010                           1                11   \n",
      "3        02-05-2010                           1                12   \n",
      "4        02-05-2010                           1                13   \n",
      "\n",
      "   Weekly Sales  \n",
      "0      24924.50  \n",
      "1      40212.84  \n",
      "2      19611.13  \n",
      "3      17426.75  \n",
      "4      46761.90  \n"
     ]
    }
   ],
   "source": [
    "output2 = liveinput\n",
    "logger.debug(f'systemreport dataframe:  {liveinput.head()}')"
   ]
  },
  {
   "cell_type": "code",
   "execution_count": 12,
   "id": "581cdaaa-1c76-4e4e-8067-c3e695362bd5",
   "metadata": {},
   "outputs": [],
   "source": [
    "#pushing outputs to Live Server(make sure all dimensions,measures present in LiveServer)\n",
    "O9DataLake.put('output1', output1)\n"
   ]
  },
  {
   "cell_type": "code",
   "execution_count": 10,
   "id": "bc2a5ce0-22c5-411b-b24d-9a99f3f08276",
   "metadata": {},
   "outputs": [
    {
     "name": "stdout",
     "output_type": "stream",
     "text": [
      "2024-06-26 19:12:23.934719: LiveServer : Failed to parse file. Cannot parse the header row.\n",
      "2024-06-26 19:12:23.934776: LiveServer : Failed to parse file. Cannot parse the header row.\n",
      "2024-06-26 19:12:23.934781: LiveServer : Failed to parse file. Cannot parse the header row.\n",
      "2024-06-26 19:12:23.934784: LiveServer : Header:[System.String[]]\n",
      "2024-06-26 19:12:23.934787: LiveServer : Failed to parse file. Cannot parse the header row.\n",
      "2024-06-26 19:12:23.934790: LiveServer : Header:[System.String[]]\n",
      "2024-06-26 19:12:23.934793: LiveServer : Measure [DSML dsmldim] is not setup for spreading\n",
      "2024-06-26 19:12:23.934796: LiveServer : Measure [DSML dsmldim] is not setup for spreading\n",
      "2024-06-26 19:12:23.934799: LiveServer : Header:[System.String[]]\n",
      "2024-06-26 19:12:23.934802: LiveServer : Measure [DSML dsmldim] is not setup for spreading\n",
      "2024-06-26 19:12:23.934805: LiveServer : Header:[System.String[]]\n",
      "2024-06-26 19:12:23.934808: LiveServer : Measure [DSML dsmldim] is not setup for spreading\n",
      "2024-06-26 19:12:23.934811: LiveServer :    at o9.GraphCube.olap.procedures.fileupload.FactBaseParser.ValidateHeader() in D:\\Jenkins\\jobs\\o9AzQrtlyLSGrpcCompileNet6\\workspaceQrtly\\o9.Platform\\LiveServer\\Server\\o9.GraphCube\\olap\\procedures\\fileupload\\FactBaseParser.cs:line 535\n",
      "   at o9.GraphCube.olap.procedures.fileupload.FactDSVParser.Parse() in D:\\Jenkins\\jobs\\o9AzQrtlyLSGrpcCompileNet6\\workspaceQrtly\\o9.Platform\\LiveServer\\Server\\o9.GraphCube\\olap\\procedures\\fileupload\\FactDSVParser.cs:line 40\n",
      "2024-06-26 19:12:23.934815: LiveServer :    at o9.GraphCube.olap.procedures.fileupload.FactBaseParser.ValidateHeader() in D:\\Jenkins\\jobs\\o9AzQrtlyLSGrpcCompileNet6\\workspaceQrtly\\o9.Platform\\LiveServer\\Server\\o9.GraphCube\\olap\\procedures\\fileupload\\FactBaseParser.cs:line 535\n",
      "   at o9.GraphCube.olap.procedures.fileupload.FactDSVParser.Parse() in D:\\Jenkins\\jobs\\o9AzQrtlyLSGrpcCompileNet6\\workspaceQrtly\\o9.Platform\\LiveServer\\Server\\o9.GraphCube\\olap\\procedures\\fileupload\\FactDSVParser.cs:line 40\n",
      "2024-06-26 19:12:23.934818: LiveServer :    at o9.GraphCube.olap.procedures.fileupload.FactBaseParser.ValidateHeader() in D:\\Jenkins\\jobs\\o9AzQrtlyLSGrpcCompileNet6\\workspaceQrtly\\o9.Platform\\LiveServer\\Server\\o9.GraphCube\\olap\\procedures\\fileupload\\FactBaseParser.cs:line 535\n",
      "   at o9.GraphCube.olap.procedures.fileupload.FactDSVParser.Parse() in D:\\Jenkins\\jobs\\o9AzQrtlyLSGrpcCompileNet6\\workspaceQrtly\\o9.Platform\\LiveServer\\Server\\o9.GraphCube\\olap\\procedures\\fileupload\\FactDSVParser.cs:line 40\n",
      "2024-06-26 19:12:23.934821: LiveServer :    at o9.GraphCube.olap.procedures.fileupload.FactBaseParser.ValidateHeader() in D:\\Jenkins\\jobs\\o9AzQrtlyLSGrpcCompileNet6\\workspaceQrtly\\o9.Platform\\LiveServer\\Server\\o9.GraphCube\\olap\\procedures\\fileupload\\FactBaseParser.cs:line 535\n",
      "   at o9.GraphCube.olap.procedures.fileupload.FactDSVParser.Parse() in D:\\Jenkins\\jobs\\o9AzQrtlyLSGrpcCompileNet6\\workspaceQrtly\\o9.Platform\\LiveServer\\Server\\o9.GraphCube\\olap\\procedures\\fileupload\\FactDSVParser.cs:line 40\n",
      "2024-06-26 19:12:23.934824: LiveServer : Failed to parse file. Cannot parse the header row.\n",
      "2024-06-26 19:12:23.934827: LiveServer : Header:[System.String[]]\n",
      "2024-06-26 19:12:23.934830: LiveServer : Measure [Weekly Sales] is not setup for spreading\n",
      "2024-06-26 19:12:23.934833: LiveServer :    at o9.GraphCube.olap.procedures.fileupload.FactBaseParser.ValidateHeader() in D:\\Jenkins\\jobs\\o9AzQrtlyLSGrpcCompileNet6\\workspaceQrtly\\o9.Platform\\LiveServer\\Server\\o9.GraphCube\\olap\\procedures\\fileupload\\FactBaseParser.cs:line 535\n",
      "   at o9.GraphCube.olap.procedures.fileupload.FactDSVParser.Parse() in D:\\Jenkins\\jobs\\o9AzQrtlyLSGrpcCompileNet6\\workspaceQrtly\\o9.Platform\\LiveServer\\Server\\o9.GraphCube\\olap\\procedures\\fileupload\\FactDSVParser.cs:line 40\n",
      "2024-06-26 19:12:23.934837: LiveServer : Failed to parse file. Cannot parse the header row.\n",
      "2024-06-26 19:12:23.934840: LiveServer : Header:[System.String[]]\n",
      "2024-06-26 19:12:23.934843: LiveServer : Measure [Weekly Sales] is not setup for spreading\n",
      "2024-06-26 19:12:23.934846: LiveServer :    at o9.GraphCube.olap.procedures.fileupload.FactBaseParser.ValidateHeader() in D:\\Jenkins\\jobs\\o9AzQrtlyLSGrpcCompileNet6\\workspaceQrtly\\o9.Platform\\LiveServer\\Server\\o9.GraphCube\\olap\\procedures\\fileupload\\FactBaseParser.cs:line 535\n",
      "   at o9.GraphCube.olap.procedures.fileupload.FactDSVParser.Parse() in D:\\Jenkins\\jobs\\o9AzQrtlyLSGrpcCompileNet6\\workspaceQrtly\\o9.Platform\\LiveServer\\Server\\o9.GraphCube\\olap\\procedures\\fileupload\\FactDSVParser.cs:line 40\n",
      "2024-06-26 19:12:23.934849: LiveServer : Failed to parse file. Cannot parse the header row.\n",
      "2024-06-26 19:12:23.934852: LiveServer : Header:[System.String[]]\n",
      "2024-06-26 19:12:23.934855: LiveServer : Measure [Weekly Sales] is not setup for spreading\n",
      "2024-06-26 19:12:23.934858: LiveServer :    at o9.GraphCube.olap.procedures.fileupload.FactBaseParser.ValidateHeader() in D:\\Jenkins\\jobs\\o9AzQrtlyLSGrpcCompileNet6\\workspaceQrtly\\o9.Platform\\LiveServer\\Server\\o9.GraphCube\\olap\\procedures\\fileupload\\FactBaseParser.cs:line 535\n",
      "   at o9.GraphCube.olap.procedures.fileupload.FactDSVParser.Parse() in D:\\Jenkins\\jobs\\o9AzQrtlyLSGrpcCompileNet6\\workspaceQrtly\\o9.Platform\\LiveServer\\Server\\o9.GraphCube\\olap\\procedures\\fileupload\\FactDSVParser.cs:line 40\n",
      "2024-06-26 19:12:23.934861: LiveServer : Failed to parse file. Cannot parse the header row.\n",
      "2024-06-26 19:12:23.934864: LiveServer : Header:[System.String[]]\n",
      "2024-06-26 19:12:23.934867: LiveServer : Measure [Weekly Sales] is not setup for spreading\n",
      "2024-06-26 19:12:23.934870: LiveServer :    at o9.GraphCube.olap.procedures.fileupload.FactBaseParser.ValidateHeader() in D:\\Jenkins\\jobs\\o9AzQrtlyLSGrpcCompileNet6\\workspaceQrtly\\o9.Platform\\LiveServer\\Server\\o9.GraphCube\\olap\\procedures\\fileupload\\FactBaseParser.cs:line 535\n",
      "   at o9.GraphCube.olap.procedures.fileupload.FactDSVParser.Parse() in D:\\Jenkins\\jobs\\o9AzQrtlyLSGrpcCompileNet6\\workspaceQrtly\\o9.Platform\\LiveServer\\Server\\o9.GraphCube\\olap\\procedures\\fileupload\\FactDSVParser.cs:line 40\n"
     ]
    }
   ],
   "source": [
    "O9DataLake.put('output2', output2)"
   ]
  }
 ],
 "metadata": {
  "kernelspec": {
   "display_name": "[pyplatformhivetest] Tenant Conda Environment",
   "language": "python",
   "name": "genieaz_pyplatformhivetest"
  },
  "language_info": {
   "codemirror_mode": {
    "name": "ipython",
    "version": 3
   },
   "file_extension": ".py",
   "mimetype": "text/x-python",
   "name": "python",
   "nbconvert_exporter": "python",
   "pygments_lexer": "ipython3",
   "version": "3.7.10"
  }
 },
 "nbformat": 4,
 "nbformat_minor": 5
}
