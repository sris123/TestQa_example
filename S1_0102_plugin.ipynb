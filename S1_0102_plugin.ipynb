{
 "cells": [
  {
   "cell_type": "code",
   "execution_count": null,
   "id": "b445f486-0479-434c-89e7-450b2bad8816",
   "metadata": {
    "editable": false
   },
   "outputs": [],
   "source": [
    "# This cell is NOT editable. Overwrite variables on your own discretion.\n",
    "# Any changes other than the script code will NOT BE SAVED!\n",
    "# All cells are assumed to be script code cells, unless explictly tagged as 'o9_ignore'"
   ]
  },
  {
   "cell_type": "code",
   "execution_count": 1,
   "id": "81065c84-2d03-47eb-b3ec-e5ba5e1757cd",
   "metadata": {},
   "outputs": [
    {
     "name": "stdout",
     "output_type": "stream",
     "text": [
      "2023-02-01 06:20:40,654 : srishtisingh_6316 :IbplClient: WebApi Request Url = [https://myazureqatest.o9solutions.com/api/ibplquery/6316/ExecuteCompactJsonQuery]\n",
      "2023-02-01 06:20:40,658 : srishtisingh_6316 :Starting new HTTPS connection (1): myazureqatest.o9solutions.com:443\n",
      "2023-02-01 06:20:40,760 : srishtisingh_6316 :https://myazureqatest.o9solutions.com:443 \"POST /api/ibplquery/6316/ExecuteCompactJsonQuery HTTP/1.1\" 200 None\n",
      "2023-02-01 06:20:45,769 : srishtisingh_6316 :IbplClient: WebApi Request Url = [https://myazureqatest.o9solutions.com/api/ibplquery/6316/ExecuteCompactJsonQuery]\n",
      "2023-02-01 06:20:45,773 : srishtisingh_6316 :Starting new HTTPS connection (1): myazureqatest.o9solutions.com:443\n",
      "2023-02-01 06:20:45,873 : srishtisingh_6316 :https://myazureqatest.o9solutions.com:443 \"POST /api/ibplquery/6316/ExecuteCompactJsonQuery HTTP/1.1\" 200 None\n"
     ]
    }
   ],
   "source": [
    "# Slice Dimension Attributes defined in the plugin. Please check all queries and replace <KEY HERE> with a valid name.\n",
    "# For example: If slice is defined by Version.[Version Name] and Time.[Month]\n",
    "# input_df = ibpl Select ([Version].[Version Name].[<KEY HERE>] * [Time].[Month].[<KEY HERE>] * [Item].[Item Number]) on row, ({Measure.[M1], Measure.[M2]}) on column limit 5000;\n",
    "#                             update <KEY HERE> to valid names\n",
    "# input_df = ibpl Select ([Version].[Version Name].[CurrentWorkingView] * [Time].[Month].[January] * [Item].[Item Number]) on row, ({Measure.[M1], Measure.[M2]}) on column limit 5000;\n",
    "\n",
    "_input_df = \"Select ([Version].[Version Name] * [Department_Hive].[Department_ID_Hive] ) on row, ({Measure.[SalesVal]}) on column;\"\n",
    "\n",
    "\n",
    "# Initialize the O9DataLake with the input parameters and dataframes\n",
    "# Data can be accessed with O9DataLake.get(<Input Name>)\n",
    "# Overwritten values will not be reflected in the O9DataLake after initialization\n",
    "\n",
    "from o9_common_utils.O9DataLake import O9DataLake, ResourceType, DataSource\n",
    "input_df = O9DataLake.register(\"input_df\",DataSource.LS, ResourceType.IBPL, _input_df)"
   ]
  },
  {
   "cell_type": "code",
   "execution_count": 2,
   "id": "8b07fb86-232b-41b6-bfc6-c9bbf4a69504",
   "metadata": {},
   "outputs": [
    {
     "name": "stdout",
     "output_type": "stream",
     "text": [
      "2023-02-01 06:20:54,940 : srishtisingh_6316 :IbplClient: WebApi Request Url = [https://myazureqatest.o9solutions.com/api/ibplquery/6316/ExecuteCompactJsonQuery]\n",
      "2023-02-01 06:20:54,945 : srishtisingh_6316 :Starting new HTTPS connection (1): myazureqatest.o9solutions.com:443\n",
      "2023-02-01 06:20:55,043 : srishtisingh_6316 :https://myazureqatest.o9solutions.com:443 \"POST /api/ibplquery/6316/ExecuteCompactJsonQuery HTTP/1.1\" 200 None\n",
      "2023-02-01 06:21:00,051 : srishtisingh_6316 :IbplClient: WebApi Request Url = [https://myazureqatest.o9solutions.com/api/ibplquery/6316/ExecuteCompactJsonQuery]\n",
      "2023-02-01 06:21:00,054 : srishtisingh_6316 :Starting new HTTPS connection (1): myazureqatest.o9solutions.com:443\n",
      "2023-02-01 06:21:00,158 : srishtisingh_6316 :https://myazureqatest.o9solutions.com:443 \"POST /api/ibplquery/6316/ExecuteCompactJsonQuery HTTP/1.1\" 200 None\n",
      "2023-02-01 06:21:05,182 : srishtisingh_6316 :Starting new HTTPS connection (1): myazureqatest.o9solutions.com:443\n",
      "2023-02-01 06:21:05,304 : srishtisingh_6316 :https://myazureqatest.o9solutions.com:443 \"GET /api/framework/sessions/session/authToken?authToken=tlbzbb324d2yey0r14zglmqs HTTP/1.1\" 200 None\n",
      "2023-02-01 06:21:05,308 : srishtisingh_6316 :Uploading LOCAL file: /tmp/tmp6k1rkgzz/Fact.output.csv\n",
      "2023-02-01 06:21:05,309 : srishtisingh_6316 :Is the file parquet: False\n",
      "2023-02-01 06:21:05,310 : srishtisingh_6316 :Uploading /tmp/tmp6k1rkgzz/Fact.output.csv to Live Server cloud\n",
      "2023-02-01 06:21:05,311 : srishtisingh_6316 :File size less than 256 MB\n",
      "2023-02-01 06:21:05,312 : srishtisingh_6316 :Uploading to /fileUpload endpoint\n",
      "2023-02-01 06:21:05,312 : srishtisingh_6316 :Uploading /tmp/tmp6k1rkgzz/Fact.output.csv to Live Server cloud\n",
      "2023-02-01 06:21:05,317 : srishtisingh_6316 :Starting new HTTPS connection (1): myazureqatest.o9solutions.com:443\n",
      "2023-02-01 06:21:07,681 : srishtisingh_6316 :https://myazureqatest.o9solutions.com:443 \"POST /api/upload/fileUpload HTTP/1.1\" 200 None\n",
      "2023-02-01 06:21:07,684 : srishtisingh_6316 :Uploaded the file successfully\n",
      "2023-02-01 06:21:07,686 : srishtisingh_6316 :Uploading cloud files at: \"azure://7YcJ7Xd5iUl7rbT6sGwXZ9RBIuiCfzMhZMoxjcjD9493vVFckRHrj9ON4CU3Z1b70\"\n",
      "2023-02-01 06:21:07,687 : srishtisingh_6316 :IbplClient: WebApi Request Url = [https://myazureqatest.o9solutions.com/api/framework/sessions/session]\n",
      "2023-02-01 06:21:07,690 : srishtisingh_6316 :Starting new HTTPS connection (1): myazureqatest.o9solutions.com:443\n",
      "2023-02-01 06:21:07,782 : srishtisingh_6316 :https://myazureqatest.o9solutions.com:443 \"GET /api/framework/sessions/session HTTP/1.1\" 200 None\n",
      "2023-02-01 06:21:07,785 : srishtisingh_6316 :logged into tenant HIveDemo52 successfully\n",
      "2023-02-01 06:21:07,786 : srishtisingh_6316 :IbplClient: WebApi Request Url = [https://myazureqatest.o9solutions.com/api/user]\n",
      "2023-02-01 06:21:07,789 : srishtisingh_6316 :Starting new HTTPS connection (1): myazureqatest.o9solutions.com:443\n",
      "2023-02-01 06:21:08,142 : srishtisingh_6316 :https://myazureqatest.o9solutions.com:443 \"GET /api/user HTTP/1.1\" 200 None\n",
      "2023-02-01 06:21:08,161 : srishtisingh_6316 :Starting new HTTPS connection (1): myazureqatest.o9solutions.com:443\n",
      "2023-02-01 06:21:08,261 : srishtisingh_6316 :https://myazureqatest.o9solutions.com:443 \"GET /api/framework/sessions/session/authToken?authToken=tlbzbb324d2yey0r14zglmqs HTTP/1.1\" 200 None\n",
      "2023-02-01 06:21:08,268 : srishtisingh_6316 :Starting new HTTPS connection (1): myazureqatest.o9solutions.com:443\n",
      "2023-02-01 06:21:10,818 : srishtisingh_6316 :https://myazureqatest.o9solutions.com:443 \"POST /api/ibplquery/6316/ExecuteQuery HTTP/1.1\" 200 None\n",
      "2023-02-01 06:21:10,822 : srishtisingh_6316 :200, OK\n",
      "2023-02-01 06:21:10,823 : srishtisingh_6316 :Response json:\n",
      "{\"Result\":\"[{\\\"FileName\\\":\\\"Fact.output.csv\\\",\\\"SheetName\\\":\\\"Fact.output.csv\\\",\\\"TotalRows\\\":1,\\\"ProcessedRows\\\":1,\\\"Status\\\":\\\"Success\\\",\\\"Messages\\\":[\\\"Total Rows: [1]. Successfully Processed Rows: [1].\\\"],\\\"FileId\\\":\\\"azure://7YcJ7Xd5iUl7rbT6sGwXZ9RBIuiCfzMhZMoxjcjD9493vVFckRHrj9ON4CU3Z1b70\\\"}]\",\"QueryGuid\":\"a1e41543-1edf-490f-bce4-f631488420c8\",\"ImpactHeader\":{\"TenantId\":6316,\"TransactionId\":\"00000000-0000-0000-0000-000000000000\",\"UpdatedMembers\":null,\"CreatedMembers\":null,\"DeletedMembers\":null,\"ModelImpact\":{\"Sales Plan\":{\"TempMG\":[\"SalesVal\"]}}}}\n",
      "2023-02-01 06:21:10,824 : srishtisingh_6316 :{'FileName': 'Fact.output.csv', 'SheetName': 'Fact.output.csv', 'TotalRows': 1, 'ProcessedRows': 1, 'Status': 'Success', 'Messages': ['Total Rows: [1]. Successfully Processed Rows: [1].'], 'FileId': 'azure://7YcJ7Xd5iUl7rbT6sGwXZ9RBIuiCfzMhZMoxjcjD9493vVFckRHrj9ON4CU3Z1b70'}\n"
     ]
    }
   ],
   "source": [
    "\n",
    "\n",
    "# This cell is NOT editable. Overwrite variables on your own discretion.\n",
    "# Any changes other than the script code will NOT BE SAVED!\n",
    "# All cells are assumed to be script code cells, unless explictly tagged as 'o9_ignore'\n",
    "\n",
    "input_df = O9DataLake.get(\"input_df\", input_df)\n",
    "input_df.head()\n",
    "output = input_df.copy(deep=True)\n",
    "output[\"SalesVal\"] = 16\n",
    "O9DataLake.put(\"output\", output)\n"
   ]
  },
  {
   "cell_type": "code",
   "execution_count": null,
   "id": "8259a069-eb47-472b-a5d0-82cfa4f62e9d",
   "metadata": {},
   "outputs": [],
   "source": []
  }
 ],
 "metadata": {
  "kernelspec": {
   "display_name": "[HIveDemo52] Tenant Conda Environment",
   "language": "python",
   "name": "genieaz_hivedemo52"
  },
  "language_info": {
   "codemirror_mode": {
    "name": "ipython",
    "version": 3
   },
   "file_extension": ".py",
   "mimetype": "text/x-python",
   "name": "python",
   "nbconvert_exporter": "python",
   "pygments_lexer": "ipython3",
   "version": "3.7.10"
  },
  "notebook_dict": {
   "ClassName": "o9.GraphCube.Plugins.Python.PythonScript",
   "InstanceName": "Plugin180101",
   "SliceKeys": [
    {
     "AttributeName": "Version Name",
     "DimensionName": "Version"
    }
   ],
   "file_path": "loaded_notebooks/Plugin180101.ipynb",
   "o9_selected_plugin_id": 251075
  }
 },
 "nbformat": 4,
 "nbformat_minor": 5
}
