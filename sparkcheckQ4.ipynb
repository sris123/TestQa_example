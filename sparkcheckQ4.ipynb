{
  "cells": [
    {
      "cell_type": "code",
      "execution_count": 8,
      "id": "15b4aca6-6eba-40a6-bc7f-14cc2b26572e",
      "metadata": {},
      "outputs": [
        {
          "data": {
            "application/vnd.jupyter.widget-view+json": {
              "model_id": "",
              "version_major": 2,
              "version_minor": 0
            },
            "text/plain": [
              "FloatProgress(value=0.0, bar_style='info', description='Progress:', layout=Layout(height='25px', width='50%'),\u2026"
            ]
          },
          "metadata": {},
          "output_type": "display_data"
        },
        {
          "name": "stdout",
          "output_type": "stream",
          "text": [
            "2024-11-11 10:01:55,340 - o9_logger - ERROR - Input variable already exists."
          ]
        }
      ],
      "source": [
        "_predict_df1 = \"select (Version.[Version Name]*Product.[Product].[208821]*Time.FiscalWeek*SalesAccount.[Account]*Location.[Location]*{Measure.[DPSellOutUnitsActuals],Measure.[Mean Pricing Save PCT],Measure.[Placement Count],Measure.[Promotion Count],Measure.[DPSellOutPrice]});\"\n",
        "\n",
        "from o9_common_utils.O9DataLake import O9DataLake, ResourceType, DataSource,PluginSetting\n",
        "\n",
        "# register inputs\n",
        "predict_df1 = O9DataLake.register(\"predict_df1\",data_source = DataSource.LS, entity_type = ResourceType.IBPL, query = _predict_df1,plugin_setting = PluginSetting.Inputs, spark =spark)\n",
        "\n",
        "\n",
        "\n",
        "# register slice dimension\n",
        "O9DataLake.register(\"Product.[Product]\", data_source = DataSource.LS, entity_type = ResourceType.IBPL, plugin_setting = PluginSetting.SliceDimension)\n",
        "\n",
        "# register outputs\n",
        "O9DataLake.register(\"output\",data_source = DataSource.LS,entity_type = ResourceType.IBPL, plugin_setting = PluginSetting.Outputs)\n",
        "\n",
        "\n",
        "# register script params\n",
        "script_params = O9DataLake.register({\"var1\":\"20\",\"var2\":\"Test1\",\"var3\":\"newparam\"}, data_source = DataSource.LS, plugin_setting = PluginSetting.ScriptParam)"
      ]
    },
    {
      "cell_type": "code",
      "execution_count": 19,
      "id": "9722cc7f-3a76-4bf9-951c-a6ad4f1c7d0d",
      "metadata": {},
      "outputs": [
        {
          "data": {
            "application/vnd.jupyter.widget-view+json": {
              "model_id": "",
              "version_major": 2,
              "version_minor": 0
            },
            "text/plain": [
              "FloatProgress(value=0.0, bar_style='info', description='Progress:', layout=Layout(height='25px', width='50%'),\u2026"
            ]
          },
          "metadata": {},
          "output_type": "display_data"
        }
      ],
      "source": [
        "newsysreportq = O9DataLake.register(\"ReportName-Shashank\",data_source = DataSource.LIVEFRAME,entity_type = ResourceType.LIVEFRAME,plugin_setting = PluginSetting.Inputs, spark =spark)"
      ]
    },
    {
      "cell_type": "code",
      "execution_count": 9,
      "id": "1f8bc6ce-70b8-4820-bc66-b5ea40b3e0d3",
      "metadata": {
        "tags": [
          "o9_ignore"
        ]
      },
      "outputs": [
        {
          "data": {
            "application/vnd.jupyter.widget-view+json": {
              "model_id": "",
              "version_major": 2,
              "version_minor": 0
            },
            "text/plain": [
              "FloatProgress(value=0.0, bar_style='info', description='Progress:', layout=Layout(height='25px', width='50%'),\u2026"
            ]
          },
          "metadata": {},
          "output_type": "display_data"
        },
        {
          "name": "stdout",
          "output_type": "stream",
          "text": [
            "{'predict_df': {'name': 'predict_df', 'resource_type': <ResourceType.IBPL: 'ibpl_query'>, 'data_source': <DataSource.LS: 'liveserver'>, 'query': 'select (Version.[Version Name]*Product.[Product].[208821]*Time.FiscalWeek*SalesAccount.[Account]*Location.[Location]*{Measure.[DPSellOutUnitsActuals],Measure.[Mean Pricing Save PCT],Measure.[Placement Count],Measure.[Promotion Count],Measure.[DPSellOutPrice]});', 'std_count_limit': '200000', 'df': DataFrame[VersionVersionName: string, ProductProduct: string, TimeFiscalWeek: string, SalesAccountAccount: string, LocationLocation: string, DPSellOutUnitsActuals: float, MeanPricingSavePCT: float, PlacementCount: float, PromotionCount: float, DPSellOutPrice: float]}, 'newsysreportq4': {'name': 'newsysreportq4', 'resource_type': <ResourceType.LIVEFRAME: 'liveframe'>, 'data_source': <DataSource.LIVEFRAME: 'liveframe'>, 'query': 'SELECT ([WalmartTime].[Day].filter(#.[Day$InActive] in { false }) * {Measure.[Weekly Sales]} * [Department].[Department_ID].filter(#.[Department_ID$InActive] in { false }) * [Store].[Store_ID].filter(#.[Store_ID$InActive] in { false })) on row, () on column include lcid 1033, cellproperties {LOCK, BG_COLOR, FG_COLOR} where {[Version].[Version Name].filter(#.Name in { \"CurrentWorkingView\" }).filter(#.[Version Name$InActive] in { false })} ORDERBY [WalmartTime].[Day].[Key] ASC ;', 'LiveFrameReportId': 'ac7e2bcf-c9dc-4d9a-80e8-db712efcbdf2', 'std_count_limit': '200000', 'df': DataFrame[WalmartTimeDay: string, DepartmentDepartmentID: string, StoreStoreID: string, WeeklySales: float]}, 'predict_df1': {'name': 'predict_df1', 'resource_type': <ResourceType.IBPL: 'ibpl_query'>, 'data_source': <DataSource.LS: 'liveserver'>, 'query': 'select (Version.[Version Name]*Product.[Product].[208821]*Time.FiscalWeek*SalesAccount.[Account]*Location.[Location]*{Measure.[DPSellOutUnitsActuals],Measure.[Mean Pricing Save PCT],Measure.[Placement Count],Measure.[Promotion Count],Measure.[DPSellOutPrice]});', 'std_count_limit': '200000', 'df': DataFrame[VersionVersionName: string, ProductProduct: string, TimeFiscalWeek: string, SalesAccountAccount: string, LocationLocation: string, DPSellOutUnitsActuals: float, MeanPricingSavePCT: float, PlacementCount: float, PromotionCount: float, DPSellOutPrice: float]}}"
          ]
        }
      ],
      "source": [
        "O9DataLake.inputs"
      ]
    },
    {
      "cell_type": "code",
      "execution_count": 10,
      "id": "e157c652-ca34-4df3-80cf-1f554e83b8fc",
      "metadata": {
        "tags": [
          "o9_ignore"
        ]
      },
      "outputs": [
        {
          "data": {
            "application/vnd.jupyter.widget-view+json": {
              "model_id": "",
              "version_major": 2,
              "version_minor": 0
            },
            "text/plain": [
              "FloatProgress(value=0.0, bar_style='info', description='Progress:', layout=Layout(height='25px', width='50%'),\u2026"
            ]
          },
          "metadata": {},
          "output_type": "display_data"
        },
        {
          "name": "stdout",
          "output_type": "stream",
          "text": [
            "<class 'pyspark.sql.dataframe.DataFrame'>"
          ]
        }
      ],
      "source": [
        "type(predict_df1)"
      ]
    },
    {
      "cell_type": "code",
      "execution_count": 20,
      "id": "2bd8b11c-6f70-42f2-b2f9-3d4bf38c8420",
      "metadata": {
        "tags": [
          "o9_ignore"
        ]
      },
      "outputs": [
        {
          "data": {
            "application/vnd.jupyter.widget-view+json": {
              "model_id": "",
              "version_major": 2,
              "version_minor": 0
            },
            "text/plain": [
              "FloatProgress(value=0.0, bar_style='info', description='Progress:', layout=Layout(height='25px', width='50%'),\u2026"
            ]
          },
          "metadata": {},
          "output_type": "display_data"
        },
        {
          "name": "stdout",
          "output_type": "stream",
          "text": [
            "<class 'pyspark.sql.dataframe.DataFrame'>"
          ]
        }
      ],
      "source": [
        "type(newsysreportq)"
      ]
    },
    {
      "cell_type": "code",
      "execution_count": 14,
      "id": "ec6865ef-abd5-440f-8a6f-ec7048786276",
      "metadata": {
        "tags": [
          "o9_ignore"
        ]
      },
      "outputs": [
        {
          "data": {
            "application/vnd.jupyter.widget-view+json": {
              "model_id": "",
              "version_major": 2,
              "version_minor": 0
            },
            "text/plain": [
              "FloatProgress(value=0.0, bar_style='info', description='Progress:', layout=Layout(height='25px', width='50%'),\u2026"
            ]
          },
          "metadata": {},
          "output_type": "display_data"
        },
        {
          "name": "stdout",
          "output_type": "stream",
          "text": [
            "320"
          ]
        }
      ],
      "source": [
        "predict_df1.count()"
      ]
    },
    {
      "cell_type": "code",
      "execution_count": 21,
      "id": "59afeefb-cf1d-4efb-9167-4b20c59785c0",
      "metadata": {},
      "outputs": [
        {
          "data": {
            "application/vnd.jupyter.widget-view+json": {
              "model_id": "",
              "version_major": 2,
              "version_minor": 0
            },
            "text/plain": [
              "FloatProgress(value=0.0, bar_style='info', description='Progress:', layout=Layout(height='25px', width='50%'),\u2026"
            ]
          },
          "metadata": {},
          "output_type": "display_data"
        },
        {
          "name": "stdout",
          "output_type": "stream",
          "text": [
            "421570"
          ]
        }
      ],
      "source": [
        "newsysreportq.count()"
      ]
    },
    {
      "cell_type": "code",
      "execution_count": 22,
      "id": "0ce9fd4e-89d9-436c-b765-c0c01c646d75",
      "metadata": {},
      "outputs": [
        {
          "data": {
            "application/vnd.jupyter.widget-view+json": {
              "model_id": "",
              "version_major": 2,
              "version_minor": 0
            },
            "text/plain": [
              "FloatProgress(value=0.0, bar_style='info', description='Progress:', layout=Layout(height='25px', width='50%'),\u2026"
            ]
          },
          "metadata": {},
          "output_type": "display_data"
        }
      ],
      "source": [
        "# fetching inputs\n",
        "predict_df1 = O9DataLake.get('predict_df1')\n",
        "newsysreportq = O9DataLake.get('ReportName-Shashank')\n",
        "# fetching script params\n",
        "value1 = O9DataLake.get_script_param(\"var1\")\n",
        "value2 = O9DataLake.get_script_param(\"var2\")"
      ]
    },
    {
      "cell_type": "code",
      "execution_count": 24,
      "id": "c2987c81-e0d2-40a8-8a32-cde76a4d69a0",
      "metadata": {},
      "outputs": [
        {
          "data": {
            "application/vnd.jupyter.widget-view+json": {
              "model_id": "",
              "version_major": 2,
              "version_minor": 0
            },
            "text/plain": [
              "FloatProgress(value=0.0, bar_style='info', description='Progress:', layout=Layout(height='25px', width='50%'),\u2026"
            ]
          },
          "metadata": {},
          "output_type": "display_data"
        },
        {
          "name": "stdout",
          "output_type": "stream",
          "text": [
            "2024-11-11 10:09:02,789 - o9_logger - DEBUG - predict_df1 dataframe:  320\n",
            "2024-11-11 10:09:03,281 - o9_logger - DEBUG - liveinput dataframe:  421570\n",
            "2024-11-11 10:09:03,282 - o9_logger - DEBUG - script param var1 value: 20\n",
            "2024-11-11 10:09:03,282 - o9_logger - DEBUG - script param var2 value: Test1"
          ]
        }
      ],
      "source": [
        "# package imports\n",
        "import logging\n",
        "from sklearn import tree\n",
        "\n",
        "# initialize output variables\n",
        "output1 = None\n",
        "output2 = None\n",
        "\n",
        "\n",
        "# initialize logger\n",
        "logger = logging.getLogger('o9_logger')\n",
        "\n",
        "logger.debug(f'predict_df1 dataframe:  {predict_df1.count()}')\n",
        "logger.debug(f'liveinput dataframe:  {newsysreportq.count()}')\n",
        "logger.debug(f'script param var1 value: {value1}')\n",
        "logger.debug(f'script param var2 value: {value2}')"
      ]
    },
    {
      "cell_type": "code",
      "execution_count": 25,
      "id": "179c1e81-6102-43a5-bef7-95f8cd934ded",
      "metadata": {},
      "outputs": [
        {
          "data": {
            "application/vnd.jupyter.widget-view+json": {
              "model_id": "",
              "version_major": 2,
              "version_minor": 0
            },
            "text/plain": [
              "FloatProgress(value=0.0, bar_style='info', description='Progress:', layout=Layout(height='25px', width='50%'),\u2026"
            ]
          },
          "metadata": {},
          "output_type": "display_data"
        },
        {
          "name": "stdout",
          "output_type": "stream",
          "text": [
            "2024-11-11 10:09:08,549 - o9_logger - DEBUG - systemreport dataframe:  Row(WalmartTimeDay='02-05-2010', DepartmentDepartmentID='1', StoreStoreID='1', WeeklySales=24924.5)"
          ]
        }
      ],
      "source": [
        "output = newsysreportq\n",
        "logger.debug(f'systemreport dataframe:  {newsysreportq.head()}')"
      ]
    },
    {
      "cell_type": "code",
      "execution_count": 26,
      "id": "e58f724b-c6ed-4dd7-918b-314f2fc5e26d",
      "metadata": {},
      "outputs": [
        {
          "data": {
            "application/vnd.jupyter.widget-view+json": {
              "model_id": "",
              "version_major": 2,
              "version_minor": 0
            },
            "text/plain": [
              "FloatProgress(value=0.0, bar_style='info', description='Progress:', layout=Layout(height='25px', width='50%'),\u2026"
            ]
          },
          "metadata": {},
          "output_type": "display_data"
        },
        {
          "name": "stdout",
          "output_type": "stream",
          "text": [
            "Plugin Execution completed"
          ]
        }
      ],
      "source": [
        "print(\"Plugin Execution completed\")"
      ]
    },
    {
      "cell_type": "code",
      "execution_count": null,
      "id": "f4acf00f-c80e-42db-bf23-64d79f04e9e9",
      "metadata": {},
      "outputs": [],
      "source": []
    }
  ],
  "metadata": {
    "id": "27456d28-d26e-4763-b261-b16851cf8870",
    "kernelspec": {
      "display_name": "[SparkK8Org1Tenant12] Tenant Conda Environment",
      "language": "python",
      "name": "genieaz_sparkk8org1tenant12"
    },
    "language_info": {
      "codemirror_mode": {
        "name": "ipython",
        "version": 3
      },
      "file_extension": ".py",
      "mimetype": "text/x-python",
      "name": "python",
      "nbconvert_exporter": "python",
      "pygments_lexer": "ipython3",
      "version": "3.10.5"
    }
  },
  "nbformat": 4,
  "nbformat_minor": 5
}