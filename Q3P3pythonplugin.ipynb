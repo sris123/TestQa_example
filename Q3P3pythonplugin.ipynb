{
 "cells": [
  {
   "cell_type": "code",
   "execution_count": 6,
   "id": "d422feab-0cd8-4c19-ae0f-ab95abae0bc3",
   "metadata": {},
   "outputs": [],
   "source": [
    "_predict_df = \"select (Version.[Version Name]*Product.[Product].[208821]*Time.FiscalWeek*SalesAccount.[Account]*Location.[Location]*{Measure.[DPSellOutUnitsActuals],Measure.[Mean Pricing Save PCT],Measure.[Placement Count],Measure.[Promotion Count],Measure.[DPSellOutPrice]});\"\n",
    "\n",
    "from o9_common_utils.O9DataLake import O9DataLake, ResourceType, DataSource,PluginSetting\n",
    "\n",
    "# register inputs\n",
    "predict_df = O9DataLake.register(\"predict_df\",data_source = DataSource.LS, entity_type = ResourceType.IBPL, query = _predict_df,plugin_setting = PluginSetting.Inputs)\n",
    "\n",
    "\n",
    "\n",
    "# register slice dimension\n",
    "O9DataLake.register(\"Product.[Product]\", data_source = DataSource.LS, entity_type = ResourceType.IBPL, plugin_setting = PluginSetting.SliceDimension)\n",
    "\n",
    "# register outputs\n",
    "O9DataLake.register(\"output1\",data_source = DataSource.LS,entity_type = ResourceType.IBPL, plugin_setting = PluginSetting.Outputs)\n",
    "O9DataLake.register(\"output2\",data_source = DataSource.LS,entity_type = ResourceType.IBPL, plugin_setting = PluginSetting.Outputs)\n",
    "\n",
    "# register script params\n",
    "script_params = O9DataLake.register({\"var1\":\"50\",\"var2\":\"Test1\",\"var3\":\"newparam\",\"var4\":\"80\"}, data_source = DataSource.LS, plugin_setting = PluginSetting.ScriptParam)"
   ]
  },
  {
   "cell_type": "code",
   "execution_count": 4,
   "id": "c918efcb-1a7e-4c2b-b8da-d2a51fbaf4b7",
   "metadata": {},
   "outputs": [],
   "source": [
    "O9DataLake.register(\"Version.[Version Name]\", data_source = DataSource.LS, entity_type = ResourceType.IBPL, plugin_setting = PluginSetting.SliceDimension)"
   ]
  },
  {
   "cell_type": "code",
   "execution_count": 2,
   "id": "b7ad261c-e36c-41c7-8871-4e1dc701186f",
   "metadata": {},
   "outputs": [],
   "source": [
    "from o9_common_utils.O9DataLake import O9DataLake, ResourceType, DataSource,PluginSetting\n",
    "liveinput1 = O9DataLake.register(\"new_report\",data_source = DataSource.LIVEFRAME,entity_type = ResourceType.LIVEFRAME,plugin_setting = PluginSetting.Inputs)"
   ]
  },
  {
   "cell_type": "code",
   "execution_count": 3,
   "id": "2ec78c9a-0027-4eb3-81ff-3356d6bcdc35",
   "metadata": {},
   "outputs": [
    {
     "data": {
      "text/html": [
       "<div>\n",
       "<style scoped>\n",
       "    .dataframe tbody tr th:only-of-type {\n",
       "        vertical-align: middle;\n",
       "    }\n",
       "\n",
       "    .dataframe tbody tr th {\n",
       "        vertical-align: top;\n",
       "    }\n",
       "\n",
       "    .dataframe thead th {\n",
       "        text-align: right;\n",
       "    }\n",
       "</style>\n",
       "<table border=\"1\" class=\"dataframe\">\n",
       "  <thead>\n",
       "    <tr style=\"text-align: right;\">\n",
       "      <th></th>\n",
       "      <th>WalmartTime.[Day]</th>\n",
       "      <th>Store.[Store_ID]</th>\n",
       "      <th>CPI</th>\n",
       "    </tr>\n",
       "  </thead>\n",
       "  <tbody>\n",
       "    <tr>\n",
       "      <th>0</th>\n",
       "      <td>02-05-2010</td>\n",
       "      <td>1</td>\n",
       "      <td>211.096358</td>\n",
       "    </tr>\n",
       "    <tr>\n",
       "      <th>1</th>\n",
       "      <td>02-05-2010</td>\n",
       "      <td>10</td>\n",
       "      <td>130.741379</td>\n",
       "    </tr>\n",
       "    <tr>\n",
       "      <th>2</th>\n",
       "      <td>02-05-2010</td>\n",
       "      <td>11</td>\n",
       "      <td>214.666074</td>\n",
       "    </tr>\n",
       "    <tr>\n",
       "      <th>3</th>\n",
       "      <td>02-05-2010</td>\n",
       "      <td>12</td>\n",
       "      <td>131.037548</td>\n",
       "    </tr>\n",
       "    <tr>\n",
       "      <th>4</th>\n",
       "      <td>02-05-2010</td>\n",
       "      <td>13</td>\n",
       "      <td>126.128355</td>\n",
       "    </tr>\n",
       "    <tr>\n",
       "      <th>...</th>\n",
       "      <td>...</td>\n",
       "      <td>...</td>\n",
       "      <td>...</td>\n",
       "    </tr>\n",
       "    <tr>\n",
       "      <th>7600</th>\n",
       "      <td>07-26-2013</td>\n",
       "      <td>5</td>\n",
       "      <td>220.476019</td>\n",
       "    </tr>\n",
       "    <tr>\n",
       "      <th>7601</th>\n",
       "      <td>07-26-2013</td>\n",
       "      <td>6</td>\n",
       "      <td>211.894272</td>\n",
       "    </tr>\n",
       "    <tr>\n",
       "      <th>7602</th>\n",
       "      <td>07-26-2013</td>\n",
       "      <td>7</td>\n",
       "      <td>196.919506</td>\n",
       "    </tr>\n",
       "    <tr>\n",
       "      <th>7603</th>\n",
       "      <td>07-26-2013</td>\n",
       "      <td>8</td>\n",
       "      <td>214.250032</td>\n",
       "    </tr>\n",
       "    <tr>\n",
       "      <th>7604</th>\n",
       "      <td>07-26-2013</td>\n",
       "      <td>9</td>\n",
       "      <td>224.804683</td>\n",
       "    </tr>\n",
       "  </tbody>\n",
       "</table>\n",
       "<p>7605 rows × 3 columns</p>\n",
       "</div>"
      ],
      "text/plain": [
       "     WalmartTime.[Day]  Store.[Store_ID]         CPI\n",
       "0           02-05-2010                 1  211.096358\n",
       "1           02-05-2010                10  130.741379\n",
       "2           02-05-2010                11  214.666074\n",
       "3           02-05-2010                12  131.037548\n",
       "4           02-05-2010                13  126.128355\n",
       "...                ...               ...         ...\n",
       "7600        07-26-2013                 5  220.476019\n",
       "7601        07-26-2013                 6  211.894272\n",
       "7602        07-26-2013                 7  196.919506\n",
       "7603        07-26-2013                 8  214.250032\n",
       "7604        07-26-2013                 9  224.804683\n",
       "\n",
       "[7605 rows x 3 columns]"
      ]
     },
     "execution_count": 3,
     "metadata": {},
     "output_type": "execute_result"
    }
   ],
   "source": [
    "liveinput1"
   ]
  },
  {
   "cell_type": "code",
   "execution_count": 8,
   "id": "11269238-91c4-4edb-aec1-37c7ce1726be",
   "metadata": {},
   "outputs": [],
   "source": [
    "# fetching inputs\n",
    "predict_df = O9DataLake.get('predict_df')\n",
    "\n",
    "liveinput = O9DataLake.get('new_report')\n",
    "# fetching script params\n",
    "value1 = O9DataLake.get_script_param(\"var1\")\n",
    "value2 = O9DataLake.get_script_param(\"var2\")"
   ]
  },
  {
   "cell_type": "code",
   "execution_count": 9,
   "id": "23d49f3d-0c89-4bda-bb13-2739487c16a2",
   "metadata": {},
   "outputs": [
    {
     "name": "stdout",
     "output_type": "stream",
     "text": [
      "2024-10-06 15:19:59,657 - o9_logger - DEBUG  - predict_df dataframe:  (320, 10)\n",
      "2024-10-06 15:19:59,659 - o9_logger - DEBUG  - liveinput dataframe:  (7605, 3)\n",
      "2024-10-06 15:19:59,660 - o9_logger - DEBUG  - script param var1 value: 50\n",
      "2024-10-06 15:19:59,661 - o9_logger - DEBUG  - script param var2 value: Test1\n"
     ]
    }
   ],
   "source": [
    "#user script\n",
    "\n",
    "# package imports\n",
    "import logging\n",
    "from sklearn import tree\n",
    "\n",
    "# initialize output variables\n",
    "output1 = None\n",
    "output2 = None\n",
    "\n",
    "\n",
    "# initialize logger\n",
    "logger = logging.getLogger('o9_logger')\n",
    "\n",
    "logger.debug(f'predict_df dataframe:  {predict_df.shape}')\n",
    "\n",
    "logger.debug(f'liveinput dataframe:  {liveinput.shape}')\n",
    "logger.debug(f'script param var1 value: {value1}')\n",
    "logger.debug(f'script param var2 value: {value2}')"
   ]
  },
  {
   "cell_type": "code",
   "execution_count": 10,
   "id": "3cdb33cc-94d6-4a05-9c3c-2bdd37da6758",
   "metadata": {},
   "outputs": [
    {
     "name": "stdout",
     "output_type": "stream",
     "text": [
      "2024-10-06 15:20:06,497 - o9_logger - DEBUG  - systemreport dataframe:    WalmartTime.[Day]  Store.[Store_ID]         CPI\n",
      "0        02-05-2010                 1  211.096358\n",
      "1        02-05-2010                10  130.741379\n",
      "2        02-05-2010                11  214.666074\n",
      "3        02-05-2010                12  131.037548\n",
      "4        02-05-2010                13  126.128355\n"
     ]
    }
   ],
   "source": [
    "output1 = liveinput\n",
    "logger.debug(f'systemreport dataframe:  {liveinput.head()}')"
   ]
  },
  {
   "cell_type": "code",
   "execution_count": 12,
   "id": "ab83f17e-d95c-4b9f-9b7d-60d61b6dab80",
   "metadata": {},
   "outputs": [],
   "source": [
    "O9DataLake.put('output1', predict_df)"
   ]
  },
  {
   "cell_type": "code",
   "execution_count": null,
   "id": "bedcb040-33d1-44d0-971f-a650497c5f4c",
   "metadata": {},
   "outputs": [],
   "source": []
  }
 ],
 "metadata": {
  "kernelspec": {
   "display_name": "[pyplatformhivetest] Tenant Conda Environment",
   "language": "python",
   "name": "genieaz_pyplatformhivetest"
  },
  "language_info": {
   "codemirror_mode": {
    "name": "ipython",
    "version": 3
   },
   "file_extension": ".py",
   "mimetype": "text/x-python",
   "name": "python",
   "nbconvert_exporter": "python",
   "pygments_lexer": "ipython3",
   "version": "3.7.10"
  }
 },
 "nbformat": 4,
 "nbformat_minor": 5
}
