{
 "cells": [
  {
   "cell_type": "code",
   "execution_count": null,
   "id": "0e3ac900-fb2b-419c-808a-85925a2dbba2",
   "metadata": {
    "tags": [
     "o9_ignore"
    ]
   },
   "outputs": [
    {
     "data": {
      "application/vnd.jupyter.widget-view+json": {
       "model_id": "4e58e17cb8cf450eb02014a97458abe2",
       "version_major": 2,
       "version_minor": 0
      },
      "text/plain": [
       "FloatProgress(value=0.0, bar_style='info', description='Progress:', layout=Layout(height='25px', width='50%'),…"
      ]
     },
     "metadata": {},
     "output_type": "display_data"
    }
   ],
   "source": [
    "import time\n",
    "\n",
    "def main():\n",
    "    duration_hours = 1.5\n",
    "    duration_seconds = int(duration_hours * 3600)\n",
    "\n",
    "    start_time = time.time()\n",
    "    end_time = start_time + duration_seconds\n",
    "\n",
    "    while time.time() < end_time:\n",
    "        # Your main script logic goes here\n",
    "        # This loop will run for 1.5 hours\n",
    "\n",
    "        # For example, print a message every second\n",
    "        print(\"Script is running...\")\n",
    "\n",
    "        # Sleep for a short interval to avoid consuming too much CPU\n",
    "        time.sleep(1)\n",
    "\n",
    "main()"
   ]
  },
  {
   "cell_type": "code",
   "execution_count": 5,
   "id": "8a033179-a258-4fd4-ab11-33fb66f29719",
   "metadata": {},
   "outputs": [
    {
     "data": {
      "application/vnd.jupyter.widget-view+json": {
       "model_id": "",
       "version_major": 2,
       "version_minor": 0
      },
      "text/plain": [
       "FloatProgress(value=0.0, bar_style='info', description='Progress:', layout=Layout(height='25px', width='50%'),…"
      ]
     },
     "metadata": {},
     "output_type": "display_data"
    }
   ],
   "source": [
    "_input_df = \"select (Version.[Version Name]*Product.[Product].[196426]*Time.FiscalWeek*SalesAccount.[Account]*Location.[Location]*{Measure.[DPSellOutUnitsActuals],Measure.[Mean Pricing Save PCT],Measure.[Placement Count],Measure.[Promotion Count],Measure.[DPSellOutPrice]});\"\n",
    "\n",
    "\n",
    "\n",
    "# Initialize the O9DataLake with the input parameters and dataframes\n",
    "# Data can be accessed with O9DataLake.get(<Input Name>)\n",
    "# Overwritten values will not be reflected in the O9DataLake after initialization\n",
    "\n",
    "from o9_common_utils.O9DataLake import O9DataLake, ResourceType, DataSource,PluginSetting\n",
    "input_df = O9DataLake.register(\"input_df\",data_source = DataSource.LS, entity_type = ResourceType.IBPL, query = _input_df,plugin_setting = PluginSetting.Inputs, spark = spark)\n",
    "#predict_df = O9DataLake.register(\"predict_df\",data_source = DataSource.LS, entity_type = ResourceType.IBPL, query = _predict_df,plugin_setting = PluginSetting.Inputs, spark = spark)\n",
    "\n",
    "O9DataLake.register(\"out_df\",data_source = DataSource.LS,entity_type = ResourceType.IBPL,plugin_setting = PluginSetting.Outputs, spark = spark )\n",
    "script_params = O9DataLake.register({}, data_source = DataSource.LS,plugin_setting = PluginSetting.ScriptParam, spark = spark)"
   ]
  },
  {
   "cell_type": "code",
   "execution_count": 6,
   "id": "385ce5c7-0a9c-43f8-9cee-4b4d51945f9e",
   "metadata": {},
   "outputs": [
    {
     "data": {
      "application/vnd.jupyter.widget-view+json": {
       "model_id": "",
       "version_major": 2,
       "version_minor": 0
      },
      "text/plain": [
       "FloatProgress(value=0.0, bar_style='info', description='Progress:', layout=Layout(height='25px', width='50%'),…"
      ]
     },
     "metadata": {},
     "output_type": "display_data"
    },
    {
     "name": "stdout",
     "output_type": "stream",
     "text": [
      "<class 'pyspark.sql.dataframe.DataFrame'>"
     ]
    }
   ],
   "source": [
    "type(input_df)\n"
   ]
  },
  {
   "cell_type": "code",
   "execution_count": 8,
   "id": "7435c76e-abd8-455a-b5ec-b1bca9f8a755",
   "metadata": {},
   "outputs": [
    {
     "data": {
      "application/vnd.jupyter.widget-view+json": {
       "model_id": "",
       "version_major": 2,
       "version_minor": 0
      },
      "text/plain": [
       "FloatProgress(value=0.0, bar_style='info', description='Progress:', layout=Layout(height='25px', width='50%'),…"
      ]
     },
     "metadata": {},
     "output_type": "display_data"
    },
    {
     "name": "stdout",
     "output_type": "stream",
     "text": [
      "+------------------+--------------+--------------+-------------------+----------------+---------------------+------------------+--------------+--------------+--------------+\n",
      "|VersionVersionName|ProductProduct|TimeFiscalWeek|SalesAccountAccount|LocationLocation|DPSellOutUnitsActuals|MeanPricingSavePCT|PlacementCount|PromotionCount|DPSellOutPrice|\n",
      "+------------------+--------------+--------------+-------------------+----------------+---------------------+------------------+--------------+--------------+--------------+\n",
      "|                S1|        196426|      W03-2016|                ALL|             ALL|                  1.0|               NaN|           NaN|           NaN|           6.0|\n",
      "|CurrentWorkingView|        196426|      W03-2016|                ALL|             ALL|                  1.0|               NaN|           NaN|           NaN|           6.0|\n",
      "|                S1|        196426|      W05-2016|                ALL|             ALL|                  2.0|               NaN|           NaN|           NaN|           9.5|\n",
      "|CurrentWorkingView|        196426|      W05-2016|                ALL|             ALL|                  2.0|               NaN|           NaN|           NaN|           9.5|\n",
      "|                S1|        196426|      W08-2016|                ALL|             ALL|                  1.0|               NaN|           NaN|           NaN|           6.0|\n",
      "|CurrentWorkingView|        196426|      W08-2016|                ALL|             ALL|                  1.0|               NaN|           NaN|           NaN|           6.0|\n",
      "|                S1|        196426|      W13-2016|                ALL|             ALL|                  1.0|               NaN|           NaN|           NaN|          13.0|\n",
      "|CurrentWorkingView|        196426|      W13-2016|                ALL|             ALL|                  1.0|               NaN|           NaN|           NaN|          13.0|\n",
      "|                S1|        196426|      W48-2016|                ALL|             ALL|                  1.0|               NaN|           NaN|           NaN|          13.0|\n",
      "|CurrentWorkingView|        196426|      W48-2016|                ALL|             ALL|                  1.0|               NaN|           NaN|           NaN|          13.0|\n",
      "|                S1|        196426|      W42-2017|                ALL|             ALL|                  1.0|               NaN|           NaN|           NaN|          13.0|\n",
      "|CurrentWorkingView|        196426|      W42-2017|                ALL|             ALL|                  1.0|               NaN|           NaN|           NaN|          13.0|\n",
      "|                S1|        196426|      W44-2017|                ALL|             ALL|                  1.0|               NaN|           NaN|           NaN|          13.0|\n",
      "|CurrentWorkingView|        196426|      W44-2017|                ALL|             ALL|                  1.0|               NaN|           NaN|           NaN|          13.0|\n",
      "+------------------+--------------+--------------+-------------------+----------------+---------------------+------------------+--------------+--------------+--------------+"
     ]
    }
   ],
   "source": [
    "input_df.show()"
   ]
  },
  {
   "cell_type": "code",
   "execution_count": null,
   "id": "c1628fdd-a59d-472d-8fd1-d1f5a828c2b3",
   "metadata": {},
   "outputs": [],
   "source": []
  },
  {
   "cell_type": "code",
   "execution_count": null,
   "id": "4ba68761-1f31-4abe-8a59-4737141f4d3d",
   "metadata": {},
   "outputs": [],
   "source": []
  }
 ],
 "metadata": {
  "id": "3b975845-050c-4732-a966-beeff444c511",
  "kernelspec": {
   "display_name": "[pyplatformhivetest] Tenant Conda Environment",
   "language": "python",
   "name": "qabambi_pyplatformhivetest"
  },
  "language_info": {
   "codemirror_mode": {
    "name": "ipython",
    "version": 3
   },
   "file_extension": ".py",
   "mimetype": "text/x-python",
   "name": "python",
   "nbconvert_exporter": "python",
   "pygments_lexer": "ipython3",
   "version": "3.7.10"
  }
 },
 "nbformat": 4,
 "nbformat_minor": 5
}
