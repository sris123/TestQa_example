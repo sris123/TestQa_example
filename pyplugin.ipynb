{
 "cells": [
  {
   "cell_type": "code",
   "execution_count": 14,
   "id": "acc2e388-6e0b-40db-a27b-c0076c6c2a11",
   "metadata": {},
   "outputs": [],
   "source": [
    "_DPBaseInputs = \"select (Version.[Version Name]*Product.[Product].Filter(#.Name in {[196426],[208821]})*Time.FiscalWeek*SalesAccount.[Account]*Location.[Location]*{Measure.[DPSellOutUnitsActuals],Measure.[Mean Pricing Save PCT],Measure.[Placement Count],Measure.[Promotion Count],Measure.[DPSellOutPrice]});\"\n",
    "\n",
    "\n",
    "# Initialize the O9DataLake with the input parameters and dataframes\n",
    "# Data can be accessed with O9DataLake.get(<Input Name>)\n",
    "# Overwritten values will not be reflected in the O9DataLake after initialization\n",
    "\n",
    "from o9_common_utils.O9DataLake import O9DataLake, ResourceType, DataSource,PluginSetting\n",
    "DPBaseInputs = O9DataLake.register(\"DPBaseInputs\",data_source = DataSource.LS, entity_type = ResourceType.IBPL, query = _DPBaseInputs,plugin_setting = PluginSetting.Inputs)\n",
    "O9DataLake.register(\"Product.[Product]\", data_source = DataSource.LS, entity_type = ResourceType.IBPL,plugin_setting = PluginSetting.SliceDimension)\n",
    "\n",
    "O9DataLake.register(\"out_df\",data_source = DataSource.LS,entity_type = ResourceType.IBPL,plugin_setting = PluginSetting.Outputs)\n",
    "script_params = O9DataLake.register({\"var1\":\"10\"}, data_source = DataSource.LS,plugin_setting = PluginSetting.ScriptParam)"
   ]
  },
  {
   "cell_type": "code",
   "execution_count": 3,
   "id": "fd17fcf7-59e5-4a2e-a1fe-cf042702d147",
   "metadata": {},
   "outputs": [
    {
     "data": {
      "text/plain": [
       "{'DPBaseInputs': {'name': 'DPBaseInputs',\n",
       "  'resource_type': <ResourceType.IBPL: 'ibpl_query'>,\n",
       "  'data_source': <DataSource.LS: 'liveserver'>,\n",
       "  'query': 'select (Version.[Version Name]*Product.[Product].Filter(#.Name in {[196426],[208821]})*Time.FiscalWeek*SalesAccount.[Account]*Location.[Location]*{Measure.[DPSellOutUnitsActuals],Measure.[Mean Pricing Save PCT],Measure.[Placement Count],Measure.[Promotion Count],Measure.[DPSellOutPrice]});',\n",
       "  'std_count_limit': '200000',\n",
       "  'df':     Version.[Version Name]  Product.[Product] Time.[FiscalWeek]  \\\n",
       "  0                       S1             196426          W03-2016   \n",
       "  1       CurrentWorkingView             196426          W03-2016   \n",
       "  2                       S1             196426          W05-2016   \n",
       "  3       CurrentWorkingView             196426          W05-2016   \n",
       "  4                       S1             196426          W08-2016   \n",
       "  ..                     ...                ...               ...   \n",
       "  329     CurrentWorkingView             208821          W50-2018   \n",
       "  330                     S1             208821          W51-2018   \n",
       "  331     CurrentWorkingView             208821          W51-2018   \n",
       "  332                     S1             208821          W52-2018   \n",
       "  333     CurrentWorkingView             208821          W52-2018   \n",
       "  \n",
       "      SalesAccount.[Account] Location.[Location]  DPSellOutUnitsActuals  \\\n",
       "  0                      ALL                 ALL                    1.0   \n",
       "  1                      ALL                 ALL                    1.0   \n",
       "  2                      ALL                 ALL                    2.0   \n",
       "  3                      ALL                 ALL                    2.0   \n",
       "  4                      ALL                 ALL                    1.0   \n",
       "  ..                     ...                 ...                    ...   \n",
       "  329                    ALL                 ALL                    NaN   \n",
       "  330                    ALL                 ALL                    NaN   \n",
       "  331                    ALL                 ALL                    NaN   \n",
       "  332                    ALL                 ALL                    NaN   \n",
       "  333                    ALL                 ALL                    NaN   \n",
       "  \n",
       "       Mean Pricing Save PCT  Placement Count  Promotion Count  DPSellOutPrice  \n",
       "  0                      NaN              NaN              NaN             6.0  \n",
       "  1                      NaN              NaN              NaN             6.0  \n",
       "  2                      NaN              NaN              NaN             9.5  \n",
       "  3                      NaN              NaN              NaN             9.5  \n",
       "  4                      NaN              NaN              NaN             6.0  \n",
       "  ..                     ...              ...              ...             ...  \n",
       "  329                    NaN              1.0              NaN             NaN  \n",
       "  330                    NaN              1.0              NaN             NaN  \n",
       "  331                    NaN              1.0              NaN             NaN  \n",
       "  332                    NaN              1.0              NaN             NaN  \n",
       "  333                    NaN              1.0              NaN             NaN  \n",
       "  \n",
       "  [334 rows x 10 columns]}}"
      ]
     },
     "execution_count": 3,
     "metadata": {},
     "output_type": "execute_result"
    }
   ],
   "source": [
    "O9DataLake.inputs"
   ]
  },
  {
   "cell_type": "code",
   "execution_count": null,
   "id": "d4b44082-4ae8-4686-aa01-cdfb24d09c84",
   "metadata": {},
   "outputs": [],
   "source": []
  }
 ],
 "metadata": {
  "id": "ac7c92f5-f835-4307-8f2f-7221458e0686",
  "kernelspec": {
   "display_name": "[pyplatformhivetest] Tenant Conda Environment",
   "language": "python",
   "name": "k8qa_pyplatformhivetest"
  },
  "language_info": {
   "codemirror_mode": {
    "name": "ipython",
    "version": 3
   },
   "file_extension": ".py",
   "mimetype": "text/x-python",
   "name": "python",
   "nbconvert_exporter": "python",
   "pygments_lexer": "ipython3",
   "version": "3.7.10"
  }
 },
 "nbformat": 4,
 "nbformat_minor": 5
}
