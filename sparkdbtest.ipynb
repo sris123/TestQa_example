{
  "cells": [
    {
      "cell_type": "code",
      "execution_count": null,
      "id": "0366dd9d-957d-4767-abf8-10c7d9974585",
      "metadata": {},
      "outputs": [],
      "source": [
        "_input_df = \"select (Version.[Version Name]*Product.[Product]*Time.FiscalWeek*SalesAccount.[Account]*Location.[Location]*{Measure.[DPSellOutUnitsActuals],Measure.[Mean Pricing Save PCT],Measure.[Placement Count],Measure.[Promotion Count],Measure.[DPSellOutPrice]}) limit 10;\"\n",
        "\n",
        "\n",
        "\n",
        "# Initialize the O9DataLake with the input parameters and dataframes\n",
        "# Data can be accessed with O9DataLake.get(<Input Name>)\n",
        "# Overwritten values will not be reflected in the O9DataLake after initialization\n",
        "\n",
        "from o9_common_utils.O9DataLake import O9DataLake, ResourceType, DataSource,PluginSetting\n",
        "input_df = O9DataLake.register(\"input_df\",data_source = DataSource.LS, entity_type = ResourceType.IBPL, query = _input_df,plugin_setting = PluginSetting.Inputs, spark = spark)\n",
        "\n",
        "\n",
        "O9DataLake.register(\"out_df\",data_source = DataSource.LS,entity_type = ResourceType.IBPL,plugin_setting = PluginSetting.Outputs, spark = spark )\n",
        "script_params = O9DataLake.register({}, data_source = DataSource.LS,plugin_setting = PluginSetting.ScriptParam, spark = spark)"
      ]
    },
    {
      "cell_type": "code",
      "execution_count": null,
      "id": "37dfdc95-bfda-451c-a30c-fa93badbca71",
      "metadata": {},
      "outputs": [],
      "source": [
        "from o9_common_utils.O9DataLake import O9DataLake\n",
        "import logging\n",
        "logger = logging.getLogger('o9_logger')\n",
        "logger.info(\"--Spark Script: START--\")\n",
        "\n",
        "logger.info('In User script')\n",
        "\n",
        "\n",
        "logger.info(\"Hello: We are in main script\")\n",
        "\n",
        "input_df= O9DataLake.get('input_df')\n",
        "logger.info(input_df.count())\n",
        "logger.info(\"input_df\")\n"
      ]
    }
  ],
  "metadata": {
    "id": "09d9c962-ef5d-4e24-a79a-b35246783330",
    "kernelspec": {
      "display_name": "[k8tenantprashant] Tenant Conda Environment",
      "language": "python",
      "name": "qa_k8tenantprashant"
    },
    "language_info": {
      "codemirror_mode": {
        "name": "ipython",
        "version": 3
      },
      "file_extension": ".py",
      "mimetype": "text/x-python",
      "name": "python",
      "nbconvert_exporter": "python",
      "pygments_lexer": "ipython3",
      "version": "3.10.5"
    }
  },
  "nbformat": 4,
  "nbformat_minor": 5
}