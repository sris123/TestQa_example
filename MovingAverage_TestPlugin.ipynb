{
 "cells": [
  {
   "cell_type": "code",
   "execution_count": 23,
   "id": "619cd231-6991-4208-b0d4-ff5b58dc08fe",
   "metadata": {},
   "outputs": [],
   "source": [
    "from o9_common_utils.O9DataLake import O9DataLake, ResourceType, DataSource, PluginSetting\n",
    "SalesActual = O9DataLake.register(\"SalesActual\" ,DataSource.LIVEFRAME,ResourceType.LIVEFRAME, plugin_setting = PluginSetting.Inputs)\n",
    "output = O9DataLake.register(\"output\",data_source = DataSource.LS,entity_type = ResourceType.IBPL, plugin_setting = PluginSetting.Outputs)"
   ]
  },
  {
   "cell_type": "code",
   "execution_count": 24,
   "id": "c223c23e-1f84-4cc6-9a75-d86a7bcb0655",
   "metadata": {},
   "outputs": [
    {
     "data": {
      "text/plain": [
       "{'SalesActual': {'name': 'SalesActual',\n",
       "  'resource_type': <ResourceType.LIVEFRAME: 'liveframe'>,\n",
       "  'data_source': <DataSource.LIVEFRAME: 'liveframe'>,\n",
       "  'query': 'SELECT ([Time].[Week].filter(#.[Week$InActive] in { false }) * {Measure.[AIPActual]} * [Item].[Planning Item].filter(#.[Planning Item$InActive] in { false }) * [Location].[Location].filter(#.Name in { \"3\", \"4\", \"5\", \"6\", \"8\" }).relatedmembers([Location]).filter(#.[Location$InActive] in { false })) on row, () on column include lcid 1033, cellproperties {LOCK, BG_COLOR, FG_COLOR} where {[Item].[Item].filter(#.Name in { \"273940\", \"547370\", \"696820\", \"759830\", \"838179\" }).filter(#.[Item$InActive] in { false }) , [Time].[Year].filter(#.Name in { \"2021\", \"2022\", \"2023\" }).filter(#.[Year$InActive] in { false }) , [Version].[Version Name].filter(#.Name in { \"CurrentWorkingView\" }).filter(#.[Version Name$InActive] in { false })} ORDERBY [Time].[Week].[Key] ASC ;',\n",
       "  'LiveFrameReportId': '8ef7dcfe-8a32-472b-83d3-9129d904b332',\n",
       "  'std_count_limit': '200000',\n",
       "  'df':      Time.[Week]  Item.[Planning Item]  Location.[Location]  AIPActual\n",
       "  0      03-Jan-21                273940                    4     2293.0\n",
       "  1      03-Jan-21                273940                    6     2936.0\n",
       "  2      03-Jan-21                273940                    8     7402.0\n",
       "  3      03-Jan-21                547370                    4     4001.0\n",
       "  4      03-Jan-21                547370                    6     4907.0\n",
       "  ...          ...                   ...                  ...        ...\n",
       "  2284   29-Jan-23                838179                    3     4649.0\n",
       "  2285   29-Jan-23                838179                    4     4065.0\n",
       "  2286   29-Jan-23                838179                    5     4319.0\n",
       "  2287   29-Jan-23                838179                    6     3010.0\n",
       "  2288   29-Jan-23                838179                    8     2896.0\n",
       "  \n",
       "  [2289 rows x 4 columns]}}"
      ]
     },
     "execution_count": 24,
     "metadata": {},
     "output_type": "execute_result"
    }
   ],
   "source": [
    "O9DataLake.inputs"
   ]
  },
  {
   "cell_type": "code",
   "execution_count": 26,
   "id": "3f93ca0c-34c4-4770-b42f-c8615b4d0f5c",
   "metadata": {},
   "outputs": [
    {
     "name": "stdout",
     "output_type": "stream",
     "text": [
      "Plugin Execution Done\n"
     ]
    }
   ],
   "source": [
    "print('Plugin Execution Done')"
   ]
  },
  {
   "cell_type": "code",
   "execution_count": null,
   "id": "0f206c77-e04e-4d67-b433-02e81c0065de",
   "metadata": {},
   "outputs": [],
   "source": []
  }
 ],
 "metadata": {
  "kernelspec": {
   "display_name": "[AshutoshGFS] Tenant Conda Environment",
   "language": "python",
   "name": "sandbox_ashutoshgfs"
  },
  "language_info": {
   "codemirror_mode": {
    "name": "ipython",
    "version": 3
   },
   "file_extension": ".py",
   "mimetype": "text/x-python",
   "name": "python",
   "nbconvert_exporter": "python",
   "pygments_lexer": "ipython3",
   "version": "3.7.10"
  }
 },
 "nbformat": 4,
 "nbformat_minor": 5
}
