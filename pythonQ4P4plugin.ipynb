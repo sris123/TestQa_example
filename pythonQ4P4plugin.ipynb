{
 "cells": [
  {
   "cell_type": "code",
   "execution_count": 4,
   "id": "78140a7f-931a-4103-9fd3-cadcde618eb0",
   "metadata": {},
   "outputs": [],
   "source": [
    "_input_df = \"select (Version.[Version Name]*Product.[Product]*Time.FiscalWeek*SalesAccount.[Account]*Location.[Location]*{Measure.[DPSellOutUnitsActuals],Measure.[Mean Pricing Save PCT],Measure.[Placement Count],Measure.[Promotion Count],Measure.[DPSellOutPrice]}) limit 10;\"\n",
    "\n",
    "\n",
    "\n",
    "# Initialize the O9DataLake with the input parameters and dataframes\n",
    "# Data can be accessed with O9DataLake.get(<Input Name>)\n",
    "# Overwritten values will not be reflected in the O9DataLake after initialization\n",
    "\n",
    "from o9_common_utils.O9DataLake import O9DataLake, ResourceType, DataSource,PluginSetting\n",
    "input_df = O9DataLake.register(\"input_df\",data_source = DataSource.LS, entity_type = ResourceType.IBPL, query = _input_df,plugin_setting = PluginSetting.Inputs)\n",
    "\n",
    "\n",
    "O9DataLake.register(\"out_df\",data_source = DataSource.LS,entity_type = ResourceType.IBPL,plugin_setting = PluginSetting.Outputs)\n",
    "script_params = O9DataLake.register({}, data_source = DataSource.LS,plugin_setting = PluginSetting.ScriptParam)"
   ]
  },
  {
   "cell_type": "code",
   "execution_count": 7,
   "id": "fccb77ff-c697-40d1-98f0-02cd9ee632b9",
   "metadata": {},
   "outputs": [
    {
     "name": "stdout",
     "output_type": "stream",
     "text": [
      "2025-03-06 13:23:14,099 - o9_logger - INFO  - --Spark Script: START--\n",
      "2025-03-06 13:23:14,100 - o9_logger - INFO  - In User script\n",
      "2025-03-06 13:23:14,102 - o9_logger - INFO  - Hello: We are in main script\n",
      "2025-03-06 13:23:14,105 - o9_logger - INFO  - Version.[Version Name]    10\n",
      "Product.[Product]         10\n",
      "Time.[FiscalWeek]         10\n",
      "SalesAccount.[Account]    10\n",
      "Location.[Location]       10\n",
      "DPSellOutUnitsActuals      0\n",
      "Mean Pricing Save PCT      0\n",
      "Placement Count           10\n",
      "Promotion Count            0\n",
      "DPSellOutPrice             0\n",
      "dtype: int64\n",
      "2025-03-06 13:23:14,107 - o9_logger - INFO  - input_df\n"
     ]
    }
   ],
   "source": [
    "from o9_common_utils.O9DataLake import O9DataLake\n",
    "import logging\n",
    "logger = logging.getLogger('o9_logger')\n",
    "logger.info(\"--Spark Script: START--\")\n",
    "\n",
    "logger.info('In User script')\n",
    "\n",
    "out_df = None\n",
    "\n",
    "\n",
    "logger.info(\"Hello: We are in main script\")\n",
    "\n",
    "\n",
    "\n",
    "input_df= O9DataLake.get('input_df')\n",
    "logger.info(input_df.count())\n",
    "logger.info(\"input_df\")\n",
    "\n",
    "\n",
    "out_df = input_df\n",
    "\n"
   ]
  },
  {
   "cell_type": "code",
   "execution_count": 8,
   "id": "cf5f6b31-6dbb-4e98-9536-feb512341921",
   "metadata": {},
   "outputs": [],
   "source": [
    "O9DataLake.put('out_df', out_df)"
   ]
  }
 ],
 "metadata": {
  "kernelspec": {
   "display_name": "[k8tenantprashant] Tenant Conda Environment",
   "language": "python",
   "name": "qa_k8tenantprashant"
  },
  "language_info": {
   "codemirror_mode": {
    "name": "ipython",
    "version": 3
   },
   "file_extension": ".py",
   "mimetype": "text/x-python",
   "name": "python",
   "nbconvert_exporter": "python",
   "pygments_lexer": "ipython3",
   "version": "3.10.5"
  }
 },
 "nbformat": 4,
 "nbformat_minor": 5
}
