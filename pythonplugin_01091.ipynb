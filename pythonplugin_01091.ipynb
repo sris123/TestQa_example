{
 "cells": [
  {
   "cell_type": "code",
   "execution_count": 3,
   "id": "fab4f4d4-6e58-4606-a5b6-bde419f8836b",
   "metadata": {},
   "outputs": [],
   "source": [
    "_features = \"select( [Time].[Day] * [Version].[Version Name].[CurrentWorkingView] * [Store].[Store_ID].[1] * { Measure.[Temperature], Measure.[Fuel Price], Measure.[MarkDown1] , Measure.[MarkDown2], Measure.[MarkDown3], Measure.[MarkDown4] , Measure.[MarkDown5] , Measure.[CPI] , Measure.[Unemployment] } ) on row, () on column;\"\n",
    "\n",
    "from o9_common_utils.O9DataLake import O9DataLake, ResourceType, DataSource,PluginSetting\n",
    "features = O9DataLake.register(\"features\",DataSource.LS, ResourceType.IBPL, _features,PluginSetting.Inputs)\n",
    "O9DataLake.register(\"Output\",DataSource.LS,ResourceType.IBPL,None,PluginSetting.Outputs)"
   ]
  },
  {
   "cell_type": "code",
   "execution_count": 4,
   "id": "643f7fe0-189b-4829-9a5f-dcd57a78084c",
   "metadata": {},
   "outputs": [
    {
     "name": "stdout",
     "output_type": "stream",
     "text": [
      "INFO : Records count in sales dataframe : (182, 12)\n"
     ]
    }
   ],
   "source": [
    "#getting inputs from DataLake\n",
    "features = O9DataLake.get('features')\n",
    "#user script\n",
    "import logging\n",
    "Output = None\n",
    "logger = logging.getLogger('o9_logger')\n",
    "logger.info(f'Records count in sales dataframe : {features.shape}')\n",
    "\n",
    "\n"
   ]
  },
  {
   "cell_type": "code",
   "execution_count": 5,
   "id": "79c3fc6c-be19-49c4-be48-8d8ed0203a2c",
   "metadata": {},
   "outputs": [
    {
     "name": "stderr",
     "output_type": "stream",
     "text": [
      "INFO:o9_sys_logger:{'FileName': 'Fact.Output.csv', 'SheetName': 'Fact.Output.csv', 'TotalRows': 182, 'ProcessedRows': 182, 'Status': 'Success', 'Messages': ['Total Rows: [182]. Successfully Processed Rows: [182].'], 'FileId': 'gcp://MMc4ee9dJS9MHdpILVnSjpoFvO0UQ6hlngU90WVB6tPH_tmev97EN0bgRuFY1JHMpBa0F5t7fqeccQlFBcuZzTSPgaCf7GSwjLPCftaWjqY1'}\n"
     ]
    }
   ],
   "source": [
    "O9DataLake.put(\"Output\", features)"
   ]
  },
  {
   "cell_type": "code",
   "execution_count": 6,
   "id": "ae86cfec-c187-4dc7-aad8-18dfa3045b05",
   "metadata": {},
   "outputs": [
    {
     "name": "stdout",
     "output_type": "stream",
     "text": [
      "INFO : Plugin Execution completed\n"
     ]
    },
    {
     "name": "stderr",
     "output_type": "stream",
     "text": [
      "INFO:o9_logger:Plugin Execution completed\n"
     ]
    },
    {
     "name": "stdout",
     "output_type": "stream",
     "text": [
      "ERROR : Error\n"
     ]
    },
    {
     "name": "stderr",
     "output_type": "stream",
     "text": [
      "ERROR:o9_logger:Error\n"
     ]
    },
    {
     "name": "stdout",
     "output_type": "stream",
     "text": [
      "WARNING : Warning\n"
     ]
    },
    {
     "name": "stderr",
     "output_type": "stream",
     "text": [
      "/opt/conda/envs/qarelease_kagglewalmarttest_srishti.singh/lib/python3.7/site-packages/ipykernel_launcher.py:3: DeprecationWarning: The 'warn' method is deprecated, use 'warning' instead\n",
      "  This is separate from the ipykernel package so we can avoid doing imports until\n",
      "WARNING:o9_logger:Warning\n"
     ]
    },
    {
     "name": "stdout",
     "output_type": "stream",
     "text": [
      "DEBUG : debug\n"
     ]
    },
    {
     "name": "stderr",
     "output_type": "stream",
     "text": [
      "DEBUG:o9_logger:debug\n"
     ]
    }
   ],
   "source": [
    "logger.info('Plugin Execution completed')\n",
    "logger.error('Error')\n",
    "logger.warn('Warning')\n",
    "logger.debug('debug')"
   ]
  },
  {
   "cell_type": "code",
   "execution_count": 35,
   "id": "cac86d5e-2040-4cd3-84ce-a2516af828c1",
   "metadata": {},
   "outputs": [
    {
     "data": {
      "text/plain": [
       "[<FileHandler /var/log/jupyterhub/startup.log (NOTSET)>,\n",
       " <StreamHandler stdout (NOTSET)>]"
      ]
     },
     "execution_count": 35,
     "metadata": {},
     "output_type": "execute_result"
    }
   ],
   "source": [
    "import logging\n",
    "logger = logging.getLogger('o9_logger')\n",
    "logger.handlers"
   ]
  },
  {
   "cell_type": "code",
   "execution_count": null,
   "id": "fcf4f65f-57e4-4de6-96d0-02fdc5f57e68",
   "metadata": {},
   "outputs": [],
   "source": []
  }
 ],
 "metadata": {
  "kernelspec": {
   "display_name": "[KaggleWalmartTest] Tenant Conda Environment",
   "language": "python",
   "name": "qarelease_kagglewalmarttest_srishti.singh"
  },
  "language_info": {
   "codemirror_mode": {
    "name": "ipython",
    "version": 3
   },
   "file_extension": ".py",
   "mimetype": "text/x-python",
   "name": "python",
   "nbconvert_exporter": "python",
   "pygments_lexer": "ipython3",
   "version": "3.7.10"
  }
 },
 "nbformat": 4,
 "nbformat_minor": 5
}
