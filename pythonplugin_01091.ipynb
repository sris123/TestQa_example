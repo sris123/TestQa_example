{
 "cells": [
  {
   "cell_type": "code",
   "execution_count": 59,
   "id": "fab4f4d4-6e58-4606-a5b6-bde419f8836b",
   "metadata": {
    "tags": [
     "o9_ignore"
    ]
   },
   "outputs": [
    {
     "name": "stderr",
     "output_type": "stream",
     "text": [
      "INFO:o9_sys_logger:key obj: {'name': 'features', 'resource_type': <ResourceType.IBPL: 'ibpl_query'>, 'data_source': <DataSource.LS: 'liveserver'>, 'query': 'select( [Time].[Day] * [Version].[Version Name].[CurrentWorkingView] * [Store].[Store_ID].[1] * { Measure.[Temperature], Measure.[Fuel Price], Measure.[MarkDown1] , Measure.[MarkDown2], Measure.[MarkDown3], Measure.[MarkDown4] , Measure.[MarkDown5] , Measure.[CPI] , Measure.[Unemployment] } ) on row, () on column;', 'std_count_limit': '200000'}\n",
      "INFO:o9_sys_logger:IbplClient: WebApi Request Url = [https://mygcpdevaa.o9solutions.com/api/ibplquery/6364/ExecuteCompactJsonQuery]\n",
      "INFO:o9_sys_logger:IbplClient: WebApi Request Url = [https://mygcpdevaa.o9solutions.com/api/ibplquery/6364/ExecuteCompactJsonQuery]\n"
     ]
    }
   ],
   "source": [
    "_features = \"select( [Time].[Day] * [Version].[Version Name].[CurrentWorkingView] * [Store].[Store_ID].[1] * { Measure.[Temperature], Measure.[Fuel Price], Measure.[MarkDown1] , Measure.[MarkDown2], Measure.[MarkDown3], Measure.[MarkDown4] , Measure.[MarkDown5] , Measure.[CPI] , Measure.[Unemployment] } ) on row, () on column;\"\n",
    "\n",
    "from o9_common_utils.O9DataLake import O9DataLake, ResourceType, DataSource,PluginSetting\n",
    "features = O9DataLake.register(\"features\",DataSource.LS, ResourceType.IBPL, _features,PluginSetting.Inputs)\n",
    "O9DataLake.register(\"Output\",DataSource.LS,ResourceType.IBPL,None,PluginSetting.Outputs)"
   ]
  },
  {
   "cell_type": "code",
   "execution_count": 60,
   "id": "643f7fe0-189b-4829-9a5f-dcd57a78084c",
   "metadata": {},
   "outputs": [
    {
     "name": "stdout",
     "output_type": "stream",
     "text": [
      "INFO : Records count in sales dataframe : (182, 12)\n"
     ]
    },
    {
     "name": "stderr",
     "output_type": "stream",
     "text": [
      "INFO:o9_logger:Records count in sales dataframe : (182, 12)\n"
     ]
    }
   ],
   "source": [
    "#getting inputs from DataLake\n",
    "features = O9DataLake.get('features')\n",
    "#user script\n",
    "import logging\n",
    "Output = None\n",
    "logger = logging.getLogger('o9_logger')\n",
    "logger.info(f'Records count in sales dataframe : {features.shape}')\n",
    "\n",
    "\n"
   ]
  },
  {
   "cell_type": "code",
   "execution_count": 61,
   "id": "79c3fc6c-be19-49c4-be48-8d8ed0203a2c",
   "metadata": {},
   "outputs": [
    {
     "name": "stderr",
     "output_type": "stream",
     "text": [
      "INFO:o9_sys_logger:Uploading LOCAL file: /tmp/tmp1qfydbga/Fact.Output.csv\n",
      "INFO:o9_sys_logger:Is the file parquet: False\n",
      "INFO:o9_sys_logger:Uploading /tmp/tmp1qfydbga/Fact.Output.csv to Live Server cloud\n",
      "INFO:o9_sys_logger:File size less than 256 MB\n",
      "INFO:o9_sys_logger:Uploading to /fileUpload endpoint\n",
      "INFO:o9_sys_logger:Uploading /tmp/tmp1qfydbga/Fact.Output.csv to Live Server cloud\n",
      "INFO:o9_sys_logger:Uploaded the file successfully\n",
      "INFO:o9_sys_logger:Uploading cloud files at: \"gcp://MMc4ee9dJS9MHdpILVnSjpoFvO0UQ6hlngU90WVB6tPH_tmev97EN0bgRuFY1JHMpBa0F5t7fqeccQlFBcuZzTSPgaCf7GSwjLPCftaWjqY1\"\n",
      "INFO:o9_sys_logger:IbplClient: WebApi Request Url = [https://mygcpdevaa.o9solutions.com/api/framework/sessions/session]\n",
      "INFO:o9_sys_logger:logged into tenant KaggleWalmartTest successfully\n",
      "INFO:o9_sys_logger:IbplClient: WebApi Request Url = [https://mygcpdevaa.o9solutions.com/api/user]\n",
      "INFO:o9_sys_logger:200, OK\n",
      "INFO:o9_sys_logger:{'FileName': 'Fact.Output.csv', 'SheetName': 'Fact.Output.csv', 'TotalRows': 182, 'ProcessedRows': 182, 'Status': 'Success', 'Messages': ['Total Rows: [182]. Successfully Processed Rows: [182].'], 'FileId': 'gcp://MMc4ee9dJS9MHdpILVnSjpoFvO0UQ6hlngU90WVB6tPH_tmev97EN0bgRuFY1JHMpBa0F5t7fqeccQlFBcuZzTSPgaCf7GSwjLPCftaWjqY1'}\n"
     ]
    }
   ],
   "source": [
    "O9DataLake.put(\"Output\", features)"
   ]
  },
  {
   "cell_type": "code",
   "execution_count": null,
   "id": "fcf4f65f-57e4-4de6-96d0-02fdc5f57e68",
   "metadata": {},
   "outputs": [],
   "source": []
  }
 ],
 "metadata": {
  "kernelspec": {
   "display_name": "[KaggleWalmartTest] Tenant Conda Environment",
   "language": "python",
   "name": "qarelease_kagglewalmarttest_srishti.singh"
  },
  "language_info": {
   "codemirror_mode": {
    "name": "ipython",
    "version": 3
   },
   "file_extension": ".py",
   "mimetype": "text/x-python",
   "name": "python",
   "nbconvert_exporter": "python",
   "pygments_lexer": "ipython3",
   "version": "3.7.10"
  }
 },
 "nbformat": 4,
 "nbformat_minor": 5
}
