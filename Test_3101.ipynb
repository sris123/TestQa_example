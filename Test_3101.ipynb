{
 "cells": [
  {
   "cell_type": "code",
   "execution_count": 3,
   "id": "f2b9b38d-ab25-4595-a715-0dd29da9da69",
   "metadata": {},
   "outputs": [],
   "source": [
    "from o9_common_utils.O9DataLake import O9DataLake, ResourceType, DataSource, PluginSetting\n",
    "SalesActual = O9DataLake.register(\"SalesActual\" ,DataSource.LIVEFRAME,ResourceType.LIVEFRAME, plugin_setting = PluginSetting.Inputs)\n",
    "output = O9DataLake.register(\"output\",data_source = DataSource.LS,entity_type = ResourceType.IBPL, plugin_setting = PluginSetting.Outputs)"
   ]
  },
  {
   "cell_type": "code",
   "execution_count": 5,
   "id": "097f7204-db19-473d-b43a-408b5bf7da93",
   "metadata": {},
   "outputs": [
    {
     "data": {
      "text/plain": [
       "{'SalesActual': {'name': 'SalesActual',\n",
       "  'resource_type': <ResourceType.LIVEFRAME: 'liveframe'>,\n",
       "  'data_source': <DataSource.LIVEFRAME: 'liveframe'>,\n",
       "  'query': 'SELECT ([Time].[Week].filter(#.[Week$InActive] in { false }) * {Measure.[AIPActual]} * [Item].[Planning Item].filter(#.[Planning Item$InActive] in { false }) * [Location].[Location].filter(#.Name in { \"3\", \"4\", \"5\", \"6\", \"8\" }).relatedmembers([Location]).filter(#.[Location$InActive] in { false })) on row, () on column include lcid 1033, cellproperties {LOCK, BG_COLOR, FG_COLOR} where {[Item].[Item].filter(#.Name in { \"273940\", \"547370\", \"696820\", \"759830\", \"838179\" }).filter(#.[Item$InActive] in { false }) , [Time].[Year].filter(#.Name in { \"2021\", \"2022\", \"2023\" }).filter(#.[Year$InActive] in { false }) , [Version].[Version Name].filter(#.Name in { \"CurrentWorkingView\" }).filter(#.[Version Name$InActive] in { false })} ORDERBY [Time].[Week].[Key] ASC ;',\n",
       "  'LiveFrameReportId': '8ef7dcfe-8a32-472b-83d3-9129d904b332',\n",
       "  'std_count_limit': '200000',\n",
       "  'df':      Time.[Week]  Item.[Planning Item]  Location.[Location]  AIPActual\n",
       "  0      03-Jan-21                273940                    4     2293.0\n",
       "  1      03-Jan-21                273940                    6     2936.0\n",
       "  2      03-Jan-21                273940                    8     7402.0\n",
       "  3      03-Jan-21                547370                    4     4001.0\n",
       "  4      03-Jan-21                547370                    6     4907.0\n",
       "  ...          ...                   ...                  ...        ...\n",
       "  2284   29-Jan-23                838179                    3     4649.0\n",
       "  2285   29-Jan-23                838179                    4     4065.0\n",
       "  2286   29-Jan-23                838179                    5     4319.0\n",
       "  2287   29-Jan-23                838179                    6     3010.0\n",
       "  2288   29-Jan-23                838179                    8     2896.0\n",
       "  \n",
       "  [2289 rows x 4 columns]}}"
      ]
     },
     "execution_count": 5,
     "metadata": {},
     "output_type": "execute_result"
    }
   ],
   "source": [
    "O9DataLake.inputs"
   ]
  },
  {
   "cell_type": "code",
   "execution_count": 6,
   "id": "e82dd995-71c9-47bd-bc20-b1b024c8895b",
   "metadata": {},
   "outputs": [
    {
     "name": "stdout",
     "output_type": "stream",
     "text": [
      "Hello\n"
     ]
    }
   ],
   "source": [
    "print('Hello')"
   ]
  },
  {
   "cell_type": "code",
   "execution_count": 6,
   "id": "73cbe191-e538-423c-a614-1c6fa03d3964",
   "metadata": {},
   "outputs": [
    {
     "name": "stdout",
     "output_type": "stream",
     "text": [
      "200\n",
      "_O9_GLOBAL_PLUGINS_ID\n",
      "2\n",
      "Got the plugins from pyplugininstances\n",
      "[{'Name': '001.001ClusteringCorePlugin', 'Id': '187977', 'PluginType': 'o9.GraphCube.Plugins.Python.PythonScript'}, {'Name': '001.002ClusteringValidationScript', 'Id': '187978', 'PluginType': 'o9.GraphCube.Plugins.Python.PythonScript'}, {'Name': 'AnalyticsKPI001RunSegmentation', 'Id': '187980', 'PluginType': 'o9.GraphCube.Plugins.Python.PythonScript'}, {'Name': 'AnalyticsKPI002ProcessInteractions', 'Id': '187981', 'PluginType': 'o9.GraphCube.Plugins.Python.PythonScript'}, {'Name': 'AnalyticsPO001ItemClustering', 'Id': '187982', 'PluginType': 'o9.GraphCube.Plugins.Python.PythonScript'}, {'Name': 'AnalyticsPO002OutlierCorrection', 'Id': '187983', 'PluginType': 'o9.GraphCube.Plugins.Python.PythonScript'}, {'Name': 'AnalyticsPO003NonTimePhasedCalculations', 'Id': '187984', 'PluginType': 'o9.GraphCube.Plugins.Python.PythonScript'}, {'Name': 'AnalyticsPO004LeadTimePredictionPickle', 'Id': '187985', 'PluginType': 'o9.GraphCube.Plugins.Python.PythonScript'}, {'Name': 'AnalyticsPO005AdHocLeadTimePrediction', 'Id': '187986', 'PluginType': 'o9.GraphCube.Plugins.Python.PythonScript'}, {'Name': 'AnalyticsPO006PythonPrediction', 'Id': '187987', 'PluginType': 'o9.GraphCube.Plugins.Python.PythonScript'}, {'Name': 'AnalyticsPO007SupplierBehavior', 'Id': '187988', 'PluginType': 'o9.GraphCube.Plugins.Python.PythonScript'}, {'Name': 'AnalyticsPrO001LineSpeeds', 'Id': '187989', 'PluginType': 'o9.GraphCube.Plugins.Python.PythonScript'}, {'Name': 'AnalyticsSTO001ItemClustering', 'Id': '187990', 'PluginType': 'o9.GraphCube.Plugins.Python.PythonScript'}, {'Name': 'AnalyticsSTO002PythonPrediction', 'Id': '187993', 'PluginType': 'o9.GraphCube.Plugins.Python.PythonScript'}, {'Name': 'AnalyticsSTO003OutlierCorrectedLeadTimes', 'Id': '187995', 'PluginType': 'o9.GraphCube.Plugins.Python.PythonScript'}, {'Name': 'AnalyticsSTO004NonTimePhasedCalculations', 'Id': '187996', 'PluginType': 'o9.GraphCube.Plugins.Python.PythonScript'}, {'Name': 'AnalyticsSTO005LTPredictionPickle', 'Id': '187998', 'PluginType': 'o9.GraphCube.Plugins.Python.PythonScript'}, {'Name': 'AnalyticsSTO006AdHocLTPrediction', 'Id': '187999', 'PluginType': 'o9.GraphCube.Plugins.Python.PythonScript'}, {'Name': 'AnalyticsSTOUpdateGraph', 'Id': '188000', 'PluginType': 'o9.GraphCube.Plugins.Python.PythonScript'}, {'Name': 'AutomatedEventTagging', 'Id': '188001', 'PluginType': 'o9.GraphCube.Plugins.Python.PythonScript'}, {'Name': 'Common001DeleteObsoleteMembersFlagging', 'Id': '188005', 'PluginType': 'o9.GraphCube.Plugins.Python.PythonScript'}, {'Name': 'Common002DeleteObsoleteMembersFlaggingParent', 'Id': '188006', 'PluginType': 'o9.GraphCube.Plugins.Python.PythonScript'}, {'Name': 'Data_Copy_Obfuscation', 'Id': '188007', 'PluginType': 'o9.GraphCube.Plugins.Python.PythonScript'}, {'Name': 'DemandPrioritizationDataValidation', 'Id': '188008', 'PluginType': 'o9.GraphCube.Plugins.Python.PythonScript'}, {'Name': 'DM001AttributeBasedDataManagement', 'Id': '188010', 'PluginType': 'o9.GraphCube.Plugins.Python.PythonScript'}, {'Name': 'DP002StatCleansing', 'Id': '188012', 'PluginType': 'o9.GraphCube.Plugins.Python.PythonScript'}, {'Name': 'DP003StatAlgorithm', 'Id': '188014', 'PluginType': 'o9.GraphCube.Plugins.Python.PythonScript'}, {'Name': 'DP004ProductCustomerSegment', 'Id': '188016', 'PluginType': 'o9.GraphCube.Plugins.Python.PythonScript'}, {'Name': 'DP005StatSegment', 'Id': '188018', 'PluginType': 'o9.GraphCube.Plugins.Python.PythonScript'}, {'Name': 'DP006StatSegmentL1', 'Id': '188020', 'PluginType': 'o9.GraphCube.Plugins.Python.PythonScript'}, {'Name': 'DP009OutlierCleansing', 'Id': '188024', 'PluginType': 'o9.GraphCube.Plugins.Python.PythonScript'}, {'Name': 'DP011AssignRuleAndAlgorithms', 'Id': '188026', 'PluginType': 'o9.GraphCube.Plugins.Python.PythonScript'}, {'Name': 'DP015IdentifyBestFitModel', 'Id': '188030', 'PluginType': 'o9.GraphCube.Plugins.Python.PythonScript'}, {'Name': 'DP015PopulateBestFitForecast', 'Id': '188031', 'PluginType': 'o9.GraphCube.Plugins.Python.PythonScript'}, {'Name': 'DP015SystemStat', 'Id': '188032', 'PluginType': 'o9.GraphCube.Plugins.Python.PythonScript'}, {'Name': 'DP016TransitionLevelStat', 'Id': '188034', 'PluginType': 'o9.GraphCube.Plugins.Python.PythonScript'}, {'Name': 'DP017L6PAccuracy', 'Id': '188037', 'PluginType': 'o9.GraphCube.Plugins.Python.PythonScript'}, {'Name': 'DP019MovingAverageSCPFcst', 'Id': '188039', 'PluginType': 'o9.GraphCube.Plugins.Python.PythonScript'}, {'Name': 'DP020SystemFeatureWeight', 'Id': '188041', 'PluginType': 'o9.GraphCube.Plugins.Python.PythonScript'}, {'Name': 'DP021SystemLikeItemMatch', 'Id': '188042', 'PluginType': 'o9.GraphCube.Plugins.Python.PythonScript'}, {'Name': 'DP022PopulateLifecycleActual', 'Id': '188043', 'PluginType': 'o9.GraphCube.Plugins.Python.PythonScript'}, {'Name': 'DP023PopulateLikeItemFcst', 'Id': '188044', 'PluginType': 'o9.GraphCube.Plugins.Python.PythonScript'}, {'Name': 'DP025PopulateCannibImpact', 'Id': '188045', 'PluginType': 'o9.GraphCube.Plugins.Python.PythonScript'}, {'Name': 'DP027BacktestL1', 'Id': '188047', 'PluginType': 'o9.GraphCube.Plugins.Python.PythonScript'}, {'Name': 'DP028PlanningLevelProfile', 'Id': '188049', 'PluginType': 'o9.GraphCube.Plugins.Python.PythonScript'}, {'Name': 'DP029BacktestTL', 'Id': '188051', 'PluginType': 'o9.GraphCube.Plugins.Python.PythonScript'}, {'Name': 'DP030BacktestPL', 'Id': '188053', 'PluginType': 'o9.GraphCube.Plugins.Python.PythonScript'}, {'Name': 'DP031OpportunityLatestInput', 'Id': '188056', 'PluginType': 'o9.GraphCube.Plugins.Python.PythonScript'}, {'Name': 'DP033OpportunityShortlist', 'Id': '188059', 'PluginType': 'o9.GraphCube.Plugins.Python.PythonScript'}, {'Name': 'DP034DCSplitRatio', 'Id': '188060', 'PluginType': 'o9.GraphCube.Plugins.Python.PythonScript'}, {'Name': 'DP035DelistRecommendation', 'Id': '188061', 'PluginType': 'o9.GraphCube.Plugins.Python.PythonScript'}, {'Name': 'DP037SeasonalityDetection', 'Id': '188063', 'PluginType': 'o9.GraphCube.Plugins.Python.PythonScript'}, {'Name': 'DP040AttachRateSystem', 'Id': '188064', 'PluginType': 'o9.GraphCube.Plugins.Python.PythonScript'}, {'Name': 'DP041PopulateSliceAssociation', 'Id': '188065', 'PluginType': 'o9.GraphCube.Plugins.Python.PythonScript'}, {'Name': 'DP045PopulateExchangeRate', 'Id': '188066', 'PluginType': 'o9.GraphCube.Plugins.Python.PythonScript'}, {'Name': 'DP046PopulatePWDisaggProfile', 'Id': '188067', 'PluginType': 'o9.GraphCube.Plugins.Python.PythonScript'}, {'Name': 'DP047HistoryRealignment', 'Id': '188068', 'PluginType': 'o9.GraphCube.Plugins.Python.PythonScript'}, {'Name': 'DP048PartialWeekLagAssociation', 'Id': '188069', 'PluginType': 'o9.GraphCube.Plugins.Python.PythonScript'}, {'Name': 'DP049PopulateNPIFcst', 'Id': '188070', 'PluginType': 'o9.GraphCube.Plugins.Python.PythonScript'}, {'Name': 'DP050PopulatePLCHorizon', 'Id': '188071', 'PluginType': 'o9.GraphCube.Plugins.Python.PythonScript'}, {'Name': 'MarketIntelAPICall', 'Id': '188091', 'PluginType': 'o9.GraphCube.Plugins.Python.PythonScript'}, {'Name': 'MDM_InputValidation', 'Id': '188092', 'PluginType': 'o9.GraphCube.Plugins.Python.PythonScript'}, {'Name': 'MDM_OutputCreation', 'Id': '188093', 'PluginType': 'o9.GraphCube.Plugins.Python.PythonScript'}, {'Name': 'MEIO004NetworkValidation', 'Id': '188102', 'PluginType': 'o9.GraphCube.Plugins.Python.PythonScript'}, {'Name': 'MEIO005CoreRunSegmented', 'Id': '188103', 'PluginType': 'o9.GraphCube.Plugins.Python.PythonScript'}, {'Name': 'MEIO006ABCSegmentation', 'Id': '188105', 'PluginType': 'o9.GraphCube.Plugins.Python.PythonScript'}, {'Name': 'MEIO007WMAPEAndDemandPattern', 'Id': '188108', 'PluginType': 'o9.GraphCube.Plugins.Python.PythonScript'}, {'Name': 'MEIO008IncrementalRunSegmented', 'Id': '188109', 'PluginType': 'o9.GraphCube.Plugins.Python.PythonScript'}, {'Name': 'MEIO009SensitivityAnalysisSegmented', 'Id': '188110', 'PluginType': 'o9.GraphCube.Plugins.Python.PythonScript'}, {'Name': 'MEIO010UnconstrainedEffectiveLeadTimeStats', 'Id': '188111', 'PluginType': 'o9.GraphCube.Plugins.Python.PythonScript'}, {'Name': 'MEIO011FixProbabilityDistribution', 'Id': '188112', 'PluginType': 'o9.GraphCube.Plugins.Python.PythonScript'}, {'Name': 'MEIO012CustomerOrderLeadTime', 'Id': '188113', 'PluginType': 'o9.GraphCube.Plugins.Python.PythonScript'}, {'Name': 'MEIO013InternalServiceLevelOptimisation', 'Id': '188114', 'PluginType': 'o9.GraphCube.Plugins.Python.PythonScript'}, {'Name': 'NexprimeResponse001D_SerializeAndRunEngine', 'Id': '188118', 'PluginType': 'o9.GraphCube.Plugins.Python.PythonScript'}, {'Name': 'NexprimeResponse001D_SerializeAndRunEngine_PushInboundsToLS', 'Id': '188119', 'PluginType': 'o9.GraphCube.Plugins.Python.PythonScript'}, {'Name': 'NexprimeResponse001W_SerializeAndRunEngine', 'Id': '188120', 'PluginType': 'o9.GraphCube.Plugins.Python.PythonScript'}, {'Name': 'NexprimeResponse001W_SerializeAndRunEngine_PushInboundsToLS', 'Id': '188121', 'PluginType': 'o9.GraphCube.Plugins.Python.PythonScript'}, {'Name': 'NexprimeResponse002_DeserializeToRefModel_Parquet', 'Id': '188122', 'PluginType': 'o9.GraphCube.Plugins.Python.PythonScript'}, {'Name': 'NexprimeResponse002D_DeserializeToRefModel', 'Id': '188123', 'PluginType': 'o9.GraphCube.Plugins.Python.PythonScript'}, {'Name': 'NexprimeResponse002W_DeserializeToRefModel', 'Id': '188124', 'PluginType': 'o9.GraphCube.Plugins.Python.PythonScript'}, {'Name': 'NexprimeResponse003D_GenerateProjectionPeggingData', 'Id': '188125', 'PluginType': 'o9.GraphCube.Plugins.Python.PythonScript'}, {'Name': 'NexprimeResponse003W_GenerateProjectionPeggingData', 'Id': '188126', 'PluginType': 'o9.GraphCube.Plugins.Python.PythonScript'}, {'Name': 'NexprimeResponse004D_MultiStepRouting_UI', 'Id': '188127', 'PluginType': 'o9.GraphCube.Plugins.Python.PythonScript'}, {'Name': 'NexprimeResponse004W_MultiStepRouting_UI', 'Id': '188128', 'PluginType': 'o9.GraphCube.Plugins.Python.PythonScript'}, {'Name': 'OIO001OrderIntervalOptimisation', 'Id': '188129', 'PluginType': 'o9.GraphCube.Plugins.Python.PythonScript'}, {'Name': 'RGMAddPromoDetailsInitiativeGrainInput', 'Id': '188130', 'PluginType': 'o9.GraphCube.Plugins.Python.PythonScript'}, {'Name': 'RGMAddPromoDetailsL8InitiativeGrainMapping', 'Id': '188131', 'PluginType': 'o9.GraphCube.Plugins.Python.PythonScript'}, {'Name': 'RGMInitiativeRankAndCumulativeMeasures', 'Id': '188132', 'PluginType': 'o9.GraphCube.Plugins.Python.PythonScript'}, {'Name': 'RGMPromoFutureSimulationPlugin4', 'Id': '188133', 'PluginType': 'o9.GraphCube.Plugins.Python.PythonScript'}, {'Name': 'RGMPromoModelingModelBuildingPlugin2', 'Id': '188134', 'PluginType': 'o9.GraphCube.Plugins.Python.PythonScript'}, {'Name': 'RGMPromoModelingPostprocessingPlugin3', 'Id': '188135', 'PluginType': 'o9.GraphCube.Plugins.Python.PythonScript'}, {'Name': 'RGMPromoModelingPreprocessingPlugin1', 'Id': '188136', 'PluginType': 'o9.GraphCube.Plugins.Python.PythonScript'}, {'Name': 'RGMPromoModelingSequenceIDGeneratorPlugin0', 'Id': '188137', 'PluginType': 'o9.GraphCube.Plugins.Python.PythonScript'}, {'Name': 'RGMSelloutCleaningAndPromoNonPromoFlag', 'Id': '188138', 'PluginType': 'o9.GraphCube.Plugins.Python.PythonScript'}, {'Name': 'SCHCalendarExceptionSpreading', 'Id': '188139', 'PluginType': 'o9.GraphCube.Plugins.Python.PythonScript'}, {'Name': 'SCHCreateNetworkPlugin', 'Id': '188140', 'PluginType': 'o9.GraphCube.Plugins.Python.PythonScript'}, {'Name': 'SCHDataValidation', 'Id': '188141', 'PluginType': 'o9.GraphCube.Plugins.Python.PythonScript'}, {'Name': 'SCHFrozenWiring', 'Id': '188142', 'PluginType': 'o9.GraphCube.Plugins.Python.PythonScript'}, {'Name': 'SCHMangoGemBackTransformation', 'Id': '188143', 'PluginType': 'o9.GraphCube.Plugins.Python.PythonScript'}, {'Name': 'SCHMangoGemFinalRun', 'Id': '188144', 'PluginType': 'o9.GraphCube.Plugins.Python.PythonScript'}, {'Name': 'SCHMangoGemServerRestart', 'Id': '188145', 'PluginType': 'o9.GraphCube.Plugins.Python.PythonScript'}, {'Name': 'SCHMangoGemTransformation', 'Id': '188146', 'PluginType': 'o9.GraphCube.Plugins.Python.PythonScript'}, {'Name': 'SCHPostProcessing', 'Id': '188147', 'PluginType': 'o9.GraphCube.Plugins.Python.PythonScript'}, {'Name': 'SCHWOApproval', 'Id': '188148', 'PluginType': 'o9.GraphCube.Plugins.Python.PythonScript'}, {'Name': 'SegmentIDGenerator', 'Id': '188149', 'PluginType': 'o9.GraphCube.Plugins.Python.PythonScript'}, {'Name': 'SegmentIDGeneratorWithUpdationMeasurePopulation', 'Id': '188150', 'PluginType': 'o9.GraphCube.Plugins.Python.PythonScript'}, {'Name': 'SM001SilverMealHeuristic', 'Id': '188151', 'PluginType': 'o9.GraphCube.Plugins.Python.PythonScript'}, {'Name': 'spark3_datetime', 'Id': '188152', 'PluginType': 'o9.GraphCube.Plugins.Python.PythonScript'}, {'Name': 'SupplyPlan001CommonDemandNetting', 'Id': '188153', 'PluginType': 'o9.GraphCube.Plugins.Python.PythonScript'}, {'Name': 'SupplyPlan001CommonDemandNettingNetChangePopulation', 'Id': '188154', 'PluginType': 'o9.GraphCube.Plugins.Python.PythonScript'}, {'Name': 'SupplyPlan001CommonDemandNettingWithNC', 'Id': '188155', 'PluginType': 'o9.GraphCube.Plugins.Python.PythonScript'}, {'Name': 'SupplyPlan001CommonNetworkPrecursorDataPopulation_py', 'Id': '188157', 'PluginType': 'o9.GraphCube.Plugins.Python.PythonScript'}, {'Name': 'SupplyPlan001CommonNetworkPrecursorDataPopulationPython', 'Id': '188158', 'PluginType': 'o9.GraphCube.Plugins.Python.PythonScript'}, {'Name': 'SupplyPlan001CommonNetworkPrecursorDataPopulationWithAlternateItems_py', 'Id': '188160', 'PluginType': 'o9.GraphCube.Plugins.Python.PythonScript'}, {'Name': 'SupplyPlan001LocationToLocationAssociations', 'Id': '188163', 'PluginType': 'o9.GraphCube.Plugins.Python.PythonScript'}, {'Name': 'SupplyPlan002AdvancedDemandPrioritization', 'Id': '188166', 'PluginType': 'o9.GraphCube.Plugins.Python.PythonScript'}, {'Name': 'SupplyPlan002AdvancedDemandPrioritizationDaily', 'Id': '188167', 'PluginType': 'o9.GraphCube.Plugins.Python.PythonScript'}, {'Name': 'SupplyPlan002AdvancedDemandPrioritizationMonthly', 'Id': '188168', 'PluginType': 'o9.GraphCube.Plugins.Python.PythonScript'}, {'Name': 'SupplyPlan002DAlertEvaluateMember', 'Id': '188169', 'PluginType': 'o9.GraphCube.Plugins.Python.PythonScript'}, {'Name': 'SupplyPlan002DAlertLogCreation', 'Id': '188170', 'PluginType': 'o9.GraphCube.Plugins.Python.PythonScript'}, {'Name': 'SupplyPlan002ItemBODLaneTransModeAssociations', 'Id': '188172', 'PluginType': 'o9.GraphCube.Plugins.Python.PythonScript'}, {'Name': 'SupplyPlan002MaterialNodePrioritization', 'Id': '188173', 'PluginType': 'o9.GraphCube.Plugins.Python.PythonScript'}, {'Name': 'SupplyPlan003RebalanceItemActivity3Association', 'Id': '188176', 'PluginType': 'o9.GraphCube.Plugins.Python.PythonScript'}, {'Name': 'SupplyPlan003ShelfLifeSupplyCode', 'Id': '188177', 'PluginType': 'o9.GraphCube.Plugins.Python.PythonScript'}, {'Name': 'SupplyPlan003ShelfLifeSupplyCodeNew', 'Id': '188178', 'PluginType': 'o9.GraphCube.Plugins.Python.PythonScript'}, {'Name': 'SupplyPlan004ShelfLifeMemberCreation', 'Id': '188181', 'PluginType': 'o9.GraphCube.Plugins.Python.PythonScript'}, {'Name': 'SupplyPlan004ShelfLifeMemberCreationNew', 'Id': '188182', 'PluginType': 'o9.GraphCube.Plugins.Python.PythonScript'}, {'Name': 'SupplyPlan005ItemBODLaneTransModeAssociationsWithNCAddition', 'Id': '188184', 'PluginType': 'o9.GraphCube.Plugins.Python.PythonScript'}, {'Name': 'SupplyPlan006ProcessInteractions', 'Id': '188186', 'PluginType': 'o9.GraphCube.Plugins.Python.PythonScript'}, {'Name': 'SupplyPlan007WIPValidationPostRun', 'Id': '188189', 'PluginType': 'o9.GraphCube.Plugins.Python.PythonScript'}, {'Name': 'SupplyPlan007WProcurementSupplierCommitOffset_py', 'Id': '188191', 'PluginType': 'o9.GraphCube.Plugins.Python.PythonScript'}, {'Name': 'SupplyPlan008DProcurementRequestOffsetForStarts_py', 'Id': '188193', 'PluginType': 'o9.GraphCube.Plugins.Python.PythonScript'}, {'Name': 'SupplyPlan008WProcurementRequestOffsetForStarts_py', 'Id': '188195', 'PluginType': 'o9.GraphCube.Plugins.Python.PythonScript'}, {'Name': 'SupplyPlan009DPORecommendation_py', 'Id': '188197', 'PluginType': 'o9.GraphCube.Plugins.Python.PythonScript'}, {'Name': 'SupplyPlan009WPORecommendation_py', 'Id': '188200', 'PluginType': 'o9.GraphCube.Plugins.Python.PythonScript'}, {'Name': 'SupplyPlan012WComponentSubstituteAssociation_py', 'Id': '188203', 'PluginType': 'o9.GraphCube.Plugins.Python.PythonScript'}, {'Name': 'SupplyPlan014DProductionPlanRecommendation_py', 'Id': '188208', 'PluginType': 'o9.GraphCube.Plugins.Python.PythonScript'}, {'Name': 'SupplyPlan014WProductionPlanRecommendation_py', 'Id': '188210', 'PluginType': 'o9.GraphCube.Plugins.Python.PythonScript'}, {'Name': 'SupplyPlan015DShipmentPlanRecommendation_py', 'Id': '188212', 'PluginType': 'o9.GraphCube.Plugins.Python.PythonScript'}, {'Name': 'SupplyPlan015WShipmentPlanRecommendation_py', 'Id': '188214', 'PluginType': 'o9.GraphCube.Plugins.Python.PythonScript'}, {'Name': 'test_plugin', 'Id': '188216', 'PluginType': 'o9.GraphCube.Plugins.Python.PythonScript'}, {'Name': 'WhereUsedNetwork_Daily', 'Id': '188218', 'PluginType': 'o9.GraphCube.Plugins.Python.PythonScript'}, {'Name': 'WhereusedNetworkx', 'Id': '188219', 'PluginType': 'o9.GraphCube.Plugins.Python.PythonScript'}, {'Name': 'WhereusedNetworkx_Daily', 'Id': '188220', 'PluginType': 'o9.GraphCube.Plugins.Python.PythonScript'}]\n"
     ]
    }
   ],
   "source": [
    "# import os\n",
    "# import requests\n",
    "# # Get the python/pyspark plugins for the tenant\n",
    "# _O9_RULE_GROUP_TREE_RESPONSE = requests.request(\"GET\",\n",
    "#                                                 f\"{os.environ.get('o9_web_api_url')}/api/crud/tenants/\"\n",
    "#                                                 f\"6546/globalplugins/graphcube/pyplugininstances\",\n",
    "#                                                 headers={\n",
    "#                                                     \"Authorization\": f\"Basic {os.environ.get('o9_auth_token')}\"\n",
    "#                                                 })\n",
    "# print(_O9_RULE_GROUP_TREE_RESPONSE.status_code)\n",
    "# if _O9_RULE_GROUP_TREE_RESPONSE.ok:\n",
    "#     _O9_PLUGINS_DATA = [\n",
    "#         {\"Name\": item[\"InstanceName\"], \"Id\": str(item[\"Id\"]), \"PluginType\": str(item[\"ClassName\"])}\n",
    "#         for item in _O9_RULE_GROUP_TREE_RESPONSE.json()] \\\n",
    "#         if _O9_RULE_GROUP_TREE_RESPONSE.json() \\\n",
    "#         else []\n",
    "#     _O9_GLOBAL_PLUGINS_ID = _O9_RULE_GROUP_TREE_RESPONSE.json()[0][\"GlobalPluginId\"]\n",
    "#     print('_O9_GLOBAL_PLUGINS_ID')\n",
    "#     print(_O9_GLOBAL_PLUGINS_ID)\n",
    "#     print(\"Got the plugins from pyplugininstances\")\n",
    "#     print(_O9_PLUGINS_DATA)"
   ]
  },
  {
   "cell_type": "raw",
   "id": "47249274-8f1b-45f9-87a9-6098232d4e55",
   "metadata": {},
   "source": []
  },
  {
   "cell_type": "code",
   "execution_count": null,
   "id": "34ff247c-cb01-4668-b662-e39f1ae7e55d",
   "metadata": {},
   "outputs": [],
   "source": []
  }
 ],
 "metadata": {
  "id": "cccb7996-b06d-433a-885f-2294a5d7385d",
  "kernelspec": {
   "display_name": "[AshutoshGFS] Tenant Conda Environment",
   "language": "python",
   "name": "sandbox_ashutoshgfs"
  },
  "language_info": {
   "codemirror_mode": {
    "name": "ipython",
    "version": 3
   },
   "file_extension": ".py",
   "mimetype": "text/x-python",
   "name": "python",
   "nbconvert_exporter": "python",
   "pygments_lexer": "ipython3",
   "version": "3.7.10"
  }
 },
 "nbformat": 4,
 "nbformat_minor": 5
}
