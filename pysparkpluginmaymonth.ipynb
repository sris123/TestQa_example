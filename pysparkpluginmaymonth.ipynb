{
 "cells": [
  {
   "cell_type": "code",
   "execution_count": 6,
   "id": "61b5c382-d546-44d4-b6eb-a7b7c81e6222",
   "metadata": {},
   "outputs": [
    {
     "data": {
      "application/vnd.jupyter.widget-view+json": {
       "model_id": "",
       "version_major": 2,
       "version_minor": 0
      },
      "text/plain": [
       "FloatProgress(value=0.0, bar_style='info', description='Progress:', layout=Layout(height='25px', width='50%'),…"
      ]
     },
     "metadata": {},
     "output_type": "display_data"
    },
    {
     "name": "stdout",
     "output_type": "stream",
     "text": [
      "2024-05-02 07:43:04,208 - o9_logger - ERROR - Output variable already exists."
     ]
    }
   ],
   "source": [
    "_predict_df = \"select (Version.[Version Name]*Product.[Product].[196426]*Time.FiscalWeek*SalesAccount.[Account]*Location.[Location]*{Measure.[DPSellOutUnitsActuals],Measure.[Mean Pricing Save PCT],Measure.[Placement Count],Measure.[Promotion Count],Measure.[DPSellOutPrice]});\"\n",
    "\n",
    "from o9_common_utils.O9DataLake import O9DataLake, ResourceType, DataSource,PluginSetting\n",
    "\n",
    "# register inputs\n",
    "predict_df = O9DataLake.register(\"predict_df\",data_source = DataSource.LS, entity_type = ResourceType.IBPL, query = _predict_df,plugin_setting = PluginSetting.Inputs,spark = spark)\n",
    "systemreport = O9DataLake.register(\"sysreport\",data_source = DataSource.LIVEFRAME,entity_type = ResourceType.LIVEFRAME,plugin_setting = PluginSetting.Inputs,spark = spark)\n",
    "\n",
    "# register slice dimension\n",
    "O9DataLake.register(\"Product.[Product]\", data_source = DataSource.LS, entity_type = ResourceType.IBPL, plugin_setting = PluginSetting.SliceDimension)\n",
    "\n",
    "# register outputs\n",
    "O9DataLake.register(\"output1\",data_source = DataSource.LS,entity_type = ResourceType.IBPL, plugin_setting = PluginSetting.Outputs)\n",
    "\n",
    "# register script params\n",
    "script_params = O9DataLake.register({\"var1\":\"10\",\"var2\":\"Test1\"}, data_source = DataSource.LS, plugin_setting = PluginSetting.ScriptParam)"
   ]
  },
  {
   "cell_type": "code",
   "execution_count": 7,
   "id": "a6ed3ecc-813c-4572-b384-5b4fc511b6e8",
   "metadata": {},
   "outputs": [
    {
     "data": {
      "application/vnd.jupyter.widget-view+json": {
       "model_id": "",
       "version_major": 2,
       "version_minor": 0
      },
      "text/plain": [
       "FloatProgress(value=0.0, bar_style='info', description='Progress:', layout=Layout(height='25px', width='50%'),…"
      ]
     },
     "metadata": {},
     "output_type": "display_data"
    },
    {
     "name": "stdout",
     "output_type": "stream",
     "text": [
      "{'predict_df': {'name': 'predict_df', 'resource_type': <ResourceType.IBPL: 'ibpl_query'>, 'data_source': <DataSource.LS: 'liveserver'>, 'query': 'select (Version.[Version Name]*Product.[Product].[196426]*Time.FiscalWeek*SalesAccount.[Account]*Location.[Location]*{Measure.[DPSellOutUnitsActuals],Measure.[Mean Pricing Save PCT],Measure.[Placement Count],Measure.[Promotion Count],Measure.[DPSellOutPrice]});', 'std_count_limit': '200000', 'df': DataFrame[VersionVersionName: string, ProductProduct: string, TimeFiscalWeek: string, SalesAccountAccount: string, LocationLocation: string, DPSellOutUnitsActuals: float, MeanPricingSavePCT: float, PlacementCount: float, PromotionCount: float, DPSellOutPrice: float]}, 'sysreport': {'name': 'sysreport', 'resource_type': <ResourceType.LIVEFRAME: 'liveframe'>, 'data_source': <DataSource.LIVEFRAME: 'liveframe'>, 'query': 'SELECT ([WalmartTime].[Day].filter(#.[Day$InActive] in { false }) * [Store].[Store_ID].filter(#.[Store_ID$InActive] in { false }) * [Version].[Version Name].filter(#.[Version Name$InActive] in { false }) * {Measure.[DSML dsmldim]}) on row, () on column include lcid 1033, cellproperties {LOCK, BG_COLOR, FG_COLOR} ORDERBY [WalmartTime].[Day].[Key] ASC ;', 'SystemReportId': 5421397, 'std_count_limit': '200000', 'df': DataFrame[WalmartTimeDay: string, StoreStoreID: string, VersionVersionName: string, DSMLdsmldim: float]}}"
     ]
    }
   ],
   "source": [
    "O9DataLake.inputs"
   ]
  },
  {
   "cell_type": "code",
   "execution_count": 8,
   "id": "a24f5f19-272a-4479-8c31-fa15fa0498c3",
   "metadata": {},
   "outputs": [
    {
     "data": {
      "application/vnd.jupyter.widget-view+json": {
       "model_id": "",
       "version_major": 2,
       "version_minor": 0
      },
      "text/plain": [
       "FloatProgress(value=0.0, bar_style='info', description='Progress:', layout=Layout(height='25px', width='50%'),…"
      ]
     },
     "metadata": {},
     "output_type": "display_data"
    },
    {
     "name": "stdout",
     "output_type": "stream",
     "text": [
      "<class 'pyspark.sql.dataframe.DataFrame'>"
     ]
    }
   ],
   "source": [
    "type(systemreport)"
   ]
  },
  {
   "cell_type": "code",
   "execution_count": 9,
   "id": "efcd6b43-6d83-4e98-8a02-d269d7cc164f",
   "metadata": {},
   "outputs": [
    {
     "data": {
      "application/vnd.jupyter.widget-view+json": {
       "model_id": "",
       "version_major": 2,
       "version_minor": 0
      },
      "text/plain": [
       "FloatProgress(value=0.0, bar_style='info', description='Progress:', layout=Layout(height='25px', width='50%'),…"
      ]
     },
     "metadata": {},
     "output_type": "display_data"
    },
    {
     "name": "stdout",
     "output_type": "stream",
     "text": [
      "+--------------+------------+------------------+-----------+\n",
      "|WalmartTimeDay|StoreStoreID|VersionVersionName|DSMLdsmldim|\n",
      "+--------------+------------+------------------+-----------+\n",
      "|    02-05-2010|           1|CurrentWorkingView|      2.572|\n",
      "|    02-05-2010|          10|CurrentWorkingView|      3.963|\n",
      "|    02-05-2010|          11|CurrentWorkingView|      2.653|\n",
      "|    02-05-2010|          12|CurrentWorkingView|      4.121|\n",
      "|    02-05-2010|          13|CurrentWorkingView|      2.797|\n",
      "|    02-05-2010|          14|CurrentWorkingView|      3.951|\n",
      "|    02-05-2010|          15|CurrentWorkingView|      2.913|\n",
      "|    02-05-2010|          16|CurrentWorkingView|      3.764|\n",
      "|    02-05-2010|          17|CurrentWorkingView|      2.875|\n",
      "|    02-05-2010|          18|CurrentWorkingView|      3.577|\n",
      "|    02-05-2010|          19|CurrentWorkingView|      2.999|\n",
      "|    02-05-2010|           2|CurrentWorkingView|      3.308|\n",
      "|    02-05-2010|          20|CurrentWorkingView|      3.647|\n",
      "|    02-05-2010|          21|CurrentWorkingView|      2.728|\n",
      "|    02-05-2010|          22|CurrentWorkingView|      3.874|\n",
      "|    02-05-2010|          23|CurrentWorkingView|      3.132|\n",
      "|    02-05-2010|          24|CurrentWorkingView|      4.203|\n",
      "|    02-05-2010|          25|CurrentWorkingView|      3.193|\n",
      "|    02-05-2010|          26|CurrentWorkingView|        4.0|\n",
      "|    02-05-2010|          27|CurrentWorkingView|        3.4|\n",
      "+--------------+------------+------------------+-----------+\n",
      "only showing top 20 rows"
     ]
    }
   ],
   "source": [
    "systemreport.show()"
   ]
  },
  {
   "cell_type": "code",
   "execution_count": 10,
   "id": "1681a4e8-5b74-4edd-8948-68f08e3678ac",
   "metadata": {},
   "outputs": [
    {
     "data": {
      "application/vnd.jupyter.widget-view+json": {
       "model_id": "",
       "version_major": 2,
       "version_minor": 0
      },
      "text/plain": [
       "FloatProgress(value=0.0, bar_style='info', description='Progress:', layout=Layout(height='25px', width='50%'),…"
      ]
     },
     "metadata": {},
     "output_type": "display_data"
    }
   ],
   "source": [
    "# fetching inputs\n",
    "predict_df = O9DataLake.get('predict_df')\n",
    "systemreport = O9DataLake.get('sysreport')\n",
    "\n",
    "# fetching script params\n",
    "value1 = O9DataLake.get_script_param(\"var1\")\n",
    "value2 = O9DataLake.get_script_param(\"var2\")"
   ]
  },
  {
   "cell_type": "code",
   "execution_count": 13,
   "id": "7aac93c1-f954-4223-8a04-2f227bd9bbdb",
   "metadata": {},
   "outputs": [
    {
     "data": {
      "application/vnd.jupyter.widget-view+json": {
       "model_id": "",
       "version_major": 2,
       "version_minor": 0
      },
      "text/plain": [
       "FloatProgress(value=0.0, bar_style='info', description='Progress:', layout=Layout(height='25px', width='50%'),…"
      ]
     },
     "metadata": {},
     "output_type": "display_data"
    },
    {
     "name": "stdout",
     "output_type": "stream",
     "text": [
      "2024-05-02 07:47:31,476 - o9_logger - DEBUG - predict_df dataframe:  14\n",
      "2024-05-02 07:47:31,736 - o9_logger - DEBUG - systemreport dataframe:  8190\n",
      "2024-05-02 07:47:31,736 - o9_logger - DEBUG - script param var1 value: 10\n",
      "2024-05-02 07:47:31,736 - o9_logger - DEBUG - script param var2 value: Test1"
     ]
    }
   ],
   "source": [
    "#user script\n",
    "\n",
    "# package imports\n",
    "import logging\n",
    "from sklearn import tree\n",
    "\n",
    "# initialize output variables\n",
    "output1 = None\n",
    "\n",
    "\n",
    "# initialize logger\n",
    "logger = logging.getLogger('o9_logger')\n",
    "\n",
    "logger.debug(f'predict_df dataframe:  {predict_df.count()}')\n",
    "logger.debug(f'systemreport dataframe:  {systemreport.count()}')\n",
    "logger.debug(f'script param var1 value: {value1}')\n",
    "logger.debug(f'script param var2 value: {value2}')"
   ]
  },
  {
   "cell_type": "code",
   "execution_count": 14,
   "id": "34722be6-e6d7-46ed-a0b8-ff24e6dd4fc8",
   "metadata": {},
   "outputs": [
    {
     "data": {
      "application/vnd.jupyter.widget-view+json": {
       "model_id": "",
       "version_major": 2,
       "version_minor": 0
      },
      "text/plain": [
       "FloatProgress(value=0.0, bar_style='info', description='Progress:', layout=Layout(height='25px', width='50%'),…"
      ]
     },
     "metadata": {},
     "output_type": "display_data"
    },
    {
     "name": "stdout",
     "output_type": "stream",
     "text": [
      "2024-05-02 07:47:42,115 - o9_logger - DEBUG - systemreport dataframe:  Row(WalmartTimeDay='02-05-2010', StoreStoreID='1', VersionVersionName='CurrentWorkingView', DSMLdsmldim=2.572000026702881)"
     ]
    }
   ],
   "source": [
    "output1 = systemreport\n",
    "logger.debug(f'systemreport dataframe:  {systemreport.head()}')"
   ]
  },
  {
   "cell_type": "code",
   "execution_count": 15,
   "id": "464a5e26-1910-4fda-a116-9203cbcc0838",
   "metadata": {},
   "outputs": [
    {
     "data": {
      "application/vnd.jupyter.widget-view+json": {
       "model_id": "",
       "version_major": 2,
       "version_minor": 0
      },
      "text/plain": [
       "FloatProgress(value=0.0, bar_style='info', description='Progress:', layout=Layout(height='25px', width='50%'),…"
      ]
     },
     "metadata": {},
     "output_type": "display_data"
    },
    {
     "name": "stdout",
     "output_type": "stream",
     "text": [
      "2024-05-02 07:47:59,001 - o9_logger - DEBUG - HDFS enabled: False\n",
      "Failed to save output to Live Server\n",
      "[Errno 13] Permission denied: '/mnt/resource'"
     ]
    }
   ],
   "source": [
    "#pushing outputs to Live Server(make sure all dimensions,measures present in LiveServer)\n",
    "O9DataLake.put('output1', output1)"
   ]
  },
  {
   "cell_type": "code",
   "execution_count": null,
   "id": "79c262c2-f34f-4572-a946-b2661e4f5071",
   "metadata": {},
   "outputs": [],
   "source": []
  }
 ],
 "metadata": {
  "kernelspec": {
   "display_name": "[pyplatformhivetest] Tenant Conda Environment",
   "language": "python",
   "name": "genieaz_pyplatformhivetest"
  },
  "language_info": {
   "codemirror_mode": {
    "name": "ipython",
    "version": 3
   },
   "file_extension": ".py",
   "mimetype": "text/x-python",
   "name": "python",
   "nbconvert_exporter": "python",
   "pygments_lexer": "ipython3",
   "version": "3.7.10"
  }
 },
 "nbformat": 4,
 "nbformat_minor": 5
}
