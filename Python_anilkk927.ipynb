{
 "cells": [
  {
   "cell_type": "code",
   "execution_count": 20,
   "id": "ffb6f2da-fde8-4e67-ac3c-fc07e75c113f",
   "metadata": {},
   "outputs": [],
   "source": [
    "predict_df = \"select (Version.[Version Name]*Product.[Product].[208821]*Time.FiscalWeek*SalesAccount.[Account]*Location.[Location]*{Measure.[DPSellOutUnitsActuals],Measure.[Mean Pricing Save PCT],Measure.[Placement Count],Measure.[Promotion Count],Measure.[DPSellOutPrice]});\"\n",
    "\n",
    "from o9_common_utils.O9DataLake import O9DataLake, ResourceType, DataSource,PluginSetting\n",
    "\n",
    "# register inputs\n",
    "predict_df = O9DataLake.register(\"predict_df\",data_source = DataSource.LS, entity_type = ResourceType.IBPL, query = predict_df,plugin_setting = PluginSetting.Inputs)\n",
    "# systemreport = O9DataLake.register(\"sysreport\",data_source = DataSource.LIVEFRAME,entity_type = ResourceType.LIVEFRAME,plugin_setting = PluginSetting.Inputs)\n",
    "# liveinput = O9DataLake.register(\"ReportName\",data_source = DataSource.LIVEFRAME,entity_type = ResourceType.LIVEFRAME,plugin_setting = PluginSetting.Inputs)\n",
    "\n",
    "# register slice dimension\n",
    "O9DataLake.register(\"Product.[Product]\", data_source = DataSource.LS, entity_type = ResourceType.IBPL, plugin_setting = PluginSetting.SliceDimension)\n",
    "\n",
    "# register outputs\n",
    "O9DataLake.register(\"output1\",data_source = DataSource.LS,entity_type = ResourceType.IBPL, plugin_setting = PluginSetting.Outputs)\n",
    "# O9DataLake.register(\"output2\",data_source = DataSource.LS,entity_type = ResourceType.IBPL, plugin_setting = PluginSetting.Outputs)\n",
    "\n",
    "# register script params\n",
    "script_params = O9DataLake.register({\"var1\":\"20\",\"var2\":\"Test1\",\"var3\":\"newparam\"}, data_source = DataSource.LS, plugin_setting = PluginSetting.ScriptParam)\n"
   ]
  },
  {
   "cell_type": "code",
   "execution_count": 22,
   "id": "78c89ef7-33f6-4d47-8a78-8df2b8433632",
   "metadata": {},
   "outputs": [
    {
     "data": {
      "text/plain": [
       "{'predict_df': {'name': 'predict_df',\n",
       "  'resource_type': <ResourceType.IBPL: 'ibpl_query'>,\n",
       "  'data_source': <DataSource.LS: 'liveserver'>,\n",
       "  'query': 'select (Version.[Version Name]*Product.[Product].[208821]*Time.FiscalWeek*SalesAccount.[Account]*Location.[Location]*{Measure.[DPSellOutUnitsActuals],Measure.[Mean Pricing Save PCT],Measure.[Placement Count],Measure.[Promotion Count],Measure.[DPSellOutPrice]});',\n",
       "  'std_count_limit': '200000',\n",
       "  'df':     Version.[Version Name]  Product.[Product] Time.[FiscalWeek]  \\\n",
       "  0                       S1             208821          W49-2015   \n",
       "  1       CurrentWorkingView             208821          W49-2015   \n",
       "  2                       S1             208821          W50-2015   \n",
       "  3       CurrentWorkingView             208821          W50-2015   \n",
       "  4                       S1             208821          W51-2015   \n",
       "  ..                     ...                ...               ...   \n",
       "  315     CurrentWorkingView             208821          W50-2018   \n",
       "  316                     S1             208821          W51-2018   \n",
       "  317     CurrentWorkingView             208821          W51-2018   \n",
       "  318                     S1             208821          W52-2018   \n",
       "  319     CurrentWorkingView             208821          W52-2018   \n",
       "  \n",
       "      SalesAccount.[Account] Location.[Location]  DPSellOutUnitsActuals  \\\n",
       "  0                      ALL                 ALL                    NaN   \n",
       "  1                      ALL                 ALL                    NaN   \n",
       "  2                      ALL                 ALL                    NaN   \n",
       "  3                      ALL                 ALL                    NaN   \n",
       "  4                      ALL                 ALL                    NaN   \n",
       "  ..                     ...                 ...                    ...   \n",
       "  315                    ALL                 ALL                    NaN   \n",
       "  316                    ALL                 ALL                    NaN   \n",
       "  317                    ALL                 ALL                    NaN   \n",
       "  318                    ALL                 ALL                    NaN   \n",
       "  319                    ALL                 ALL                    NaN   \n",
       "  \n",
       "       Mean Pricing Save PCT  Placement Count  Promotion Count  DPSellOutPrice  \n",
       "  0                      NaN                2              NaN             NaN  \n",
       "  1                      NaN                2              NaN             NaN  \n",
       "  2                      NaN                2              NaN             NaN  \n",
       "  3                      NaN                2              NaN             NaN  \n",
       "  4                      NaN                2              NaN             NaN  \n",
       "  ..                     ...              ...              ...             ...  \n",
       "  315                    NaN                1              NaN             NaN  \n",
       "  316                    NaN                1              NaN             NaN  \n",
       "  317                    NaN                1              NaN             NaN  \n",
       "  318                    NaN                1              NaN             NaN  \n",
       "  319                    NaN                1              NaN             NaN  \n",
       "  \n",
       "  [320 rows x 10 columns]}}"
      ]
     },
     "execution_count": 22,
     "metadata": {},
     "output_type": "execute_result"
    }
   ],
   "source": [
    "O9DataLake.inputs"
   ]
  },
  {
   "cell_type": "code",
   "execution_count": 24,
   "id": "ffca56a4-6f02-4c8b-9d26-dbfea16986f7",
   "metadata": {},
   "outputs": [
    {
     "name": "stdout",
     "output_type": "stream",
     "text": [
      "2024-06-06 15:07:07,491 - o9_logger - INFO  -     Version.[Version Name]  Product.[Product] Time.[FiscalWeek]  \\\n",
      "0                       S1             208821          W49-2015   \n",
      "1       CurrentWorkingView             208821          W49-2015   \n",
      "2                       S1             208821          W50-2015   \n",
      "3       CurrentWorkingView             208821          W50-2015   \n",
      "4                       S1             208821          W51-2015   \n",
      "..                     ...                ...               ...   \n",
      "315     CurrentWorkingView             208821          W50-2018   \n",
      "316                     S1             208821          W51-2018   \n",
      "317     CurrentWorkingView             208821          W51-2018   \n",
      "318                     S1             208821          W52-2018   \n",
      "319     CurrentWorkingView             208821          W52-2018   \n",
      "\n",
      "    SalesAccount.[Account] Location.[Location]  DPSellOutUnitsActuals  \\\n",
      "0                      ALL                 ALL                    NaN   \n",
      "1                      ALL                 ALL                    NaN   \n",
      "2                      ALL                 ALL                    NaN   \n",
      "3                      ALL                 ALL                    NaN   \n",
      "4                      ALL                 ALL                    NaN   \n",
      "..                     ...                 ...                    ...   \n",
      "315                    ALL                 ALL                    NaN   \n",
      "316                    ALL                 ALL                    NaN   \n",
      "317                    ALL                 ALL                    NaN   \n",
      "318                    ALL                 ALL                    NaN   \n",
      "319                    ALL                 ALL                    NaN   \n",
      "\n",
      "     Mean Pricing Save PCT  Placement Count  Promotion Count  DPSellOutPrice  \n",
      "0                      NaN                2              NaN             NaN  \n",
      "1                      NaN                2              NaN             NaN  \n",
      "2                      NaN                2              NaN             NaN  \n",
      "3                      NaN                2              NaN             NaN  \n",
      "4                      NaN                2              NaN             NaN  \n",
      "..                     ...              ...              ...             ...  \n",
      "315                    NaN                1              NaN             NaN  \n",
      "316                    NaN                1              NaN             NaN  \n",
      "317                    NaN                1              NaN             NaN  \n",
      "318                    NaN                1              NaN             NaN  \n",
      "319                    NaN                1              NaN             NaN  \n",
      "\n",
      "[320 rows x 10 columns]\n"
     ]
    },
    {
     "ename": "KeyError",
     "evalue": "'Col4'",
     "output_type": "error",
     "traceback": [
      "\u001b[0;31m---------------------------------------------------------------------------\u001b[0m",
      "\u001b[0;31mKeyError\u001b[0m                                  Traceback (most recent call last)",
      "\u001b[0;32m/opt/conda/envs/k8qa_autodsml2/lib/python3.7/site-packages/pandas/core/indexes/base.py\u001b[0m in \u001b[0;36mget_loc\u001b[0;34m(self, key, method, tolerance)\u001b[0m\n\u001b[1;32m   2897\u001b[0m             \u001b[0;32mtry\u001b[0m\u001b[0;34m:\u001b[0m\u001b[0;34m\u001b[0m\u001b[0;34m\u001b[0m\u001b[0m\n\u001b[0;32m-> 2898\u001b[0;31m                 \u001b[0;32mreturn\u001b[0m \u001b[0mself\u001b[0m\u001b[0;34m.\u001b[0m\u001b[0m_engine\u001b[0m\u001b[0;34m.\u001b[0m\u001b[0mget_loc\u001b[0m\u001b[0;34m(\u001b[0m\u001b[0mcasted_key\u001b[0m\u001b[0;34m)\u001b[0m\u001b[0;34m\u001b[0m\u001b[0;34m\u001b[0m\u001b[0m\n\u001b[0m\u001b[1;32m   2899\u001b[0m             \u001b[0;32mexcept\u001b[0m \u001b[0mKeyError\u001b[0m \u001b[0;32mas\u001b[0m \u001b[0merr\u001b[0m\u001b[0;34m:\u001b[0m\u001b[0;34m\u001b[0m\u001b[0;34m\u001b[0m\u001b[0m\n",
      "\u001b[0;32mpandas/_libs/index.pyx\u001b[0m in \u001b[0;36mpandas._libs.index.IndexEngine.get_loc\u001b[0;34m()\u001b[0m\n",
      "\u001b[0;32mpandas/_libs/index.pyx\u001b[0m in \u001b[0;36mpandas._libs.index.IndexEngine.get_loc\u001b[0;34m()\u001b[0m\n",
      "\u001b[0;32mpandas/_libs/hashtable_class_helper.pxi\u001b[0m in \u001b[0;36mpandas._libs.hashtable.PyObjectHashTable.get_item\u001b[0;34m()\u001b[0m\n",
      "\u001b[0;32mpandas/_libs/hashtable_class_helper.pxi\u001b[0m in \u001b[0;36mpandas._libs.hashtable.PyObjectHashTable.get_item\u001b[0;34m()\u001b[0m\n",
      "\u001b[0;31mKeyError\u001b[0m: 'Col4'",
      "\nThe above exception was the direct cause of the following exception:\n",
      "\u001b[0;31mKeyError\u001b[0m                                  Traceback (most recent call last)",
      "\u001b[0;32m/tmp/ipykernel_1559/1704369812.py\u001b[0m in \u001b[0;36m<module>\u001b[0;34m\u001b[0m\n\u001b[1;32m     10\u001b[0m \u001b[0;34m\u001b[0m\u001b[0m\n\u001b[1;32m     11\u001b[0m \u001b[0mout_df\u001b[0m \u001b[0;34m=\u001b[0m \u001b[0mpredict_df\u001b[0m\u001b[0;34m.\u001b[0m\u001b[0mcopy\u001b[0m\u001b[0;34m(\u001b[0m\u001b[0mdeep\u001b[0m\u001b[0;34m=\u001b[0m\u001b[0;32mTrue\u001b[0m\u001b[0;34m)\u001b[0m\u001b[0;34m\u001b[0m\u001b[0;34m\u001b[0m\u001b[0m\n\u001b[0;32m---> 12\u001b[0;31m \u001b[0mout_df\u001b[0m\u001b[0;34m[\u001b[0m\u001b[0;34m\"Col4\"\u001b[0m\u001b[0;34m]\u001b[0m \u001b[0;34m=\u001b[0m \u001b[0mout_df\u001b[0m\u001b[0;34m[\u001b[0m\u001b[0;34m\"Col4\"\u001b[0m\u001b[0;34m]\u001b[0m \u001b[0;34m+\u001b[0m \u001b[0;36m2\u001b[0m\u001b[0;34m\u001b[0m\u001b[0;34m\u001b[0m\u001b[0m\n\u001b[0m\u001b[1;32m     13\u001b[0m \u001b[0;34m\u001b[0m\u001b[0m\n\u001b[1;32m     14\u001b[0m \u001b[0;31m#O9DataLake.put(\"out_df\", out_df)\u001b[0m\u001b[0;34m\u001b[0m\u001b[0;34m\u001b[0m\u001b[0;34m\u001b[0m\u001b[0m\n",
      "\u001b[0;32m/opt/conda/envs/k8qa_autodsml2/lib/python3.7/site-packages/pandas/core/frame.py\u001b[0m in \u001b[0;36m__getitem__\u001b[0;34m(self, key)\u001b[0m\n\u001b[1;32m   2904\u001b[0m             \u001b[0;32mif\u001b[0m \u001b[0mself\u001b[0m\u001b[0;34m.\u001b[0m\u001b[0mcolumns\u001b[0m\u001b[0;34m.\u001b[0m\u001b[0mnlevels\u001b[0m \u001b[0;34m>\u001b[0m \u001b[0;36m1\u001b[0m\u001b[0;34m:\u001b[0m\u001b[0;34m\u001b[0m\u001b[0;34m\u001b[0m\u001b[0m\n\u001b[1;32m   2905\u001b[0m                 \u001b[0;32mreturn\u001b[0m \u001b[0mself\u001b[0m\u001b[0;34m.\u001b[0m\u001b[0m_getitem_multilevel\u001b[0m\u001b[0;34m(\u001b[0m\u001b[0mkey\u001b[0m\u001b[0;34m)\u001b[0m\u001b[0;34m\u001b[0m\u001b[0;34m\u001b[0m\u001b[0m\n\u001b[0;32m-> 2906\u001b[0;31m             \u001b[0mindexer\u001b[0m \u001b[0;34m=\u001b[0m \u001b[0mself\u001b[0m\u001b[0;34m.\u001b[0m\u001b[0mcolumns\u001b[0m\u001b[0;34m.\u001b[0m\u001b[0mget_loc\u001b[0m\u001b[0;34m(\u001b[0m\u001b[0mkey\u001b[0m\u001b[0;34m)\u001b[0m\u001b[0;34m\u001b[0m\u001b[0;34m\u001b[0m\u001b[0m\n\u001b[0m\u001b[1;32m   2907\u001b[0m             \u001b[0;32mif\u001b[0m \u001b[0mis_integer\u001b[0m\u001b[0;34m(\u001b[0m\u001b[0mindexer\u001b[0m\u001b[0;34m)\u001b[0m\u001b[0;34m:\u001b[0m\u001b[0;34m\u001b[0m\u001b[0;34m\u001b[0m\u001b[0m\n\u001b[1;32m   2908\u001b[0m                 \u001b[0mindexer\u001b[0m \u001b[0;34m=\u001b[0m \u001b[0;34m[\u001b[0m\u001b[0mindexer\u001b[0m\u001b[0;34m]\u001b[0m\u001b[0;34m\u001b[0m\u001b[0;34m\u001b[0m\u001b[0m\n",
      "\u001b[0;32m/opt/conda/envs/k8qa_autodsml2/lib/python3.7/site-packages/pandas/core/indexes/base.py\u001b[0m in \u001b[0;36mget_loc\u001b[0;34m(self, key, method, tolerance)\u001b[0m\n\u001b[1;32m   2898\u001b[0m                 \u001b[0;32mreturn\u001b[0m \u001b[0mself\u001b[0m\u001b[0;34m.\u001b[0m\u001b[0m_engine\u001b[0m\u001b[0;34m.\u001b[0m\u001b[0mget_loc\u001b[0m\u001b[0;34m(\u001b[0m\u001b[0mcasted_key\u001b[0m\u001b[0;34m)\u001b[0m\u001b[0;34m\u001b[0m\u001b[0;34m\u001b[0m\u001b[0m\n\u001b[1;32m   2899\u001b[0m             \u001b[0;32mexcept\u001b[0m \u001b[0mKeyError\u001b[0m \u001b[0;32mas\u001b[0m \u001b[0merr\u001b[0m\u001b[0;34m:\u001b[0m\u001b[0;34m\u001b[0m\u001b[0;34m\u001b[0m\u001b[0m\n\u001b[0;32m-> 2900\u001b[0;31m                 \u001b[0;32mraise\u001b[0m \u001b[0mKeyError\u001b[0m\u001b[0;34m(\u001b[0m\u001b[0mkey\u001b[0m\u001b[0;34m)\u001b[0m \u001b[0;32mfrom\u001b[0m \u001b[0merr\u001b[0m\u001b[0;34m\u001b[0m\u001b[0;34m\u001b[0m\u001b[0m\n\u001b[0m\u001b[1;32m   2901\u001b[0m \u001b[0;34m\u001b[0m\u001b[0m\n\u001b[1;32m   2902\u001b[0m         \u001b[0;32mif\u001b[0m \u001b[0mtolerance\u001b[0m \u001b[0;32mis\u001b[0m \u001b[0;32mnot\u001b[0m \u001b[0;32mNone\u001b[0m\u001b[0;34m:\u001b[0m\u001b[0;34m\u001b[0m\u001b[0;34m\u001b[0m\u001b[0m\n",
      "\u001b[0;31mKeyError\u001b[0m: 'Col4'"
     ]
    }
   ],
   "source": [
    "import logging\n",
    "\n",
    "\n",
    "\n",
    "logger = logging.getLogger('o9_logger')\n",
    "\n",
    "predict_df = O9DataLake.get('predict_df')\n",
    "\n",
    "logger.info(predict_df)\n",
    "\n",
    "out_df = predict_df.copy(deep=True)\n",
    "out_df[\"Col4\"] = out_df[\"Col4\"] + 2\n",
    "\n",
    "#O9DataLake.put(\"out_df\", out_df)\n",
    "\n",
    "logger.info(out_df)\n",
    "\n"
   ]
  },
  {
   "cell_type": "code",
   "execution_count": null,
   "id": "c3fa772b-c294-49a5-b059-580f86e38c15",
   "metadata": {},
   "outputs": [],
   "source": []
  }
 ],
 "metadata": {
  "kernelspec": {
   "display_name": "[autodsml2] Tenant Conda Environment",
   "language": "python",
   "name": "k8qa_autodsml2"
  },
  "language_info": {
   "codemirror_mode": {
    "name": "ipython",
    "version": 3
   },
   "file_extension": ".py",
   "mimetype": "text/x-python",
   "name": "python",
   "nbconvert_exporter": "python",
   "pygments_lexer": "ipython3",
   "version": "3.7.10"
  }
 },
 "nbformat": 4,
 "nbformat_minor": 5
}
