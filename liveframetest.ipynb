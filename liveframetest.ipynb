{
 "cells": [
  {
   "cell_type": "code",
   "execution_count": 3,
   "id": "0666e17b-e722-4dc0-9bd0-2a01d72ad10a",
   "metadata": {},
   "outputs": [],
   "source": [
    "from o9_common_utils.O9DataLake import O9DataLake, ResourceType, DataSource,PluginSetting\n",
    "inp1 = O9DataLake.register(\"fuelsalereport\",data_source = DataSource.LIVEFRAME,entity_type = ResourceType.LIVEFRAME,plugin_setting = PluginSetting.Inputs)\n",
    "inp2 = O9DataLake.register(\"test123\",data_source = DataSource.LIVEFRAME,entity_type = ResourceType.LIVEFRAME,plugin_setting = PluginSetting.Inputs)\n",
    "O9DataLake.register(\"out_df\",data_source = DataSource.LS,entity_type = ResourceType.IBPL,plugin_setting = PluginSetting.Outputs)"
   ]
  },
  {
   "cell_type": "code",
   "execution_count": 26,
   "id": "8cdd5799-82fc-4195-a8c9-e38f0fdb07fa",
   "metadata": {
    "tags": [
     "o9_ignore"
    ]
   },
   "outputs": [
    {
     "data": {
      "text/plain": [
       "{'fuelsalereport': {'name': 'fuelsalereport',\n",
       "  'resource_type': <ResourceType.LIVEFRAME: 'liveframe'>,\n",
       "  'data_source': <DataSource.LIVEFRAME: 'liveframe'>,\n",
       "  'query': 'SELECT ([WalmartTime].[Day].filter(#.[Day$InActive] in { false }) * {Measure.[Fuel Price]} * [Store].[Store_ID].filter(#.[Store_ID$InActive] in { false })) on row, () on column include lcid 1033, cellproperties {LOCK, BG_COLOR, FG_COLOR} where {[Version].[Version Name].filter(#.Name in { \"CurrentWorkingView\" }).filter(#.[Version Name$InActive] in { false })} ORDERBY [WalmartTime].[Day].[Key] ASC ;',\n",
       "  'LiveFrameReportId': '4d8ce942-de03-48b6-8695-3f5ce37bf078',\n",
       "  'std_count_limit': '200000',\n",
       "  'df':      WalmartTime.[Day]  Store.[Store_ID]  Fuel Price\n",
       "  0           02-05-2010                 1       2.572\n",
       "  1           02-05-2010                10       3.963\n",
       "  2           02-05-2010                11       2.653\n",
       "  3           02-05-2010                12       4.121\n",
       "  4           02-05-2010                13       2.797\n",
       "  ...                ...               ...         ...\n",
       "  8185        07-26-2013                 5       3.261\n",
       "  8186        07-26-2013                 6       2.780\n",
       "  8187        07-26-2013                 7       3.103\n",
       "  8188        07-26-2013                 8       2.759\n",
       "  8189        07-26-2013                 9       3.669\n",
       "  \n",
       "  [8190 rows x 3 columns]},\n",
       " 'test123': {'name': 'test123',\n",
       "  'resource_type': <ResourceType.LIVEFRAME: 'liveframe'>,\n",
       "  'data_source': <DataSource.LIVEFRAME: 'liveframe'>,\n",
       "  'query': 'SELECT ([WalmartTime].[Day].filter(#.[Day$InActive] in { false }) * {Measure.[Weekly Sales]} * [Department].[Department_ID].filter(#.[Department_ID$InActive] in { false }) * [Store].[Store_ID].filter(#.[Store_ID$InActive] in { false })) on row, () on column include lcid 1033, cellproperties {LOCK, BG_COLOR, FG_COLOR} where {[Version].[Version Name].filter(#.Name in { \"CurrentWorkingView\" }).filter(#.[Version Name$InActive] in { false })} ORDERBY [WalmartTime].[Day].[Key] ASC ;',\n",
       "  'LiveFrameReportId': '9d3e1b1c-ce51-4542-a915-15b4c3372b97',\n",
       "  'std_count_limit': '200000',\n",
       "  'df':        WalmartTime.[Day]  Department.[Department_ID]  Store.[Store_ID]  \\\n",
       "  0             02-05-2010                           1                 1   \n",
       "  1             02-05-2010                           1                10   \n",
       "  2             02-05-2010                           1                11   \n",
       "  3             02-05-2010                           1                12   \n",
       "  4             02-05-2010                           1                13   \n",
       "  ...                  ...                         ...               ...   \n",
       "  199995        05-27-2011                          10                 8   \n",
       "  199996        05-27-2011                          10                 9   \n",
       "  199997        05-27-2011                          11                 1   \n",
       "  199998        05-27-2011                          11                10   \n",
       "  199999        05-27-2011                          11                11   \n",
       "  \n",
       "          Weekly Sales  \n",
       "  0           24924.50  \n",
       "  1           40212.84  \n",
       "  2           19611.13  \n",
       "  3           17426.75  \n",
       "  4           46761.90  \n",
       "  ...              ...  \n",
       "  199995      20059.15  \n",
       "  199996      15165.43  \n",
       "  199997      27201.64  \n",
       "  199998      27396.50  \n",
       "  199999      20689.67  \n",
       "  \n",
       "  [200000 rows x 4 columns]}}"
      ]
     },
     "execution_count": 26,
     "metadata": {},
     "output_type": "execute_result"
    }
   ],
   "source": [
    "O9DataLake.jhub_inputs"
   ]
  },
  {
   "cell_type": "code",
   "execution_count": 23,
   "id": "72a37646-e9d8-4a9c-af45-b833958e1436",
   "metadata": {},
   "outputs": [],
   "source": [
    "Inp1 = O9DataLake.get('fuelsalereport')"
   ]
  },
  {
   "cell_type": "code",
   "execution_count": 29,
   "id": "39d4dadc-1cf3-4708-be6c-2ab82ce9f76a",
   "metadata": {},
   "outputs": [
    {
     "name": "stdout",
     "output_type": "stream",
     "text": [
      "2023-10-06 16:32:06,314 - o9_logger - INFO  - Liveframe use\n",
      "2023-10-06 16:32:06,315 - o9_logger - ERROR  - inp1 (8190, 3)\n",
      "2023-10-06 16:32:06,316 - o9_logger - ERROR  - inp2 (200000, 4)\n"
     ]
    }
   ],
   "source": [
    "#user script\n",
    "import logging\n",
    "out_df = None\n",
    "logger = logging.getLogger('o9_logger')\n",
    "logger.info(\"Liveframe use\")\n",
    "logger.error(f'inp1 {Inp1.shape}')\n",
    "logger.error(f'inp2 {inp2.shape}')"
   ]
  },
  {
   "cell_type": "code",
   "execution_count": 30,
   "id": "6c388324-3515-4d3d-98b3-bf5af3d7c796",
   "metadata": {},
   "outputs": [
    {
     "name": "stdout",
     "output_type": "stream",
     "text": [
      "2023-10-06 22:02:39.177272: LiveServer : Failed to parse file. Cannot parse the header row.\n",
      "2023-10-06 22:02:39.177296: LiveServer : Header:[System.String[]]\n",
      "2023-10-06 22:02:39.177300: LiveServer : Measure [Weekly Sales] is not setup for spreading\n",
      "2023-10-06 22:02:39.177303: LiveServer :    at o9.GraphCube.olap.procedures.fileupload.FactBaseParser.ValidateHeader() in D:\\Jenkins\\jobs\\o9AzLiveServerGrpcCompileNet6\\workspaceDev\\o9.Platform\\LiveServer\\Server\\o9.GraphCube\\olap\\procedures\\fileupload\\FactBaseParser.cs:line 792\n",
      "   at o9.GraphCube.olap.procedures.fileupload.FactDSVParser.Parse() in D:\\Jenkins\\jobs\\o9AzLiveServerGrpcCompileNet6\\workspaceDev\\o9.Platform\\LiveServer\\Server\\o9.GraphCube\\olap\\procedures\\fileupload\\FactDSVParser.cs:line 54\n"
     ]
    }
   ],
   "source": [
    "O9DataLake.put('out_df', inp2)"
   ]
  },
  {
   "cell_type": "code",
   "execution_count": 31,
   "id": "f4f9a06f-cce8-42a5-a6cb-5e2e591af558",
   "metadata": {
    "tags": [
     "o9_ignore"
    ]
   },
   "outputs": [
    {
     "data": {
      "text/plain": [
       "{'Fact.out_df.csv':        WalmartTime.[Day]  Department.[Department_ID]  Store.[Store_ID]  \\\n",
       " 0             02-05-2010                           1                 1   \n",
       " 1             02-05-2010                           1                10   \n",
       " 2             02-05-2010                           1                11   \n",
       " 3             02-05-2010                           1                12   \n",
       " 4             02-05-2010                           1                13   \n",
       " ...                  ...                         ...               ...   \n",
       " 199995        05-27-2011                          10                 8   \n",
       " 199996        05-27-2011                          10                 9   \n",
       " 199997        05-27-2011                          11                 1   \n",
       " 199998        05-27-2011                          11                10   \n",
       " 199999        05-27-2011                          11                11   \n",
       " \n",
       "         Weekly Sales  \n",
       " 0           24924.50  \n",
       " 1           40212.84  \n",
       " 2           19611.13  \n",
       " 3           17426.75  \n",
       " 4           46761.90  \n",
       " ...              ...  \n",
       " 199995      20059.15  \n",
       " 199996      15165.43  \n",
       " 199997      27201.64  \n",
       " 199998      27396.50  \n",
       " 199999      20689.67  \n",
       " \n",
       " [200000 rows x 4 columns]}"
      ]
     },
     "execution_count": 31,
     "metadata": {},
     "output_type": "execute_result"
    }
   ],
   "source": [
    "O9DataLake.outputs"
   ]
  },
  {
   "cell_type": "code",
   "execution_count": null,
   "id": "ba59d0f7-8e19-4cbb-89dc-dab1efc9bb4a",
   "metadata": {},
   "outputs": [],
   "source": []
  }
 ],
 "metadata": {
  "id": "fee5edaa-bb04-4d9d-9050-9d35f2b63b88",
  "kernelspec": {
   "display_name": "[pyplatformhivetest] Tenant Conda Environment",
   "language": "python",
   "name": "k8qa_pyplatformhivetest"
  },
  "language_info": {
   "codemirror_mode": {
    "name": "ipython",
    "version": 3
   },
   "file_extension": ".py",
   "mimetype": "text/x-python",
   "name": "python",
   "nbconvert_exporter": "python",
   "pygments_lexer": "ipython3",
   "version": "3.7.10"
  }
 },
 "nbformat": 4,
 "nbformat_minor": 5
}
