{
 "cells": [
  {
   "cell_type": "code",
   "execution_count": 121,
   "id": "5b3d6fad-1ac4-48f4-b9f7-8d446d81e5d2",
   "metadata": {
    "tags": [
     "o9_ignore"
    ]
   },
   "outputs": [
    {
     "data": {
      "application/vnd.jupyter.widget-view+json": {
       "model_id": "",
       "version_major": 2,
       "version_minor": 0
      },
      "text/plain": [
       "FloatProgress(value=0.0, bar_style='info', description='Progress:', layout=Layout(height='25px', width='50%'),…"
      ]
     },
     "metadata": {},
     "output_type": "display_data"
    }
   ],
   "source": [
    "_predict_df = \"select (Version.[Version Name]*Product.[Product].[196426]*Time.FiscalWeek*SalesAccount.[Account]*Location.[Location]*{Measure.[DPSellOutUnitsActuals],Measure.[Mean Pricing Save PCT],Measure.[Placement Count],Measure.[Promotion Count],Measure.[DPSellOutPrice]});\"\n",
    "_input_df = \"select (Version.[Version Name]*Product.[Product].[208821]*Time.FiscalWeek*SalesAccount.[Account]*Location.[Location]*{Measure.[DPSellOutUnitsActuals],Measure.[Mean Pricing Save PCT],Measure.[Placement Count],Measure.[Promotion Count],Measure.[DPSellOutPrice]});\"\n",
    "\n",
    "from o9_common_utils.O9DataLake import O9DataLake, ResourceType, DataSource,PluginSetting\n",
    "\n",
    "# register inputs\n",
    "predict_df = O9DataLake.register(\"predict_df\",data_source = DataSource.LS, entity_type = ResourceType.IBPL, query = _predict_df,plugin_setting = PluginSetting.Inputs)\n",
    "input_df = O9DataLake.register(\"input_df\",data_source = DataSource.LS, entity_type = ResourceType.IBPL, query = _input_df,plugin_setting = PluginSetting.Inputs)\n",
    "liveinput = O9DataLake.register(\"WeeklySales\",data_source = DataSource.LIVEFRAME,entity_type = ResourceType.LIVEFRAME,plugin_setting = PluginSetting.Inputs)\n",
    "\n",
    "# register slice dimension\n",
    "O9DataLake.register(\"Product.[Product]\", data_source = DataSource.LS, entity_type = ResourceType.IBPL, plugin_setting = PluginSetting.SliceDimension)\n",
    "\n",
    "# register outputs\n",
    "O9DataLake.register(\"output1\",data_source = DataSource.LS,entity_type = ResourceType.IBPL, plugin_setting = PluginSetting.Outputs)\n",
    "O9DataLake.register(\"output2\",data_source = DataSource.LS,entity_type = ResourceType.IBPL, plugin_setting = PluginSetting.Outputs)\n",
    "\n"
   ]
  },
  {
   "cell_type": "code",
   "execution_count": 122,
   "id": "b0fd68c5-38c8-4d60-aa92-28ac6f87c481",
   "metadata": {},
   "outputs": [
    {
     "data": {
      "application/vnd.jupyter.widget-view+json": {
       "model_id": "",
       "version_major": 2,
       "version_minor": 0
      },
      "text/plain": [
       "FloatProgress(value=0.0, bar_style='info', description='Progress:', layout=Layout(height='25px', width='50%'),…"
      ]
     },
     "metadata": {},
     "output_type": "display_data"
    }
   ],
   "source": [
    "# register script params\n",
    "script_params = O9DataLake.register({\"var1\":\"DSML2\",\"var2\":\"O9_Datalake\",\"var3\":\"55\"}, data_source = DataSource.LS, plugin_setting = PluginSetting.ScriptParam)"
   ]
  },
  {
   "cell_type": "code",
   "execution_count": 123,
   "id": "965c6454-0449-4c78-929f-1d10957a107b",
   "metadata": {
    "tags": [
     "o9_ignore"
    ]
   },
   "outputs": [
    {
     "data": {
      "application/vnd.jupyter.widget-view+json": {
       "model_id": "",
       "version_major": 2,
       "version_minor": 0
      },
      "text/plain": [
       "FloatProgress(value=0.0, bar_style='info', description='Progress:', layout=Layout(height='25px', width='50%'),…"
      ]
     },
     "metadata": {},
     "output_type": "display_data"
    },
    {
     "name": "stdout",
     "output_type": "stream",
     "text": [
      "{'var2': 'O9_Datalake', 'var1': 'DSML2', 'var3': '55'}"
     ]
    }
   ],
   "source": [
    "O9DataLake.get_script_params()"
   ]
  },
  {
   "cell_type": "code",
   "execution_count": 77,
   "id": "2aaa8313-8c00-4d71-946b-c23fdd901511",
   "metadata": {},
   "outputs": [
    {
     "data": {
      "application/vnd.jupyter.widget-view+json": {
       "model_id": "",
       "version_major": 2,
       "version_minor": 0
      },
      "text/plain": [
       "FloatProgress(value=0.0, bar_style='info', description='Progress:', layout=Layout(height='25px', width='50%'),…"
      ]
     },
     "metadata": {},
     "output_type": "display_data"
    }
   ],
   "source": [
    "# fetching inputs\n",
    "predict_df = O9DataLake.get('predict_df')\n",
    "input_df = O9DataLake.get('input_df')\n",
    "liveinput = O9DataLake.get('WeeklySales')\n",
    "\n",
    "# fetching script params\n",
    "value1 = O9DataLake.get_script_param(\"var1\")\n",
    "value2 = O9DataLake.get_script_param(\"var2\")"
   ]
  },
  {
   "cell_type": "code",
   "execution_count": 104,
   "id": "cf8baa43-17af-4bb4-a20f-2489623e1ce1",
   "metadata": {},
   "outputs": [],
   "source": [
    "#user script\n",
    "\n",
    "# package imports\n",
    "import logging\n",
    "from sklearn import tree\n",
    "\n",
    "# initialize output variables\n",
    "output1 = None\n",
    "output2 = None\n",
    "\n",
    "# initialize logger\n",
    "logger = logging.getLogger('o9_logger')\n",
    "\n",
    "logger.debug(f'predict_df dataframe:  {predict_df.shape}')\n",
    "logger.debug(f'input_df dataframe:  {input_df.shape}')\n",
    "logger.debug(f'liveinput dataframe:  {liveinput.shape}')\n",
    "logger.debug(f'script param var1 value: {value1}')\n",
    "logger.debug(f'script param var2 value: {value2}')\n",
    "\n",
    "if predict_df is not None and len(predict_df.index) > 0:\n",
    "    x = input_df[['Mean Pricing Save PCT', 'Placement Count', 'Promotion Count', 'DPSellOutPrice']]\n",
    "    y = input_df[['DPSellOutUnitsActuals']]\n",
    "    x = x.fillna(0).values\n",
    "    y = y.fillna(0).values\n",
    "\n",
    "    clf = tree.DecisionTreeRegressor()\n",
    "    clf = clf.fit(x, y)\n",
    "\n",
    "    predict = predict_df[['Mean Pricing Save PCT', 'Placement Count', 'Promotion Count', 'DPSellOutPrice']].fillna(0).values\n",
    "    # predict_keys = predict_df[['Time.[FiscalWeek]', 'Product.[Product]', 'Version.[Version Name]', 'SalesAccount.[Account]','Location.[Location]']]\n",
    "    # predict_keys[\"Product.[Product]\"] = pd.to_numeric(predict_keys[\"Product.[Product]\"], downcast='integer')\n",
    "    predict_values = clf.predict(predict)\n",
    "    predict_df[\"DPSellOutUnitsFcst\"] = predict_values\n",
    "    #out_df = pd.concat([predict_keys, out_df_part], axis=1)\n",
    "    output1 = predict_df[['Time.[FiscalWeek]', 'Product.[Product]', 'Version.[Version Name]', 'SalesAccount.[Account]','Location.[Location]','DPSellOutUnitsFcst']]\n",
    "    logger.info(output1)\n",
    "   \n",
    "else:\n",
    "    output1 = None\n",
    "\n",
    "    "
   ]
  },
  {
   "cell_type": "code",
   "execution_count": 105,
   "id": "0858b338-c294-4077-9b77-1841e382d913",
   "metadata": {},
   "outputs": [],
   "source": [
    "output2 = liveinput\n",
    "logger.debug(f'liveinput dataframe:  {liveinput.head()}')"
   ]
  },
  {
   "cell_type": "code",
   "execution_count": 106,
   "id": "e72422ec-dda7-404a-b853-ef7478bcdc32",
   "metadata": {},
   "outputs": [],
   "source": [
    "#pushing outputs to Live Server(make sure all dimensions,measures present in LiveServer)\n",
    "O9DataLake.put('output1', output1)\n",
    "#O9DataLake.put('output2', output2)"
   ]
  },
  {
   "cell_type": "code",
   "execution_count": null,
   "id": "11f1ebbf-00f5-4cfc-b21d-b421608cef3a",
   "metadata": {},
   "outputs": [],
   "source": []
  }
 ],
 "metadata": {
  "id": "62403cab-bb85-4209-84f6-c45ff833eea9",
  "kernelspec": {
   "display_name": "[pyplatformhivetest] Tenant Conda Environment",
   "language": "python",
   "name": "genieaz_pyplatformhivetest"
  },
  "language_info": {
   "codemirror_mode": {
    "name": "ipython",
    "version": 3
   },
   "file_extension": ".py",
   "mimetype": "text/x-python",
   "name": "python",
   "nbconvert_exporter": "python",
   "pygments_lexer": "ipython3",
   "version": "3.7.10"
  }
 },
 "nbformat": 4,
 "nbformat_minor": 5
}
