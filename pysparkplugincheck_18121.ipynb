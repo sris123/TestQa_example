{
 "cells": [
  {
   "cell_type": "code",
   "execution_count": 15,
   "id": "5b3d6fad-1ac4-48f4-b9f7-8d446d81e5d2",
   "metadata": {},
   "outputs": [
    {
     "data": {
      "application/vnd.jupyter.widget-view+json": {
       "model_id": "",
       "version_major": 2,
       "version_minor": 0
      },
      "text/plain": [
       "FloatProgress(value=0.0, bar_style='info', description='Progress:', layout=Layout(height='25px', width='50%'),…"
      ]
     },
     "metadata": {},
     "output_type": "display_data"
    }
   ],
   "source": [
    "_predict_df = \"select (Version.[Version Name]*Product.[Product].[196426]*Time.FiscalWeek*SalesAccount.[Account]*Location.[Location]*{Measure.[DPSellOutUnitsActuals],Measure.[Mean Pricing Save PCT],Measure.[Placement Count],Measure.[Promotion Count],Measure.[DPSellOutPrice]});\"\n",
    "_input_df = \"select (Version.[Version Name]*Product.[Product].[208821]*Time.FiscalWeek*SalesAccount.[Account]*Location.[Location]*{Measure.[DPSellOutUnitsActuals],Measure.[Mean Pricing Save PCT],Measure.[Placement Count],Measure.[Promotion Count],Measure.[DPSellOutPrice]});\"\n",
    "\n",
    "from o9_common_utils.O9DataLake import O9DataLake, ResourceType, DataSource,PluginSetting\n",
    "\n",
    "# register inputs\n",
    "predict_df = O9DataLake.register(\"predict_df\",data_source = DataSource.LS, entity_type = ResourceType.IBPL, query = _predict_df,plugin_setting = PluginSetting.Inputs)\n",
    "input_df = O9DataLake.register(\"input_df\",data_source = DataSource.LS, entity_type = ResourceType.IBPL, query = _input_df,plugin_setting = PluginSetting.Inputs)\n",
    "liveinput = O9DataLake.register(\"WeeklySales\",data_source = DataSource.LIVEFRAME,entity_type = ResourceType.LIVEFRAME,plugin_setting = PluginSetting.Inputs)\n",
    "\n",
    "# register slice dimension\n",
    "O9DataLake.register(\"Product.[Product]\", data_source = DataSource.LS, entity_type = ResourceType.IBPL, plugin_setting = PluginSetting.SliceDimension)\n",
    "\n",
    "# register outputs\n",
    "O9DataLake.register(\"output1\",data_source = DataSource.LS,entity_type = ResourceType.IBPL, plugin_setting = PluginSetting.Outputs)\n",
    "O9DataLake.register(\"output2\",data_source = DataSource.LS,entity_type = ResourceType.IBPL, plugin_setting = PluginSetting.Outputs)\n",
    "\n",
    "# register script params\n",
    "script_params = O9DataLake.register({\"var1\":\"10\",\"var2\":\"Test1\"}, data_source = DataSource.LS, plugin_setting = PluginSetting.ScriptParam)"
   ]
  },
  {
   "cell_type": "code",
   "execution_count": 16,
   "id": "965c6454-0449-4c78-929f-1d10957a107b",
   "metadata": {},
   "outputs": [
    {
     "data": {
      "application/vnd.jupyter.widget-view+json": {
       "model_id": "",
       "version_major": 2,
       "version_minor": 0
      },
      "text/plain": [
       "FloatProgress(value=0.0, bar_style='info', description='Progress:', layout=Layout(height='25px', width='50%'),…"
      ]
     },
     "metadata": {},
     "output_type": "display_data"
    },
    {
     "name": "stdout",
     "output_type": "stream",
     "text": [
      "{'predict_df': {'name': 'predict_df', 'resource_type': <ResourceType.IBPL: 'ibpl_query'>, 'data_source': <DataSource.LS: 'liveserver'>, 'query': 'select (Version.[Version Name]*Product.[Product].[196426]*Time.FiscalWeek*SalesAccount.[Account]*Location.[Location]*{Measure.[DPSellOutUnitsActuals],Measure.[Mean Pricing Save PCT],Measure.[Placement Count],Measure.[Promotion Count],Measure.[DPSellOutPrice]});', 'std_count_limit': '200000', 'df':    Version.[Version Name]  Product.[Product]  ... Promotion Count DPSellOutPrice\n",
      "0                      S1             196426  ...             NaN            6.0\n",
      "1      CurrentWorkingView             196426  ...             NaN            6.0\n",
      "2                      S1             196426  ...             NaN            9.5\n",
      "3      CurrentWorkingView             196426  ...             NaN            9.5\n",
      "4                      S1             196426  ...             NaN            6.0\n",
      "5      CurrentWorkingView             196426  ...             NaN            6.0\n",
      "6                      S1             196426  ...             NaN           13.0\n",
      "7      CurrentWorkingView             196426  ...             NaN           13.0\n",
      "8                      S1             196426  ...             NaN           13.0\n",
      "9      CurrentWorkingView             196426  ...             NaN           13.0\n",
      "10                     S1             196426  ...             NaN           13.0\n",
      "11     CurrentWorkingView             196426  ...             NaN           13.0\n",
      "12                     S1             196426  ...             NaN           13.0\n",
      "13     CurrentWorkingView             196426  ...             NaN           13.0\n",
      "\n",
      "[14 rows x 10 columns]}, 'input_df': {'name': 'input_df', 'resource_type': <ResourceType.IBPL: 'ibpl_query'>, 'data_source': <DataSource.LS: 'liveserver'>, 'query': 'select (Version.[Version Name]*Product.[Product].[208821]*Time.FiscalWeek*SalesAccount.[Account]*Location.[Location]*{Measure.[DPSellOutUnitsActuals],Measure.[Mean Pricing Save PCT],Measure.[Placement Count],Measure.[Promotion Count],Measure.[DPSellOutPrice]});', 'std_count_limit': '200000', 'df':     Version.[Version Name]  Product.[Product]  ... Promotion Count DPSellOutPrice\n",
      "0                       S1             208821  ...             NaN            NaN\n",
      "1       CurrentWorkingView             208821  ...             NaN            NaN\n",
      "2                       S1             208821  ...             NaN            NaN\n",
      "3       CurrentWorkingView             208821  ...             NaN            NaN\n",
      "4                       S1             208821  ...             NaN            NaN\n",
      "..                     ...                ...  ...             ...            ...\n",
      "315     CurrentWorkingView             208821  ...             NaN            NaN\n",
      "316                     S1             208821  ...             NaN            NaN\n",
      "317     CurrentWorkingView             208821  ...             NaN            NaN\n",
      "318                     S1             208821  ...             NaN            NaN\n",
      "319     CurrentWorkingView             208821  ...             NaN            NaN\n",
      "\n",
      "[320 rows x 10 columns]}, 'WeeklySales': {'name': 'WeeklySales', 'resource_type': <ResourceType.LIVEFRAME: 'liveframe'>, 'data_source': <DataSource.LIVEFRAME: 'liveframe'>, 'query': 'SELECT ([WalmartTime].[Day].filter(#.[Day$InActive] in { false }) * {Measure.[CPI] , Measure.[Fuel Price] , Measure.[MarkDown1] , Measure.[MarkDown2] , Measure.[MarkDown3] , Measure.[MarkDown4] , Measure.[MarkDown5] , Measure.[Temperature] , Measure.[Unemployment] , Measure.[Weekly Sales]} * [Store].[Store_ID].filter(#.[Store_ID$InActive] in { false }) * [Department].[Department_ID].filter(#.[Department_ID$InActive] in { false }) * [Version].[Version Name].filter(#.Name in { \"CurrentWorkingView\" }).relatedmembers([Version Name]).filter(#.[Version Name$InActive] in { false })) on row, () on column include lcid 1033, cellproperties {LOCK, BG_COLOR, FG_COLOR} ORDERBY [WalmartTime].[Day].[Key] ASC ;', 'LiveFrameReportId': 'e057ab8b-08de-4848-a77d-eff1a272ca2b', 'std_count_limit': '200000', 'df':        WalmartTime.[Day]  Store.[Store_ID]  ...  Unemployment Weekly Sales\n",
      "0             02-05-2010                 1  ...         8.106     24924.50\n",
      "1             02-05-2010                 1  ...         8.106     50605.27\n",
      "2             02-05-2010                 1  ...         8.106     13740.12\n",
      "3             02-05-2010                 1  ...         8.106     39954.04\n",
      "4             02-05-2010                 1  ...         8.106     32229.38\n",
      "...                  ...               ...  ...           ...          ...\n",
      "199995        05-27-2011                15  ...         7.806      8103.15\n",
      "199996        05-27-2011                15  ...         7.806     22966.48\n",
      "199997        05-27-2011                15  ...         7.806      4451.62\n",
      "199998        05-27-2011                15  ...         7.806     11478.37\n",
      "199999        05-27-2011                15  ...         7.806      4896.41\n",
      "\n",
      "[200000 rows x 14 columns]}}"
     ]
    }
   ],
   "source": [
    "O9DataLake.inputs"
   ]
  },
  {
   "cell_type": "code",
   "execution_count": 17,
   "id": "2aaa8313-8c00-4d71-946b-c23fdd901511",
   "metadata": {},
   "outputs": [
    {
     "data": {
      "application/vnd.jupyter.widget-view+json": {
       "model_id": "",
       "version_major": 2,
       "version_minor": 0
      },
      "text/plain": [
       "FloatProgress(value=0.0, bar_style='info', description='Progress:', layout=Layout(height='25px', width='50%'),…"
      ]
     },
     "metadata": {},
     "output_type": "display_data"
    }
   ],
   "source": [
    "# fetching inputs\n",
    "predict_df = O9DataLake.get('predict_df')\n",
    "input_df = O9DataLake.get('input_df')\n",
    "liveinput = O9DataLake.get('WeeklySales')\n",
    "\n",
    "# fetching script params\n",
    "value1 = O9DataLake.get_script_param(\"var1\")\n",
    "value2 = O9DataLake.get_script_param(\"var2\")"
   ]
  },
  {
   "cell_type": "code",
   "execution_count": 18,
   "id": "cf8baa43-17af-4bb4-a20f-2489623e1ce1",
   "metadata": {},
   "outputs": [
    {
     "data": {
      "application/vnd.jupyter.widget-view+json": {
       "model_id": "",
       "version_major": 2,
       "version_minor": 0
      },
      "text/plain": [
       "FloatProgress(value=0.0, bar_style='info', description='Progress:', layout=Layout(height='25px', width='50%'),…"
      ]
     },
     "metadata": {},
     "output_type": "display_data"
    },
    {
     "name": "stdout",
     "output_type": "stream",
     "text": [
      "2023-12-18 07:09:21,079 - o9_logger - DEBUG - predict_df dataframe:  (14, 10)\n",
      "2023-12-18 07:09:21,079 - o9_logger - DEBUG - input_df dataframe:  (320, 10)\n",
      "2023-12-18 07:09:21,079 - o9_logger - DEBUG - liveinput dataframe:  (200000, 14)\n",
      "2023-12-18 07:09:21,079 - o9_logger - DEBUG - script param var1 value: 10\n",
      "2023-12-18 07:09:21,079 - o9_logger - DEBUG - script param var2 value: Test1\n",
      "2023-12-18 07:09:21,085 - o9_logger - INFO -    Time.[FiscalWeek]  Product.[Product]  ... Location.[Location] DPSellOutUnitsFcst\n",
      "0           W03-2016             196426  ...                 ALL                0.0\n",
      "1           W03-2016             196426  ...                 ALL                0.0\n",
      "2           W05-2016             196426  ...                 ALL                0.0\n",
      "3           W05-2016             196426  ...                 ALL                0.0\n",
      "4           W08-2016             196426  ...                 ALL                0.0\n",
      "5           W08-2016             196426  ...                 ALL                0.0\n",
      "6           W13-2016             196426  ...                 ALL             1160.0\n",
      "7           W13-2016             196426  ...                 ALL             1160.0\n",
      "8           W48-2016             196426  ...                 ALL             1160.0\n",
      "9           W48-2016             196426  ...                 ALL             1160.0\n",
      "10          W42-2017             196426  ...                 ALL             1160.0\n",
      "11          W42-2017             196426  ...                 ALL             1160.0\n",
      "12          W44-2017             196426  ...                 ALL             1160.0\n",
      "13          W44-2017             196426  ...                 ALL             1160.0\n",
      "\n",
      "[14 rows x 6 columns]"
     ]
    }
   ],
   "source": [
    "#user script\n",
    "\n",
    "# package imports\n",
    "import logging\n",
    "from sklearn import tree\n",
    "\n",
    "# initialize output variables\n",
    "output1 = None\n",
    "output2 = None\n",
    "\n",
    "# initialize logger\n",
    "logger = logging.getLogger('o9_logger')\n",
    "\n",
    "logger.debug(f'predict_df dataframe:  {predict_df.shape}')\n",
    "logger.debug(f'input_df dataframe:  {input_df.shape}')\n",
    "logger.debug(f'liveinput dataframe:  {liveinput.shape}')\n",
    "logger.debug(f'script param var1 value: {value1}')\n",
    "logger.debug(f'script param var2 value: {value2}')\n",
    "\n",
    "if predict_df is not None and len(predict_df.index) > 0:\n",
    "    x = input_df[['Mean Pricing Save PCT', 'Placement Count', 'Promotion Count', 'DPSellOutPrice']]\n",
    "    y = input_df[['DPSellOutUnitsActuals']]\n",
    "    x = x.fillna(0).values\n",
    "    y = y.fillna(0).values\n",
    "\n",
    "    clf = tree.DecisionTreeRegressor()\n",
    "    clf = clf.fit(x, y)\n",
    "\n",
    "    predict = predict_df[['Mean Pricing Save PCT', 'Placement Count', 'Promotion Count', 'DPSellOutPrice']].fillna(0).values\n",
    "    # predict_keys = predict_df[['Time.[FiscalWeek]', 'Product.[Product]', 'Version.[Version Name]', 'SalesAccount.[Account]','Location.[Location]']]\n",
    "    # predict_keys[\"Product.[Product]\"] = pd.to_numeric(predict_keys[\"Product.[Product]\"], downcast='integer')\n",
    "    predict_values = clf.predict(predict)\n",
    "    predict_df[\"DPSellOutUnitsFcst\"] = predict_values\n",
    "    #out_df = pd.concat([predict_keys, out_df_part], axis=1)\n",
    "    output1 = predict_df[['Time.[FiscalWeek]', 'Product.[Product]', 'Version.[Version Name]', 'SalesAccount.[Account]','Location.[Location]','DPSellOutUnitsFcst']]\n",
    "    logger.info(output1)\n",
    "   \n",
    "else:\n",
    "    output1 = None\n",
    "\n",
    "    "
   ]
  },
  {
   "cell_type": "code",
   "execution_count": 19,
   "id": "0858b338-c294-4077-9b77-1841e382d913",
   "metadata": {},
   "outputs": [
    {
     "data": {
      "application/vnd.jupyter.widget-view+json": {
       "model_id": "",
       "version_major": 2,
       "version_minor": 0
      },
      "text/plain": [
       "FloatProgress(value=0.0, bar_style='info', description='Progress:', layout=Layout(height='25px', width='50%'),…"
      ]
     },
     "metadata": {},
     "output_type": "display_data"
    },
    {
     "name": "stdout",
     "output_type": "stream",
     "text": [
      "2023-12-18 07:09:42,735 - o9_logger - DEBUG - liveinput dataframe:    WalmartTime.[Day]  Store.[Store_ID]  ...  Unemployment Weekly Sales\n",
      "0        02-05-2010                 1  ...         8.106     24924.50\n",
      "1        02-05-2010                 1  ...         8.106     50605.27\n",
      "2        02-05-2010                 1  ...         8.106     13740.12\n",
      "3        02-05-2010                 1  ...         8.106     39954.04\n",
      "4        02-05-2010                 1  ...         8.106     32229.38\n",
      "\n",
      "[5 rows x 14 columns]"
     ]
    }
   ],
   "source": [
    "output2 = liveinput\n",
    "logger.debug(f'liveinput dataframe:  {liveinput.head()}')"
   ]
  },
  {
   "cell_type": "code",
   "execution_count": 20,
   "id": "e72422ec-dda7-404a-b853-ef7478bcdc32",
   "metadata": {},
   "outputs": [
    {
     "data": {
      "application/vnd.jupyter.widget-view+json": {
       "model_id": "",
       "version_major": 2,
       "version_minor": 0
      },
      "text/plain": [
       "FloatProgress(value=0.0, bar_style='info', description='Progress:', layout=Layout(height='25px', width='50%'),…"
      ]
     },
     "metadata": {},
     "output_type": "display_data"
    }
   ],
   "source": [
    "#pushing outputs to Live Server(make sure all dimensions,measures present in LiveServer)\n",
    "O9DataLake.put('output1', output1)\n",
    "#O9DataLake.put('output2', output2)"
   ]
  },
  {
   "cell_type": "code",
   "execution_count": null,
   "id": "11f1ebbf-00f5-4cfc-b21d-b421608cef3a",
   "metadata": {},
   "outputs": [],
   "source": []
  }
 ],
 "metadata": {
  "id": "62403cab-bb85-4209-84f6-c45ff833eea9",
  "kernelspec": {
   "display_name": "[pyplatformhivetest] Tenant Conda Environment",
   "language": "python",
   "name": "genieaz_pyplatformhivetest"
  },
  "language_info": {
   "codemirror_mode": {
    "name": "ipython",
    "version": 3
   },
   "file_extension": ".py",
   "mimetype": "text/x-python",
   "name": "python",
   "nbconvert_exporter": "python",
   "pygments_lexer": "ipython3",
   "version": "3.7.10"
  }
 },
 "nbformat": 4,
 "nbformat_minor": 5
}
