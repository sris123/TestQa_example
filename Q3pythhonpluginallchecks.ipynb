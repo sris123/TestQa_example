{
 "cells": [
  {
   "cell_type": "code",
   "execution_count": 2,
   "id": "45c663de-3ef7-447c-a10d-462e36a36d90",
   "metadata": {},
   "outputs": [],
   "source": [
    "_predict_df = \"select (Version.[Version Name]*Product.[Product].[208821]*Time.FiscalWeek*SalesAccount.[Account]*Location.[Location]*{Measure.[DPSellOutUnitsActuals],Measure.[Mean Pricing Save PCT],Measure.[Placement Count],Measure.[Promotion Count],Measure.[DPSellOutPrice]});\"\n",
    "\n",
    "from o9_common_utils.O9DataLake import O9DataLake, ResourceType, DataSource,PluginSetting\n",
    "\n",
    "# register inputs\n",
    "predict_df = O9DataLake.register(\"predict_df\",data_source = DataSource.LS, entity_type = ResourceType.IBPL, query = _predict_df,plugin_setting = PluginSetting.Inputs)\n",
    "systemreport = O9DataLake.register(\"srishtireport\",data_source = DataSource.LIVEFRAME,entity_type = ResourceType.LIVEFRAME,plugin_setting = PluginSetting.Inputs)\n",
    "liveinput = O9DataLake.register(\"WeeklySales\",data_source = DataSource.LIVEFRAME,entity_type = ResourceType.LIVEFRAME,plugin_setting = PluginSetting.Inputs)\n",
    "\n",
    "# register slice dimension\n",
    "O9DataLake.register(\"Product.[Product]\", data_source = DataSource.LS, entity_type = ResourceType.IBPL, plugin_setting = PluginSetting.SliceDimension)\n",
    "\n",
    "# register outputs\n",
    "O9DataLake.register(\"output1\",data_source = DataSource.LS,entity_type = ResourceType.IBPL, plugin_setting = PluginSetting.Outputs)\n",
    "O9DataLake.register(\"output2\",data_source = DataSource.LS,entity_type = ResourceType.IBPL, plugin_setting = PluginSetting.Outputs)\n",
    "\n",
    "# register script params\n",
    "script_params = O9DataLake.register({\"var1\":\"50\",\"var2\":\"Test1\",\"var3\":\"newparam\",\"var4\":\"80\"}, data_source = DataSource.LS, plugin_setting = PluginSetting.ScriptParam)"
   ]
  },
  {
   "cell_type": "code",
   "execution_count": 3,
   "id": "52d37535-b8f3-4f84-a6cc-e3493e41260e",
   "metadata": {},
   "outputs": [],
   "source": [
    "O9DataLake.register(\"Version.[Version Name]\", data_source = DataSource.LS, entity_type = ResourceType.IBPL, plugin_setting = PluginSetting.SliceDimension)"
   ]
  },
  {
   "cell_type": "code",
   "execution_count": 5,
   "id": "308396e5-861a-48a8-a9cc-54ec0b8a8e14",
   "metadata": {},
   "outputs": [
    {
     "data": {
      "text/plain": [
       "{'predict_df': {'name': 'predict_df',\n",
       "  'resource_type': <ResourceType.IBPL: 'ibpl_query'>,\n",
       "  'data_source': <DataSource.LS: 'liveserver'>,\n",
       "  'query': 'select (Version.[Version Name]*Product.[Product].[208821]*Time.FiscalWeek*SalesAccount.[Account]*Location.[Location]*{Measure.[DPSellOutUnitsActuals],Measure.[Mean Pricing Save PCT],Measure.[Placement Count],Measure.[Promotion Count],Measure.[DPSellOutPrice]});',\n",
       "  'std_count_limit': '200000',\n",
       "  'df':     Version.[Version Name]  Product.[Product] Time.[FiscalWeek]  \\\n",
       "  0                       S1             208821          W49-2015   \n",
       "  1       CurrentWorkingView             208821          W49-2015   \n",
       "  2                       S1             208821          W50-2015   \n",
       "  3       CurrentWorkingView             208821          W50-2015   \n",
       "  4                       S1             208821          W51-2015   \n",
       "  ..                     ...                ...               ...   \n",
       "  315     CurrentWorkingView             208821          W50-2018   \n",
       "  316                     S1             208821          W51-2018   \n",
       "  317     CurrentWorkingView             208821          W51-2018   \n",
       "  318                     S1             208821          W52-2018   \n",
       "  319     CurrentWorkingView             208821          W52-2018   \n",
       "  \n",
       "      SalesAccount.[Account] Location.[Location]  DPSellOutUnitsActuals  \\\n",
       "  0                      ALL                 ALL                    NaN   \n",
       "  1                      ALL                 ALL                    NaN   \n",
       "  2                      ALL                 ALL                    NaN   \n",
       "  3                      ALL                 ALL                    NaN   \n",
       "  4                      ALL                 ALL                    NaN   \n",
       "  ..                     ...                 ...                    ...   \n",
       "  315                    ALL                 ALL                    NaN   \n",
       "  316                    ALL                 ALL                    NaN   \n",
       "  317                    ALL                 ALL                    NaN   \n",
       "  318                    ALL                 ALL                    NaN   \n",
       "  319                    ALL                 ALL                    NaN   \n",
       "  \n",
       "       Mean Pricing Save PCT  Placement Count  Promotion Count  DPSellOutPrice  \n",
       "  0                      NaN                2              NaN             NaN  \n",
       "  1                      NaN                2              NaN             NaN  \n",
       "  2                      NaN                2              NaN             NaN  \n",
       "  3                      NaN                2              NaN             NaN  \n",
       "  4                      NaN                2              NaN             NaN  \n",
       "  ..                     ...              ...              ...             ...  \n",
       "  315                    NaN                1              NaN             NaN  \n",
       "  316                    NaN                1              NaN             NaN  \n",
       "  317                    NaN                1              NaN             NaN  \n",
       "  318                    NaN                1              NaN             NaN  \n",
       "  319                    NaN                1              NaN             NaN  \n",
       "  \n",
       "  [320 rows x 10 columns]},\n",
       " 'srishtireport': {'name': 'srishtireport',\n",
       "  'resource_type': <ResourceType.LIVEFRAME: 'liveframe'>,\n",
       "  'data_source': <DataSource.LIVEFRAME: 'liveframe'>,\n",
       "  'query': 'SELECT ([Store].[Store_ID].filter(#.[Store_ID$InActive] in { false }) * [Time].[Day].filter(#.[Day$InActive] in { false }) * [Version].[Version Name].filter(#.[Version Name$InActive] in { false }) * {Measure.[DSML newdim]}) on row, () on column include lcid 1033, cellproperties {LOCK, BG_COLOR, FG_COLOR} ORDERBY [Time].[Day].[Key] ASC ;',\n",
       "  'SystemReportId': 6711630,\n",
       "  'std_count_limit': '200000',\n",
       "  'df': Empty DataFrame\n",
       "  Columns: [Store.[Store_ID], Time.[Day], Version.[Version Name], DSML newdim]\n",
       "  Index: []},\n",
       " 'WeeklySales': {'name': 'WeeklySales',\n",
       "  'resource_type': <ResourceType.LIVEFRAME: 'liveframe'>,\n",
       "  'data_source': <DataSource.LIVEFRAME: 'liveframe'>,\n",
       "  'query': 'SELECT ([WalmartTime].[Day].filter(#.[Day$InActive] in { false }) * {Measure.[CPI] , Measure.[Fuel Price] , Measure.[MarkDown1] , Measure.[MarkDown2] , Measure.[MarkDown3] , Measure.[MarkDown4] , Measure.[MarkDown5] , Measure.[Temperature] , Measure.[Unemployment] , Measure.[Weekly Sales]} * [Store].[Store_ID].filter(#.[Store_ID$InActive] in { false }) * [Department].[Department_ID].filter(#.[Department_ID$InActive] in { false }) * [Version].[Version Name].filter(#.Name in { \"CurrentWorkingView\" }).relatedmembers([Version Name]).filter(#.[Version Name$InActive] in { false })) on row, () on column include lcid 1033, cellproperties {LOCK, BG_COLOR, FG_COLOR} ORDERBY [WalmartTime].[Day].[Key] ASC ;',\n",
       "  'LiveFrameReportId': 'e057ab8b-08de-4848-a77d-eff1a272ca2b',\n",
       "  'std_count_limit': '200000',\n",
       "  'df':        WalmartTime.[Day]  Store.[Store_ID]  Department.[Department_ID]  \\\n",
       "  0             02-05-2010                 1                           1   \n",
       "  1             02-05-2010                 1                           2   \n",
       "  2             02-05-2010                 1                           3   \n",
       "  3             02-05-2010                 1                           4   \n",
       "  4             02-05-2010                 1                           5   \n",
       "  ...                  ...               ...                         ...   \n",
       "  421565        10-26-2012                 9                          91   \n",
       "  421566        10-26-2012                 9                          92   \n",
       "  421567        10-26-2012                 9                          94   \n",
       "  421568        10-26-2012                 9                          95   \n",
       "  421569        10-26-2012                 9                          96   \n",
       "  \n",
       "         Version.[Version Name]         CPI  Fuel Price  MarkDown1  MarkDown2  \\\n",
       "  0          CurrentWorkingView  211.096358       2.572        NaN        NaN   \n",
       "  1          CurrentWorkingView  211.096358       2.572        NaN        NaN   \n",
       "  2          CurrentWorkingView  211.096358       2.572        NaN        NaN   \n",
       "  3          CurrentWorkingView  211.096358       2.572        NaN        NaN   \n",
       "  4          CurrentWorkingView  211.096358       2.572        NaN        NaN   \n",
       "  ...                       ...         ...         ...        ...        ...   \n",
       "  421565     CurrentWorkingView  222.656120       3.158    3075.89        NaN   \n",
       "  421566     CurrentWorkingView  222.656120       3.158    3075.89        NaN   \n",
       "  421567     CurrentWorkingView  222.656120       3.158    3075.89        NaN   \n",
       "  421568     CurrentWorkingView  222.656120       3.158    3075.89        NaN   \n",
       "  421569     CurrentWorkingView  222.656120       3.158    3075.89        NaN   \n",
       "  \n",
       "          MarkDown3  MarkDown4  MarkDown5  Temperature  Unemployment  \\\n",
       "  0             NaN        NaN        NaN        42.31         8.106   \n",
       "  1             NaN        NaN        NaN        42.31         8.106   \n",
       "  2             NaN        NaN        NaN        42.31         8.106   \n",
       "  3             NaN        NaN        NaN        42.31         8.106   \n",
       "  4             NaN        NaN        NaN        42.31         8.106   \n",
       "  ...           ...        ...        ...          ...           ...   \n",
       "  421565      248.8     822.69     7585.2        37.65         6.054   \n",
       "  421566      248.8     822.69     7585.2        37.65         6.054   \n",
       "  421567      248.8     822.69     7585.2        37.65         6.054   \n",
       "  421568      248.8     822.69     7585.2        37.65         6.054   \n",
       "  421569      248.8     822.69     7585.2        37.65         6.054   \n",
       "  \n",
       "          Weekly Sales  \n",
       "  0           24924.50  \n",
       "  1           50605.27  \n",
       "  2           13740.12  \n",
       "  3           39954.04  \n",
       "  4           32229.38  \n",
       "  ...              ...  \n",
       "  421565        914.84  \n",
       "  421566      18310.28  \n",
       "  421567        233.02  \n",
       "  421568      32382.05  \n",
       "  421569       4752.25  \n",
       "  \n",
       "  [421570 rows x 14 columns]}}"
      ]
     },
     "execution_count": 5,
     "metadata": {},
     "output_type": "execute_result"
    }
   ],
   "source": [
    "O9DataLake.inputs"
   ]
  },
  {
   "cell_type": "code",
   "execution_count": 5,
   "id": "5d5652a4-49fe-41c2-a881-b3a8b7a8b027",
   "metadata": {},
   "outputs": [],
   "source": [
    "# fetching inputs\n",
    "predict_df = O9DataLake.get('predict_df')\n",
    "systemreport = O9DataLake.get('srishtireport')\n",
    "liveinput = O9DataLake.get('WeeklySales')\n",
    "# fetching script params\n",
    "value1 = O9DataLake.get_script_param(\"var1\")\n",
    "value2 = O9DataLake.get_script_param(\"var2\")"
   ]
  },
  {
   "cell_type": "code",
   "execution_count": 6,
   "id": "0c1fa458-6568-4ec8-94b0-3bc31591a369",
   "metadata": {},
   "outputs": [
    {
     "name": "stdout",
     "output_type": "stream",
     "text": [
      "2024-07-30 11:41:22,775 - o9_logger - DEBUG  - predict_df dataframe:  (320, 10)\n",
      "2024-07-30 11:41:22,777 - o9_logger - DEBUG  - systemreport dataframe:  (0, 4)\n",
      "2024-07-30 11:41:22,778 - o9_logger - DEBUG  - liveinput dataframe:  (421570, 14)\n",
      "2024-07-30 11:41:22,779 - o9_logger - DEBUG  - script param var1 value: 50\n",
      "2024-07-30 11:41:22,781 - o9_logger - DEBUG  - script param var2 value: Test1\n"
     ]
    }
   ],
   "source": [
    "#user script\n",
    "\n",
    "# package imports\n",
    "import logging\n",
    "from sklearn import tree\n",
    "\n",
    "# initialize output variables\n",
    "output1 = None\n",
    "output2 = None\n",
    "\n",
    "\n",
    "# initialize logger\n",
    "logger = logging.getLogger('o9_logger')\n",
    "\n",
    "logger.debug(f'predict_df dataframe:  {predict_df.shape}')\n",
    "logger.debug(f'systemreport dataframe:  {systemreport.shape}')\n",
    "logger.debug(f'liveinput dataframe:  {liveinput.shape}')\n",
    "logger.debug(f'script param var1 value: {value1}')\n",
    "logger.debug(f'script param var2 value: {value2}')"
   ]
  },
  {
   "cell_type": "code",
   "execution_count": 8,
   "id": "1b8d0e5e-1a2a-4719-8b07-f3c288b536f2",
   "metadata": {},
   "outputs": [
    {
     "name": "stdout",
     "output_type": "stream",
     "text": [
      "2024-07-30 11:29:43,844 - o9_logger - DEBUG  - systemreport dataframe:  Empty DataFrame\n",
      "Columns: [Store.[Store_ID], Time.[Day], Version.[Version Name], DSML newdim]\n",
      "Index: []\n"
     ]
    }
   ],
   "source": [
    "output1 = systemreport\n",
    "logger.debug(f'systemreport dataframe:  {systemreport.head()}')"
   ]
  },
  {
   "cell_type": "code",
   "execution_count": 9,
   "id": "ebdb0892-2b0b-4be1-9555-b17f840685bc",
   "metadata": {},
   "outputs": [
    {
     "name": "stdout",
     "output_type": "stream",
     "text": [
      "2024-07-30 11:29:43,868 - o9_logger - DEBUG  - systemreport dataframe:    WalmartTime.[Day]  Store.[Store_ID]  Department.[Department_ID]  \\\n",
      "0        02-05-2010                 1                           1   \n",
      "1        02-05-2010                 1                           2   \n",
      "2        02-05-2010                 1                           3   \n",
      "3        02-05-2010                 1                           4   \n",
      "4        02-05-2010                 1                           5   \n",
      "\n",
      "  Version.[Version Name]         CPI  Fuel Price  MarkDown1  MarkDown2  \\\n",
      "0     CurrentWorkingView  211.096358       2.572        NaN        NaN   \n",
      "1     CurrentWorkingView  211.096358       2.572        NaN        NaN   \n",
      "2     CurrentWorkingView  211.096358       2.572        NaN        NaN   \n",
      "3     CurrentWorkingView  211.096358       2.572        NaN        NaN   \n",
      "4     CurrentWorkingView  211.096358       2.572        NaN        NaN   \n",
      "\n",
      "   MarkDown3  MarkDown4  MarkDown5  Temperature  Unemployment  Weekly Sales  \n",
      "0        NaN        NaN        NaN        42.31         8.106      24924.50  \n",
      "1        NaN        NaN        NaN        42.31         8.106      50605.27  \n",
      "2        NaN        NaN        NaN        42.31         8.106      13740.12  \n",
      "3        NaN        NaN        NaN        42.31         8.106      39954.04  \n",
      "4        NaN        NaN        NaN        42.31         8.106      32229.38  \n"
     ]
    }
   ],
   "source": [
    "output2 = liveinput\n",
    "logger.debug(f'systemreport dataframe:  {liveinput.head()}')"
   ]
  }
 ],
 "metadata": {
  "kernelspec": {
   "display_name": "[pyplatformhivetest] Tenant Conda Environment",
   "language": "python",
   "name": "genieaz_pyplatformhivetest"
  },
  "language_info": {
   "codemirror_mode": {
    "name": "ipython",
    "version": 3
   },
   "file_extension": ".py",
   "mimetype": "text/x-python",
   "name": "python",
   "nbconvert_exporter": "python",
   "pygments_lexer": "ipython3",
   "version": "3.7.10"
  }
 },
 "nbformat": 4,
 "nbformat_minor": 5
}
