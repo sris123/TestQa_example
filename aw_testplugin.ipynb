{
 "cells": [
  {
   "cell_type": "code",
   "execution_count": 1,
   "id": "11b0ead6-38b6-4412-b888-ae0ddb7398a8",
   "metadata": {},
   "outputs": [],
   "source": [
    "from o9_common_utils.O9DataLake import O9DataLake, ResourceType, DataSource\n",
    "query1 = \"select (Version.[Version Name]);\"\n",
    "query2 = \"select (Version.[Version Name]);\"\n",
    "O9DataLake.register(\"sales_df\",DataSource.LS, ResourceType.IBPL, query1) \n",
    "O9DataLake.register(\"DPBaseInputs\",DataSource.LS, ResourceType.IBPL, query2)"
   ]
  },
  {
   "cell_type": "code",
   "execution_count": 4,
   "id": "5abbe1c3-a6d1-422a-8da2-bb95957b5b7c",
   "metadata": {},
   "outputs": [
    {
     "name": "stdout",
     "output_type": "stream",
     "text": [
      "2022-09-22 12:17:06,106 : srishtisingh_5502 :IbplClient: WebApi Request Url = [https://mygenieazure.o9solutions.com/api/ibplquery/5502/ExecuteCompactJsonQuery]\n",
      "2022-09-22 12:17:06,307 : srishtisingh_5502 :IbplClient: WebApi Request Url = [https://mygenieazure.o9solutions.com/api/ibplquery/5502/ExecuteCompactJsonQuery]\n",
      "2022-09-22 12:17:06,480 : srishtisingh_5502 :Records count in sales dataframe : (2, 1)\n",
      "2022-09-22 12:17:06,482 : srishtisingh_5502 :Records count in DPBaseInputs dataframe : (2, 1)\n",
      "2022-09-22 12:17:06,483 : srishtisingh_5502 :Hello warning\n",
      "2022-09-22 12:17:06,483 : srishtisingh_5502 :Hello error\n"
     ]
    }
   ],
   "source": [
    "#getting input from dataLake\n",
    "\n",
    "sales = O9DataLake.get('sales_df')\n",
    "dpbaseinputs = O9DataLake.get('DPBaseInputs')\n",
    "\n",
    "#User Script\n",
    "import logging\n",
    "out_df1 = None\n",
    "logger = logging.getLogger('o9_logger')\n",
    "logger.info(f'Records count in sales dataframe : {sales.shape}')\n",
    "logger.info(f'Records count in DPBaseInputs dataframe : {dpbaseinputs.shape}')\n",
    "logger.warning(\"Hello warning\")\n",
    "logger.error(\"Hello error\")\n",
    "\n",
    "#pushing output to the DataLake\n",
    "O9DataLake.put('out_df1',sales)"
   ]
  },
  {
   "cell_type": "code",
   "execution_count": 1,
   "id": "92c3005f-9239-45bd-8c9d-50eb1ffbf92d",
   "metadata": {},
   "outputs": [
    {
     "name": "stdout",
     "output_type": "stream",
     "text": [
      "2022-09-29 15:23:57,652 : srishtisingh_5502 :Hello error\n"
     ]
    }
   ],
   "source": [
    "logger.error(\"Hello error\")"
   ]
  },
  {
   "cell_type": "code",
   "execution_count": null,
   "id": "2a80d08d-30b2-4987-9399-29ed128ff61f",
   "metadata": {},
   "outputs": [],
   "source": []
  }
 ],
 "metadata": {
  "kernelspec": {
   "display_name": "[pyplatformhivetest] Tenant Conda Environment",
   "language": "python",
   "name": "genieaz_pyplatformhivetest"
  },
  "language_info": {
   "codemirror_mode": {
    "name": "ipython",
    "version": 3
   },
   "file_extension": ".py",
   "mimetype": "text/x-python",
   "name": "python",
   "nbconvert_exporter": "python",
   "pygments_lexer": "ipython3",
   "version": "3.7.10"
  }
 },
 "nbformat": 4,
 "nbformat_minor": 5
}
