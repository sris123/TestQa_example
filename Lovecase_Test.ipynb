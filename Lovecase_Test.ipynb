{
  "cells": [
    {
      "cell_type": "code",
      "id": "4a59f10f-f5ce-42c3-9e04-eb1199b1ea84",
      "source": [
        "# This cell is NOT editable. Overwrite variables on your own discretion.\n# Any changes other than the script code will NOT BE SAVED!\n# All cells are assumed to be script code cells, unless explictly tagged as 'o9_ignore'"
      ],
      "metadata": {
        "editable": false
      },
      "tags": [
        "o9_ignore"
      ]
    },
    {
      "cell_type": "code",
      "id": "7d84c0f7-329c-4f86-b14a-bddafc77d128",
      "source": [
        "_sales = \"select ([WalmartTime].[Day] * [Version].[Version Name].[CurrentWorkingView]  * [Department].[Department_ID] * [Store].[Store_ID] * {Measure.[Weekly Sales]}  );\"\n_stores = \"select([Store].[Store_ID] * [Store].[Type]  * [Store].[Size]);\"\n_features = \"select( [WalmartTime].[Day] * [Version].[Version Name].[CurrentWorkingView] * [Store].[Store_ID] * { Measure.[Temperature], Measure.[Fuel Price], Measure.[MarkDown1] , Measure.[MarkDown2], Measure.[MarkDown3], Measure.[MarkDown4] , Measure.[MarkDown5] , Measure.[CPI] , Measure.[Unemployment] } );\"\n\n\n# Initialize the O9DataLake with the input parameters and dataframes\n# Data can be accessed with O9DataLake.get(<Input Name>)\n# Overwritten values will not be reflected in the O9DataLake after initialization\n\nfrom o9_common_utils.O9DataLake import O9DataLake, ResourceType, DataSource,PluginSetting\nsales = O9DataLake.register(\"sales\",data_source = DataSource.LS, entity_type = ResourceType.IBPL, query = _sales,plugin_setting = PluginSetting.Inputs)\nstores = O9DataLake.register(\"stores\",data_source = DataSource.LS, entity_type = ResourceType.IBPL, query = _stores,plugin_setting = PluginSetting.Inputs)\nfeatures = O9DataLake.register(\"features\",data_source = DataSource.LS, entity_type = ResourceType.IBPL, query = _features,plugin_setting = PluginSetting.Inputs)\n\nO9DataLake.register(\"PredictedSales\",data_source = DataSource.LS,entity_type = ResourceType.IBPL,plugin_setting = PluginSetting.Outputs)\nscript_params = O9DataLake.register({}, data_source = DataSource.LS,plugin_setting = PluginSetting.ScriptParam)"
      ],
      "metadata": {
        "tags": [
          "o9_ignore"
        ]
      },
      "tags": [
        "o9_ignore"
      ]
    },
    {
      "cell_type": "code",
      "id": "81e9ea4e-1f40-4dd2-a53f-50d3fd43df35",
      "source": [
        "import os\nimport numpy as np\nimport pandas as pd\nimport logging \nfrom sklearn import preprocessing\nfrom sklearn.model_selection import train_test_split\n\nfrom sklearn.tree import DecisionTreeRegressor\nfrom sklearn.metrics import mean_absolute_error\n\nlogger = logging.getLogger('o9_logger')\nfasddsaf\nsales_df = sales[['WalmartTime.[Day]', 'Department.[Department_ID]','Store.[Store_ID]','Weekly Sales']]\n\nfeatures_df = features[['Store.[Store_ID]','WalmartTime.[Day]', 'Temperature','Fuel Price','MarkDown1','MarkDown2',\n          'MarkDown3', 'MarkDown4','MarkDown5', 'CPI', 'Unemployment']]\n\nstores_df = stores[['Store.[Store_ID]', 'Store.[Type]', 'Store.[Size]']]\n\ndataset = sales_df.merge(stores_df, how='left').merge(features_df, how='left')\n\ninput_df = dataset\nlogger.error(\"LOGGING INPUT DATAFRAME\")\nlogger.info(input_df.head())\n\ninput_df.fillna(0, inplace=True)\ninput_df = pd.get_dummies(input_df, columns=[\"Store.[Type]\"])\n#input_df.drop(\"Store.[Type]_C\", axis=1, inplace=True)\ninput_df_scaled = input_df\n\n# Normalize the independent variables\nmin_max_scaler = preprocessing.MinMaxScaler()\ninput_df_scaled[['Store.[Size]', 'Temperature', 'Fuel Price', 'MarkDown1', 'MarkDown2', 'MarkDown3', 'MarkDown4', 'MarkDown5', 'CPI', 'Unemployment']] = min_max_scaler.fit_transform(input_df_scaled[['Store.[Size]', 'Temperature', 'Fuel Price', 'MarkDown1', 'MarkDown2', 'MarkDown3', 'MarkDown4', 'MarkDown5', 'CPI', 'Unemployment']])\n\nlogging.info(\"Dataframe after cleanup\")\nlogging.info(input_df_scaled.head())\n\nX = input_df_scaled.loc[:, ['Store.[Size]', 'Temperature', 'Fuel Price', 'MarkDown1', 'MarkDown2', 'MarkDown3', 'MarkDown4', 'MarkDown5', 'CPI',\n       'Unemployment', 'Store.[Type]_A', 'Store.[Type]_B']]\ny = input_df_scaled[['Weekly Sales']]\n\nDTReg = DecisionTreeRegressor(max_depth=5)\nX_train, X_test, y_train, y_test = train_test_split(X, y, train_size=0.75,test_size=0.25, shuffle=False )\nDTReg.fit(X_train, y_train)   # training the model\ntest_pred = DTReg.predict(X_test)  # making predictions\nmse = mean_absolute_error(y_test, test_pred)\n\nlogging.warning(\"Mean abosulte error: {}\".format(mse))\n\ntrain_pred = DTReg.predict(X_train)\nall_predictions = np.hstack( (train_pred,test_pred) )\n\nPredictedSales= sales[['Version.[Version Name]', 'WalmartTime.[Day]', 'Department.[Department_ID]','Store.[Store_ID]']]\nPredictedSales[\"Predicted Sales\"] = all_predictions\n\nlogger.error(\"Ingesting data\")\nlogger.error(PredictedSales.dtypes)\n\nPredictedSales[\"Department.[Department_ID]\"] = PredictedSales[\"Department.[Department_ID]\"].astype('string')\nPredictedSales[\"Store.[Store_ID]\"] = PredictedSales[\"Store.[Store_ID]\"].astype('string') \n\nlogger.error(PredictedSales.dtypes)\nlogging.error(\"Finishing Plugin Execution\")"
      ],
      "metadata": {}
    }
  ],
  "metadata": {
    "kernelspec": {
      "display_name": "o9DSML",
      "language": "python",
      "name": "o9DSML"
    },
    "language_info": {
      "codemirror_mode": {
        "name": "ipython",
        "version": 3
      },
      "file_extension": ".py",
      "mimetype": "text/x-python",
      "name": "python",
      "nbconvert_exporter": "python",
      "pygments_lexer": "ipython3",
      "version": "3.7.10"
    },
    "id": "dce17183-cfd3-4a97-9646-319168cbe41f"
  },
  "nbformat": 4,
  "nbformat_minor": 5
}