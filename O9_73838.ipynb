{
 "cells": [
  {
   "cell_type": "code",
   "execution_count": 4,
   "id": "876079c3-6ea0-40a6-9521-85bb350cc919",
   "metadata": {},
   "outputs": [],
   "source": [
    "_predict_df = \"select (Version.[Version Name]*Product.[Product].[208821]*Time.FiscalWeek*SalesAccount.[Account]*Location.[Location]*{Measure.[DPSellOutUnitsActuals],Measure.[Mean Pricing Save PCT],Measure.[Placement Count],Measure.[Promotion Count],Measure.[DPSellOutPrice]});\""
   ]
  },
  {
   "cell_type": "code",
   "execution_count": 5,
   "id": "de811602-2f43-4a5b-a7e0-3409215d398e",
   "metadata": {},
   "outputs": [],
   "source": [
    "from o9_common_utils.O9DataLake import O9DataLake, ResourceType, DataSource,PluginSetting"
   ]
  },
  {
   "cell_type": "code",
   "execution_count": 6,
   "id": "62f2d050-4725-4eef-9674-f4d2e546efcf",
   "metadata": {},
   "outputs": [],
   "source": [
    "predict_df = O9DataLake.register(\"predict_df\",data_source = DataSource.LS, entity_type = ResourceType.IBPL, query = _predict_df,plugin_setting = PluginSetting.Inputs)"
   ]
  },
  {
   "cell_type": "code",
   "execution_count": 7,
   "id": "3c6b1f56-4f1e-4d95-b230-9c4a9981d684",
   "metadata": {},
   "outputs": [],
   "source": [
    "O9DataLake.register(\"Product.[Product]\", data_source = DataSource.LS, entity_type = ResourceType.IBPL, plugin_setting = PluginSetting.SliceDimension)"
   ]
  },
  {
   "cell_type": "code",
   "execution_count": 8,
   "id": "042cc7a7-e25d-4577-a51c-4db66db79648",
   "metadata": {},
   "outputs": [],
   "source": [
    "O9DataLake.register(\"output1\",data_source = DataSource.LS,entity_type = ResourceType.IBPL, plugin_setting = PluginSetting.Outputs)"
   ]
  },
  {
   "cell_type": "code",
   "execution_count": 9,
   "id": "e115571c-bc79-428e-b2a8-fa313e3820db",
   "metadata": {},
   "outputs": [],
   "source": [
    "script_params = O9DataLake.register({\"var1\":\"20\",\"var2\":\"Test1\",\"var3\":\"newparam\"}, data_source = DataSource.LS, plugin_setting = PluginSetting.ScriptParam)"
   ]
  },
  {
   "cell_type": "code",
   "execution_count": null,
   "id": "4f7826d5-06c6-43d5-9baf-e78455ca833b",
   "metadata": {},
   "outputs": [],
   "source": []
  }
 ],
 "metadata": {
  "kernelspec": {
   "display_name": "[autodsml2] Tenant Conda Environment",
   "language": "python",
   "name": "genieaz_autodsml2"
  },
  "language_info": {
   "codemirror_mode": {
    "name": "ipython",
    "version": 3
   },
   "file_extension": ".py",
   "mimetype": "text/x-python",
   "name": "python",
   "nbconvert_exporter": "python",
   "pygments_lexer": "ipython3",
   "version": "3.10.5"
  }
 },
 "nbformat": 4,
 "nbformat_minor": 5
}
