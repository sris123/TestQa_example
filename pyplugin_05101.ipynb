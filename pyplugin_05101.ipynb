{
 "cells": [],
 "metadata": {
  "id": "48d6b61f-bfc0-4e73-b9b5-232e3cf954fe"
 },
 "nbformat": 4,
 "nbformat_minor": 5
}
