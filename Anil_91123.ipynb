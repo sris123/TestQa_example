{
  "cells": [
    {
      "cell_type": "code",
      "execution_count": null,
      "id": "2bbdeaff-24c2-4d3d-b54d-e8f010b04b18",
      "metadata": {},
      "outputs": [],
      "source": []
    }
  ],
  "metadata": {
    "kernelspec": {
      "display_name": "[autodsml2] Tenant Conda Environment",
      "language": "python",
      "name": "k8qa_autodsml2"
    },
    "language_info": {
      "codemirror_mode": {
        "name": "ipython",
        "version": 3
      },
      "file_extension": ".py",
      "mimetype": "text/x-python",
      "name": "python",
      "nbconvert_exporter": "python",
      "pygments_lexer": "ipython3",
      "version": "3.7.10"
    },
    "id": "f8b39325-9db1-4e2a-84c8-32e22c07eb79"
  },
  "nbformat": 4,
  "nbformat_minor": 5
}