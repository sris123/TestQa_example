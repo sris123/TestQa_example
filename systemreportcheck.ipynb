{
  "cells": [
    {
      "cell_type": "code",
      "execution_count": 10,
      "id": "bf96fca0-15fe-41e5-ad80-7ee2c1319636",
      "metadata": {},
      "outputs": [],
      "source": [
        "\n",
        "_predict_df = \"select (Version.[Version Name]*Product.[Product].[196426]*Time.FiscalWeek*SalesAccount.[Account]*Location.[Location]*{Measure.[DPSellOutUnitsActuals],Measure.[Mean Pricing Save PCT],Measure.[Placement Count],Measure.[Promotion Count],Measure.[DPSellOutPrice]});\"\n",
        "#_input_df = \"select (Version.[Version Name]*Product.[Product].[208821]*Time.FiscalWeek*SalesAccount.[Account]*Location.[Location]*{Measure.[DPSellOutUnitsActuals],Measure.[Mean Pricing Save PCT],Measure.[Placement Count],Measure.[Promotion Count],Measure.[DPSellOutPrice]});\"\n",
        "\n",
        "from o9_common_utils.O9DataLake import O9DataLake, ResourceType, DataSource,PluginSetting\n",
        "\n",
        "# register inputs\n",
        "predict_df = O9DataLake.register(\"predict_df\",data_source = DataSource.LS, entity_type = ResourceType.IBPL, query = _predict_df,plugin_setting = PluginSetting.Inputs)\n",
        "#input_df = O9DataLake.register(\"input_df\",data_source = DataSource.LS, entity_type = ResourceType.IBPL, query = _input_df,plugin_setting = PluginSetting.Inputs)\n",
        "systemreport = O9DataLake.register(\"testreport\",data_source = DataSource.LIVEFRAME,entity_type = ResourceType.LIVEFRAME,plugin_setting = PluginSetting.Inputs)\n",
        "#DPSelloutPrediction = O9DataLake.register(\"DPSelloutPrediction\",data_source = DataSource.LIVEFRAME,entity_type = ResourceType.LIVEFRAME,plugin_setting = PluginSetting.Inputs)\n",
        "# register slice dimension\n",
        "O9DataLake.register(\"Product.[Product]\", data_source = DataSource.LS, entity_type = ResourceType.IBPL, plugin_setting = PluginSetting.SliceDimension)\n",
        "\n",
        "# register outputs\n",
        "O9DataLake.register(\"output1\",data_source = DataSource.LS,entity_type = ResourceType.IBPL, plugin_setting = PluginSetting.Outputs)\n",
        "#O9DataLake.register(\"output2\",data_source = DataSource.LS,entity_type = ResourceType.IBPL, plugin_setting = PluginSetting.Outputs)\n",
        "\n",
        "# register script params\n",
        "script_params = O9DataLake.register({\"var1\":\"10\",\"var2\":\"Test1\"}, data_source = DataSource.LS, plugin_setting = PluginSetting.ScriptParam)\n"
      ]
    },
    {
      "cell_type": "code",
      "execution_count": 11,
      "id": "1a41ea73-eca5-4853-93b9-014f9587ddb7",
      "metadata": {},
      "outputs": [
        {
          "data": {
            "text/plain": [
              "{'predict_df': {'name': 'predict_df',\n",
              "  'resource_type': <ResourceType.IBPL: 'ibpl_query'>,\n",
              "  'data_source': <DataSource.LS: 'liveserver'>,\n",
              "  'query': 'select (Version.[Version Name]*Product.[Product].[196426]*Time.FiscalWeek*SalesAccount.[Account]*Location.[Location]*{Measure.[DPSellOutUnitsActuals],Measure.[Mean Pricing Save PCT],Measure.[Placement Count],Measure.[Promotion Count],Measure.[DPSellOutPrice]});',\n",
              "  'std_count_limit': '200000',\n",
              "  'df':    Version.[Version Name]  Product.[Product] Time.[FiscalWeek]  \\\n",
              "  0                      S1             196426          W03-2016   \n",
              "  1      CurrentWorkingView             196426          W03-2016   \n",
              "  2                      S1             196426          W05-2016   \n",
              "  3      CurrentWorkingView             196426          W05-2016   \n",
              "  4                      S1             196426          W08-2016   \n",
              "  5      CurrentWorkingView             196426          W08-2016   \n",
              "  6                      S1             196426          W13-2016   \n",
              "  7      CurrentWorkingView             196426          W13-2016   \n",
              "  8                      S1             196426          W48-2016   \n",
              "  9      CurrentWorkingView             196426          W48-2016   \n",
              "  10                     S1             196426          W42-2017   \n",
              "  11     CurrentWorkingView             196426          W42-2017   \n",
              "  12                     S1             196426          W44-2017   \n",
              "  13     CurrentWorkingView             196426          W44-2017   \n",
              "  \n",
              "     SalesAccount.[Account] Location.[Location]  DPSellOutUnitsActuals  \\\n",
              "  0                     ALL                 ALL                      1   \n",
              "  1                     ALL                 ALL                      1   \n",
              "  2                     ALL                 ALL                      2   \n",
              "  3                     ALL                 ALL                      2   \n",
              "  4                     ALL                 ALL                      1   \n",
              "  5                     ALL                 ALL                      1   \n",
              "  6                     ALL                 ALL                      1   \n",
              "  7                     ALL                 ALL                      1   \n",
              "  8                     ALL                 ALL                      1   \n",
              "  9                     ALL                 ALL                      1   \n",
              "  10                    ALL                 ALL                      1   \n",
              "  11                    ALL                 ALL                      1   \n",
              "  12                    ALL                 ALL                      1   \n",
              "  13                    ALL                 ALL                      1   \n",
              "  \n",
              "      Mean Pricing Save PCT  Placement Count  Promotion Count  DPSellOutPrice  \n",
              "  0                     NaN              NaN              NaN             6.0  \n",
              "  1                     NaN              NaN              NaN             6.0  \n",
              "  2                     NaN              NaN              NaN             9.5  \n",
              "  3                     NaN              NaN              NaN             9.5  \n",
              "  4                     NaN              NaN              NaN             6.0  \n",
              "  5                     NaN              NaN              NaN             6.0  \n",
              "  6                     NaN              NaN              NaN            13.0  \n",
              "  7                     NaN              NaN              NaN            13.0  \n",
              "  8                     NaN              NaN              NaN            13.0  \n",
              "  9                     NaN              NaN              NaN            13.0  \n",
              "  10                    NaN              NaN              NaN            13.0  \n",
              "  11                    NaN              NaN              NaN            13.0  \n",
              "  12                    NaN              NaN              NaN            13.0  \n",
              "  13                    NaN              NaN              NaN            13.0  },\n",
              " 'testreport': {'name': 'testreport',\n",
              "  'resource_type': <ResourceType.LIVEFRAME: 'liveframe'>,\n",
              "  'data_source': <DataSource.LIVEFRAME: 'liveframe'>,\n",
              "  'query': 'SELECT ([Version].[Version Name].filter(#.[Version Name$InActive] in { false }) * {Measure.[DSML dpsell]}) on row, () on column include lcid 1033, cellproperties {LOCK, BG_COLOR, FG_COLOR} ;',\n",
              "  'SystemReportId': 1695107,\n",
              "  'std_count_limit': '200000',\n",
              "  'df':   Version.[Version Name]  DSML dpsell\n",
              "  0     CurrentWorkingView        10786}}"
            ]
          },
          "execution_count": 11,
          "metadata": {},
          "output_type": "execute_result"
        }
      ],
      "source": [
        "O9DataLake.inputs"
      ]
    },
    {
      "cell_type": "code",
      "execution_count": 12,
      "id": "039f24a5-994b-4935-adaa-6604c07a3650",
      "metadata": {},
      "outputs": [
        {
          "ename": "KeyError",
          "evalue": "'WeeklySales'",
          "output_type": "error",
          "traceback": [
            "\u001b[0;31m---------------------------------------------------------------------------\u001b[0m",
            "\u001b[0;31mKeyError\u001b[0m                                  Traceback (most recent call last)",
            "\u001b[0;32m/tmp/ipykernel_194/518433632.py\u001b[0m in \u001b[0;36m<module>\u001b[0;34m\u001b[0m\n\u001b[1;32m      1\u001b[0m \u001b[0;31m# fetching inputs\u001b[0m\u001b[0;34m\u001b[0m\u001b[0;34m\u001b[0m\u001b[0;34m\u001b[0m\u001b[0m\n\u001b[1;32m      2\u001b[0m \u001b[0mpredict_df\u001b[0m \u001b[0;34m=\u001b[0m \u001b[0mO9DataLake\u001b[0m\u001b[0;34m.\u001b[0m\u001b[0mget\u001b[0m\u001b[0;34m(\u001b[0m\u001b[0;34m'predict_df'\u001b[0m\u001b[0;34m)\u001b[0m\u001b[0;34m\u001b[0m\u001b[0;34m\u001b[0m\u001b[0m\n\u001b[0;32m----> 3\u001b[0;31m \u001b[0msystemreport\u001b[0m \u001b[0;34m=\u001b[0m \u001b[0mO9DataLake\u001b[0m\u001b[0;34m.\u001b[0m\u001b[0mget\u001b[0m\u001b[0;34m(\u001b[0m\u001b[0;34m'WeeklySales'\u001b[0m\u001b[0;34m)\u001b[0m\u001b[0;34m\u001b[0m\u001b[0;34m\u001b[0m\u001b[0m\n\u001b[0m\u001b[1;32m      4\u001b[0m \u001b[0;34m\u001b[0m\u001b[0m\n\u001b[1;32m      5\u001b[0m \u001b[0;31m# fetching script params\u001b[0m\u001b[0;34m\u001b[0m\u001b[0;34m\u001b[0m\u001b[0;34m\u001b[0m\u001b[0m\n",
            "\u001b[0;32m/opt/conda/envs/k8qa_pyplatformhivetest/lib/python3.7/site-packages/o9_common_utils/O9DataLake.py\u001b[0m in \u001b[0;36mget\u001b[0;34m(key, query, copy)\u001b[0m\n\u001b[1;32m    326\u001b[0m         \u001b[0;32mimport\u001b[0m \u001b[0mpandas\u001b[0m \u001b[0;32mas\u001b[0m \u001b[0mpd\u001b[0m\u001b[0;34m\u001b[0m\u001b[0;34m\u001b[0m\u001b[0m\n\u001b[1;32m    327\u001b[0m         \u001b[0;32mif\u001b[0m \u001b[0mO9DataLake\u001b[0m\u001b[0;34m.\u001b[0m\u001b[0mjhub_mode\u001b[0m\u001b[0;34m:\u001b[0m \u001b[0;31m# To eliminate the calling of get function multiple times\u001b[0m\u001b[0;34m\u001b[0m\u001b[0;34m\u001b[0m\u001b[0m\n\u001b[0;32m--> 328\u001b[0;31m             \u001b[0;32mif\u001b[0m \u001b[0mO9DataLake\u001b[0m\u001b[0;34m.\u001b[0m\u001b[0minputs\u001b[0m\u001b[0;34m[\u001b[0m\u001b[0mkey\u001b[0m\u001b[0;34m]\u001b[0m\u001b[0;34m[\u001b[0m\u001b[0;34m'std_count_limit'\u001b[0m\u001b[0;34m]\u001b[0m \u001b[0;34m!=\u001b[0m \u001b[0mos\u001b[0m\u001b[0;34m.\u001b[0m\u001b[0mgetenv\u001b[0m\u001b[0;34m(\u001b[0m\u001b[0;34m\"COUNTLIMIT\"\u001b[0m\u001b[0;34m)\u001b[0m\u001b[0;34m:\u001b[0m\u001b[0;34m\u001b[0m\u001b[0;34m\u001b[0m\u001b[0m\n\u001b[0m\u001b[1;32m    329\u001b[0m                 \u001b[0;32mif\u001b[0m \u001b[0mO9DataLake\u001b[0m\u001b[0;34m.\u001b[0m\u001b[0mhas_input_key\u001b[0m\u001b[0;34m(\u001b[0m\u001b[0mkey\u001b[0m\u001b[0;34m)\u001b[0m \u001b[0;32mand\u001b[0m \u001b[0mO9DataLake\u001b[0m\u001b[0;34m.\u001b[0m\u001b[0minputs\u001b[0m\u001b[0;34m[\u001b[0m\u001b[0mkey\u001b[0m\u001b[0;34m]\u001b[0m \u001b[0;32mis\u001b[0m \u001b[0;32mnot\u001b[0m \u001b[0;32mNone\u001b[0m\u001b[0;34m:\u001b[0m\u001b[0;34m\u001b[0m\u001b[0;34m\u001b[0m\u001b[0m\n\u001b[1;32m    330\u001b[0m                     \u001b[0mkey_obj\u001b[0m \u001b[0;34m=\u001b[0m \u001b[0mO9DataLake\u001b[0m\u001b[0;34m.\u001b[0m\u001b[0minputs\u001b[0m\u001b[0;34m[\u001b[0m\u001b[0mkey\u001b[0m\u001b[0;34m]\u001b[0m\u001b[0;34m\u001b[0m\u001b[0;34m\u001b[0m\u001b[0m\n",
            "\u001b[0;31mKeyError\u001b[0m: 'WeeklySales'"
          ]
        }
      ],
      "source": [
        "# fetching inputs\n",
        "predict_df = O9DataLake.get('predict_df')\n",
        "systemreport = O9DataLake.get('testreport')\n",
        "\n",
        "# fetching script params\n",
        "value1 = O9DataLake.get_script_param(\"var1\")\n",
        "value2 = O9DataLake.get_script_param(\"var2\")"
      ]
    },
    {
      "cell_type": "code",
      "execution_count": null,
      "id": "5346538a-033c-4a88-9197-b7bca760c2fb",
      "metadata": {},
      "outputs": [],
      "source": [
        "#user script\n",
        "\n",
        "# package imports\n",
        "import logging\n",
        "from sklearn import tree\n",
        "\n",
        "# initialize output variables\n",
        "output1 = None\n",
        "\n",
        "\n",
        "# initialize logger\n",
        "logger = logging.getLogger('o9_logger')\n",
        "\n",
        "logger.debug(f'predict_df dataframe:  {predict_df.shape}')\n",
        "logger.debug(f'systemreport dataframe:  {systemreport.shape}')\n",
        "logger.debug(f'script param var1 value: {value1}')\n",
        "logger.debug(f'script param var2 value: {value2}')"
      ]
    },
    {
      "cell_type": "code",
      "execution_count": null,
      "id": "8a544270-835f-4462-9e16-87ebaa19e06e",
      "metadata": {},
      "outputs": [],
      "source": [
        "output1 = systemreport\n",
        "logger.debug(f'systemreport dataframe:  {systemreport.head()}')"
      ]
    },
    {
      "cell_type": "code",
      "execution_count": null,
      "id": "7183abc3-b374-48f8-834f-7137b22a771b",
      "metadata": {},
      "outputs": [],
      "source": [
        "#pushing outputs to Live Server(make sure all dimensions,measures present in LiveServer)\n",
        "O9DataLake.put('output1', output1)"
      ]
    }
  ],
  "metadata": {
    "id": "2bf759e7-d26c-4b96-9c32-c3b347dbf5da",
    "kernelspec": {
      "display_name": "[pyplatformhivetest] Tenant Conda Environment",
      "language": "python",
      "name": "k8qa_pyplatformhivetest"
    },
    "language_info": {
      "codemirror_mode": {
        "name": "ipython",
        "version": 3
      },
      "file_extension": ".py",
      "mimetype": "text/x-python",
      "name": "python",
      "nbconvert_exporter": "python",
      "pygments_lexer": "ipython3",
      "version": "3.7.10"
    }
  },
  "nbformat": 4,
  "nbformat_minor": 5
}