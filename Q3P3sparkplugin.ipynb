{
 "cells": [
  {
   "cell_type": "code",
   "execution_count": 4,
   "id": "6d2a3523-3d17-4470-814f-567adce4467c",
   "metadata": {},
   "outputs": [
    {
     "data": {
      "application/vnd.jupyter.widget-view+json": {
       "model_id": "",
       "version_major": 2,
       "version_minor": 0
      },
      "text/plain": [
       "FloatProgress(value=0.0, bar_style='info', description='Progress:', layout=Layout(height='25px', width='50%'),…"
      ]
     },
     "metadata": {},
     "output_type": "display_data"
    }
   ],
   "source": [
    "_predict_df = \"select (Version.[Version Name]*Product.[Product].[208821]*Time.FiscalWeek*SalesAccount.[Account]*Location.[Location]*{Measure.[DPSellOutUnitsActuals],Measure.[Mean Pricing Save PCT],Measure.[Placement Count],Measure.[Promotion Count],Measure.[DPSellOutPrice]});\"\n",
    "\n",
    "from o9_common_utils.O9DataLake import O9DataLake, ResourceType, DataSource,PluginSetting\n",
    "\n",
    "# register inputs\n",
    "predict_df = O9DataLake.register(\"predict_df\",data_source = DataSource.LS, entity_type = ResourceType.IBPL, query = _predict_df,plugin_setting = PluginSetting.Inputs, spark = spark)\n",
    "\n",
    "\n",
    "\n",
    "\n",
    "# register outputs\n",
    "O9DataLake.register(\"output1\",data_source = DataSource.LS,entity_type = ResourceType.IBPL, plugin_setting = PluginSetting.Outputs)\n",
    "O9DataLake.register(\"output2\",data_source = DataSource.LS,entity_type = ResourceType.IBPL, plugin_setting = PluginSetting.Outputs)\n",
    "\n",
    "# register script params\n",
    "script_params = O9DataLake.register({\"var1\":\"50\",\"var2\":\"Test1\",\"var3\":\"newparam\",\"var4\":\"80\"}, data_source = DataSource.LS, plugin_setting = PluginSetting.ScriptParam)"
   ]
  },
  {
   "cell_type": "code",
   "execution_count": 5,
   "id": "dab22621-b424-4fd8-9983-6950ec0c9d9b",
   "metadata": {},
   "outputs": [
    {
     "data": {
      "application/vnd.jupyter.widget-view+json": {
       "model_id": "",
       "version_major": 2,
       "version_minor": 0
      },
      "text/plain": [
       "FloatProgress(value=0.0, bar_style='info', description='Progress:', layout=Layout(height='25px', width='50%'),…"
      ]
     },
     "metadata": {},
     "output_type": "display_data"
    }
   ],
   "source": [
    "liveinput2 = O9DataLake.register(\"WeeklySales\",data_source = DataSource.LIVEFRAME,entity_type = ResourceType.LIVEFRAME,plugin_setting = PluginSetting.Inputs,spark = spark)"
   ]
  },
  {
   "cell_type": "code",
   "execution_count": 6,
   "id": "f0a77a3b-60f2-4fdc-a3a3-b602fb376294",
   "metadata": {},
   "outputs": [
    {
     "data": {
      "application/vnd.jupyter.widget-view+json": {
       "model_id": "",
       "version_major": 2,
       "version_minor": 0
      },
      "text/plain": [
       "FloatProgress(value=0.0, bar_style='info', description='Progress:', layout=Layout(height='25px', width='50%'),…"
      ]
     },
     "metadata": {},
     "output_type": "display_data"
    },
    {
     "name": "stdout",
     "output_type": "stream",
     "text": [
      "<class 'pyspark.sql.dataframe.DataFrame'>"
     ]
    }
   ],
   "source": [
    "type(liveinput2)"
   ]
  },
  {
   "cell_type": "code",
   "execution_count": 7,
   "id": "d2d6df05-b0b2-494c-8b17-5d23641d1dff",
   "metadata": {},
   "outputs": [
    {
     "data": {
      "application/vnd.jupyter.widget-view+json": {
       "model_id": "",
       "version_major": 2,
       "version_minor": 0
      },
      "text/plain": [
       "FloatProgress(value=0.0, bar_style='info', description='Progress:', layout=Layout(height='25px', width='50%'),…"
      ]
     },
     "metadata": {},
     "output_type": "display_data"
    },
    {
     "name": "stdout",
     "output_type": "stream",
     "text": [
      "+--------------+------------+----------------------+------------------+---------+---------+---------+---------+---------+---------+---------+-----------+------------+-----------+\n",
      "|WalmartTimeDay|StoreStoreID|DepartmentDepartmentID|VersionVersionName|      CPI|FuelPrice|MarkDown1|MarkDown2|MarkDown3|MarkDown4|MarkDown5|Temperature|Unemployment|WeeklySales|\n",
      "+--------------+------------+----------------------+------------------+---------+---------+---------+---------+---------+---------+---------+-----------+------------+-----------+\n",
      "|    02-05-2010|           1|                     1|CurrentWorkingView|211.09636|    2.572|      NaN|      NaN|      NaN|      NaN|      NaN|      42.31|       8.106|    24924.5|\n",
      "|    02-05-2010|           1|                     2|CurrentWorkingView|211.09636|    2.572|      NaN|      NaN|      NaN|      NaN|      NaN|      42.31|       8.106|   50605.27|\n",
      "|    02-05-2010|           1|                     3|CurrentWorkingView|211.09636|    2.572|      NaN|      NaN|      NaN|      NaN|      NaN|      42.31|       8.106|   13740.12|\n",
      "|    02-05-2010|           1|                     4|CurrentWorkingView|211.09636|    2.572|      NaN|      NaN|      NaN|      NaN|      NaN|      42.31|       8.106|   39954.04|\n",
      "|    02-05-2010|           1|                     5|CurrentWorkingView|211.09636|    2.572|      NaN|      NaN|      NaN|      NaN|      NaN|      42.31|       8.106|   32229.38|\n",
      "|    02-05-2010|           1|                     6|CurrentWorkingView|211.09636|    2.572|      NaN|      NaN|      NaN|      NaN|      NaN|      42.31|       8.106|    5749.03|\n",
      "|    02-05-2010|           1|                     7|CurrentWorkingView|211.09636|    2.572|      NaN|      NaN|      NaN|      NaN|      NaN|      42.31|       8.106|   21084.08|\n",
      "|    02-05-2010|           1|                     8|CurrentWorkingView|211.09636|    2.572|      NaN|      NaN|      NaN|      NaN|      NaN|      42.31|       8.106|   40129.01|\n",
      "|    02-05-2010|           1|                     9|CurrentWorkingView|211.09636|    2.572|      NaN|      NaN|      NaN|      NaN|      NaN|      42.31|       8.106|   16930.99|\n",
      "|    02-05-2010|           1|                    10|CurrentWorkingView|211.09636|    2.572|      NaN|      NaN|      NaN|      NaN|      NaN|      42.31|       8.106|    30721.5|\n",
      "|    02-05-2010|           1|                    11|CurrentWorkingView|211.09636|    2.572|      NaN|      NaN|      NaN|      NaN|      NaN|      42.31|       8.106|   24213.18|\n",
      "|    02-05-2010|           1|                    12|CurrentWorkingView|211.09636|    2.572|      NaN|      NaN|      NaN|      NaN|      NaN|      42.31|       8.106|    8449.54|\n",
      "|    02-05-2010|           1|                    13|CurrentWorkingView|211.09636|    2.572|      NaN|      NaN|      NaN|      NaN|      NaN|      42.31|       8.106|   41969.29|\n",
      "|    02-05-2010|           1|                    14|CurrentWorkingView|211.09636|    2.572|      NaN|      NaN|      NaN|      NaN|      NaN|      42.31|       8.106|   19466.91|\n",
      "|    02-05-2010|           1|                    16|CurrentWorkingView|211.09636|    2.572|      NaN|      NaN|      NaN|      NaN|      NaN|      42.31|       8.106|   10217.55|\n",
      "|    02-05-2010|           1|                    17|CurrentWorkingView|211.09636|    2.572|      NaN|      NaN|      NaN|      NaN|      NaN|      42.31|       8.106|   13223.76|\n",
      "|    02-05-2010|           1|                    18|CurrentWorkingView|211.09636|    2.572|      NaN|      NaN|      NaN|      NaN|      NaN|      42.31|       8.106|     4729.5|\n",
      "|    02-05-2010|           1|                    19|CurrentWorkingView|211.09636|    2.572|      NaN|      NaN|      NaN|      NaN|      NaN|      42.31|       8.106|    1947.05|\n",
      "|    02-05-2010|           1|                    20|CurrentWorkingView|211.09636|    2.572|      NaN|      NaN|      NaN|      NaN|      NaN|      42.31|       8.106|     5034.1|\n",
      "|    02-05-2010|           1|                    21|CurrentWorkingView|211.09636|    2.572|      NaN|      NaN|      NaN|      NaN|      NaN|      42.31|       8.106|    8907.63|\n",
      "+--------------+------------+----------------------+------------------+---------+---------+---------+---------+---------+---------+---------+-----------+------------+-----------+\n",
      "only showing top 20 rows"
     ]
    }
   ],
   "source": [
    "liveinput2.show()"
   ]
  },
  {
   "cell_type": "code",
   "execution_count": 8,
   "id": "a83064d0-261b-4647-ae93-acee1ea6e10a",
   "metadata": {},
   "outputs": [
    {
     "data": {
      "application/vnd.jupyter.widget-view+json": {
       "model_id": "",
       "version_major": 2,
       "version_minor": 0
      },
      "text/plain": [
       "FloatProgress(value=0.0, bar_style='info', description='Progress:', layout=Layout(height='25px', width='50%'),…"
      ]
     },
     "metadata": {},
     "output_type": "display_data"
    }
   ],
   "source": [
    "# fetching inputs\n",
    "predict_df = O9DataLake.get('predict_df')\n",
    "\n",
    "liveinput2 = O9DataLake.get('WeeklySales')\n",
    "# fetching script params\n",
    "value1 = O9DataLake.get_script_param(\"var1\")\n",
    "value2 = O9DataLake.get_script_param(\"var2\")"
   ]
  },
  {
   "cell_type": "code",
   "execution_count": 9,
   "id": "729e8dba-2a7f-4d6f-97ec-d04e3786c21f",
   "metadata": {},
   "outputs": [
    {
     "data": {
      "application/vnd.jupyter.widget-view+json": {
       "model_id": "",
       "version_major": 2,
       "version_minor": 0
      },
      "text/plain": [
       "FloatProgress(value=0.0, bar_style='info', description='Progress:', layout=Layout(height='25px', width='50%'),…"
      ]
     },
     "metadata": {},
     "output_type": "display_data"
    },
    {
     "name": "stdout",
     "output_type": "stream",
     "text": [
      "2024-10-06 12:34:55,828 - o9_logger - DEBUG - predict_df dataframe:  320\n",
      "2024-10-06 12:34:56,972 - o9_logger - DEBUG - liveinput2 dataframe:  421570\n",
      "2024-10-06 12:34:56,972 - o9_logger - DEBUG - script param var1 value: 50\n",
      "2024-10-06 12:34:56,972 - o9_logger - DEBUG - script param var2 value: Test1"
     ]
    }
   ],
   "source": [
    "#user script\n",
    "\n",
    "# package imports\n",
    "import logging\n",
    "from sklearn import tree\n",
    "\n",
    "# initialize output variables\n",
    "output1 = None\n",
    "output2 = None\n",
    "\n",
    "\n",
    "# initialize logger\n",
    "logger = logging.getLogger('o9_logger')\n",
    "\n",
    "logger.debug(f'predict_df dataframe:  {predict_df.count()}')\n",
    "\n",
    "logger.debug(f'liveinput2 dataframe:  {liveinput2.count()}')\n",
    "logger.debug(f'script param var1 value: {value1}')\n",
    "logger.debug(f'script param var2 value: {value2}')"
   ]
  },
  {
   "cell_type": "code",
   "execution_count": 10,
   "id": "950252e5-b063-4546-8bd3-2b3e1dd6cc20",
   "metadata": {},
   "outputs": [
    {
     "data": {
      "application/vnd.jupyter.widget-view+json": {
       "model_id": "",
       "version_major": 2,
       "version_minor": 0
      },
      "text/plain": [
       "FloatProgress(value=0.0, bar_style='info', description='Progress:', layout=Layout(height='25px', width='50%'),…"
      ]
     },
     "metadata": {},
     "output_type": "display_data"
    },
    {
     "name": "stdout",
     "output_type": "stream",
     "text": [
      "2024-10-06 12:35:06,900 - o9_logger - DEBUG - systemreport dataframe:  Row(WalmartTimeDay='02-05-2010', StoreStoreID='1', DepartmentDepartmentID='1', VersionVersionName='CurrentWorkingView', CPI=211.0963592529297, FuelPrice=2.572000026702881, MarkDown1=nan, MarkDown2=nan, MarkDown3=nan, MarkDown4=nan, MarkDown5=nan, Temperature=42.310001373291016, Unemployment=8.105999946594238, WeeklySales=24924.5)"
     ]
    }
   ],
   "source": [
    "output1 = liveinput2\n",
    "logger.debug(f'systemreport dataframe:  {liveinput2.head()}')"
   ]
  },
  {
   "cell_type": "code",
   "execution_count": null,
   "id": "ba17b86d-1523-426b-9927-237d1c610dbf",
   "metadata": {},
   "outputs": [],
   "source": []
  }
 ],
 "metadata": {
  "id": "c69974a7-2d82-4019-bf77-100376302a9e",
  "kernelspec": {
   "display_name": "[pyplatformhivetest] Tenant Conda Environment",
   "language": "python",
   "name": "genieaz_pyplatformhivetest"
  },
  "language_info": {
   "codemirror_mode": {
    "name": "ipython",
    "version": 3
   },
   "file_extension": ".py",
   "mimetype": "text/x-python",
   "name": "python",
   "nbconvert_exporter": "python",
   "pygments_lexer": "ipython3",
   "version": "3.7.10"
  }
 },
 "nbformat": 4,
 "nbformat_minor": 5
}
