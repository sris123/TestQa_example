{
 "cells": [
  {
   "cell_type": "code",
   "execution_count": 5,
   "id": "a6f85f1d-2d84-4407-a851-b9100684dc83",
   "metadata": {},
   "outputs": [
    {
     "data": {
      "application/vnd.jupyter.widget-view+json": {
       "model_id": "",
       "version_major": 2,
       "version_minor": 0
      },
      "text/plain": [
       "FloatProgress(value=0.0, bar_style='info', description='Progress:', layout=Layout(height='25px', width='50%'),…"
      ]
     },
     "metadata": {},
     "output_type": "display_data"
    }
   ],
   "source": [
    "_predict_df = \"select (Version.[Version Name]*Product.[Product].[208821]*Time.FiscalWeek*SalesAccount.[Account]*Location.[Location]*{Measure.[DPSellOutUnitsActuals],Measure.[Mean Pricing Save PCT],Measure.[Placement Count],Measure.[Promotion Count],Measure.[DPSellOutPrice]});\"\n",
    "\n",
    "from o9_common_utils.O9DataLake import O9DataLake, ResourceType, DataSource,PluginSetting\n",
    "\n",
    "# register inputs\n",
    "predict_df = O9DataLake.register(\"predict_df\",data_source = DataSource.LS, entity_type = ResourceType.IBPL, query = _predict_df,plugin_setting = PluginSetting.Inputs,spark = spark)\n",
    "\n",
    "\n",
    "# register slice dimension\n",
    "O9DataLake.register(\"Product.[Product]\", data_source = DataSource.LS, entity_type = ResourceType.IBPL, plugin_setting = PluginSetting.SliceDimension)\n",
    "\n",
    "# register outputs\n",
    "O9DataLake.register(\"output1\",data_source = DataSource.LS,entity_type = ResourceType.IBPL, plugin_setting = PluginSetting.Outputs)\n",
    "\n",
    "# register script params\n",
    "script_params = O9DataLake.register({\"var1\":\"20\",\"var2\":\"Test1\",\"newparam\":\"new\"}, data_source = DataSource.LS, plugin_setting = PluginSetting.ScriptParam)"
   ]
  },
  {
   "cell_type": "code",
   "execution_count": 6,
   "id": "df0428e7-684b-4517-b85d-9538b228f433",
   "metadata": {},
   "outputs": [
    {
     "data": {
      "application/vnd.jupyter.widget-view+json": {
       "model_id": "",
       "version_major": 2,
       "version_minor": 0
      },
      "text/plain": [
       "FloatProgress(value=0.0, bar_style='info', description='Progress:', layout=Layout(height='25px', width='50%'),…"
      ]
     },
     "metadata": {},
     "output_type": "display_data"
    }
   ],
   "source": [
    "ReportName = O9DataLake.register(\"ReportName\",data_source = DataSource.LIVEFRAME,entity_type = ResourceType.LIVEFRAME,plugin_setting = PluginSetting.Inputs,spark = spark)"
   ]
  },
  {
   "cell_type": "code",
   "execution_count": 12,
   "id": "b4bba8c8-ade7-4cfa-869c-2bdab63883ad",
   "metadata": {},
   "outputs": [
    {
     "data": {
      "application/vnd.jupyter.widget-view+json": {
       "model_id": "",
       "version_major": 2,
       "version_minor": 0
      },
      "text/plain": [
       "FloatProgress(value=0.0, bar_style='info', description='Progress:', layout=Layout(height='25px', width='50%'),…"
      ]
     },
     "metadata": {},
     "output_type": "display_data"
    },
    {
     "name": "stdout",
     "output_type": "stream",
     "text": [
      "421570"
     ]
    }
   ],
   "source": [
    "type(ReportName)\n",
    "ReportName.count()"
   ]
  },
  {
   "cell_type": "code",
   "execution_count": 9,
   "id": "067300a4-b0f9-4307-9916-84dd98c2ea6e",
   "metadata": {},
   "outputs": [
    {
     "data": {
      "application/vnd.jupyter.widget-view+json": {
       "model_id": "",
       "version_major": 2,
       "version_minor": 0
      },
      "text/plain": [
       "FloatProgress(value=0.0, bar_style='info', description='Progress:', layout=Layout(height='25px', width='50%'),…"
      ]
     },
     "metadata": {},
     "output_type": "display_data"
    },
    {
     "name": "stdout",
     "output_type": "stream",
     "text": [
      "<class 'pyspark.sql.dataframe.DataFrame'>"
     ]
    }
   ],
   "source": [
    "type(predict_df)"
   ]
  },
  {
   "cell_type": "code",
   "execution_count": 11,
   "id": "ea5c3602-de68-49f6-b2e8-28ea1159f4af",
   "metadata": {},
   "outputs": [
    {
     "data": {
      "application/vnd.jupyter.widget-view+json": {
       "model_id": "",
       "version_major": 2,
       "version_minor": 0
      },
      "text/plain": [
       "FloatProgress(value=0.0, bar_style='info', description='Progress:', layout=Layout(height='25px', width='50%'),…"
      ]
     },
     "metadata": {},
     "output_type": "display_data"
    },
    {
     "name": "stdout",
     "output_type": "stream",
     "text": [
      "320"
     ]
    }
   ],
   "source": [
    "\n",
    "predict_df.count()"
   ]
  },
  {
   "cell_type": "code",
   "execution_count": 13,
   "id": "4c29dba2-cf94-4ffc-895d-0f8e19f9064d",
   "metadata": {},
   "outputs": [
    {
     "data": {
      "application/vnd.jupyter.widget-view+json": {
       "model_id": "",
       "version_major": 2,
       "version_minor": 0
      },
      "text/plain": [
       "FloatProgress(value=0.0, bar_style='info', description='Progress:', layout=Layout(height='25px', width='50%'),…"
      ]
     },
     "metadata": {},
     "output_type": "display_data"
    }
   ],
   "source": [
    "# fetching inputs\n",
    "predict_df = O9DataLake.get('predict_df')\n",
    "\n",
    "ReportName = O9DataLake.get('ReportName')\n",
    "# fetching script params\n",
    "value1 = O9DataLake.get_script_param(\"var1\")\n",
    "value2 = O9DataLake.get_script_param(\"var2\")"
   ]
  },
  {
   "cell_type": "code",
   "execution_count": 14,
   "id": "b58e7d19-ae9c-4874-9e47-34f7692d6e7e",
   "metadata": {
    "tags": [
     "o9_ignore"
    ]
   },
   "outputs": [
    {
     "data": {
      "application/vnd.jupyter.widget-view+json": {
       "model_id": "",
       "version_major": 2,
       "version_minor": 0
      },
      "text/plain": [
       "FloatProgress(value=0.0, bar_style='info', description='Progress:', layout=Layout(height='25px', width='50%'),…"
      ]
     },
     "metadata": {},
     "output_type": "display_data"
    },
    {
     "name": "stdout",
     "output_type": "stream",
     "text": [
      "+------------------+--------------+--------------+-------------------+----------------+---------------------+------------------+--------------+--------------+--------------+\n",
      "|VersionVersionName|ProductProduct|TimeFiscalWeek|SalesAccountAccount|LocationLocation|DPSellOutUnitsActuals|MeanPricingSavePCT|PlacementCount|PromotionCount|DPSellOutPrice|\n",
      "+------------------+--------------+--------------+-------------------+----------------+---------------------+------------------+--------------+--------------+--------------+\n",
      "|                S1|        208821|      W49-2015|                ALL|             ALL|                  NaN|               NaN|           2.0|           NaN|           NaN|\n",
      "|CurrentWorkingView|        208821|      W49-2015|                ALL|             ALL|                  NaN|               NaN|           2.0|           NaN|           NaN|\n",
      "|                S1|        208821|      W50-2015|                ALL|             ALL|                  NaN|               NaN|           2.0|           NaN|           NaN|\n",
      "|CurrentWorkingView|        208821|      W50-2015|                ALL|             ALL|                  NaN|               NaN|           2.0|           NaN|           NaN|\n",
      "|                S1|        208821|      W51-2015|                ALL|             ALL|                  NaN|               NaN|           2.0|           NaN|           NaN|\n",
      "|CurrentWorkingView|        208821|      W51-2015|                ALL|             ALL|                  NaN|               NaN|           2.0|           NaN|           NaN|\n",
      "|                S1|        208821|      W52-2015|                ALL|             ALL|                  NaN|               NaN|           2.0|           NaN|           NaN|\n",
      "|CurrentWorkingView|        208821|      W52-2015|                ALL|             ALL|                  NaN|               NaN|           2.0|           NaN|           NaN|\n",
      "|                S1|        208821|      W01-2016|                ALL|             ALL|                  NaN|               NaN|           2.0|           NaN|           NaN|\n",
      "|CurrentWorkingView|        208821|      W01-2016|                ALL|             ALL|                  NaN|               NaN|           2.0|           NaN|           NaN|\n",
      "|                S1|        208821|      W02-2016|                ALL|             ALL|                  NaN|               NaN|           2.0|           NaN|           NaN|\n",
      "|CurrentWorkingView|        208821|      W02-2016|                ALL|             ALL|                  NaN|               NaN|           2.0|           NaN|           NaN|\n",
      "|                S1|        208821|      W03-2016|                ALL|             ALL|                 58.0|               NaN|           2.0|           NaN|     37.206898|\n",
      "|CurrentWorkingView|        208821|      W03-2016|                ALL|             ALL|                 58.0|               NaN|           2.0|           NaN|     37.206898|\n",
      "|                S1|        208821|      W04-2016|                ALL|             ALL|                 45.0|               NaN|           2.0|           NaN|      39.11111|\n",
      "|CurrentWorkingView|        208821|      W04-2016|                ALL|             ALL|                 45.0|               NaN|           2.0|           NaN|      39.11111|\n",
      "|                S1|        208821|      W05-2016|                ALL|             ALL|                 51.0|               NaN|           2.0|           NaN|      40.54902|\n",
      "|CurrentWorkingView|        208821|      W05-2016|                ALL|             ALL|                 51.0|               NaN|           2.0|           NaN|      40.54902|\n",
      "|                S1|        208821|      W06-2016|                ALL|             ALL|                  NaN|               NaN|           2.0|           NaN|           NaN|\n",
      "|CurrentWorkingView|        208821|      W06-2016|                ALL|             ALL|                  NaN|               NaN|           2.0|           NaN|           NaN|\n",
      "+------------------+--------------+--------------+-------------------+----------------+---------------------+------------------+--------------+--------------+--------------+\n",
      "only showing top 20 rows"
     ]
    }
   ],
   "source": [
    "predict_df.show()"
   ]
  },
  {
   "cell_type": "code",
   "execution_count": 15,
   "id": "0ef57b1a-7903-45ed-9907-33ff2b020c1f",
   "metadata": {},
   "outputs": [
    {
     "data": {
      "application/vnd.jupyter.widget-view+json": {
       "model_id": "",
       "version_major": 2,
       "version_minor": 0
      },
      "text/plain": [
       "FloatProgress(value=0.0, bar_style='info', description='Progress:', layout=Layout(height='25px', width='50%'),…"
      ]
     },
     "metadata": {},
     "output_type": "display_data"
    },
    {
     "name": "stdout",
     "output_type": "stream",
     "text": [
      "2024-05-13 10:34:09,655 - o9_logger - DEBUG - predict_df dataframe:  320\n",
      "2024-05-13 10:34:10,024 - o9_logger - DEBUG - liveinput dataframe:  421570\n",
      "2024-05-13 10:34:10,025 - o9_logger - DEBUG - script param var1 value: 20\n",
      "2024-05-13 10:34:10,025 - o9_logger - DEBUG - script param var2 value: Test1"
     ]
    }
   ],
   "source": [
    "#user script\n",
    "\n",
    "# package imports\n",
    "import logging\n",
    "from sklearn import tree\n",
    "\n",
    "# initialize output variables\n",
    "output1 = None\n",
    "output2 = None\n",
    "\n",
    "\n",
    "# initialize logger\n",
    "logger = logging.getLogger('o9_logger')\n",
    "\n",
    "logger.debug(f'predict_df dataframe:  {predict_df.count()}')\n",
    "\n",
    "logger.debug(f'liveinput dataframe:  {ReportName.count()}')\n",
    "logger.debug(f'script param var1 value: {value1}')\n",
    "logger.debug(f'script param var2 value: {value2}')"
   ]
  },
  {
   "cell_type": "code",
   "execution_count": 16,
   "id": "4e113eed-ffda-4e09-ba58-a598d4e920f1",
   "metadata": {},
   "outputs": [
    {
     "data": {
      "application/vnd.jupyter.widget-view+json": {
       "model_id": "",
       "version_major": 2,
       "version_minor": 0
      },
      "text/plain": [
       "FloatProgress(value=0.0, bar_style='info', description='Progress:', layout=Layout(height='25px', width='50%'),…"
      ]
     },
     "metadata": {},
     "output_type": "display_data"
    },
    {
     "name": "stdout",
     "output_type": "stream",
     "text": [
      "2024-05-13 10:34:14,511 - o9_logger - DEBUG - systemreport dataframe:  Row(WalmartTimeDay='02-05-2010', DepartmentDepartmentID='1', StoreStoreID='1', WeeklySales=24924.5)"
     ]
    }
   ],
   "source": [
    "output1 = ReportName\n",
    "logger.debug(f'systemreport dataframe:  {ReportName.head()}')"
   ]
  },
  {
   "cell_type": "code",
   "execution_count": null,
   "id": "54da6929-5d18-4793-a4b5-15a1a2277423",
   "metadata": {},
   "outputs": [],
   "source": [
    "#pushing outputs to Live Server(make sure all dimensions,measures present in LiveServer)\n",
    "O9DataLake.put('output1', output1)\n"
   ]
  },
  {
   "cell_type": "code",
   "execution_count": 17,
   "id": "e9f5f657-15b8-4f49-94da-04722a334c6b",
   "metadata": {},
   "outputs": [
    {
     "data": {
      "application/vnd.jupyter.widget-view+json": {
       "model_id": "",
       "version_major": 2,
       "version_minor": 0
      },
      "text/plain": [
       "FloatProgress(value=0.0, bar_style='info', description='Progress:', layout=Layout(height='25px', width='50%'),…"
      ]
     },
     "metadata": {},
     "output_type": "display_data"
    },
    {
     "name": "stdout",
     "output_type": "stream",
     "text": [
      "Completed"
     ]
    }
   ],
   "source": [
    "print(\"Completed\")"
   ]
  },
  {
   "cell_type": "code",
   "execution_count": null,
   "id": "097ab83d-6e78-4a6d-ae07-ed9ff1d178c4",
   "metadata": {},
   "outputs": [],
   "source": []
  }
 ],
 "metadata": {
  "kernelspec": {
   "display_name": "[pyplatformhivetest] Tenant Conda Environment",
   "language": "python",
   "name": "genieaz_pyplatformhivetest"
  },
  "language_info": {
   "codemirror_mode": {
    "name": "ipython",
    "version": 3
   },
   "file_extension": ".py",
   "mimetype": "text/x-python",
   "name": "python",
   "nbconvert_exporter": "python",
   "pygments_lexer": "ipython3",
   "version": "3.7.10"
  }
 },
 "nbformat": 4,
 "nbformat_minor": 5
}
