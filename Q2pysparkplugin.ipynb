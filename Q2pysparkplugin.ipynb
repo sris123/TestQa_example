{
 "cells": [
  {
   "cell_type": "code",
   "execution_count": 3,
   "id": "a6f85f1d-2d84-4407-a851-b9100684dc83",
   "metadata": {},
   "outputs": [
    {
     "data": {
      "application/vnd.jupyter.widget-view+json": {
       "model_id": "",
       "version_major": 2,
       "version_minor": 0
      },
      "text/plain": [
       "FloatProgress(value=0.0, bar_style='info', description='Progress:', layout=Layout(height='25px', width='50%'),…"
      ]
     },
     "metadata": {},
     "output_type": "display_data"
    }
   ],
   "source": [
    "_predict_df = \"select (Version.[Version Name]*Product.[Product].[196426]*Time.FiscalWeek*SalesAccount.[Account]*Location.[Location]*{Measure.[DPSellOutUnitsActuals],Measure.[Mean Pricing Save PCT],Measure.[Placement Count],Measure.[Promotion Count],Measure.[DPSellOutPrice]});\"\n",
    "\n",
    "from o9_common_utils.O9DataLake import O9DataLake, ResourceType, DataSource,PluginSetting\n",
    "\n",
    "# register inputs\n",
    "predict_df = O9DataLake.register(\"predict_df\",data_source = DataSource.LS, entity_type = ResourceType.IBPL, query = _predict_df,plugin_setting = PluginSetting.Inputs,spark = spark)\n",
    "\n",
    "\n",
    "# register slice dimension\n",
    "O9DataLake.register(\"Product.[Product]\", data_source = DataSource.LS, entity_type = ResourceType.IBPL, plugin_setting = PluginSetting.SliceDimension)\n",
    "\n",
    "# register outputs\n",
    "O9DataLake.register(\"output1\",data_source = DataSource.LS,entity_type = ResourceType.IBPL, plugin_setting = PluginSetting.Outputs)\n",
    "\n",
    "# register script params\n",
    "script_params = O9DataLake.register({\"var1\":\"10\",\"var2\":\"Test1\"}, data_source = DataSource.LS, plugin_setting = PluginSetting.ScriptParam)"
   ]
  },
  {
   "cell_type": "code",
   "execution_count": 10,
   "id": "df0428e7-684b-4517-b85d-9538b228f433",
   "metadata": {},
   "outputs": [
    {
     "data": {
      "application/vnd.jupyter.widget-view+json": {
       "model_id": "",
       "version_major": 2,
       "version_minor": 0
      },
      "text/plain": [
       "FloatProgress(value=0.0, bar_style='info', description='Progress:', layout=Layout(height='25px', width='50%'),…"
      ]
     },
     "metadata": {},
     "output_type": "display_data"
    }
   ],
   "source": [
    "ReportName = O9DataLake.register(\"ReportName\",data_source = DataSource.LIVEFRAME,entity_type = ResourceType.LIVEFRAME,plugin_setting = PluginSetting.Inputs,spark = spark)"
   ]
  },
  {
   "cell_type": "code",
   "execution_count": 11,
   "id": "b4bba8c8-ade7-4cfa-869c-2bdab63883ad",
   "metadata": {},
   "outputs": [
    {
     "data": {
      "application/vnd.jupyter.widget-view+json": {
       "model_id": "",
       "version_major": 2,
       "version_minor": 0
      },
      "text/plain": [
       "FloatProgress(value=0.0, bar_style='info', description='Progress:', layout=Layout(height='25px', width='50%'),…"
      ]
     },
     "metadata": {},
     "output_type": "display_data"
    },
    {
     "name": "stdout",
     "output_type": "stream",
     "text": [
      "<class 'pyspark.sql.dataframe.DataFrame'>"
     ]
    }
   ],
   "source": [
    "type(ReportName)"
   ]
  },
  {
   "cell_type": "code",
   "execution_count": 9,
   "id": "ea5c3602-de68-49f6-b2e8-28ea1159f4af",
   "metadata": {},
   "outputs": [
    {
     "data": {
      "application/vnd.jupyter.widget-view+json": {
       "model_id": "",
       "version_major": 2,
       "version_minor": 0
      },
      "text/plain": [
       "FloatProgress(value=0.0, bar_style='info', description='Progress:', layout=Layout(height='25px', width='50%'),…"
      ]
     },
     "metadata": {},
     "output_type": "display_data"
    },
    {
     "name": "stdout",
     "output_type": "stream",
     "text": [
      "+--------------+----------------------+------------+-----------+\n",
      "|WalmartTimeDay|DepartmentDepartmentID|StoreStoreID|WeeklySales|\n",
      "+--------------+----------------------+------------+-----------+\n",
      "|    02-05-2010|                     1|           1|    24924.5|\n",
      "|    02-05-2010|                     1|          10|   40212.84|\n",
      "|    02-05-2010|                     1|          11|   19611.13|\n",
      "|    02-05-2010|                     1|          12|   17426.75|\n",
      "|    02-05-2010|                     1|          13|    46761.9|\n",
      "|    02-05-2010|                     1|          14|   32842.31|\n",
      "|    02-05-2010|                     1|          15|   12239.38|\n",
      "|    02-05-2010|                     1|          16|   12786.85|\n",
      "|    02-05-2010|                     1|          17|   20304.23|\n",
      "|    02-05-2010|                     1|          18|   22252.71|\n",
      "|    02-05-2010|                     1|          19|   21500.58|\n",
      "|    02-05-2010|                     1|           2|   35034.06|\n",
      "|    02-05-2010|                     1|          20|   46021.21|\n",
      "|    02-05-2010|                     1|          21|   15501.96|\n",
      "|    02-05-2010|                     1|          22|   20686.31|\n",
      "|    02-05-2010|                     1|          23|   32452.79|\n",
      "|    02-05-2010|                     1|          24|   17309.89|\n",
      "|    02-05-2010|                     1|          25|   17778.48|\n",
      "|    02-05-2010|                     1|          26|   22926.65|\n",
      "|    02-05-2010|                     1|          27|   32313.79|\n",
      "+--------------+----------------------+------------+-----------+\n",
      "only showing top 20 rows"
     ]
    }
   ],
   "source": [
    "ReportName.show()"
   ]
  },
  {
   "cell_type": "code",
   "execution_count": 13,
   "id": "4c29dba2-cf94-4ffc-895d-0f8e19f9064d",
   "metadata": {},
   "outputs": [
    {
     "data": {
      "application/vnd.jupyter.widget-view+json": {
       "model_id": "",
       "version_major": 2,
       "version_minor": 0
      },
      "text/plain": [
       "FloatProgress(value=0.0, bar_style='info', description='Progress:', layout=Layout(height='25px', width='50%'),…"
      ]
     },
     "metadata": {},
     "output_type": "display_data"
    }
   ],
   "source": [
    "# fetching inputs\n",
    "predict_df = O9DataLake.get('predict_df')\n",
    "\n",
    "ReportName = O9DataLake.get('ReportName')\n",
    "# fetching script params\n",
    "value1 = O9DataLake.get_script_param(\"var1\")\n",
    "value2 = O9DataLake.get_script_param(\"var2\")"
   ]
  },
  {
   "cell_type": "code",
   "execution_count": 14,
   "id": "b58e7d19-ae9c-4874-9e47-34f7692d6e7e",
   "metadata": {
    "tags": [
     "o9_ignore"
    ]
   },
   "outputs": [
    {
     "data": {
      "application/vnd.jupyter.widget-view+json": {
       "model_id": "",
       "version_major": 2,
       "version_minor": 0
      },
      "text/plain": [
       "FloatProgress(value=0.0, bar_style='info', description='Progress:', layout=Layout(height='25px', width='50%'),…"
      ]
     },
     "metadata": {},
     "output_type": "display_data"
    },
    {
     "name": "stdout",
     "output_type": "stream",
     "text": [
      "+------------------+--------------+--------------+-------------------+----------------+---------------------+------------------+--------------+--------------+--------------+\n",
      "|VersionVersionName|ProductProduct|TimeFiscalWeek|SalesAccountAccount|LocationLocation|DPSellOutUnitsActuals|MeanPricingSavePCT|PlacementCount|PromotionCount|DPSellOutPrice|\n",
      "+------------------+--------------+--------------+-------------------+----------------+---------------------+------------------+--------------+--------------+--------------+\n",
      "|                S1|        196426|      W03-2016|                ALL|             ALL|                  1.0|               NaN|           NaN|           NaN|           6.0|\n",
      "|CurrentWorkingView|        196426|      W03-2016|                ALL|             ALL|                  1.0|               NaN|           NaN|           NaN|           6.0|\n",
      "|                S1|        196426|      W05-2016|                ALL|             ALL|                  2.0|               NaN|           NaN|           NaN|           9.5|\n",
      "|CurrentWorkingView|        196426|      W05-2016|                ALL|             ALL|                  2.0|               NaN|           NaN|           NaN|           9.5|\n",
      "|                S1|        196426|      W08-2016|                ALL|             ALL|                  1.0|               NaN|           NaN|           NaN|           6.0|\n",
      "|CurrentWorkingView|        196426|      W08-2016|                ALL|             ALL|                  1.0|               NaN|           NaN|           NaN|           6.0|\n",
      "|                S1|        196426|      W13-2016|                ALL|             ALL|                  1.0|               NaN|           NaN|           NaN|          13.0|\n",
      "|CurrentWorkingView|        196426|      W13-2016|                ALL|             ALL|                  1.0|               NaN|           NaN|           NaN|          13.0|\n",
      "|                S1|        196426|      W48-2016|                ALL|             ALL|                  1.0|               NaN|           NaN|           NaN|          13.0|\n",
      "|CurrentWorkingView|        196426|      W48-2016|                ALL|             ALL|                  1.0|               NaN|           NaN|           NaN|          13.0|\n",
      "|                S1|        196426|      W42-2017|                ALL|             ALL|                  1.0|               NaN|           NaN|           NaN|          13.0|\n",
      "|CurrentWorkingView|        196426|      W42-2017|                ALL|             ALL|                  1.0|               NaN|           NaN|           NaN|          13.0|\n",
      "|                S1|        196426|      W44-2017|                ALL|             ALL|                  1.0|               NaN|           NaN|           NaN|          13.0|\n",
      "|CurrentWorkingView|        196426|      W44-2017|                ALL|             ALL|                  1.0|               NaN|           NaN|           NaN|          13.0|\n",
      "+------------------+--------------+--------------+-------------------+----------------+---------------------+------------------+--------------+--------------+--------------+"
     ]
    }
   ],
   "source": [
    "predict_df.show()"
   ]
  },
  {
   "cell_type": "code",
   "execution_count": 15,
   "id": "0ef57b1a-7903-45ed-9907-33ff2b020c1f",
   "metadata": {},
   "outputs": [
    {
     "data": {
      "application/vnd.jupyter.widget-view+json": {
       "model_id": "",
       "version_major": 2,
       "version_minor": 0
      },
      "text/plain": [
       "FloatProgress(value=0.0, bar_style='info', description='Progress:', layout=Layout(height='25px', width='50%'),…"
      ]
     },
     "metadata": {},
     "output_type": "display_data"
    },
    {
     "name": "stdout",
     "output_type": "stream",
     "text": [
      "2024-05-12 15:37:02,806 - o9_logger - DEBUG - predict_df dataframe:  14\n",
      "2024-05-12 15:37:03,293 - o9_logger - DEBUG - liveinput dataframe:  421570\n",
      "2024-05-12 15:37:03,293 - o9_logger - DEBUG - script param var1 value: 10\n",
      "2024-05-12 15:37:03,294 - o9_logger - DEBUG - script param var2 value: Test1"
     ]
    }
   ],
   "source": [
    "#user script\n",
    "\n",
    "# package imports\n",
    "import logging\n",
    "from sklearn import tree\n",
    "\n",
    "# initialize output variables\n",
    "output1 = None\n",
    "output2 = None\n",
    "\n",
    "\n",
    "# initialize logger\n",
    "logger = logging.getLogger('o9_logger')\n",
    "\n",
    "logger.debug(f'predict_df dataframe:  {predict_df.count()}')\n",
    "\n",
    "logger.debug(f'liveinput dataframe:  {ReportName.count()}')\n",
    "logger.debug(f'script param var1 value: {value1}')\n",
    "logger.debug(f'script param var2 value: {value2}')"
   ]
  },
  {
   "cell_type": "code",
   "execution_count": 17,
   "id": "4e113eed-ffda-4e09-ba58-a598d4e920f1",
   "metadata": {},
   "outputs": [
    {
     "data": {
      "application/vnd.jupyter.widget-view+json": {
       "model_id": "",
       "version_major": 2,
       "version_minor": 0
      },
      "text/plain": [
       "FloatProgress(value=0.0, bar_style='info', description='Progress:', layout=Layout(height='25px', width='50%'),…"
      ]
     },
     "metadata": {},
     "output_type": "display_data"
    },
    {
     "name": "stdout",
     "output_type": "stream",
     "text": [
      "2024-05-12 15:37:37,925 - o9_logger - DEBUG - systemreport dataframe:  Row(WalmartTimeDay='02-05-2010', DepartmentDepartmentID='1', StoreStoreID='1', WeeklySales=24924.5)"
     ]
    }
   ],
   "source": [
    "output1 = ReportName\n",
    "logger.debug(f'systemreport dataframe:  {ReportName.head()}')"
   ]
  },
  {
   "cell_type": "code",
   "execution_count": null,
   "id": "54da6929-5d18-4793-a4b5-15a1a2277423",
   "metadata": {},
   "outputs": [],
   "source": [
    "#pushing outputs to Live Server(make sure all dimensions,measures present in LiveServer)\n",
    "O9DataLake.put('output1', output1)\n"
   ]
  }
 ],
 "metadata": {
  "kernelspec": {
   "display_name": "[pyplatformhivetest] Tenant Conda Environment",
   "language": "python",
   "name": "genieaz_pyplatformhivetest"
  },
  "language_info": {
   "codemirror_mode": {
    "name": "ipython",
    "version": 3
   },
   "file_extension": ".py",
   "mimetype": "text/x-python",
   "name": "python",
   "nbconvert_exporter": "python",
   "pygments_lexer": "ipython3",
   "version": "3.7.10"
  }
 },
 "nbformat": 4,
 "nbformat_minor": 5
}
