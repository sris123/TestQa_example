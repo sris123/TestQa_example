{
 "cells": [
  {
   "cell_type": "code",
   "execution_count": 6,
   "id": "b43209c6-e2b7-48c0-96d5-e8f4270305fd",
   "metadata": {},
   "outputs": [
    {
     "data": {
      "application/vnd.jupyter.widget-view+json": {
       "model_id": "",
       "version_major": 2,
       "version_minor": 0
      },
      "text/plain": [
       "FloatProgress(value=0.0, bar_style='info', description='Progress:', layout=Layout(height='25px', width='50%'),…"
      ]
     },
     "metadata": {},
     "output_type": "display_data"
    }
   ],
   "source": [
    "_predict_df = \"select (Version.[Version Name]*Product.[Product].[208821]*Time.FiscalWeek*SalesAccount.[Account]*Location.[Location]*{Measure.[DPSellOutUnitsActuals],Measure.[Mean Pricing Save PCT],Measure.[Placement Count],Measure.[Promotion Count],Measure.[DPSellOutPrice]});\"\n",
    "\n",
    "from o9_common_utils.O9DataLake import O9DataLake, ResourceType, DataSource,PluginSetting\n",
    "\n",
    "# register inputs\n",
    "predict_df = O9DataLake.register(\"predict_df\",data_source = DataSource.LS, entity_type = ResourceType.IBPL, query = _predict_df,plugin_setting = PluginSetting.Inputs,spark = spark)\n",
    "\n",
    "\n",
    "# register slice dimension\n",
    "O9DataLake.register(\"Product.[Product]\", data_source = DataSource.LS, entity_type = ResourceType.IBPL, plugin_setting = PluginSetting.SliceDimension)\n",
    "\n",
    "# register outputs\n",
    "O9DataLake.register(\"output1\",data_source = DataSource.LS,entity_type = ResourceType.IBPL, plugin_setting = PluginSetting.Outputs)\n",
    "\n",
    "# register script params\n",
    "script_params = O9DataLake.register({\"var1\":\"20\",\"var2\":\"Test1\",\"newparam\":\"new\"}, data_source = DataSource.LS, plugin_setting = PluginSetting.ScriptParam)"
   ]
  },
  {
   "cell_type": "code",
   "execution_count": 7,
   "id": "0516496b-dd96-460e-a481-c02e08a959d4",
   "metadata": {},
   "outputs": [
    {
     "data": {
      "application/vnd.jupyter.widget-view+json": {
       "model_id": "",
       "version_major": 2,
       "version_minor": 0
      },
      "text/plain": [
       "FloatProgress(value=0.0, bar_style='info', description='Progress:', layout=Layout(height='25px', width='50%'),…"
      ]
     },
     "metadata": {},
     "output_type": "display_data"
    },
    {
     "name": "stdout",
     "output_type": "stream",
     "text": [
      "<class 'pyspark.sql.dataframe.DataFrame'>"
     ]
    }
   ],
   "source": [
    "type(predict_df)"
   ]
  },
  {
   "cell_type": "code",
   "execution_count": 8,
   "id": "00a8a28c-8f72-420f-b2e7-f2b6e7645f31",
   "metadata": {},
   "outputs": [
    {
     "data": {
      "application/vnd.jupyter.widget-view+json": {
       "model_id": "",
       "version_major": 2,
       "version_minor": 0
      },
      "text/plain": [
       "FloatProgress(value=0.0, bar_style='info', description='Progress:', layout=Layout(height='25px', width='50%'),…"
      ]
     },
     "metadata": {},
     "output_type": "display_data"
    },
    {
     "name": "stdout",
     "output_type": "stream",
     "text": [
      "320"
     ]
    }
   ],
   "source": [
    "predict_df.count()"
   ]
  },
  {
   "cell_type": "code",
   "execution_count": 9,
   "id": "6e215592-744e-4734-abd8-d4b7d17a32aa",
   "metadata": {},
   "outputs": [
    {
     "data": {
      "application/vnd.jupyter.widget-view+json": {
       "model_id": "",
       "version_major": 2,
       "version_minor": 0
      },
      "text/plain": [
       "FloatProgress(value=0.0, bar_style='info', description='Progress:', layout=Layout(height='25px', width='50%'),…"
      ]
     },
     "metadata": {},
     "output_type": "display_data"
    },
    {
     "name": "stdout",
     "output_type": "stream",
     "text": [
      "+------------------+--------------+--------------+-------------------+----------------+---------------------+------------------+--------------+--------------+--------------+\n",
      "|VersionVersionName|ProductProduct|TimeFiscalWeek|SalesAccountAccount|LocationLocation|DPSellOutUnitsActuals|MeanPricingSavePCT|PlacementCount|PromotionCount|DPSellOutPrice|\n",
      "+------------------+--------------+--------------+-------------------+----------------+---------------------+------------------+--------------+--------------+--------------+\n",
      "|                S1|        208821|      W49-2015|                ALL|             ALL|                  NaN|               NaN|           2.0|           NaN|           NaN|\n",
      "|CurrentWorkingView|        208821|      W49-2015|                ALL|             ALL|                  NaN|               NaN|           2.0|           NaN|           NaN|\n",
      "|                S1|        208821|      W50-2015|                ALL|             ALL|                  NaN|               NaN|           2.0|           NaN|           NaN|\n",
      "|CurrentWorkingView|        208821|      W50-2015|                ALL|             ALL|                  NaN|               NaN|           2.0|           NaN|           NaN|\n",
      "|                S1|        208821|      W51-2015|                ALL|             ALL|                  NaN|               NaN|           2.0|           NaN|           NaN|\n",
      "|CurrentWorkingView|        208821|      W51-2015|                ALL|             ALL|                  NaN|               NaN|           2.0|           NaN|           NaN|\n",
      "|                S1|        208821|      W52-2015|                ALL|             ALL|                  NaN|               NaN|           2.0|           NaN|           NaN|\n",
      "|CurrentWorkingView|        208821|      W52-2015|                ALL|             ALL|                  NaN|               NaN|           2.0|           NaN|           NaN|\n",
      "|                S1|        208821|      W01-2016|                ALL|             ALL|                  NaN|               NaN|           2.0|           NaN|           NaN|\n",
      "|CurrentWorkingView|        208821|      W01-2016|                ALL|             ALL|                  NaN|               NaN|           2.0|           NaN|           NaN|\n",
      "|                S1|        208821|      W02-2016|                ALL|             ALL|                  NaN|               NaN|           2.0|           NaN|           NaN|\n",
      "|CurrentWorkingView|        208821|      W02-2016|                ALL|             ALL|                  NaN|               NaN|           2.0|           NaN|           NaN|\n",
      "|                S1|        208821|      W03-2016|                ALL|             ALL|                 58.0|               NaN|           2.0|           NaN|     37.206898|\n",
      "|CurrentWorkingView|        208821|      W03-2016|                ALL|             ALL|                 58.0|               NaN|           2.0|           NaN|     37.206898|\n",
      "|                S1|        208821|      W04-2016|                ALL|             ALL|                 45.0|               NaN|           2.0|           NaN|      39.11111|\n",
      "|CurrentWorkingView|        208821|      W04-2016|                ALL|             ALL|                 45.0|               NaN|           2.0|           NaN|      39.11111|\n",
      "|                S1|        208821|      W05-2016|                ALL|             ALL|                 51.0|               NaN|           2.0|           NaN|      40.54902|\n",
      "|CurrentWorkingView|        208821|      W05-2016|                ALL|             ALL|                 51.0|               NaN|           2.0|           NaN|      40.54902|\n",
      "|                S1|        208821|      W06-2016|                ALL|             ALL|                  NaN|               NaN|           2.0|           NaN|           NaN|\n",
      "|CurrentWorkingView|        208821|      W06-2016|                ALL|             ALL|                  NaN|               NaN|           2.0|           NaN|           NaN|\n",
      "+------------------+--------------+--------------+-------------------+----------------+---------------------+------------------+--------------+--------------+--------------+\n",
      "only showing top 20 rows"
     ]
    }
   ],
   "source": [
    "predict_df.show()"
   ]
  },
  {
   "cell_type": "code",
   "execution_count": 10,
   "id": "7db10fea-1ace-4df8-ba7f-50571ef43955",
   "metadata": {},
   "outputs": [
    {
     "data": {
      "application/vnd.jupyter.widget-view+json": {
       "model_id": "",
       "version_major": 2,
       "version_minor": 0
      },
      "text/plain": [
       "FloatProgress(value=0.0, bar_style='info', description='Progress:', layout=Layout(height='25px', width='50%'),…"
      ]
     },
     "metadata": {},
     "output_type": "display_data"
    }
   ],
   "source": [
    "# fetching inputs\n",
    "predict_df = O9DataLake.get('predict_df')\n",
    "\n",
    "\n",
    "# fetching script params\n",
    "value1 = O9DataLake.get_script_param(\"var1\")\n",
    "value2 = O9DataLake.get_script_param(\"var2\")"
   ]
  },
  {
   "cell_type": "code",
   "execution_count": 11,
   "id": "0708d07e-41fb-4253-858e-d3515d420319",
   "metadata": {},
   "outputs": [
    {
     "data": {
      "application/vnd.jupyter.widget-view+json": {
       "model_id": "",
       "version_major": 2,
       "version_minor": 0
      },
      "text/plain": [
       "FloatProgress(value=0.0, bar_style='info', description='Progress:', layout=Layout(height='25px', width='50%'),…"
      ]
     },
     "metadata": {},
     "output_type": "display_data"
    },
    {
     "name": "stdout",
     "output_type": "stream",
     "text": [
      "2024-06-12 16:33:44,567 - o9_logger - DEBUG - predict_df dataframe:  320\n",
      "2024-06-12 16:33:44,568 - o9_logger - DEBUG - script param var1 value: 20\n",
      "2024-06-12 16:33:44,568 - o9_logger - DEBUG - script param var2 value: Test1"
     ]
    }
   ],
   "source": [
    "#user script\n",
    "\n",
    "# package imports\n",
    "import logging\n",
    "from sklearn import tree\n",
    "\n",
    "# initialize output variables\n",
    "output1 = None\n",
    "output2 = None\n",
    "\n",
    "\n",
    "# initialize logger\n",
    "logger = logging.getLogger('o9_logger')\n",
    "\n",
    "logger.debug(f'predict_df dataframe:  {predict_df.count()}')\n",
    "\n",
    "\n",
    "logger.debug(f'script param var1 value: {value1}')\n",
    "logger.debug(f'script param var2 value: {value2}')"
   ]
  },
  {
   "cell_type": "code",
   "execution_count": null,
   "id": "5251c78f-5ccc-4cdd-b399-1122484669ec",
   "metadata": {},
   "outputs": [],
   "source": []
  }
 ],
 "metadata": {
  "kernelspec": {
   "display_name": "[autodsml2] Tenant Conda Environment",
   "language": "python",
   "name": "genieaz_autodsml2"
  },
  "language_info": {
   "codemirror_mode": {
    "name": "ipython",
    "version": 3
   },
   "file_extension": ".py",
   "mimetype": "text/x-python",
   "name": "python",
   "nbconvert_exporter": "python",
   "pygments_lexer": "ipython3",
   "version": "3.10.5"
  }
 },
 "nbformat": 4,
 "nbformat_minor": 5
}
