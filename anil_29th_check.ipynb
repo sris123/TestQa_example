{
  "cells": [
    {
      "cell_type": "code",
      "execution_count": null,
      "id": "ea1157a1-9a0a-4596-a88f-e4f444f844cc",
      "metadata": {},
      "outputs": [],
      "source": []
    }
  ],
  "metadata": {
    "kernelspec": {
      "display_name": "[autodsml2] Tenant Conda Environment",
      "language": "python",
      "name": "k8qa_autodsml2"
    },
    "language_info": {
      "codemirror_mode": {
        "name": "ipython",
        "version": 3
      },
      "file_extension": ".py",
      "mimetype": "text/x-python",
      "name": "python",
      "nbconvert_exporter": "python",
      "pygments_lexer": "ipython3",
      "version": "3.7.10"
    },
    "id": "cba98363-3a82-44e0-82b6-16219dfbcc1c"
  },
  "nbformat": 4,
  "nbformat_minor": 5
}