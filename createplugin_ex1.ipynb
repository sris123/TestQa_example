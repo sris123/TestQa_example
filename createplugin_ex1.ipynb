{
 "cells": [
  {
   "cell_type": "code",
   "execution_count": 5,
   "id": "7d652bd0-fcb1-4f48-a227-eb5e970fd886",
   "metadata": {},
   "outputs": [],
   "source": [
    "from o9_common_utils.O9DataLake import O9DataLake, ResourceType, DataSource\n",
    "query1 = \"select (Version.[Version Name]);\"\n",
    "query2 = \"select (Version.[Version Name]);\"\n",
    "O9DataLake.register(\"sales_df\",DataSource.LS, ResourceType.IBPL, query1) \n",
    "O9DataLake.register(\"DPBaseInputs\",DataSource.LS, ResourceType.IBPL, query2)"
   ]
  },
  {
   "cell_type": "code",
   "execution_count": 2,
   "id": "5559e649-38ab-421d-a5c7-2e2f65fd1a8a",
   "metadata": {},
   "outputs": [
    {
     "name": "stdout",
     "output_type": "stream",
     "text": [
      "2022-09-22 09:21:02,866 : srishtisingh_5502 :IbplClient: WebApi Request Url = [https://mygenieazure.o9solutions.com/api/ibplquery/5502/ExecuteCompactJsonQuery]\n",
      "2022-09-22 09:21:03,048 : srishtisingh_5502 :IbplClient: WebApi Request Url = [https://mygenieazure.o9solutions.com/api/ibplquery/5502/ExecuteCompactJsonQuery]\n",
      "2022-09-22 09:21:03,215 : srishtisingh_5502 :Records count in sales dataframe : (2, 1)\n",
      "2022-09-22 09:21:03,216 : srishtisingh_5502 :Records count in DPBaseInputs dataframe : (2, 1)\n",
      "2022-09-22 09:21:03,217 : srishtisingh_5502 :Hello warning\n",
      "2022-09-22 09:21:03,218 : srishtisingh_5502 :Hello error\n"
     ]
    }
   ],
   "source": [
    "#getting input from dataLake\n",
    "\n",
    "sales = O9DataLake.get('sales_df')\n",
    "dpbaseinputs = O9DataLake.get('DPBaseInputs')\n",
    "\n",
    "#User Script\n",
    "import logging\n",
    "out_df1 = None\n",
    "logger = logging.getLogger('o9_logger')\n",
    "logger.info(f'Records count in sales dataframe : {sales.shape}')\n",
    "logger.info(f'Records count in DPBaseInputs dataframe : {dpbaseinputs.shape}')\n",
    "logger.warning(\"Hello warning\")\n",
    "logger.error(\"Hello error\")\n",
    "\n",
    "#pushing output to the DataLake\n",
    "O9DataLake.put('out_df1',sales)"
   ]
  },
  {
   "cell_type": "code",
   "execution_count": null,
   "id": "3b43a5e9-9a52-43a0-8be3-55dc3f2c777a",
   "metadata": {},
   "outputs": [],
   "source": []
  }
 ],
 "metadata": {
  "kernelspec": {
   "display_name": "[pyplatformhivetest] Tenant Conda Environment",
   "language": "python",
   "name": "genieaz_pyplatformhivetest"
  },
  "language_info": {
   "codemirror_mode": {
    "name": "ipython",
    "version": 3
   },
   "file_extension": ".py",
   "mimetype": "text/x-python",
   "name": "python",
   "nbconvert_exporter": "python",
   "pygments_lexer": "ipython3",
   "version": "3.7.10"
  }
 },
 "nbformat": 4,
 "nbformat_minor": 5
}
