{
 "cells": [
  {
   "cell_type": "code",
   "execution_count": 4,
   "id": "168754c5-2a5f-470b-8e73-652da71d7f94",
   "metadata": {},
   "outputs": [],
   "source": [
    "_DPBaseInputs = \"select (Version.[Version Name]*Product.[Product].[196426]*Time.FiscalWeek*SalesAccount.[Account]*Location.[Location]*{Measure.[DPSellOutUnitsActuals],Measure.[Mean Pricing Save PCT],Measure.[Placement Count],Measure.[Promotion Count],Measure.[DPSellOutPrice]});\"\n",
    "_sales_df = \"select (Version.[Version Name]*Product.[Product].[196426]*Time.FiscalWeek*SalesAccount.[Account]*Location.[Location]*{Measure.[DPSellOutUnitsActuals],Measure.[Mean Pricing Save PCT],Measure.[Placement Count],Measure.[Promotion Count],Measure.[DPSellOutPrice]});\"\n",
    "\n",
    "\n",
    "# Initialize the O9DataLake with the input parameters and dataframes\n",
    "# Data can be accessed with O9DataLake.get(<Input Name>)\n",
    "# Overwritten values will not be reflected in the O9DataLake after initialization\n",
    "\n",
    "from o9_common_utils.O9DataLake import O9DataLake, ResourceType, DataSource,PluginSetting\n",
    "DPBaseInputs = O9DataLake.register(\"DPBaseInputs\",data_source = DataSource.LS, entity_type = ResourceType.IBPL, query = _DPBaseInputs,plugin_setting = PluginSetting.Inputs)\n",
    "sales_df = O9DataLake.register(\"sales_df\",data_source = DataSource.LS, entity_type = ResourceType.IBPL, query = _sales_df,plugin_setting = PluginSetting.Inputs)\n",
    "\n",
    "O9DataLake.register(\"PredictedSales\",data_source = DataSource.LS,entity_type = ResourceType.IBPL,plugin_setting = PluginSetting.Outputs)\n",
    "script_params = O9DataLake.register({\"var1\":10}, data_source = DataSource.LS,plugin_setting = PluginSetting.ScriptParam)"
   ]
  },
  {
   "cell_type": "code",
   "execution_count": 5,
   "id": "026763d3-e20b-4bd3-bbf0-19211e3a115e",
   "metadata": {},
   "outputs": [],
   "source": [
    "#getting inputs from DataLake\n",
    "sales = O9DataLake.get('sales_df')\n",
    "dpbaseinputs = O9DataLake.get('DPBaseInputs')"
   ]
  },
  {
   "cell_type": "code",
   "execution_count": 6,
   "id": "38a49fe9-ce36-454e-a08c-a0cce6a685f0",
   "metadata": {},
   "outputs": [
    {
     "data": {
      "text/plain": [
       "{'DPBaseInputs': {'name': 'DPBaseInputs',\n",
       "  'resource_type': <ResourceType.IBPL: 'ibpl_query'>,\n",
       "  'data_source': <DataSource.LS: 'liveserver'>,\n",
       "  'query': 'select (Version.[Version Name]*Product.[Product].[196426]*Time.FiscalWeek*SalesAccount.[Account]*Location.[Location]*{Measure.[DPSellOutUnitsActuals],Measure.[Mean Pricing Save PCT],Measure.[Placement Count],Measure.[Promotion Count],Measure.[DPSellOutPrice]});',\n",
       "  'std_count_limit': '200000',\n",
       "  'df':    Version.[Version Name]  Product.[Product] Time.[FiscalWeek]  \\\n",
       "  0                      S1             196426          W03-2016   \n",
       "  1      CurrentWorkingView             196426          W03-2016   \n",
       "  2                      S1             196426          W05-2016   \n",
       "  3      CurrentWorkingView             196426          W05-2016   \n",
       "  4                      S1             196426          W08-2016   \n",
       "  5      CurrentWorkingView             196426          W08-2016   \n",
       "  6                      S1             196426          W13-2016   \n",
       "  7      CurrentWorkingView             196426          W13-2016   \n",
       "  8                      S1             196426          W48-2016   \n",
       "  9      CurrentWorkingView             196426          W48-2016   \n",
       "  10                     S1             196426          W42-2017   \n",
       "  11     CurrentWorkingView             196426          W42-2017   \n",
       "  12                     S1             196426          W44-2017   \n",
       "  13     CurrentWorkingView             196426          W44-2017   \n",
       "  \n",
       "     SalesAccount.[Account] Location.[Location]  DPSellOutUnitsActuals  \\\n",
       "  0                     ALL                 ALL                      1   \n",
       "  1                     ALL                 ALL                     10   \n",
       "  2                     ALL                 ALL                      2   \n",
       "  3                     ALL                 ALL                     10   \n",
       "  4                     ALL                 ALL                      1   \n",
       "  5                     ALL                 ALL                     10   \n",
       "  6                     ALL                 ALL                      1   \n",
       "  7                     ALL                 ALL                     10   \n",
       "  8                     ALL                 ALL                      1   \n",
       "  9                     ALL                 ALL                     10   \n",
       "  10                    ALL                 ALL                      1   \n",
       "  11                    ALL                 ALL                     10   \n",
       "  12                    ALL                 ALL                      1   \n",
       "  13                    ALL                 ALL                     10   \n",
       "  \n",
       "      Mean Pricing Save PCT  Placement Count  Promotion Count  DPSellOutPrice  \n",
       "  0                     NaN               10               20              10  \n",
       "  1                     NaN               10               20              10  \n",
       "  2                     NaN               10               20              10  \n",
       "  3                     NaN               10               20              10  \n",
       "  4                     NaN               10               20              10  \n",
       "  5                     NaN               10               20              10  \n",
       "  6                     NaN               10               20              10  \n",
       "  7                     NaN               10               20              10  \n",
       "  8                     NaN               10               20              10  \n",
       "  9                     NaN               10               20              10  \n",
       "  10                    NaN               10               20              10  \n",
       "  11                    NaN               10               20              10  \n",
       "  12                    NaN               10               20              10  \n",
       "  13                    NaN               10               20              10  },\n",
       " 'sales_df': {'name': 'sales_df',\n",
       "  'resource_type': <ResourceType.IBPL: 'ibpl_query'>,\n",
       "  'data_source': <DataSource.LS: 'liveserver'>,\n",
       "  'query': 'select (Version.[Version Name]*Product.[Product].[196426]*Time.FiscalWeek*SalesAccount.[Account]*Location.[Location]*{Measure.[DPSellOutUnitsActuals],Measure.[Mean Pricing Save PCT],Measure.[Placement Count],Measure.[Promotion Count],Measure.[DPSellOutPrice]});',\n",
       "  'std_count_limit': '200000',\n",
       "  'df':    Version.[Version Name]  Product.[Product] Time.[FiscalWeek]  \\\n",
       "  0                      S1             196426          W03-2016   \n",
       "  1      CurrentWorkingView             196426          W03-2016   \n",
       "  2                      S1             196426          W05-2016   \n",
       "  3      CurrentWorkingView             196426          W05-2016   \n",
       "  4                      S1             196426          W08-2016   \n",
       "  5      CurrentWorkingView             196426          W08-2016   \n",
       "  6                      S1             196426          W13-2016   \n",
       "  7      CurrentWorkingView             196426          W13-2016   \n",
       "  8                      S1             196426          W48-2016   \n",
       "  9      CurrentWorkingView             196426          W48-2016   \n",
       "  10                     S1             196426          W42-2017   \n",
       "  11     CurrentWorkingView             196426          W42-2017   \n",
       "  12                     S1             196426          W44-2017   \n",
       "  13     CurrentWorkingView             196426          W44-2017   \n",
       "  \n",
       "     SalesAccount.[Account] Location.[Location]  DPSellOutUnitsActuals  \\\n",
       "  0                     ALL                 ALL                      1   \n",
       "  1                     ALL                 ALL                     10   \n",
       "  2                     ALL                 ALL                      2   \n",
       "  3                     ALL                 ALL                     10   \n",
       "  4                     ALL                 ALL                      1   \n",
       "  5                     ALL                 ALL                     10   \n",
       "  6                     ALL                 ALL                      1   \n",
       "  7                     ALL                 ALL                     10   \n",
       "  8                     ALL                 ALL                      1   \n",
       "  9                     ALL                 ALL                     10   \n",
       "  10                    ALL                 ALL                      1   \n",
       "  11                    ALL                 ALL                     10   \n",
       "  12                    ALL                 ALL                      1   \n",
       "  13                    ALL                 ALL                     10   \n",
       "  \n",
       "      Mean Pricing Save PCT  Placement Count  Promotion Count  DPSellOutPrice  \n",
       "  0                     NaN               10               20              10  \n",
       "  1                     NaN               10               20              10  \n",
       "  2                     NaN               10               20              10  \n",
       "  3                     NaN               10               20              10  \n",
       "  4                     NaN               10               20              10  \n",
       "  5                     NaN               10               20              10  \n",
       "  6                     NaN               10               20              10  \n",
       "  7                     NaN               10               20              10  \n",
       "  8                     NaN               10               20              10  \n",
       "  9                     NaN               10               20              10  \n",
       "  10                    NaN               10               20              10  \n",
       "  11                    NaN               10               20              10  \n",
       "  12                    NaN               10               20              10  \n",
       "  13                    NaN               10               20              10  }}"
      ]
     },
     "execution_count": 6,
     "metadata": {},
     "output_type": "execute_result"
    }
   ],
   "source": [
    "O9DataLake.inputs"
   ]
  },
  {
   "cell_type": "code",
   "execution_count": 7,
   "id": "ec728c6e-8f5a-42f8-ad34-4d7fa3631f90",
   "metadata": {},
   "outputs": [
    {
     "name": "stdout",
     "output_type": "stream",
     "text": [
      "2024-09-25 16:28:30,504 - o9_logger - INFO  - python plugin\n"
     ]
    }
   ],
   "source": [
    "#user script\n",
    "import logging\n",
    "out_df1 = None\n",
    "logger = logging.getLogger('o9_logger')\n",
    "logger.info(\"python plugin\")"
   ]
  },
  {
   "cell_type": "code",
   "execution_count": 8,
   "id": "c7870ced-dad1-494b-b262-154b5e1a8b63",
   "metadata": {},
   "outputs": [
    {
     "name": "stdout",
     "output_type": "stream",
     "text": [
      "Execute query api failed with following error - [\"Query Execution Failed with the following Errors:\\n9: line 1:15 at [@2,15:15=',',<321>,1:15]: no viable alternative at input 'uploaddatafile(,'\\r\\n6: Index was out of range. Must be non-negative and less than the size of the collection. (Parameter 'index')\\r\\n\"]\n"
     ]
    },
    {
     "ename": "TypeError",
     "evalue": "the JSON object must be str, bytes or bytearray, not dict",
     "output_type": "error",
     "traceback": [
      "\u001b[0;31m---------------------------------------------------------------------------\u001b[0m",
      "\u001b[0;31mTypeError\u001b[0m                                 Traceback (most recent call last)",
      "Cell \u001b[0;32mIn[8], line 2\u001b[0m\n\u001b[1;32m      1\u001b[0m \u001b[38;5;66;03m#pushing outputs to DataLake\u001b[39;00m\n\u001b[0;32m----> 2\u001b[0m \u001b[43mO9DataLake\u001b[49m\u001b[38;5;241;43m.\u001b[39;49m\u001b[43mput\u001b[49m\u001b[43m(\u001b[49m\u001b[38;5;124;43m'\u001b[39;49m\u001b[38;5;124;43mout_df1\u001b[39;49m\u001b[38;5;124;43m'\u001b[39;49m\u001b[43m,\u001b[49m\u001b[43m \u001b[49m\u001b[43msales\u001b[49m\u001b[43m)\u001b[49m\n",
      "File \u001b[0;32m/opt/conda/envs/k8qa_autodsml2/lib/python3.10/site-packages/o9_common_utils/O9DataLake.py:637\u001b[0m, in \u001b[0;36mO9DataLake.put\u001b[0;34m(key, df)\u001b[0m\n\u001b[1;32m    635\u001b[0m     file_path \u001b[38;5;241m=\u001b[39m os\u001b[38;5;241m.\u001b[39mpath\u001b[38;5;241m.\u001b[39mjoin(path, key)\n\u001b[1;32m    636\u001b[0m     df\u001b[38;5;241m.\u001b[39mto_csv(file_path, index\u001b[38;5;241m=\u001b[39m\u001b[38;5;28;01mFalse\u001b[39;00m)\n\u001b[0;32m--> 637\u001b[0m     \u001b[43mO9UploadOperator\u001b[49m\u001b[43m(\u001b[49m\u001b[43mlogger\u001b[49m\u001b[38;5;241;43m=\u001b[39;49m\u001b[43mO9DataLake\u001b[49m\u001b[38;5;241;43m.\u001b[39;49m\u001b[43msys_logger\u001b[49m\u001b[43m)\u001b[49m\u001b[38;5;241;43m.\u001b[39;49m\u001b[43mexecute\u001b[49m\u001b[43m(\u001b[49m\u001b[43mfile_path\u001b[49m\u001b[38;5;241;43m=\u001b[39;49m\u001b[43mfile_path\u001b[49m\u001b[43m)\u001b[49m\n\u001b[1;32m    638\u001b[0m     O9DataLake\u001b[38;5;241m.\u001b[39moutputs[key] \u001b[38;5;241m=\u001b[39m df\n\u001b[1;32m    639\u001b[0m \u001b[38;5;28;01melse\u001b[39;00m:\n",
      "File \u001b[0;32m/opt/conda/envs/k8qa_autodsml2/lib/python3.10/site-packages/o9lshelpers/O9UploadOperator.py:108\u001b[0m, in \u001b[0;36mO9UploadOperator.execute\u001b[0;34m(self, file_path)\u001b[0m\n\u001b[1;32m    105\u001b[0m response \u001b[38;5;241m=\u001b[39m O9ExecuteQuery(query\u001b[38;5;241m=\u001b[39mupload_query, is_async\u001b[38;5;241m=\u001b[39m\u001b[38;5;28mself\u001b[39m\u001b[38;5;241m.\u001b[39mis_async, logger\u001b[38;5;241m=\u001b[39m\u001b[38;5;28mself\u001b[39m\u001b[38;5;241m.\u001b[39mlogger)\u001b[38;5;241m.\u001b[39mexecute()\n\u001b[1;32m    107\u001b[0m \u001b[38;5;66;03m# Response is JSON object enclosed double strings, and the Result itself is also JSON in a string\u001b[39;00m\n\u001b[0;32m--> 108\u001b[0m upload_response_for_files \u001b[38;5;241m=\u001b[39m json\u001b[38;5;241m.\u001b[39mloads(\u001b[43mjson\u001b[49m\u001b[38;5;241;43m.\u001b[39;49m\u001b[43mloads\u001b[49m\u001b[43m(\u001b[49m\u001b[43mjson\u001b[49m\u001b[38;5;241;43m.\u001b[39;49m\u001b[43mloads\u001b[49m\u001b[43m(\u001b[49m\u001b[43mresponse\u001b[49m\u001b[43m)\u001b[49m\u001b[43m)\u001b[49m[\u001b[38;5;124m\"\u001b[39m\u001b[38;5;124mResult\u001b[39m\u001b[38;5;124m\"\u001b[39m])\n\u001b[1;32m    109\u001b[0m \u001b[38;5;28;01mtry\u001b[39;00m:\n\u001b[1;32m    110\u001b[0m     \u001b[38;5;28mself\u001b[39m\u001b[38;5;241m.\u001b[39mclear_sys_err_handler()\n",
      "File \u001b[0;32m/opt/conda/envs/k8qa_autodsml2/lib/python3.10/json/__init__.py:339\u001b[0m, in \u001b[0;36mloads\u001b[0;34m(s, cls, object_hook, parse_float, parse_int, parse_constant, object_pairs_hook, **kw)\u001b[0m\n\u001b[1;32m    337\u001b[0m \u001b[38;5;28;01melse\u001b[39;00m:\n\u001b[1;32m    338\u001b[0m     \u001b[38;5;28;01mif\u001b[39;00m \u001b[38;5;129;01mnot\u001b[39;00m \u001b[38;5;28misinstance\u001b[39m(s, (\u001b[38;5;28mbytes\u001b[39m, \u001b[38;5;28mbytearray\u001b[39m)):\n\u001b[0;32m--> 339\u001b[0m         \u001b[38;5;28;01mraise\u001b[39;00m \u001b[38;5;167;01mTypeError\u001b[39;00m(\u001b[38;5;124mf\u001b[39m\u001b[38;5;124m'\u001b[39m\u001b[38;5;124mthe JSON object must be str, bytes or bytearray, \u001b[39m\u001b[38;5;124m'\u001b[39m\n\u001b[1;32m    340\u001b[0m                         \u001b[38;5;124mf\u001b[39m\u001b[38;5;124m'\u001b[39m\u001b[38;5;124mnot \u001b[39m\u001b[38;5;132;01m{\u001b[39;00ms\u001b[38;5;241m.\u001b[39m\u001b[38;5;18m__class__\u001b[39m\u001b[38;5;241m.\u001b[39m\u001b[38;5;18m__name__\u001b[39m\u001b[38;5;132;01m}\u001b[39;00m\u001b[38;5;124m'\u001b[39m)\n\u001b[1;32m    341\u001b[0m     s \u001b[38;5;241m=\u001b[39m s\u001b[38;5;241m.\u001b[39mdecode(detect_encoding(s), \u001b[38;5;124m'\u001b[39m\u001b[38;5;124msurrogatepass\u001b[39m\u001b[38;5;124m'\u001b[39m)\n\u001b[1;32m    343\u001b[0m \u001b[38;5;28;01mif\u001b[39;00m (\u001b[38;5;28mcls\u001b[39m \u001b[38;5;129;01mis\u001b[39;00m \u001b[38;5;28;01mNone\u001b[39;00m \u001b[38;5;129;01mand\u001b[39;00m object_hook \u001b[38;5;129;01mis\u001b[39;00m \u001b[38;5;28;01mNone\u001b[39;00m \u001b[38;5;129;01mand\u001b[39;00m\n\u001b[1;32m    344\u001b[0m         parse_int \u001b[38;5;129;01mis\u001b[39;00m \u001b[38;5;28;01mNone\u001b[39;00m \u001b[38;5;129;01mand\u001b[39;00m parse_float \u001b[38;5;129;01mis\u001b[39;00m \u001b[38;5;28;01mNone\u001b[39;00m \u001b[38;5;129;01mand\u001b[39;00m\n\u001b[1;32m    345\u001b[0m         parse_constant \u001b[38;5;129;01mis\u001b[39;00m \u001b[38;5;28;01mNone\u001b[39;00m \u001b[38;5;129;01mand\u001b[39;00m object_pairs_hook \u001b[38;5;129;01mis\u001b[39;00m \u001b[38;5;28;01mNone\u001b[39;00m \u001b[38;5;129;01mand\u001b[39;00m \u001b[38;5;129;01mnot\u001b[39;00m kw):\n",
      "\u001b[0;31mTypeError\u001b[0m: the JSON object must be str, bytes or bytearray, not dict"
     ]
    }
   ],
   "source": [
    "#pushing outputs to DataLake\n",
    "O9DataLake.put('out_df1', sales)"
   ]
  }
 ],
 "metadata": {
  "kernelspec": {
   "display_name": "[autodsml2] Tenant Conda Environment",
   "language": "python",
   "name": "k8qa_autodsml2"
  },
  "language_info": {
   "codemirror_mode": {
    "name": "ipython",
    "version": 3
   },
   "file_extension": ".py",
   "mimetype": "text/x-python",
   "name": "python",
   "nbconvert_exporter": "python",
   "pygments_lexer": "ipython3",
   "version": "3.10.5"
  }
 },
 "nbformat": 4,
 "nbformat_minor": 5
}
