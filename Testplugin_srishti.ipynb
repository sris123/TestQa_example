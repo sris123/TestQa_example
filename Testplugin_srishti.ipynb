{
 "cells": [
  {
   "cell_type": "code",
   "execution_count": 8,
   "id": "5d7dfe37-969e-4fd7-8588-d96e02b94716",
   "metadata": {
    "tags": [
     "o9_ignore"
    ]
   },
   "outputs": [],
   "source": [
    "_DPBaseInputs = \"select (Version.[Version Name]*Product.[Product].Filter(#.Name in {[196426]})*Time.FiscalWeek*SalesAccount.[Account]*Location.[Location]*{Measure.[DPSellOutUnitsActuals],Measure.[Mean Pricing Save PCT],Measure.[Placement Count],Measure.[Promotion Count],Measure.[DPSellOutPrice]});\"\n",
    "\n",
    "from o9_common_utils.O9DataLake import O9DataLake, ResourceType, DataSource,PluginSetting\n",
    "\n",
    "DPBaseInputs = O9DataLake.register(\"DPBaseInputs\",data_source = DataSource.LS, entity_type = ResourceType.IBPL, query = _DPBaseInputs,plugin_setting = PluginSetting.Inputs)\n",
    "O9DataLake.register(\"Product.[Product]\", data_source = DataSource.LS, entity_type = ResourceType.IBPL,plugin_setting = PluginSetting.SliceDimension)\n",
    "\n",
    "O9DataLake.register(\"out_df\",data_source = DataSource.LS,entity_type = ResourceType.IBPL,plugin_setting = PluginSetting.Outputs)\n",
    "script_params = O9DataLake.register({\"sp1\":\"val1\",\"sp2\":\"10\"}, data_source = DataSource.LS,plugin_setting = PluginSetting.ScriptParam)"
   ]
  },
  {
   "cell_type": "code",
   "execution_count": null,
   "id": "53f06533-a62c-4834-9f45-cb9ccb5e5f2e",
   "metadata": {},
   "outputs": [],
   "source": [
    "#getting inputs from DataLake\n",
    "dpbaseinputs = O9DataLake.get('DPBaseInputs')"
   ]
  },
  {
   "cell_type": "code",
   "execution_count": null,
   "id": "a2ffafd4-72ea-40a5-8fa8-41c22b73c253",
   "metadata": {
    "tags": [
     "o9_ignore"
    ]
   },
   "outputs": [],
   "source": [
    "dpbaseinputs"
   ]
  },
  {
   "cell_type": "code",
   "execution_count": null,
   "id": "b961333f-40c0-435e-b859-0e4d4a296284",
   "metadata": {},
   "outputs": [],
   "source": [
    "#user script\n",
    "import logging\n",
    "out_df = None\n",
    "logger = logging.getLogger('o9_logger')\n",
    "logger.info(\"python Session\")\n",
    "logger.error(f'DPBaseInputs {DPBaseInputs.shape}')\n",
    "logger.debug('Debug logs')"
   ]
  },
  {
   "cell_type": "code",
   "execution_count": null,
   "id": "8914c7c4-19a0-4968-8df2-b348dd12db7c",
   "metadata": {},
   "outputs": [],
   "source": [
    "Sp = O9DataLake.get_script_param(\"sp1\")\n",
    "Sp2 = O9DataLake.get_script_param(\"sp2\")"
   ]
  },
  {
   "cell_type": "code",
   "execution_count": null,
   "id": "13f48f89-5479-4764-8742-b01f020f4e38",
   "metadata": {},
   "outputs": [],
   "source": [
    "logger.info(\"SPvalue =  {}...\".format(Sp))\n",
    "logger.info(\"SP2value =  {}...\".format(Sp2))"
   ]
  },
  {
   "cell_type": "code",
   "execution_count": null,
   "id": "a22629ec-7b39-46ff-a35d-39cfc2218718",
   "metadata": {},
   "outputs": [],
   "source": [
    "#pushing outputs to DataLake\n",
    "O9DataLake.put('out_df', dpbaseinputs)"
   ]
  }
 ],
 "metadata": {
  "id": "1f32abb7-0fd4-4067-ba1b-ba084587d8a9",
  "kernelspec": {
   "display_name": "[pyplatformhivetest] Tenant Conda Environment",
   "language": "python",
   "name": "k8qa_pyplatformhivetest"
  },
  "language_info": {
   "codemirror_mode": {
    "name": "ipython",
    "version": 3
   },
   "file_extension": ".py",
   "mimetype": "text/x-python",
   "name": "python",
   "nbconvert_exporter": "python",
   "pygments_lexer": "ipython3",
   "version": "3.7.10"
  }
 },
 "nbformat": 4,
 "nbformat_minor": 5
}
