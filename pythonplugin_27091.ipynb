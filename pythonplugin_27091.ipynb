{
 "cells": [
  {
   "cell_type": "code",
   "execution_count": 3,
   "id": "f77c3792-899b-4920-aa9f-53faf7ad0813",
   "metadata": {},
   "outputs": [],
   "source": [
    "_DPBaseInputs = \"select (Version.[Version Name]*Product.[Product].Filter(#.Name in {[196426],[208821]})*Time.FiscalWeek*SalesAccount.[Account]*Location.[Location]*{Measure.[DPSellOutUnitsActuals],Measure.[Mean Pricing Save PCT],Measure.[Placement Count],Measure.[Promotion Count],Measure.[DPSellOutPrice]});\"\n",
    "\n",
    "from o9_common_utils.O9DataLake import O9DataLake, ResourceType, DataSource,PluginSetting\n",
    "\n",
    "DPBaseInputs = O9DataLake.register(\"DPBaseInputs\",data_source = DataSource.LS, entity_type = ResourceType.IBPL, query = _DPBaseInputs,plugin_setting = PluginSetting.Inputs)\n",
    "O9DataLake.register(\"Product.[Product]\", data_source = DataSource.LS, entity_type = ResourceType.IBPL,plugin_setting = PluginSetting.SliceDimension)\n",
    "\n",
    "O9DataLake.register(\"out_df\",data_source = DataSource.LS,entity_type = ResourceType.IBPL,plugin_setting = PluginSetting.Outputs)\n",
    "script_params = O9DataLake.register({}, data_source = DataSource.LS,plugin_setting = PluginSetting.ScriptParam)"
   ]
  },
  {
   "cell_type": "code",
   "execution_count": 8,
   "id": "097acf03-9d15-4221-9fca-a673d4309008",
   "metadata": {},
   "outputs": [],
   "source": [
    "#getting inputs from DataLake\n",
    "dpbaseinputs = O9DataLake.get('DPBaseInputs')"
   ]
  },
  {
   "cell_type": "code",
   "execution_count": 6,
   "id": "224a6ba3-f6f4-47b5-a8b0-3a39e3fc2073",
   "metadata": {},
   "outputs": [
    {
     "name": "stdout",
     "output_type": "stream",
     "text": [
      "2023-09-27 14:28:48,968 - o9_logger - INFO  - python Session\n",
      "2023-09-27 14:28:48,969 - o9_logger - ERROR  - DPBaseInputs (334, 10)\n",
      "2023-09-27 14:28:48,969 - o9_logger - DEBUG  - Debug logs\n"
     ]
    }
   ],
   "source": [
    "#user script\n",
    "import logging\n",
    "out_df = None\n",
    "logger = logging.getLogger('o9_logger')\n",
    "logger.info(\"python Session\")\n",
    "logger.error(f'DPBaseInputs {DPBaseInputs.shape}')\n",
    "logger.debug('Debug logs')"
   ]
  },
  {
   "cell_type": "code",
   "execution_count": 9,
   "id": "81315e2e-3f2c-4991-ac83-de31adab26be",
   "metadata": {},
   "outputs": [
    {
     "name": "stderr",
     "output_type": "stream",
     "text": [
      "INFO:o9_sys_logger:{'FileName': 'Fact.out_df.csv', 'SheetName': 'Fact.out_df.csv', 'TotalRows': 334, 'ProcessedRows': 334, 'Status': 'Success', 'Messages': ['Total Rows: [334]. Successfully Processed Rows: [334].'], 'FileId': 's3://shPxeDczzH_rYcWpURBdZxRdABiRcGn0jvMtLN3cqCVx-_6CrdnK3rhH7niehro_l9iNrPux1BlDo3-7miJk3upEOYs11BYujWhNrZBeK4E1'}\n"
     ]
    }
   ],
   "source": [
    "#pushing outputs to DataLake\n",
    "O9DataLake.put('out_df', dpbaseinputs)"
   ]
  },
  {
   "cell_type": "code",
   "execution_count": null,
   "id": "654cd5d2-c2b3-4b1e-96a4-fdb258cfb5e5",
   "metadata": {},
   "outputs": [],
   "source": []
  }
 ],
 "metadata": {
  "kernelspec": {
   "display_name": "[pyplatformhivetest] Tenant Conda Environment",
   "language": "python",
   "name": "k8qa_pyplatformhivetest"
  },
  "language_info": {
   "codemirror_mode": {
    "name": "ipython",
    "version": 3
   },
   "file_extension": ".py",
   "mimetype": "text/x-python",
   "name": "python",
   "nbconvert_exporter": "python",
   "pygments_lexer": "ipython3",
   "version": "3.7.10"
  }
 },
 "nbformat": 4,
 "nbformat_minor": 5
}
