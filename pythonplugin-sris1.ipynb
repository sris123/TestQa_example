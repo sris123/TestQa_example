{
 "cells": [
  {
   "cell_type": "code",
   "execution_count": 4,
   "id": "f20a2e38-65a9-40a4-a2ca-bc525d6dcb38",
   "metadata": {},
   "outputs": [
    {
     "name": "stdout",
     "output_type": "stream",
     "text": [
      "INFO:root:IbplClient: WebApi Request Url = [https://mygenieazure.o9solutions.com/api/ibplquery/5502/ExecuteCompactJsonQuery]\n",
      "DEBUG:urllib3.connectionpool:Starting new HTTPS connection (1): mygenieazure.o9solutions.com:443\n",
      "DEBUG:urllib3.connectionpool:https://mygenieazure.o9solutions.com:443 \"POST /api/ibplquery/5502/ExecuteCompactJsonQuery HTTP/1.1\" 200 None\n",
      "INFO:root:IbplClient: WebApi Request Url = [https://mygenieazure.o9solutions.com/api/ibplquery/5502/ExecuteCompactJsonQuery]\n",
      "DEBUG:urllib3.connectionpool:Starting new HTTPS connection (1): mygenieazure.o9solutions.com:443\n",
      "DEBUG:urllib3.connectionpool:https://mygenieazure.o9solutions.com:443 \"POST /api/ibplquery/5502/ExecuteCompactJsonQuery HTTP/1.1\" 200 None\n",
      "INFO:root:IbplClient: WebApi Request Url = [https://mygenieazure.o9solutions.com/api/ibplquery/5502/ExecuteCompactJsonQuery]\n",
      "DEBUG:urllib3.connectionpool:Starting new HTTPS connection (1): mygenieazure.o9solutions.com:443\n",
      "DEBUG:urllib3.connectionpool:https://mygenieazure.o9solutions.com:443 \"POST /api/ibplquery/5502/ExecuteCompactJsonQuery HTTP/1.1\" 200 None\n",
      "INFO:root:IbplClient: WebApi Request Url = [https://mygenieazure.o9solutions.com/api/ibplquery/5502/ExecuteCompactJsonQuery]\n",
      "DEBUG:urllib3.connectionpool:Starting new HTTPS connection (1): mygenieazure.o9solutions.com:443\n",
      "DEBUG:urllib3.connectionpool:https://mygenieazure.o9solutions.com:443 \"POST /api/ibplquery/5502/ExecuteCompactJsonQuery HTTP/1.1\" 200 None\n"
     ]
    }
   ],
   "source": [
    "\n",
    "_sales_df = \"select (Version.[Version Name]);\"\n",
    "_DPBaseInputs = \"select (Version.[Version Name]);\"\n",
    "\n",
    "from o9_common_utils.O9DataLake import O9DataLake, ResourceType, DataSource\n",
    "sales_df = O9DataLake.register(\"sales_df\",DataSource.LS, ResourceType.IBPL, _sales_df) \n",
    "DPBaseInputs = O9DataLake.register(\"DPBaseInputs\",DataSource.LS, ResourceType.IBPL, _DPBaseInputs)"
   ]
  },
  {
   "cell_type": "code",
   "execution_count": 5,
   "id": "52036a03-60d8-4614-8de0-475181efde95",
   "metadata": {},
   "outputs": [
    {
     "data": {
      "text/html": [
       "<div>\n",
       "<style scoped>\n",
       "    .dataframe tbody tr th:only-of-type {\n",
       "        vertical-align: middle;\n",
       "    }\n",
       "\n",
       "    .dataframe tbody tr th {\n",
       "        vertical-align: top;\n",
       "    }\n",
       "\n",
       "    .dataframe thead th {\n",
       "        text-align: right;\n",
       "    }\n",
       "</style>\n",
       "<table border=\"1\" class=\"dataframe\">\n",
       "  <thead>\n",
       "    <tr style=\"text-align: right;\">\n",
       "      <th></th>\n",
       "      <th>Version.[Version Name]</th>\n",
       "    </tr>\n",
       "  </thead>\n",
       "  <tbody>\n",
       "    <tr>\n",
       "      <th>0</th>\n",
       "      <td>CurrentWorkingView</td>\n",
       "    </tr>\n",
       "    <tr>\n",
       "      <th>1</th>\n",
       "      <td>S1</td>\n",
       "    </tr>\n",
       "    <tr>\n",
       "      <th>2</th>\n",
       "      <td>S2</td>\n",
       "    </tr>\n",
       "  </tbody>\n",
       "</table>\n",
       "</div>"
      ],
      "text/plain": [
       "  Version.[Version Name]\n",
       "0     CurrentWorkingView\n",
       "1                     S1\n",
       "2                     S2"
      ]
     },
     "execution_count": 5,
     "metadata": {},
     "output_type": "execute_result"
    }
   ],
   "source": [
    "sales_df"
   ]
  },
  {
   "cell_type": "code",
   "execution_count": 3,
   "id": "cdd7df16-59e7-42b6-b48e-171a961ec699",
   "metadata": {},
   "outputs": [
    {
     "name": "stdout",
     "output_type": "stream",
     "text": [
      "INFO:o9_logger:Records count in sales dataframe : (3, 1)\n",
      "INFO:o9_logger:Records count in DPBaseInputs dataframe : (3, 1)\n",
      "WARNING:o9_logger:Hello warning\n",
      "ERROR:o9_logger:Hello error\n",
      "INFO:o9_logger:execution done\n"
     ]
    }
   ],
   "source": [
    "import logging\n",
    "out_df1 = None\n",
    "logger = logging.getLogger('o9_logger')\n",
    "logger.info(f'Records count in sales dataframe : {sales_df.shape}')\n",
    "logger.info(f'Records count in DPBaseInputs dataframe : {DPBaseInputs.shape}')\n",
    "logger.warning(\"Hello warning\")\n",
    "logger.error(\"Hello error\")\n",
    "logger.info(\"execution done\")\n",
    "\n",
    "#pushing output to the DataLake\n",
    "O9DataLake.put('out_df1',sales_df)"
   ]
  },
  {
   "cell_type": "code",
   "execution_count": null,
   "id": "ad0aa356-65d2-4081-93b2-02e9266aa01a",
   "metadata": {},
   "outputs": [],
   "source": []
  }
 ],
 "metadata": {
  "kernelspec": {
   "display_name": "[pyplatformhivetest] Tenant Conda Environment",
   "language": "python",
   "name": "genieaz_pyplatformhivetest"
  },
  "language_info": {
   "codemirror_mode": {
    "name": "ipython",
    "version": 3
   },
   "file_extension": ".py",
   "mimetype": "text/x-python",
   "name": "python",
   "nbconvert_exporter": "python",
   "pygments_lexer": "ipython3",
   "version": "3.7.10"
  }
 },
 "nbformat": 4,
 "nbformat_minor": 5
}
